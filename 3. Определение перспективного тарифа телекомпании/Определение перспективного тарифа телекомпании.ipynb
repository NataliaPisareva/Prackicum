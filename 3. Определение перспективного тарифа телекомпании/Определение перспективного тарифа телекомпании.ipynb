{
 "cells": [
  {
   "cell_type": "markdown",
   "metadata": {},
   "source": [
    "**Описание проекта**\n",
    "\n",
    "Компания «Мегалайн» — федеральный оператор сотовой связи.\n",
    "Клиентам предлагают два тарифных плана: «Смарт» и «Ультра».\n",
    "Чтобы скорректировать рекламный бюджет, коммерческий департамент хочет понять, какой тариф приносит больше денег.\n",
    "Необходимо сделать предварительный анализ тарифов на небольшой выборке клиентов. \n",
    "Нужно проанализировать поведение клиентов и сделать вывод — какой тариф лучше.\n"
   ]
  },
  {
   "cell_type": "markdown",
   "metadata": {},
   "source": [
    "*Описание тарифов*\n",
    "\n",
    "Тариф «Смарт»\n",
    "1.\tЕжемесячная плата: 550 рублей\n",
    "2.\tВключено 500 минут разговора, 50 сообщений и 15 Гб интернет-трафика\n",
    "3.\tСтоимость услуг сверх тарифного пакета:\n",
    "o\tминута разговора: 3 рубля\n",
    "o\tсообщение: 3 рубля\n",
    "o\t1 Гб интернет-трафика: 200 рублей\n",
    "\n",
    "Тариф «Ультра»\n",
    "1.\tЕжемесячная плата: 1950 рублей\n",
    "2.\tВключено 3000 минут разговора, 1000 сообщений и 30 Гб интернет-трафика\n",
    "3.\tСтоимость услуг сверх тарифного пакета:\n",
    "o\tминута разговора: 1 рубль\n",
    "o\tсообщение: 1 рубль\n",
    "o\t1 Гб интернет-трафика: 150 рублей\n",
    "\n",
    "Примечание:\n",
    "\n",
    "«Мегалайн» всегда округляет секунды до минут, а мегабайты — до гигабайт. Каждый звонок округляется отдельно: даже если он длился всего 1 секунду, будет засчитан как 1 минута.\n",
    "Для веб-трафика отдельные сессии не считаются. Вместо этого общая сумма за месяц округляется в бо́льшую сторону. Если абонент использует 1025 мегабайт в этом месяце, с него возьмут плату за 2 гигабайта.\n"
   ]
  },
  {
   "cell_type": "markdown",
   "metadata": {},
   "source": [
    "**1. Изучение исходных данных**"
   ]
  },
  {
   "cell_type": "code",
   "execution_count": 1,
   "metadata": {},
   "outputs": [],
   "source": [
    "import pandas as pd # импорт библиотек\n",
    "import numpy as np\n",
    "import math"
   ]
  },
  {
   "cell_type": "code",
   "execution_count": 2,
   "metadata": {},
   "outputs": [
    {
     "data": {
      "text/html": [
       "<div>\n",
       "<style scoped>\n",
       "    .dataframe tbody tr th:only-of-type {\n",
       "        vertical-align: middle;\n",
       "    }\n",
       "\n",
       "    .dataframe tbody tr th {\n",
       "        vertical-align: top;\n",
       "    }\n",
       "\n",
       "    .dataframe thead th {\n",
       "        text-align: right;\n",
       "    }\n",
       "</style>\n",
       "<table border=\"1\" class=\"dataframe\">\n",
       "  <thead>\n",
       "    <tr style=\"text-align: right;\">\n",
       "      <th></th>\n",
       "      <th>id</th>\n",
       "      <th>call_date</th>\n",
       "      <th>duration</th>\n",
       "      <th>user_id</th>\n",
       "    </tr>\n",
       "  </thead>\n",
       "  <tbody>\n",
       "    <tr>\n",
       "      <td>0</td>\n",
       "      <td>1000_0</td>\n",
       "      <td>2018-07-25</td>\n",
       "      <td>0.00</td>\n",
       "      <td>1000</td>\n",
       "    </tr>\n",
       "    <tr>\n",
       "      <td>1</td>\n",
       "      <td>1000_1</td>\n",
       "      <td>2018-08-17</td>\n",
       "      <td>0.00</td>\n",
       "      <td>1000</td>\n",
       "    </tr>\n",
       "    <tr>\n",
       "      <td>2</td>\n",
       "      <td>1000_2</td>\n",
       "      <td>2018-06-11</td>\n",
       "      <td>2.85</td>\n",
       "      <td>1000</td>\n",
       "    </tr>\n",
       "    <tr>\n",
       "      <td>3</td>\n",
       "      <td>1000_3</td>\n",
       "      <td>2018-09-21</td>\n",
       "      <td>13.80</td>\n",
       "      <td>1000</td>\n",
       "    </tr>\n",
       "    <tr>\n",
       "      <td>4</td>\n",
       "      <td>1000_4</td>\n",
       "      <td>2018-12-15</td>\n",
       "      <td>5.18</td>\n",
       "      <td>1000</td>\n",
       "    </tr>\n",
       "  </tbody>\n",
       "</table>\n",
       "</div>"
      ],
      "text/plain": [
       "       id   call_date  duration  user_id\n",
       "0  1000_0  2018-07-25      0.00     1000\n",
       "1  1000_1  2018-08-17      0.00     1000\n",
       "2  1000_2  2018-06-11      2.85     1000\n",
       "3  1000_3  2018-09-21     13.80     1000\n",
       "4  1000_4  2018-12-15      5.18     1000"
      ]
     },
     "metadata": {},
     "output_type": "display_data"
    },
    {
     "name": "stdout",
     "output_type": "stream",
     "text": [
      "<class 'pandas.core.frame.DataFrame'>\n",
      "RangeIndex: 202607 entries, 0 to 202606\n",
      "Data columns (total 4 columns):\n",
      "id           202607 non-null object\n",
      "call_date    202607 non-null object\n",
      "duration     202607 non-null float64\n",
      "user_id      202607 non-null int64\n",
      "dtypes: float64(1), int64(1), object(2)\n",
      "memory usage: 6.2+ MB\n"
     ]
    },
    {
     "data": {
      "text/plain": [
       "id           0\n",
       "call_date    0\n",
       "duration     0\n",
       "user_id      0\n",
       "dtype: int64"
      ]
     },
     "execution_count": 2,
     "metadata": {},
     "output_type": "execute_result"
    }
   ],
   "source": [
    "df_calls = pd.read_csv('/datasets/calls.csv') # вывод таблицы данных по звонкам пользователей\n",
    "display(df_calls.head())\n",
    "df_calls.info()\n",
    "df_calls.isna().sum() # вывод количества пропусков"
   ]
  },
  {
   "cell_type": "code",
   "execution_count": 3,
   "metadata": {},
   "outputs": [
    {
     "data": {
      "text/plain": [
       "1377    1760\n",
       "1168    1692\n",
       "1375    1560\n",
       "1453    1440\n",
       "1196    1240\n",
       "        ... \n",
       "1397      33\n",
       "1442      28\n",
       "1373      24\n",
       "1016      20\n",
       "1257      14\n",
       "Name: user_id, Length: 492, dtype: int64"
      ]
     },
     "execution_count": 3,
     "metadata": {},
     "output_type": "execute_result"
    }
   ],
   "source": [
    "df_calls['user_id'].value_counts()"
   ]
  },
  {
   "cell_type": "markdown",
   "metadata": {},
   "source": [
    "•\t*id — уникальный номер звонка*\n",
    "\n",
    "•\t*call_date — дата звонка*\n",
    "\n",
    "•\t*duration — длительность звонка в минутах*\n",
    "\n",
    "•\t*user_id — идентификатор пользователя, сделавшего звонок*\n"
   ]
  },
  {
   "cell_type": "markdown",
   "metadata": {},
   "source": [
    "По данной таблице необходимо:\n",
    "1. округлить минуты до целочисленного типа\n",
    "2. дату привести к типу данных \"datetime\"\n",
    "3. добавить новый столбец \"месяц\"\n",
    "4. удалить явные дубликаты\n"
   ]
  },
  {
   "cell_type": "code",
   "execution_count": 4,
   "metadata": {
    "scrolled": false
   },
   "outputs": [
    {
     "data": {
      "text/html": [
       "<div>\n",
       "<style scoped>\n",
       "    .dataframe tbody tr th:only-of-type {\n",
       "        vertical-align: middle;\n",
       "    }\n",
       "\n",
       "    .dataframe tbody tr th {\n",
       "        vertical-align: top;\n",
       "    }\n",
       "\n",
       "    .dataframe thead th {\n",
       "        text-align: right;\n",
       "    }\n",
       "</style>\n",
       "<table border=\"1\" class=\"dataframe\">\n",
       "  <thead>\n",
       "    <tr style=\"text-align: right;\">\n",
       "      <th></th>\n",
       "      <th>Unnamed: 0</th>\n",
       "      <th>id</th>\n",
       "      <th>mb_used</th>\n",
       "      <th>session_date</th>\n",
       "      <th>user_id</th>\n",
       "    </tr>\n",
       "  </thead>\n",
       "  <tbody>\n",
       "    <tr>\n",
       "      <td>0</td>\n",
       "      <td>0</td>\n",
       "      <td>1000_0</td>\n",
       "      <td>112.95</td>\n",
       "      <td>2018-11-25</td>\n",
       "      <td>1000</td>\n",
       "    </tr>\n",
       "    <tr>\n",
       "      <td>1</td>\n",
       "      <td>1</td>\n",
       "      <td>1000_1</td>\n",
       "      <td>1052.81</td>\n",
       "      <td>2018-09-07</td>\n",
       "      <td>1000</td>\n",
       "    </tr>\n",
       "    <tr>\n",
       "      <td>2</td>\n",
       "      <td>2</td>\n",
       "      <td>1000_2</td>\n",
       "      <td>1197.26</td>\n",
       "      <td>2018-06-25</td>\n",
       "      <td>1000</td>\n",
       "    </tr>\n",
       "    <tr>\n",
       "      <td>3</td>\n",
       "      <td>3</td>\n",
       "      <td>1000_3</td>\n",
       "      <td>550.27</td>\n",
       "      <td>2018-08-22</td>\n",
       "      <td>1000</td>\n",
       "    </tr>\n",
       "    <tr>\n",
       "      <td>4</td>\n",
       "      <td>4</td>\n",
       "      <td>1000_4</td>\n",
       "      <td>302.56</td>\n",
       "      <td>2018-09-24</td>\n",
       "      <td>1000</td>\n",
       "    </tr>\n",
       "  </tbody>\n",
       "</table>\n",
       "</div>"
      ],
      "text/plain": [
       "   Unnamed: 0      id  mb_used session_date  user_id\n",
       "0           0  1000_0   112.95   2018-11-25     1000\n",
       "1           1  1000_1  1052.81   2018-09-07     1000\n",
       "2           2  1000_2  1197.26   2018-06-25     1000\n",
       "3           3  1000_3   550.27   2018-08-22     1000\n",
       "4           4  1000_4   302.56   2018-09-24     1000"
      ]
     },
     "metadata": {},
     "output_type": "display_data"
    },
    {
     "name": "stdout",
     "output_type": "stream",
     "text": [
      "<class 'pandas.core.frame.DataFrame'>\n",
      "RangeIndex: 149396 entries, 0 to 149395\n",
      "Data columns (total 5 columns):\n",
      "Unnamed: 0      149396 non-null int64\n",
      "id              149396 non-null object\n",
      "mb_used         149396 non-null float64\n",
      "session_date    149396 non-null object\n",
      "user_id         149396 non-null int64\n",
      "dtypes: float64(1), int64(2), object(2)\n",
      "memory usage: 5.7+ MB\n"
     ]
    },
    {
     "data": {
      "text/plain": [
       "Unnamed: 0      0\n",
       "id              0\n",
       "mb_used         0\n",
       "session_date    0\n",
       "user_id         0\n",
       "dtype: int64"
      ]
     },
     "execution_count": 4,
     "metadata": {},
     "output_type": "execute_result"
    }
   ],
   "source": [
    "df_internet = pd.read_csv('/datasets/internet.csv') # вывод таблицы данных по интернет-трафику пользователей\n",
    "display(df_internet.head())\n",
    "df_internet.info()\n",
    "df_internet.isna().sum()"
   ]
  },
  {
   "cell_type": "code",
   "execution_count": 5,
   "metadata": {},
   "outputs": [
    {
     "data": {
      "text/plain": [
       "1496    834\n",
       "1227    812\n",
       "1204    789\n",
       "1240    764\n",
       "1251    759\n",
       "       ... \n",
       "1151     35\n",
       "1467     27\n",
       "1343     26\n",
       "1192     22\n",
       "1399      8\n",
       "Name: user_id, Length: 497, dtype: int64"
      ]
     },
     "execution_count": 5,
     "metadata": {},
     "output_type": "execute_result"
    }
   ],
   "source": [
    "df_internet['user_id'].value_counts()"
   ]
  },
  {
   "cell_type": "markdown",
   "metadata": {},
   "source": [
    "•\t*id — уникальный номер сессии*\n",
    "\n",
    "•\t*mb_used — объём потраченного за сессию интернет-трафика (в мегабайтах)*\n",
    "\n",
    "•\t*session_date — дата интернет-сессии*\n",
    "\n",
    "•\t*user_id — идентификатор пользователя*\n"
   ]
  },
  {
   "cell_type": "markdown",
   "metadata": {},
   "source": [
    "По данной таблице необходимо:\n",
    "1. удалить столбец \"Unnamed: 0\"\n",
    "2. дату привести к типу данных \"datetime\"\n",
    "3. добавить новый столбец \"месяц\"\n",
    "4. удалить явные дубликаты"
   ]
  },
  {
   "cell_type": "code",
   "execution_count": 6,
   "metadata": {},
   "outputs": [
    {
     "data": {
      "text/html": [
       "<div>\n",
       "<style scoped>\n",
       "    .dataframe tbody tr th:only-of-type {\n",
       "        vertical-align: middle;\n",
       "    }\n",
       "\n",
       "    .dataframe tbody tr th {\n",
       "        vertical-align: top;\n",
       "    }\n",
       "\n",
       "    .dataframe thead th {\n",
       "        text-align: right;\n",
       "    }\n",
       "</style>\n",
       "<table border=\"1\" class=\"dataframe\">\n",
       "  <thead>\n",
       "    <tr style=\"text-align: right;\">\n",
       "      <th></th>\n",
       "      <th>id</th>\n",
       "      <th>message_date</th>\n",
       "      <th>user_id</th>\n",
       "    </tr>\n",
       "  </thead>\n",
       "  <tbody>\n",
       "    <tr>\n",
       "      <td>0</td>\n",
       "      <td>1000_0</td>\n",
       "      <td>2018-06-27</td>\n",
       "      <td>1000</td>\n",
       "    </tr>\n",
       "    <tr>\n",
       "      <td>1</td>\n",
       "      <td>1000_1</td>\n",
       "      <td>2018-10-08</td>\n",
       "      <td>1000</td>\n",
       "    </tr>\n",
       "    <tr>\n",
       "      <td>2</td>\n",
       "      <td>1000_2</td>\n",
       "      <td>2018-08-04</td>\n",
       "      <td>1000</td>\n",
       "    </tr>\n",
       "    <tr>\n",
       "      <td>3</td>\n",
       "      <td>1000_3</td>\n",
       "      <td>2018-06-16</td>\n",
       "      <td>1000</td>\n",
       "    </tr>\n",
       "    <tr>\n",
       "      <td>4</td>\n",
       "      <td>1000_4</td>\n",
       "      <td>2018-12-05</td>\n",
       "      <td>1000</td>\n",
       "    </tr>\n",
       "  </tbody>\n",
       "</table>\n",
       "</div>"
      ],
      "text/plain": [
       "       id message_date  user_id\n",
       "0  1000_0   2018-06-27     1000\n",
       "1  1000_1   2018-10-08     1000\n",
       "2  1000_2   2018-08-04     1000\n",
       "3  1000_3   2018-06-16     1000\n",
       "4  1000_4   2018-12-05     1000"
      ]
     },
     "metadata": {},
     "output_type": "display_data"
    },
    {
     "name": "stdout",
     "output_type": "stream",
     "text": [
      "<class 'pandas.core.frame.DataFrame'>\n",
      "RangeIndex: 123036 entries, 0 to 123035\n",
      "Data columns (total 3 columns):\n",
      "id              123036 non-null object\n",
      "message_date    123036 non-null object\n",
      "user_id         123036 non-null int64\n",
      "dtypes: int64(1), object(2)\n",
      "memory usage: 2.8+ MB\n"
     ]
    },
    {
     "data": {
      "text/plain": [
       "id              0\n",
       "message_date    0\n",
       "user_id         0\n",
       "dtype: int64"
      ]
     },
     "execution_count": 6,
     "metadata": {},
     "output_type": "execute_result"
    }
   ],
   "source": [
    "df_messages = pd.read_csv('/datasets/messages.csv') # вывод таблицы данных по количеству сообщений пользователей\n",
    "display(df_messages.head())\n",
    "df_messages.info()\n",
    "df_messages.isna().sum()"
   ]
  },
  {
   "cell_type": "code",
   "execution_count": 7,
   "metadata": {},
   "outputs": [
    {
     "data": {
      "text/plain": [
       "1277    1463\n",
       "1089    1408\n",
       "1231    1384\n",
       "1385    1380\n",
       "1356    1224\n",
       "        ... \n",
       "1389       6\n",
       "1279       5\n",
       "1074       3\n",
       "1159       2\n",
       "1141       1\n",
       "Name: user_id, Length: 426, dtype: int64"
      ]
     },
     "execution_count": 7,
     "metadata": {},
     "output_type": "execute_result"
    }
   ],
   "source": [
    "df_messages['user_id'].value_counts()"
   ]
  },
  {
   "cell_type": "markdown",
   "metadata": {},
   "source": [
    "•\t*id — уникальный номер сообщения*\n",
    "\n",
    "•\t*message_date — дата сообщения*\n",
    "\n",
    "•\t*user_id — идентификатор пользователя, отправившего сообщение*\n"
   ]
  },
  {
   "cell_type": "markdown",
   "metadata": {},
   "source": [
    "По данной таблице необходимо:\n",
    "1. дату привести к типу данных \"datetime\"\n",
    "2. добавить новый столбец \"месяц\"\n",
    "4. удалить явные дубликаты"
   ]
  },
  {
   "cell_type": "code",
   "execution_count": 8,
   "metadata": {},
   "outputs": [
    {
     "data": {
      "text/html": [
       "<div>\n",
       "<style scoped>\n",
       "    .dataframe tbody tr th:only-of-type {\n",
       "        vertical-align: middle;\n",
       "    }\n",
       "\n",
       "    .dataframe tbody tr th {\n",
       "        vertical-align: top;\n",
       "    }\n",
       "\n",
       "    .dataframe thead th {\n",
       "        text-align: right;\n",
       "    }\n",
       "</style>\n",
       "<table border=\"1\" class=\"dataframe\">\n",
       "  <thead>\n",
       "    <tr style=\"text-align: right;\">\n",
       "      <th></th>\n",
       "      <th>messages_included</th>\n",
       "      <th>mb_per_month_included</th>\n",
       "      <th>minutes_included</th>\n",
       "      <th>rub_monthly_fee</th>\n",
       "      <th>rub_per_gb</th>\n",
       "      <th>rub_per_message</th>\n",
       "      <th>rub_per_minute</th>\n",
       "      <th>tariff_name</th>\n",
       "    </tr>\n",
       "  </thead>\n",
       "  <tbody>\n",
       "    <tr>\n",
       "      <td>0</td>\n",
       "      <td>50</td>\n",
       "      <td>15360</td>\n",
       "      <td>500</td>\n",
       "      <td>550</td>\n",
       "      <td>200</td>\n",
       "      <td>3</td>\n",
       "      <td>3</td>\n",
       "      <td>smart</td>\n",
       "    </tr>\n",
       "    <tr>\n",
       "      <td>1</td>\n",
       "      <td>1000</td>\n",
       "      <td>30720</td>\n",
       "      <td>3000</td>\n",
       "      <td>1950</td>\n",
       "      <td>150</td>\n",
       "      <td>1</td>\n",
       "      <td>1</td>\n",
       "      <td>ultra</td>\n",
       "    </tr>\n",
       "  </tbody>\n",
       "</table>\n",
       "</div>"
      ],
      "text/plain": [
       "   messages_included  mb_per_month_included  minutes_included  \\\n",
       "0                 50                  15360               500   \n",
       "1               1000                  30720              3000   \n",
       "\n",
       "   rub_monthly_fee  rub_per_gb  rub_per_message  rub_per_minute tariff_name  \n",
       "0              550         200                3               3       smart  \n",
       "1             1950         150                1               1       ultra  "
      ]
     },
     "metadata": {},
     "output_type": "display_data"
    },
    {
     "name": "stdout",
     "output_type": "stream",
     "text": [
      "<class 'pandas.core.frame.DataFrame'>\n",
      "RangeIndex: 2 entries, 0 to 1\n",
      "Data columns (total 8 columns):\n",
      "messages_included        2 non-null int64\n",
      "mb_per_month_included    2 non-null int64\n",
      "minutes_included         2 non-null int64\n",
      "rub_monthly_fee          2 non-null int64\n",
      "rub_per_gb               2 non-null int64\n",
      "rub_per_message          2 non-null int64\n",
      "rub_per_minute           2 non-null int64\n",
      "tariff_name              2 non-null object\n",
      "dtypes: int64(7), object(1)\n",
      "memory usage: 256.0+ bytes\n"
     ]
    }
   ],
   "source": [
    "df_tariffs = pd.read_csv('/datasets/tariffs.csv') # вывод таблицы данных с параметрами тарифов\n",
    "display(df_tariffs.head())\n",
    "df_tariffs.info()"
   ]
  },
  {
   "cell_type": "markdown",
   "metadata": {},
   "source": [
    "•\t*tariff_name — название тарифа*\n",
    "\n",
    "•\t*rub_monthly_fee — ежемесячная абонентская плата в рублях*\n",
    "\n",
    "•\t*minutes_included — количество минут разговора в месяц, включённых в абонентскую плату*\n",
    "\n",
    "•\t*messages_included — количество сообщений в месяц, включённых в абонентскую плату*\n",
    "\n",
    "•\t*mb_per_month_included — объём интернет-трафика, включённого в абонентскую плату (в мегабайтах)*\n",
    "\n",
    "•\t*rub_per_minute — стоимость минуты разговора сверх тарифного пакета (например, если в тарифе 100 минут разговора в месяц, то со 101 минуты будет взиматься плата)*\n",
    "\n",
    "•\t*rub_per_message — стоимость отправки сообщения сверх тарифного пакета*\n",
    "\n",
    "•\t*rub_per_gb — стоимость дополнительного гигабайта интернет-трафика сверх тарифного пакета (1 гигабайт = 1024 мегабайта)*\n"
   ]
  },
  {
   "cell_type": "code",
   "execution_count": 9,
   "metadata": {},
   "outputs": [
    {
     "data": {
      "text/html": [
       "<div>\n",
       "<style scoped>\n",
       "    .dataframe tbody tr th:only-of-type {\n",
       "        vertical-align: middle;\n",
       "    }\n",
       "\n",
       "    .dataframe tbody tr th {\n",
       "        vertical-align: top;\n",
       "    }\n",
       "\n",
       "    .dataframe thead th {\n",
       "        text-align: right;\n",
       "    }\n",
       "</style>\n",
       "<table border=\"1\" class=\"dataframe\">\n",
       "  <thead>\n",
       "    <tr style=\"text-align: right;\">\n",
       "      <th></th>\n",
       "      <th>user_id</th>\n",
       "      <th>age</th>\n",
       "      <th>churn_date</th>\n",
       "      <th>city</th>\n",
       "      <th>first_name</th>\n",
       "      <th>last_name</th>\n",
       "      <th>reg_date</th>\n",
       "      <th>tariff</th>\n",
       "    </tr>\n",
       "  </thead>\n",
       "  <tbody>\n",
       "    <tr>\n",
       "      <td>0</td>\n",
       "      <td>1000</td>\n",
       "      <td>52</td>\n",
       "      <td>NaN</td>\n",
       "      <td>Краснодар</td>\n",
       "      <td>Рафаил</td>\n",
       "      <td>Верещагин</td>\n",
       "      <td>2018-05-25</td>\n",
       "      <td>ultra</td>\n",
       "    </tr>\n",
       "    <tr>\n",
       "      <td>1</td>\n",
       "      <td>1001</td>\n",
       "      <td>41</td>\n",
       "      <td>NaN</td>\n",
       "      <td>Москва</td>\n",
       "      <td>Иван</td>\n",
       "      <td>Ежов</td>\n",
       "      <td>2018-11-01</td>\n",
       "      <td>smart</td>\n",
       "    </tr>\n",
       "    <tr>\n",
       "      <td>2</td>\n",
       "      <td>1002</td>\n",
       "      <td>59</td>\n",
       "      <td>NaN</td>\n",
       "      <td>Стерлитамак</td>\n",
       "      <td>Евгений</td>\n",
       "      <td>Абрамович</td>\n",
       "      <td>2018-06-17</td>\n",
       "      <td>smart</td>\n",
       "    </tr>\n",
       "    <tr>\n",
       "      <td>3</td>\n",
       "      <td>1003</td>\n",
       "      <td>23</td>\n",
       "      <td>NaN</td>\n",
       "      <td>Москва</td>\n",
       "      <td>Белла</td>\n",
       "      <td>Белякова</td>\n",
       "      <td>2018-08-17</td>\n",
       "      <td>ultra</td>\n",
       "    </tr>\n",
       "    <tr>\n",
       "      <td>4</td>\n",
       "      <td>1004</td>\n",
       "      <td>68</td>\n",
       "      <td>NaN</td>\n",
       "      <td>Новокузнецк</td>\n",
       "      <td>Татьяна</td>\n",
       "      <td>Авдеенко</td>\n",
       "      <td>2018-05-14</td>\n",
       "      <td>ultra</td>\n",
       "    </tr>\n",
       "  </tbody>\n",
       "</table>\n",
       "</div>"
      ],
      "text/plain": [
       "   user_id  age churn_date         city first_name  last_name    reg_date  \\\n",
       "0     1000   52        NaN    Краснодар     Рафаил  Верещагин  2018-05-25   \n",
       "1     1001   41        NaN       Москва       Иван       Ежов  2018-11-01   \n",
       "2     1002   59        NaN  Стерлитамак    Евгений  Абрамович  2018-06-17   \n",
       "3     1003   23        NaN       Москва      Белла   Белякова  2018-08-17   \n",
       "4     1004   68        NaN  Новокузнецк    Татьяна   Авдеенко  2018-05-14   \n",
       "\n",
       "  tariff  \n",
       "0  ultra  \n",
       "1  smart  \n",
       "2  smart  \n",
       "3  ultra  \n",
       "4  ultra  "
      ]
     },
     "metadata": {},
     "output_type": "display_data"
    },
    {
     "name": "stdout",
     "output_type": "stream",
     "text": [
      "<class 'pandas.core.frame.DataFrame'>\n",
      "RangeIndex: 500 entries, 0 to 499\n",
      "Data columns (total 8 columns):\n",
      "user_id       500 non-null int64\n",
      "age           500 non-null int64\n",
      "churn_date    38 non-null object\n",
      "city          500 non-null object\n",
      "first_name    500 non-null object\n",
      "last_name     500 non-null object\n",
      "reg_date      500 non-null object\n",
      "tariff        500 non-null object\n",
      "dtypes: int64(2), object(6)\n",
      "memory usage: 31.4+ KB\n"
     ]
    },
    {
     "data": {
      "text/plain": [
       "array(['Краснодар', 'Москва', 'Стерлитамак', 'Новокузнецк',\n",
       "       'Набережные Челны', 'Ульяновск', 'Челябинск', 'Пермь', 'Тюмень',\n",
       "       'Самара', 'Санкт-Петербург', 'Иваново', 'Чебоксары', 'Омск', 'Уфа',\n",
       "       'Томск', 'Чита', 'Мурманск', 'Петрозаводск', 'Тверь',\n",
       "       'Екатеринбург', 'Махачкала', 'Вологда', 'Череповец', 'Ярославль',\n",
       "       'Сочи', 'Хабаровск', 'Ставрополь', 'Рязань', 'Улан-Удэ', 'Тула',\n",
       "       'Саратов', 'Ростов-на-Дону', 'Казань', 'Иркутск', 'Курск',\n",
       "       'Калуга', 'Якутск', 'Астрахань', 'Химки', 'Владикавказ',\n",
       "       'Волгоград', 'Саранск', 'Ижевск', 'Новосибирск', 'Брянск',\n",
       "       'Тольятти', 'Нижний Тагил', 'Орёл', 'Белгород', 'Воронеж',\n",
       "       'Волжский', 'Курган', 'Барнаул', 'Красноярск', 'Архангельск',\n",
       "       'Липецк', 'Кемерово', 'Киров', 'Сургут', 'Пенза', 'Магнитогорск',\n",
       "       'Нижний Новгород', 'Кострома', 'Владивосток', 'Тамбов', 'Балашиха',\n",
       "       'Севастополь', 'Калининград', 'Оренбург', 'Смоленск',\n",
       "       'Нижневартовск', 'Владимир', 'Новороссийск', 'Грозный', 'Подольск'],\n",
       "      dtype=object)"
      ]
     },
     "execution_count": 9,
     "metadata": {},
     "output_type": "execute_result"
    }
   ],
   "source": [
    "df_users = pd.read_csv('/datasets/users.csv') # вывод таблицы данных с данными пользователей\n",
    "display(df_users.head())\n",
    "df_users.info()\n",
    "df_users.isna().sum()\n",
    "df_users['city'].unique()"
   ]
  },
  {
   "cell_type": "markdown",
   "metadata": {},
   "source": [
    "•\t*user_id — уникальный идентификатор пользователя*\n",
    "\n",
    "•\t*first_name — имя пользователя*\n",
    "\n",
    "•\t*last_name — фамилия пользователя*\n",
    "\n",
    "•\t*age — возраст пользователя (годы)*\n",
    "\n",
    "•\t*reg_date — дата подключения тарифа (день, месяц, год)*\n",
    "\n",
    "•\t*churn_date — дата прекращения пользования тарифом (если значение пропущено, то тариф ещё действовал на момент выгрузки данных)*\n",
    "\n",
    "•\t*city — город проживания пользователя*\n",
    "\n",
    "•\t*tarif — название тарифного плана*\n"
   ]
  },
  {
   "cell_type": "markdown",
   "metadata": {},
   "source": [
    "По данной таблице необходимо:\n",
    "1. дату привести к типу данных \"datetime\"\n",
    "2. добавить столбец месяц включения и месяц выключения\n",
    "3. удалить явные дубликаты"
   ]
  },
  {
   "cell_type": "markdown",
   "metadata": {},
   "source": [
    "**1. Вывод:**\n",
    "\n",
    "1.Данные представлены чистыми, без пропусков.\n",
    "\n",
    "2. Необходимо заменить типы данных.\n",
    "3. Преобразовать таблицы перед объединением."
   ]
  },
  {
   "cell_type": "markdown",
   "metadata": {},
   "source": [
    "**2. Подготовка данных**"
   ]
  },
  {
   "cell_type": "markdown",
   "metadata": {},
   "source": [
    "1. Преобразуем первую таблицу с данными по звонкам"
   ]
  },
  {
   "cell_type": "code",
   "execution_count": 10,
   "metadata": {},
   "outputs": [
    {
     "data": {
      "text/plain": [
       "0"
      ]
     },
     "metadata": {},
     "output_type": "display_data"
    },
    {
     "data": {
      "text/html": [
       "<div>\n",
       "<style scoped>\n",
       "    .dataframe tbody tr th:only-of-type {\n",
       "        vertical-align: middle;\n",
       "    }\n",
       "\n",
       "    .dataframe tbody tr th {\n",
       "        vertical-align: top;\n",
       "    }\n",
       "\n",
       "    .dataframe thead th {\n",
       "        text-align: right;\n",
       "    }\n",
       "</style>\n",
       "<table border=\"1\" class=\"dataframe\">\n",
       "  <thead>\n",
       "    <tr style=\"text-align: right;\">\n",
       "      <th></th>\n",
       "      <th>id</th>\n",
       "      <th>call_date</th>\n",
       "      <th>duration</th>\n",
       "      <th>user_id</th>\n",
       "      <th>month</th>\n",
       "    </tr>\n",
       "  </thead>\n",
       "  <tbody>\n",
       "    <tr>\n",
       "      <td>0</td>\n",
       "      <td>1000_0</td>\n",
       "      <td>2018-07-25</td>\n",
       "      <td>0</td>\n",
       "      <td>1000</td>\n",
       "      <td>7</td>\n",
       "    </tr>\n",
       "    <tr>\n",
       "      <td>1</td>\n",
       "      <td>1000_1</td>\n",
       "      <td>2018-08-17</td>\n",
       "      <td>0</td>\n",
       "      <td>1000</td>\n",
       "      <td>8</td>\n",
       "    </tr>\n",
       "    <tr>\n",
       "      <td>2</td>\n",
       "      <td>1000_2</td>\n",
       "      <td>2018-06-11</td>\n",
       "      <td>3</td>\n",
       "      <td>1000</td>\n",
       "      <td>6</td>\n",
       "    </tr>\n",
       "    <tr>\n",
       "      <td>3</td>\n",
       "      <td>1000_3</td>\n",
       "      <td>2018-09-21</td>\n",
       "      <td>14</td>\n",
       "      <td>1000</td>\n",
       "      <td>9</td>\n",
       "    </tr>\n",
       "    <tr>\n",
       "      <td>4</td>\n",
       "      <td>1000_4</td>\n",
       "      <td>2018-12-15</td>\n",
       "      <td>6</td>\n",
       "      <td>1000</td>\n",
       "      <td>12</td>\n",
       "    </tr>\n",
       "  </tbody>\n",
       "</table>\n",
       "</div>"
      ],
      "text/plain": [
       "       id  call_date  duration  user_id  month\n",
       "0  1000_0 2018-07-25         0     1000      7\n",
       "1  1000_1 2018-08-17         0     1000      8\n",
       "2  1000_2 2018-06-11         3     1000      6\n",
       "3  1000_3 2018-09-21        14     1000      9\n",
       "4  1000_4 2018-12-15         6     1000     12"
      ]
     },
     "metadata": {},
     "output_type": "display_data"
    },
    {
     "name": "stdout",
     "output_type": "stream",
     "text": [
      "<class 'pandas.core.frame.DataFrame'>\n",
      "RangeIndex: 202607 entries, 0 to 202606\n",
      "Data columns (total 5 columns):\n",
      "id           202607 non-null object\n",
      "call_date    202607 non-null datetime64[ns]\n",
      "duration     202607 non-null int64\n",
      "user_id      202607 non-null int64\n",
      "month        202607 non-null int64\n",
      "dtypes: datetime64[ns](1), int64(3), object(1)\n",
      "memory usage: 7.7+ MB\n"
     ]
    }
   ],
   "source": [
    "\n",
    "df_calls['duration'] = np.ceil(df_calls['duration']) # округляем длительность звонка до минут в большую сторону\n",
    "df_calls['duration'] = df_calls['duration'].astype('int') # преобразуем данные в целочисленный тип\n",
    "\n",
    "df_calls['call_date'] = pd.to_datetime(df_calls['call_date']) # преобразуем данные столбца в тип \"datetime\"\n",
    "\n",
    "df_calls['month'] = pd.DatetimeIndex(df_calls['call_date']).month # добавим столбец \"месяц звонка\"\n",
    "\n",
    "display(df_calls.duplicated().sum()) # вывод количества дубликатов (0)\n",
    "\n",
    "display(df_calls.head())\n",
    "df_calls.info()"
   ]
  },
  {
   "cell_type": "code",
   "execution_count": 11,
   "metadata": {
    "scrolled": true
   },
   "outputs": [
    {
     "data": {
      "text/html": [
       "<div>\n",
       "<style scoped>\n",
       "    .dataframe tbody tr th:only-of-type {\n",
       "        vertical-align: middle;\n",
       "    }\n",
       "\n",
       "    .dataframe tbody tr th {\n",
       "        vertical-align: top;\n",
       "    }\n",
       "\n",
       "    .dataframe thead th {\n",
       "        text-align: right;\n",
       "    }\n",
       "</style>\n",
       "<table border=\"1\" class=\"dataframe\">\n",
       "  <thead>\n",
       "    <tr style=\"text-align: right;\">\n",
       "      <th></th>\n",
       "      <th>user_id</th>\n",
       "      <th>month</th>\n",
       "      <th>duration</th>\n",
       "    </tr>\n",
       "  </thead>\n",
       "  <tbody>\n",
       "    <tr>\n",
       "      <td>0</td>\n",
       "      <td>1000</td>\n",
       "      <td>5</td>\n",
       "      <td>159</td>\n",
       "    </tr>\n",
       "    <tr>\n",
       "      <td>1</td>\n",
       "      <td>1000</td>\n",
       "      <td>6</td>\n",
       "      <td>172</td>\n",
       "    </tr>\n",
       "    <tr>\n",
       "      <td>2</td>\n",
       "      <td>1000</td>\n",
       "      <td>7</td>\n",
       "      <td>340</td>\n",
       "    </tr>\n",
       "    <tr>\n",
       "      <td>3</td>\n",
       "      <td>1000</td>\n",
       "      <td>8</td>\n",
       "      <td>408</td>\n",
       "    </tr>\n",
       "    <tr>\n",
       "      <td>4</td>\n",
       "      <td>1000</td>\n",
       "      <td>9</td>\n",
       "      <td>466</td>\n",
       "    </tr>\n",
       "    <tr>\n",
       "      <td>5</td>\n",
       "      <td>1000</td>\n",
       "      <td>10</td>\n",
       "      <td>350</td>\n",
       "    </tr>\n",
       "    <tr>\n",
       "      <td>6</td>\n",
       "      <td>1000</td>\n",
       "      <td>11</td>\n",
       "      <td>338</td>\n",
       "    </tr>\n",
       "    <tr>\n",
       "      <td>7</td>\n",
       "      <td>1000</td>\n",
       "      <td>12</td>\n",
       "      <td>333</td>\n",
       "    </tr>\n",
       "    <tr>\n",
       "      <td>8</td>\n",
       "      <td>1001</td>\n",
       "      <td>11</td>\n",
       "      <td>430</td>\n",
       "    </tr>\n",
       "    <tr>\n",
       "      <td>9</td>\n",
       "      <td>1001</td>\n",
       "      <td>12</td>\n",
       "      <td>414</td>\n",
       "    </tr>\n",
       "    <tr>\n",
       "      <td>10</td>\n",
       "      <td>1002</td>\n",
       "      <td>6</td>\n",
       "      <td>117</td>\n",
       "    </tr>\n",
       "    <tr>\n",
       "      <td>11</td>\n",
       "      <td>1002</td>\n",
       "      <td>7</td>\n",
       "      <td>214</td>\n",
       "    </tr>\n",
       "  </tbody>\n",
       "</table>\n",
       "</div>"
      ],
      "text/plain": [
       "    user_id  month  duration\n",
       "0      1000      5       159\n",
       "1      1000      6       172\n",
       "2      1000      7       340\n",
       "3      1000      8       408\n",
       "4      1000      9       466\n",
       "5      1000     10       350\n",
       "6      1000     11       338\n",
       "7      1000     12       333\n",
       "8      1001     11       430\n",
       "9      1001     12       414\n",
       "10     1002      6       117\n",
       "11     1002      7       214"
      ]
     },
     "execution_count": 11,
     "metadata": {},
     "output_type": "execute_result"
    }
   ],
   "source": [
    "df_calls_user = df_calls.groupby(['user_id','month'])['duration'].sum()\n",
    "#df_calls_user = df_calls.pivot_table(index= 'user_id', columns = 'month', values = 'duration', aggfunc = 'sum') # вывод сводной таблицы длительности звонков по месяцам каждого пользователя\n",
    "df_calls_user = df_calls_user.reset_index()\n",
    "\n",
    "df_calls_user = df_calls_user.fillna(0) # замена NaN на нули\n",
    "df_calls_user.head(12)"
   ]
  },
  {
   "cell_type": "code",
   "execution_count": 12,
   "metadata": {},
   "outputs": [
    {
     "data": {
      "text/plain": [
       "1496    12\n",
       "1375    12\n",
       "1302    12\n",
       "1282    12\n",
       "1337    12\n",
       "        ..\n",
       "1406     1\n",
       "1434     1\n",
       "1223     1\n",
       "1252     1\n",
       "1336     1\n",
       "Name: user_id, Length: 492, dtype: int64"
      ]
     },
     "execution_count": 12,
     "metadata": {},
     "output_type": "execute_result"
    }
   ],
   "source": [
    "df_calls_user['user_id'].value_counts()"
   ]
  },
  {
   "cell_type": "markdown",
   "metadata": {},
   "source": [
    "2. Преобразуем вторую таблицу с данными по интернет трафику"
   ]
  },
  {
   "cell_type": "code",
   "execution_count": 13,
   "metadata": {},
   "outputs": [
    {
     "data": {
      "text/plain": [
       "0"
      ]
     },
     "metadata": {},
     "output_type": "display_data"
    },
    {
     "data": {
      "text/html": [
       "<div>\n",
       "<style scoped>\n",
       "    .dataframe tbody tr th:only-of-type {\n",
       "        vertical-align: middle;\n",
       "    }\n",
       "\n",
       "    .dataframe tbody tr th {\n",
       "        vertical-align: top;\n",
       "    }\n",
       "\n",
       "    .dataframe thead th {\n",
       "        text-align: right;\n",
       "    }\n",
       "</style>\n",
       "<table border=\"1\" class=\"dataframe\">\n",
       "  <thead>\n",
       "    <tr style=\"text-align: right;\">\n",
       "      <th></th>\n",
       "      <th>id</th>\n",
       "      <th>mb_used</th>\n",
       "      <th>session_date</th>\n",
       "      <th>user_id</th>\n",
       "      <th>month</th>\n",
       "    </tr>\n",
       "  </thead>\n",
       "  <tbody>\n",
       "    <tr>\n",
       "      <td>0</td>\n",
       "      <td>1000_0</td>\n",
       "      <td>112.95</td>\n",
       "      <td>2018-11-25</td>\n",
       "      <td>1000</td>\n",
       "      <td>11</td>\n",
       "    </tr>\n",
       "    <tr>\n",
       "      <td>1</td>\n",
       "      <td>1000_1</td>\n",
       "      <td>1052.81</td>\n",
       "      <td>2018-09-07</td>\n",
       "      <td>1000</td>\n",
       "      <td>9</td>\n",
       "    </tr>\n",
       "    <tr>\n",
       "      <td>2</td>\n",
       "      <td>1000_2</td>\n",
       "      <td>1197.26</td>\n",
       "      <td>2018-06-25</td>\n",
       "      <td>1000</td>\n",
       "      <td>6</td>\n",
       "    </tr>\n",
       "    <tr>\n",
       "      <td>3</td>\n",
       "      <td>1000_3</td>\n",
       "      <td>550.27</td>\n",
       "      <td>2018-08-22</td>\n",
       "      <td>1000</td>\n",
       "      <td>8</td>\n",
       "    </tr>\n",
       "    <tr>\n",
       "      <td>4</td>\n",
       "      <td>1000_4</td>\n",
       "      <td>302.56</td>\n",
       "      <td>2018-09-24</td>\n",
       "      <td>1000</td>\n",
       "      <td>9</td>\n",
       "    </tr>\n",
       "  </tbody>\n",
       "</table>\n",
       "</div>"
      ],
      "text/plain": [
       "       id  mb_used session_date  user_id  month\n",
       "0  1000_0   112.95   2018-11-25     1000     11\n",
       "1  1000_1  1052.81   2018-09-07     1000      9\n",
       "2  1000_2  1197.26   2018-06-25     1000      6\n",
       "3  1000_3   550.27   2018-08-22     1000      8\n",
       "4  1000_4   302.56   2018-09-24     1000      9"
      ]
     },
     "metadata": {},
     "output_type": "display_data"
    }
   ],
   "source": [
    "#display(df_internet.head())\n",
    "df_internet = df_internet.drop('Unnamed: 0', axis = 1) # удалим столбец Unnamed: 0\n",
    "\n",
    "df_internet['session_date'] = pd.to_datetime(df_internet['session_date']) # преобразуем данные столбца в тип \"datetime\"\n",
    "\n",
    "df_internet['month'] = pd.DatetimeIndex(df_internet['session_date']).month # добавим столбец \"месяц интернет\"\n",
    "\n",
    "display(df_internet.duplicated().sum()) # вывод количества дубликатов (0)\n",
    "display(df_internet.head())\n",
    "#df_internet.info()"
   ]
  },
  {
   "cell_type": "code",
   "execution_count": 14,
   "metadata": {},
   "outputs": [
    {
     "data": {
      "text/html": [
       "<div>\n",
       "<style scoped>\n",
       "    .dataframe tbody tr th:only-of-type {\n",
       "        vertical-align: middle;\n",
       "    }\n",
       "\n",
       "    .dataframe tbody tr th {\n",
       "        vertical-align: top;\n",
       "    }\n",
       "\n",
       "    .dataframe thead th {\n",
       "        text-align: right;\n",
       "    }\n",
       "</style>\n",
       "<table border=\"1\" class=\"dataframe\">\n",
       "  <thead>\n",
       "    <tr style=\"text-align: right;\">\n",
       "      <th></th>\n",
       "      <th>user_id</th>\n",
       "      <th>month</th>\n",
       "      <th>mb_used</th>\n",
       "    </tr>\n",
       "  </thead>\n",
       "  <tbody>\n",
       "    <tr>\n",
       "      <td>0</td>\n",
       "      <td>1000</td>\n",
       "      <td>5</td>\n",
       "      <td>2253.49</td>\n",
       "    </tr>\n",
       "    <tr>\n",
       "      <td>1</td>\n",
       "      <td>1000</td>\n",
       "      <td>6</td>\n",
       "      <td>23233.77</td>\n",
       "    </tr>\n",
       "    <tr>\n",
       "      <td>2</td>\n",
       "      <td>1000</td>\n",
       "      <td>7</td>\n",
       "      <td>14003.64</td>\n",
       "    </tr>\n",
       "    <tr>\n",
       "      <td>3</td>\n",
       "      <td>1000</td>\n",
       "      <td>8</td>\n",
       "      <td>14055.93</td>\n",
       "    </tr>\n",
       "    <tr>\n",
       "      <td>4</td>\n",
       "      <td>1000</td>\n",
       "      <td>9</td>\n",
       "      <td>14568.91</td>\n",
       "    </tr>\n",
       "    <tr>\n",
       "      <td>5</td>\n",
       "      <td>1000</td>\n",
       "      <td>10</td>\n",
       "      <td>14702.49</td>\n",
       "    </tr>\n",
       "    <tr>\n",
       "      <td>6</td>\n",
       "      <td>1000</td>\n",
       "      <td>11</td>\n",
       "      <td>14756.47</td>\n",
       "    </tr>\n",
       "    <tr>\n",
       "      <td>7</td>\n",
       "      <td>1000</td>\n",
       "      <td>12</td>\n",
       "      <td>9817.61</td>\n",
       "    </tr>\n",
       "    <tr>\n",
       "      <td>8</td>\n",
       "      <td>1001</td>\n",
       "      <td>11</td>\n",
       "      <td>18429.34</td>\n",
       "    </tr>\n",
       "    <tr>\n",
       "      <td>9</td>\n",
       "      <td>1001</td>\n",
       "      <td>12</td>\n",
       "      <td>14036.66</td>\n",
       "    </tr>\n",
       "    <tr>\n",
       "      <td>10</td>\n",
       "      <td>1002</td>\n",
       "      <td>6</td>\n",
       "      <td>10856.82</td>\n",
       "    </tr>\n",
       "    <tr>\n",
       "      <td>11</td>\n",
       "      <td>1002</td>\n",
       "      <td>7</td>\n",
       "      <td>17580.10</td>\n",
       "    </tr>\n",
       "  </tbody>\n",
       "</table>\n",
       "</div>"
      ],
      "text/plain": [
       "    user_id  month   mb_used\n",
       "0      1000      5   2253.49\n",
       "1      1000      6  23233.77\n",
       "2      1000      7  14003.64\n",
       "3      1000      8  14055.93\n",
       "4      1000      9  14568.91\n",
       "5      1000     10  14702.49\n",
       "6      1000     11  14756.47\n",
       "7      1000     12   9817.61\n",
       "8      1001     11  18429.34\n",
       "9      1001     12  14036.66\n",
       "10     1002      6  10856.82\n",
       "11     1002      7  17580.10"
      ]
     },
     "execution_count": 14,
     "metadata": {},
     "output_type": "execute_result"
    }
   ],
   "source": [
    "df_internet_user = df_internet.groupby(['user_id','month'])['mb_used'].sum()\n",
    "#f_internet_user = df_internet.pivot_table(index= 'user_id', columns = 'month', values = 'mb_used', aggfunc = 'sum') #водной таблицы объема интернет-трафика по месяцам каждого пользователя\n",
    "df_internet_user = df_internet_user.reset_index()\n",
    "df_internet_user = df_internet_user.fillna(0)\n",
    "df_internet_user.head(12)\n"
   ]
  },
  {
   "cell_type": "code",
   "execution_count": 15,
   "metadata": {},
   "outputs": [
    {
     "data": {
      "text/plain": [
       "1302    12\n",
       "1299    12\n",
       "1032    12\n",
       "1055    12\n",
       "1340    12\n",
       "        ..\n",
       "1131     1\n",
       "1137     1\n",
       "1387     1\n",
       "1397     1\n",
       "1234     1\n",
       "Name: user_id, Length: 497, dtype: int64"
      ]
     },
     "execution_count": 15,
     "metadata": {},
     "output_type": "execute_result"
    }
   ],
   "source": [
    "df_internet_user['user_id'].value_counts()"
   ]
  },
  {
   "cell_type": "markdown",
   "metadata": {},
   "source": [
    "3. Преобразуем третью таблицу с данными по смс сообщениям"
   ]
  },
  {
   "cell_type": "code",
   "execution_count": 16,
   "metadata": {},
   "outputs": [
    {
     "name": "stdout",
     "output_type": "stream",
     "text": [
      "<class 'pandas.core.frame.DataFrame'>\n",
      "RangeIndex: 123036 entries, 0 to 123035\n",
      "Data columns (total 4 columns):\n",
      "id              123036 non-null object\n",
      "message_date    123036 non-null datetime64[ns]\n",
      "user_id         123036 non-null int64\n",
      "month           123036 non-null int64\n",
      "dtypes: datetime64[ns](1), int64(2), object(1)\n",
      "memory usage: 3.8+ MB\n"
     ]
    }
   ],
   "source": [
    "\n",
    "df_messages['message_date'] = pd.to_datetime(df_messages['message_date']) # преобразуем данные столбца в тип \"datetime\"\n",
    "\n",
    "df_messages['month'] = pd.DatetimeIndex(df_messages['message_date']).month # добавим столбец \"месяц сообщения\"\n",
    "\n",
    "df_messages.info()"
   ]
  },
  {
   "cell_type": "code",
   "execution_count": 17,
   "metadata": {},
   "outputs": [
    {
     "data": {
      "text/html": [
       "<div>\n",
       "<style scoped>\n",
       "    .dataframe tbody tr th:only-of-type {\n",
       "        vertical-align: middle;\n",
       "    }\n",
       "\n",
       "    .dataframe tbody tr th {\n",
       "        vertical-align: top;\n",
       "    }\n",
       "\n",
       "    .dataframe thead th {\n",
       "        text-align: right;\n",
       "    }\n",
       "</style>\n",
       "<table border=\"1\" class=\"dataframe\">\n",
       "  <thead>\n",
       "    <tr style=\"text-align: right;\">\n",
       "      <th></th>\n",
       "      <th>user_id</th>\n",
       "      <th>month</th>\n",
       "      <th>id</th>\n",
       "    </tr>\n",
       "  </thead>\n",
       "  <tbody>\n",
       "    <tr>\n",
       "      <td>0</td>\n",
       "      <td>1000</td>\n",
       "      <td>5</td>\n",
       "      <td>22</td>\n",
       "    </tr>\n",
       "    <tr>\n",
       "      <td>1</td>\n",
       "      <td>1000</td>\n",
       "      <td>6</td>\n",
       "      <td>60</td>\n",
       "    </tr>\n",
       "    <tr>\n",
       "      <td>2</td>\n",
       "      <td>1000</td>\n",
       "      <td>7</td>\n",
       "      <td>75</td>\n",
       "    </tr>\n",
       "    <tr>\n",
       "      <td>3</td>\n",
       "      <td>1000</td>\n",
       "      <td>8</td>\n",
       "      <td>81</td>\n",
       "    </tr>\n",
       "    <tr>\n",
       "      <td>4</td>\n",
       "      <td>1000</td>\n",
       "      <td>9</td>\n",
       "      <td>57</td>\n",
       "    </tr>\n",
       "    <tr>\n",
       "      <td>5</td>\n",
       "      <td>1000</td>\n",
       "      <td>10</td>\n",
       "      <td>73</td>\n",
       "    </tr>\n",
       "    <tr>\n",
       "      <td>6</td>\n",
       "      <td>1000</td>\n",
       "      <td>11</td>\n",
       "      <td>58</td>\n",
       "    </tr>\n",
       "    <tr>\n",
       "      <td>7</td>\n",
       "      <td>1000</td>\n",
       "      <td>12</td>\n",
       "      <td>70</td>\n",
       "    </tr>\n",
       "    <tr>\n",
       "      <td>8</td>\n",
       "      <td>1002</td>\n",
       "      <td>6</td>\n",
       "      <td>4</td>\n",
       "    </tr>\n",
       "    <tr>\n",
       "      <td>9</td>\n",
       "      <td>1002</td>\n",
       "      <td>7</td>\n",
       "      <td>11</td>\n",
       "    </tr>\n",
       "    <tr>\n",
       "      <td>10</td>\n",
       "      <td>1002</td>\n",
       "      <td>8</td>\n",
       "      <td>13</td>\n",
       "    </tr>\n",
       "    <tr>\n",
       "      <td>11</td>\n",
       "      <td>1002</td>\n",
       "      <td>9</td>\n",
       "      <td>4</td>\n",
       "    </tr>\n",
       "  </tbody>\n",
       "</table>\n",
       "</div>"
      ],
      "text/plain": [
       "    user_id  month  id\n",
       "0      1000      5  22\n",
       "1      1000      6  60\n",
       "2      1000      7  75\n",
       "3      1000      8  81\n",
       "4      1000      9  57\n",
       "5      1000     10  73\n",
       "6      1000     11  58\n",
       "7      1000     12  70\n",
       "8      1002      6   4\n",
       "9      1002      7  11\n",
       "10     1002      8  13\n",
       "11     1002      9   4"
      ]
     },
     "execution_count": 17,
     "metadata": {},
     "output_type": "execute_result"
    }
   ],
   "source": [
    "df_messages_user = df_messages.groupby(['user_id','month'])['id'].count()\n",
    "#df_messages_user = df_messages.pivot_table(index= 'user_id', columns = 'month', values = 'id', aggfunc = 'count') # вывод сводной таблицы количества сообщений по месяцам каждого пользователя\n",
    "df_messages_user = df_messages_user.reset_index()\n",
    "df_messages_user = df_messages_user.fillna(0)\n",
    "df_messages_user.head(12)"
   ]
  },
  {
   "cell_type": "code",
   "execution_count": 18,
   "metadata": {},
   "outputs": [
    {
     "data": {
      "text/plain": [
       "1005    12\n",
       "1299    12\n",
       "1401    12\n",
       "1168    12\n",
       "1395    12\n",
       "        ..\n",
       "1434     1\n",
       "1387     1\n",
       "1084     1\n",
       "1074     1\n",
       "1131     1\n",
       "Name: user_id, Length: 426, dtype: int64"
      ]
     },
     "execution_count": 18,
     "metadata": {},
     "output_type": "execute_result"
    }
   ],
   "source": [
    "df_messages_user['user_id'].value_counts()"
   ]
  },
  {
   "cell_type": "markdown",
   "metadata": {},
   "source": [
    "Объединим эти три таблицы по номеру пользователя и месяцу."
   ]
  },
  {
   "cell_type": "code",
   "execution_count": 19,
   "metadata": {},
   "outputs": [
    {
     "data": {
      "text/html": [
       "<div>\n",
       "<style scoped>\n",
       "    .dataframe tbody tr th:only-of-type {\n",
       "        vertical-align: middle;\n",
       "    }\n",
       "\n",
       "    .dataframe tbody tr th {\n",
       "        vertical-align: top;\n",
       "    }\n",
       "\n",
       "    .dataframe thead th {\n",
       "        text-align: right;\n",
       "    }\n",
       "</style>\n",
       "<table border=\"1\" class=\"dataframe\">\n",
       "  <thead>\n",
       "    <tr style=\"text-align: right;\">\n",
       "      <th></th>\n",
       "      <th>user_id</th>\n",
       "      <th>month</th>\n",
       "      <th>duration</th>\n",
       "      <th>mb_used</th>\n",
       "      <th>id</th>\n",
       "    </tr>\n",
       "  </thead>\n",
       "  <tbody>\n",
       "    <tr>\n",
       "      <td>0</td>\n",
       "      <td>1000</td>\n",
       "      <td>5</td>\n",
       "      <td>159.0</td>\n",
       "      <td>2253.49</td>\n",
       "      <td>22.0</td>\n",
       "    </tr>\n",
       "    <tr>\n",
       "      <td>1</td>\n",
       "      <td>1000</td>\n",
       "      <td>6</td>\n",
       "      <td>172.0</td>\n",
       "      <td>23233.77</td>\n",
       "      <td>60.0</td>\n",
       "    </tr>\n",
       "    <tr>\n",
       "      <td>2</td>\n",
       "      <td>1000</td>\n",
       "      <td>7</td>\n",
       "      <td>340.0</td>\n",
       "      <td>14003.64</td>\n",
       "      <td>75.0</td>\n",
       "    </tr>\n",
       "    <tr>\n",
       "      <td>3</td>\n",
       "      <td>1000</td>\n",
       "      <td>8</td>\n",
       "      <td>408.0</td>\n",
       "      <td>14055.93</td>\n",
       "      <td>81.0</td>\n",
       "    </tr>\n",
       "    <tr>\n",
       "      <td>4</td>\n",
       "      <td>1000</td>\n",
       "      <td>9</td>\n",
       "      <td>466.0</td>\n",
       "      <td>14568.91</td>\n",
       "      <td>57.0</td>\n",
       "    </tr>\n",
       "    <tr>\n",
       "      <td>5</td>\n",
       "      <td>1000</td>\n",
       "      <td>10</td>\n",
       "      <td>350.0</td>\n",
       "      <td>14702.49</td>\n",
       "      <td>73.0</td>\n",
       "    </tr>\n",
       "    <tr>\n",
       "      <td>6</td>\n",
       "      <td>1000</td>\n",
       "      <td>11</td>\n",
       "      <td>338.0</td>\n",
       "      <td>14756.47</td>\n",
       "      <td>58.0</td>\n",
       "    </tr>\n",
       "    <tr>\n",
       "      <td>7</td>\n",
       "      <td>1000</td>\n",
       "      <td>12</td>\n",
       "      <td>333.0</td>\n",
       "      <td>9817.61</td>\n",
       "      <td>70.0</td>\n",
       "    </tr>\n",
       "    <tr>\n",
       "      <td>8</td>\n",
       "      <td>1001</td>\n",
       "      <td>11</td>\n",
       "      <td>430.0</td>\n",
       "      <td>18429.34</td>\n",
       "      <td>NaN</td>\n",
       "    </tr>\n",
       "    <tr>\n",
       "      <td>9</td>\n",
       "      <td>1001</td>\n",
       "      <td>12</td>\n",
       "      <td>414.0</td>\n",
       "      <td>14036.66</td>\n",
       "      <td>NaN</td>\n",
       "    </tr>\n",
       "    <tr>\n",
       "      <td>10</td>\n",
       "      <td>1002</td>\n",
       "      <td>6</td>\n",
       "      <td>117.0</td>\n",
       "      <td>10856.82</td>\n",
       "      <td>4.0</td>\n",
       "    </tr>\n",
       "    <tr>\n",
       "      <td>11</td>\n",
       "      <td>1002</td>\n",
       "      <td>7</td>\n",
       "      <td>214.0</td>\n",
       "      <td>17580.10</td>\n",
       "      <td>11.0</td>\n",
       "    </tr>\n",
       "  </tbody>\n",
       "</table>\n",
       "</div>"
      ],
      "text/plain": [
       "    user_id  month  duration   mb_used    id\n",
       "0      1000      5     159.0   2253.49  22.0\n",
       "1      1000      6     172.0  23233.77  60.0\n",
       "2      1000      7     340.0  14003.64  75.0\n",
       "3      1000      8     408.0  14055.93  81.0\n",
       "4      1000      9     466.0  14568.91  57.0\n",
       "5      1000     10     350.0  14702.49  73.0\n",
       "6      1000     11     338.0  14756.47  58.0\n",
       "7      1000     12     333.0   9817.61  70.0\n",
       "8      1001     11     430.0  18429.34   NaN\n",
       "9      1001     12     414.0  14036.66   NaN\n",
       "10     1002      6     117.0  10856.82   4.0\n",
       "11     1002      7     214.0  17580.10  11.0"
      ]
     },
     "execution_count": 19,
     "metadata": {},
     "output_type": "execute_result"
    }
   ],
   "source": [
    "df = df_calls_user.merge(df_internet_user, on=['user_id','month'] , how='outer')\n",
    "df = df.merge(df_messages_user, on=['user_id','month'] , how='outer')\n",
    "df.head(12)\n",
    "\n"
   ]
  },
  {
   "cell_type": "markdown",
   "metadata": {},
   "source": [
    "**Комментарий студента:**\n",
    "1. Посчитала количество уникальных пользователей во всех таблицах: в звонках, интеренете, сообщениях. Поэтому при объединении таблиц в одну присвоила параметру how значение right, а затем left."
   ]
  },
  {
   "cell_type": "markdown",
   "metadata": {},
   "source": [
    "**Комментарий студента V2:** \n",
    "Николай, я заменила значение параметра how."
   ]
  },
  {
   "cell_type": "code",
   "execution_count": 20,
   "metadata": {},
   "outputs": [
    {
     "data": {
      "text/plain": [
       "1238    12\n",
       "1394    12\n",
       "1429    12\n",
       "1423    12\n",
       "1155    12\n",
       "        ..\n",
       "1131     1\n",
       "1137     1\n",
       "1387     1\n",
       "1397     1\n",
       "1141     1\n",
       "Name: user_id, Length: 498, dtype: int64"
      ]
     },
     "metadata": {},
     "output_type": "display_data"
    }
   ],
   "source": [
    "display(df['user_id'].value_counts())# подсчет уникальных пользователей "
   ]
  },
  {
   "cell_type": "markdown",
   "metadata": {},
   "source": [
    "В данной таблице можно посмотреть сумму звонков, сумму сообщений и сумму интернет-трафика на каждого пользователя по месяцам."
   ]
  },
  {
   "cell_type": "markdown",
   "metadata": {},
   "source": [
    "4. Преобразуем пятую таблицу с данными по пользователям"
   ]
  },
  {
   "cell_type": "code",
   "execution_count": 21,
   "metadata": {},
   "outputs": [
    {
     "name": "stdout",
     "output_type": "stream",
     "text": [
      "<class 'pandas.core.frame.DataFrame'>\n",
      "RangeIndex: 500 entries, 0 to 499\n",
      "Data columns (total 7 columns):\n",
      "user_id       500 non-null int64\n",
      "churn_date    38 non-null datetime64[ns]\n",
      "city          500 non-null object\n",
      "reg_date      500 non-null datetime64[ns]\n",
      "tariff        500 non-null object\n",
      "month_on      500 non-null int64\n",
      "month_off     38 non-null float64\n",
      "dtypes: datetime64[ns](2), float64(1), int64(2), object(2)\n",
      "memory usage: 27.5+ KB\n"
     ]
    },
    {
     "data": {
      "text/html": [
       "<div>\n",
       "<style scoped>\n",
       "    .dataframe tbody tr th:only-of-type {\n",
       "        vertical-align: middle;\n",
       "    }\n",
       "\n",
       "    .dataframe tbody tr th {\n",
       "        vertical-align: top;\n",
       "    }\n",
       "\n",
       "    .dataframe thead th {\n",
       "        text-align: right;\n",
       "    }\n",
       "</style>\n",
       "<table border=\"1\" class=\"dataframe\">\n",
       "  <thead>\n",
       "    <tr style=\"text-align: right;\">\n",
       "      <th></th>\n",
       "      <th>user_id</th>\n",
       "      <th>churn_date</th>\n",
       "      <th>city</th>\n",
       "      <th>reg_date</th>\n",
       "      <th>tariff</th>\n",
       "      <th>month_on</th>\n",
       "      <th>month_off</th>\n",
       "    </tr>\n",
       "  </thead>\n",
       "  <tbody>\n",
       "    <tr>\n",
       "      <td>0</td>\n",
       "      <td>1000</td>\n",
       "      <td>NaT</td>\n",
       "      <td>Краснодар</td>\n",
       "      <td>2018-05-25</td>\n",
       "      <td>ultra</td>\n",
       "      <td>5</td>\n",
       "      <td>NaN</td>\n",
       "    </tr>\n",
       "    <tr>\n",
       "      <td>1</td>\n",
       "      <td>1001</td>\n",
       "      <td>NaT</td>\n",
       "      <td>Москва</td>\n",
       "      <td>2018-11-01</td>\n",
       "      <td>smart</td>\n",
       "      <td>11</td>\n",
       "      <td>NaN</td>\n",
       "    </tr>\n",
       "    <tr>\n",
       "      <td>2</td>\n",
       "      <td>1002</td>\n",
       "      <td>NaT</td>\n",
       "      <td>Стерлитамак</td>\n",
       "      <td>2018-06-17</td>\n",
       "      <td>smart</td>\n",
       "      <td>6</td>\n",
       "      <td>NaN</td>\n",
       "    </tr>\n",
       "    <tr>\n",
       "      <td>3</td>\n",
       "      <td>1003</td>\n",
       "      <td>NaT</td>\n",
       "      <td>Москва</td>\n",
       "      <td>2018-08-17</td>\n",
       "      <td>ultra</td>\n",
       "      <td>8</td>\n",
       "      <td>NaN</td>\n",
       "    </tr>\n",
       "    <tr>\n",
       "      <td>4</td>\n",
       "      <td>1004</td>\n",
       "      <td>NaT</td>\n",
       "      <td>Новокузнецк</td>\n",
       "      <td>2018-05-14</td>\n",
       "      <td>ultra</td>\n",
       "      <td>5</td>\n",
       "      <td>NaN</td>\n",
       "    </tr>\n",
       "    <tr>\n",
       "      <td>...</td>\n",
       "      <td>...</td>\n",
       "      <td>...</td>\n",
       "      <td>...</td>\n",
       "      <td>...</td>\n",
       "      <td>...</td>\n",
       "      <td>...</td>\n",
       "      <td>...</td>\n",
       "    </tr>\n",
       "    <tr>\n",
       "      <td>495</td>\n",
       "      <td>1495</td>\n",
       "      <td>NaT</td>\n",
       "      <td>Иркутск</td>\n",
       "      <td>2018-08-28</td>\n",
       "      <td>ultra</td>\n",
       "      <td>8</td>\n",
       "      <td>NaN</td>\n",
       "    </tr>\n",
       "    <tr>\n",
       "      <td>496</td>\n",
       "      <td>1496</td>\n",
       "      <td>NaT</td>\n",
       "      <td>Вологда</td>\n",
       "      <td>2018-01-27</td>\n",
       "      <td>smart</td>\n",
       "      <td>1</td>\n",
       "      <td>NaN</td>\n",
       "    </tr>\n",
       "    <tr>\n",
       "      <td>497</td>\n",
       "      <td>1497</td>\n",
       "      <td>NaT</td>\n",
       "      <td>Челябинск</td>\n",
       "      <td>2018-10-09</td>\n",
       "      <td>smart</td>\n",
       "      <td>10</td>\n",
       "      <td>NaN</td>\n",
       "    </tr>\n",
       "    <tr>\n",
       "      <td>498</td>\n",
       "      <td>1498</td>\n",
       "      <td>2018-10-25</td>\n",
       "      <td>Владикавказ</td>\n",
       "      <td>2018-07-19</td>\n",
       "      <td>smart</td>\n",
       "      <td>7</td>\n",
       "      <td>10.0</td>\n",
       "    </tr>\n",
       "    <tr>\n",
       "      <td>499</td>\n",
       "      <td>1499</td>\n",
       "      <td>NaT</td>\n",
       "      <td>Пермь</td>\n",
       "      <td>2018-09-27</td>\n",
       "      <td>smart</td>\n",
       "      <td>9</td>\n",
       "      <td>NaN</td>\n",
       "    </tr>\n",
       "  </tbody>\n",
       "</table>\n",
       "<p>500 rows × 7 columns</p>\n",
       "</div>"
      ],
      "text/plain": [
       "     user_id churn_date         city   reg_date tariff  month_on  month_off\n",
       "0       1000        NaT    Краснодар 2018-05-25  ultra         5        NaN\n",
       "1       1001        NaT       Москва 2018-11-01  smart        11        NaN\n",
       "2       1002        NaT  Стерлитамак 2018-06-17  smart         6        NaN\n",
       "3       1003        NaT       Москва 2018-08-17  ultra         8        NaN\n",
       "4       1004        NaT  Новокузнецк 2018-05-14  ultra         5        NaN\n",
       "..       ...        ...          ...        ...    ...       ...        ...\n",
       "495     1495        NaT      Иркутск 2018-08-28  ultra         8        NaN\n",
       "496     1496        NaT      Вологда 2018-01-27  smart         1        NaN\n",
       "497     1497        NaT    Челябинск 2018-10-09  smart        10        NaN\n",
       "498     1498 2018-10-25  Владикавказ 2018-07-19  smart         7       10.0\n",
       "499     1499        NaT        Пермь 2018-09-27  smart         9        NaN\n",
       "\n",
       "[500 rows x 7 columns]"
      ]
     },
     "execution_count": 21,
     "metadata": {},
     "output_type": "execute_result"
    }
   ],
   "source": [
    "\n",
    "df_users['reg_date'] = pd.to_datetime(df_users['reg_date']) # преобразуем данные столбца в тип \"datetime\"\n",
    "df_users['churn_date'] = pd.to_datetime(df_users['churn_date']) # преобразуем данные столбца в тип \"datetime\"\n",
    "df_users['month_on'] = pd.DatetimeIndex(df_users['reg_date']).month # добавим столбец \"месяц включения тарифа\"\n",
    "df_users['month_off'] = pd.DatetimeIndex(df_users['churn_date']).month # добавим столбец \"месяц включения тарифа\"\n",
    "df_users = df_users.drop(['age','first_name', 'last_name'], axis = 1) # удалим столбцы возраст и фио\n",
    "df_users.info()\n",
    "df_users"
   ]
  },
  {
   "cell_type": "code",
   "execution_count": 22,
   "metadata": {},
   "outputs": [
    {
     "data": {
      "text/plain": [
       "1023    1\n",
       "1194    1\n",
       "1181    1\n",
       "1182    1\n",
       "1183    1\n",
       "       ..\n",
       "1362    1\n",
       "1363    1\n",
       "1364    1\n",
       "1365    1\n",
       "1024    1\n",
       "Name: user_id, Length: 500, dtype: int64"
      ]
     },
     "metadata": {},
     "output_type": "display_data"
    }
   ],
   "source": [
    "display(df_users['user_id'].value_counts()) #количество уникальных пользователей"
   ]
  },
  {
   "cell_type": "markdown",
   "metadata": {},
   "source": [
    "5. Объединим таблицу с данными по трафику с таблицей с информацией о пользователях"
   ]
  },
  {
   "cell_type": "code",
   "execution_count": 23,
   "metadata": {},
   "outputs": [
    {
     "data": {
      "text/html": [
       "<div>\n",
       "<style scoped>\n",
       "    .dataframe tbody tr th:only-of-type {\n",
       "        vertical-align: middle;\n",
       "    }\n",
       "\n",
       "    .dataframe tbody tr th {\n",
       "        vertical-align: top;\n",
       "    }\n",
       "\n",
       "    .dataframe thead th {\n",
       "        text-align: right;\n",
       "    }\n",
       "</style>\n",
       "<table border=\"1\" class=\"dataframe\">\n",
       "  <thead>\n",
       "    <tr style=\"text-align: right;\">\n",
       "      <th></th>\n",
       "      <th>user_id</th>\n",
       "      <th>churn_date</th>\n",
       "      <th>city</th>\n",
       "      <th>reg_date</th>\n",
       "      <th>tariff</th>\n",
       "      <th>month_on</th>\n",
       "      <th>month_off</th>\n",
       "      <th>month</th>\n",
       "      <th>duration</th>\n",
       "      <th>mb_used</th>\n",
       "      <th>id</th>\n",
       "    </tr>\n",
       "  </thead>\n",
       "  <tbody>\n",
       "    <tr>\n",
       "      <td>0</td>\n",
       "      <td>1000</td>\n",
       "      <td>NaT</td>\n",
       "      <td>Краснодар</td>\n",
       "      <td>2018-05-25</td>\n",
       "      <td>ultra</td>\n",
       "      <td>5</td>\n",
       "      <td>NaN</td>\n",
       "      <td>5.0</td>\n",
       "      <td>159.0</td>\n",
       "      <td>2253.49</td>\n",
       "      <td>22.0</td>\n",
       "    </tr>\n",
       "    <tr>\n",
       "      <td>1</td>\n",
       "      <td>1000</td>\n",
       "      <td>NaT</td>\n",
       "      <td>Краснодар</td>\n",
       "      <td>2018-05-25</td>\n",
       "      <td>ultra</td>\n",
       "      <td>5</td>\n",
       "      <td>NaN</td>\n",
       "      <td>6.0</td>\n",
       "      <td>172.0</td>\n",
       "      <td>23233.77</td>\n",
       "      <td>60.0</td>\n",
       "    </tr>\n",
       "    <tr>\n",
       "      <td>2</td>\n",
       "      <td>1000</td>\n",
       "      <td>NaT</td>\n",
       "      <td>Краснодар</td>\n",
       "      <td>2018-05-25</td>\n",
       "      <td>ultra</td>\n",
       "      <td>5</td>\n",
       "      <td>NaN</td>\n",
       "      <td>7.0</td>\n",
       "      <td>340.0</td>\n",
       "      <td>14003.64</td>\n",
       "      <td>75.0</td>\n",
       "    </tr>\n",
       "    <tr>\n",
       "      <td>3</td>\n",
       "      <td>1000</td>\n",
       "      <td>NaT</td>\n",
       "      <td>Краснодар</td>\n",
       "      <td>2018-05-25</td>\n",
       "      <td>ultra</td>\n",
       "      <td>5</td>\n",
       "      <td>NaN</td>\n",
       "      <td>8.0</td>\n",
       "      <td>408.0</td>\n",
       "      <td>14055.93</td>\n",
       "      <td>81.0</td>\n",
       "    </tr>\n",
       "    <tr>\n",
       "      <td>4</td>\n",
       "      <td>1000</td>\n",
       "      <td>NaT</td>\n",
       "      <td>Краснодар</td>\n",
       "      <td>2018-05-25</td>\n",
       "      <td>ultra</td>\n",
       "      <td>5</td>\n",
       "      <td>NaN</td>\n",
       "      <td>9.0</td>\n",
       "      <td>466.0</td>\n",
       "      <td>14568.91</td>\n",
       "      <td>57.0</td>\n",
       "    </tr>\n",
       "    <tr>\n",
       "      <td>5</td>\n",
       "      <td>1000</td>\n",
       "      <td>NaT</td>\n",
       "      <td>Краснодар</td>\n",
       "      <td>2018-05-25</td>\n",
       "      <td>ultra</td>\n",
       "      <td>5</td>\n",
       "      <td>NaN</td>\n",
       "      <td>10.0</td>\n",
       "      <td>350.0</td>\n",
       "      <td>14702.49</td>\n",
       "      <td>73.0</td>\n",
       "    </tr>\n",
       "    <tr>\n",
       "      <td>6</td>\n",
       "      <td>1000</td>\n",
       "      <td>NaT</td>\n",
       "      <td>Краснодар</td>\n",
       "      <td>2018-05-25</td>\n",
       "      <td>ultra</td>\n",
       "      <td>5</td>\n",
       "      <td>NaN</td>\n",
       "      <td>11.0</td>\n",
       "      <td>338.0</td>\n",
       "      <td>14756.47</td>\n",
       "      <td>58.0</td>\n",
       "    </tr>\n",
       "    <tr>\n",
       "      <td>7</td>\n",
       "      <td>1000</td>\n",
       "      <td>NaT</td>\n",
       "      <td>Краснодар</td>\n",
       "      <td>2018-05-25</td>\n",
       "      <td>ultra</td>\n",
       "      <td>5</td>\n",
       "      <td>NaN</td>\n",
       "      <td>12.0</td>\n",
       "      <td>333.0</td>\n",
       "      <td>9817.61</td>\n",
       "      <td>70.0</td>\n",
       "    </tr>\n",
       "    <tr>\n",
       "      <td>8</td>\n",
       "      <td>1001</td>\n",
       "      <td>NaT</td>\n",
       "      <td>Москва</td>\n",
       "      <td>2018-11-01</td>\n",
       "      <td>smart</td>\n",
       "      <td>11</td>\n",
       "      <td>NaN</td>\n",
       "      <td>11.0</td>\n",
       "      <td>430.0</td>\n",
       "      <td>18429.34</td>\n",
       "      <td>0.0</td>\n",
       "    </tr>\n",
       "    <tr>\n",
       "      <td>9</td>\n",
       "      <td>1001</td>\n",
       "      <td>NaT</td>\n",
       "      <td>Москва</td>\n",
       "      <td>2018-11-01</td>\n",
       "      <td>smart</td>\n",
       "      <td>11</td>\n",
       "      <td>NaN</td>\n",
       "      <td>12.0</td>\n",
       "      <td>414.0</td>\n",
       "      <td>14036.66</td>\n",
       "      <td>0.0</td>\n",
       "    </tr>\n",
       "    <tr>\n",
       "      <td>10</td>\n",
       "      <td>1002</td>\n",
       "      <td>NaT</td>\n",
       "      <td>Стерлитамак</td>\n",
       "      <td>2018-06-17</td>\n",
       "      <td>smart</td>\n",
       "      <td>6</td>\n",
       "      <td>NaN</td>\n",
       "      <td>6.0</td>\n",
       "      <td>117.0</td>\n",
       "      <td>10856.82</td>\n",
       "      <td>4.0</td>\n",
       "    </tr>\n",
       "    <tr>\n",
       "      <td>11</td>\n",
       "      <td>1002</td>\n",
       "      <td>NaT</td>\n",
       "      <td>Стерлитамак</td>\n",
       "      <td>2018-06-17</td>\n",
       "      <td>smart</td>\n",
       "      <td>6</td>\n",
       "      <td>NaN</td>\n",
       "      <td>7.0</td>\n",
       "      <td>214.0</td>\n",
       "      <td>17580.10</td>\n",
       "      <td>11.0</td>\n",
       "    </tr>\n",
       "  </tbody>\n",
       "</table>\n",
       "</div>"
      ],
      "text/plain": [
       "    user_id churn_date         city   reg_date tariff  month_on  month_off  \\\n",
       "0      1000        NaT    Краснодар 2018-05-25  ultra         5        NaN   \n",
       "1      1000        NaT    Краснодар 2018-05-25  ultra         5        NaN   \n",
       "2      1000        NaT    Краснодар 2018-05-25  ultra         5        NaN   \n",
       "3      1000        NaT    Краснодар 2018-05-25  ultra         5        NaN   \n",
       "4      1000        NaT    Краснодар 2018-05-25  ultra         5        NaN   \n",
       "5      1000        NaT    Краснодар 2018-05-25  ultra         5        NaN   \n",
       "6      1000        NaT    Краснодар 2018-05-25  ultra         5        NaN   \n",
       "7      1000        NaT    Краснодар 2018-05-25  ultra         5        NaN   \n",
       "8      1001        NaT       Москва 2018-11-01  smart        11        NaN   \n",
       "9      1001        NaT       Москва 2018-11-01  smart        11        NaN   \n",
       "10     1002        NaT  Стерлитамак 2018-06-17  smart         6        NaN   \n",
       "11     1002        NaT  Стерлитамак 2018-06-17  smart         6        NaN   \n",
       "\n",
       "    month  duration   mb_used    id  \n",
       "0     5.0     159.0   2253.49  22.0  \n",
       "1     6.0     172.0  23233.77  60.0  \n",
       "2     7.0     340.0  14003.64  75.0  \n",
       "3     8.0     408.0  14055.93  81.0  \n",
       "4     9.0     466.0  14568.91  57.0  \n",
       "5    10.0     350.0  14702.49  73.0  \n",
       "6    11.0     338.0  14756.47  58.0  \n",
       "7    12.0     333.0   9817.61  70.0  \n",
       "8    11.0     430.0  18429.34   0.0  \n",
       "9    12.0     414.0  14036.66   0.0  \n",
       "10    6.0     117.0  10856.82   4.0  \n",
       "11    7.0     214.0  17580.10  11.0  "
      ]
     },
     "execution_count": 23,
     "metadata": {},
     "output_type": "execute_result"
    }
   ],
   "source": [
    "df_1 = df_users.merge(df, on=['user_id'], how='left')\n",
    "\n",
    "df_1['id'] = df_1['id'].fillna(0)\n",
    "df_1['duration'] = df_1['duration'].fillna(0)\n",
    "df_1['mb_used'] = df_1['mb_used'].fillna(0)\n",
    "df_1.head(12)"
   ]
  },
  {
   "cell_type": "markdown",
   "metadata": {},
   "source": [
    "6. Внесем в данную таблицу данные по лимитам и стоимости тарифов"
   ]
  },
  {
   "cell_type": "code",
   "execution_count": 24,
   "metadata": {},
   "outputs": [
    {
     "data": {
      "text/html": [
       "<div>\n",
       "<style scoped>\n",
       "    .dataframe tbody tr th:only-of-type {\n",
       "        vertical-align: middle;\n",
       "    }\n",
       "\n",
       "    .dataframe tbody tr th {\n",
       "        vertical-align: top;\n",
       "    }\n",
       "\n",
       "    .dataframe thead th {\n",
       "        text-align: right;\n",
       "    }\n",
       "</style>\n",
       "<table border=\"1\" class=\"dataframe\">\n",
       "  <thead>\n",
       "    <tr style=\"text-align: right;\">\n",
       "      <th></th>\n",
       "      <th>messages_included</th>\n",
       "      <th>mb_per_month_included</th>\n",
       "      <th>minutes_included</th>\n",
       "      <th>rub_monthly_fee</th>\n",
       "      <th>rub_per_gb</th>\n",
       "      <th>rub_per_message</th>\n",
       "      <th>rub_per_minute</th>\n",
       "      <th>tariff</th>\n",
       "    </tr>\n",
       "  </thead>\n",
       "  <tbody>\n",
       "    <tr>\n",
       "      <td>0</td>\n",
       "      <td>50</td>\n",
       "      <td>15360</td>\n",
       "      <td>500</td>\n",
       "      <td>550</td>\n",
       "      <td>200</td>\n",
       "      <td>3</td>\n",
       "      <td>3</td>\n",
       "      <td>smart</td>\n",
       "    </tr>\n",
       "    <tr>\n",
       "      <td>1</td>\n",
       "      <td>1000</td>\n",
       "      <td>30720</td>\n",
       "      <td>3000</td>\n",
       "      <td>1950</td>\n",
       "      <td>150</td>\n",
       "      <td>1</td>\n",
       "      <td>1</td>\n",
       "      <td>ultra</td>\n",
       "    </tr>\n",
       "  </tbody>\n",
       "</table>\n",
       "</div>"
      ],
      "text/plain": [
       "   messages_included  mb_per_month_included  minutes_included  \\\n",
       "0                 50                  15360               500   \n",
       "1               1000                  30720              3000   \n",
       "\n",
       "   rub_monthly_fee  rub_per_gb  rub_per_message  rub_per_minute tariff  \n",
       "0              550         200                3               3  smart  \n",
       "1             1950         150                1               1  ultra  "
      ]
     },
     "metadata": {},
     "output_type": "display_data"
    }
   ],
   "source": [
    "\n",
    "df_tariffs = df_tariffs.rename(columns={'tariff_name':'tariff'}) # переименуем столбец, для того чтобы в дальнейшем объединить две таблицы по столбцу \"тариф\"\n",
    "display(df_tariffs.head())"
   ]
  },
  {
   "cell_type": "code",
   "execution_count": 25,
   "metadata": {},
   "outputs": [
    {
     "data": {
      "text/html": [
       "<div>\n",
       "<style scoped>\n",
       "    .dataframe tbody tr th:only-of-type {\n",
       "        vertical-align: middle;\n",
       "    }\n",
       "\n",
       "    .dataframe tbody tr th {\n",
       "        vertical-align: top;\n",
       "    }\n",
       "\n",
       "    .dataframe thead th {\n",
       "        text-align: right;\n",
       "    }\n",
       "</style>\n",
       "<table border=\"1\" class=\"dataframe\">\n",
       "  <thead>\n",
       "    <tr style=\"text-align: right;\">\n",
       "      <th></th>\n",
       "      <th>user_id</th>\n",
       "      <th>churn_date</th>\n",
       "      <th>city</th>\n",
       "      <th>reg_date</th>\n",
       "      <th>tariff</th>\n",
       "      <th>month_on</th>\n",
       "      <th>month_off</th>\n",
       "      <th>month</th>\n",
       "      <th>duration</th>\n",
       "      <th>mb_used</th>\n",
       "      <th>id</th>\n",
       "      <th>messages_included</th>\n",
       "      <th>mb_per_month_included</th>\n",
       "      <th>minutes_included</th>\n",
       "      <th>rub_monthly_fee</th>\n",
       "      <th>rub_per_gb</th>\n",
       "      <th>rub_per_message</th>\n",
       "      <th>rub_per_minute</th>\n",
       "    </tr>\n",
       "  </thead>\n",
       "  <tbody>\n",
       "    <tr>\n",
       "      <td>0</td>\n",
       "      <td>1000</td>\n",
       "      <td>NaT</td>\n",
       "      <td>Краснодар</td>\n",
       "      <td>2018-05-25</td>\n",
       "      <td>ultra</td>\n",
       "      <td>5</td>\n",
       "      <td>NaN</td>\n",
       "      <td>5.0</td>\n",
       "      <td>159.0</td>\n",
       "      <td>2253.49</td>\n",
       "      <td>22.0</td>\n",
       "      <td>1000</td>\n",
       "      <td>30720</td>\n",
       "      <td>3000</td>\n",
       "      <td>1950</td>\n",
       "      <td>150</td>\n",
       "      <td>1</td>\n",
       "      <td>1</td>\n",
       "    </tr>\n",
       "    <tr>\n",
       "      <td>1</td>\n",
       "      <td>1000</td>\n",
       "      <td>NaT</td>\n",
       "      <td>Краснодар</td>\n",
       "      <td>2018-05-25</td>\n",
       "      <td>ultra</td>\n",
       "      <td>5</td>\n",
       "      <td>NaN</td>\n",
       "      <td>6.0</td>\n",
       "      <td>172.0</td>\n",
       "      <td>23233.77</td>\n",
       "      <td>60.0</td>\n",
       "      <td>1000</td>\n",
       "      <td>30720</td>\n",
       "      <td>3000</td>\n",
       "      <td>1950</td>\n",
       "      <td>150</td>\n",
       "      <td>1</td>\n",
       "      <td>1</td>\n",
       "    </tr>\n",
       "    <tr>\n",
       "      <td>2</td>\n",
       "      <td>1000</td>\n",
       "      <td>NaT</td>\n",
       "      <td>Краснодар</td>\n",
       "      <td>2018-05-25</td>\n",
       "      <td>ultra</td>\n",
       "      <td>5</td>\n",
       "      <td>NaN</td>\n",
       "      <td>7.0</td>\n",
       "      <td>340.0</td>\n",
       "      <td>14003.64</td>\n",
       "      <td>75.0</td>\n",
       "      <td>1000</td>\n",
       "      <td>30720</td>\n",
       "      <td>3000</td>\n",
       "      <td>1950</td>\n",
       "      <td>150</td>\n",
       "      <td>1</td>\n",
       "      <td>1</td>\n",
       "    </tr>\n",
       "    <tr>\n",
       "      <td>3</td>\n",
       "      <td>1000</td>\n",
       "      <td>NaT</td>\n",
       "      <td>Краснодар</td>\n",
       "      <td>2018-05-25</td>\n",
       "      <td>ultra</td>\n",
       "      <td>5</td>\n",
       "      <td>NaN</td>\n",
       "      <td>8.0</td>\n",
       "      <td>408.0</td>\n",
       "      <td>14055.93</td>\n",
       "      <td>81.0</td>\n",
       "      <td>1000</td>\n",
       "      <td>30720</td>\n",
       "      <td>3000</td>\n",
       "      <td>1950</td>\n",
       "      <td>150</td>\n",
       "      <td>1</td>\n",
       "      <td>1</td>\n",
       "    </tr>\n",
       "    <tr>\n",
       "      <td>4</td>\n",
       "      <td>1000</td>\n",
       "      <td>NaT</td>\n",
       "      <td>Краснодар</td>\n",
       "      <td>2018-05-25</td>\n",
       "      <td>ultra</td>\n",
       "      <td>5</td>\n",
       "      <td>NaN</td>\n",
       "      <td>9.0</td>\n",
       "      <td>466.0</td>\n",
       "      <td>14568.91</td>\n",
       "      <td>57.0</td>\n",
       "      <td>1000</td>\n",
       "      <td>30720</td>\n",
       "      <td>3000</td>\n",
       "      <td>1950</td>\n",
       "      <td>150</td>\n",
       "      <td>1</td>\n",
       "      <td>1</td>\n",
       "    </tr>\n",
       "  </tbody>\n",
       "</table>\n",
       "</div>"
      ],
      "text/plain": [
       "   user_id churn_date       city   reg_date tariff  month_on  month_off  \\\n",
       "0     1000        NaT  Краснодар 2018-05-25  ultra         5        NaN   \n",
       "1     1000        NaT  Краснодар 2018-05-25  ultra         5        NaN   \n",
       "2     1000        NaT  Краснодар 2018-05-25  ultra         5        NaN   \n",
       "3     1000        NaT  Краснодар 2018-05-25  ultra         5        NaN   \n",
       "4     1000        NaT  Краснодар 2018-05-25  ultra         5        NaN   \n",
       "\n",
       "   month  duration   mb_used    id  messages_included  mb_per_month_included  \\\n",
       "0    5.0     159.0   2253.49  22.0               1000                  30720   \n",
       "1    6.0     172.0  23233.77  60.0               1000                  30720   \n",
       "2    7.0     340.0  14003.64  75.0               1000                  30720   \n",
       "3    8.0     408.0  14055.93  81.0               1000                  30720   \n",
       "4    9.0     466.0  14568.91  57.0               1000                  30720   \n",
       "\n",
       "   minutes_included  rub_monthly_fee  rub_per_gb  rub_per_message  \\\n",
       "0              3000             1950         150                1   \n",
       "1              3000             1950         150                1   \n",
       "2              3000             1950         150                1   \n",
       "3              3000             1950         150                1   \n",
       "4              3000             1950         150                1   \n",
       "\n",
       "   rub_per_minute  \n",
       "0               1  \n",
       "1               1  \n",
       "2               1  \n",
       "3               1  \n",
       "4               1  "
      ]
     },
     "execution_count": 25,
     "metadata": {},
     "output_type": "execute_result"
    }
   ],
   "source": [
    "df_consolid = df_1.merge(df_tariffs, on=['tariff'], how='left') #объединяем таблицы в сводную таблицу\n",
    "df_consolid.head()\n"
   ]
  },
  {
   "cell_type": "markdown",
   "metadata": {},
   "source": [
    "7. Вычислим на каждого абонента помесячную выручку (вычтите бесплатный лимит из суммарного количества звонков, сообщений и интернет-трафика; остаток умножьте на значение из тарифного плана; прибавьте абонентскую плату, соответствующую тарифному плану).). Для этого напишем функцию и применим ее к каждой строке датафрейма."
   ]
  },
  {
   "cell_type": "code",
   "execution_count": 26,
   "metadata": {},
   "outputs": [],
   "source": [
    "def income_month(row):\n",
    "    b = row['rub_monthly_fee']\n",
    "    if row['duration'] > row['minutes_included']:\n",
    "        b = b + (row['duration'] - row['minutes_included']) * row['rub_per_minute']\n",
    "    if row['id'] > row['messages_included']:\n",
    "        b = b + (row['id'] - row['messages_included']) * row['rub_per_message']\n",
    "    if row['mb_used'] > row['mb_per_month_included']:\n",
    "        c = np.ceil((row['mb_used'] - row['mb_per_month_included']) / 1024)\n",
    "        b = b + c * row['rub_per_gb']\n",
    "    return b   "
   ]
  },
  {
   "cell_type": "code",
   "execution_count": 27,
   "metadata": {},
   "outputs": [],
   "source": [
    "df_consolid['income'] = df_consolid.apply(income_month, axis=1) # Добавление столбца с помесячным доходом с каждого пользователя\n"
   ]
  },
  {
   "cell_type": "code",
   "execution_count": 28,
   "metadata": {},
   "outputs": [
    {
     "data": {
      "text/html": [
       "<div>\n",
       "<style scoped>\n",
       "    .dataframe tbody tr th:only-of-type {\n",
       "        vertical-align: middle;\n",
       "    }\n",
       "\n",
       "    .dataframe tbody tr th {\n",
       "        vertical-align: top;\n",
       "    }\n",
       "\n",
       "    .dataframe thead th {\n",
       "        text-align: right;\n",
       "    }\n",
       "</style>\n",
       "<table border=\"1\" class=\"dataframe\">\n",
       "  <thead>\n",
       "    <tr style=\"text-align: right;\">\n",
       "      <th></th>\n",
       "      <th>user_id</th>\n",
       "      <th>churn_date</th>\n",
       "      <th>city</th>\n",
       "      <th>reg_date</th>\n",
       "      <th>tariff</th>\n",
       "      <th>month_on</th>\n",
       "      <th>month_off</th>\n",
       "      <th>month</th>\n",
       "      <th>duration</th>\n",
       "      <th>mb_used</th>\n",
       "      <th>id</th>\n",
       "      <th>messages_included</th>\n",
       "      <th>mb_per_month_included</th>\n",
       "      <th>minutes_included</th>\n",
       "      <th>rub_monthly_fee</th>\n",
       "      <th>rub_per_gb</th>\n",
       "      <th>rub_per_message</th>\n",
       "      <th>rub_per_minute</th>\n",
       "      <th>income</th>\n",
       "    </tr>\n",
       "  </thead>\n",
       "  <tbody>\n",
       "    <tr>\n",
       "      <td>0</td>\n",
       "      <td>1000</td>\n",
       "      <td>NaT</td>\n",
       "      <td>Краснодар</td>\n",
       "      <td>2018-05-25</td>\n",
       "      <td>ultra</td>\n",
       "      <td>5</td>\n",
       "      <td>NaN</td>\n",
       "      <td>5.0</td>\n",
       "      <td>159.0</td>\n",
       "      <td>2253.49</td>\n",
       "      <td>22.0</td>\n",
       "      <td>1000</td>\n",
       "      <td>30720</td>\n",
       "      <td>3000</td>\n",
       "      <td>1950</td>\n",
       "      <td>150</td>\n",
       "      <td>1</td>\n",
       "      <td>1</td>\n",
       "      <td>1950.0</td>\n",
       "    </tr>\n",
       "    <tr>\n",
       "      <td>1</td>\n",
       "      <td>1000</td>\n",
       "      <td>NaT</td>\n",
       "      <td>Краснодар</td>\n",
       "      <td>2018-05-25</td>\n",
       "      <td>ultra</td>\n",
       "      <td>5</td>\n",
       "      <td>NaN</td>\n",
       "      <td>6.0</td>\n",
       "      <td>172.0</td>\n",
       "      <td>23233.77</td>\n",
       "      <td>60.0</td>\n",
       "      <td>1000</td>\n",
       "      <td>30720</td>\n",
       "      <td>3000</td>\n",
       "      <td>1950</td>\n",
       "      <td>150</td>\n",
       "      <td>1</td>\n",
       "      <td>1</td>\n",
       "      <td>1950.0</td>\n",
       "    </tr>\n",
       "    <tr>\n",
       "      <td>2</td>\n",
       "      <td>1000</td>\n",
       "      <td>NaT</td>\n",
       "      <td>Краснодар</td>\n",
       "      <td>2018-05-25</td>\n",
       "      <td>ultra</td>\n",
       "      <td>5</td>\n",
       "      <td>NaN</td>\n",
       "      <td>7.0</td>\n",
       "      <td>340.0</td>\n",
       "      <td>14003.64</td>\n",
       "      <td>75.0</td>\n",
       "      <td>1000</td>\n",
       "      <td>30720</td>\n",
       "      <td>3000</td>\n",
       "      <td>1950</td>\n",
       "      <td>150</td>\n",
       "      <td>1</td>\n",
       "      <td>1</td>\n",
       "      <td>1950.0</td>\n",
       "    </tr>\n",
       "    <tr>\n",
       "      <td>3</td>\n",
       "      <td>1000</td>\n",
       "      <td>NaT</td>\n",
       "      <td>Краснодар</td>\n",
       "      <td>2018-05-25</td>\n",
       "      <td>ultra</td>\n",
       "      <td>5</td>\n",
       "      <td>NaN</td>\n",
       "      <td>8.0</td>\n",
       "      <td>408.0</td>\n",
       "      <td>14055.93</td>\n",
       "      <td>81.0</td>\n",
       "      <td>1000</td>\n",
       "      <td>30720</td>\n",
       "      <td>3000</td>\n",
       "      <td>1950</td>\n",
       "      <td>150</td>\n",
       "      <td>1</td>\n",
       "      <td>1</td>\n",
       "      <td>1950.0</td>\n",
       "    </tr>\n",
       "    <tr>\n",
       "      <td>4</td>\n",
       "      <td>1000</td>\n",
       "      <td>NaT</td>\n",
       "      <td>Краснодар</td>\n",
       "      <td>2018-05-25</td>\n",
       "      <td>ultra</td>\n",
       "      <td>5</td>\n",
       "      <td>NaN</td>\n",
       "      <td>9.0</td>\n",
       "      <td>466.0</td>\n",
       "      <td>14568.91</td>\n",
       "      <td>57.0</td>\n",
       "      <td>1000</td>\n",
       "      <td>30720</td>\n",
       "      <td>3000</td>\n",
       "      <td>1950</td>\n",
       "      <td>150</td>\n",
       "      <td>1</td>\n",
       "      <td>1</td>\n",
       "      <td>1950.0</td>\n",
       "    </tr>\n",
       "    <tr>\n",
       "      <td>5</td>\n",
       "      <td>1000</td>\n",
       "      <td>NaT</td>\n",
       "      <td>Краснодар</td>\n",
       "      <td>2018-05-25</td>\n",
       "      <td>ultra</td>\n",
       "      <td>5</td>\n",
       "      <td>NaN</td>\n",
       "      <td>10.0</td>\n",
       "      <td>350.0</td>\n",
       "      <td>14702.49</td>\n",
       "      <td>73.0</td>\n",
       "      <td>1000</td>\n",
       "      <td>30720</td>\n",
       "      <td>3000</td>\n",
       "      <td>1950</td>\n",
       "      <td>150</td>\n",
       "      <td>1</td>\n",
       "      <td>1</td>\n",
       "      <td>1950.0</td>\n",
       "    </tr>\n",
       "    <tr>\n",
       "      <td>6</td>\n",
       "      <td>1000</td>\n",
       "      <td>NaT</td>\n",
       "      <td>Краснодар</td>\n",
       "      <td>2018-05-25</td>\n",
       "      <td>ultra</td>\n",
       "      <td>5</td>\n",
       "      <td>NaN</td>\n",
       "      <td>11.0</td>\n",
       "      <td>338.0</td>\n",
       "      <td>14756.47</td>\n",
       "      <td>58.0</td>\n",
       "      <td>1000</td>\n",
       "      <td>30720</td>\n",
       "      <td>3000</td>\n",
       "      <td>1950</td>\n",
       "      <td>150</td>\n",
       "      <td>1</td>\n",
       "      <td>1</td>\n",
       "      <td>1950.0</td>\n",
       "    </tr>\n",
       "    <tr>\n",
       "      <td>7</td>\n",
       "      <td>1000</td>\n",
       "      <td>NaT</td>\n",
       "      <td>Краснодар</td>\n",
       "      <td>2018-05-25</td>\n",
       "      <td>ultra</td>\n",
       "      <td>5</td>\n",
       "      <td>NaN</td>\n",
       "      <td>12.0</td>\n",
       "      <td>333.0</td>\n",
       "      <td>9817.61</td>\n",
       "      <td>70.0</td>\n",
       "      <td>1000</td>\n",
       "      <td>30720</td>\n",
       "      <td>3000</td>\n",
       "      <td>1950</td>\n",
       "      <td>150</td>\n",
       "      <td>1</td>\n",
       "      <td>1</td>\n",
       "      <td>1950.0</td>\n",
       "    </tr>\n",
       "    <tr>\n",
       "      <td>8</td>\n",
       "      <td>1001</td>\n",
       "      <td>NaT</td>\n",
       "      <td>Москва</td>\n",
       "      <td>2018-11-01</td>\n",
       "      <td>smart</td>\n",
       "      <td>11</td>\n",
       "      <td>NaN</td>\n",
       "      <td>11.0</td>\n",
       "      <td>430.0</td>\n",
       "      <td>18429.34</td>\n",
       "      <td>0.0</td>\n",
       "      <td>50</td>\n",
       "      <td>15360</td>\n",
       "      <td>500</td>\n",
       "      <td>550</td>\n",
       "      <td>200</td>\n",
       "      <td>3</td>\n",
       "      <td>3</td>\n",
       "      <td>1150.0</td>\n",
       "    </tr>\n",
       "    <tr>\n",
       "      <td>9</td>\n",
       "      <td>1001</td>\n",
       "      <td>NaT</td>\n",
       "      <td>Москва</td>\n",
       "      <td>2018-11-01</td>\n",
       "      <td>smart</td>\n",
       "      <td>11</td>\n",
       "      <td>NaN</td>\n",
       "      <td>12.0</td>\n",
       "      <td>414.0</td>\n",
       "      <td>14036.66</td>\n",
       "      <td>0.0</td>\n",
       "      <td>50</td>\n",
       "      <td>15360</td>\n",
       "      <td>500</td>\n",
       "      <td>550</td>\n",
       "      <td>200</td>\n",
       "      <td>3</td>\n",
       "      <td>3</td>\n",
       "      <td>550.0</td>\n",
       "    </tr>\n",
       "    <tr>\n",
       "      <td>10</td>\n",
       "      <td>1002</td>\n",
       "      <td>NaT</td>\n",
       "      <td>Стерлитамак</td>\n",
       "      <td>2018-06-17</td>\n",
       "      <td>smart</td>\n",
       "      <td>6</td>\n",
       "      <td>NaN</td>\n",
       "      <td>6.0</td>\n",
       "      <td>117.0</td>\n",
       "      <td>10856.82</td>\n",
       "      <td>4.0</td>\n",
       "      <td>50</td>\n",
       "      <td>15360</td>\n",
       "      <td>500</td>\n",
       "      <td>550</td>\n",
       "      <td>200</td>\n",
       "      <td>3</td>\n",
       "      <td>3</td>\n",
       "      <td>550.0</td>\n",
       "    </tr>\n",
       "    <tr>\n",
       "      <td>11</td>\n",
       "      <td>1002</td>\n",
       "      <td>NaT</td>\n",
       "      <td>Стерлитамак</td>\n",
       "      <td>2018-06-17</td>\n",
       "      <td>smart</td>\n",
       "      <td>6</td>\n",
       "      <td>NaN</td>\n",
       "      <td>7.0</td>\n",
       "      <td>214.0</td>\n",
       "      <td>17580.10</td>\n",
       "      <td>11.0</td>\n",
       "      <td>50</td>\n",
       "      <td>15360</td>\n",
       "      <td>500</td>\n",
       "      <td>550</td>\n",
       "      <td>200</td>\n",
       "      <td>3</td>\n",
       "      <td>3</td>\n",
       "      <td>1150.0</td>\n",
       "    </tr>\n",
       "    <tr>\n",
       "      <td>12</td>\n",
       "      <td>1002</td>\n",
       "      <td>NaT</td>\n",
       "      <td>Стерлитамак</td>\n",
       "      <td>2018-06-17</td>\n",
       "      <td>smart</td>\n",
       "      <td>6</td>\n",
       "      <td>NaN</td>\n",
       "      <td>8.0</td>\n",
       "      <td>289.0</td>\n",
       "      <td>20319.26</td>\n",
       "      <td>13.0</td>\n",
       "      <td>50</td>\n",
       "      <td>15360</td>\n",
       "      <td>500</td>\n",
       "      <td>550</td>\n",
       "      <td>200</td>\n",
       "      <td>3</td>\n",
       "      <td>3</td>\n",
       "      <td>1550.0</td>\n",
       "    </tr>\n",
       "    <tr>\n",
       "      <td>13</td>\n",
       "      <td>1002</td>\n",
       "      <td>NaT</td>\n",
       "      <td>Стерлитамак</td>\n",
       "      <td>2018-06-17</td>\n",
       "      <td>smart</td>\n",
       "      <td>6</td>\n",
       "      <td>NaN</td>\n",
       "      <td>9.0</td>\n",
       "      <td>206.0</td>\n",
       "      <td>16691.08</td>\n",
       "      <td>4.0</td>\n",
       "      <td>50</td>\n",
       "      <td>15360</td>\n",
       "      <td>500</td>\n",
       "      <td>550</td>\n",
       "      <td>200</td>\n",
       "      <td>3</td>\n",
       "      <td>3</td>\n",
       "      <td>950.0</td>\n",
       "    </tr>\n",
       "    <tr>\n",
       "      <td>14</td>\n",
       "      <td>1002</td>\n",
       "      <td>NaT</td>\n",
       "      <td>Стерлитамак</td>\n",
       "      <td>2018-06-17</td>\n",
       "      <td>smart</td>\n",
       "      <td>6</td>\n",
       "      <td>NaN</td>\n",
       "      <td>10.0</td>\n",
       "      <td>212.0</td>\n",
       "      <td>13888.25</td>\n",
       "      <td>10.0</td>\n",
       "      <td>50</td>\n",
       "      <td>15360</td>\n",
       "      <td>500</td>\n",
       "      <td>550</td>\n",
       "      <td>200</td>\n",
       "      <td>3</td>\n",
       "      <td>3</td>\n",
       "      <td>550.0</td>\n",
       "    </tr>\n",
       "    <tr>\n",
       "      <td>15</td>\n",
       "      <td>1002</td>\n",
       "      <td>NaT</td>\n",
       "      <td>Стерлитамак</td>\n",
       "      <td>2018-06-17</td>\n",
       "      <td>smart</td>\n",
       "      <td>6</td>\n",
       "      <td>NaN</td>\n",
       "      <td>11.0</td>\n",
       "      <td>243.0</td>\n",
       "      <td>18587.28</td>\n",
       "      <td>16.0</td>\n",
       "      <td>50</td>\n",
       "      <td>15360</td>\n",
       "      <td>500</td>\n",
       "      <td>550</td>\n",
       "      <td>200</td>\n",
       "      <td>3</td>\n",
       "      <td>3</td>\n",
       "      <td>1350.0</td>\n",
       "    </tr>\n",
       "    <tr>\n",
       "      <td>16</td>\n",
       "      <td>1002</td>\n",
       "      <td>NaT</td>\n",
       "      <td>Стерлитамак</td>\n",
       "      <td>2018-06-17</td>\n",
       "      <td>smart</td>\n",
       "      <td>6</td>\n",
       "      <td>NaN</td>\n",
       "      <td>12.0</td>\n",
       "      <td>236.0</td>\n",
       "      <td>18113.73</td>\n",
       "      <td>12.0</td>\n",
       "      <td>50</td>\n",
       "      <td>15360</td>\n",
       "      <td>500</td>\n",
       "      <td>550</td>\n",
       "      <td>200</td>\n",
       "      <td>3</td>\n",
       "      <td>3</td>\n",
       "      <td>1150.0</td>\n",
       "    </tr>\n",
       "    <tr>\n",
       "      <td>17</td>\n",
       "      <td>1003</td>\n",
       "      <td>NaT</td>\n",
       "      <td>Москва</td>\n",
       "      <td>2018-08-17</td>\n",
       "      <td>ultra</td>\n",
       "      <td>8</td>\n",
       "      <td>NaN</td>\n",
       "      <td>8.0</td>\n",
       "      <td>380.0</td>\n",
       "      <td>8565.21</td>\n",
       "      <td>37.0</td>\n",
       "      <td>1000</td>\n",
       "      <td>30720</td>\n",
       "      <td>3000</td>\n",
       "      <td>1950</td>\n",
       "      <td>150</td>\n",
       "      <td>1</td>\n",
       "      <td>1</td>\n",
       "      <td>1950.0</td>\n",
       "    </tr>\n",
       "    <tr>\n",
       "      <td>18</td>\n",
       "      <td>1003</td>\n",
       "      <td>NaT</td>\n",
       "      <td>Москва</td>\n",
       "      <td>2018-08-17</td>\n",
       "      <td>ultra</td>\n",
       "      <td>8</td>\n",
       "      <td>NaN</td>\n",
       "      <td>9.0</td>\n",
       "      <td>961.0</td>\n",
       "      <td>12468.87</td>\n",
       "      <td>91.0</td>\n",
       "      <td>1000</td>\n",
       "      <td>30720</td>\n",
       "      <td>3000</td>\n",
       "      <td>1950</td>\n",
       "      <td>150</td>\n",
       "      <td>1</td>\n",
       "      <td>1</td>\n",
       "      <td>1950.0</td>\n",
       "    </tr>\n",
       "    <tr>\n",
       "      <td>19</td>\n",
       "      <td>1003</td>\n",
       "      <td>NaT</td>\n",
       "      <td>Москва</td>\n",
       "      <td>2018-08-17</td>\n",
       "      <td>ultra</td>\n",
       "      <td>8</td>\n",
       "      <td>NaN</td>\n",
       "      <td>10.0</td>\n",
       "      <td>855.0</td>\n",
       "      <td>14768.14</td>\n",
       "      <td>83.0</td>\n",
       "      <td>1000</td>\n",
       "      <td>30720</td>\n",
       "      <td>3000</td>\n",
       "      <td>1950</td>\n",
       "      <td>150</td>\n",
       "      <td>1</td>\n",
       "      <td>1</td>\n",
       "      <td>1950.0</td>\n",
       "    </tr>\n",
       "  </tbody>\n",
       "</table>\n",
       "</div>"
      ],
      "text/plain": [
       "    user_id churn_date         city   reg_date tariff  month_on  month_off  \\\n",
       "0      1000        NaT    Краснодар 2018-05-25  ultra         5        NaN   \n",
       "1      1000        NaT    Краснодар 2018-05-25  ultra         5        NaN   \n",
       "2      1000        NaT    Краснодар 2018-05-25  ultra         5        NaN   \n",
       "3      1000        NaT    Краснодар 2018-05-25  ultra         5        NaN   \n",
       "4      1000        NaT    Краснодар 2018-05-25  ultra         5        NaN   \n",
       "5      1000        NaT    Краснодар 2018-05-25  ultra         5        NaN   \n",
       "6      1000        NaT    Краснодар 2018-05-25  ultra         5        NaN   \n",
       "7      1000        NaT    Краснодар 2018-05-25  ultra         5        NaN   \n",
       "8      1001        NaT       Москва 2018-11-01  smart        11        NaN   \n",
       "9      1001        NaT       Москва 2018-11-01  smart        11        NaN   \n",
       "10     1002        NaT  Стерлитамак 2018-06-17  smart         6        NaN   \n",
       "11     1002        NaT  Стерлитамак 2018-06-17  smart         6        NaN   \n",
       "12     1002        NaT  Стерлитамак 2018-06-17  smart         6        NaN   \n",
       "13     1002        NaT  Стерлитамак 2018-06-17  smart         6        NaN   \n",
       "14     1002        NaT  Стерлитамак 2018-06-17  smart         6        NaN   \n",
       "15     1002        NaT  Стерлитамак 2018-06-17  smart         6        NaN   \n",
       "16     1002        NaT  Стерлитамак 2018-06-17  smart         6        NaN   \n",
       "17     1003        NaT       Москва 2018-08-17  ultra         8        NaN   \n",
       "18     1003        NaT       Москва 2018-08-17  ultra         8        NaN   \n",
       "19     1003        NaT       Москва 2018-08-17  ultra         8        NaN   \n",
       "\n",
       "    month  duration   mb_used    id  messages_included  mb_per_month_included  \\\n",
       "0     5.0     159.0   2253.49  22.0               1000                  30720   \n",
       "1     6.0     172.0  23233.77  60.0               1000                  30720   \n",
       "2     7.0     340.0  14003.64  75.0               1000                  30720   \n",
       "3     8.0     408.0  14055.93  81.0               1000                  30720   \n",
       "4     9.0     466.0  14568.91  57.0               1000                  30720   \n",
       "5    10.0     350.0  14702.49  73.0               1000                  30720   \n",
       "6    11.0     338.0  14756.47  58.0               1000                  30720   \n",
       "7    12.0     333.0   9817.61  70.0               1000                  30720   \n",
       "8    11.0     430.0  18429.34   0.0                 50                  15360   \n",
       "9    12.0     414.0  14036.66   0.0                 50                  15360   \n",
       "10    6.0     117.0  10856.82   4.0                 50                  15360   \n",
       "11    7.0     214.0  17580.10  11.0                 50                  15360   \n",
       "12    8.0     289.0  20319.26  13.0                 50                  15360   \n",
       "13    9.0     206.0  16691.08   4.0                 50                  15360   \n",
       "14   10.0     212.0  13888.25  10.0                 50                  15360   \n",
       "15   11.0     243.0  18587.28  16.0                 50                  15360   \n",
       "16   12.0     236.0  18113.73  12.0                 50                  15360   \n",
       "17    8.0     380.0   8565.21  37.0               1000                  30720   \n",
       "18    9.0     961.0  12468.87  91.0               1000                  30720   \n",
       "19   10.0     855.0  14768.14  83.0               1000                  30720   \n",
       "\n",
       "    minutes_included  rub_monthly_fee  rub_per_gb  rub_per_message  \\\n",
       "0               3000             1950         150                1   \n",
       "1               3000             1950         150                1   \n",
       "2               3000             1950         150                1   \n",
       "3               3000             1950         150                1   \n",
       "4               3000             1950         150                1   \n",
       "5               3000             1950         150                1   \n",
       "6               3000             1950         150                1   \n",
       "7               3000             1950         150                1   \n",
       "8                500              550         200                3   \n",
       "9                500              550         200                3   \n",
       "10               500              550         200                3   \n",
       "11               500              550         200                3   \n",
       "12               500              550         200                3   \n",
       "13               500              550         200                3   \n",
       "14               500              550         200                3   \n",
       "15               500              550         200                3   \n",
       "16               500              550         200                3   \n",
       "17              3000             1950         150                1   \n",
       "18              3000             1950         150                1   \n",
       "19              3000             1950         150                1   \n",
       "\n",
       "    rub_per_minute  income  \n",
       "0                1  1950.0  \n",
       "1                1  1950.0  \n",
       "2                1  1950.0  \n",
       "3                1  1950.0  \n",
       "4                1  1950.0  \n",
       "5                1  1950.0  \n",
       "6                1  1950.0  \n",
       "7                1  1950.0  \n",
       "8                3  1150.0  \n",
       "9                3   550.0  \n",
       "10               3   550.0  \n",
       "11               3  1150.0  \n",
       "12               3  1550.0  \n",
       "13               3   950.0  \n",
       "14               3   550.0  \n",
       "15               3  1350.0  \n",
       "16               3  1150.0  \n",
       "17               1  1950.0  \n",
       "18               1  1950.0  \n",
       "19               1  1950.0  "
      ]
     },
     "execution_count": 28,
     "metadata": {},
     "output_type": "execute_result"
    }
   ],
   "source": [
    "df_consolid.head(20)"
   ]
  },
  {
   "cell_type": "markdown",
   "metadata": {},
   "source": [
    "**2. Вывод**\n",
    "\n",
    "В данном разделе соединили все таблицы в единую собрав все необходимые данные для анализа.\n",
    "Посчитала доход с каждого пользователя."
   ]
  },
  {
   "cell_type": "code",
   "execution_count": 29,
   "metadata": {},
   "outputs": [
    {
     "name": "stdout",
     "output_type": "stream",
     "text": [
      "<class 'pandas.core.frame.DataFrame'>\n",
      "Int64Index: 3216 entries, 0 to 3215\n",
      "Data columns (total 19 columns):\n",
      "user_id                  3216 non-null int64\n",
      "churn_date               189 non-null datetime64[ns]\n",
      "city                     3216 non-null object\n",
      "reg_date                 3216 non-null datetime64[ns]\n",
      "tariff                   3216 non-null object\n",
      "month_on                 3216 non-null int64\n",
      "month_off                189 non-null float64\n",
      "month                    3214 non-null float64\n",
      "duration                 3216 non-null float64\n",
      "mb_used                  3216 non-null float64\n",
      "id                       3216 non-null float64\n",
      "messages_included        3216 non-null int64\n",
      "mb_per_month_included    3216 non-null int64\n",
      "minutes_included         3216 non-null int64\n",
      "rub_monthly_fee          3216 non-null int64\n",
      "rub_per_gb               3216 non-null int64\n",
      "rub_per_message          3216 non-null int64\n",
      "rub_per_minute           3216 non-null int64\n",
      "income                   3216 non-null float64\n",
      "dtypes: datetime64[ns](2), float64(6), int64(9), object(2)\n",
      "memory usage: 502.5+ KB\n"
     ]
    }
   ],
   "source": [
    "df_consolid.info()"
   ]
  },
  {
   "cell_type": "markdown",
   "metadata": {},
   "source": [
    "**3. Анализ данных**\n"
   ]
  },
  {
   "cell_type": "markdown",
   "metadata": {},
   "source": [
    "1. Для анализа поведения абонентов каждого тарифа выясним сколько расходуют эти группы в среднем сообщений, минут разговора и интернет-трафика. "
   ]
  },
  {
   "cell_type": "code",
   "execution_count": 30,
   "metadata": {},
   "outputs": [
    {
     "data": {
      "text/html": [
       "<div>\n",
       "<style scoped>\n",
       "    .dataframe tbody tr th:only-of-type {\n",
       "        vertical-align: middle;\n",
       "    }\n",
       "\n",
       "    .dataframe tbody tr th {\n",
       "        vertical-align: top;\n",
       "    }\n",
       "\n",
       "    .dataframe thead th {\n",
       "        text-align: right;\n",
       "    }\n",
       "</style>\n",
       "<table border=\"1\" class=\"dataframe\">\n",
       "  <thead>\n",
       "    <tr style=\"text-align: right;\">\n",
       "      <th></th>\n",
       "      <th>duration</th>\n",
       "      <th>mb_used</th>\n",
       "      <th>id</th>\n",
       "    </tr>\n",
       "    <tr>\n",
       "      <th>tariff</th>\n",
       "      <th></th>\n",
       "      <th></th>\n",
       "      <th></th>\n",
       "    </tr>\n",
       "  </thead>\n",
       "  <tbody>\n",
       "    <tr>\n",
       "      <td>smart</td>\n",
       "      <td>417.747534</td>\n",
       "      <td>16201.118655</td>\n",
       "      <td>33.369058</td>\n",
       "    </tr>\n",
       "    <tr>\n",
       "      <td>ultra</td>\n",
       "      <td>526.089249</td>\n",
       "      <td>19449.059970</td>\n",
       "      <td>49.313387</td>\n",
       "    </tr>\n",
       "  </tbody>\n",
       "</table>\n",
       "</div>"
      ],
      "text/plain": [
       "          duration       mb_used         id\n",
       "tariff                                     \n",
       "smart   417.747534  16201.118655  33.369058\n",
       "ultra   526.089249  19449.059970  49.313387"
      ]
     },
     "metadata": {},
     "output_type": "display_data"
    }
   ],
   "source": [
    "df_tarif_user = df_consolid.groupby('tariff')['duration', 'mb_used', 'id'].mean()\n",
    "display(df_tarif_user)"
   ]
  },
  {
   "cell_type": "code",
   "execution_count": 31,
   "metadata": {},
   "outputs": [
    {
     "data": {
      "text/html": [
       "<div>\n",
       "<style scoped>\n",
       "    .dataframe tbody tr th:only-of-type {\n",
       "        vertical-align: middle;\n",
       "    }\n",
       "\n",
       "    .dataframe tbody tr th {\n",
       "        vertical-align: top;\n",
       "    }\n",
       "\n",
       "    .dataframe thead th {\n",
       "        text-align: right;\n",
       "    }\n",
       "</style>\n",
       "<table border=\"1\" class=\"dataframe\">\n",
       "  <thead>\n",
       "    <tr style=\"text-align: right;\">\n",
       "      <th></th>\n",
       "      <th>messages_included</th>\n",
       "      <th>mb_per_month_included</th>\n",
       "      <th>minutes_included</th>\n",
       "      <th>rub_monthly_fee</th>\n",
       "      <th>rub_per_gb</th>\n",
       "      <th>rub_per_message</th>\n",
       "      <th>rub_per_minute</th>\n",
       "      <th>tariff</th>\n",
       "    </tr>\n",
       "  </thead>\n",
       "  <tbody>\n",
       "    <tr>\n",
       "      <td>0</td>\n",
       "      <td>50</td>\n",
       "      <td>15360</td>\n",
       "      <td>500</td>\n",
       "      <td>550</td>\n",
       "      <td>200</td>\n",
       "      <td>3</td>\n",
       "      <td>3</td>\n",
       "      <td>smart</td>\n",
       "    </tr>\n",
       "    <tr>\n",
       "      <td>1</td>\n",
       "      <td>1000</td>\n",
       "      <td>30720</td>\n",
       "      <td>3000</td>\n",
       "      <td>1950</td>\n",
       "      <td>150</td>\n",
       "      <td>1</td>\n",
       "      <td>1</td>\n",
       "      <td>ultra</td>\n",
       "    </tr>\n",
       "  </tbody>\n",
       "</table>\n",
       "</div>"
      ],
      "text/plain": [
       "   messages_included  mb_per_month_included  minutes_included  \\\n",
       "0                 50                  15360               500   \n",
       "1               1000                  30720              3000   \n",
       "\n",
       "   rub_monthly_fee  rub_per_gb  rub_per_message  rub_per_minute tariff  \n",
       "0              550         200                3               3  smart  \n",
       "1             1950         150                1               1  ultra  "
      ]
     },
     "metadata": {},
     "output_type": "display_data"
    }
   ],
   "source": [
    "display(df_tariffs.head())"
   ]
  },
  {
   "cell_type": "markdown",
   "metadata": {},
   "source": [
    "В среднем абоненты тарифа smart перерасходуют только интернет-трафик. Остальные абоненты в среднем выдерживают лимиты отведенные тарифом."
   ]
  },
  {
   "cell_type": "markdown",
   "metadata": {},
   "source": [
    "2. Посчитаем среднее значение, дисперсию и стандартное отклонение по минутам звонков, смс сообщений и интернет-трафика для каждого тарифа ."
   ]
  },
  {
   "cell_type": "code",
   "execution_count": 32,
   "metadata": {},
   "outputs": [],
   "source": [
    "smart = df_consolid.query('tariff == \"smart\"') # срез по тарифу смарт"
   ]
  },
  {
   "cell_type": "code",
   "execution_count": 33,
   "metadata": {},
   "outputs": [
    {
     "data": {
      "text/plain": [
       "month\n",
       "1.0     203.852941\n",
       "2.0     298.689655\n",
       "3.0     390.051948\n",
       "4.0     367.133929\n",
       "5.0     387.361702\n",
       "6.0     395.640244\n",
       "7.0     408.353234\n",
       "8.0     421.468085\n",
       "9.0     428.611538\n",
       "10.0    426.136054\n",
       "11.0    435.265823\n",
       "12.0    478.560831\n",
       "Name: duration, dtype: float64"
      ]
     },
     "metadata": {},
     "output_type": "display_data"
    }
   ],
   "source": [
    "\n",
    "c_sm = smart.groupby('month')['duration'].mean() # среднее тарифа Смарт по длительности звонков в каждом месяце\n",
    "display(c_sm)\n"
   ]
  },
  {
   "cell_type": "code",
   "execution_count": 34,
   "metadata": {},
   "outputs": [
    {
     "data": {
      "text/plain": [
       "386.76049870568664"
      ]
     },
     "execution_count": 34,
     "metadata": {},
     "output_type": "execute_result"
    }
   ],
   "source": [
    "c_sm.mean() # средняя сумма звонков по тарифу в месяц"
   ]
  },
  {
   "cell_type": "code",
   "execution_count": 35,
   "metadata": {},
   "outputs": [
    {
     "data": {
      "text/plain": [
       "5221.797220419809"
      ]
     },
     "execution_count": 35,
     "metadata": {},
     "output_type": "execute_result"
    }
   ],
   "source": [
    "np.var(c_sm, ddof=1) # дисперсия"
   ]
  },
  {
   "cell_type": "code",
   "execution_count": 36,
   "metadata": {},
   "outputs": [
    {
     "data": {
      "text/plain": [
       "72.26200398840187"
      ]
     },
     "execution_count": 36,
     "metadata": {},
     "output_type": "execute_result"
    }
   ],
   "source": [
    "np.std(c_sm, ddof=1) # стандартное отклонение"
   ]
  },
  {
   "cell_type": "code",
   "execution_count": 37,
   "metadata": {},
   "outputs": [
    {
     "data": {
      "text/plain": [
       "<matplotlib.axes._subplots.AxesSubplot at 0x7fe1d1d89150>"
      ]
     },
     "execution_count": 37,
     "metadata": {},
     "output_type": "execute_result"
    },
    {
     "data": {
      "image/png": "[encoded data removed]",
      "text/plain": [
       "<Figure size 432x288 with 1 Axes>"
      ]
     },
     "metadata": {
      "needs_background": "light"
     },
     "output_type": "display_data"
    }
   ],
   "source": [
    "smart['duration'].hist(bins = 50)"
   ]
  },
  {
   "cell_type": "markdown",
   "metadata": {},
   "source": [
    "Гистограмма распределена нормально. Это значит, что чаще всего встречаются среднее значение и близкие к нему. \n",
    "Большинство значений лежит в промежутке от 387-3 * 72 до 387+3 * 72= от 171 до 603 минут звонков большинство абонентов тарифа Смарт используют в месяц.   \n"
   ]
  },
  {
   "cell_type": "code",
   "execution_count": 38,
   "metadata": {},
   "outputs": [
    {
     "data": {
      "text/plain": [
       "month\n",
       "1.0     18.235294\n",
       "2.0     24.086207\n",
       "3.0     31.857143\n",
       "4.0     30.741071\n",
       "5.0     33.773050\n",
       "6.0     33.402439\n",
       "7.0     33.751244\n",
       "8.0     33.638298\n",
       "9.0     33.638462\n",
       "10.0    33.765306\n",
       "11.0    34.075949\n",
       "12.0    35.994065\n",
       "Name: id, dtype: float64"
      ]
     },
     "metadata": {},
     "output_type": "display_data"
    }
   ],
   "source": [
    "mess_sm = smart.groupby('month')['id'].mean() # среднее для тарифа Смарт количество сообщений в каждом месяце\n",
    "display(mess_sm)"
   ]
  },
  {
   "cell_type": "code",
   "execution_count": 39,
   "metadata": {},
   "outputs": [
    {
     "data": {
      "text/plain": [
       "31.413210661085547"
      ]
     },
     "execution_count": 39,
     "metadata": {},
     "output_type": "execute_result"
    }
   ],
   "source": [
    "mess_sm.mean() # среднее количество сообщений по тарифу в месяц"
   ]
  },
  {
   "cell_type": "code",
   "execution_count": 40,
   "metadata": {},
   "outputs": [
    {
     "data": {
      "text/plain": [
       "26.0448270922888"
      ]
     },
     "execution_count": 40,
     "metadata": {},
     "output_type": "execute_result"
    }
   ],
   "source": [
    "np.var(mess_sm, ddof=1) # дисперсия"
   ]
  },
  {
   "cell_type": "code",
   "execution_count": 41,
   "metadata": {},
   "outputs": [
    {
     "data": {
      "text/plain": [
       "5.103413278609601"
      ]
     },
     "execution_count": 41,
     "metadata": {},
     "output_type": "execute_result"
    }
   ],
   "source": [
    "np.std(mess_sm, ddof=1) # стандартное отклонение"
   ]
  },
  {
   "cell_type": "code",
   "execution_count": 42,
   "metadata": {},
   "outputs": [
    {
     "data": {
      "text/plain": [
       "<matplotlib.axes._subplots.AxesSubplot at 0x7fe1d1c27510>"
      ]
     },
     "execution_count": 42,
     "metadata": {},
     "output_type": "execute_result"
    },
    {
     "data": {
      "image/png": "[encoded data removed]",
      "text/plain": [
       "<Figure size 432x288 with 1 Axes>"
      ]
     },
     "metadata": {
      "needs_background": "light"
     },
     "output_type": "display_data"
    }
   ],
   "source": [
    "smart['id'].hist(bins = 50)"
   ]
  },
  {
   "cell_type": "markdown",
   "metadata": {},
   "source": [
    "Гистограмма скошена вправо. Это значит, что чаще встречается значение, которое не является средним.\n",
    "Большинство значений лежит в промежутке от 31-3* 5  до 31+3*5 = от 16 до 46 количество сообщений большинство абонентов тарифа Смарт используют в месяц."
   ]
  },
  {
   "cell_type": "code",
   "execution_count": 43,
   "metadata": {},
   "outputs": [
    {
     "data": {
      "text/plain": [
       "month\n",
       "1.0      8513.717647\n",
       "2.0     11597.054310\n",
       "3.0     15104.159091\n",
       "4.0     13462.180625\n",
       "5.0     15805.184326\n",
       "6.0     15794.647988\n",
       "7.0     15743.150348\n",
       "8.0     16610.720085\n",
       "9.0     16303.578808\n",
       "10.0    16757.122891\n",
       "11.0    16895.696646\n",
       "12.0    18113.662047\n",
       "Name: mb_used, dtype: float64"
      ]
     },
     "metadata": {},
     "output_type": "display_data"
    }
   ],
   "source": [
    "mb_sm = smart.groupby('month')['mb_used'].mean() # среднее для тарифа Смарт количество мегабайт в каждом месяце\n",
    "display(mb_sm)"
   ]
  },
  {
   "cell_type": "code",
   "execution_count": 44,
   "metadata": {},
   "outputs": [
    {
     "data": {
      "text/plain": [
       "15058.406234384995"
      ]
     },
     "execution_count": 44,
     "metadata": {},
     "output_type": "execute_result"
    }
   ],
   "source": [
    "mb_sm.mean()  # среднее количество мегабайт в месяц по тарифу Смарт "
   ]
  },
  {
   "cell_type": "code",
   "execution_count": 45,
   "metadata": {},
   "outputs": [
    {
     "data": {
      "text/plain": [
       "7135321.341220865"
      ]
     },
     "execution_count": 45,
     "metadata": {},
     "output_type": "execute_result"
    }
   ],
   "source": [
    "np.var(mb_sm, ddof=1) # дисперсия"
   ]
  },
  {
   "cell_type": "code",
   "execution_count": 46,
   "metadata": {},
   "outputs": [
    {
     "data": {
      "text/plain": [
       "2671.202227690907"
      ]
     },
     "execution_count": 46,
     "metadata": {},
     "output_type": "execute_result"
    }
   ],
   "source": [
    "np.std(mb_sm, ddof=1) # стандартное отклонение"
   ]
  },
  {
   "cell_type": "code",
   "execution_count": 47,
   "metadata": {},
   "outputs": [
    {
     "data": {
      "text/plain": [
       "<matplotlib.axes._subplots.AxesSubplot at 0x7fe1d0815450>"
      ]
     },
     "execution_count": 47,
     "metadata": {},
     "output_type": "execute_result"
    },
    {
     "data": {
      "image/png": "[encoded data removed]",
      "text/plain": [
       "<Figure size 432x288 with 1 Axes>"
      ]
     },
     "metadata": {
      "needs_background": "light"
     },
     "output_type": "display_data"
    }
   ],
   "source": [
    "smart['mb_used'].hist(bins = 50) # вывод гистограммы"
   ]
  },
  {
   "cell_type": "markdown",
   "metadata": {},
   "source": [
    "Гистограмма распределена нормально. Это значит, что чаще всего встречаются среднее значение и близкие к нему.\n",
    "Большинство значений лежит в промежутке от 15064-3* 2675 до 15064+3*2675 = от 7039 до 23089 количество мегабайт большинство абонентов тарифа Смарт используют в месяц."
   ]
  },
  {
   "cell_type": "code",
   "execution_count": 48,
   "metadata": {},
   "outputs": [],
   "source": [
    "ultra = df_consolid.query('tariff == \"ultra\"') # срез по тарифу ультра"
   ]
  },
  {
   "cell_type": "code",
   "execution_count": 49,
   "metadata": {},
   "outputs": [
    {
     "data": {
      "text/plain": [
       "month\n",
       "1.0     428.111111\n",
       "2.0     297.125000\n",
       "3.0     489.648649\n",
       "4.0     458.018182\n",
       "5.0     510.328358\n",
       "6.0     479.702381\n",
       "7.0     545.791209\n",
       "8.0     510.775701\n",
       "9.0     539.443478\n",
       "10.0    558.081301\n",
       "11.0    541.380597\n",
       "12.0    592.805755\n",
       "Name: duration, dtype: float64"
      ]
     },
     "metadata": {},
     "output_type": "display_data"
    }
   ],
   "source": [
    "c_ult = ultra.groupby('month')['duration'].mean() # среднее тарифа Ультра по длительности звонков в каждом месяце\n",
    "display(c_ult)"
   ]
  },
  {
   "cell_type": "code",
   "execution_count": 50,
   "metadata": {},
   "outputs": [
    {
     "data": {
      "text/plain": [
       "495.9343101624627"
      ]
     },
     "execution_count": 50,
     "metadata": {},
     "output_type": "execute_result"
    }
   ],
   "source": [
    "c_ult.mean() # средняя сумма звонков по тарифу Ультра в месяц"
   ]
  },
  {
   "cell_type": "code",
   "execution_count": 51,
   "metadata": {},
   "outputs": [
    {
     "data": {
      "text/plain": [
       "495.9343101624627"
      ]
     },
     "execution_count": 51,
     "metadata": {},
     "output_type": "execute_result"
    }
   ],
   "source": [
    "c_ult.mean()  # средняя сумма звонков по тарифу Ультра в месяц"
   ]
  },
  {
   "cell_type": "code",
   "execution_count": 52,
   "metadata": {},
   "outputs": [
    {
     "data": {
      "text/plain": [
       "5998.513625261545"
      ]
     },
     "execution_count": 52,
     "metadata": {},
     "output_type": "execute_result"
    }
   ],
   "source": [
    "np.var(c_ult, ddof=1) # дисперсия"
   ]
  },
  {
   "cell_type": "code",
   "execution_count": 53,
   "metadata": {},
   "outputs": [
    {
     "data": {
      "text/plain": [
       "77.45007182218454"
      ]
     },
     "execution_count": 53,
     "metadata": {},
     "output_type": "execute_result"
    }
   ],
   "source": [
    "np.std(c_ult, ddof=1) # стандартное отклонение"
   ]
  },
  {
   "cell_type": "code",
   "execution_count": 54,
   "metadata": {},
   "outputs": [
    {
     "data": {
      "text/plain": [
       "<matplotlib.axes._subplots.AxesSubplot at 0x7fe1cf602750>"
      ]
     },
     "execution_count": 54,
     "metadata": {},
     "output_type": "execute_result"
    },
    {
     "data": {
      "image/png": "[encoded data removed]",
      "text/plain": [
       "<Figure size 432x288 with 1 Axes>"
      ]
     },
     "metadata": {
      "needs_background": "light"
     },
     "output_type": "display_data"
    }
   ],
   "source": [
    "ultra['duration'].hist(bins = 50) # вывод гистограммы распределения звонков"
   ]
  },
  {
   "cell_type": "markdown",
   "metadata": {},
   "source": [
    "Гистограмма распределена нормально. Есть выброс. Большинство значений лежит в промежутке от 499-3* 74 до 499+3*74 = от 277 до 721 количество минут звонков большинство абонентов тарифа Ультра используют в месяц."
   ]
  },
  {
   "cell_type": "code",
   "execution_count": 55,
   "metadata": {},
   "outputs": [
    {
     "data": {
      "text/plain": [
       "month\n",
       "1.0     33.777778\n",
       "2.0     21.958333\n",
       "3.0     32.297297\n",
       "4.0     31.563636\n",
       "5.0     37.850746\n",
       "6.0     41.726190\n",
       "7.0     49.846154\n",
       "8.0     48.439252\n",
       "9.0     52.286957\n",
       "10.0    58.430894\n",
       "11.0    55.791045\n",
       "12.0    60.611511\n",
       "Name: id, dtype: float64"
      ]
     },
     "metadata": {},
     "output_type": "display_data"
    }
   ],
   "source": [
    "mes_ult = ultra.groupby('month')['id'].mean() # среднее тарифа Ультра по количеству сообщений в каждом месяце\n",
    "display(mes_ult)"
   ]
  },
  {
   "cell_type": "code",
   "execution_count": 56,
   "metadata": {},
   "outputs": [
    {
     "data": {
      "text/plain": [
       "43.71498284147191"
      ]
     },
     "execution_count": 56,
     "metadata": {},
     "output_type": "execute_result"
    }
   ],
   "source": [
    "mes_ult.mean() # среднее количество сообщений по тарифу Ультра в месяц\n"
   ]
  },
  {
   "cell_type": "code",
   "execution_count": 57,
   "metadata": {},
   "outputs": [
    {
     "data": {
      "text/plain": [
       "151.79398765605353"
      ]
     },
     "execution_count": 57,
     "metadata": {},
     "output_type": "execute_result"
    }
   ],
   "source": [
    "np.var(mes_ult, ddof=1) # дисперсия"
   ]
  },
  {
   "cell_type": "code",
   "execution_count": 58,
   "metadata": {},
   "outputs": [
    {
     "data": {
      "text/plain": [
       "12.320470269273553"
      ]
     },
     "execution_count": 58,
     "metadata": {},
     "output_type": "execute_result"
    }
   ],
   "source": [
    "np.std(mes_ult, ddof=1) # стандартное отклонение"
   ]
  },
  {
   "cell_type": "code",
   "execution_count": 59,
   "metadata": {},
   "outputs": [
    {
     "data": {
      "text/plain": [
       "<matplotlib.axes._subplots.AxesSubplot at 0x7fe1cf513910>"
      ]
     },
     "execution_count": 59,
     "metadata": {},
     "output_type": "execute_result"
    },
    {
     "data": {
      "image/png": "[encoded data removed]",
      "text/plain": [
       "<Figure size 432x288 with 1 Axes>"
      ]
     },
     "metadata": {
      "needs_background": "light"
     },
     "output_type": "display_data"
    }
   ],
   "source": [
    "ultra['id'].hist(bins = 50) # вывод гистограммы распределения количества сообщений"
   ]
  },
  {
   "cell_type": "markdown",
   "metadata": {},
   "source": [
    "Гистограмма скошена вправо. Это значит что, чаще всего встречается значение количества сообщений, котрое не является средним значением.  Большинство значений лежит в промежутке от 44-3* 12 до 44+3*12 = от 8 до 80 количество сообщений большинство абонентов тарифа Ультра используют в месяц."
   ]
  },
  {
   "cell_type": "code",
   "execution_count": 60,
   "metadata": {},
   "outputs": [
    {
     "data": {
      "text/plain": [
       "month\n",
       "1.0     13140.681111\n",
       "2.0     11775.937500\n",
       "3.0     17535.550270\n",
       "4.0     16828.134364\n",
       "5.0     19363.152985\n",
       "6.0     18924.939286\n",
       "7.0     20495.665165\n",
       "8.0     19576.054673\n",
       "9.0     19204.277130\n",
       "10.0    20045.337317\n",
       "11.0    19786.812463\n",
       "12.0    21793.172590\n",
       "Name: mb_used, dtype: float64"
      ]
     },
     "metadata": {},
     "output_type": "display_data"
    }
   ],
   "source": [
    "mb_ult = ultra.groupby('month')['mb_used'].mean() # среднее тарифа Ультра по количеству мегабайт в каждом месяце\n",
    "display(mb_ult)"
   ]
  },
  {
   "cell_type": "code",
   "execution_count": 61,
   "metadata": {},
   "outputs": [
    {
     "data": {
      "text/plain": [
       "18205.809571138463"
      ]
     },
     "execution_count": 61,
     "metadata": {},
     "output_type": "execute_result"
    }
   ],
   "source": [
    "mb_ult.mean() # среднее количество мегабайт по тарифу Ультра в месяц"
   ]
  },
  {
   "cell_type": "code",
   "execution_count": 62,
   "metadata": {},
   "outputs": [
    {
     "data": {
      "text/plain": [
       "8915742.05866276"
      ]
     },
     "execution_count": 62,
     "metadata": {},
     "output_type": "execute_result"
    }
   ],
   "source": [
    "np.var(mb_ult, ddof=1) # дисперсия"
   ]
  },
  {
   "cell_type": "code",
   "execution_count": 63,
   "metadata": {},
   "outputs": [
    {
     "data": {
      "text/plain": [
       "2985.923987422111"
      ]
     },
     "execution_count": 63,
     "metadata": {},
     "output_type": "execute_result"
    }
   ],
   "source": [
    "np.std(mb_ult, ddof=1) # стандартное отклонение"
   ]
  },
  {
   "cell_type": "code",
   "execution_count": 64,
   "metadata": {},
   "outputs": [
    {
     "data": {
      "text/plain": [
       "<matplotlib.axes._subplots.AxesSubplot at 0x7fe1cf410a10>"
      ]
     },
     "execution_count": 64,
     "metadata": {},
     "output_type": "execute_result"
    },
    {
     "data": {
      "image/png": "[encoded data removed]",
      "text/plain": [
       "<Figure size 432x288 with 1 Axes>"
      ]
     },
     "metadata": {
      "needs_background": "light"
     },
     "output_type": "display_data"
    }
   ],
   "source": [
    "ultra['mb_used'].hist(bins = 50) # вывод гистограммы распределения количества мегабайт "
   ]
  },
  {
   "cell_type": "markdown",
   "metadata": {},
   "source": [
    "Гистограмма распределена нормально. Это значит, что чаще всего встречаются среднее значение и близкие к нему.\n",
    "Большинство значений лежит в промежутке от 18426-3* 2865 до 18426+3*2865 = от 9831 до 27021 количество мегабайт большинство абонентов тарифа Ультра используют в месяц."
   ]
  },
  {
   "cell_type": "code",
   "execution_count": 65,
   "metadata": {},
   "outputs": [
    {
     "data": {
      "text/plain": [
       "tariff\n",
       "smart    2875901.0\n",
       "ultra    2041050.0\n",
       "Name: income, dtype: float64"
      ]
     },
     "metadata": {},
     "output_type": "display_data"
    }
   ],
   "source": [
    "income_tarif_sum =df_consolid.groupby('tariff')['income'].sum() # сумма выручки с каждой группы пользователей\n",
    "display(income_tarif_sum)"
   ]
  },
  {
   "cell_type": "code",
   "execution_count": 66,
   "metadata": {},
   "outputs": [
    {
     "data": {
      "text/plain": [
       "tariff\n",
       "smart    351\n",
       "ultra    149\n",
       "Name: user_id, dtype: int64"
      ]
     },
     "metadata": {},
     "output_type": "display_data"
    }
   ],
   "source": [
    "user_tarif_sum =df_users.groupby('tariff')['user_id'].count() # количество пользователей каждой группы тарифа\n",
    "display(user_tarif_sum)"
   ]
  },
  {
   "cell_type": "markdown",
   "metadata": {},
   "source": [
    "Посчитаем сколько в среднем пользователи заплатили компании за каждый тариф: годовую сумму выручки разделим на количество пользователей тарифа и разделим на 12 месяцев."
   ]
  },
  {
   "cell_type": "code",
   "execution_count": 67,
   "metadata": {},
   "outputs": [
    {
     "name": "stdout",
     "output_type": "stream",
     "text": [
      "Стоимость тарифа Смарт в месяц для компании: 682.6569325735992\n"
     ]
    }
   ],
   "source": [
    "print('Стоимость тарифа Смарт в месяц для компании:', 2875351/351/12)   "
   ]
  },
  {
   "cell_type": "code",
   "execution_count": 68,
   "metadata": {},
   "outputs": [
    {
     "name": "stdout",
     "output_type": "stream",
     "text": [
      "Стоимость тарифа Ультра в месяц для компании: 1131.7114093959733\n"
     ]
    }
   ],
   "source": [
    "print('Стоимость тарифа Ультра в месяц для компании:', 2023500/149/12)   "
   ]
  },
  {
   "cell_type": "markdown",
   "metadata": {},
   "source": [
    "Делаю вывод, что с учетом превышения лимитов по звонкам и интернет-трафику компания продала месячную подписку на тариф в 2018 году за 683 рубля. "
   ]
  },
  {
   "cell_type": "markdown",
   "metadata": {},
   "source": [
    "Делаю вывод, что с учетом того, что пользователей тарифа Ультра почти в два раза меньше, чем пользователей тарифа Смарт,  компания продала месячную подписку на тариф в 2018 году за 1132 рублей. "
   ]
  },
  {
   "cell_type": "code",
   "execution_count": 69,
   "metadata": {},
   "outputs": [
    {
     "data": {
      "text/html": [
       "<div>\n",
       "<style scoped>\n",
       "    .dataframe tbody tr th:only-of-type {\n",
       "        vertical-align: middle;\n",
       "    }\n",
       "\n",
       "    .dataframe tbody tr th {\n",
       "        vertical-align: top;\n",
       "    }\n",
       "\n",
       "    .dataframe thead th {\n",
       "        text-align: right;\n",
       "    }\n",
       "</style>\n",
       "<table border=\"1\" class=\"dataframe\">\n",
       "  <thead>\n",
       "    <tr style=\"text-align: right;\">\n",
       "      <th></th>\n",
       "      <th>messages_included</th>\n",
       "      <th>mb_per_month_included</th>\n",
       "      <th>minutes_included</th>\n",
       "      <th>rub_monthly_fee</th>\n",
       "      <th>rub_per_gb</th>\n",
       "      <th>rub_per_message</th>\n",
       "      <th>rub_per_minute</th>\n",
       "      <th>tariff</th>\n",
       "    </tr>\n",
       "  </thead>\n",
       "  <tbody>\n",
       "    <tr>\n",
       "      <td>0</td>\n",
       "      <td>50</td>\n",
       "      <td>15360</td>\n",
       "      <td>500</td>\n",
       "      <td>550</td>\n",
       "      <td>200</td>\n",
       "      <td>3</td>\n",
       "      <td>3</td>\n",
       "      <td>smart</td>\n",
       "    </tr>\n",
       "    <tr>\n",
       "      <td>1</td>\n",
       "      <td>1000</td>\n",
       "      <td>30720</td>\n",
       "      <td>3000</td>\n",
       "      <td>1950</td>\n",
       "      <td>150</td>\n",
       "      <td>1</td>\n",
       "      <td>1</td>\n",
       "      <td>ultra</td>\n",
       "    </tr>\n",
       "  </tbody>\n",
       "</table>\n",
       "</div>"
      ],
      "text/plain": [
       "   messages_included  mb_per_month_included  minutes_included  \\\n",
       "0                 50                  15360               500   \n",
       "1               1000                  30720              3000   \n",
       "\n",
       "   rub_monthly_fee  rub_per_gb  rub_per_message  rub_per_minute tariff  \n",
       "0              550         200                3               3  smart  \n",
       "1             1950         150                1               1  ultra  "
      ]
     },
     "execution_count": 69,
     "metadata": {},
     "output_type": "execute_result"
    }
   ],
   "source": [
    "df_tariffs\n"
   ]
  },
  {
   "cell_type": "markdown",
   "metadata": {},
   "source": [
    "**3. Вывод**"
   ]
  },
  {
   "cell_type": "markdown",
   "metadata": {},
   "source": [
    "1. Большинство пользователей тарифа Ультра не превышают лимитов по количеству интернет- трафика, по количеству смс сообщений, по количеству минут.\n",
    "2. Большинство пользователей тарифа Смарт не превышают лимитов по смс- сообщениям. Часто пользователи тарифа Смарт превышают лимит по количеству интернет-трафика и минутам звонков.\n",
    "3. Делаю вывод, что по результатам 2018 года тариф Смарт принес больше выручки для компании.\n",
    "4. В среднем больше платит пользователь тарифа Ультра.\n",
    "5. Гистограммы распределения для обоих тарифов имеют одинаковый тип. Для длительности звонков и для интернет-трафика гистограммы распределены нормально, чтоговорит о том что средние значения и близкие к ним имеют более высокую частоту встречаемости, чем другие значения. Гистограмма по количеству смс-сообщений имеет вид скошенный вправо, что значит что чаще среди пользователей встречается меньшее количество отправленных сообщений, но это значение не является средним количеством сообщений по всем пользователям или близким к нему."
   ]
  },
  {
   "cell_type": "markdown",
   "metadata": {},
   "source": [
    "**4. Проверка гипотез**"
   ]
  },
  {
   "cell_type": "markdown",
   "metadata": {},
   "source": [
    "Проверим две гипотезы:\n",
    "\n",
    "•\tсредняя выручка пользователей тарифов «Ультра» и «Смарт» различаются;\n",
    "\n",
    "•\tсредняя выручка пользователей из Москвы отличается от выручки пользователей из других регионов.\n"
   ]
  },
  {
   "cell_type": "markdown",
   "metadata": {},
   "source": [
    "Для проверки гипотез будем использовать статистический тест: Проверка гипотезы о равенстве среднего двух генеральных совокупностей по взятым из них выборкам."
   ]
  },
  {
   "cell_type": "markdown",
   "metadata": {},
   "source": [
    "*4.1 Средняя выручка пользователей тарифов «Ультра» и «Смарт» различаются*"
   ]
  },
  {
   "cell_type": "markdown",
   "metadata": {},
   "source": [
    "Сформулируем нулевую гипотезу: средняя выручка пользователей тарифов равна.\n",
    "Альтернативная гипотеза: средняя выручка пользователей разных тарифов не равна между собой."
   ]
  },
  {
   "cell_type": "code",
   "execution_count": 70,
   "metadata": {},
   "outputs": [
    {
     "data": {
      "text/plain": [
       "8       1150.0\n",
       "9        550.0\n",
       "10       550.0\n",
       "11      1150.0\n",
       "12      1550.0\n",
       "         ...  \n",
       "3211    1750.0\n",
       "3212     550.0\n",
       "3213    1150.0\n",
       "3214    1513.0\n",
       "3215     598.0\n",
       "Name: income, Length: 2230, dtype: float64"
      ]
     },
     "metadata": {},
     "output_type": "display_data"
    }
   ],
   "source": [
    "income_smart = smart['income'] # выручка  с пользователей Смарт\n",
    "display(income_smart)\n"
   ]
  },
  {
   "cell_type": "code",
   "execution_count": 71,
   "metadata": {},
   "outputs": [
    {
     "data": {
      "text/plain": [
       "0       1950.0\n",
       "1       1950.0\n",
       "2       1950.0\n",
       "3       1950.0\n",
       "4       1950.0\n",
       "         ...  \n",
       "3188    1950.0\n",
       "3189    2400.0\n",
       "3190    1950.0\n",
       "3191    3300.0\n",
       "3192    1950.0\n",
       "Name: income, Length: 986, dtype: float64"
      ]
     },
     "metadata": {},
     "output_type": "display_data"
    }
   ],
   "source": [
    "income_ultra = ultra['income'] # выручка с пользователей Ультра\n",
    "display(income_ultra)"
   ]
  },
  {
   "cell_type": "code",
   "execution_count": 72,
   "metadata": {},
   "outputs": [
    {
     "name": "stdout",
     "output_type": "stream",
     "text": [
      "Отвергаем нулевую гипотезу\n",
      "8.081909555489933e-161\n"
     ]
    }
   ],
   "source": [
    "from scipy import stats as st\n",
    "\n",
    "alpha = 0.05 \n",
    "\n",
    "results = st.ttest_ind(income_smart, income_ultra, equal_var=True)\n",
    "\n",
    "if results.pvalue < alpha:\n",
    "    print('Отвергаем нулевую гипотезу')\n",
    "else:\n",
    "    print('Не получилось отвергнуть нулевую гипотезу')\n",
    "print(results.pvalue)    "
   ]
  },
  {
   "cell_type": "markdown",
   "metadata": {},
   "source": [
    "*4.2 Cредняя выручка пользователей из Москвы отличается от выручки пользователей из других регионов.*"
   ]
  },
  {
   "cell_type": "markdown",
   "metadata": {},
   "source": [
    "Сформулируем нулевую гипотезу: средняя выручка пользователей из Москвы равна средней выручке пользователей из регионов.\n",
    "Альтернативная гипотеза: средняя выручка пользователей Москвы не равна средней выручке пользователей из регионов."
   ]
  },
  {
   "cell_type": "code",
   "execution_count": 73,
   "metadata": {},
   "outputs": [
    {
     "data": {
      "text/plain": [
       "8       1150.0\n",
       "9        550.0\n",
       "17      1950.0\n",
       "18      1950.0\n",
       "19      1950.0\n",
       "         ...  \n",
       "3160     950.0\n",
       "3161     550.0\n",
       "3162    1750.0\n",
       "3163    1350.0\n",
       "3164     750.0\n",
       "Name: income, Length: 611, dtype: float64"
      ]
     },
     "execution_count": 73,
     "metadata": {},
     "output_type": "execute_result"
    }
   ],
   "source": [
    "msk_user = df_consolid.query('city == \"Москва\"') # срез по пользователям из Москвы\n",
    "msk_income = msk_user['income']\n",
    "msk_income"
   ]
  },
  {
   "cell_type": "code",
   "execution_count": 74,
   "metadata": {},
   "outputs": [
    {
     "data": {
      "text/plain": [
       "0       1950.0\n",
       "1       1950.0\n",
       "2       1950.0\n",
       "3       1950.0\n",
       "4       1950.0\n",
       "         ...  \n",
       "3211    1750.0\n",
       "3212     550.0\n",
       "3213    1150.0\n",
       "3214    1513.0\n",
       "3215     598.0\n",
       "Name: income, Length: 2605, dtype: float64"
      ]
     },
     "execution_count": 74,
     "metadata": {},
     "output_type": "execute_result"
    }
   ],
   "source": [
    "reg_user = df_consolid.query('city != \"Москва\"') # срез по пользователям из регионов\n",
    "reg_income = reg_user['income'] \n",
    "reg_income"
   ]
  },
  {
   "cell_type": "code",
   "execution_count": 75,
   "metadata": {},
   "outputs": [
    {
     "name": "stdout",
     "output_type": "stream",
     "text": [
      "Не получилось отвергнуть нулевую гипотезу\n",
      "0.5400751614511182\n"
     ]
    }
   ],
   "source": [
    "from scipy import stats as st\n",
    "\n",
    "alpha = 0.05\n",
    "\n",
    "results_1 = st.ttest_ind(msk_income, reg_income, equal_var=True)\n",
    "\n",
    "if results_1.pvalue < alpha:\n",
    "    print('Отвергаем нулевую гипотезу')\n",
    "else:\n",
    "    print('Не получилось отвергнуть нулевую гипотезу')\n",
    "print(results_1.pvalue)    "
   ]
  },
  {
   "cell_type": "markdown",
   "metadata": {},
   "source": [
    "**4. Вывод**"
   ]
  },
  {
   "cell_type": "markdown",
   "metadata": {},
   "source": [
    "1. Гипотеза о том, что в месяц средняя выручка разных тарифов различается не подтвердилась. Статистическая вероятность того, что средние выручки по разным тарифам равны очень мала.\n",
    "2. Гипотеза о том, что средняя месячная выручка пользователей из Москвы и средняя месячная выручка из регионов равны подтвердилась. Статистическая вероятность того, что средние выручки равны равна 54%"
   ]
  },
  {
   "cell_type": "markdown",
   "metadata": {},
   "source": [
    "**5. Вывод**"
   ]
  },
  {
   "cell_type": "markdown",
   "metadata": {},
   "source": [
    "По результам исследования мной был сделан вывод, что пользователи тарифа Смарт принесли больше выручки, чем пользователи тарифа Ультра. А так же, что в среднем пользователь тарифа Смарт тратит больше денег на оплату услуг, чем запланировано абонентской платой, в отличии от пользователей тарифа Ультра. Соответственно, чем больше количество пользователей Смарт, тем больше будет приход средств за счет того, что пользователи тарифа Смарт чаще выходят за пределы лимитов.\n",
    "\n",
    "Делаю вывод: что рекламные компании должны быть направлены на продвижение тарифа Смарт в Москве и регионах."
   ]
  }
 ],
 "metadata": {
  "ExecuteTimeLog": [
   {
    "duration": 361,
    "start_time": "2022-02-21T16:58:36.808Z"
   },
   {
    "duration": 713,
    "start_time": "2022-02-21T16:58:45.769Z"
   },
   {
    "duration": 230,
    "start_time": "2022-02-21T16:58:46.485Z"
   },
   {
    "duration": 4,
    "start_time": "2022-02-21T16:59:41.574Z"
   },
   {
    "duration": 194,
    "start_time": "2022-02-21T17:04:45.747Z"
   },
   {
    "duration": 120,
    "start_time": "2022-02-21T17:06:19.587Z"
   },
   {
    "duration": 22,
    "start_time": "2022-02-21T17:08:53.955Z"
   },
   {
    "duration": 33,
    "start_time": "2022-02-21T17:11:29.494Z"
   },
   {
    "duration": 231,
    "start_time": "2022-02-21T17:14:26.666Z"
   },
   {
    "duration": 260,
    "start_time": "2022-02-21T17:16:32.451Z"
   },
   {
    "duration": 217,
    "start_time": "2022-02-21T17:17:27.280Z"
   },
   {
    "duration": 152,
    "start_time": "2022-02-21T17:18:08.535Z"
   },
   {
    "duration": 31,
    "start_time": "2022-02-21T17:18:52.931Z"
   },
   {
    "duration": 36,
    "start_time": "2022-02-21T17:19:37.117Z"
   },
   {
    "duration": 278,
    "start_time": "2022-02-21T17:59:15.248Z"
   },
   {
    "duration": 254,
    "start_time": "2022-02-21T18:02:47.339Z"
   },
   {
    "duration": 236,
    "start_time": "2022-02-21T18:03:08.964Z"
   },
   {
    "duration": 162,
    "start_time": "2022-02-21T18:03:24.023Z"
   },
   {
    "duration": 38,
    "start_time": "2022-02-21T18:03:54.905Z"
   },
   {
    "duration": 318,
    "start_time": "2022-02-23T05:58:02.853Z"
   },
   {
    "duration": 678,
    "start_time": "2022-02-23T05:58:08.190Z"
   },
   {
    "duration": 211,
    "start_time": "2022-02-23T05:58:08.870Z"
   },
   {
    "duration": 187,
    "start_time": "2022-02-23T05:58:09.083Z"
   },
   {
    "duration": 136,
    "start_time": "2022-02-23T05:58:09.272Z"
   },
   {
    "duration": 23,
    "start_time": "2022-02-23T05:58:09.411Z"
   },
   {
    "duration": 47,
    "start_time": "2022-02-23T05:58:09.436Z"
   },
   {
    "duration": 9,
    "start_time": "2022-02-23T05:58:09.486Z"
   },
   {
    "duration": 17,
    "start_time": "2022-02-23T06:00:14.853Z"
   },
   {
    "duration": 17,
    "start_time": "2022-02-23T06:00:24.775Z"
   },
   {
    "duration": 336,
    "start_time": "2022-02-23T06:02:40.977Z"
   },
   {
    "duration": 18,
    "start_time": "2022-02-23T06:03:30.152Z"
   },
   {
    "duration": 13,
    "start_time": "2022-02-23T06:03:47.373Z"
   },
   {
    "duration": 3,
    "start_time": "2022-02-23T06:11:31.088Z"
   },
   {
    "duration": 231,
    "start_time": "2022-02-23T06:11:59.105Z"
   },
   {
    "duration": 13,
    "start_time": "2022-02-23T06:12:37.463Z"
   },
   {
    "duration": 11,
    "start_time": "2022-02-23T06:12:43.955Z"
   },
   {
    "duration": 10,
    "start_time": "2022-02-23T06:12:51.336Z"
   },
   {
    "duration": 3,
    "start_time": "2022-02-23T06:20:17.771Z"
   },
   {
    "duration": 2,
    "start_time": "2022-02-23T06:20:21.664Z"
   },
   {
    "duration": 215,
    "start_time": "2022-02-23T06:20:21.673Z"
   },
   {
    "duration": 195,
    "start_time": "2022-02-23T06:20:21.891Z"
   },
   {
    "duration": 130,
    "start_time": "2022-02-23T06:20:22.089Z"
   },
   {
    "duration": 21,
    "start_time": "2022-02-23T06:20:22.221Z"
   },
   {
    "duration": 32,
    "start_time": "2022-02-23T06:20:22.243Z"
   },
   {
    "duration": 232,
    "start_time": "2022-02-23T06:20:22.277Z"
   },
   {
    "duration": 238,
    "start_time": "2022-02-23T06:20:36.296Z"
   },
   {
    "duration": 235,
    "start_time": "2022-02-23T06:20:50.368Z"
   },
   {
    "duration": 10,
    "start_time": "2022-02-23T06:21:26.417Z"
   },
   {
    "duration": 11,
    "start_time": "2022-02-23T06:24:31.875Z"
   },
   {
    "duration": 59,
    "start_time": "2022-02-23T06:34:20.245Z"
   },
   {
    "duration": 311,
    "start_time": "2022-02-23T06:37:16.722Z"
   },
   {
    "duration": 344,
    "start_time": "2022-02-23T06:37:58.675Z"
   },
   {
    "duration": 269,
    "start_time": "2022-02-23T06:38:36.109Z"
   },
   {
    "duration": 378,
    "start_time": "2022-02-23T06:39:21.191Z"
   },
   {
    "duration": 3,
    "start_time": "2022-02-23T06:39:33.817Z"
   },
   {
    "duration": 231,
    "start_time": "2022-02-23T06:39:33.823Z"
   },
   {
    "duration": 228,
    "start_time": "2022-02-23T06:39:34.057Z"
   },
   {
    "duration": 141,
    "start_time": "2022-02-23T06:39:34.288Z"
   },
   {
    "duration": 26,
    "start_time": "2022-02-23T06:39:34.432Z"
   },
   {
    "duration": 41,
    "start_time": "2022-02-23T06:39:34.460Z"
   },
   {
    "duration": 315,
    "start_time": "2022-02-23T06:39:34.503Z"
   },
   {
    "duration": -2032,
    "start_time": "2022-02-23T06:45:26.359Z"
   },
   {
    "duration": 3,
    "start_time": "2022-02-23T06:45:35.645Z"
   },
   {
    "duration": 219,
    "start_time": "2022-02-23T06:45:35.656Z"
   },
   {
    "duration": 231,
    "start_time": "2022-02-23T06:45:35.878Z"
   },
   {
    "duration": 155,
    "start_time": "2022-02-23T06:45:36.112Z"
   },
   {
    "duration": 27,
    "start_time": "2022-02-23T06:45:36.270Z"
   },
   {
    "duration": 63,
    "start_time": "2022-02-23T06:45:36.309Z"
   },
   {
    "duration": 7315,
    "start_time": "2022-02-23T06:45:36.374Z"
   },
   {
    "duration": 42,
    "start_time": "2022-02-23T06:46:40.804Z"
   },
   {
    "duration": 148,
    "start_time": "2022-02-23T06:51:32.208Z"
   },
   {
    "duration": 144,
    "start_time": "2022-02-23T06:51:50.779Z"
   },
   {
    "duration": 240,
    "start_time": "2022-02-23T07:06:59.395Z"
   },
   {
    "duration": 31,
    "start_time": "2022-02-23T07:10:11.207Z"
   },
   {
    "duration": 27,
    "start_time": "2022-02-23T07:10:14.905Z"
   },
   {
    "duration": 39,
    "start_time": "2022-02-23T07:10:36.818Z"
   },
   {
    "duration": 145,
    "start_time": "2022-02-23T07:19:02.321Z"
   },
   {
    "duration": 44,
    "start_time": "2022-02-23T07:19:05.790Z"
   },
   {
    "duration": 148,
    "start_time": "2022-02-23T07:25:06.278Z"
   },
   {
    "duration": 137,
    "start_time": "2022-02-23T07:25:30.384Z"
   },
   {
    "duration": 137,
    "start_time": "2022-02-23T07:29:29.056Z"
   },
   {
    "duration": 7,
    "start_time": "2022-02-23T07:43:43.323Z"
   },
   {
    "duration": 160,
    "start_time": "2022-02-23T07:45:03.800Z"
   },
   {
    "duration": 41,
    "start_time": "2022-02-23T07:48:18.203Z"
   },
   {
    "duration": 41,
    "start_time": "2022-02-23T07:49:26.847Z"
   },
   {
    "duration": 42,
    "start_time": "2022-02-23T07:58:30.568Z"
   },
   {
    "duration": 30,
    "start_time": "2022-02-23T07:59:47.122Z"
   },
   {
    "duration": 40,
    "start_time": "2022-02-23T08:00:12.580Z"
   },
   {
    "duration": 328,
    "start_time": "2022-02-23T08:03:02.621Z"
   },
   {
    "duration": 170,
    "start_time": "2022-02-23T08:03:10.093Z"
   },
   {
    "duration": 162,
    "start_time": "2022-02-23T08:03:13.583Z"
   },
   {
    "duration": 3,
    "start_time": "2022-02-23T08:03:21.409Z"
   },
   {
    "duration": 208,
    "start_time": "2022-02-23T08:03:21.416Z"
   },
   {
    "duration": 186,
    "start_time": "2022-02-23T08:03:21.626Z"
   },
   {
    "duration": 126,
    "start_time": "2022-02-23T08:03:21.814Z"
   },
   {
    "duration": 22,
    "start_time": "2022-02-23T08:03:21.942Z"
   },
   {
    "duration": 43,
    "start_time": "2022-02-23T08:03:21.965Z"
   },
   {
    "duration": 167,
    "start_time": "2022-02-23T08:03:22.010Z"
   },
   {
    "duration": 51,
    "start_time": "2022-02-23T08:03:22.179Z"
   },
   {
    "duration": 9,
    "start_time": "2022-02-23T08:03:22.233Z"
   },
   {
    "duration": 15,
    "start_time": "2022-02-23T08:14:00.370Z"
   },
   {
    "duration": 237,
    "start_time": "2022-02-23T08:14:18.364Z"
   },
   {
    "duration": 240,
    "start_time": "2022-02-23T08:15:21.190Z"
   },
   {
    "duration": 239,
    "start_time": "2022-02-23T08:20:35.825Z"
   },
   {
    "duration": 263,
    "start_time": "2022-02-23T08:20:55.024Z"
   },
   {
    "duration": 3,
    "start_time": "2022-02-23T08:21:21.687Z"
   },
   {
    "duration": 210,
    "start_time": "2022-02-23T08:21:21.693Z"
   },
   {
    "duration": 187,
    "start_time": "2022-02-23T08:21:21.908Z"
   },
   {
    "duration": 123,
    "start_time": "2022-02-23T08:21:22.097Z"
   },
   {
    "duration": 21,
    "start_time": "2022-02-23T08:21:22.221Z"
   },
   {
    "duration": 35,
    "start_time": "2022-02-23T08:21:22.245Z"
   },
   {
    "duration": 184,
    "start_time": "2022-02-23T08:21:22.282Z"
   },
   {
    "duration": 54,
    "start_time": "2022-02-23T08:21:22.469Z"
   },
   {
    "duration": 16,
    "start_time": "2022-02-23T08:21:22.526Z"
   },
   {
    "duration": 428,
    "start_time": "2022-02-23T08:24:04.881Z"
   },
   {
    "duration": 3,
    "start_time": "2022-02-23T08:24:20.773Z"
   },
   {
    "duration": 242,
    "start_time": "2022-02-23T08:24:20.779Z"
   },
   {
    "duration": 199,
    "start_time": "2022-02-23T08:24:21.023Z"
   },
   {
    "duration": 134,
    "start_time": "2022-02-23T08:24:21.225Z"
   },
   {
    "duration": 24,
    "start_time": "2022-02-23T08:24:21.361Z"
   },
   {
    "duration": 57,
    "start_time": "2022-02-23T08:24:21.388Z"
   },
   {
    "duration": 204,
    "start_time": "2022-02-23T08:24:21.447Z"
   },
   {
    "duration": 58,
    "start_time": "2022-02-23T08:24:21.654Z"
   },
   {
    "duration": 112,
    "start_time": "2022-02-23T08:24:21.715Z"
   },
   {
    "duration": 266,
    "start_time": "2022-02-23T08:24:45.642Z"
   },
   {
    "duration": 3,
    "start_time": "2022-02-23T08:24:52.585Z"
   },
   {
    "duration": 230,
    "start_time": "2022-02-23T08:24:52.592Z"
   },
   {
    "duration": 183,
    "start_time": "2022-02-23T08:24:52.825Z"
   },
   {
    "duration": 126,
    "start_time": "2022-02-23T08:24:53.010Z"
   },
   {
    "duration": 21,
    "start_time": "2022-02-23T08:24:53.138Z"
   },
   {
    "duration": 37,
    "start_time": "2022-02-23T08:24:53.162Z"
   },
   {
    "duration": 179,
    "start_time": "2022-02-23T08:24:53.201Z"
   },
   {
    "duration": 50,
    "start_time": "2022-02-23T08:24:53.382Z"
   },
   {
    "duration": 119,
    "start_time": "2022-02-23T08:24:53.435Z"
   },
   {
    "duration": 38,
    "start_time": "2022-02-23T08:33:18.964Z"
   },
   {
    "duration": 29,
    "start_time": "2022-02-23T08:48:49.413Z"
   },
   {
    "duration": 31,
    "start_time": "2022-02-23T08:49:02.608Z"
   },
   {
    "duration": 27,
    "start_time": "2022-02-23T08:49:11.420Z"
   },
   {
    "duration": 38,
    "start_time": "2022-02-23T08:49:37.690Z"
   },
   {
    "duration": 257,
    "start_time": "2022-02-23T09:04:47.361Z"
   },
   {
    "duration": 4412,
    "start_time": "2022-02-23T09:05:18.703Z"
   },
   {
    "duration": 277,
    "start_time": "2022-02-23T09:07:22.683Z"
   },
   {
    "duration": 37,
    "start_time": "2022-02-23T09:08:35.897Z"
   },
   {
    "duration": 326,
    "start_time": "2022-02-23T09:22:30.672Z"
   },
   {
    "duration": 262,
    "start_time": "2022-02-23T09:22:35.586Z"
   },
   {
    "duration": 40,
    "start_time": "2022-02-23T09:22:50.113Z"
   },
   {
    "duration": 254,
    "start_time": "2022-02-23T09:22:53.103Z"
   },
   {
    "duration": 234,
    "start_time": "2022-02-23T09:25:02.710Z"
   },
   {
    "duration": 36,
    "start_time": "2022-02-23T09:25:14.497Z"
   },
   {
    "duration": 67,
    "start_time": "2022-02-23T09:36:07.361Z"
   },
   {
    "duration": 6176,
    "start_time": "2022-02-23T09:37:37.970Z"
   },
   {
    "duration": 86,
    "start_time": "2022-02-23T09:38:10.745Z"
   },
   {
    "duration": 51,
    "start_time": "2022-02-23T10:05:59.099Z"
   },
   {
    "duration": 47,
    "start_time": "2022-02-23T10:08:55.828Z"
   },
   {
    "duration": 38,
    "start_time": "2022-02-23T10:16:53.288Z"
   },
   {
    "duration": 29,
    "start_time": "2022-02-23T11:14:50.771Z"
   },
   {
    "duration": 15,
    "start_time": "2022-02-23T11:17:38.361Z"
   },
   {
    "duration": 15,
    "start_time": "2022-02-23T11:17:51.798Z"
   },
   {
    "duration": 14,
    "start_time": "2022-02-23T11:19:14.833Z"
   },
   {
    "duration": 34,
    "start_time": "2022-02-23T11:19:56.447Z"
   },
   {
    "duration": 3,
    "start_time": "2022-02-23T11:22:36.836Z"
   },
   {
    "duration": 220,
    "start_time": "2022-02-23T11:22:36.843Z"
   },
   {
    "duration": 183,
    "start_time": "2022-02-23T11:22:37.065Z"
   },
   {
    "duration": 124,
    "start_time": "2022-02-23T11:22:37.250Z"
   },
   {
    "duration": 20,
    "start_time": "2022-02-23T11:22:37.376Z"
   },
   {
    "duration": 32,
    "start_time": "2022-02-23T11:22:37.407Z"
   },
   {
    "duration": 179,
    "start_time": "2022-02-23T11:22:37.442Z"
   },
   {
    "duration": 40,
    "start_time": "2022-02-23T11:22:37.624Z"
   },
   {
    "duration": 145,
    "start_time": "2022-02-23T11:22:37.668Z"
   },
   {
    "duration": 35,
    "start_time": "2022-02-23T11:22:37.816Z"
   },
   {
    "duration": 67,
    "start_time": "2022-02-23T11:22:37.853Z"
   },
   {
    "duration": 41,
    "start_time": "2022-02-23T11:22:37.922Z"
   },
   {
    "duration": 51,
    "start_time": "2022-02-23T11:22:37.965Z"
   },
   {
    "duration": 32,
    "start_time": "2022-02-23T11:28:55.051Z"
   },
   {
    "duration": 36,
    "start_time": "2022-02-23T11:29:30.914Z"
   },
   {
    "duration": 33,
    "start_time": "2022-02-23T11:29:52.987Z"
   },
   {
    "duration": 341,
    "start_time": "2022-02-23T11:30:18.753Z"
   },
   {
    "duration": 32,
    "start_time": "2022-02-23T11:30:39.101Z"
   },
   {
    "duration": 31,
    "start_time": "2022-02-23T11:41:34.606Z"
   },
   {
    "duration": 256,
    "start_time": "2022-02-23T11:44:40.716Z"
   },
   {
    "duration": 3,
    "start_time": "2022-02-23T11:44:47.963Z"
   },
   {
    "duration": 205,
    "start_time": "2022-02-23T11:44:47.972Z"
   },
   {
    "duration": 188,
    "start_time": "2022-02-23T11:44:48.179Z"
   },
   {
    "duration": 139,
    "start_time": "2022-02-23T11:44:48.370Z"
   },
   {
    "duration": 23,
    "start_time": "2022-02-23T11:44:48.512Z"
   },
   {
    "duration": 42,
    "start_time": "2022-02-23T11:44:48.536Z"
   },
   {
    "duration": 166,
    "start_time": "2022-02-23T11:44:48.580Z"
   },
   {
    "duration": 40,
    "start_time": "2022-02-23T11:44:48.748Z"
   },
   {
    "duration": 117,
    "start_time": "2022-02-23T11:44:48.809Z"
   },
   {
    "duration": 37,
    "start_time": "2022-02-23T11:44:48.929Z"
   },
   {
    "duration": 72,
    "start_time": "2022-02-23T11:44:48.968Z"
   },
   {
    "duration": 47,
    "start_time": "2022-02-23T11:44:49.042Z"
   },
   {
    "duration": 46,
    "start_time": "2022-02-23T11:44:49.091Z"
   },
   {
    "duration": 270,
    "start_time": "2022-02-23T11:44:49.139Z"
   },
   {
    "duration": 35,
    "start_time": "2022-02-23T11:45:05.807Z"
   },
   {
    "duration": 61,
    "start_time": "2022-02-23T14:04:40.180Z"
   },
   {
    "duration": 48,
    "start_time": "2022-02-23T14:05:45.159Z"
   },
   {
    "duration": 39,
    "start_time": "2022-02-23T14:06:16.769Z"
   },
   {
    "duration": 37,
    "start_time": "2022-02-23T14:06:33.718Z"
   },
   {
    "duration": 28,
    "start_time": "2022-02-23T14:06:55.406Z"
   },
   {
    "duration": 29,
    "start_time": "2022-02-23T14:07:35.344Z"
   },
   {
    "duration": 8,
    "start_time": "2022-02-23T14:19:08.201Z"
   },
   {
    "duration": 4,
    "start_time": "2022-02-23T14:35:03.392Z"
   },
   {
    "duration": 6463,
    "start_time": "2022-02-23T14:36:28.344Z"
   },
   {
    "duration": 45,
    "start_time": "2022-02-23T14:37:59.133Z"
   },
   {
    "duration": 138,
    "start_time": "2022-02-23T14:38:53.418Z"
   },
   {
    "duration": 40,
    "start_time": "2022-02-23T14:38:58.864Z"
   },
   {
    "duration": 142,
    "start_time": "2022-02-23T14:39:19.803Z"
   },
   {
    "duration": 40,
    "start_time": "2022-02-23T14:39:24.240Z"
   },
   {
    "duration": 43,
    "start_time": "2022-02-23T14:40:01.149Z"
   },
   {
    "duration": 43,
    "start_time": "2022-02-23T14:41:10.588Z"
   },
   {
    "duration": 79,
    "start_time": "2022-02-23T14:41:32.013Z"
   },
   {
    "duration": 39,
    "start_time": "2022-02-23T14:42:25.851Z"
   },
   {
    "duration": 41,
    "start_time": "2022-02-23T14:42:30.882Z"
   },
   {
    "duration": 44,
    "start_time": "2022-02-23T14:43:27.334Z"
   },
   {
    "duration": 37,
    "start_time": "2022-02-23T14:43:53.048Z"
   },
   {
    "duration": 45,
    "start_time": "2022-02-23T14:44:02.863Z"
   },
   {
    "duration": 4,
    "start_time": "2022-02-23T14:44:24.524Z"
   },
   {
    "duration": 202,
    "start_time": "2022-02-23T14:44:24.965Z"
   },
   {
    "duration": 180,
    "start_time": "2022-02-23T14:44:25.169Z"
   },
   {
    "duration": 133,
    "start_time": "2022-02-23T14:44:25.351Z"
   },
   {
    "duration": 32,
    "start_time": "2022-02-23T14:44:25.486Z"
   },
   {
    "duration": 32,
    "start_time": "2022-02-23T14:44:25.521Z"
   },
   {
    "duration": 178,
    "start_time": "2022-02-23T14:44:25.554Z"
   },
   {
    "duration": 43,
    "start_time": "2022-02-23T14:44:25.735Z"
   },
   {
    "duration": 135,
    "start_time": "2022-02-23T14:44:25.780Z"
   },
   {
    "duration": 41,
    "start_time": "2022-02-23T14:44:25.918Z"
   },
   {
    "duration": 68,
    "start_time": "2022-02-23T14:44:25.962Z"
   },
   {
    "duration": 46,
    "start_time": "2022-02-23T14:44:26.032Z"
   },
   {
    "duration": 54,
    "start_time": "2022-02-23T14:44:26.080Z"
   },
   {
    "duration": 29,
    "start_time": "2022-02-23T14:44:26.136Z"
   },
   {
    "duration": 51,
    "start_time": "2022-02-23T14:45:42.726Z"
   },
   {
    "duration": 43,
    "start_time": "2022-02-23T14:45:54.334Z"
   },
   {
    "duration": 280,
    "start_time": "2022-02-23T14:46:18.863Z"
   },
   {
    "duration": 24,
    "start_time": "2022-02-23T14:46:38.443Z"
   },
   {
    "duration": 36,
    "start_time": "2022-02-23T14:46:55.765Z"
   },
   {
    "duration": 29,
    "start_time": "2022-02-23T14:47:22.254Z"
   },
   {
    "duration": 31,
    "start_time": "2022-02-23T14:51:20.588Z"
   },
   {
    "duration": 40,
    "start_time": "2022-02-23T14:55:59.673Z"
   },
   {
    "duration": 34,
    "start_time": "2022-02-23T15:16:15.441Z"
   },
   {
    "duration": 308,
    "start_time": "2022-02-23T15:17:20.792Z"
   },
   {
    "duration": 34,
    "start_time": "2022-02-23T15:17:37.694Z"
   },
   {
    "duration": 30,
    "start_time": "2022-02-23T15:21:51.057Z"
   },
   {
    "duration": 28,
    "start_time": "2022-02-23T15:22:25.387Z"
   },
   {
    "duration": 47,
    "start_time": "2022-02-23T15:38:26.435Z"
   },
   {
    "duration": 36,
    "start_time": "2022-02-23T15:38:56.572Z"
   },
   {
    "duration": 47,
    "start_time": "2022-02-23T15:39:26.148Z"
   },
   {
    "duration": 291,
    "start_time": "2022-02-23T15:40:29.480Z"
   },
   {
    "duration": 251,
    "start_time": "2022-02-23T15:40:37.665Z"
   },
   {
    "duration": 6126,
    "start_time": "2022-02-23T15:40:52.802Z"
   },
   {
    "duration": -1585,
    "start_time": "2022-02-23T15:41:00.517Z"
   },
   {
    "duration": -1654,
    "start_time": "2022-02-23T15:41:19.445Z"
   },
   {
    "duration": -1662,
    "start_time": "2022-02-23T15:41:19.454Z"
   },
   {
    "duration": -1666,
    "start_time": "2022-02-23T15:41:19.459Z"
   },
   {
    "duration": -1668,
    "start_time": "2022-02-23T15:41:19.462Z"
   },
   {
    "duration": -1670,
    "start_time": "2022-02-23T15:41:19.465Z"
   },
   {
    "duration": -1671,
    "start_time": "2022-02-23T15:41:19.468Z"
   },
   {
    "duration": -1674,
    "start_time": "2022-02-23T15:41:19.472Z"
   },
   {
    "duration": -1676,
    "start_time": "2022-02-23T15:41:19.475Z"
   },
   {
    "duration": -1676,
    "start_time": "2022-02-23T15:41:19.477Z"
   },
   {
    "duration": -1678,
    "start_time": "2022-02-23T15:41:19.480Z"
   },
   {
    "duration": -1689,
    "start_time": "2022-02-23T15:41:19.492Z"
   },
   {
    "duration": -1691,
    "start_time": "2022-02-23T15:41:19.495Z"
   },
   {
    "duration": -1693,
    "start_time": "2022-02-23T15:41:19.498Z"
   },
   {
    "duration": -1694,
    "start_time": "2022-02-23T15:41:19.501Z"
   },
   {
    "duration": 3,
    "start_time": "2022-02-23T15:41:34.154Z"
   },
   {
    "duration": 249,
    "start_time": "2022-02-23T15:41:34.162Z"
   },
   {
    "duration": 195,
    "start_time": "2022-02-23T15:41:34.414Z"
   },
   {
    "duration": 142,
    "start_time": "2022-02-23T15:41:34.611Z"
   },
   {
    "duration": 24,
    "start_time": "2022-02-23T15:41:34.756Z"
   },
   {
    "duration": 50,
    "start_time": "2022-02-23T15:41:34.781Z"
   },
   {
    "duration": 257,
    "start_time": "2022-02-23T15:41:34.833Z"
   },
   {
    "duration": 53,
    "start_time": "2022-02-23T15:41:35.092Z"
   },
   {
    "duration": 134,
    "start_time": "2022-02-23T15:41:35.148Z"
   },
   {
    "duration": 56,
    "start_time": "2022-02-23T15:41:35.284Z"
   },
   {
    "duration": 45,
    "start_time": "2022-02-23T15:41:35.342Z"
   },
   {
    "duration": 60,
    "start_time": "2022-02-23T15:41:35.389Z"
   },
   {
    "duration": 32,
    "start_time": "2022-02-23T15:41:35.452Z"
   },
   {
    "duration": 28,
    "start_time": "2022-02-23T15:41:35.508Z"
   },
   {
    "duration": 81,
    "start_time": "2022-02-23T16:26:33.363Z"
   },
   {
    "duration": 246,
    "start_time": "2022-02-23T16:26:46.776Z"
   },
   {
    "duration": 3,
    "start_time": "2022-02-23T16:27:18.298Z"
   },
   {
    "duration": 203,
    "start_time": "2022-02-23T16:27:18.309Z"
   },
   {
    "duration": 195,
    "start_time": "2022-02-23T16:27:18.514Z"
   },
   {
    "duration": 131,
    "start_time": "2022-02-23T16:27:18.711Z"
   },
   {
    "duration": 24,
    "start_time": "2022-02-23T16:27:18.845Z"
   },
   {
    "duration": 58,
    "start_time": "2022-02-23T16:27:18.871Z"
   },
   {
    "duration": 187,
    "start_time": "2022-02-23T16:27:18.931Z"
   },
   {
    "duration": 257,
    "start_time": "2022-02-23T16:27:19.120Z"
   },
   {
    "duration": -1565,
    "start_time": "2022-02-23T16:27:20.944Z"
   },
   {
    "duration": -1573,
    "start_time": "2022-02-23T16:27:20.953Z"
   },
   {
    "duration": -1574,
    "start_time": "2022-02-23T16:27:20.956Z"
   },
   {
    "duration": -1576,
    "start_time": "2022-02-23T16:27:20.959Z"
   },
   {
    "duration": -1580,
    "start_time": "2022-02-23T16:27:20.964Z"
   },
   {
    "duration": -1581,
    "start_time": "2022-02-23T16:27:20.967Z"
   },
   {
    "duration": 280,
    "start_time": "2022-02-23T16:29:05.506Z"
   },
   {
    "duration": 292,
    "start_time": "2022-02-23T16:29:36.766Z"
   },
   {
    "duration": 21,
    "start_time": "2022-02-23T16:29:48.271Z"
   },
   {
    "duration": 249,
    "start_time": "2022-02-23T16:32:13.989Z"
   },
   {
    "duration": 105,
    "start_time": "2022-02-23T16:32:53.424Z"
   },
   {
    "duration": 260,
    "start_time": "2022-02-23T16:33:25.269Z"
   },
   {
    "duration": 376,
    "start_time": "2022-02-23T16:33:33.195Z"
   },
   {
    "duration": 3,
    "start_time": "2022-02-23T16:34:09.734Z"
   },
   {
    "duration": 204,
    "start_time": "2022-02-23T16:34:09.740Z"
   },
   {
    "duration": 190,
    "start_time": "2022-02-23T16:34:09.947Z"
   },
   {
    "duration": 133,
    "start_time": "2022-02-23T16:34:10.139Z"
   },
   {
    "duration": 36,
    "start_time": "2022-02-23T16:34:10.274Z"
   },
   {
    "duration": 34,
    "start_time": "2022-02-23T16:34:10.313Z"
   },
   {
    "duration": 175,
    "start_time": "2022-02-23T16:34:10.349Z"
   },
   {
    "duration": 20,
    "start_time": "2022-02-23T16:34:10.527Z"
   },
   {
    "duration": 116,
    "start_time": "2022-02-23T16:34:10.549Z"
   },
   {
    "duration": 21,
    "start_time": "2022-02-23T16:34:10.666Z"
   },
   {
    "duration": 55,
    "start_time": "2022-02-23T16:34:10.689Z"
   },
   {
    "duration": 62,
    "start_time": "2022-02-23T16:34:10.747Z"
   },
   {
    "duration": 31,
    "start_time": "2022-02-23T16:34:10.811Z"
   },
   {
    "duration": 20,
    "start_time": "2022-02-23T16:34:10.844Z"
   },
   {
    "duration": 23,
    "start_time": "2022-02-23T16:36:24.683Z"
   },
   {
    "duration": 25,
    "start_time": "2022-02-23T16:36:31.331Z"
   },
   {
    "duration": 16,
    "start_time": "2022-02-23T16:40:34.489Z"
   },
   {
    "duration": 32,
    "start_time": "2022-02-23T16:41:36.435Z"
   },
   {
    "duration": 35,
    "start_time": "2022-02-23T16:43:26.455Z"
   },
   {
    "duration": 27,
    "start_time": "2022-02-23T16:43:31.776Z"
   },
   {
    "duration": 27,
    "start_time": "2022-02-23T16:43:33.997Z"
   },
   {
    "duration": 17,
    "start_time": "2022-02-23T16:43:59.122Z"
   },
   {
    "duration": 16,
    "start_time": "2022-02-23T16:46:09.383Z"
   },
   {
    "duration": 23,
    "start_time": "2022-02-23T16:46:37.224Z"
   },
   {
    "duration": 22,
    "start_time": "2022-02-23T16:46:44.971Z"
   },
   {
    "duration": 85,
    "start_time": "2022-02-23T16:48:40.094Z"
   },
   {
    "duration": 20,
    "start_time": "2022-02-23T16:48:45.349Z"
   },
   {
    "duration": 14,
    "start_time": "2022-02-23T16:53:12.681Z"
   },
   {
    "duration": 19,
    "start_time": "2022-02-23T16:54:10.762Z"
   },
   {
    "duration": 22,
    "start_time": "2022-02-23T17:01:31.867Z"
   },
   {
    "duration": 22,
    "start_time": "2022-02-23T17:05:28.885Z"
   },
   {
    "duration": 10,
    "start_time": "2022-02-23T17:21:46.729Z"
   },
   {
    "duration": 11,
    "start_time": "2022-02-23T17:26:36.160Z"
   },
   {
    "duration": 10,
    "start_time": "2022-02-23T17:26:49.382Z"
   },
   {
    "duration": 12,
    "start_time": "2022-02-23T17:27:08.360Z"
   },
   {
    "duration": 14,
    "start_time": "2022-02-23T17:27:16.006Z"
   },
   {
    "duration": 11,
    "start_time": "2022-02-23T17:29:29.944Z"
   },
   {
    "duration": 4,
    "start_time": "2022-02-23T17:30:34.122Z"
   },
   {
    "duration": 228,
    "start_time": "2022-02-23T17:30:34.128Z"
   },
   {
    "duration": 190,
    "start_time": "2022-02-23T17:30:34.358Z"
   },
   {
    "duration": 135,
    "start_time": "2022-02-23T17:30:34.551Z"
   },
   {
    "duration": 31,
    "start_time": "2022-02-23T17:30:34.689Z"
   },
   {
    "duration": 34,
    "start_time": "2022-02-23T17:30:34.721Z"
   },
   {
    "duration": 190,
    "start_time": "2022-02-23T17:30:34.759Z"
   },
   {
    "duration": 24,
    "start_time": "2022-02-23T17:30:34.951Z"
   },
   {
    "duration": 116,
    "start_time": "2022-02-23T17:30:34.977Z"
   },
   {
    "duration": 32,
    "start_time": "2022-02-23T17:30:35.095Z"
   },
   {
    "duration": 43,
    "start_time": "2022-02-23T17:30:35.129Z"
   },
   {
    "duration": 42,
    "start_time": "2022-02-23T17:30:35.175Z"
   },
   {
    "duration": 21,
    "start_time": "2022-02-23T17:30:35.219Z"
   },
   {
    "duration": 35,
    "start_time": "2022-02-23T17:30:35.242Z"
   },
   {
    "duration": 51,
    "start_time": "2022-02-23T17:30:35.279Z"
   },
   {
    "duration": 10,
    "start_time": "2022-02-23T17:30:35.332Z"
   },
   {
    "duration": 294,
    "start_time": "2022-02-23T17:30:35.345Z"
   },
   {
    "duration": 11,
    "start_time": "2022-02-23T17:35:42.479Z"
   },
   {
    "duration": 12,
    "start_time": "2022-02-23T17:35:55.257Z"
   },
   {
    "duration": 11,
    "start_time": "2022-02-23T17:36:04.628Z"
   },
   {
    "duration": 28,
    "start_time": "2022-02-23T17:36:45.147Z"
   },
   {
    "duration": 6652,
    "start_time": "2022-02-23T17:39:24.936Z"
   },
   {
    "duration": 23,
    "start_time": "2022-02-23T17:39:46.733Z"
   },
   {
    "duration": 27,
    "start_time": "2022-02-23T17:47:22.778Z"
   },
   {
    "duration": 27,
    "start_time": "2022-02-23T17:47:32.097Z"
   },
   {
    "duration": 23,
    "start_time": "2022-02-23T20:06:34.720Z"
   },
   {
    "duration": 227,
    "start_time": "2022-02-23T20:34:44.607Z"
   },
   {
    "duration": 4,
    "start_time": "2022-02-23T20:34:50.938Z"
   },
   {
    "duration": 231,
    "start_time": "2022-02-23T20:34:50.947Z"
   },
   {
    "duration": 189,
    "start_time": "2022-02-23T20:34:51.181Z"
   },
   {
    "duration": 128,
    "start_time": "2022-02-23T20:34:51.372Z"
   },
   {
    "duration": 22,
    "start_time": "2022-02-23T20:34:51.507Z"
   },
   {
    "duration": 43,
    "start_time": "2022-02-23T20:34:51.532Z"
   },
   {
    "duration": 168,
    "start_time": "2022-02-23T20:34:51.577Z"
   },
   {
    "duration": 22,
    "start_time": "2022-02-23T20:34:51.747Z"
   },
   {
    "duration": 116,
    "start_time": "2022-02-23T20:34:51.773Z"
   },
   {
    "duration": 29,
    "start_time": "2022-02-23T20:34:51.892Z"
   },
   {
    "duration": 47,
    "start_time": "2022-02-23T20:34:51.923Z"
   },
   {
    "duration": 47,
    "start_time": "2022-02-23T20:34:51.972Z"
   },
   {
    "duration": 23,
    "start_time": "2022-02-23T20:34:52.021Z"
   },
   {
    "duration": 84,
    "start_time": "2022-02-23T20:34:52.046Z"
   },
   {
    "duration": -1328,
    "start_time": "2022-02-23T20:34:53.460Z"
   },
   {
    "duration": -1332,
    "start_time": "2022-02-23T20:34:53.465Z"
   },
   {
    "duration": -1336,
    "start_time": "2022-02-23T20:34:53.470Z"
   },
   {
    "duration": -1339,
    "start_time": "2022-02-23T20:34:53.474Z"
   },
   {
    "duration": -1341,
    "start_time": "2022-02-23T20:34:53.477Z"
   },
   {
    "duration": -1343,
    "start_time": "2022-02-23T20:34:53.480Z"
   },
   {
    "duration": 5,
    "start_time": "2022-02-23T20:35:21.029Z"
   },
   {
    "duration": 1244,
    "start_time": "2022-02-23T20:35:23.479Z"
   },
   {
    "duration": 241,
    "start_time": "2022-02-23T20:36:09.630Z"
   },
   {
    "duration": 3,
    "start_time": "2022-02-23T20:36:17.316Z"
   },
   {
    "duration": 198,
    "start_time": "2022-02-23T20:36:17.322Z"
   },
   {
    "duration": 178,
    "start_time": "2022-02-23T20:36:17.522Z"
   },
   {
    "duration": 112,
    "start_time": "2022-02-23T20:36:17.707Z"
   },
   {
    "duration": 21,
    "start_time": "2022-02-23T20:36:17.821Z"
   },
   {
    "duration": 30,
    "start_time": "2022-02-23T20:36:17.844Z"
   },
   {
    "duration": 176,
    "start_time": "2022-02-23T20:36:17.876Z"
   },
   {
    "duration": 21,
    "start_time": "2022-02-23T20:36:18.054Z"
   },
   {
    "duration": 111,
    "start_time": "2022-02-23T20:36:18.078Z"
   },
   {
    "duration": 30,
    "start_time": "2022-02-23T20:36:18.191Z"
   },
   {
    "duration": 44,
    "start_time": "2022-02-23T20:36:18.223Z"
   },
   {
    "duration": 44,
    "start_time": "2022-02-23T20:36:18.269Z"
   },
   {
    "duration": 18,
    "start_time": "2022-02-23T20:36:18.315Z"
   },
   {
    "duration": 77,
    "start_time": "2022-02-23T20:36:18.335Z"
   },
   {
    "duration": -1322,
    "start_time": "2022-02-23T20:36:19.736Z"
   },
   {
    "duration": -1328,
    "start_time": "2022-02-23T20:36:19.743Z"
   },
   {
    "duration": -1330,
    "start_time": "2022-02-23T20:36:19.746Z"
   },
   {
    "duration": -1333,
    "start_time": "2022-02-23T20:36:19.750Z"
   },
   {
    "duration": -1335,
    "start_time": "2022-02-23T20:36:19.754Z"
   },
   {
    "duration": -1337,
    "start_time": "2022-02-23T20:36:19.757Z"
   },
   {
    "duration": 246,
    "start_time": "2022-02-23T20:36:32.501Z"
   },
   {
    "duration": 11,
    "start_time": "2022-02-23T20:36:41.969Z"
   },
   {
    "duration": 13,
    "start_time": "2022-02-23T20:36:46.060Z"
   },
   {
    "duration": 22,
    "start_time": "2022-02-23T20:36:58.589Z"
   },
   {
    "duration": 11,
    "start_time": "2022-02-23T20:37:02.010Z"
   },
   {
    "duration": 20,
    "start_time": "2022-02-23T20:37:03.285Z"
   },
   {
    "duration": 5,
    "start_time": "2022-02-23T20:37:07.110Z"
   },
   {
    "duration": 1266,
    "start_time": "2022-02-23T20:37:08.484Z"
   },
   {
    "duration": 1307,
    "start_time": "2022-02-23T20:37:30.366Z"
   },
   {
    "duration": 5,
    "start_time": "2022-02-23T20:38:42.230Z"
   },
   {
    "duration": 5,
    "start_time": "2022-02-23T20:38:58.225Z"
   },
   {
    "duration": 3900,
    "start_time": "2022-02-23T20:39:24.232Z"
   },
   {
    "duration": 33,
    "start_time": "2022-02-23T20:41:00.343Z"
   },
   {
    "duration": 23,
    "start_time": "2022-02-23T20:41:11.978Z"
   },
   {
    "duration": 10,
    "start_time": "2022-02-23T20:41:16.163Z"
   },
   {
    "duration": 23,
    "start_time": "2022-02-23T20:41:39.436Z"
   },
   {
    "duration": 4,
    "start_time": "2022-02-23T20:41:47.803Z"
   },
   {
    "duration": 453,
    "start_time": "2022-02-23T20:45:41.723Z"
   },
   {
    "duration": 417,
    "start_time": "2022-02-23T20:45:47.921Z"
   },
   {
    "duration": 5,
    "start_time": "2022-02-23T20:45:54.999Z"
   },
   {
    "duration": 5,
    "start_time": "2022-02-23T20:46:10.408Z"
   },
   {
    "duration": 1360,
    "start_time": "2022-02-23T20:46:50.477Z"
   },
   {
    "duration": 18,
    "start_time": "2022-02-23T20:47:30.109Z"
   },
   {
    "duration": 5,
    "start_time": "2022-02-23T20:49:56.075Z"
   },
   {
    "duration": 4,
    "start_time": "2022-02-23T20:49:59.560Z"
   },
   {
    "duration": 27,
    "start_time": "2022-02-23T20:51:36.174Z"
   },
   {
    "duration": 14,
    "start_time": "2022-02-23T20:51:41.056Z"
   },
   {
    "duration": 16,
    "start_time": "2022-02-23T20:51:42.961Z"
   },
   {
    "duration": 5,
    "start_time": "2022-02-23T20:51:48.711Z"
   },
   {
    "duration": 1331,
    "start_time": "2022-02-23T20:51:49.834Z"
   },
   {
    "duration": 1204,
    "start_time": "2022-02-23T20:52:19.858Z"
   },
   {
    "duration": 3,
    "start_time": "2022-02-23T20:56:19.316Z"
   },
   {
    "duration": 213,
    "start_time": "2022-02-23T20:56:19.324Z"
   },
   {
    "duration": 194,
    "start_time": "2022-02-23T20:56:19.539Z"
   },
   {
    "duration": 126,
    "start_time": "2022-02-23T20:56:19.737Z"
   },
   {
    "duration": 21,
    "start_time": "2022-02-23T20:56:19.866Z"
   },
   {
    "duration": 39,
    "start_time": "2022-02-23T20:56:19.889Z"
   },
   {
    "duration": 187,
    "start_time": "2022-02-23T20:56:19.930Z"
   },
   {
    "duration": 21,
    "start_time": "2022-02-23T20:56:20.119Z"
   },
   {
    "duration": 115,
    "start_time": "2022-02-23T20:56:20.143Z"
   },
   {
    "duration": 22,
    "start_time": "2022-02-23T20:56:20.261Z"
   },
   {
    "duration": 64,
    "start_time": "2022-02-23T20:56:20.286Z"
   },
   {
    "duration": 24,
    "start_time": "2022-02-23T20:56:20.352Z"
   },
   {
    "duration": 45,
    "start_time": "2022-02-23T20:56:20.378Z"
   },
   {
    "duration": 83,
    "start_time": "2022-02-23T20:56:20.426Z"
   },
   {
    "duration": -1310,
    "start_time": "2022-02-23T20:56:21.821Z"
   },
   {
    "duration": -1315,
    "start_time": "2022-02-23T20:56:21.827Z"
   },
   {
    "duration": -1322,
    "start_time": "2022-02-23T20:56:21.835Z"
   },
   {
    "duration": -1323,
    "start_time": "2022-02-23T20:56:21.838Z"
   },
   {
    "duration": -1325,
    "start_time": "2022-02-23T20:56:21.841Z"
   },
   {
    "duration": -1328,
    "start_time": "2022-02-23T20:56:21.845Z"
   },
   {
    "duration": 253,
    "start_time": "2022-02-23T20:56:51.090Z"
   },
   {
    "duration": 34,
    "start_time": "2022-02-23T20:57:10.522Z"
   },
   {
    "duration": 25,
    "start_time": "2022-02-23T20:57:16.771Z"
   },
   {
    "duration": 10,
    "start_time": "2022-02-23T20:57:21.852Z"
   },
   {
    "duration": 17,
    "start_time": "2022-02-23T20:57:30.508Z"
   },
   {
    "duration": 6,
    "start_time": "2022-02-23T20:57:36.682Z"
   },
   {
    "duration": 1139,
    "start_time": "2022-02-23T20:57:40.974Z"
   },
   {
    "duration": 5,
    "start_time": "2022-02-23T20:58:31.338Z"
   },
   {
    "duration": 1148,
    "start_time": "2022-02-23T20:58:38.095Z"
   },
   {
    "duration": 1178,
    "start_time": "2022-02-23T20:59:56.472Z"
   },
   {
    "duration": 3672,
    "start_time": "2022-02-23T21:00:04.694Z"
   },
   {
    "duration": 3812,
    "start_time": "2022-02-23T21:00:45.470Z"
   },
   {
    "duration": 1809,
    "start_time": "2022-02-23T21:02:35.445Z"
   },
   {
    "duration": 16,
    "start_time": "2022-02-23T21:05:49.863Z"
   },
   {
    "duration": 404,
    "start_time": "2022-02-24T16:21:25.775Z"
   },
   {
    "duration": 720,
    "start_time": "2022-02-24T16:21:31.886Z"
   },
   {
    "duration": 259,
    "start_time": "2022-02-24T16:21:32.608Z"
   },
   {
    "duration": 221,
    "start_time": "2022-02-24T16:21:32.870Z"
   },
   {
    "duration": 144,
    "start_time": "2022-02-24T16:21:33.094Z"
   },
   {
    "duration": 32,
    "start_time": "2022-02-24T16:21:33.240Z"
   },
   {
    "duration": 41,
    "start_time": "2022-02-24T16:21:33.274Z"
   },
   {
    "duration": 244,
    "start_time": "2022-02-24T16:21:33.317Z"
   },
   {
    "duration": 32,
    "start_time": "2022-02-24T16:21:33.563Z"
   },
   {
    "duration": 140,
    "start_time": "2022-02-24T16:21:33.598Z"
   },
   {
    "duration": 41,
    "start_time": "2022-02-24T16:21:33.741Z"
   },
   {
    "duration": 54,
    "start_time": "2022-02-24T16:21:33.785Z"
   },
   {
    "duration": 26,
    "start_time": "2022-02-24T16:21:33.861Z"
   },
   {
    "duration": 22,
    "start_time": "2022-02-24T16:21:33.889Z"
   },
   {
    "duration": 62,
    "start_time": "2022-02-24T16:21:33.913Z"
   },
   {
    "duration": 29,
    "start_time": "2022-02-24T16:21:33.978Z"
   },
   {
    "duration": 13,
    "start_time": "2022-02-24T16:21:34.009Z"
   },
   {
    "duration": 53,
    "start_time": "2022-02-24T16:21:34.024Z"
   },
   {
    "duration": 6,
    "start_time": "2022-02-24T16:21:34.079Z"
   },
   {
    "duration": 604,
    "start_time": "2022-02-24T16:21:34.087Z"
   },
   {
    "duration": 7,
    "start_time": "2022-02-24T16:21:52.372Z"
   },
   {
    "duration": 604,
    "start_time": "2022-02-24T16:21:56.327Z"
   },
   {
    "duration": 7,
    "start_time": "2022-02-24T16:23:47.302Z"
   },
   {
    "duration": 707,
    "start_time": "2022-02-24T16:23:48.627Z"
   },
   {
    "duration": 6,
    "start_time": "2022-02-24T16:23:51.740Z"
   },
   {
    "duration": 682,
    "start_time": "2022-02-24T16:36:29.615Z"
   },
   {
    "duration": 7,
    "start_time": "2022-02-24T16:37:45.629Z"
   },
   {
    "duration": 398,
    "start_time": "2022-02-24T16:37:47.017Z"
   },
   {
    "duration": 4,
    "start_time": "2022-02-24T16:38:22.989Z"
   },
   {
    "duration": 272,
    "start_time": "2022-02-24T16:38:22.997Z"
   },
   {
    "duration": 236,
    "start_time": "2022-02-24T16:38:23.273Z"
   },
   {
    "duration": 165,
    "start_time": "2022-02-24T16:38:23.513Z"
   },
   {
    "duration": 27,
    "start_time": "2022-02-24T16:38:23.681Z"
   },
   {
    "duration": 56,
    "start_time": "2022-02-24T16:38:23.710Z"
   },
   {
    "duration": 211,
    "start_time": "2022-02-24T16:38:23.769Z"
   },
   {
    "duration": 26,
    "start_time": "2022-02-24T16:38:23.983Z"
   },
   {
    "duration": 141,
    "start_time": "2022-02-24T16:38:24.013Z"
   },
   {
    "duration": 25,
    "start_time": "2022-02-24T16:38:24.157Z"
   },
   {
    "duration": 77,
    "start_time": "2022-02-24T16:38:24.184Z"
   },
   {
    "duration": 27,
    "start_time": "2022-02-24T16:38:24.263Z"
   },
   {
    "duration": 24,
    "start_time": "2022-02-24T16:38:24.292Z"
   },
   {
    "duration": 70,
    "start_time": "2022-02-24T16:38:24.318Z"
   },
   {
    "duration": 32,
    "start_time": "2022-02-24T16:38:24.391Z"
   },
   {
    "duration": 37,
    "start_time": "2022-02-24T16:38:24.426Z"
   },
   {
    "duration": 19,
    "start_time": "2022-02-24T16:38:24.466Z"
   },
   {
    "duration": 5,
    "start_time": "2022-02-24T16:38:24.487Z"
   },
   {
    "duration": 406,
    "start_time": "2022-02-24T16:38:24.495Z"
   },
   {
    "duration": 366,
    "start_time": "2022-02-24T16:40:38.025Z"
   },
   {
    "duration": 24,
    "start_time": "2022-02-24T16:40:39.183Z"
   },
   {
    "duration": 11,
    "start_time": "2022-02-24T16:41:04.373Z"
   },
   {
    "duration": 5,
    "start_time": "2022-02-24T16:53:40.294Z"
   },
   {
    "duration": 362,
    "start_time": "2022-02-24T16:53:42.370Z"
   },
   {
    "duration": 24,
    "start_time": "2022-02-24T16:53:46.791Z"
   },
   {
    "duration": 106,
    "start_time": "2022-02-24T17:03:04.930Z"
   },
   {
    "duration": 8,
    "start_time": "2022-02-24T17:03:20.157Z"
   },
   {
    "duration": 371,
    "start_time": "2022-02-24T17:03:20.993Z"
   },
   {
    "duration": 23,
    "start_time": "2022-02-24T17:03:25.297Z"
   },
   {
    "duration": 6,
    "start_time": "2022-02-24T17:04:57.911Z"
   },
   {
    "duration": 363,
    "start_time": "2022-02-24T17:05:00.514Z"
   },
   {
    "duration": 23,
    "start_time": "2022-02-24T17:05:06.447Z"
   },
   {
    "duration": 30,
    "start_time": "2022-02-24T17:05:19.699Z"
   },
   {
    "duration": 33,
    "start_time": "2022-02-24T17:05:25.505Z"
   },
   {
    "duration": 4,
    "start_time": "2022-02-24T17:05:27.400Z"
   },
   {
    "duration": 6,
    "start_time": "2022-02-24T17:05:28.841Z"
   },
   {
    "duration": 371,
    "start_time": "2022-02-24T17:05:29.977Z"
   },
   {
    "duration": 23,
    "start_time": "2022-02-24T17:05:33.766Z"
   },
   {
    "duration": 4,
    "start_time": "2022-02-24T17:05:56.941Z"
   },
   {
    "duration": 282,
    "start_time": "2022-02-24T17:05:56.954Z"
   },
   {
    "duration": 224,
    "start_time": "2022-02-24T17:05:57.239Z"
   },
   {
    "duration": 152,
    "start_time": "2022-02-24T17:05:57.466Z"
   },
   {
    "duration": 40,
    "start_time": "2022-02-24T17:05:57.622Z"
   },
   {
    "duration": 40,
    "start_time": "2022-02-24T17:05:57.664Z"
   },
   {
    "duration": 228,
    "start_time": "2022-02-24T17:05:57.707Z"
   },
   {
    "duration": 43,
    "start_time": "2022-02-24T17:05:57.938Z"
   },
   {
    "duration": 152,
    "start_time": "2022-02-24T17:05:57.987Z"
   },
   {
    "duration": 36,
    "start_time": "2022-02-24T17:05:58.142Z"
   },
   {
    "duration": 57,
    "start_time": "2022-02-24T17:05:58.181Z"
   },
   {
    "duration": 44,
    "start_time": "2022-02-24T17:05:58.241Z"
   },
   {
    "duration": 26,
    "start_time": "2022-02-24T17:05:58.288Z"
   },
   {
    "duration": 72,
    "start_time": "2022-02-24T17:05:58.317Z"
   },
   {
    "duration": 37,
    "start_time": "2022-02-24T17:05:58.391Z"
   },
   {
    "duration": 15,
    "start_time": "2022-02-24T17:05:58.462Z"
   },
   {
    "duration": 33,
    "start_time": "2022-02-24T17:05:58.479Z"
   },
   {
    "duration": 3,
    "start_time": "2022-02-24T17:05:58.515Z"
   },
   {
    "duration": 41,
    "start_time": "2022-02-24T17:05:58.521Z"
   },
   {
    "duration": 392,
    "start_time": "2022-02-24T17:05:58.565Z"
   },
   {
    "duration": 25,
    "start_time": "2022-02-24T17:05:58.962Z"
   },
   {
    "duration": 23,
    "start_time": "2022-02-24T17:05:58.990Z"
   },
   {
    "duration": 10,
    "start_time": "2022-02-24T17:07:21.930Z"
   },
   {
    "duration": 33,
    "start_time": "2022-02-24T17:10:24.087Z"
   },
   {
    "duration": 3,
    "start_time": "2022-02-24T17:10:25.322Z"
   },
   {
    "duration": 6,
    "start_time": "2022-02-24T17:10:25.953Z"
   },
   {
    "duration": 372,
    "start_time": "2022-02-24T17:10:27.620Z"
   },
   {
    "duration": 381,
    "start_time": "2022-02-24T17:10:50.204Z"
   },
   {
    "duration": 7,
    "start_time": "2022-02-24T17:10:54.803Z"
   },
   {
    "duration": 377,
    "start_time": "2022-02-24T17:10:55.409Z"
   },
   {
    "duration": 27,
    "start_time": "2022-02-24T17:10:56.105Z"
   },
   {
    "duration": 31,
    "start_time": "2022-02-24T17:11:11.878Z"
   },
   {
    "duration": 5,
    "start_time": "2022-02-24T17:13:33.209Z"
   },
   {
    "duration": 4,
    "start_time": "2022-02-24T17:13:33.840Z"
   },
   {
    "duration": 432,
    "start_time": "2022-02-24T17:13:34.949Z"
   },
   {
    "duration": 6,
    "start_time": "2022-02-24T17:17:30.195Z"
   },
   {
    "duration": 3,
    "start_time": "2022-02-24T17:17:31.345Z"
   },
   {
    "duration": 379,
    "start_time": "2022-02-24T17:17:31.911Z"
   },
   {
    "duration": 14,
    "start_time": "2022-02-24T17:21:20.555Z"
   },
   {
    "duration": 8,
    "start_time": "2022-02-24T17:47:37.468Z"
   },
   {
    "duration": 7,
    "start_time": "2022-02-24T17:47:40.262Z"
   },
   {
    "duration": 18,
    "start_time": "2022-02-24T17:48:07.284Z"
   },
   {
    "duration": 16,
    "start_time": "2022-02-24T17:48:36.094Z"
   },
   {
    "duration": 15,
    "start_time": "2022-02-24T17:49:26.034Z"
   },
   {
    "duration": 402,
    "start_time": "2022-02-24T18:40:26.522Z"
   },
   {
    "duration": 271,
    "start_time": "2022-02-24T18:40:36.183Z"
   },
   {
    "duration": 351,
    "start_time": "2022-02-24T18:41:31.106Z"
   },
   {
    "duration": 359,
    "start_time": "2022-02-24T18:43:00.465Z"
   },
   {
    "duration": 33,
    "start_time": "2022-02-24T18:50:07.014Z"
   },
   {
    "duration": 31,
    "start_time": "2022-02-24T18:52:15.147Z"
   },
   {
    "duration": 12,
    "start_time": "2022-02-24T18:53:06.481Z"
   },
   {
    "duration": 14,
    "start_time": "2022-02-24T18:53:53.276Z"
   },
   {
    "duration": 15,
    "start_time": "2022-02-24T18:54:31.970Z"
   },
   {
    "duration": 6,
    "start_time": "2022-02-24T18:59:38.578Z"
   },
   {
    "duration": 7,
    "start_time": "2022-02-24T19:04:52.702Z"
   },
   {
    "duration": 7,
    "start_time": "2022-02-24T19:05:55.749Z"
   },
   {
    "duration": 402,
    "start_time": "2022-02-24T19:08:58.161Z"
   },
   {
    "duration": 288,
    "start_time": "2022-02-24T19:12:56.685Z"
   },
   {
    "duration": 310,
    "start_time": "2022-02-24T19:15:08.668Z"
   },
   {
    "duration": 367,
    "start_time": "2022-02-25T17:14:51.673Z"
   },
   {
    "duration": 175,
    "start_time": "2022-02-25T17:15:00.899Z"
   },
   {
    "duration": 335,
    "start_time": "2022-02-25T17:15:01.512Z"
   },
   {
    "duration": 591,
    "start_time": "2022-02-25T17:15:04.667Z"
   },
   {
    "duration": 206,
    "start_time": "2022-02-25T17:15:05.260Z"
   },
   {
    "duration": 154,
    "start_time": "2022-02-25T17:15:05.468Z"
   },
   {
    "duration": 109,
    "start_time": "2022-02-25T17:15:05.624Z"
   },
   {
    "duration": 18,
    "start_time": "2022-02-25T17:15:05.735Z"
   },
   {
    "duration": 33,
    "start_time": "2022-02-25T17:15:05.755Z"
   },
   {
    "duration": 169,
    "start_time": "2022-02-25T17:15:05.790Z"
   },
   {
    "duration": 20,
    "start_time": "2022-02-25T17:15:05.962Z"
   },
   {
    "duration": 103,
    "start_time": "2022-02-25T17:15:05.984Z"
   },
   {
    "duration": 25,
    "start_time": "2022-02-25T17:15:06.089Z"
   },
   {
    "duration": 53,
    "start_time": "2022-02-25T17:15:06.115Z"
   },
   {
    "duration": 21,
    "start_time": "2022-02-25T17:15:06.169Z"
   },
   {
    "duration": 20,
    "start_time": "2022-02-25T17:15:06.192Z"
   },
   {
    "duration": 25,
    "start_time": "2022-02-25T17:15:06.233Z"
   },
   {
    "duration": 20,
    "start_time": "2022-02-25T17:15:06.260Z"
   },
   {
    "duration": 7,
    "start_time": "2022-02-25T17:15:06.282Z"
   },
   {
    "duration": 51,
    "start_time": "2022-02-25T17:15:06.291Z"
   },
   {
    "duration": 4,
    "start_time": "2022-02-25T17:15:06.344Z"
   },
   {
    "duration": 238,
    "start_time": "2022-02-25T17:15:06.350Z"
   },
   {
    "duration": 19,
    "start_time": "2022-02-25T17:15:06.590Z"
   },
   {
    "duration": 22,
    "start_time": "2022-02-25T17:15:06.611Z"
   },
   {
    "duration": 6,
    "start_time": "2022-02-25T17:15:06.635Z"
   },
   {
    "duration": 6,
    "start_time": "2022-02-25T17:15:06.644Z"
   },
   {
    "duration": 6,
    "start_time": "2022-02-25T17:15:06.651Z"
   },
   {
    "duration": 6,
    "start_time": "2022-02-25T17:15:06.658Z"
   },
   {
    "duration": 7,
    "start_time": "2022-02-25T17:15:06.665Z"
   },
   {
    "duration": 272,
    "start_time": "2022-02-25T17:15:06.673Z"
   },
   {
    "duration": 5,
    "start_time": "2022-02-25T17:15:06.947Z"
   },
   {
    "duration": 4,
    "start_time": "2022-02-25T17:16:36.797Z"
   },
   {
    "duration": 180,
    "start_time": "2022-02-25T17:17:47.067Z"
   },
   {
    "duration": 4,
    "start_time": "2022-02-25T17:17:50.746Z"
   },
   {
    "duration": 5,
    "start_time": "2022-02-25T17:17:51.547Z"
   },
   {
    "duration": 5,
    "start_time": "2022-02-25T17:17:52.145Z"
   },
   {
    "duration": 170,
    "start_time": "2022-02-25T17:17:52.641Z"
   },
   {
    "duration": 7,
    "start_time": "2022-02-25T17:26:50.898Z"
   },
   {
    "duration": 4,
    "start_time": "2022-02-25T17:28:24.481Z"
   },
   {
    "duration": 5,
    "start_time": "2022-02-25T17:29:39.610Z"
   },
   {
    "duration": 4,
    "start_time": "2022-02-25T17:29:41.966Z"
   },
   {
    "duration": 221,
    "start_time": "2022-02-25T17:30:21.399Z"
   },
   {
    "duration": 6,
    "start_time": "2022-02-25T17:35:16.043Z"
   },
   {
    "duration": 6,
    "start_time": "2022-02-25T17:36:25.413Z"
   },
   {
    "duration": 4,
    "start_time": "2022-02-25T17:37:11.259Z"
   },
   {
    "duration": 4,
    "start_time": "2022-02-25T17:38:42.161Z"
   },
   {
    "duration": 4,
    "start_time": "2022-02-25T17:39:06.224Z"
   },
   {
    "duration": 5,
    "start_time": "2022-02-25T17:39:29.886Z"
   },
   {
    "duration": 186,
    "start_time": "2022-02-25T17:41:40.326Z"
   },
   {
    "duration": 5,
    "start_time": "2022-02-25T17:52:59.210Z"
   },
   {
    "duration": 5,
    "start_time": "2022-02-25T17:54:25.423Z"
   },
   {
    "duration": 5,
    "start_time": "2022-02-25T17:54:39.653Z"
   },
   {
    "duration": 5,
    "start_time": "2022-02-25T17:55:00.772Z"
   },
   {
    "duration": 5,
    "start_time": "2022-02-25T17:55:00.917Z"
   },
   {
    "duration": 4,
    "start_time": "2022-02-25T17:55:01.967Z"
   },
   {
    "duration": 172,
    "start_time": "2022-02-25T17:55:42.015Z"
   },
   {
    "duration": 6,
    "start_time": "2022-02-25T18:03:50.213Z"
   },
   {
    "duration": 4,
    "start_time": "2022-02-25T18:04:36.365Z"
   },
   {
    "duration": 5,
    "start_time": "2022-02-25T18:04:56.851Z"
   },
   {
    "duration": 4,
    "start_time": "2022-02-25T18:05:19.916Z"
   },
   {
    "duration": 168,
    "start_time": "2022-02-25T18:06:07.637Z"
   },
   {
    "duration": 3,
    "start_time": "2022-02-25T18:14:33.281Z"
   },
   {
    "duration": 180,
    "start_time": "2022-02-25T18:14:33.287Z"
   },
   {
    "duration": 158,
    "start_time": "2022-02-25T18:14:33.469Z"
   },
   {
    "duration": 111,
    "start_time": "2022-02-25T18:14:33.633Z"
   },
   {
    "duration": 19,
    "start_time": "2022-02-25T18:14:33.746Z"
   },
   {
    "duration": 59,
    "start_time": "2022-02-25T18:14:33.767Z"
   },
   {
    "duration": 136,
    "start_time": "2022-02-25T18:14:33.827Z"
   },
   {
    "duration": 18,
    "start_time": "2022-02-25T18:14:33.964Z"
   },
   {
    "duration": 92,
    "start_time": "2022-02-25T18:14:33.984Z"
   },
   {
    "duration": 17,
    "start_time": "2022-02-25T18:14:34.078Z"
   },
   {
    "duration": 54,
    "start_time": "2022-02-25T18:14:34.096Z"
   },
   {
    "duration": 18,
    "start_time": "2022-02-25T18:14:34.152Z"
   },
   {
    "duration": 15,
    "start_time": "2022-02-25T18:14:34.171Z"
   },
   {
    "duration": 27,
    "start_time": "2022-02-25T18:14:34.337Z"
   },
   {
    "duration": 20,
    "start_time": "2022-02-25T18:14:34.366Z"
   },
   {
    "duration": 9,
    "start_time": "2022-02-25T18:14:34.388Z"
   },
   {
    "duration": 40,
    "start_time": "2022-02-25T18:14:34.398Z"
   },
   {
    "duration": 4,
    "start_time": "2022-02-25T18:14:34.439Z"
   },
   {
    "duration": 218,
    "start_time": "2022-02-25T18:14:34.444Z"
   },
   {
    "duration": 21,
    "start_time": "2022-02-25T18:14:34.663Z"
   },
   {
    "duration": 10,
    "start_time": "2022-02-25T18:14:34.767Z"
   },
   {
    "duration": 5,
    "start_time": "2022-02-25T18:14:34.779Z"
   },
   {
    "duration": 10,
    "start_time": "2022-02-25T18:14:34.786Z"
   },
   {
    "duration": 8,
    "start_time": "2022-02-25T18:14:34.797Z"
   },
   {
    "duration": 11,
    "start_time": "2022-02-25T18:14:34.806Z"
   },
   {
    "duration": 6,
    "start_time": "2022-02-25T18:14:34.818Z"
   },
   {
    "duration": 183,
    "start_time": "2022-02-25T18:14:34.825Z"
   },
   {
    "duration": 6,
    "start_time": "2022-02-25T18:14:35.010Z"
   },
   {
    "duration": 17,
    "start_time": "2022-02-25T18:14:35.018Z"
   },
   {
    "duration": 9,
    "start_time": "2022-02-25T18:14:35.037Z"
   },
   {
    "duration": 5,
    "start_time": "2022-02-25T18:14:35.047Z"
   },
   {
    "duration": 206,
    "start_time": "2022-02-25T18:14:35.053Z"
   },
   {
    "duration": 6,
    "start_time": "2022-02-25T18:14:35.261Z"
   },
   {
    "duration": 6,
    "start_time": "2022-02-25T18:14:35.269Z"
   },
   {
    "duration": 7,
    "start_time": "2022-02-25T18:14:35.277Z"
   },
   {
    "duration": 10,
    "start_time": "2022-02-25T18:14:35.286Z"
   },
   {
    "duration": 199,
    "start_time": "2022-02-25T18:14:35.297Z"
   },
   {
    "duration": 5,
    "start_time": "2022-02-25T18:14:35.498Z"
   },
   {
    "duration": 13,
    "start_time": "2022-02-25T18:14:35.504Z"
   },
   {
    "duration": 12,
    "start_time": "2022-02-25T18:14:35.520Z"
   },
   {
    "duration": 4,
    "start_time": "2022-02-25T18:14:35.534Z"
   },
   {
    "duration": 11,
    "start_time": "2022-02-25T18:14:35.540Z"
   },
   {
    "duration": 9,
    "start_time": "2022-02-25T18:14:35.553Z"
   },
   {
    "duration": 198,
    "start_time": "2022-02-25T18:14:35.564Z"
   },
   {
    "duration": 6,
    "start_time": "2022-02-25T18:14:35.764Z"
   },
   {
    "duration": 8,
    "start_time": "2022-02-25T18:14:35.772Z"
   },
   {
    "duration": 7,
    "start_time": "2022-02-25T18:14:35.782Z"
   },
   {
    "duration": 6,
    "start_time": "2022-02-25T18:14:35.790Z"
   },
   {
    "duration": 190,
    "start_time": "2022-02-25T18:14:35.798Z"
   },
   {
    "duration": 6,
    "start_time": "2022-02-25T18:14:35.990Z"
   },
   {
    "duration": 6,
    "start_time": "2022-02-25T18:14:35.997Z"
   },
   {
    "duration": 6,
    "start_time": "2022-02-25T18:14:36.004Z"
   },
   {
    "duration": 23,
    "start_time": "2022-02-25T18:14:36.011Z"
   },
   {
    "duration": 194,
    "start_time": "2022-02-25T18:14:36.036Z"
   },
   {
    "duration": 56,
    "start_time": "2022-02-25T18:14:36.232Z"
   },
   {
    "duration": 3,
    "start_time": "2022-02-25T18:15:55.664Z"
   },
   {
    "duration": 182,
    "start_time": "2022-02-25T18:15:55.669Z"
   },
   {
    "duration": 153,
    "start_time": "2022-02-25T18:15:55.853Z"
   },
   {
    "duration": 111,
    "start_time": "2022-02-25T18:15:56.008Z"
   },
   {
    "duration": 20,
    "start_time": "2022-02-25T18:15:56.133Z"
   },
   {
    "duration": 39,
    "start_time": "2022-02-25T18:15:56.155Z"
   },
   {
    "duration": 206,
    "start_time": "2022-02-25T18:15:56.196Z"
   },
   {
    "duration": 37,
    "start_time": "2022-02-25T18:15:56.404Z"
   },
   {
    "duration": 101,
    "start_time": "2022-02-25T18:15:56.443Z"
   },
   {
    "duration": 19,
    "start_time": "2022-02-25T18:15:56.546Z"
   },
   {
    "duration": 41,
    "start_time": "2022-02-25T18:15:56.567Z"
   },
   {
    "duration": 43,
    "start_time": "2022-02-25T18:15:56.609Z"
   },
   {
    "duration": 17,
    "start_time": "2022-02-25T18:15:56.654Z"
   },
   {
    "duration": 27,
    "start_time": "2022-02-25T18:15:56.672Z"
   },
   {
    "duration": 21,
    "start_time": "2022-02-25T18:15:56.733Z"
   },
   {
    "duration": 8,
    "start_time": "2022-02-25T18:15:56.756Z"
   },
   {
    "duration": 18,
    "start_time": "2022-02-25T18:15:56.767Z"
   },
   {
    "duration": 3,
    "start_time": "2022-02-25T18:15:56.787Z"
   },
   {
    "duration": 234,
    "start_time": "2022-02-25T18:15:56.792Z"
   },
   {
    "duration": 22,
    "start_time": "2022-02-25T18:15:57.028Z"
   },
   {
    "duration": 15,
    "start_time": "2022-02-25T18:15:57.052Z"
   },
   {
    "duration": 6,
    "start_time": "2022-02-25T18:15:57.068Z"
   },
   {
    "duration": 9,
    "start_time": "2022-02-25T18:15:57.076Z"
   },
   {
    "duration": 6,
    "start_time": "2022-02-25T18:15:57.087Z"
   },
   {
    "duration": 5,
    "start_time": "2022-02-25T18:15:57.095Z"
   },
   {
    "duration": 32,
    "start_time": "2022-02-25T18:15:57.102Z"
   },
   {
    "duration": 191,
    "start_time": "2022-02-25T18:15:57.136Z"
   },
   {
    "duration": 7,
    "start_time": "2022-02-25T18:15:57.332Z"
   },
   {
    "duration": 5,
    "start_time": "2022-02-25T18:15:57.341Z"
   },
   {
    "duration": 5,
    "start_time": "2022-02-25T18:15:57.348Z"
   },
   {
    "duration": 5,
    "start_time": "2022-02-25T18:15:57.355Z"
   },
   {
    "duration": 205,
    "start_time": "2022-02-25T18:15:57.361Z"
   },
   {
    "duration": 6,
    "start_time": "2022-02-25T18:15:57.568Z"
   },
   {
    "duration": 6,
    "start_time": "2022-02-25T18:15:57.576Z"
   },
   {
    "duration": 6,
    "start_time": "2022-02-25T18:15:57.584Z"
   },
   {
    "duration": 5,
    "start_time": "2022-02-25T18:15:57.591Z"
   },
   {
    "duration": 196,
    "start_time": "2022-02-25T18:15:57.598Z"
   },
   {
    "duration": 6,
    "start_time": "2022-02-25T18:15:57.795Z"
   },
   {
    "duration": 7,
    "start_time": "2022-02-25T18:15:57.802Z"
   },
   {
    "duration": 23,
    "start_time": "2022-02-25T18:15:57.811Z"
   },
   {
    "duration": 4,
    "start_time": "2022-02-25T18:15:57.836Z"
   },
   {
    "duration": 6,
    "start_time": "2022-02-25T18:15:57.842Z"
   },
   {
    "duration": 8,
    "start_time": "2022-02-25T18:15:57.850Z"
   },
   {
    "duration": 204,
    "start_time": "2022-02-25T18:15:57.862Z"
   },
   {
    "duration": 6,
    "start_time": "2022-02-25T18:15:58.068Z"
   },
   {
    "duration": 7,
    "start_time": "2022-02-25T18:15:58.075Z"
   },
   {
    "duration": 4,
    "start_time": "2022-02-25T18:15:58.084Z"
   },
   {
    "duration": 6,
    "start_time": "2022-02-25T18:15:58.089Z"
   },
   {
    "duration": 193,
    "start_time": "2022-02-25T18:15:58.096Z"
   },
   {
    "duration": 7,
    "start_time": "2022-02-25T18:15:58.290Z"
   },
   {
    "duration": 5,
    "start_time": "2022-02-25T18:15:58.299Z"
   },
   {
    "duration": 5,
    "start_time": "2022-02-25T18:15:58.305Z"
   },
   {
    "duration": 23,
    "start_time": "2022-02-25T18:15:58.312Z"
   },
   {
    "duration": 180,
    "start_time": "2022-02-25T18:15:58.337Z"
   },
   {
    "duration": 8,
    "start_time": "2022-02-25T18:16:27.162Z"
   },
   {
    "duration": 399,
    "start_time": "2022-02-26T07:52:17.049Z"
   },
   {
    "duration": 558,
    "start_time": "2022-02-26T07:52:24.578Z"
   },
   {
    "duration": 176,
    "start_time": "2022-02-26T07:52:25.138Z"
   },
   {
    "duration": 141,
    "start_time": "2022-02-26T07:52:25.316Z"
   },
   {
    "duration": 100,
    "start_time": "2022-02-26T07:52:25.459Z"
   },
   {
    "duration": 22,
    "start_time": "2022-02-26T07:52:25.560Z"
   },
   {
    "duration": 36,
    "start_time": "2022-02-26T07:52:25.583Z"
   },
   {
    "duration": 142,
    "start_time": "2022-02-26T07:52:25.621Z"
   },
   {
    "duration": 18,
    "start_time": "2022-02-26T07:52:25.765Z"
   },
   {
    "duration": 93,
    "start_time": "2022-02-26T07:52:25.785Z"
   },
   {
    "duration": 20,
    "start_time": "2022-02-26T07:52:25.880Z"
   },
   {
    "duration": 45,
    "start_time": "2022-02-26T07:52:25.901Z"
   },
   {
    "duration": 16,
    "start_time": "2022-02-26T07:52:25.948Z"
   },
   {
    "duration": 13,
    "start_time": "2022-02-26T07:52:25.966Z"
   },
   {
    "duration": 22,
    "start_time": "2022-02-26T07:52:25.980Z"
   },
   {
    "duration": 46,
    "start_time": "2022-02-26T07:52:26.003Z"
   },
   {
    "duration": 8,
    "start_time": "2022-02-26T07:52:26.050Z"
   },
   {
    "duration": 18,
    "start_time": "2022-02-26T07:52:26.060Z"
   },
   {
    "duration": 4,
    "start_time": "2022-02-26T07:52:26.079Z"
   },
   {
    "duration": 214,
    "start_time": "2022-02-26T07:52:26.084Z"
   },
   {
    "duration": 28,
    "start_time": "2022-02-26T07:52:26.300Z"
   },
   {
    "duration": 22,
    "start_time": "2022-02-26T07:52:26.330Z"
   },
   {
    "duration": 10,
    "start_time": "2022-02-26T07:52:26.354Z"
   },
   {
    "duration": 8,
    "start_time": "2022-02-26T07:52:26.366Z"
   },
   {
    "duration": 5,
    "start_time": "2022-02-26T07:52:26.376Z"
   },
   {
    "duration": 10,
    "start_time": "2022-02-26T07:52:26.383Z"
   },
   {
    "duration": 5,
    "start_time": "2022-02-26T07:52:26.394Z"
   },
   {
    "duration": 260,
    "start_time": "2022-02-26T07:52:26.402Z"
   },
   {
    "duration": 5,
    "start_time": "2022-02-26T07:52:26.664Z"
   },
   {
    "duration": 15,
    "start_time": "2022-02-26T07:52:26.671Z"
   },
   {
    "duration": 11,
    "start_time": "2022-02-26T07:52:26.687Z"
   },
   {
    "duration": 7,
    "start_time": "2022-02-26T07:52:26.699Z"
   },
   {
    "duration": 167,
    "start_time": "2022-02-26T07:52:26.708Z"
   },
   {
    "duration": 6,
    "start_time": "2022-02-26T07:52:26.876Z"
   },
   {
    "duration": 6,
    "start_time": "2022-02-26T07:52:26.883Z"
   },
   {
    "duration": 7,
    "start_time": "2022-02-26T07:52:26.890Z"
   },
   {
    "duration": 7,
    "start_time": "2022-02-26T07:52:26.899Z"
   },
   {
    "duration": 177,
    "start_time": "2022-02-26T07:52:26.908Z"
   },
   {
    "duration": 6,
    "start_time": "2022-02-26T07:52:27.087Z"
   },
   {
    "duration": 8,
    "start_time": "2022-02-26T07:52:27.094Z"
   },
   {
    "duration": 7,
    "start_time": "2022-02-26T07:52:27.104Z"
   },
   {
    "duration": 5,
    "start_time": "2022-02-26T07:52:27.112Z"
   },
   {
    "duration": 28,
    "start_time": "2022-02-26T07:52:27.119Z"
   },
   {
    "duration": 6,
    "start_time": "2022-02-26T07:52:27.148Z"
   },
   {
    "duration": 215,
    "start_time": "2022-02-26T07:52:27.156Z"
   },
   {
    "duration": 6,
    "start_time": "2022-02-26T07:52:27.372Z"
   },
   {
    "duration": 6,
    "start_time": "2022-02-26T07:52:27.380Z"
   },
   {
    "duration": 9,
    "start_time": "2022-02-26T07:52:27.388Z"
   },
   {
    "duration": 12,
    "start_time": "2022-02-26T07:52:27.398Z"
   },
   {
    "duration": 166,
    "start_time": "2022-02-26T07:52:27.411Z"
   },
   {
    "duration": 5,
    "start_time": "2022-02-26T07:52:27.579Z"
   },
   {
    "duration": 6,
    "start_time": "2022-02-26T07:52:27.585Z"
   },
   {
    "duration": 5,
    "start_time": "2022-02-26T07:52:27.593Z"
   },
   {
    "duration": 6,
    "start_time": "2022-02-26T07:52:27.599Z"
   },
   {
    "duration": 178,
    "start_time": "2022-02-26T07:52:27.606Z"
   },
   {
    "duration": 7,
    "start_time": "2022-02-26T07:52:27.785Z"
   },
   {
    "duration": 129,
    "start_time": "2022-02-26T07:52:27.793Z"
   },
   {
    "duration": -3431,
    "start_time": "2022-02-26T07:52:31.355Z"
   },
   {
    "duration": 4,
    "start_time": "2022-02-26T07:52:37.730Z"
   },
   {
    "duration": 6,
    "start_time": "2022-02-26T07:52:57.198Z"
   },
   {
    "duration": 6,
    "start_time": "2022-02-26T07:59:30.915Z"
   },
   {
    "duration": 9,
    "start_time": "2022-02-26T08:06:31.258Z"
   },
   {
    "duration": 9,
    "start_time": "2022-02-26T08:08:11.617Z"
   },
   {
    "duration": 9,
    "start_time": "2022-02-26T08:12:12.397Z"
   },
   {
    "duration": 6,
    "start_time": "2022-02-26T08:18:28.579Z"
   },
   {
    "duration": 516,
    "start_time": "2022-02-26T10:44:53.039Z"
   },
   {
    "duration": 396,
    "start_time": "2022-02-26T10:45:08.015Z"
   },
   {
    "duration": 471,
    "start_time": "2022-02-26T16:52:21.511Z"
   },
   {
    "duration": 610,
    "start_time": "2022-02-26T16:52:26.837Z"
   },
   {
    "duration": 190,
    "start_time": "2022-02-26T16:52:27.449Z"
   },
   {
    "duration": 156,
    "start_time": "2022-02-26T16:52:27.641Z"
   },
   {
    "duration": 107,
    "start_time": "2022-02-26T16:52:27.799Z"
   },
   {
    "duration": 18,
    "start_time": "2022-02-26T16:52:27.907Z"
   },
   {
    "duration": 36,
    "start_time": "2022-02-26T16:52:27.927Z"
   },
   {
    "duration": 171,
    "start_time": "2022-02-26T16:52:27.965Z"
   },
   {
    "duration": 31,
    "start_time": "2022-02-26T16:52:28.138Z"
   },
   {
    "duration": 94,
    "start_time": "2022-02-26T16:52:28.172Z"
   },
   {
    "duration": 23,
    "start_time": "2022-02-26T16:52:28.268Z"
   },
   {
    "duration": 39,
    "start_time": "2022-02-26T16:52:28.292Z"
   },
   {
    "duration": 40,
    "start_time": "2022-02-26T16:52:28.332Z"
   },
   {
    "duration": 15,
    "start_time": "2022-02-26T16:52:28.373Z"
   },
   {
    "duration": 24,
    "start_time": "2022-02-26T16:52:28.389Z"
   },
   {
    "duration": 48,
    "start_time": "2022-02-26T16:52:28.415Z"
   },
   {
    "duration": 9,
    "start_time": "2022-02-26T16:52:28.465Z"
   },
   {
    "duration": 21,
    "start_time": "2022-02-26T16:52:28.475Z"
   },
   {
    "duration": 4,
    "start_time": "2022-02-26T16:52:28.498Z"
   },
   {
    "duration": 234,
    "start_time": "2022-02-26T16:52:28.503Z"
   },
   {
    "duration": 25,
    "start_time": "2022-02-26T16:52:28.738Z"
   },
   {
    "duration": 10,
    "start_time": "2022-02-26T16:52:28.765Z"
   },
   {
    "duration": 11,
    "start_time": "2022-02-26T16:52:28.776Z"
   },
   {
    "duration": 6,
    "start_time": "2022-02-26T16:52:28.789Z"
   },
   {
    "duration": 6,
    "start_time": "2022-02-26T16:52:28.797Z"
   },
   {
    "duration": 6,
    "start_time": "2022-02-26T16:52:28.804Z"
   },
   {
    "duration": 6,
    "start_time": "2022-02-26T16:52:28.811Z"
   },
   {
    "duration": 267,
    "start_time": "2022-02-26T16:52:28.820Z"
   },
   {
    "duration": 6,
    "start_time": "2022-02-26T16:52:29.089Z"
   },
   {
    "duration": 8,
    "start_time": "2022-02-26T16:52:29.097Z"
   },
   {
    "duration": 5,
    "start_time": "2022-02-26T16:52:29.106Z"
   },
   {
    "duration": 9,
    "start_time": "2022-02-26T16:52:29.113Z"
   },
   {
    "duration": 197,
    "start_time": "2022-02-26T16:52:29.123Z"
   },
   {
    "duration": 6,
    "start_time": "2022-02-26T16:52:29.322Z"
   },
   {
    "duration": 10,
    "start_time": "2022-02-26T16:52:29.329Z"
   },
   {
    "duration": 5,
    "start_time": "2022-02-26T16:52:29.341Z"
   },
   {
    "duration": 16,
    "start_time": "2022-02-26T16:52:29.347Z"
   },
   {
    "duration": 198,
    "start_time": "2022-02-26T16:52:29.365Z"
   },
   {
    "duration": 5,
    "start_time": "2022-02-26T16:52:29.564Z"
   },
   {
    "duration": 10,
    "start_time": "2022-02-26T16:52:29.571Z"
   },
   {
    "duration": 7,
    "start_time": "2022-02-26T16:52:29.582Z"
   },
   {
    "duration": 7,
    "start_time": "2022-02-26T16:52:29.591Z"
   },
   {
    "duration": 19,
    "start_time": "2022-02-26T16:52:29.600Z"
   },
   {
    "duration": 8,
    "start_time": "2022-02-26T16:52:29.621Z"
   },
   {
    "duration": 245,
    "start_time": "2022-02-26T16:52:29.631Z"
   },
   {
    "duration": 6,
    "start_time": "2022-02-26T16:52:29.879Z"
   },
   {
    "duration": 7,
    "start_time": "2022-02-26T16:52:29.887Z"
   },
   {
    "duration": 6,
    "start_time": "2022-02-26T16:52:29.896Z"
   },
   {
    "duration": 6,
    "start_time": "2022-02-26T16:52:29.904Z"
   },
   {
    "duration": 201,
    "start_time": "2022-02-26T16:52:29.912Z"
   },
   {
    "duration": 7,
    "start_time": "2022-02-26T16:52:30.115Z"
   },
   {
    "duration": 10,
    "start_time": "2022-02-26T16:52:30.123Z"
   },
   {
    "duration": 8,
    "start_time": "2022-02-26T16:52:30.134Z"
   },
   {
    "duration": 21,
    "start_time": "2022-02-26T16:52:30.143Z"
   },
   {
    "duration": 190,
    "start_time": "2022-02-26T16:52:30.165Z"
   },
   {
    "duration": 11,
    "start_time": "2022-02-26T16:52:30.357Z"
   },
   {
    "duration": 8,
    "start_time": "2022-02-26T16:52:30.371Z"
   },
   {
    "duration": 11,
    "start_time": "2022-02-26T16:52:30.380Z"
   },
   {
    "duration": 9,
    "start_time": "2022-02-26T16:52:30.392Z"
   },
   {
    "duration": 399,
    "start_time": "2022-02-26T16:52:30.402Z"
   },
   {
    "duration": 283,
    "start_time": "2022-02-26T16:52:30.803Z"
   },
   {
    "duration": 189,
    "start_time": "2022-02-26T16:54:02.376Z"
   },
   {
    "duration": 198,
    "start_time": "2022-02-26T16:54:20.127Z"
   },
   {
    "duration": 220,
    "start_time": "2022-02-26T16:56:23.518Z"
   },
   {
    "duration": 3,
    "start_time": "2022-02-26T16:56:37.305Z"
   },
   {
    "duration": 201,
    "start_time": "2022-02-26T16:56:37.310Z"
   },
   {
    "duration": 171,
    "start_time": "2022-02-26T16:56:37.513Z"
   },
   {
    "duration": 120,
    "start_time": "2022-02-26T16:56:37.686Z"
   },
   {
    "duration": 19,
    "start_time": "2022-02-26T16:56:37.808Z"
   },
   {
    "duration": 36,
    "start_time": "2022-02-26T16:56:37.829Z"
   },
   {
    "duration": 158,
    "start_time": "2022-02-26T16:56:37.867Z"
   },
   {
    "duration": 37,
    "start_time": "2022-02-26T16:56:38.027Z"
   },
   {
    "duration": 97,
    "start_time": "2022-02-26T16:56:38.067Z"
   },
   {
    "duration": 20,
    "start_time": "2022-02-26T16:56:38.166Z"
   },
   {
    "duration": 44,
    "start_time": "2022-02-26T16:56:38.188Z"
   },
   {
    "duration": 44,
    "start_time": "2022-02-26T16:56:38.235Z"
   },
   {
    "duration": 17,
    "start_time": "2022-02-26T16:56:38.281Z"
   },
   {
    "duration": 28,
    "start_time": "2022-02-26T16:56:38.300Z"
   },
   {
    "duration": 51,
    "start_time": "2022-02-26T16:56:38.330Z"
   },
   {
    "duration": 9,
    "start_time": "2022-02-26T16:56:38.382Z"
   },
   {
    "duration": 23,
    "start_time": "2022-02-26T16:56:38.392Z"
   },
   {
    "duration": 4,
    "start_time": "2022-02-26T16:56:38.417Z"
   },
   {
    "duration": 244,
    "start_time": "2022-02-26T16:56:38.423Z"
   },
   {
    "duration": 21,
    "start_time": "2022-02-26T16:56:38.669Z"
   },
   {
    "duration": 17,
    "start_time": "2022-02-26T16:56:38.692Z"
   },
   {
    "duration": 11,
    "start_time": "2022-02-26T16:56:38.712Z"
   },
   {
    "duration": 9,
    "start_time": "2022-02-26T16:56:38.725Z"
   },
   {
    "duration": 15,
    "start_time": "2022-02-26T16:56:38.736Z"
   },
   {
    "duration": 11,
    "start_time": "2022-02-26T16:56:38.753Z"
   },
   {
    "duration": 8,
    "start_time": "2022-02-26T16:56:38.765Z"
   },
   {
    "duration": 204,
    "start_time": "2022-02-26T16:56:38.777Z"
   },
   {
    "duration": 8,
    "start_time": "2022-02-26T16:56:38.983Z"
   },
   {
    "duration": 11,
    "start_time": "2022-02-26T16:56:38.993Z"
   },
   {
    "duration": 7,
    "start_time": "2022-02-26T16:56:39.006Z"
   },
   {
    "duration": 5,
    "start_time": "2022-02-26T16:56:39.015Z"
   },
   {
    "duration": 252,
    "start_time": "2022-02-26T16:56:39.022Z"
   },
   {
    "duration": 6,
    "start_time": "2022-02-26T16:56:39.275Z"
   },
   {
    "duration": 8,
    "start_time": "2022-02-26T16:56:39.283Z"
   },
   {
    "duration": 5,
    "start_time": "2022-02-26T16:56:39.293Z"
   },
   {
    "duration": 7,
    "start_time": "2022-02-26T16:56:39.300Z"
   },
   {
    "duration": 262,
    "start_time": "2022-02-26T16:56:39.309Z"
   },
   {
    "duration": 6,
    "start_time": "2022-02-26T16:56:39.572Z"
   },
   {
    "duration": 7,
    "start_time": "2022-02-26T16:56:39.580Z"
   },
   {
    "duration": 5,
    "start_time": "2022-02-26T16:56:39.589Z"
   },
   {
    "duration": 5,
    "start_time": "2022-02-26T16:56:39.596Z"
   },
   {
    "duration": 10,
    "start_time": "2022-02-26T16:56:39.603Z"
   },
   {
    "duration": 12,
    "start_time": "2022-02-26T16:56:39.614Z"
   },
   {
    "duration": 223,
    "start_time": "2022-02-26T16:56:39.628Z"
   },
   {
    "duration": 12,
    "start_time": "2022-02-26T16:56:39.852Z"
   },
   {
    "duration": 8,
    "start_time": "2022-02-26T16:56:39.865Z"
   },
   {
    "duration": 6,
    "start_time": "2022-02-26T16:56:39.874Z"
   },
   {
    "duration": 9,
    "start_time": "2022-02-26T16:56:39.882Z"
   },
   {
    "duration": 196,
    "start_time": "2022-02-26T16:56:39.892Z"
   },
   {
    "duration": 7,
    "start_time": "2022-02-26T16:56:40.089Z"
   },
   {
    "duration": 6,
    "start_time": "2022-02-26T16:56:40.098Z"
   },
   {
    "duration": 5,
    "start_time": "2022-02-26T16:56:40.106Z"
   },
   {
    "duration": 5,
    "start_time": "2022-02-26T16:56:40.113Z"
   },
   {
    "duration": 208,
    "start_time": "2022-02-26T16:56:40.120Z"
   },
   {
    "duration": 9,
    "start_time": "2022-02-26T16:56:40.329Z"
   },
   {
    "duration": 9,
    "start_time": "2022-02-26T16:56:40.339Z"
   },
   {
    "duration": 19,
    "start_time": "2022-02-26T16:56:40.349Z"
   },
   {
    "duration": 7,
    "start_time": "2022-02-26T16:56:40.369Z"
   },
   {
    "duration": 7,
    "start_time": "2022-02-26T16:56:40.378Z"
   },
   {
    "duration": 288,
    "start_time": "2022-02-26T16:56:40.387Z"
   },
   {
    "duration": 73,
    "start_time": "2022-02-26T16:58:50.062Z"
   },
   {
    "duration": 9,
    "start_time": "2022-02-26T16:59:14.832Z"
   },
   {
    "duration": 8,
    "start_time": "2022-02-26T16:59:19.228Z"
   },
   {
    "duration": 10,
    "start_time": "2022-02-26T16:59:31.842Z"
   },
   {
    "duration": 10,
    "start_time": "2022-02-26T17:02:39.153Z"
   },
   {
    "duration": 5,
    "start_time": "2022-02-26T17:03:40.974Z"
   },
   {
    "duration": 5,
    "start_time": "2022-02-26T17:16:07.841Z"
   },
   {
    "duration": 5,
    "start_time": "2022-02-26T17:25:52.687Z"
   },
   {
    "duration": 5,
    "start_time": "2022-02-26T17:26:14.878Z"
   },
   {
    "duration": 4,
    "start_time": "2022-02-26T17:26:26.416Z"
   },
   {
    "duration": 62,
    "start_time": "2022-02-26T17:27:38.172Z"
   },
   {
    "duration": 4,
    "start_time": "2022-02-26T17:41:10.462Z"
   },
   {
    "duration": 4,
    "start_time": "2022-02-26T17:42:55.394Z"
   },
   {
    "duration": 220,
    "start_time": "2022-02-26T18:03:22.788Z"
   },
   {
    "duration": 10,
    "start_time": "2022-02-26T18:04:10.909Z"
   },
   {
    "duration": 11,
    "start_time": "2022-02-26T18:07:12.797Z"
   },
   {
    "duration": 3,
    "start_time": "2022-02-26T18:07:44.586Z"
   },
   {
    "duration": 3,
    "start_time": "2022-02-26T18:08:02.284Z"
   },
   {
    "duration": 7,
    "start_time": "2022-02-26T18:08:31.075Z"
   },
   {
    "duration": 7,
    "start_time": "2022-02-26T18:08:32.148Z"
   },
   {
    "duration": 6,
    "start_time": "2022-02-26T18:10:54.354Z"
   },
   {
    "duration": 12,
    "start_time": "2022-02-26T18:11:05.410Z"
   },
   {
    "duration": 3,
    "start_time": "2022-02-26T18:11:08.331Z"
   },
   {
    "duration": 23,
    "start_time": "2022-02-26T18:31:38.998Z"
   },
   {
    "duration": 204,
    "start_time": "2022-02-26T18:31:39.024Z"
   },
   {
    "duration": 176,
    "start_time": "2022-02-26T18:31:39.230Z"
   },
   {
    "duration": 141,
    "start_time": "2022-02-26T18:31:39.408Z"
   },
   {
    "duration": 24,
    "start_time": "2022-02-26T18:31:39.551Z"
   },
   {
    "duration": 35,
    "start_time": "2022-02-26T18:31:39.577Z"
   },
   {
    "duration": 187,
    "start_time": "2022-02-26T18:31:39.615Z"
   },
   {
    "duration": 22,
    "start_time": "2022-02-26T18:31:39.804Z"
   },
   {
    "duration": 107,
    "start_time": "2022-02-26T18:31:39.827Z"
   },
   {
    "duration": 28,
    "start_time": "2022-02-26T18:31:39.936Z"
   },
   {
    "duration": 43,
    "start_time": "2022-02-26T18:31:39.966Z"
   },
   {
    "duration": 21,
    "start_time": "2022-02-26T18:31:40.011Z"
   },
   {
    "duration": 41,
    "start_time": "2022-02-26T18:31:40.035Z"
   },
   {
    "duration": 32,
    "start_time": "2022-02-26T18:31:40.078Z"
   },
   {
    "duration": 31,
    "start_time": "2022-02-26T18:31:40.112Z"
   },
   {
    "duration": 11,
    "start_time": "2022-02-26T18:31:40.163Z"
   },
   {
    "duration": 36,
    "start_time": "2022-02-26T18:31:40.176Z"
   },
   {
    "duration": 6,
    "start_time": "2022-02-26T18:31:40.214Z"
   },
   {
    "duration": 249,
    "start_time": "2022-02-26T18:31:40.222Z"
   },
   {
    "duration": 21,
    "start_time": "2022-02-26T18:31:40.473Z"
   },
   {
    "duration": 17,
    "start_time": "2022-02-26T18:31:40.496Z"
   },
   {
    "duration": 8,
    "start_time": "2022-02-26T18:31:40.515Z"
   },
   {
    "duration": 39,
    "start_time": "2022-02-26T18:31:40.524Z"
   },
   {
    "duration": 8,
    "start_time": "2022-02-26T18:31:40.566Z"
   },
   {
    "duration": 10,
    "start_time": "2022-02-26T18:31:40.576Z"
   },
   {
    "duration": 8,
    "start_time": "2022-02-26T18:31:40.588Z"
   },
   {
    "duration": 9,
    "start_time": "2022-02-26T18:31:40.598Z"
   },
   {
    "duration": 329,
    "start_time": "2022-02-26T18:31:40.609Z"
   },
   {
    "duration": 8,
    "start_time": "2022-02-26T18:31:40.940Z"
   },
   {
    "duration": 19,
    "start_time": "2022-02-26T18:31:40.950Z"
   },
   {
    "duration": 11,
    "start_time": "2022-02-26T18:31:40.971Z"
   },
   {
    "duration": 6,
    "start_time": "2022-02-26T18:31:40.984Z"
   },
   {
    "duration": 314,
    "start_time": "2022-02-26T18:31:40.992Z"
   },
   {
    "duration": 9,
    "start_time": "2022-02-26T18:31:41.309Z"
   },
   {
    "duration": 6,
    "start_time": "2022-02-26T18:31:41.320Z"
   },
   {
    "duration": 7,
    "start_time": "2022-02-26T18:31:41.329Z"
   },
   {
    "duration": 29,
    "start_time": "2022-02-26T18:31:41.338Z"
   },
   {
    "duration": 315,
    "start_time": "2022-02-26T18:31:41.370Z"
   },
   {
    "duration": 8,
    "start_time": "2022-02-26T18:31:41.687Z"
   },
   {
    "duration": 11,
    "start_time": "2022-02-26T18:31:41.698Z"
   },
   {
    "duration": 8,
    "start_time": "2022-02-26T18:31:41.710Z"
   },
   {
    "duration": 25,
    "start_time": "2022-02-26T18:31:41.720Z"
   },
   {
    "duration": 20,
    "start_time": "2022-02-26T18:31:41.747Z"
   },
   {
    "duration": 7,
    "start_time": "2022-02-26T18:31:41.769Z"
   },
   {
    "duration": 314,
    "start_time": "2022-02-26T18:31:41.779Z"
   },
   {
    "duration": 9,
    "start_time": "2022-02-26T18:31:42.095Z"
   },
   {
    "duration": 9,
    "start_time": "2022-02-26T18:31:42.106Z"
   },
   {
    "duration": 11,
    "start_time": "2022-02-26T18:31:42.116Z"
   },
   {
    "duration": 12,
    "start_time": "2022-02-26T18:31:42.129Z"
   },
   {
    "duration": 296,
    "start_time": "2022-02-26T18:31:42.143Z"
   },
   {
    "duration": 22,
    "start_time": "2022-02-26T18:31:42.441Z"
   },
   {
    "duration": 5,
    "start_time": "2022-02-26T18:31:42.465Z"
   },
   {
    "duration": 12,
    "start_time": "2022-02-26T18:31:42.472Z"
   },
   {
    "duration": 7,
    "start_time": "2022-02-26T18:31:42.486Z"
   },
   {
    "duration": 212,
    "start_time": "2022-02-26T18:31:42.495Z"
   },
   {
    "duration": 7,
    "start_time": "2022-02-26T18:31:42.709Z"
   },
   {
    "duration": 13,
    "start_time": "2022-02-26T18:31:42.718Z"
   },
   {
    "duration": 6,
    "start_time": "2022-02-26T18:31:42.733Z"
   },
   {
    "duration": 29,
    "start_time": "2022-02-26T18:31:42.741Z"
   },
   {
    "duration": 16,
    "start_time": "2022-02-26T18:31:42.772Z"
   },
   {
    "duration": 12,
    "start_time": "2022-02-26T18:31:42.790Z"
   },
   {
    "duration": 9,
    "start_time": "2022-02-26T18:31:42.804Z"
   },
   {
    "duration": 8,
    "start_time": "2022-02-26T18:31:42.815Z"
   },
   {
    "duration": 43,
    "start_time": "2022-02-26T18:31:42.825Z"
   },
   {
    "duration": 11,
    "start_time": "2022-02-26T18:31:42.871Z"
   },
   {
    "duration": 9,
    "start_time": "2022-02-26T18:31:42.884Z"
   },
   {
    "duration": 12,
    "start_time": "2022-02-26T18:34:21.576Z"
   },
   {
    "duration": 6,
    "start_time": "2022-02-26T18:38:19.421Z"
   },
   {
    "duration": 6,
    "start_time": "2022-02-26T18:38:42.040Z"
   },
   {
    "duration": 6,
    "start_time": "2022-02-26T18:39:08.205Z"
   },
   {
    "duration": 6,
    "start_time": "2022-02-26T18:39:48.597Z"
   },
   {
    "duration": 7,
    "start_time": "2022-02-26T18:40:10.988Z"
   },
   {
    "duration": 556,
    "start_time": "2022-03-07T09:37:33.673Z"
   },
   {
    "duration": 197,
    "start_time": "2022-03-07T09:37:34.231Z"
   },
   {
    "duration": 154,
    "start_time": "2022-03-07T09:37:34.437Z"
   },
   {
    "duration": 110,
    "start_time": "2022-03-07T09:37:34.593Z"
   },
   {
    "duration": 19,
    "start_time": "2022-03-07T09:37:34.705Z"
   },
   {
    "duration": 45,
    "start_time": "2022-03-07T09:37:34.738Z"
   },
   {
    "duration": 167,
    "start_time": "2022-03-07T09:37:34.785Z"
   },
   {
    "duration": 22,
    "start_time": "2022-03-07T09:37:34.954Z"
   },
   {
    "duration": 100,
    "start_time": "2022-03-07T09:37:34.978Z"
   },
   {
    "duration": 22,
    "start_time": "2022-03-07T09:37:35.080Z"
   },
   {
    "duration": 57,
    "start_time": "2022-03-07T09:37:35.103Z"
   },
   {
    "duration": 18,
    "start_time": "2022-03-07T09:37:35.162Z"
   },
   {
    "duration": 17,
    "start_time": "2022-03-07T09:37:35.182Z"
   },
   {
    "duration": 47,
    "start_time": "2022-03-07T09:37:35.201Z"
   },
   {
    "duration": 22,
    "start_time": "2022-03-07T09:37:35.249Z"
   },
   {
    "duration": 8,
    "start_time": "2022-03-07T09:37:35.273Z"
   },
   {
    "duration": 22,
    "start_time": "2022-03-07T09:37:35.283Z"
   },
   {
    "duration": 31,
    "start_time": "2022-03-07T09:37:35.307Z"
   },
   {
    "duration": 212,
    "start_time": "2022-03-07T09:37:35.340Z"
   },
   {
    "duration": 20,
    "start_time": "2022-03-07T09:37:35.554Z"
   },
   {
    "duration": 11,
    "start_time": "2022-03-07T09:37:35.576Z"
   },
   {
    "duration": 8,
    "start_time": "2022-03-07T09:37:35.591Z"
   },
   {
    "duration": 20,
    "start_time": "2022-03-07T09:37:35.601Z"
   },
   {
    "duration": 7,
    "start_time": "2022-03-07T09:37:35.637Z"
   },
   {
    "duration": 11,
    "start_time": "2022-03-07T09:37:35.645Z"
   },
   {
    "duration": 7,
    "start_time": "2022-03-07T09:37:35.657Z"
   },
   {
    "duration": 6,
    "start_time": "2022-03-07T09:37:35.666Z"
   },
   {
    "duration": 266,
    "start_time": "2022-03-07T09:37:35.673Z"
   },
   {
    "duration": 5,
    "start_time": "2022-03-07T09:37:35.941Z"
   },
   {
    "duration": 7,
    "start_time": "2022-03-07T09:37:35.948Z"
   },
   {
    "duration": 6,
    "start_time": "2022-03-07T09:37:35.957Z"
   },
   {
    "duration": 5,
    "start_time": "2022-03-07T09:37:35.965Z"
   },
   {
    "duration": 214,
    "start_time": "2022-03-07T09:37:35.972Z"
   },
   {
    "duration": 6,
    "start_time": "2022-03-07T09:37:36.188Z"
   },
   {
    "duration": 6,
    "start_time": "2022-03-07T09:37:36.196Z"
   },
   {
    "duration": 10,
    "start_time": "2022-03-07T09:37:36.203Z"
   },
   {
    "duration": 24,
    "start_time": "2022-03-07T09:37:36.215Z"
   },
   {
    "duration": 205,
    "start_time": "2022-03-07T09:37:36.241Z"
   },
   {
    "duration": 6,
    "start_time": "2022-03-07T09:37:36.448Z"
   },
   {
    "duration": 10,
    "start_time": "2022-03-07T09:37:36.455Z"
   },
   {
    "duration": 6,
    "start_time": "2022-03-07T09:37:36.467Z"
   },
   {
    "duration": 6,
    "start_time": "2022-03-07T09:37:36.474Z"
   },
   {
    "duration": 5,
    "start_time": "2022-03-07T09:37:36.482Z"
   },
   {
    "duration": 6,
    "start_time": "2022-03-07T09:37:36.488Z"
   },
   {
    "duration": 273,
    "start_time": "2022-03-07T09:37:36.495Z"
   },
   {
    "duration": 7,
    "start_time": "2022-03-07T09:37:36.769Z"
   },
   {
    "duration": 5,
    "start_time": "2022-03-07T09:37:36.778Z"
   },
   {
    "duration": 6,
    "start_time": "2022-03-07T09:37:36.785Z"
   },
   {
    "duration": 6,
    "start_time": "2022-03-07T09:37:36.792Z"
   },
   {
    "duration": 204,
    "start_time": "2022-03-07T09:37:36.799Z"
   },
   {
    "duration": 7,
    "start_time": "2022-03-07T09:37:37.005Z"
   },
   {
    "duration": 23,
    "start_time": "2022-03-07T09:37:37.015Z"
   },
   {
    "duration": 6,
    "start_time": "2022-03-07T09:37:37.040Z"
   },
   {
    "duration": 7,
    "start_time": "2022-03-07T09:37:37.048Z"
   },
   {
    "duration": 211,
    "start_time": "2022-03-07T09:37:37.057Z"
   },
   {
    "duration": 8,
    "start_time": "2022-03-07T09:37:37.270Z"
   },
   {
    "duration": 8,
    "start_time": "2022-03-07T09:37:37.279Z"
   },
   {
    "duration": 4,
    "start_time": "2022-03-07T09:37:37.289Z"
   },
   {
    "duration": 12,
    "start_time": "2022-03-07T09:37:37.295Z"
   },
   {
    "duration": 10,
    "start_time": "2022-03-07T09:37:37.309Z"
   },
   {
    "duration": 21,
    "start_time": "2022-03-07T09:37:37.321Z"
   },
   {
    "duration": 8,
    "start_time": "2022-03-07T09:37:37.343Z"
   },
   {
    "duration": 325,
    "start_time": "2022-03-07T09:37:37.353Z"
   },
   {
    "duration": 9,
    "start_time": "2022-03-07T09:37:37.680Z"
   },
   {
    "duration": 9,
    "start_time": "2022-03-07T09:37:37.691Z"
   },
   {
    "duration": 4,
    "start_time": "2022-03-07T09:37:37.702Z"
   },
   {
    "duration": 6,
    "start_time": "2022-03-07T10:00:22.209Z"
   },
   {
    "duration": 7,
    "start_time": "2022-03-07T10:00:38.822Z"
   },
   {
    "duration": 4,
    "start_time": "2022-03-07T10:10:13.019Z"
   },
   {
    "duration": 5,
    "start_time": "2022-03-07T10:10:33.815Z"
   },
   {
    "duration": 597,
    "start_time": "2022-03-07T10:10:45.020Z"
   },
   {
    "duration": 192,
    "start_time": "2022-03-07T10:10:45.619Z"
   },
   {
    "duration": 162,
    "start_time": "2022-03-07T10:10:45.813Z"
   },
   {
    "duration": 116,
    "start_time": "2022-03-07T10:10:45.977Z"
   },
   {
    "duration": 21,
    "start_time": "2022-03-07T10:10:46.095Z"
   },
   {
    "duration": 37,
    "start_time": "2022-03-07T10:10:46.118Z"
   },
   {
    "duration": 195,
    "start_time": "2022-03-07T10:10:46.157Z"
   },
   {
    "duration": 22,
    "start_time": "2022-03-07T10:10:46.356Z"
   },
   {
    "duration": 106,
    "start_time": "2022-03-07T10:10:46.380Z"
   },
   {
    "duration": 23,
    "start_time": "2022-03-07T10:10:46.488Z"
   },
   {
    "duration": 56,
    "start_time": "2022-03-07T10:10:46.513Z"
   },
   {
    "duration": 18,
    "start_time": "2022-03-07T10:10:46.571Z"
   },
   {
    "duration": 4,
    "start_time": "2022-03-07T10:10:46.591Z"
   },
   {
    "duration": 19,
    "start_time": "2022-03-07T10:10:46.596Z"
   },
   {
    "duration": 24,
    "start_time": "2022-03-07T10:10:46.616Z"
   },
   {
    "duration": 26,
    "start_time": "2022-03-07T10:10:46.642Z"
   },
   {
    "duration": 20,
    "start_time": "2022-03-07T10:10:46.670Z"
   },
   {
    "duration": 8,
    "start_time": "2022-03-07T10:10:46.691Z"
   },
   {
    "duration": 52,
    "start_time": "2022-03-07T10:10:46.701Z"
   },
   {
    "duration": 3,
    "start_time": "2022-03-07T10:10:46.755Z"
   },
   {
    "duration": 209,
    "start_time": "2022-03-07T10:10:46.760Z"
   },
   {
    "duration": 20,
    "start_time": "2022-03-07T10:10:46.971Z"
   },
   {
    "duration": 11,
    "start_time": "2022-03-07T10:10:46.995Z"
   },
   {
    "duration": 30,
    "start_time": "2022-03-07T10:10:47.009Z"
   },
   {
    "duration": 8,
    "start_time": "2022-03-07T10:10:47.040Z"
   },
   {
    "duration": 8,
    "start_time": "2022-03-07T10:10:47.050Z"
   },
   {
    "duration": 7,
    "start_time": "2022-03-07T10:10:47.059Z"
   },
   {
    "duration": 5,
    "start_time": "2022-03-07T10:10:47.067Z"
   },
   {
    "duration": 5,
    "start_time": "2022-03-07T10:10:47.073Z"
   },
   {
    "duration": 6,
    "start_time": "2022-03-07T10:10:47.079Z"
   },
   {
    "duration": 280,
    "start_time": "2022-03-07T10:10:47.087Z"
   },
   {
    "duration": 6,
    "start_time": "2022-03-07T10:10:47.369Z"
   },
   {
    "duration": 9,
    "start_time": "2022-03-07T10:10:47.376Z"
   },
   {
    "duration": 5,
    "start_time": "2022-03-07T10:10:47.387Z"
   },
   {
    "duration": 6,
    "start_time": "2022-03-07T10:10:47.393Z"
   },
   {
    "duration": 215,
    "start_time": "2022-03-07T10:10:47.400Z"
   },
   {
    "duration": 6,
    "start_time": "2022-03-07T10:10:47.617Z"
   },
   {
    "duration": 15,
    "start_time": "2022-03-07T10:10:47.625Z"
   },
   {
    "duration": 7,
    "start_time": "2022-03-07T10:10:47.641Z"
   },
   {
    "duration": 10,
    "start_time": "2022-03-07T10:10:47.649Z"
   },
   {
    "duration": 212,
    "start_time": "2022-03-07T10:10:47.661Z"
   },
   {
    "duration": 5,
    "start_time": "2022-03-07T10:10:47.874Z"
   },
   {
    "duration": 12,
    "start_time": "2022-03-07T10:10:47.881Z"
   },
   {
    "duration": 5,
    "start_time": "2022-03-07T10:10:47.895Z"
   },
   {
    "duration": 11,
    "start_time": "2022-03-07T10:10:47.901Z"
   },
   {
    "duration": 7,
    "start_time": "2022-03-07T10:10:47.914Z"
   },
   {
    "duration": 17,
    "start_time": "2022-03-07T10:10:47.922Z"
   },
   {
    "duration": 263,
    "start_time": "2022-03-07T10:10:47.940Z"
   },
   {
    "duration": 7,
    "start_time": "2022-03-07T10:10:48.204Z"
   },
   {
    "duration": 7,
    "start_time": "2022-03-07T10:10:48.212Z"
   },
   {
    "duration": 17,
    "start_time": "2022-03-07T10:10:48.221Z"
   },
   {
    "duration": 4,
    "start_time": "2022-03-07T10:10:48.240Z"
   },
   {
    "duration": 203,
    "start_time": "2022-03-07T10:10:48.246Z"
   },
   {
    "duration": 7,
    "start_time": "2022-03-07T10:10:48.450Z"
   },
   {
    "duration": 8,
    "start_time": "2022-03-07T10:10:48.458Z"
   },
   {
    "duration": 5,
    "start_time": "2022-03-07T10:10:48.468Z"
   },
   {
    "duration": 5,
    "start_time": "2022-03-07T10:10:48.475Z"
   },
   {
    "duration": 211,
    "start_time": "2022-03-07T10:10:48.482Z"
   },
   {
    "duration": 6,
    "start_time": "2022-03-07T10:10:48.694Z"
   },
   {
    "duration": 8,
    "start_time": "2022-03-07T10:10:48.702Z"
   },
   {
    "duration": 6,
    "start_time": "2022-03-07T10:10:48.711Z"
   },
   {
    "duration": 23,
    "start_time": "2022-03-07T10:10:48.719Z"
   },
   {
    "duration": 9,
    "start_time": "2022-03-07T10:10:48.744Z"
   },
   {
    "duration": 8,
    "start_time": "2022-03-07T10:10:48.755Z"
   },
   {
    "duration": 8,
    "start_time": "2022-03-07T10:10:48.764Z"
   },
   {
    "duration": 382,
    "start_time": "2022-03-07T10:10:48.774Z"
   },
   {
    "duration": 10,
    "start_time": "2022-03-07T10:10:49.157Z"
   },
   {
    "duration": 9,
    "start_time": "2022-03-07T10:10:49.171Z"
   },
   {
    "duration": 4,
    "start_time": "2022-03-07T10:10:49.182Z"
   },
   {
    "duration": 5,
    "start_time": "2022-03-07T10:11:41.697Z"
   },
   {
    "duration": 731,
    "start_time": "2022-03-08T05:24:16.355Z"
   },
   {
    "duration": 263,
    "start_time": "2022-03-08T05:24:17.089Z"
   },
   {
    "duration": 13,
    "start_time": "2022-03-08T05:24:17.356Z"
   },
   {
    "duration": 214,
    "start_time": "2022-03-08T05:24:17.372Z"
   },
   {
    "duration": 12,
    "start_time": "2022-03-08T05:24:17.589Z"
   },
   {
    "duration": 167,
    "start_time": "2022-03-08T05:24:17.603Z"
   },
   {
    "duration": 11,
    "start_time": "2022-03-08T05:24:17.773Z"
   },
   {
    "duration": 26,
    "start_time": "2022-03-08T05:24:17.789Z"
   },
   {
    "duration": 49,
    "start_time": "2022-03-08T05:24:17.851Z"
   },
   {
    "duration": 218,
    "start_time": "2022-03-08T05:24:17.903Z"
   },
   {
    "duration": 47,
    "start_time": "2022-03-08T05:24:18.124Z"
   },
   {
    "duration": 9,
    "start_time": "2022-03-08T05:24:18.174Z"
   },
   {
    "duration": 149,
    "start_time": "2022-03-08T05:24:18.186Z"
   },
   {
    "duration": 38,
    "start_time": "2022-03-08T05:24:18.337Z"
   },
   {
    "duration": 9,
    "start_time": "2022-03-08T05:24:18.377Z"
   },
   {
    "duration": 78,
    "start_time": "2022-03-08T05:24:18.389Z"
   },
   {
    "duration": 27,
    "start_time": "2022-03-08T05:24:18.469Z"
   },
   {
    "duration": 9,
    "start_time": "2022-03-08T05:24:18.498Z"
   },
   {
    "duration": 56,
    "start_time": "2022-03-08T05:24:18.509Z"
   },
   {
    "duration": 9,
    "start_time": "2022-03-08T05:24:18.567Z"
   },
   {
    "duration": 39,
    "start_time": "2022-03-08T05:24:18.579Z"
   },
   {
    "duration": 37,
    "start_time": "2022-03-08T05:24:18.621Z"
   },
   {
    "duration": 33,
    "start_time": "2022-03-08T05:24:18.665Z"
   },
   {
    "duration": 13,
    "start_time": "2022-03-08T05:24:18.701Z"
   },
   {
    "duration": 61,
    "start_time": "2022-03-08T05:24:18.717Z"
   },
   {
    "duration": 6,
    "start_time": "2022-03-08T05:24:18.781Z"
   },
   {
    "duration": 351,
    "start_time": "2022-03-08T05:24:18.789Z"
   },
   {
    "duration": 36,
    "start_time": "2022-03-08T05:24:19.143Z"
   },
   {
    "duration": 13,
    "start_time": "2022-03-08T05:24:19.182Z"
   },
   {
    "duration": 14,
    "start_time": "2022-03-08T05:24:19.198Z"
   },
   {
    "duration": 42,
    "start_time": "2022-03-08T05:24:19.215Z"
   },
   {
    "duration": 11,
    "start_time": "2022-03-08T05:24:19.261Z"
   },
   {
    "duration": 8,
    "start_time": "2022-03-08T05:24:19.274Z"
   },
   {
    "duration": 5,
    "start_time": "2022-03-08T05:24:19.284Z"
   },
   {
    "duration": 8,
    "start_time": "2022-03-08T05:24:19.292Z"
   },
   {
    "duration": 49,
    "start_time": "2022-03-08T05:24:19.302Z"
   },
   {
    "duration": 490,
    "start_time": "2022-03-08T05:24:19.354Z"
   },
   {
    "duration": 10,
    "start_time": "2022-03-08T05:24:19.847Z"
   },
   {
    "duration": 13,
    "start_time": "2022-03-08T05:24:19.859Z"
   },
   {
    "duration": 9,
    "start_time": "2022-03-08T05:24:19.875Z"
   },
   {
    "duration": 6,
    "start_time": "2022-03-08T05:24:19.886Z"
   },
   {
    "duration": 448,
    "start_time": "2022-03-08T05:24:19.894Z"
   },
   {
    "duration": 12,
    "start_time": "2022-03-08T05:24:20.345Z"
   },
   {
    "duration": 7,
    "start_time": "2022-03-08T05:24:20.360Z"
   },
   {
    "duration": 7,
    "start_time": "2022-03-08T05:24:20.370Z"
   },
   {
    "duration": 7,
    "start_time": "2022-03-08T05:24:20.380Z"
   },
   {
    "duration": 504,
    "start_time": "2022-03-08T05:24:20.390Z"
   },
   {
    "duration": 8,
    "start_time": "2022-03-08T05:24:20.897Z"
   },
   {
    "duration": 11,
    "start_time": "2022-03-08T05:24:20.908Z"
   },
   {
    "duration": 36,
    "start_time": "2022-03-08T05:24:20.921Z"
   },
   {
    "duration": 7,
    "start_time": "2022-03-08T05:24:20.960Z"
   },
   {
    "duration": 7,
    "start_time": "2022-03-08T05:24:20.969Z"
   },
   {
    "duration": 6,
    "start_time": "2022-03-08T05:24:20.980Z"
   },
   {
    "duration": 438,
    "start_time": "2022-03-08T05:24:20.989Z"
   },
   {
    "duration": 21,
    "start_time": "2022-03-08T05:24:21.430Z"
   },
   {
    "duration": 7,
    "start_time": "2022-03-08T05:24:21.453Z"
   },
   {
    "duration": 6,
    "start_time": "2022-03-08T05:24:21.463Z"
   },
   {
    "duration": 7,
    "start_time": "2022-03-08T05:24:21.471Z"
   },
   {
    "duration": 399,
    "start_time": "2022-03-08T05:24:21.480Z"
   },
   {
    "duration": 8,
    "start_time": "2022-03-08T05:24:21.881Z"
   },
   {
    "duration": 7,
    "start_time": "2022-03-08T05:24:21.891Z"
   },
   {
    "duration": 9,
    "start_time": "2022-03-08T05:24:21.900Z"
   },
   {
    "duration": 40,
    "start_time": "2022-03-08T05:24:21.911Z"
   },
   {
    "duration": 403,
    "start_time": "2022-03-08T05:24:21.953Z"
   },
   {
    "duration": 9,
    "start_time": "2022-03-08T05:24:22.359Z"
   },
   {
    "duration": 11,
    "start_time": "2022-03-08T05:24:22.370Z"
   },
   {
    "duration": 5,
    "start_time": "2022-03-08T05:24:22.384Z"
   },
   {
    "duration": 5,
    "start_time": "2022-03-08T05:24:22.397Z"
   },
   {
    "duration": 52,
    "start_time": "2022-03-08T05:24:22.404Z"
   },
   {
    "duration": 9,
    "start_time": "2022-03-08T05:24:22.459Z"
   },
   {
    "duration": 7,
    "start_time": "2022-03-08T05:24:22.471Z"
   },
   {
    "duration": 476,
    "start_time": "2022-03-08T05:24:22.481Z"
   },
   {
    "duration": 15,
    "start_time": "2022-03-08T05:24:22.960Z"
   },
   {
    "duration": 15,
    "start_time": "2022-03-08T05:24:22.978Z"
   },
   {
    "duration": 8,
    "start_time": "2022-03-08T05:24:22.996Z"
   },
   {
    "duration": 429,
    "start_time": "2022-03-08T06:30:44.143Z"
   },
   {
    "duration": 718,
    "start_time": "2022-03-08T06:30:49.820Z"
   },
   {
    "duration": 299,
    "start_time": "2022-03-08T06:30:50.541Z"
   },
   {
    "duration": 40,
    "start_time": "2022-03-08T06:30:50.843Z"
   },
   {
    "duration": 209,
    "start_time": "2022-03-08T06:30:50.886Z"
   },
   {
    "duration": 11,
    "start_time": "2022-03-08T06:30:51.097Z"
   },
   {
    "duration": 158,
    "start_time": "2022-03-08T06:30:51.110Z"
   },
   {
    "duration": 19,
    "start_time": "2022-03-08T06:30:51.270Z"
   },
   {
    "duration": 25,
    "start_time": "2022-03-08T06:30:51.292Z"
   },
   {
    "duration": 36,
    "start_time": "2022-03-08T06:30:51.322Z"
   },
   {
    "duration": 229,
    "start_time": "2022-03-08T06:30:51.384Z"
   },
   {
    "duration": 29,
    "start_time": "2022-03-08T06:30:51.616Z"
   },
   {
    "duration": 9,
    "start_time": "2022-03-08T06:30:51.647Z"
   },
   {
    "duration": 156,
    "start_time": "2022-03-08T06:30:51.658Z"
   },
   {
    "duration": 29,
    "start_time": "2022-03-08T06:30:51.816Z"
   },
   {
    "duration": 9,
    "start_time": "2022-03-08T06:30:51.848Z"
   },
   {
    "duration": 79,
    "start_time": "2022-03-08T06:30:51.859Z"
   },
   {
    "duration": 44,
    "start_time": "2022-03-08T06:30:51.940Z"
   },
   {
    "duration": 9,
    "start_time": "2022-03-08T06:30:51.986Z"
   },
   {
    "duration": 28,
    "start_time": "2022-03-08T06:30:51.997Z"
   },
   {
    "duration": 8,
    "start_time": "2022-03-08T06:30:52.027Z"
   },
   {
    "duration": 78,
    "start_time": "2022-03-08T06:30:52.037Z"
   },
   {
    "duration": 9,
    "start_time": "2022-03-08T06:30:52.118Z"
   },
   {
    "duration": 66,
    "start_time": "2022-03-08T06:30:52.129Z"
   },
   {
    "duration": 13,
    "start_time": "2022-03-08T06:30:52.198Z"
   },
   {
    "duration": 31,
    "start_time": "2022-03-08T06:30:52.214Z"
   },
   {
    "duration": 5,
    "start_time": "2022-03-08T06:30:52.248Z"
   },
   {
    "duration": 415,
    "start_time": "2022-03-08T06:30:52.286Z"
   },
   {
    "duration": 37,
    "start_time": "2022-03-08T06:30:52.705Z"
   },
   {
    "duration": 13,
    "start_time": "2022-03-08T06:30:52.744Z"
   },
   {
    "duration": 16,
    "start_time": "2022-03-08T06:30:52.784Z"
   },
   {
    "duration": 13,
    "start_time": "2022-03-08T06:30:52.802Z"
   },
   {
    "duration": 11,
    "start_time": "2022-03-08T06:30:52.817Z"
   },
   {
    "duration": 8,
    "start_time": "2022-03-08T06:30:52.830Z"
   },
   {
    "duration": 43,
    "start_time": "2022-03-08T06:30:52.841Z"
   },
   {
    "duration": 8,
    "start_time": "2022-03-08T06:30:52.887Z"
   },
   {
    "duration": 8,
    "start_time": "2022-03-08T06:30:52.897Z"
   },
   {
    "duration": 557,
    "start_time": "2022-03-08T06:30:52.908Z"
   },
   {
    "duration": 18,
    "start_time": "2022-03-08T06:30:53.469Z"
   },
   {
    "duration": 10,
    "start_time": "2022-03-08T06:30:53.490Z"
   },
   {
    "duration": 10,
    "start_time": "2022-03-08T06:30:53.502Z"
   },
   {
    "duration": 12,
    "start_time": "2022-03-08T06:30:53.514Z"
   },
   {
    "duration": 459,
    "start_time": "2022-03-08T06:30:53.528Z"
   },
   {
    "duration": 9,
    "start_time": "2022-03-08T06:30:53.990Z"
   },
   {
    "duration": 7,
    "start_time": "2022-03-08T06:30:54.001Z"
   },
   {
    "duration": 7,
    "start_time": "2022-03-08T06:30:54.010Z"
   },
   {
    "duration": 6,
    "start_time": "2022-03-08T06:30:54.019Z"
   },
   {
    "duration": 528,
    "start_time": "2022-03-08T06:30:54.028Z"
   },
   {
    "duration": 7,
    "start_time": "2022-03-08T06:30:54.559Z"
   },
   {
    "duration": 18,
    "start_time": "2022-03-08T06:30:54.568Z"
   },
   {
    "duration": 8,
    "start_time": "2022-03-08T06:30:54.589Z"
   },
   {
    "duration": 13,
    "start_time": "2022-03-08T06:30:54.600Z"
   },
   {
    "duration": 10,
    "start_time": "2022-03-08T06:30:54.615Z"
   },
   {
    "duration": 11,
    "start_time": "2022-03-08T06:30:54.627Z"
   },
   {
    "duration": 461,
    "start_time": "2022-03-08T06:30:54.640Z"
   },
   {
    "duration": 9,
    "start_time": "2022-03-08T06:30:55.103Z"
   },
   {
    "duration": 12,
    "start_time": "2022-03-08T06:30:55.114Z"
   },
   {
    "duration": 7,
    "start_time": "2022-03-08T06:30:55.129Z"
   },
   {
    "duration": 6,
    "start_time": "2022-03-08T06:30:55.139Z"
   },
   {
    "duration": 410,
    "start_time": "2022-03-08T06:30:55.183Z"
   },
   {
    "duration": 8,
    "start_time": "2022-03-08T06:30:55.596Z"
   },
   {
    "duration": 8,
    "start_time": "2022-03-08T06:30:55.607Z"
   },
   {
    "duration": 7,
    "start_time": "2022-03-08T06:30:55.617Z"
   },
   {
    "duration": 9,
    "start_time": "2022-03-08T06:30:55.626Z"
   },
   {
    "duration": 457,
    "start_time": "2022-03-08T06:30:55.638Z"
   },
   {
    "duration": 11,
    "start_time": "2022-03-08T06:30:56.097Z"
   },
   {
    "duration": 14,
    "start_time": "2022-03-08T06:30:56.110Z"
   },
   {
    "duration": 10,
    "start_time": "2022-03-08T06:30:56.126Z"
   },
   {
    "duration": 7,
    "start_time": "2022-03-08T06:30:56.138Z"
   },
   {
    "duration": 44,
    "start_time": "2022-03-08T06:30:56.147Z"
   },
   {
    "duration": 11,
    "start_time": "2022-03-08T06:30:56.194Z"
   },
   {
    "duration": 9,
    "start_time": "2022-03-08T06:30:56.207Z"
   },
   {
    "duration": 480,
    "start_time": "2022-03-08T06:30:56.219Z"
   },
   {
    "duration": 15,
    "start_time": "2022-03-08T06:30:56.702Z"
   },
   {
    "duration": 15,
    "start_time": "2022-03-08T06:30:56.720Z"
   },
   {
    "duration": 8,
    "start_time": "2022-03-08T06:30:56.737Z"
   },
   {
    "duration": 8,
    "start_time": "2022-03-08T06:35:57.112Z"
   },
   {
    "duration": 7,
    "start_time": "2022-03-08T06:36:30.981Z"
   },
   {
    "duration": 9,
    "start_time": "2022-03-08T06:36:34.377Z"
   },
   {
    "duration": 8,
    "start_time": "2022-03-08T06:39:53.844Z"
   },
   {
    "duration": 7,
    "start_time": "2022-03-08T06:40:03.574Z"
   },
   {
    "duration": 12,
    "start_time": "2022-03-08T06:40:31.820Z"
   },
   {
    "duration": 11,
    "start_time": "2022-03-08T06:40:48.842Z"
   },
   {
    "duration": 6,
    "start_time": "2022-03-08T06:40:51.444Z"
   },
   {
    "duration": 743,
    "start_time": "2022-03-08T07:54:42.240Z"
   },
   {
    "duration": 257,
    "start_time": "2022-03-08T07:54:42.985Z"
   },
   {
    "duration": 14,
    "start_time": "2022-03-08T07:54:43.245Z"
   },
   {
    "duration": 233,
    "start_time": "2022-03-08T07:54:43.262Z"
   },
   {
    "duration": 10,
    "start_time": "2022-03-08T07:54:43.497Z"
   },
   {
    "duration": 161,
    "start_time": "2022-03-08T07:54:43.510Z"
   },
   {
    "duration": 12,
    "start_time": "2022-03-08T07:54:43.674Z"
   },
   {
    "duration": 60,
    "start_time": "2022-03-08T07:54:43.692Z"
   },
   {
    "duration": 39,
    "start_time": "2022-03-08T07:54:43.757Z"
   },
   {
    "duration": 236,
    "start_time": "2022-03-08T07:54:43.798Z"
   },
   {
    "duration": 39,
    "start_time": "2022-03-08T07:54:44.036Z"
   },
   {
    "duration": 9,
    "start_time": "2022-03-08T07:54:44.077Z"
   },
   {
    "duration": 146,
    "start_time": "2022-03-08T07:54:44.088Z"
   },
   {
    "duration": 38,
    "start_time": "2022-03-08T07:54:44.236Z"
   },
   {
    "duration": 9,
    "start_time": "2022-03-08T07:54:44.276Z"
   },
   {
    "duration": 79,
    "start_time": "2022-03-08T07:54:44.287Z"
   },
   {
    "duration": 29,
    "start_time": "2022-03-08T07:54:44.369Z"
   },
   {
    "duration": 9,
    "start_time": "2022-03-08T07:54:44.400Z"
   },
   {
    "duration": 58,
    "start_time": "2022-03-08T07:54:44.411Z"
   },
   {
    "duration": 9,
    "start_time": "2022-03-08T07:54:44.471Z"
   },
   {
    "duration": 38,
    "start_time": "2022-03-08T07:54:44.482Z"
   },
   {
    "duration": 8,
    "start_time": "2022-03-08T07:54:44.551Z"
   },
   {
    "duration": 31,
    "start_time": "2022-03-08T07:54:44.565Z"
   },
   {
    "duration": 13,
    "start_time": "2022-03-08T07:54:44.600Z"
   },
   {
    "duration": 62,
    "start_time": "2022-03-08T07:54:44.616Z"
   },
   {
    "duration": 6,
    "start_time": "2022-03-08T07:54:44.681Z"
   },
   {
    "duration": 385,
    "start_time": "2022-03-08T07:54:44.690Z"
   },
   {
    "duration": 35,
    "start_time": "2022-03-08T07:54:45.077Z"
   },
   {
    "duration": 38,
    "start_time": "2022-03-08T07:54:45.115Z"
   },
   {
    "duration": 16,
    "start_time": "2022-03-08T07:54:45.156Z"
   },
   {
    "duration": 11,
    "start_time": "2022-03-08T07:54:45.174Z"
   },
   {
    "duration": 10,
    "start_time": "2022-03-08T07:54:45.187Z"
   },
   {
    "duration": 8,
    "start_time": "2022-03-08T07:54:45.200Z"
   },
   {
    "duration": 45,
    "start_time": "2022-03-08T07:54:45.211Z"
   },
   {
    "duration": 11,
    "start_time": "2022-03-08T07:54:45.259Z"
   },
   {
    "duration": 7,
    "start_time": "2022-03-08T07:54:45.273Z"
   },
   {
    "duration": 533,
    "start_time": "2022-03-08T07:54:45.282Z"
   },
   {
    "duration": 11,
    "start_time": "2022-03-08T07:54:45.818Z"
   },
   {
    "duration": 23,
    "start_time": "2022-03-08T07:54:45.831Z"
   },
   {
    "duration": 8,
    "start_time": "2022-03-08T07:54:45.856Z"
   },
   {
    "duration": 7,
    "start_time": "2022-03-08T07:54:45.867Z"
   },
   {
    "duration": 453,
    "start_time": "2022-03-08T07:54:45.877Z"
   },
   {
    "duration": 23,
    "start_time": "2022-03-08T07:54:46.333Z"
   },
   {
    "duration": 8,
    "start_time": "2022-03-08T07:54:46.358Z"
   },
   {
    "duration": 7,
    "start_time": "2022-03-08T07:54:46.368Z"
   },
   {
    "duration": 6,
    "start_time": "2022-03-08T07:54:46.377Z"
   },
   {
    "duration": 487,
    "start_time": "2022-03-08T07:54:46.385Z"
   },
   {
    "duration": 8,
    "start_time": "2022-03-08T07:54:46.875Z"
   },
   {
    "duration": 11,
    "start_time": "2022-03-08T07:54:46.885Z"
   },
   {
    "duration": 10,
    "start_time": "2022-03-08T07:54:46.899Z"
   },
   {
    "duration": 6,
    "start_time": "2022-03-08T07:54:46.911Z"
   },
   {
    "duration": 37,
    "start_time": "2022-03-08T07:54:46.919Z"
   },
   {
    "duration": 6,
    "start_time": "2022-03-08T07:54:46.958Z"
   },
   {
    "duration": 420,
    "start_time": "2022-03-08T07:54:46.967Z"
   },
   {
    "duration": 9,
    "start_time": "2022-03-08T07:54:47.389Z"
   },
   {
    "duration": 6,
    "start_time": "2022-03-08T07:54:47.400Z"
   },
   {
    "duration": 7,
    "start_time": "2022-03-08T07:54:47.408Z"
   },
   {
    "duration": 35,
    "start_time": "2022-03-08T07:54:47.417Z"
   },
   {
    "duration": 366,
    "start_time": "2022-03-08T07:54:47.454Z"
   },
   {
    "duration": 9,
    "start_time": "2022-03-08T07:54:47.823Z"
   },
   {
    "duration": 6,
    "start_time": "2022-03-08T07:54:47.851Z"
   },
   {
    "duration": 6,
    "start_time": "2022-03-08T07:54:47.859Z"
   },
   {
    "duration": 6,
    "start_time": "2022-03-08T07:54:47.868Z"
   },
   {
    "duration": 406,
    "start_time": "2022-03-08T07:54:47.877Z"
   },
   {
    "duration": 8,
    "start_time": "2022-03-08T07:54:48.286Z"
   },
   {
    "duration": 10,
    "start_time": "2022-03-08T07:54:48.297Z"
   },
   {
    "duration": 5,
    "start_time": "2022-03-08T07:54:48.310Z"
   },
   {
    "duration": 4,
    "start_time": "2022-03-08T07:54:48.351Z"
   },
   {
    "duration": 15,
    "start_time": "2022-03-08T07:54:48.358Z"
   },
   {
    "duration": 7,
    "start_time": "2022-03-08T07:54:48.375Z"
   },
   {
    "duration": 8,
    "start_time": "2022-03-08T07:54:48.384Z"
   },
   {
    "duration": 459,
    "start_time": "2022-03-08T07:54:48.394Z"
   },
   {
    "duration": 12,
    "start_time": "2022-03-08T07:54:48.855Z"
   },
   {
    "duration": 13,
    "start_time": "2022-03-08T07:54:48.870Z"
   },
   {
    "duration": 6,
    "start_time": "2022-03-08T07:54:48.886Z"
   },
   {
    "duration": 73,
    "start_time": "2022-03-08T07:54:48.895Z"
   }
  ],
  "kernelspec": {
   "display_name": "Python 3 (ipykernel)",
   "language": "python",
   "name": "python3"
  },
  "language_info": {
   "codemirror_mode": {
    "name": "ipython",
    "version": 3
   },
   "file_extension": ".py",
   "mimetype": "text/x-python",
   "name": "python",
   "nbconvert_exporter": "python",
   "pygments_lexer": "ipython3",
   "version": "3.9.5"
  },
  "toc": {
   "base_numbering": 1,
   "nav_menu": {},
   "number_sections": true,
   "sideBar": true,
   "skip_h1_title": true,
   "title_cell": "Table of Contents",
   "title_sidebar": "Contents",
   "toc_cell": false,
   "toc_position": {
    "height": "calc(100% - 180px)",
    "left": "10px",
    "top": "150px",
    "width": "255.594px"
   },
   "toc_section_display": true,
   "toc_window_display": false
  }
 },
 "nbformat": 4,
 "nbformat_minor": 2
}
