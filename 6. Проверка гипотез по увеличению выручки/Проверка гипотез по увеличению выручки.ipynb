{
 "cells": [
  {
   "cell_type": "markdown",
   "metadata": {},
   "source": [
    "***Описание проекта***\n",
    "\n",
    "Вы — аналитик крупного интернет-магазина. Вместе с отделом маркетинга вы подготовили список гипотез для увеличения выручки.\n",
    "Приоритизируйте гипотезы, запустите A/B-тест и проанализируйте результаты.\n"
   ]
  },
  {
   "cell_type": "markdown",
   "metadata": {},
   "source": [
    "### Приоритизация гипотез"
   ]
  },
  {
   "cell_type": "code",
   "execution_count": 1,
   "metadata": {},
   "outputs": [],
   "source": [
    "import pandas as pd  #импорт библиотек \n",
    "import datetime as dt\n",
    "import numpy as np\n",
    "import matplotlib.pyplot as plt\n",
    "import scipy.stats as stats"
   ]
  },
  {
   "cell_type": "code",
   "execution_count": 2,
   "metadata": {},
   "outputs": [],
   "source": [
    "pd.set_option('max_colwidth', 150)\n",
    "pd.set_option('display.width', 400)"
   ]
  },
  {
   "cell_type": "code",
   "execution_count": 3,
   "metadata": {},
   "outputs": [],
   "source": [
    "hypothes = pd.read_csv('/datasets/hypothesis.csv') "
   ]
  },
  {
   "cell_type": "code",
   "execution_count": 4,
   "metadata": {},
   "outputs": [
    {
     "data": {
      "text/html": [
       "<div>\n",
       "<style scoped>\n",
       "    .dataframe tbody tr th:only-of-type {\n",
       "        vertical-align: middle;\n",
       "    }\n",
       "\n",
       "    .dataframe tbody tr th {\n",
       "        vertical-align: top;\n",
       "    }\n",
       "\n",
       "    .dataframe thead th {\n",
       "        text-align: right;\n",
       "    }\n",
       "</style>\n",
       "<table border=\"1\" class=\"dataframe\">\n",
       "  <thead>\n",
       "    <tr style=\"text-align: right;\">\n",
       "      <th></th>\n",
       "      <th>Hypothesis</th>\n",
       "      <th>Reach</th>\n",
       "      <th>Impact</th>\n",
       "      <th>Confidence</th>\n",
       "      <th>Efforts</th>\n",
       "    </tr>\n",
       "  </thead>\n",
       "  <tbody>\n",
       "    <tr>\n",
       "      <th>0</th>\n",
       "      <td>Добавить два новых канала привлечения трафика, что позволит привлекать на 30% больше пользователей</td>\n",
       "      <td>3</td>\n",
       "      <td>10</td>\n",
       "      <td>8</td>\n",
       "      <td>6</td>\n",
       "    </tr>\n",
       "    <tr>\n",
       "      <th>1</th>\n",
       "      <td>Запустить собственную службу доставки, что сократит срок доставки заказов</td>\n",
       "      <td>2</td>\n",
       "      <td>5</td>\n",
       "      <td>4</td>\n",
       "      <td>10</td>\n",
       "    </tr>\n",
       "    <tr>\n",
       "      <th>2</th>\n",
       "      <td>Добавить блоки рекомендаций товаров на сайт интернет магазина, чтобы повысить конверсию и средний чек заказа</td>\n",
       "      <td>8</td>\n",
       "      <td>3</td>\n",
       "      <td>7</td>\n",
       "      <td>3</td>\n",
       "    </tr>\n",
       "    <tr>\n",
       "      <th>3</th>\n",
       "      <td>Изменить структура категорий, что увеличит конверсию, т.к. пользователи быстрее найдут нужный товар</td>\n",
       "      <td>8</td>\n",
       "      <td>3</td>\n",
       "      <td>3</td>\n",
       "      <td>8</td>\n",
       "    </tr>\n",
       "    <tr>\n",
       "      <th>4</th>\n",
       "      <td>Изменить цвет фона главной страницы, чтобы увеличить вовлеченность пользователей</td>\n",
       "      <td>3</td>\n",
       "      <td>1</td>\n",
       "      <td>1</td>\n",
       "      <td>1</td>\n",
       "    </tr>\n",
       "    <tr>\n",
       "      <th>5</th>\n",
       "      <td>Добавить страницу отзывов клиентов о магазине, что позволит увеличить количество заказов</td>\n",
       "      <td>3</td>\n",
       "      <td>2</td>\n",
       "      <td>2</td>\n",
       "      <td>3</td>\n",
       "    </tr>\n",
       "    <tr>\n",
       "      <th>6</th>\n",
       "      <td>Показать на главной странице баннеры с актуальными акциями и распродажами, чтобы увеличить конверсию</td>\n",
       "      <td>5</td>\n",
       "      <td>3</td>\n",
       "      <td>8</td>\n",
       "      <td>3</td>\n",
       "    </tr>\n",
       "    <tr>\n",
       "      <th>7</th>\n",
       "      <td>Добавить форму подписки на все основные страницы, чтобы собрать базу клиентов для email-рассылок</td>\n",
       "      <td>10</td>\n",
       "      <td>7</td>\n",
       "      <td>8</td>\n",
       "      <td>5</td>\n",
       "    </tr>\n",
       "    <tr>\n",
       "      <th>8</th>\n",
       "      <td>Запустить акцию, дающую скидку на товар в день рождения</td>\n",
       "      <td>1</td>\n",
       "      <td>9</td>\n",
       "      <td>9</td>\n",
       "      <td>5</td>\n",
       "    </tr>\n",
       "  </tbody>\n",
       "</table>\n",
       "</div>"
      ],
      "text/plain": [
       "                                                                                                     Hypothesis  Reach  Impact  Confidence  Efforts\n",
       "0            Добавить два новых канала привлечения трафика, что позволит привлекать на 30% больше пользователей      3      10           8        6\n",
       "1                                     Запустить собственную службу доставки, что сократит срок доставки заказов      2       5           4       10\n",
       "2  Добавить блоки рекомендаций товаров на сайт интернет магазина, чтобы повысить конверсию и средний чек заказа      8       3           7        3\n",
       "3           Изменить структура категорий, что увеличит конверсию, т.к. пользователи быстрее найдут нужный товар      8       3           3        8\n",
       "4                              Изменить цвет фона главной страницы, чтобы увеличить вовлеченность пользователей      3       1           1        1\n",
       "5                      Добавить страницу отзывов клиентов о магазине, что позволит увеличить количество заказов      3       2           2        3\n",
       "6          Показать на главной странице баннеры с актуальными акциями и распродажами, чтобы увеличить конверсию      5       3           8        3\n",
       "7              Добавить форму подписки на все основные страницы, чтобы собрать базу клиентов для email-рассылок     10       7           8        5\n",
       "8                                                       Запустить акцию, дающую скидку на товар в день рождения      1       9           9        5"
      ]
     },
     "execution_count": 4,
     "metadata": {},
     "output_type": "execute_result"
    }
   ],
   "source": [
    "hypothes # таблица с гипотезами и значениями параметров для расчета приоритизации гипотез по методам ICE и RICE\n"
   ]
  },
  {
   "cell_type": "code",
   "execution_count": 5,
   "metadata": {},
   "outputs": [],
   "source": [
    "hypothes['Ice'] = hypothes['Impact'] * hypothes['Confidence'] / hypothes['Efforts'] # добавление столбца с оценкой по методу ICE \n",
    "hypothes['Rice'] = hypothes['Reach'] * hypothes['Impact'] * hypothes['Confidence'] / hypothes['Efforts']  # добавление столбца с оценкой по методу RICE"
   ]
  },
  {
   "cell_type": "code",
   "execution_count": 6,
   "metadata": {},
   "outputs": [
    {
     "data": {
      "text/html": [
       "<div>\n",
       "<style scoped>\n",
       "    .dataframe tbody tr th:only-of-type {\n",
       "        vertical-align: middle;\n",
       "    }\n",
       "\n",
       "    .dataframe tbody tr th {\n",
       "        vertical-align: top;\n",
       "    }\n",
       "\n",
       "    .dataframe thead th {\n",
       "        text-align: right;\n",
       "    }\n",
       "</style>\n",
       "<table border=\"1\" class=\"dataframe\">\n",
       "  <thead>\n",
       "    <tr style=\"text-align: right;\">\n",
       "      <th></th>\n",
       "      <th>Hypothesis</th>\n",
       "      <th>Reach</th>\n",
       "      <th>Impact</th>\n",
       "      <th>Confidence</th>\n",
       "      <th>Efforts</th>\n",
       "      <th>Ice</th>\n",
       "      <th>Rice</th>\n",
       "    </tr>\n",
       "  </thead>\n",
       "  <tbody>\n",
       "    <tr>\n",
       "      <th>8</th>\n",
       "      <td>Запустить акцию, дающую скидку на товар в день рождения</td>\n",
       "      <td>1</td>\n",
       "      <td>9</td>\n",
       "      <td>9</td>\n",
       "      <td>5</td>\n",
       "      <td>16.200000</td>\n",
       "      <td>16.2</td>\n",
       "    </tr>\n",
       "    <tr>\n",
       "      <th>0</th>\n",
       "      <td>Добавить два новых канала привлечения трафика, что позволит привлекать на 30% больше пользователей</td>\n",
       "      <td>3</td>\n",
       "      <td>10</td>\n",
       "      <td>8</td>\n",
       "      <td>6</td>\n",
       "      <td>13.333333</td>\n",
       "      <td>40.0</td>\n",
       "    </tr>\n",
       "    <tr>\n",
       "      <th>7</th>\n",
       "      <td>Добавить форму подписки на все основные страницы, чтобы собрать базу клиентов для email-рассылок</td>\n",
       "      <td>10</td>\n",
       "      <td>7</td>\n",
       "      <td>8</td>\n",
       "      <td>5</td>\n",
       "      <td>11.200000</td>\n",
       "      <td>112.0</td>\n",
       "    </tr>\n",
       "    <tr>\n",
       "      <th>6</th>\n",
       "      <td>Показать на главной странице баннеры с актуальными акциями и распродажами, чтобы увеличить конверсию</td>\n",
       "      <td>5</td>\n",
       "      <td>3</td>\n",
       "      <td>8</td>\n",
       "      <td>3</td>\n",
       "      <td>8.000000</td>\n",
       "      <td>40.0</td>\n",
       "    </tr>\n",
       "    <tr>\n",
       "      <th>2</th>\n",
       "      <td>Добавить блоки рекомендаций товаров на сайт интернет магазина, чтобы повысить конверсию и средний чек заказа</td>\n",
       "      <td>8</td>\n",
       "      <td>3</td>\n",
       "      <td>7</td>\n",
       "      <td>3</td>\n",
       "      <td>7.000000</td>\n",
       "      <td>56.0</td>\n",
       "    </tr>\n",
       "    <tr>\n",
       "      <th>1</th>\n",
       "      <td>Запустить собственную службу доставки, что сократит срок доставки заказов</td>\n",
       "      <td>2</td>\n",
       "      <td>5</td>\n",
       "      <td>4</td>\n",
       "      <td>10</td>\n",
       "      <td>2.000000</td>\n",
       "      <td>4.0</td>\n",
       "    </tr>\n",
       "    <tr>\n",
       "      <th>5</th>\n",
       "      <td>Добавить страницу отзывов клиентов о магазине, что позволит увеличить количество заказов</td>\n",
       "      <td>3</td>\n",
       "      <td>2</td>\n",
       "      <td>2</td>\n",
       "      <td>3</td>\n",
       "      <td>1.333333</td>\n",
       "      <td>4.0</td>\n",
       "    </tr>\n",
       "    <tr>\n",
       "      <th>3</th>\n",
       "      <td>Изменить структура категорий, что увеличит конверсию, т.к. пользователи быстрее найдут нужный товар</td>\n",
       "      <td>8</td>\n",
       "      <td>3</td>\n",
       "      <td>3</td>\n",
       "      <td>8</td>\n",
       "      <td>1.125000</td>\n",
       "      <td>9.0</td>\n",
       "    </tr>\n",
       "    <tr>\n",
       "      <th>4</th>\n",
       "      <td>Изменить цвет фона главной страницы, чтобы увеличить вовлеченность пользователей</td>\n",
       "      <td>3</td>\n",
       "      <td>1</td>\n",
       "      <td>1</td>\n",
       "      <td>1</td>\n",
       "      <td>1.000000</td>\n",
       "      <td>3.0</td>\n",
       "    </tr>\n",
       "  </tbody>\n",
       "</table>\n",
       "</div>"
      ],
      "text/plain": [
       "                                                                                                     Hypothesis  Reach  Impact  Confidence  Efforts        Ice   Rice\n",
       "8                                                       Запустить акцию, дающую скидку на товар в день рождения      1       9           9        5  16.200000   16.2\n",
       "0            Добавить два новых канала привлечения трафика, что позволит привлекать на 30% больше пользователей      3      10           8        6  13.333333   40.0\n",
       "7              Добавить форму подписки на все основные страницы, чтобы собрать базу клиентов для email-рассылок     10       7           8        5  11.200000  112.0\n",
       "6          Показать на главной странице баннеры с актуальными акциями и распродажами, чтобы увеличить конверсию      5       3           8        3   8.000000   40.0\n",
       "2  Добавить блоки рекомендаций товаров на сайт интернет магазина, чтобы повысить конверсию и средний чек заказа      8       3           7        3   7.000000   56.0\n",
       "1                                     Запустить собственную службу доставки, что сократит срок доставки заказов      2       5           4       10   2.000000    4.0\n",
       "5                      Добавить страницу отзывов клиентов о магазине, что позволит увеличить количество заказов      3       2           2        3   1.333333    4.0\n",
       "3           Изменить структура категорий, что увеличит конверсию, т.к. пользователи быстрее найдут нужный товар      8       3           3        8   1.125000    9.0\n",
       "4                              Изменить цвет фона главной страницы, чтобы увеличить вовлеченность пользователей      3       1           1        1   1.000000    3.0"
      ]
     },
     "execution_count": 6,
     "metadata": {},
     "output_type": "execute_result"
    }
   ],
   "source": [
    "hypothes.sort_values(by= 'Ice', ascending=False) # приоритизация гипотез по методу ICE в порядке убывания"
   ]
  },
  {
   "cell_type": "code",
   "execution_count": 7,
   "metadata": {},
   "outputs": [
    {
     "data": {
      "text/html": [
       "<div>\n",
       "<style scoped>\n",
       "    .dataframe tbody tr th:only-of-type {\n",
       "        vertical-align: middle;\n",
       "    }\n",
       "\n",
       "    .dataframe tbody tr th {\n",
       "        vertical-align: top;\n",
       "    }\n",
       "\n",
       "    .dataframe thead th {\n",
       "        text-align: right;\n",
       "    }\n",
       "</style>\n",
       "<table border=\"1\" class=\"dataframe\">\n",
       "  <thead>\n",
       "    <tr style=\"text-align: right;\">\n",
       "      <th></th>\n",
       "      <th>Hypothesis</th>\n",
       "      <th>Reach</th>\n",
       "      <th>Impact</th>\n",
       "      <th>Confidence</th>\n",
       "      <th>Efforts</th>\n",
       "      <th>Ice</th>\n",
       "      <th>Rice</th>\n",
       "    </tr>\n",
       "  </thead>\n",
       "  <tbody>\n",
       "    <tr>\n",
       "      <th>7</th>\n",
       "      <td>Добавить форму подписки на все основные страницы, чтобы собрать базу клиентов для email-рассылок</td>\n",
       "      <td>10</td>\n",
       "      <td>7</td>\n",
       "      <td>8</td>\n",
       "      <td>5</td>\n",
       "      <td>11.200000</td>\n",
       "      <td>112.0</td>\n",
       "    </tr>\n",
       "    <tr>\n",
       "      <th>2</th>\n",
       "      <td>Добавить блоки рекомендаций товаров на сайт интернет магазина, чтобы повысить конверсию и средний чек заказа</td>\n",
       "      <td>8</td>\n",
       "      <td>3</td>\n",
       "      <td>7</td>\n",
       "      <td>3</td>\n",
       "      <td>7.000000</td>\n",
       "      <td>56.0</td>\n",
       "    </tr>\n",
       "    <tr>\n",
       "      <th>0</th>\n",
       "      <td>Добавить два новых канала привлечения трафика, что позволит привлекать на 30% больше пользователей</td>\n",
       "      <td>3</td>\n",
       "      <td>10</td>\n",
       "      <td>8</td>\n",
       "      <td>6</td>\n",
       "      <td>13.333333</td>\n",
       "      <td>40.0</td>\n",
       "    </tr>\n",
       "    <tr>\n",
       "      <th>6</th>\n",
       "      <td>Показать на главной странице баннеры с актуальными акциями и распродажами, чтобы увеличить конверсию</td>\n",
       "      <td>5</td>\n",
       "      <td>3</td>\n",
       "      <td>8</td>\n",
       "      <td>3</td>\n",
       "      <td>8.000000</td>\n",
       "      <td>40.0</td>\n",
       "    </tr>\n",
       "    <tr>\n",
       "      <th>8</th>\n",
       "      <td>Запустить акцию, дающую скидку на товар в день рождения</td>\n",
       "      <td>1</td>\n",
       "      <td>9</td>\n",
       "      <td>9</td>\n",
       "      <td>5</td>\n",
       "      <td>16.200000</td>\n",
       "      <td>16.2</td>\n",
       "    </tr>\n",
       "    <tr>\n",
       "      <th>3</th>\n",
       "      <td>Изменить структура категорий, что увеличит конверсию, т.к. пользователи быстрее найдут нужный товар</td>\n",
       "      <td>8</td>\n",
       "      <td>3</td>\n",
       "      <td>3</td>\n",
       "      <td>8</td>\n",
       "      <td>1.125000</td>\n",
       "      <td>9.0</td>\n",
       "    </tr>\n",
       "    <tr>\n",
       "      <th>1</th>\n",
       "      <td>Запустить собственную службу доставки, что сократит срок доставки заказов</td>\n",
       "      <td>2</td>\n",
       "      <td>5</td>\n",
       "      <td>4</td>\n",
       "      <td>10</td>\n",
       "      <td>2.000000</td>\n",
       "      <td>4.0</td>\n",
       "    </tr>\n",
       "    <tr>\n",
       "      <th>5</th>\n",
       "      <td>Добавить страницу отзывов клиентов о магазине, что позволит увеличить количество заказов</td>\n",
       "      <td>3</td>\n",
       "      <td>2</td>\n",
       "      <td>2</td>\n",
       "      <td>3</td>\n",
       "      <td>1.333333</td>\n",
       "      <td>4.0</td>\n",
       "    </tr>\n",
       "    <tr>\n",
       "      <th>4</th>\n",
       "      <td>Изменить цвет фона главной страницы, чтобы увеличить вовлеченность пользователей</td>\n",
       "      <td>3</td>\n",
       "      <td>1</td>\n",
       "      <td>1</td>\n",
       "      <td>1</td>\n",
       "      <td>1.000000</td>\n",
       "      <td>3.0</td>\n",
       "    </tr>\n",
       "  </tbody>\n",
       "</table>\n",
       "</div>"
      ],
      "text/plain": [
       "                                                                                                     Hypothesis  Reach  Impact  Confidence  Efforts        Ice   Rice\n",
       "7              Добавить форму подписки на все основные страницы, чтобы собрать базу клиентов для email-рассылок     10       7           8        5  11.200000  112.0\n",
       "2  Добавить блоки рекомендаций товаров на сайт интернет магазина, чтобы повысить конверсию и средний чек заказа      8       3           7        3   7.000000   56.0\n",
       "0            Добавить два новых канала привлечения трафика, что позволит привлекать на 30% больше пользователей      3      10           8        6  13.333333   40.0\n",
       "6          Показать на главной странице баннеры с актуальными акциями и распродажами, чтобы увеличить конверсию      5       3           8        3   8.000000   40.0\n",
       "8                                                       Запустить акцию, дающую скидку на товар в день рождения      1       9           9        5  16.200000   16.2\n",
       "3           Изменить структура категорий, что увеличит конверсию, т.к. пользователи быстрее найдут нужный товар      8       3           3        8   1.125000    9.0\n",
       "1                                     Запустить собственную службу доставки, что сократит срок доставки заказов      2       5           4       10   2.000000    4.0\n",
       "5                      Добавить страницу отзывов клиентов о магазине, что позволит увеличить количество заказов      3       2           2        3   1.333333    4.0\n",
       "4                              Изменить цвет фона главной страницы, чтобы увеличить вовлеченность пользователей      3       1           1        1   1.000000    3.0"
      ]
     },
     "execution_count": 7,
     "metadata": {},
     "output_type": "execute_result"
    }
   ],
   "source": [
    "hypothes.sort_values(by= 'Rice', ascending=False) # приоритизация гипотез по методу RICE в порядке убывания\n"
   ]
  },
  {
   "cell_type": "markdown",
   "metadata": {},
   "source": [
    "При применении метода RICE приоритизация гипотез изменилась, этот метод учитывает охват пользователей. "
   ]
  },
  {
   "cell_type": "markdown",
   "metadata": {},
   "source": [
    "Я считаю, что для запуска исследования приоритетной будет проверка гипотезы №7 \"Добавить форму подписки на все основные страницы, чтобы собрать базу клиентов для email-рассылок\", так как оценка этой гипотезы по методу RICE больше чем на 50% оценки гипотезы №2 \"Добавить блоки рекомендаций товаров на сайт интернет магазина, чтобы повысить конверсию и средний чек заказа\".\n",
    "Оценка гипотезы №7 по методу ICE составляет 11.2, что на 32% меньше оценки гипотезы №8 \"Запустить акцию, дающую скидку на товар в день рождения\".  "
   ]
  },
  {
   "cell_type": "markdown",
   "metadata": {},
   "source": [
    "### Анализ A/B-теста"
   ]
  },
  {
   "cell_type": "markdown",
   "metadata": {},
   "source": [
    "Прочтём данные из файлов с результатами A/B-тестирования:"
   ]
  },
  {
   "cell_type": "code",
   "execution_count": 8,
   "metadata": {},
   "outputs": [
    {
     "data": {
      "text/html": [
       "<div>\n",
       "<style scoped>\n",
       "    .dataframe tbody tr th:only-of-type {\n",
       "        vertical-align: middle;\n",
       "    }\n",
       "\n",
       "    .dataframe tbody tr th {\n",
       "        vertical-align: top;\n",
       "    }\n",
       "\n",
       "    .dataframe thead th {\n",
       "        text-align: right;\n",
       "    }\n",
       "</style>\n",
       "<table border=\"1\" class=\"dataframe\">\n",
       "  <thead>\n",
       "    <tr style=\"text-align: right;\">\n",
       "      <th></th>\n",
       "      <th>transactionId</th>\n",
       "      <th>visitorId</th>\n",
       "      <th>date</th>\n",
       "      <th>revenue</th>\n",
       "      <th>group</th>\n",
       "    </tr>\n",
       "  </thead>\n",
       "  <tbody>\n",
       "    <tr>\n",
       "      <th>0</th>\n",
       "      <td>3667963787</td>\n",
       "      <td>3312258926</td>\n",
       "      <td>2019-08-15</td>\n",
       "      <td>1650</td>\n",
       "      <td>B</td>\n",
       "    </tr>\n",
       "    <tr>\n",
       "      <th>1</th>\n",
       "      <td>2804400009</td>\n",
       "      <td>3642806036</td>\n",
       "      <td>2019-08-15</td>\n",
       "      <td>730</td>\n",
       "      <td>B</td>\n",
       "    </tr>\n",
       "    <tr>\n",
       "      <th>2</th>\n",
       "      <td>2961555356</td>\n",
       "      <td>4069496402</td>\n",
       "      <td>2019-08-15</td>\n",
       "      <td>400</td>\n",
       "      <td>A</td>\n",
       "    </tr>\n",
       "    <tr>\n",
       "      <th>3</th>\n",
       "      <td>3797467345</td>\n",
       "      <td>1196621759</td>\n",
       "      <td>2019-08-15</td>\n",
       "      <td>9759</td>\n",
       "      <td>B</td>\n",
       "    </tr>\n",
       "    <tr>\n",
       "      <th>4</th>\n",
       "      <td>2282983706</td>\n",
       "      <td>2322279887</td>\n",
       "      <td>2019-08-15</td>\n",
       "      <td>2308</td>\n",
       "      <td>B</td>\n",
       "    </tr>\n",
       "  </tbody>\n",
       "</table>\n",
       "</div>"
      ],
      "text/plain": [
       "   transactionId   visitorId        date  revenue group\n",
       "0     3667963787  3312258926  2019-08-15     1650     B\n",
       "1     2804400009  3642806036  2019-08-15      730     B\n",
       "2     2961555356  4069496402  2019-08-15      400     A\n",
       "3     3797467345  1196621759  2019-08-15     9759     B\n",
       "4     2282983706  2322279887  2019-08-15     2308     B"
      ]
     },
     "execution_count": 8,
     "metadata": {},
     "output_type": "execute_result"
    }
   ],
   "source": [
    "orders = pd.read_csv('/datasets/orders.csv') # данные о заказах с разбивкой на тест-группы \n",
    "orders.head()\n"
   ]
  },
  {
   "cell_type": "code",
   "execution_count": 9,
   "metadata": {},
   "outputs": [
    {
     "data": {
      "text/html": [
       "<div>\n",
       "<style scoped>\n",
       "    .dataframe tbody tr th:only-of-type {\n",
       "        vertical-align: middle;\n",
       "    }\n",
       "\n",
       "    .dataframe tbody tr th {\n",
       "        vertical-align: top;\n",
       "    }\n",
       "\n",
       "    .dataframe thead th {\n",
       "        text-align: right;\n",
       "    }\n",
       "</style>\n",
       "<table border=\"1\" class=\"dataframe\">\n",
       "  <thead>\n",
       "    <tr style=\"text-align: right;\">\n",
       "      <th></th>\n",
       "      <th>visitorId</th>\n",
       "    </tr>\n",
       "    <tr>\n",
       "      <th>group</th>\n",
       "      <th></th>\n",
       "    </tr>\n",
       "  </thead>\n",
       "  <tbody>\n",
       "    <tr>\n",
       "      <th>A</th>\n",
       "      <td>503</td>\n",
       "    </tr>\n",
       "    <tr>\n",
       "      <th>B</th>\n",
       "      <td>586</td>\n",
       "    </tr>\n",
       "  </tbody>\n",
       "</table>\n",
       "</div>"
      ],
      "text/plain": [
       "       visitorId\n",
       "group           \n",
       "A            503\n",
       "B            586"
      ]
     },
     "metadata": {},
     "output_type": "display_data"
    }
   ],
   "source": [
    "display(orders.groupby(by='group').agg({'visitorId': 'nunique'})) # количество пользователей в каждой группе"
   ]
  },
  {
   "cell_type": "code",
   "execution_count": 10,
   "metadata": {},
   "outputs": [
    {
     "name": "stdout",
     "output_type": "stream",
     "text": [
      "<class 'pandas.core.frame.DataFrame'>\n",
      "RangeIndex: 1197 entries, 0 to 1196\n",
      "Data columns (total 5 columns):\n",
      " #   Column         Non-Null Count  Dtype \n",
      "---  ------         --------------  ----- \n",
      " 0   transactionId  1197 non-null   int64 \n",
      " 1   visitorId      1197 non-null   int64 \n",
      " 2   date           1197 non-null   object\n",
      " 3   revenue        1197 non-null   int64 \n",
      " 4   group          1197 non-null   object\n",
      "dtypes: int64(3), object(2)\n",
      "memory usage: 46.9+ KB\n"
     ]
    }
   ],
   "source": [
    "orders.info()"
   ]
  },
  {
   "cell_type": "code",
   "execution_count": 11,
   "metadata": {},
   "outputs": [],
   "source": [
    "orders['date'] = orders['date'].map(lambda x: dt.datetime.strptime(x, '%Y-%m-%d')) # перевод данных столбца с датой к типу datetime"
   ]
  },
  {
   "cell_type": "code",
   "execution_count": 12,
   "metadata": {},
   "outputs": [
    {
     "name": "stdout",
     "output_type": "stream",
     "text": [
      "<class 'pandas.core.frame.DataFrame'>\n",
      "RangeIndex: 1197 entries, 0 to 1196\n",
      "Data columns (total 5 columns):\n",
      " #   Column         Non-Null Count  Dtype         \n",
      "---  ------         --------------  -----         \n",
      " 0   transactionId  1197 non-null   int64         \n",
      " 1   visitorId      1197 non-null   int64         \n",
      " 2   date           1197 non-null   datetime64[ns]\n",
      " 3   revenue        1197 non-null   int64         \n",
      " 4   group          1197 non-null   object        \n",
      "dtypes: datetime64[ns](1), int64(3), object(1)\n",
      "memory usage: 46.9+ KB\n"
     ]
    }
   ],
   "source": [
    "orders.info()"
   ]
  },
  {
   "cell_type": "code",
   "execution_count": 13,
   "metadata": {},
   "outputs": [
    {
     "data": {
      "text/html": [
       "<div>\n",
       "<style scoped>\n",
       "    .dataframe tbody tr th:only-of-type {\n",
       "        vertical-align: middle;\n",
       "    }\n",
       "\n",
       "    .dataframe tbody tr th {\n",
       "        vertical-align: top;\n",
       "    }\n",
       "\n",
       "    .dataframe thead th {\n",
       "        text-align: right;\n",
       "    }\n",
       "</style>\n",
       "<table border=\"1\" class=\"dataframe\">\n",
       "  <thead>\n",
       "    <tr style=\"text-align: right;\">\n",
       "      <th></th>\n",
       "      <th>date</th>\n",
       "      <th>group</th>\n",
       "      <th>visitors</th>\n",
       "    </tr>\n",
       "  </thead>\n",
       "  <tbody>\n",
       "    <tr>\n",
       "      <th>0</th>\n",
       "      <td>2019-08-01</td>\n",
       "      <td>A</td>\n",
       "      <td>719</td>\n",
       "    </tr>\n",
       "    <tr>\n",
       "      <th>1</th>\n",
       "      <td>2019-08-02</td>\n",
       "      <td>A</td>\n",
       "      <td>619</td>\n",
       "    </tr>\n",
       "    <tr>\n",
       "      <th>2</th>\n",
       "      <td>2019-08-03</td>\n",
       "      <td>A</td>\n",
       "      <td>507</td>\n",
       "    </tr>\n",
       "    <tr>\n",
       "      <th>3</th>\n",
       "      <td>2019-08-04</td>\n",
       "      <td>A</td>\n",
       "      <td>717</td>\n",
       "    </tr>\n",
       "    <tr>\n",
       "      <th>4</th>\n",
       "      <td>2019-08-05</td>\n",
       "      <td>A</td>\n",
       "      <td>756</td>\n",
       "    </tr>\n",
       "  </tbody>\n",
       "</table>\n",
       "</div>"
      ],
      "text/plain": [
       "         date group  visitors\n",
       "0  2019-08-01     A       719\n",
       "1  2019-08-02     A       619\n",
       "2  2019-08-03     A       507\n",
       "3  2019-08-04     A       717\n",
       "4  2019-08-05     A       756"
      ]
     },
     "execution_count": 13,
     "metadata": {},
     "output_type": "execute_result"
    }
   ],
   "source": [
    "visitors = pd.read_csv('/datasets/visitors.csv') # данные о пользователях с разбивкой на тест-группы \n",
    "visitors.head()\n"
   ]
  },
  {
   "cell_type": "code",
   "execution_count": 14,
   "metadata": {},
   "outputs": [
    {
     "data": {
      "text/plain": [
       "array(['A', 'B'], dtype=object)"
      ]
     },
     "metadata": {},
     "output_type": "display_data"
    }
   ],
   "source": [
    "display(visitors['group'].unique()) #  две группы А и В, которые участвуют в тестировании"
   ]
  },
  {
   "cell_type": "code",
   "execution_count": 15,
   "metadata": {},
   "outputs": [
    {
     "name": "stdout",
     "output_type": "stream",
     "text": [
      "<class 'pandas.core.frame.DataFrame'>\n",
      "RangeIndex: 62 entries, 0 to 61\n",
      "Data columns (total 3 columns):\n",
      " #   Column    Non-Null Count  Dtype \n",
      "---  ------    --------------  ----- \n",
      " 0   date      62 non-null     object\n",
      " 1   group     62 non-null     object\n",
      " 2   visitors  62 non-null     int64 \n",
      "dtypes: int64(1), object(2)\n",
      "memory usage: 1.6+ KB\n"
     ]
    }
   ],
   "source": [
    "visitors.info()"
   ]
  },
  {
   "cell_type": "code",
   "execution_count": 16,
   "metadata": {},
   "outputs": [],
   "source": [
    "visitors['date'] = visitors['date'].map(lambda x: dt.datetime.strptime(x, '%Y-%m-%d')) # перевод данных столбца с датой к типу datetime"
   ]
  },
  {
   "cell_type": "code",
   "execution_count": 17,
   "metadata": {},
   "outputs": [
    {
     "data": {
      "text/plain": [
       "Timestamp('2019-08-01 00:00:00')"
      ]
     },
     "metadata": {},
     "output_type": "display_data"
    },
    {
     "data": {
      "text/plain": [
       "Timestamp('2019-08-31 00:00:00')"
      ]
     },
     "metadata": {},
     "output_type": "display_data"
    }
   ],
   "source": [
    "display(visitors['date'].min()) # дата начала тестирования\n",
    "display(visitors['date'].max()) # дата окончания тестирования"
   ]
  },
  {
   "cell_type": "code",
   "execution_count": 18,
   "metadata": {},
   "outputs": [
    {
     "name": "stdout",
     "output_type": "stream",
     "text": [
      "<class 'pandas.core.frame.DataFrame'>\n",
      "RangeIndex: 62 entries, 0 to 61\n",
      "Data columns (total 3 columns):\n",
      " #   Column    Non-Null Count  Dtype         \n",
      "---  ------    --------------  -----         \n",
      " 0   date      62 non-null     datetime64[ns]\n",
      " 1   group     62 non-null     object        \n",
      " 2   visitors  62 non-null     int64         \n",
      "dtypes: datetime64[ns](1), int64(1), object(1)\n",
      "memory usage: 1.6+ KB\n"
     ]
    }
   ],
   "source": [
    "visitors.info()"
   ]
  },
  {
   "cell_type": "markdown",
   "metadata": {},
   "source": [
    "####  Постройте график кумулятивной выручки по группам. Сделайте выводы и предположения"
   ]
  },
  {
   "cell_type": "code",
   "execution_count": 19,
   "metadata": {},
   "outputs": [
    {
     "name": "stdout",
     "output_type": "stream",
     "text": [
      "        date group  orders  buyers  revenue  visitors\n",
      "0 2019-08-01     A      24      20   148579       719\n",
      "1 2019-08-01     B      21      20   101217       713\n",
      "2 2019-08-02     A      44      38   242401      1338\n",
      "3 2019-08-02     B      45      43   266748      1294\n",
      "4 2019-08-03     A      68      62   354874      1845\n"
     ]
    }
   ],
   "source": [
    "# создаем массив уникальных пар значений дат и групп теста\n",
    "datesGroups = orders[['date','group']].drop_duplicates() \n",
    "\n",
    "# получаем агрегированные кумулятивные по дням данные о заказах \n",
    "ordersAggregated = datesGroups.apply(lambda x: orders[np.logical_and(orders['date'] <= x['date'], orders['group'] == x['group'])].agg({'date' : 'max', 'group' : 'max', 'transactionId' : 'nunique', 'visitorId' : 'nunique', 'revenue' : 'sum'}), axis=1).sort_values(by=['date','group'])\n",
    "\n",
    "# получаем агрегированные кумулятивные по дням данные о посетителях интернет-магазина \n",
    "visitorsAggregated = datesGroups.apply(lambda x: visitors[np.logical_and(visitors['date'] <= x['date'], visitors['group'] == x['group'])].agg({'date' : 'max', 'group' : 'max', 'visitors' : 'sum'}), axis=1).sort_values(by=['date','group'])\n",
    "\n",
    "# объединяем кумулятивные данные в одной таблице и присваиваем ее столбцам понятные названия\n",
    "cumulativeData = ordersAggregated.merge(visitorsAggregated, left_on=['date', 'group'], right_on=['date', 'group'])\n",
    "cumulativeData.columns = ['date', 'group', 'orders', 'buyers', 'revenue', 'visitors']\n",
    "\n",
    "print(cumulativeData.head(5)) "
   ]
  },
  {
   "cell_type": "code",
   "execution_count": 20,
   "metadata": {},
   "outputs": [
    {
     "data": {
      "image/png": "[encoded data removed]",
      "text/plain": [
       "<Figure size 864x576 with 1 Axes>"
      ]
     },
     "metadata": {
      "needs_background": "light"
     },
     "output_type": "display_data"
    }
   ],
   "source": [
    "# датафрейм с кумулятивным количеством заказов и кумулятивной выручкой по дням в группе А\n",
    "cumulativeRevenueA = cumulativeData[cumulativeData['group']=='A'][['date','revenue', 'orders']]\n",
    "\n",
    "# датафрейм с кумулятивным количеством заказов и кумулятивной выручкой по дням в группе B\n",
    "cumulativeRevenueB = cumulativeData[cumulativeData['group']=='B'][['date','revenue', 'orders']]\n",
    "\n",
    "plt.figure(figsize=(12,8))\n",
    "\n",
    "# Строим график выручки группы А\n",
    "plt.plot(cumulativeRevenueA['date'], cumulativeRevenueA['revenue'], label='A')\n",
    "\n",
    "# Строим график выручки группы \n",
    "plt.plot(cumulativeRevenueB['date'], cumulativeRevenueB['revenue'], label='B')\n",
    "\n",
    "plt.title('График кумулятивной выручки по группам')\n",
    "plt.xlabel('Дата')\n",
    "plt.ylabel('Выручка, руб')\n",
    "plt.legend()\n",
    "plt.show()"
   ]
  },
  {
   "cell_type": "markdown",
   "metadata": {},
   "source": [
    "Графики выручки увеличиваются в обеих группах. В течении практически всего периода исследования выручка в группе В больше, чем в группе А. В группе В виден резкий одномоментный скачок. Причиной скачка предположительно является всплеск продаж или увеличение цены на товар в группе.   "
   ]
  },
  {
   "cell_type": "markdown",
   "metadata": {},
   "source": [
    "####  Постройте график кумулятивного среднего чека по группам. Сделайте выводы и предположения."
   ]
  },
  {
   "cell_type": "code",
   "execution_count": 21,
   "metadata": {},
   "outputs": [
    {
     "data": {
      "image/png": "[encoded data removed]",
      "text/plain": [
       "<Figure size 864x576 with 1 Axes>"
      ]
     },
     "metadata": {
      "needs_background": "light"
     },
     "output_type": "display_data"
    }
   ],
   "source": [
    "plt.figure(figsize=(12,8))\n",
    "plt.plot(cumulativeRevenueA['date'], cumulativeRevenueA['revenue']/cumulativeRevenueA['orders'], label='A')\n",
    "plt.plot(cumulativeRevenueB['date'], cumulativeRevenueB['revenue']/cumulativeRevenueB['orders'], label='B')\n",
    "plt.title('График кумулятивного среднего чека по группам')\n",
    "plt.xlabel('Дата')\n",
    "plt.ylabel('Стоимость среднего чека, руб')\n",
    "plt.legend()\n",
    "plt.show()"
   ]
  },
  {
   "cell_type": "markdown",
   "metadata": {},
   "source": [
    "Можно сделать вывод:\n",
    "\n",
    "1.скачек на графике среднего чека 17.08.2019 для группы В.\n",
    "\n",
    "2. для группы А средний чек установился.\n",
    "\n",
    "3. для группы В средний чек после резкого скачка начал падение, тестировование необходимо продолжить пока величина среднего чека не стабилизиуется."
   ]
  },
  {
   "cell_type": "markdown",
   "metadata": {},
   "source": [
    "####  Постройте график относительного изменения кумулятивного среднего чека группы B к группе A. Сделайте выводы и предположения."
   ]
  },
  {
   "cell_type": "code",
   "execution_count": 22,
   "metadata": {},
   "outputs": [
    {
     "data": {
      "image/png": "[encoded data removed]",
      "text/plain": [
       "<Figure size 864x576 with 1 Axes>"
      ]
     },
     "metadata": {
      "needs_background": "light"
     },
     "output_type": "display_data"
    }
   ],
   "source": [
    "# собираем данные в одном датафрейме\n",
    "mergedCumulativeRevenue = cumulativeRevenueA.merge(cumulativeRevenueB, left_on='date', right_on='date', how='left', suffixes=['A', 'B'])\n",
    "\n",
    "plt.figure(figsize=(12,8))\n",
    "           \n",
    "# cтроим отношение средних чеков\n",
    "plt.plot(mergedCumulativeRevenue['date'], (mergedCumulativeRevenue['revenueB']/mergedCumulativeRevenue['ordersB'])/(mergedCumulativeRevenue['revenueA']/mergedCumulativeRevenue['ordersA'])-1)\n",
    "\n",
    "# добавляем ось X\n",
    "plt.axhline(y=0, color='black', linestyle='--')\n",
    "plt.title('График относительного изменения кумулятивного среднего чека группы B к группе A')\n",
    "plt.xlabel('Дата')\n",
    "plt.ylabel('Отношение стоимости среднего чека, %')\n",
    "\n",
    "plt.show()"
   ]
  },
  {
   "cell_type": "markdown",
   "metadata": {},
   "source": [
    "Вывод: средний чек группы В в основном больше чем средний чек группы А, но стремится к сумме среднего чека группы А. На графике присутствую скачки, что говорит о аномалиях в заказах в эти даты."
   ]
  },
  {
   "cell_type": "markdown",
   "metadata": {},
   "source": [
    "#### Постройте график кумулятивной конверсии по группам. Сделайте выводы и предположения."
   ]
  },
  {
   "cell_type": "code",
   "execution_count": 23,
   "metadata": {},
   "outputs": [
    {
     "data": {
      "image/png": "[encoded data removed]",
      "text/plain": [
       "<Figure size 864x360 with 1 Axes>"
      ]
     },
     "metadata": {
      "needs_background": "light"
     },
     "output_type": "display_data"
    }
   ],
   "source": [
    "# считаем кумулятивную конверсию\n",
    "cumulativeData['conversion'] = cumulativeData['orders']/cumulativeData['visitors']\n",
    "\n",
    "# отделяем данные по группе A\n",
    "cumulativeDataA = cumulativeData[cumulativeData['group']=='A']\n",
    "\n",
    "# отделяем данные по группе B\n",
    "cumulativeDataB = cumulativeData[cumulativeData['group']=='B']\n",
    "\n",
    "# строим графики\n",
    "plt.figure(figsize=(12,5))\n",
    "plt.plot(cumulativeDataA['date'], cumulativeDataA['conversion'], label='A')\n",
    "plt.plot(cumulativeDataB['date'], cumulativeDataB['conversion'], label='B')\n",
    "plt.legend()\n",
    "\n",
    "# задаем масштаб осей\n",
    "plt.axis([pd.to_datetime(\"2019-08-01\"), pd.to_datetime('2019-09-01'), 0, 0.037])\n",
    "plt.title('График кумулятивной конверсии по группам')\n",
    "plt.xlabel('Дата')\n",
    "plt.ylabel('Конверсия')\n",
    "plt.legend()\n",
    "plt.show()"
   ]
  },
  {
   "cell_type": "markdown",
   "metadata": {},
   "source": [
    "Вывод: \n",
    "Практически на протяжении всего периода исследования конверсия группы В выше чем конверсия группы А. Конверсии групп зафиксировались.   "
   ]
  },
  {
   "cell_type": "markdown",
   "metadata": {},
   "source": [
    "#### Постройте график относительного изменения кумулятивной конверсии группы B к группе A. Сделайте выводы и предположения."
   ]
  },
  {
   "cell_type": "code",
   "execution_count": 24,
   "metadata": {},
   "outputs": [
    {
     "data": {
      "image/png": "[encoded data removed]",
      "text/plain": [
       "<Figure size 864x360 with 1 Axes>"
      ]
     },
     "metadata": {
      "needs_background": "light"
     },
     "output_type": "display_data"
    }
   ],
   "source": [
    "mergedCumulativeConversions = cumulativeDataA[['date','conversion']].merge(cumulativeDataB[['date','conversion']], left_on='date', right_on='date', how='left', suffixes=['A', 'B']) # объединяем таблицы с кумулятивными данными по группе В и группе А\n",
    "\n",
    "# строим графики\n",
    "plt.figure(figsize=(12,5))\n",
    "plt.plot(mergedCumulativeConversions['date'], mergedCumulativeConversions['conversionB']/mergedCumulativeConversions['conversionA']-1, label=\"Относительный прирост конверсии группы B относительно группы A\")\n",
    "plt.legend()\n",
    "\n",
    "plt.axhline(y=0, color='black', linestyle='--')\n",
    "plt.axhline(y=-0.1, color='grey', linestyle='--')\n",
    "plt.axis([pd.to_datetime(\"2019-08-01\"), pd.to_datetime('2019-09-01'), -0.3, 0.3])\n",
    "plt.title('График относительного изменения кумулятивной конверсии группы B к группе A')\n",
    "plt.xlabel('Дата')\n",
    "plt.ylabel('Прирост конверсии, %')\n",
    "plt.show()"
   ]
  },
  {
   "cell_type": "markdown",
   "metadata": {},
   "source": [
    "Вывод: В начале тестирования конверсия группы В колебалась, была ниже чем конверсия группы А. Затем Конверсия группы В стала расти и зафиксировалась стабильно выше конверсии группы А.  "
   ]
  },
  {
   "cell_type": "markdown",
   "metadata": {},
   "source": [
    "#### Постройте точечный график количества заказов по пользователям. Сделайте выводы и предположения."
   ]
  },
  {
   "cell_type": "code",
   "execution_count": 25,
   "metadata": {},
   "outputs": [
    {
     "name": "stdout",
     "output_type": "stream",
     "text": [
      "          userId  orders\n",
      "1023  4256040402      11\n",
      "591   2458001652      11\n",
      "569   2378935119       9\n",
      "487   2038680547       8\n",
      "44     199603092       5\n",
      "744   3062433592       5\n",
      "55     237748145       5\n",
      "917   3803269165       5\n",
      "299   1230306981       5\n",
      "897   3717692402       5\n"
     ]
    }
   ],
   "source": [
    "ordersByUsers = (orders.groupby('visitorId', as_index=False).agg({'transactionId': 'nunique'})) # таблица с группировкой по пользователям и количеством  заказов\n",
    "\n",
    "ordersByUsers.columns = ['userId', 'orders']\n",
    "\n",
    "print(ordersByUsers.sort_values(by='orders', ascending=False).head(10)) "
   ]
  },
  {
   "cell_type": "code",
   "execution_count": 26,
   "metadata": {},
   "outputs": [
    {
     "data": {
      "image/png": "[encoded data removed]",
      "text/plain": [
       "<Figure size 864x360 with 1 Axes>"
      ]
     },
     "metadata": {
      "needs_background": "light"
     },
     "output_type": "display_data"
    }
   ],
   "source": [
    "x_values = pd.Series(range(0,len(ordersByUsers))) # собираем Series с количеством заказов на пользователей\n",
    "\n",
    "# строим графики\n",
    "plt.figure(figsize=(12,5))\n",
    "plt.scatter(x_values, ordersByUsers['orders'])\n",
    "plt.title('График количества заказов по пользователям')\n",
    "plt.xlabel('Пользователи, №')\n",
    "plt.ylabel('Количество заказов, шт')\n",
    "plt.show()"
   ]
  },
  {
   "cell_type": "markdown",
   "metadata": {},
   "source": [
    " Вывод: По графику видны выбросы- от 2 до 5 заказов, и от 5 до 11 заказов. "
   ]
  },
  {
   "cell_type": "markdown",
   "metadata": {},
   "source": [
    "#### Посчитайте 95-й и 99-й перцентили количества заказов на пользователя. Выберите границу для определения аномальных пользователей."
   ]
  },
  {
   "cell_type": "code",
   "execution_count": 27,
   "metadata": {},
   "outputs": [
    {
     "name": "stdout",
     "output_type": "stream",
     "text": [
      "[1. 2. 4.]\n"
     ]
    }
   ],
   "source": [
    "import numpy as np\n",
    "print(np.percentile(ordersByUsers['orders'], [90, 95, 99])) "
   ]
  },
  {
   "cell_type": "markdown",
   "metadata": {},
   "source": [
    "Вывод: 10 % пользователей сделали более 1 заказа, 5 % пользователей сделали более 2 заказов, и 1 % пользователей сделали более 4 заказов.  "
   ]
  },
  {
   "cell_type": "markdown",
   "metadata": {},
   "source": [
    "#### Постройте точечный график стоимостей заказов. Сделайте выводы и предположения."
   ]
  },
  {
   "cell_type": "code",
   "execution_count": 28,
   "metadata": {},
   "outputs": [
    {
     "data": {
      "image/png": "[encoded data removed]",
      "text/plain": [
       "<Figure size 864x360 with 1 Axes>"
      ]
     },
     "metadata": {
      "needs_background": "light"
     },
     "output_type": "display_data"
    }
   ],
   "source": [
    "x_values = pd.Series(range(0,len(orders['revenue']))) # собираем Series со стоимостями заказов\n",
    "\n",
    "\n",
    "plt.figure(figsize=(12,5))\n",
    "plt.ylim(0, 200000)\n",
    "plt.scatter(x_values, orders['revenue'])\n",
    "plt.title('График стоимостей заказов')\n",
    "plt.xlabel('Пользователи, №')\n",
    "plt.ylabel('Стоимость заказа, руб')\n",
    "plt.show()"
   ]
  },
  {
   "cell_type": "markdown",
   "metadata": {},
   "source": [
    "Вывод: По графику видно выбросы. В основном стоимость заказов лежит в пределе 25000."
   ]
  },
  {
   "cell_type": "markdown",
   "metadata": {},
   "source": [
    "#### Посчитайте 95-й и 99-й перцентили стоимости заказов. Выберите границу для определения аномальных заказов."
   ]
  },
  {
   "cell_type": "code",
   "execution_count": 29,
   "metadata": {},
   "outputs": [
    {
     "name": "stdout",
     "output_type": "stream",
     "text": [
      "[18168.  28000.  58233.2]\n"
     ]
    }
   ],
   "source": [
    "import numpy as np\n",
    "print(np.percentile(orders['revenue'], [90, 95, 99]))"
   ]
  },
  {
   "cell_type": "markdown",
   "metadata": {},
   "source": [
    "Вывод: 10 % пользователей сделали заказ стоимостью более 18168 , 5 % пользователей сделали заказ стоимостью более 28000 , и 1 % пользователей сделали заказ стоимостью более 58233.2.  "
   ]
  },
  {
   "cell_type": "markdown",
   "metadata": {},
   "source": [
    "#### Посчитайте статистическую значимость различий в конверсии между группами по «сырым» данным. Сделайте выводы и предположения."
   ]
  },
  {
   "cell_type": "code",
   "execution_count": 30,
   "metadata": {},
   "outputs": [
    {
     "data": {
      "text/html": [
       "<div>\n",
       "<style scoped>\n",
       "    .dataframe tbody tr th:only-of-type {\n",
       "        vertical-align: middle;\n",
       "    }\n",
       "\n",
       "    .dataframe tbody tr th {\n",
       "        vertical-align: top;\n",
       "    }\n",
       "\n",
       "    .dataframe thead th {\n",
       "        text-align: right;\n",
       "    }\n",
       "</style>\n",
       "<table border=\"1\" class=\"dataframe\">\n",
       "  <thead>\n",
       "    <tr style=\"text-align: right;\">\n",
       "      <th></th>\n",
       "      <th>date</th>\n",
       "      <th>ordersPerDateA</th>\n",
       "      <th>revenuePerDateA</th>\n",
       "      <th>ordersPerDateB</th>\n",
       "      <th>revenuePerDateB</th>\n",
       "      <th>ordersCummulativeA</th>\n",
       "      <th>revenueCummulativeA</th>\n",
       "      <th>ordersCummulativeB</th>\n",
       "      <th>revenueCummulativeB</th>\n",
       "      <th>visitorsPerDateA</th>\n",
       "      <th>visitorsPerDateB</th>\n",
       "      <th>visitorsCummulativeA</th>\n",
       "      <th>visitorsCummulativeB</th>\n",
       "    </tr>\n",
       "  </thead>\n",
       "  <tbody>\n",
       "    <tr>\n",
       "      <th>0</th>\n",
       "      <td>2019-08-01</td>\n",
       "      <td>24</td>\n",
       "      <td>148579</td>\n",
       "      <td>21</td>\n",
       "      <td>101217</td>\n",
       "      <td>24</td>\n",
       "      <td>148579</td>\n",
       "      <td>21</td>\n",
       "      <td>101217</td>\n",
       "      <td>719</td>\n",
       "      <td>713</td>\n",
       "      <td>719</td>\n",
       "      <td>713</td>\n",
       "    </tr>\n",
       "    <tr>\n",
       "      <th>1</th>\n",
       "      <td>2019-08-02</td>\n",
       "      <td>20</td>\n",
       "      <td>93822</td>\n",
       "      <td>24</td>\n",
       "      <td>165531</td>\n",
       "      <td>44</td>\n",
       "      <td>242401</td>\n",
       "      <td>45</td>\n",
       "      <td>266748</td>\n",
       "      <td>619</td>\n",
       "      <td>581</td>\n",
       "      <td>1338</td>\n",
       "      <td>1294</td>\n",
       "    </tr>\n",
       "    <tr>\n",
       "      <th>2</th>\n",
       "      <td>2019-08-03</td>\n",
       "      <td>24</td>\n",
       "      <td>112473</td>\n",
       "      <td>16</td>\n",
       "      <td>114248</td>\n",
       "      <td>68</td>\n",
       "      <td>354874</td>\n",
       "      <td>61</td>\n",
       "      <td>380996</td>\n",
       "      <td>507</td>\n",
       "      <td>509</td>\n",
       "      <td>1845</td>\n",
       "      <td>1803</td>\n",
       "    </tr>\n",
       "    <tr>\n",
       "      <th>3</th>\n",
       "      <td>2019-08-04</td>\n",
       "      <td>16</td>\n",
       "      <td>70825</td>\n",
       "      <td>17</td>\n",
       "      <td>108571</td>\n",
       "      <td>84</td>\n",
       "      <td>425699</td>\n",
       "      <td>78</td>\n",
       "      <td>489567</td>\n",
       "      <td>717</td>\n",
       "      <td>770</td>\n",
       "      <td>2562</td>\n",
       "      <td>2573</td>\n",
       "    </tr>\n",
       "    <tr>\n",
       "      <th>4</th>\n",
       "      <td>2019-08-05</td>\n",
       "      <td>25</td>\n",
       "      <td>124218</td>\n",
       "      <td>23</td>\n",
       "      <td>92428</td>\n",
       "      <td>109</td>\n",
       "      <td>549917</td>\n",
       "      <td>101</td>\n",
       "      <td>581995</td>\n",
       "      <td>756</td>\n",
       "      <td>707</td>\n",
       "      <td>3318</td>\n",
       "      <td>3280</td>\n",
       "    </tr>\n",
       "  </tbody>\n",
       "</table>\n",
       "</div>"
      ],
      "text/plain": [
       "        date  ordersPerDateA  revenuePerDateA  ordersPerDateB  revenuePerDateB  ordersCummulativeA  revenueCummulativeA  ordersCummulativeB  revenueCummulativeB  visitorsPerDateA  visitorsPerDateB  visitorsCummulativeA  visitorsCummulativeB\n",
       "0 2019-08-01              24           148579              21           101217                  24               148579                  21               101217               719               713                   719                   713\n",
       "1 2019-08-02              20            93822              24           165531                  44               242401                  45               266748               619               581                  1338                  1294\n",
       "2 2019-08-03              24           112473              16           114248                  68               354874                  61               380996               507               509                  1845                  1803\n",
       "3 2019-08-04              16            70825              17           108571                  84               425699                  78               489567               717               770                  2562                  2573\n",
       "4 2019-08-05              25           124218              23            92428                 109               549917                 101               581995               756               707                  3318                  3280"
      ]
     },
     "execution_count": 30,
     "metadata": {},
     "output_type": "execute_result"
    }
   ],
   "source": [
    "visitorsADaily = visitors[visitors['group'] == 'A'][['date', 'visitors']]\n",
    "visitorsADaily.columns = ['date', 'visitorsPerDateA']\n",
    "\n",
    "visitorsACummulative = visitorsADaily.apply(\n",
    "    lambda x: visitorsADaily[visitorsADaily['date'] <= x['date']].agg(\n",
    "        {'date': 'max', 'visitorsPerDateA': 'sum'}\n",
    "    ),\n",
    "    axis=1,\n",
    ")\n",
    "visitorsACummulative.columns = ['date', 'visitorsCummulativeA']\n",
    "\n",
    "visitorsBDaily = visitors[visitors['group'] == 'B'][['date', 'visitors']]\n",
    "visitorsBDaily.columns = ['date', 'visitorsPerDateB']\n",
    "\n",
    "visitorsBCummulative = visitorsBDaily.apply(\n",
    "    lambda x: visitorsBDaily[visitorsBDaily['date'] <= x['date']].agg(\n",
    "        {'date': 'max', 'visitorsPerDateB': 'sum'}\n",
    "    ),\n",
    "    axis=1,\n",
    ")\n",
    "visitorsBCummulative.columns = ['date', 'visitorsCummulativeB']\n",
    "\n",
    "ordersADaily = (\n",
    "    orders[orders['group'] == 'A'][['date', 'transactionId', 'visitorId', 'revenue']]\n",
    "    .groupby('date', as_index=False)\n",
    "    .agg({'transactionId': pd.Series.nunique, 'revenue': 'sum'})\n",
    ")\n",
    "ordersADaily.columns = ['date', 'ordersPerDateA', 'revenuePerDateA']\n",
    "\n",
    "ordersACummulative = ordersADaily.apply(\n",
    "    lambda x: ordersADaily[ordersADaily['date'] <= x['date']].agg(\n",
    "        {'date': 'max', 'ordersPerDateA': 'sum', 'revenuePerDateA': 'sum'}\n",
    "    ),\n",
    "    axis=1,\n",
    ").sort_values(by=['date'])\n",
    "ordersACummulative.columns = [\n",
    "    'date',\n",
    "    'ordersCummulativeA',\n",
    "    'revenueCummulativeA',\n",
    "]\n",
    "\n",
    "ordersBDaily = (\n",
    "    orders[orders['group'] == 'B'][['date', 'transactionId', 'visitorId', 'revenue']]\n",
    "    .groupby('date', as_index=False)\n",
    "    .agg({'transactionId': pd.Series.nunique, 'revenue': 'sum'})\n",
    ")\n",
    "ordersBDaily.columns = ['date', 'ordersPerDateB', 'revenuePerDateB']\n",
    "\n",
    "ordersBCummulative = ordersBDaily.apply(\n",
    "    lambda x: ordersBDaily[ordersBDaily['date'] <= x['date']].agg(\n",
    "        {'date': 'max', 'ordersPerDateB': 'sum', 'revenuePerDateB': 'sum'}\n",
    "    ),\n",
    "    axis=1,\n",
    ").sort_values(by=['date'])\n",
    "ordersBCummulative.columns = [\n",
    "    'date',\n",
    "    'ordersCummulativeB',\n",
    "    'revenueCummulativeB',\n",
    "]\n",
    "\n",
    "data = (\n",
    "    ordersADaily.merge(\n",
    "        ordersBDaily, left_on='date', right_on='date', how='left'\n",
    "    )\n",
    "    .merge(ordersACummulative, left_on='date', right_on='date', how='left')\n",
    "    .merge(ordersBCummulative, left_on='date', right_on='date', how='left')\n",
    "    .merge(visitorsADaily, left_on='date', right_on='date', how='left')\n",
    "    .merge(visitorsBDaily, left_on='date', right_on='date', how='left')\n",
    "    .merge(visitorsACummulative, left_on='date', right_on='date', how='left')\n",
    "    .merge(visitorsBCummulative, left_on='date', right_on='date', how='left')\n",
    ")\n",
    "\n",
    "data.head()"
   ]
  },
  {
   "cell_type": "code",
   "execution_count": 31,
   "metadata": {},
   "outputs": [],
   "source": [
    "# формируем для каждой группы датафрейм с группировкой по пользователям и количеством заказов на пользователя\n",
    "ordersByUsersA = (orders[orders['group'] == 'A'].groupby('visitorId', as_index=False).agg({'transactionId': pd.Series.nunique}))\n",
    "ordersByUsersA.columns = ['userId', 'orders'] # \n",
    "\n",
    "ordersByUsersB = (orders[orders['group'] == 'B'].groupby('visitorId', as_index=False).agg({'transactionId': pd.Series.nunique}))\n",
    "ordersByUsersB.columns = ['userId', 'orders']"
   ]
  },
  {
   "cell_type": "markdown",
   "metadata": {},
   "source": [
    "Объявим переменные sampleA и sampleB, в которых пользователям из разных групп будет соответствовать количество заказов. Тем, кто ничего не заказал, будут соответствовать нули. Это нужно, чтобы подготовить выборки к проверке критерием Манна-Уитни."
   ]
  },
  {
   "cell_type": "code",
   "execution_count": 32,
   "metadata": {},
   "outputs": [
    {
     "data": {
      "text/plain": [
       "0        0\n",
       "1        0\n",
       "2        0\n",
       "3        0\n",
       "4        0\n",
       "        ..\n",
       "18408    0\n",
       "18409    0\n",
       "18410    0\n",
       "18411    0\n",
       "18412    0\n",
       "Name: orders, Length: 18413, dtype: int64"
      ]
     },
     "execution_count": 32,
     "metadata": {},
     "output_type": "execute_result"
    }
   ],
   "source": [
    "pd.Series(0, index=np.arange(data['visitorsPerDateA'].sum() - len(ordersByUsersA['orders'])), name='orders') # Series с количеством нулевых заказов\n",
    "pd.Series(0, index=np.arange(data['visitorsPerDateB'].sum() - len(ordersByUsersA['orders'])), name='orders') "
   ]
  },
  {
   "cell_type": "markdown",
   "metadata": {},
   "source": [
    "Сформулируем нулевую гипотезу: конверсии групп А и В не различаются. Альтернативная гипотеза - конверсии групп А и В не равны."
   ]
  },
  {
   "cell_type": "code",
   "execution_count": 33,
   "metadata": {},
   "outputs": [
    {
     "name": "stdout",
     "output_type": "stream",
     "text": [
      "Статистическая значимость p-value : 0.017\n",
      "Относительный прирост конверсии группы B, %: 0.138\n"
     ]
    }
   ],
   "source": [
    "ordersByUsersA = (orders[orders['group'] == 'A'].groupby('visitorId', as_index=False).agg({'transactionId': pd.Series.nunique}))\n",
    "ordersByUsersA.columns = ['userId', 'orders']\n",
    "\n",
    "ordersByUsersB = (orders[orders['group'] == 'B'].groupby('visitorId', as_index=False).agg({'transactionId': pd.Series.nunique}))\n",
    "ordersByUsersB.columns = ['userId', 'orders']\n",
    "\n",
    "sampleA = pd.concat([ordersByUsersA['orders'],pd.Series(0, index=np.arange(data['visitorsPerDateA'].sum() - len(ordersByUsersA['orders'])),name='orders',),],axis=0,)\n",
    "\n",
    "sampleB = pd.concat([ordersByUsersB['orders'], pd.Series(0, index=np.arange(data['visitorsPerDateB'].sum() - len(ordersByUsersB['orders'])), name='orders'),], axis=0,)\n",
    "\n",
    "print('Статистическая значимость p-value :', \"{0:.3f}\".format(stats.mannwhitneyu(sampleA, sampleB)[1]))\n",
    "\n",
    "print('Относительный прирост конверсии группы B, %:',\"{0:.3f}\".format(sampleB.mean() / sampleA.mean() - 1))\n"
   ]
  },
  {
   "cell_type": "markdown",
   "metadata": {},
   "source": [
    "Вывод: по сырым данным различия в конверсии между группами есть, так как p-value = 0.017  и меньше 0.05. Среднее количество заказов группы В больше на 13,8 %.\n"
   ]
  },
  {
   "cell_type": "markdown",
   "metadata": {},
   "source": [
    "#### Посчитайте статистическую значимость различий в среднем чеке заказа между группами по «сырым» данным. Сделайте выводы и предположения."
   ]
  },
  {
   "cell_type": "markdown",
   "metadata": {},
   "source": [
    "Нулевая гипотеза: различий в среднем чеке между группами нет. Альтернативная гипотеза: различия в среднем чеке между группами есть."
   ]
  },
  {
   "cell_type": "code",
   "execution_count": 34,
   "metadata": {},
   "outputs": [
    {
     "name": "stdout",
     "output_type": "stream",
     "text": [
      "Статистическая значимость p-value : 0.729\n",
      "Разница между величиной среднего чека группы В и группы А, %: 0.259\n"
     ]
    }
   ],
   "source": [
    "print('Статистическая значимость p-value :', '{0:.3f}'.format(stats.mannwhitneyu(orders[orders['group']=='A']['revenue'], orders[orders['group']=='B']['revenue'])[1]))\n",
    "print('Разница между величиной среднего чека группы В и группы А, %:','{0:.3f}'.format(orders[orders['group']=='B']['revenue'].mean()/orders[orders['group']=='A']['revenue'].mean()-1))"
   ]
  },
  {
   "cell_type": "markdown",
   "metadata": {},
   "source": [
    "Вывод: по сырым данным нулевая гипотеза не отвергается- различий в среднем чеке между группами нет. Но по расчету среднего чека средний чек группы В больше на 25,9%."
   ]
  },
  {
   "cell_type": "markdown",
   "metadata": {},
   "source": [
    "#### Посчитайте статистическую значимость различий в конверсии между группами по «очищенным» данным. Сделайте выводы и предположения."
   ]
  },
  {
   "cell_type": "markdown",
   "metadata": {},
   "source": [
    "95-й и 99-й перцентили средних чеков равны 28000 и 58233.2 рублям. А 95-й и 99-й перцентили количества заказов на одного пользователя равны 2 и 4 заказа на пользователя.\n",
    "\n"
   ]
  },
  {
   "cell_type": "markdown",
   "metadata": {},
   "source": [
    "Примем за аномальных пользователей тех, кто совершил от 3 заказов или совершил заказ дороже 28000 рублей. Сделаем срезы пользователей с числом заказов больше 3 — usersWithManyOrders и пользователей, совершивших заказы дороже 28 000 — usersWithExpensiveOrders. Объединим их в таблице abnormalUsers.\n",
    "Узнаем, сколько всего аномальных пользователей методом shape()."
   ]
  },
  {
   "cell_type": "code",
   "execution_count": 35,
   "metadata": {},
   "outputs": [
    {
     "name": "stdout",
     "output_type": "stream",
     "text": [
      "1099    148427295\n",
      "18      199603092\n",
      "928     204675465\n",
      "23      237748145\n",
      "37      249864742\n",
      "dtype: int64\n",
      "74\n"
     ]
    }
   ],
   "source": [
    "usersWithManyOrders = pd.concat(\n",
    "    [\n",
    "        ordersByUsersA[ordersByUsersA['orders'] > (np.percentile(ordersByUsers['orders'], 95))]['userId'],\n",
    "        ordersByUsersB[ordersByUsersB['orders'] > (np.percentile(ordersByUsers['orders'], 95))]['userId'],\n",
    "    ],\n",
    "    axis=0,\n",
    ")\n",
    "\n",
    "usersWithExpensiveOrders = orders[orders['revenue'] > (np.percentile(orders['revenue'], 95))]['visitorId']\n",
    "\n",
    "abnormalUsers = (pd.concat([usersWithManyOrders, usersWithExpensiveOrders], axis=0).drop_duplicates().sort_values())\n",
    "print(abnormalUsers.head(5))\n",
    "print(abnormalUsers.shape[0]) "
   ]
  },
  {
   "cell_type": "markdown",
   "metadata": {},
   "source": [
    "Всего 74 аномальных пользователей.\n",
    "Узнаем, как их действия повлияли на результаты теста. Посчитаем статистическую значимость различий в конверсии между группами теста по очищенным данным. Сначала подготовим выборки количества заказов по пользователям по группам теста:"
   ]
  },
  {
   "cell_type": "code",
   "execution_count": 36,
   "metadata": {},
   "outputs": [],
   "source": [
    "sampleAFiltered = pd.concat(\n",
    "    [\n",
    "        ordersByUsersA[\n",
    "            np.logical_not(ordersByUsersA['userId'].isin(abnormalUsers))\n",
    "        ]['orders'],\n",
    "        pd.Series(\n",
    "            0,\n",
    "            index=np.arange(\n",
    "                data['visitorsPerDateA'].sum() - len(ordersByUsersA['orders'])\n",
    "            ),\n",
    "            name='orders',\n",
    "        ),\n",
    "    ],\n",
    "    axis=0,\n",
    ")\n",
    "\n",
    "sampleBFiltered = pd.concat(\n",
    "    [\n",
    "        ordersByUsersB[\n",
    "            np.logical_not(ordersByUsersB['userId'].isin(abnormalUsers))\n",
    "        ]['orders'],\n",
    "        pd.Series(\n",
    "            0,\n",
    "            index=np.arange(\n",
    "                data['visitorsPerDateB'].sum() - len(ordersByUsersB['orders'])\n",
    "            ),\n",
    "            name='orders',\n",
    "        ),\n",
    "    ],\n",
    "    axis=0,\n",
    ")"
   ]
  },
  {
   "cell_type": "markdown",
   "metadata": {},
   "source": [
    "Применим статистический критерий Манна-Уитни к полученным выборкам:"
   ]
  },
  {
   "cell_type": "code",
   "execution_count": 37,
   "metadata": {},
   "outputs": [
    {
     "name": "stdout",
     "output_type": "stream",
     "text": [
      "Статистическая значимость p-value : 0.013\n",
      "Относительный прирост конверсии группы B, %: 0.173\n"
     ]
    }
   ],
   "source": [
    "print('Статистическая значимость p-value :','{0:.3f}'.format(stats.mannwhitneyu(sampleAFiltered, sampleBFiltered)[1]))\n",
    "print('Относительный прирост конверсии группы B, %:','{0:.3f}'.format(sampleBFiltered.mean()/sampleAFiltered.mean()-1))"
   ]
  },
  {
   "cell_type": "markdown",
   "metadata": {},
   "source": [
    "Вывод: с очищенными данными все также есть различия в конверсии между группами, так как p-value меньше 0.05. "
   ]
  },
  {
   "cell_type": "markdown",
   "metadata": {},
   "source": [
    "#### Посчитайте статистическую значимость различий в среднем чеке заказа между группами по «очищенным» данным. Сделайте выводы и предположения."
   ]
  },
  {
   "cell_type": "code",
   "execution_count": 38,
   "metadata": {},
   "outputs": [
    {
     "name": "stdout",
     "output_type": "stream",
     "text": [
      "Статистическая значимость p-value : 0.738\n",
      "Разница между величиной среднего чека группы В и группы А, %: -0.020\n"
     ]
    }
   ],
   "source": [
    "print('Статистическая значимость p-value :',\n",
    "    '{0:.3f}'.format(\n",
    "        stats.mannwhitneyu(\n",
    "            orders[\n",
    "                np.logical_and(\n",
    "                    orders['group'] == 'A',\n",
    "                    np.logical_not(orders['visitorId'].isin(abnormalUsers)),\n",
    "                )\n",
    "            ]['revenue'],\n",
    "            orders[\n",
    "                np.logical_and(\n",
    "                    orders['group'] == 'B',\n",
    "                    np.logical_not(orders['visitorId'].isin(abnormalUsers)),\n",
    "                )\n",
    "            ]['revenue'],\n",
    "        )[1]\n",
    "    )\n",
    ")\n",
    "\n",
    "print('Разница между величиной среднего чека группы В и группы А, %:',\n",
    "    \"{0:.3f}\".format(\n",
    "        orders[\n",
    "            np.logical_and(\n",
    "                orders['group'] == 'B',\n",
    "                np.logical_not(orders['visitorId'].isin(abnormalUsers)),\n",
    "            )\n",
    "        ]['revenue'].mean()\n",
    "        / orders[\n",
    "            np.logical_and(\n",
    "                orders['group'] == 'A',\n",
    "                np.logical_not(orders['visitorId'].isin(abnormalUsers)),\n",
    "            )\n",
    "        ]['revenue'].mean()\n",
    "        - 1\n",
    "    )\n",
    ")"
   ]
  },
  {
   "cell_type": "markdown",
   "metadata": {},
   "source": [
    "Вывод: по очищенным данным нулевая гипотеза не отвергается- различий в среднем чека между группами нет. По расчету среднего чека средний чек группы В меньше на 2%."
   ]
  },
  {
   "cell_type": "markdown",
   "metadata": {},
   "source": [
    "### Результаты теста"
   ]
  },
  {
   "cell_type": "markdown",
   "metadata": {},
   "source": [
    "Общие выводы:\n",
    "1. кумулятивная выручка группы В больше чем группы А.\n",
    "2. по сырым и очищенным данным подтверждается разница конверсий у групп А и В. По кумулятивному графику конверсий по группам и сравнительному графику конверсий по группам видно, что конверсия группы В больше чем группы А.\n",
    "3. по сырым и очищенным данным различий между средними чеками групп нет, что подтверждается расчетом среднего чека по очищенным данным, но по сравнительному графику среднего чека по группам видно, что средний чек группы В не установился на постоянную величину на максимальную дату тестирования.\n",
    "\n",
    "Считаю, что тест можно остановить. Группа В лучше конвертируется по количеству совершенных заказов, в среднем на 17% заказов в группе В больше, хотя средний чек между группами не отличается. "
   ]
  }
 ],
 "metadata": {
  "ExecuteTimeLog": [
   {
    "duration": 47,
    "start_time": "2022-04-25T16:22:56.237Z"
   },
   {
    "duration": 7,
    "start_time": "2022-04-25T16:23:39.534Z"
   },
   {
    "duration": 393,
    "start_time": "2022-04-25T16:23:44.914Z"
   },
   {
    "duration": 30,
    "start_time": "2022-04-25T16:23:45.542Z"
   },
   {
    "duration": 4,
    "start_time": "2022-04-25T16:24:02.621Z"
   },
   {
    "duration": 8,
    "start_time": "2022-04-25T16:24:02.631Z"
   },
   {
    "duration": 2,
    "start_time": "2022-04-25T16:25:09.485Z"
   },
   {
    "duration": 10,
    "start_time": "2022-04-25T16:25:10.130Z"
   },
   {
    "duration": 14,
    "start_time": "2022-04-25T16:25:29.755Z"
   },
   {
    "duration": 12,
    "start_time": "2022-04-25T16:54:38.035Z"
   },
   {
    "duration": 9,
    "start_time": "2022-04-25T16:54:42.379Z"
   },
   {
    "duration": 11,
    "start_time": "2022-04-25T16:54:43.154Z"
   },
   {
    "duration": 10,
    "start_time": "2022-04-25T16:55:40.567Z"
   },
   {
    "duration": 28,
    "start_time": "2022-04-25T18:01:34.090Z"
   },
   {
    "duration": 14,
    "start_time": "2022-04-25T18:01:37.347Z"
   },
   {
    "duration": 17,
    "start_time": "2022-04-25T18:17:59.834Z"
   },
   {
    "duration": 21,
    "start_time": "2022-04-25T18:22:58.061Z"
   },
   {
    "duration": 142,
    "start_time": "2022-04-25T18:25:24.256Z"
   },
   {
    "duration": 3,
    "start_time": "2022-04-25T18:25:36.413Z"
   },
   {
    "duration": 19,
    "start_time": "2022-04-25T18:25:36.419Z"
   },
   {
    "duration": 8,
    "start_time": "2022-04-25T18:25:36.440Z"
   },
   {
    "duration": 7,
    "start_time": "2022-04-25T18:25:36.450Z"
   },
   {
    "duration": 14,
    "start_time": "2022-04-25T18:25:36.458Z"
   },
   {
    "duration": 13,
    "start_time": "2022-04-25T18:25:36.474Z"
   },
   {
    "duration": 35,
    "start_time": "2022-04-25T18:25:36.489Z"
   },
   {
    "duration": 144,
    "start_time": "2022-04-25T18:25:36.572Z"
   },
   {
    "duration": 0,
    "start_time": "2022-04-25T18:25:36.718Z"
   },
   {
    "duration": 0,
    "start_time": "2022-04-25T18:25:36.719Z"
   },
   {
    "duration": 138,
    "start_time": "2022-04-25T18:25:45.044Z"
   },
   {
    "duration": 3,
    "start_time": "2022-04-25T18:26:10.782Z"
   },
   {
    "duration": 18,
    "start_time": "2022-04-25T18:26:10.789Z"
   },
   {
    "duration": 10,
    "start_time": "2022-04-25T18:26:10.809Z"
   },
   {
    "duration": 7,
    "start_time": "2022-04-25T18:26:10.821Z"
   },
   {
    "duration": 14,
    "start_time": "2022-04-25T18:26:10.831Z"
   },
   {
    "duration": 11,
    "start_time": "2022-04-25T18:26:10.847Z"
   },
   {
    "duration": 26,
    "start_time": "2022-04-25T18:26:10.860Z"
   },
   {
    "duration": 12,
    "start_time": "2022-04-25T18:26:10.892Z"
   },
   {
    "duration": 17,
    "start_time": "2022-04-25T18:26:10.905Z"
   },
   {
    "duration": 573,
    "start_time": "2022-04-25T18:26:10.924Z"
   },
   {
    "duration": 591,
    "start_time": "2022-04-25T18:26:15.555Z"
   },
   {
    "duration": 5,
    "start_time": "2022-04-25T18:26:39.200Z"
   },
   {
    "duration": 72,
    "start_time": "2022-04-26T16:47:18.946Z"
   },
   {
    "duration": 453,
    "start_time": "2022-04-26T16:47:22.076Z"
   },
   {
    "duration": 29,
    "start_time": "2022-04-26T16:47:22.531Z"
   },
   {
    "duration": 0,
    "start_time": "2022-04-26T16:47:22.562Z"
   },
   {
    "duration": 0,
    "start_time": "2022-04-26T16:47:22.564Z"
   },
   {
    "duration": 0,
    "start_time": "2022-04-26T16:47:22.565Z"
   },
   {
    "duration": 0,
    "start_time": "2022-04-26T16:47:22.567Z"
   },
   {
    "duration": 0,
    "start_time": "2022-04-26T16:47:22.568Z"
   },
   {
    "duration": 0,
    "start_time": "2022-04-26T16:47:22.570Z"
   },
   {
    "duration": 1,
    "start_time": "2022-04-26T16:47:22.593Z"
   },
   {
    "duration": 0,
    "start_time": "2022-04-26T16:47:22.595Z"
   },
   {
    "duration": 8,
    "start_time": "2022-04-26T16:47:28.681Z"
   },
   {
    "duration": 4,
    "start_time": "2022-04-26T16:47:33.189Z"
   },
   {
    "duration": 8,
    "start_time": "2022-04-26T16:47:33.198Z"
   },
   {
    "duration": 0,
    "start_time": "2022-04-26T16:47:33.208Z"
   },
   {
    "duration": 1,
    "start_time": "2022-04-26T16:47:33.209Z"
   },
   {
    "duration": 13,
    "start_time": "2022-04-26T16:47:33.215Z"
   },
   {
    "duration": 0,
    "start_time": "2022-04-26T16:47:33.230Z"
   },
   {
    "duration": 0,
    "start_time": "2022-04-26T16:47:33.231Z"
   },
   {
    "duration": 10,
    "start_time": "2022-04-26T16:47:33.254Z"
   },
   {
    "duration": 0,
    "start_time": "2022-04-26T16:47:33.267Z"
   },
   {
    "duration": 0,
    "start_time": "2022-04-26T16:47:33.268Z"
   },
   {
    "duration": 8,
    "start_time": "2022-04-26T16:59:13.705Z"
   },
   {
    "duration": 9,
    "start_time": "2022-04-26T16:59:17.820Z"
   },
   {
    "duration": 10,
    "start_time": "2022-04-26T16:59:18.322Z"
   },
   {
    "duration": 7,
    "start_time": "2022-04-26T16:59:19.033Z"
   },
   {
    "duration": 3,
    "start_time": "2022-04-26T16:59:22.267Z"
   },
   {
    "duration": 9,
    "start_time": "2022-04-26T16:59:22.687Z"
   },
   {
    "duration": 8,
    "start_time": "2022-04-26T16:59:23.319Z"
   },
   {
    "duration": 2,
    "start_time": "2022-04-26T16:59:30.203Z"
   },
   {
    "duration": 13,
    "start_time": "2022-04-26T16:59:31.101Z"
   },
   {
    "duration": 18,
    "start_time": "2022-04-26T16:59:32.045Z"
   },
   {
    "duration": 9,
    "start_time": "2022-04-26T16:59:32.739Z"
   },
   {
    "duration": 12,
    "start_time": "2022-04-26T16:59:33.393Z"
   },
   {
    "duration": 15,
    "start_time": "2022-04-26T16:59:34.125Z"
   },
   {
    "duration": 26,
    "start_time": "2022-04-26T16:59:37.041Z"
   },
   {
    "duration": 18,
    "start_time": "2022-04-26T16:59:43.829Z"
   },
   {
    "duration": 15,
    "start_time": "2022-04-26T16:59:44.342Z"
   },
   {
    "duration": 4,
    "start_time": "2022-04-26T16:59:45.614Z"
   },
   {
    "duration": 12,
    "start_time": "2022-04-26T17:00:02.672Z"
   },
   {
    "duration": 17,
    "start_time": "2022-04-26T17:00:27.786Z"
   },
   {
    "duration": 11,
    "start_time": "2022-04-26T17:00:46.857Z"
   },
   {
    "duration": 43,
    "start_time": "2022-04-26T18:12:48.188Z"
   },
   {
    "duration": 829,
    "start_time": "2022-04-26T18:15:16.520Z"
   },
   {
    "duration": 3,
    "start_time": "2022-04-26T18:15:30.949Z"
   },
   {
    "duration": 16,
    "start_time": "2022-04-26T18:15:30.955Z"
   },
   {
    "duration": 13,
    "start_time": "2022-04-26T18:15:30.973Z"
   },
   {
    "duration": 36,
    "start_time": "2022-04-26T18:15:30.987Z"
   },
   {
    "duration": 21,
    "start_time": "2022-04-26T18:15:31.025Z"
   },
   {
    "duration": 27,
    "start_time": "2022-04-26T18:15:31.048Z"
   },
   {
    "duration": 56,
    "start_time": "2022-04-26T18:15:31.077Z"
   },
   {
    "duration": 13,
    "start_time": "2022-04-26T18:15:31.135Z"
   },
   {
    "duration": 31,
    "start_time": "2022-04-26T18:15:31.149Z"
   },
   {
    "duration": 56,
    "start_time": "2022-04-26T18:15:31.182Z"
   },
   {
    "duration": 4,
    "start_time": "2022-04-26T18:15:31.240Z"
   },
   {
    "duration": 21,
    "start_time": "2022-04-26T18:15:31.246Z"
   },
   {
    "duration": 303,
    "start_time": "2022-04-26T18:15:31.269Z"
   },
   {
    "duration": 493,
    "start_time": "2022-04-26T18:17:14.460Z"
   },
   {
    "duration": 17,
    "start_time": "2022-04-26T18:17:14.955Z"
   },
   {
    "duration": 9,
    "start_time": "2022-04-26T18:17:14.973Z"
   },
   {
    "duration": 12,
    "start_time": "2022-04-26T18:17:14.992Z"
   },
   {
    "duration": 32,
    "start_time": "2022-04-26T18:17:15.006Z"
   },
   {
    "duration": 14,
    "start_time": "2022-04-26T18:17:15.040Z"
   },
   {
    "duration": 36,
    "start_time": "2022-04-26T18:17:15.057Z"
   },
   {
    "duration": 18,
    "start_time": "2022-04-26T18:17:15.094Z"
   },
   {
    "duration": 13,
    "start_time": "2022-04-26T18:17:15.114Z"
   },
   {
    "duration": 16,
    "start_time": "2022-04-26T18:17:15.130Z"
   },
   {
    "duration": 4,
    "start_time": "2022-04-26T18:17:15.148Z"
   },
   {
    "duration": 12,
    "start_time": "2022-04-26T18:17:15.154Z"
   },
   {
    "duration": 336,
    "start_time": "2022-04-26T18:17:15.168Z"
   },
   {
    "duration": 397,
    "start_time": "2022-04-26T18:17:15.506Z"
   },
   {
    "duration": 163,
    "start_time": "2022-04-26T18:31:33.204Z"
   },
   {
    "duration": 497,
    "start_time": "2022-04-26T18:39:00.466Z"
   },
   {
    "duration": 59,
    "start_time": "2022-04-27T16:16:53.312Z"
   },
   {
    "duration": 1045,
    "start_time": "2022-04-27T16:16:57.272Z"
   },
   {
    "duration": 30,
    "start_time": "2022-04-27T16:16:58.319Z"
   },
   {
    "duration": 13,
    "start_time": "2022-04-27T16:16:58.351Z"
   },
   {
    "duration": 8,
    "start_time": "2022-04-27T16:16:58.366Z"
   },
   {
    "duration": 21,
    "start_time": "2022-04-27T16:16:58.375Z"
   },
   {
    "duration": 16,
    "start_time": "2022-04-27T16:16:58.397Z"
   },
   {
    "duration": 90,
    "start_time": "2022-04-27T16:16:58.415Z"
   },
   {
    "duration": 14,
    "start_time": "2022-04-27T16:16:58.507Z"
   },
   {
    "duration": 15,
    "start_time": "2022-04-27T16:16:58.523Z"
   },
   {
    "duration": 34,
    "start_time": "2022-04-27T16:16:58.542Z"
   },
   {
    "duration": 4,
    "start_time": "2022-04-27T16:16:58.578Z"
   },
   {
    "duration": 14,
    "start_time": "2022-04-27T16:16:58.584Z"
   },
   {
    "duration": 336,
    "start_time": "2022-04-27T16:16:58.600Z"
   },
   {
    "duration": 311,
    "start_time": "2022-04-27T16:16:58.938Z"
   },
   {
    "duration": 218,
    "start_time": "2022-04-27T16:16:59.251Z"
   },
   {
    "duration": 362,
    "start_time": "2022-04-27T16:16:59.471Z"
   },
   {
    "duration": 343,
    "start_time": "2022-04-27T16:16:59.835Z"
   },
   {
    "duration": 243,
    "start_time": "2022-04-27T16:21:21.225Z"
   },
   {
    "duration": 217,
    "start_time": "2022-04-27T16:22:21.394Z"
   },
   {
    "duration": 324,
    "start_time": "2022-04-27T16:29:01.485Z"
   },
   {
    "duration": 398,
    "start_time": "2022-04-27T16:30:03.593Z"
   },
   {
    "duration": 228,
    "start_time": "2022-04-27T16:31:31.561Z"
   },
   {
    "duration": 328,
    "start_time": "2022-04-27T16:53:45.148Z"
   },
   {
    "duration": 328,
    "start_time": "2022-04-27T17:13:29.086Z"
   },
   {
    "duration": 11,
    "start_time": "2022-04-27T17:19:03.947Z"
   },
   {
    "duration": 4,
    "start_time": "2022-04-27T17:20:00.175Z"
   },
   {
    "duration": 15,
    "start_time": "2022-04-27T17:20:00.783Z"
   },
   {
    "duration": 3,
    "start_time": "2022-04-27T17:20:02.600Z"
   },
   {
    "duration": 22,
    "start_time": "2022-04-27T17:20:02.606Z"
   },
   {
    "duration": 17,
    "start_time": "2022-04-27T17:20:02.630Z"
   },
   {
    "duration": 9,
    "start_time": "2022-04-27T17:20:02.650Z"
   },
   {
    "duration": 14,
    "start_time": "2022-04-27T17:20:02.662Z"
   },
   {
    "duration": 14,
    "start_time": "2022-04-27T17:20:02.679Z"
   },
   {
    "duration": 61,
    "start_time": "2022-04-27T17:20:02.695Z"
   },
   {
    "duration": 12,
    "start_time": "2022-04-27T17:20:02.757Z"
   },
   {
    "duration": 16,
    "start_time": "2022-04-27T17:20:02.771Z"
   },
   {
    "duration": 25,
    "start_time": "2022-04-27T17:20:02.789Z"
   },
   {
    "duration": 6,
    "start_time": "2022-04-27T17:20:02.817Z"
   },
   {
    "duration": 31,
    "start_time": "2022-04-27T17:20:02.825Z"
   },
   {
    "duration": 326,
    "start_time": "2022-04-27T17:20:02.858Z"
   },
   {
    "duration": 212,
    "start_time": "2022-04-27T17:20:03.187Z"
   },
   {
    "duration": 207,
    "start_time": "2022-04-27T17:20:03.401Z"
   },
   {
    "duration": 360,
    "start_time": "2022-04-27T17:20:03.609Z"
   },
   {
    "duration": 322,
    "start_time": "2022-04-27T17:20:03.971Z"
   },
   {
    "duration": 0,
    "start_time": "2022-04-27T17:20:04.295Z"
   },
   {
    "duration": 0,
    "start_time": "2022-04-27T17:20:04.296Z"
   },
   {
    "duration": 143,
    "start_time": "2022-04-27T17:20:11.128Z"
   },
   {
    "duration": 134,
    "start_time": "2022-04-27T17:20:28.905Z"
   },
   {
    "duration": 217,
    "start_time": "2022-04-27T17:20:44.681Z"
   },
   {
    "duration": 4,
    "start_time": "2022-04-27T17:23:11.275Z"
   },
   {
    "duration": 8,
    "start_time": "2022-04-27T17:31:17.714Z"
   },
   {
    "duration": 7,
    "start_time": "2022-04-27T17:31:19.811Z"
   },
   {
    "duration": 8,
    "start_time": "2022-04-27T17:31:20.346Z"
   },
   {
    "duration": 10,
    "start_time": "2022-04-27T17:31:40.295Z"
   },
   {
    "duration": 119,
    "start_time": "2022-04-27T17:31:43.942Z"
   },
   {
    "duration": 5,
    "start_time": "2022-04-27T17:32:51.997Z"
   },
   {
    "duration": 52,
    "start_time": "2022-04-28T17:07:42.696Z"
   },
   {
    "duration": 801,
    "start_time": "2022-04-28T17:08:12.530Z"
   },
   {
    "duration": 39,
    "start_time": "2022-04-28T17:08:13.333Z"
   },
   {
    "duration": 0,
    "start_time": "2022-04-28T17:08:13.374Z"
   },
   {
    "duration": 0,
    "start_time": "2022-04-28T17:08:13.375Z"
   },
   {
    "duration": 0,
    "start_time": "2022-04-28T17:08:13.376Z"
   },
   {
    "duration": 0,
    "start_time": "2022-04-28T17:08:13.377Z"
   },
   {
    "duration": 0,
    "start_time": "2022-04-28T17:08:13.378Z"
   },
   {
    "duration": 0,
    "start_time": "2022-04-28T17:08:13.379Z"
   },
   {
    "duration": 0,
    "start_time": "2022-04-28T17:08:13.380Z"
   },
   {
    "duration": 0,
    "start_time": "2022-04-28T17:08:13.381Z"
   },
   {
    "duration": 0,
    "start_time": "2022-04-28T17:08:13.382Z"
   },
   {
    "duration": 0,
    "start_time": "2022-04-28T17:08:13.383Z"
   },
   {
    "duration": 0,
    "start_time": "2022-04-28T17:08:13.384Z"
   },
   {
    "duration": 0,
    "start_time": "2022-04-28T17:08:13.385Z"
   },
   {
    "duration": 0,
    "start_time": "2022-04-28T17:08:13.386Z"
   },
   {
    "duration": 0,
    "start_time": "2022-04-28T17:08:13.387Z"
   },
   {
    "duration": 0,
    "start_time": "2022-04-28T17:08:13.388Z"
   },
   {
    "duration": 0,
    "start_time": "2022-04-28T17:08:13.389Z"
   },
   {
    "duration": 0,
    "start_time": "2022-04-28T17:08:13.390Z"
   },
   {
    "duration": 0,
    "start_time": "2022-04-28T17:08:13.391Z"
   },
   {
    "duration": 0,
    "start_time": "2022-04-28T17:08:13.392Z"
   },
   {
    "duration": 0,
    "start_time": "2022-04-28T17:08:13.393Z"
   },
   {
    "duration": 0,
    "start_time": "2022-04-28T17:08:13.393Z"
   },
   {
    "duration": 0,
    "start_time": "2022-04-28T17:08:13.395Z"
   },
   {
    "duration": 18,
    "start_time": "2022-04-28T17:08:22.746Z"
   },
   {
    "duration": 6,
    "start_time": "2022-04-28T17:09:12.316Z"
   },
   {
    "duration": 8,
    "start_time": "2022-04-28T17:09:18.450Z"
   },
   {
    "duration": 3,
    "start_time": "2022-04-28T17:09:21.440Z"
   },
   {
    "duration": 7,
    "start_time": "2022-04-28T17:09:22.703Z"
   },
   {
    "duration": 17,
    "start_time": "2022-04-28T17:09:39.324Z"
   },
   {
    "duration": 3,
    "start_time": "2022-04-28T17:09:42.179Z"
   },
   {
    "duration": 11,
    "start_time": "2022-04-28T17:09:42.641Z"
   },
   {
    "duration": 13,
    "start_time": "2022-04-28T17:09:43.989Z"
   },
   {
    "duration": 7,
    "start_time": "2022-04-28T17:09:44.569Z"
   },
   {
    "duration": 16,
    "start_time": "2022-04-28T17:10:45.321Z"
   },
   {
    "duration": 8,
    "start_time": "2022-04-28T17:10:55.882Z"
   },
   {
    "duration": 7,
    "start_time": "2022-04-28T17:10:56.892Z"
   },
   {
    "duration": 2,
    "start_time": "2022-04-28T17:11:05.187Z"
   },
   {
    "duration": 15,
    "start_time": "2022-04-28T17:11:05.779Z"
   },
   {
    "duration": 8,
    "start_time": "2022-04-28T17:11:06.331Z"
   },
   {
    "duration": 5,
    "start_time": "2022-04-28T17:11:07.595Z"
   },
   {
    "duration": 11,
    "start_time": "2022-04-28T17:11:08.209Z"
   },
   {
    "duration": 11,
    "start_time": "2022-04-28T17:11:08.842Z"
   },
   {
    "duration": 8,
    "start_time": "2022-04-28T17:11:12.751Z"
   },
   {
    "duration": 7,
    "start_time": "2022-04-28T17:11:15.064Z"
   },
   {
    "duration": 27,
    "start_time": "2022-04-28T17:11:23.681Z"
   },
   {
    "duration": 12,
    "start_time": "2022-04-28T17:11:26.738Z"
   },
   {
    "duration": 11,
    "start_time": "2022-04-28T17:11:29.367Z"
   },
   {
    "duration": 16,
    "start_time": "2022-04-28T17:11:35.637Z"
   },
   {
    "duration": 4,
    "start_time": "2022-04-28T17:11:37.351Z"
   },
   {
    "duration": 108,
    "start_time": "2022-04-28T17:12:26.144Z"
   },
   {
    "duration": 15,
    "start_time": "2022-04-28T17:17:41.248Z"
   },
   {
    "duration": 204,
    "start_time": "2022-04-28T17:21:13.788Z"
   },
   {
    "duration": 10,
    "start_time": "2022-04-28T17:35:04.580Z"
   },
   {
    "duration": 124,
    "start_time": "2022-04-28T17:45:26.477Z"
   },
   {
    "duration": 5,
    "start_time": "2022-04-28T17:45:39.923Z"
   },
   {
    "duration": 122,
    "start_time": "2022-04-28T17:45:43.814Z"
   },
   {
    "duration": 6,
    "start_time": "2022-04-28T17:45:44.294Z"
   },
   {
    "duration": 7,
    "start_time": "2022-04-28T17:45:45.326Z"
   },
   {
    "duration": 6,
    "start_time": "2022-04-28T17:45:47.280Z"
   },
   {
    "duration": 127,
    "start_time": "2022-04-28T17:45:48.196Z"
   },
   {
    "duration": 467,
    "start_time": "2022-04-28T17:46:45.924Z"
   },
   {
    "duration": 16,
    "start_time": "2022-04-28T17:46:46.393Z"
   },
   {
    "duration": 8,
    "start_time": "2022-04-28T17:46:46.410Z"
   },
   {
    "duration": 6,
    "start_time": "2022-04-28T17:46:46.419Z"
   },
   {
    "duration": 11,
    "start_time": "2022-04-28T17:46:46.427Z"
   },
   {
    "duration": 9,
    "start_time": "2022-04-28T17:46:46.448Z"
   },
   {
    "duration": 28,
    "start_time": "2022-04-28T17:46:46.459Z"
   },
   {
    "duration": 10,
    "start_time": "2022-04-28T17:46:46.489Z"
   },
   {
    "duration": 11,
    "start_time": "2022-04-28T17:46:46.501Z"
   },
   {
    "duration": 17,
    "start_time": "2022-04-28T17:46:46.514Z"
   },
   {
    "duration": 17,
    "start_time": "2022-04-28T17:46:46.533Z"
   },
   {
    "duration": 11,
    "start_time": "2022-04-28T17:46:46.551Z"
   },
   {
    "duration": 276,
    "start_time": "2022-04-28T17:46:46.564Z"
   },
   {
    "duration": 228,
    "start_time": "2022-04-28T17:46:46.847Z"
   },
   {
    "duration": 151,
    "start_time": "2022-04-28T17:46:47.076Z"
   },
   {
    "duration": 323,
    "start_time": "2022-04-28T17:46:47.229Z"
   },
   {
    "duration": 202,
    "start_time": "2022-04-28T17:46:47.554Z"
   },
   {
    "duration": 0,
    "start_time": "2022-04-28T17:46:47.757Z"
   },
   {
    "duration": 0,
    "start_time": "2022-04-28T17:46:47.758Z"
   },
   {
    "duration": 0,
    "start_time": "2022-04-28T17:46:47.759Z"
   },
   {
    "duration": 0,
    "start_time": "2022-04-28T17:46:47.761Z"
   },
   {
    "duration": 0,
    "start_time": "2022-04-28T17:46:47.762Z"
   },
   {
    "duration": 0,
    "start_time": "2022-04-28T17:46:47.763Z"
   },
   {
    "duration": 0,
    "start_time": "2022-04-28T17:46:47.764Z"
   },
   {
    "duration": 0,
    "start_time": "2022-04-28T17:46:47.765Z"
   },
   {
    "duration": 0,
    "start_time": "2022-04-28T17:46:47.765Z"
   },
   {
    "duration": 0,
    "start_time": "2022-04-28T17:46:47.767Z"
   },
   {
    "duration": 0,
    "start_time": "2022-04-28T17:46:47.767Z"
   },
   {
    "duration": 0,
    "start_time": "2022-04-28T17:46:47.768Z"
   },
   {
    "duration": 0,
    "start_time": "2022-04-28T17:46:47.769Z"
   },
   {
    "duration": 144,
    "start_time": "2022-04-28T17:46:59.908Z"
   },
   {
    "duration": 11,
    "start_time": "2022-04-28T17:57:03.228Z"
   },
   {
    "duration": 1674,
    "start_time": "2022-04-30T10:32:49.713Z"
   },
   {
    "duration": 19,
    "start_time": "2022-04-30T10:32:51.392Z"
   },
   {
    "duration": 18,
    "start_time": "2022-04-30T10:32:51.413Z"
   },
   {
    "duration": 11,
    "start_time": "2022-04-30T10:32:51.434Z"
   },
   {
    "duration": 50,
    "start_time": "2022-04-30T10:32:51.450Z"
   },
   {
    "duration": 26,
    "start_time": "2022-04-30T10:32:51.504Z"
   },
   {
    "duration": 54,
    "start_time": "2022-04-30T10:32:51.532Z"
   },
   {
    "duration": 18,
    "start_time": "2022-04-30T10:32:51.589Z"
   },
   {
    "duration": 15,
    "start_time": "2022-04-30T10:32:51.609Z"
   },
   {
    "duration": 30,
    "start_time": "2022-04-30T10:32:51.626Z"
   },
   {
    "duration": 6,
    "start_time": "2022-04-30T10:32:51.658Z"
   },
   {
    "duration": 38,
    "start_time": "2022-04-30T10:32:51.666Z"
   },
   {
    "duration": 464,
    "start_time": "2022-04-30T10:32:51.706Z"
   },
   {
    "duration": 406,
    "start_time": "2022-04-30T10:32:52.174Z"
   },
   {
    "duration": 277,
    "start_time": "2022-04-30T10:32:52.583Z"
   },
   {
    "duration": 532,
    "start_time": "2022-04-30T10:32:52.862Z"
   },
   {
    "duration": 504,
    "start_time": "2022-04-30T10:32:53.397Z"
   },
   {
    "duration": 0,
    "start_time": "2022-04-30T10:32:53.905Z"
   },
   {
    "duration": 0,
    "start_time": "2022-04-30T10:32:53.908Z"
   },
   {
    "duration": 0,
    "start_time": "2022-04-30T10:32:53.910Z"
   },
   {
    "duration": 0,
    "start_time": "2022-04-30T10:32:53.912Z"
   },
   {
    "duration": 0,
    "start_time": "2022-04-30T10:32:53.915Z"
   },
   {
    "duration": 0,
    "start_time": "2022-04-30T10:32:53.917Z"
   },
   {
    "duration": 0,
    "start_time": "2022-04-30T10:32:53.918Z"
   },
   {
    "duration": 0,
    "start_time": "2022-04-30T10:32:53.920Z"
   },
   {
    "duration": 0,
    "start_time": "2022-04-30T10:32:53.922Z"
   },
   {
    "duration": 0,
    "start_time": "2022-04-30T10:32:53.925Z"
   },
   {
    "duration": 0,
    "start_time": "2022-04-30T10:32:53.927Z"
   },
   {
    "duration": 0,
    "start_time": "2022-04-30T10:32:53.938Z"
   },
   {
    "duration": 0,
    "start_time": "2022-04-30T10:32:53.940Z"
   },
   {
    "duration": 0,
    "start_time": "2022-04-30T10:32:53.941Z"
   },
   {
    "duration": 7,
    "start_time": "2022-04-30T10:33:02.043Z"
   },
   {
    "duration": 11,
    "start_time": "2022-04-30T10:33:44.838Z"
   },
   {
    "duration": 12,
    "start_time": "2022-04-30T10:33:48.987Z"
   },
   {
    "duration": 12,
    "start_time": "2022-04-30T10:33:53.013Z"
   },
   {
    "duration": 15,
    "start_time": "2022-04-30T10:33:58.188Z"
   },
   {
    "duration": 350,
    "start_time": "2022-04-30T10:34:00.460Z"
   },
   {
    "duration": 7,
    "start_time": "2022-04-30T10:34:02.024Z"
   },
   {
    "duration": 21,
    "start_time": "2022-04-30T10:34:15.359Z"
   },
   {
    "duration": 314,
    "start_time": "2022-04-30T10:34:16.415Z"
   },
   {
    "duration": 7,
    "start_time": "2022-04-30T10:34:19.159Z"
   },
   {
    "duration": 45,
    "start_time": "2022-04-30T15:51:27.013Z"
   },
   {
    "duration": 1272,
    "start_time": "2022-04-30T15:51:35.652Z"
   },
   {
    "duration": 22,
    "start_time": "2022-04-30T15:51:36.926Z"
   },
   {
    "duration": 10,
    "start_time": "2022-04-30T15:51:36.949Z"
   },
   {
    "duration": 5,
    "start_time": "2022-04-30T15:51:36.961Z"
   },
   {
    "duration": 10,
    "start_time": "2022-04-30T15:51:36.968Z"
   },
   {
    "duration": 17,
    "start_time": "2022-04-30T15:51:36.979Z"
   },
   {
    "duration": 36,
    "start_time": "2022-04-30T15:51:36.997Z"
   },
   {
    "duration": 12,
    "start_time": "2022-04-30T15:51:37.034Z"
   },
   {
    "duration": 18,
    "start_time": "2022-04-30T15:51:37.047Z"
   },
   {
    "duration": 30,
    "start_time": "2022-04-30T15:51:37.068Z"
   },
   {
    "duration": 3,
    "start_time": "2022-04-30T15:51:37.100Z"
   },
   {
    "duration": 10,
    "start_time": "2022-04-30T15:51:37.105Z"
   },
   {
    "duration": 300,
    "start_time": "2022-04-30T15:51:37.117Z"
   },
   {
    "duration": 243,
    "start_time": "2022-04-30T15:51:37.419Z"
   },
   {
    "duration": 162,
    "start_time": "2022-04-30T15:51:37.664Z"
   },
   {
    "duration": 282,
    "start_time": "2022-04-30T15:51:37.828Z"
   },
   {
    "duration": 235,
    "start_time": "2022-04-30T15:51:38.111Z"
   },
   {
    "duration": 0,
    "start_time": "2022-04-30T15:51:38.349Z"
   },
   {
    "duration": 0,
    "start_time": "2022-04-30T15:51:38.350Z"
   },
   {
    "duration": 0,
    "start_time": "2022-04-30T15:51:38.352Z"
   },
   {
    "duration": 0,
    "start_time": "2022-04-30T15:51:38.353Z"
   },
   {
    "duration": 0,
    "start_time": "2022-04-30T15:51:38.354Z"
   },
   {
    "duration": 0,
    "start_time": "2022-04-30T15:51:38.356Z"
   },
   {
    "duration": 0,
    "start_time": "2022-04-30T15:51:38.357Z"
   },
   {
    "duration": 0,
    "start_time": "2022-04-30T15:51:38.358Z"
   },
   {
    "duration": 0,
    "start_time": "2022-04-30T15:51:38.360Z"
   },
   {
    "duration": 0,
    "start_time": "2022-04-30T15:51:38.362Z"
   },
   {
    "duration": 0,
    "start_time": "2022-04-30T15:51:38.363Z"
   },
   {
    "duration": 0,
    "start_time": "2022-04-30T15:51:38.392Z"
   },
   {
    "duration": 0,
    "start_time": "2022-04-30T15:51:38.394Z"
   },
   {
    "duration": 0,
    "start_time": "2022-04-30T15:51:38.395Z"
   },
   {
    "duration": 0,
    "start_time": "2022-04-30T15:51:38.397Z"
   },
   {
    "duration": 9,
    "start_time": "2022-04-30T15:52:48.929Z"
   },
   {
    "duration": 170,
    "start_time": "2022-04-30T15:53:05.814Z"
   },
   {
    "duration": 11,
    "start_time": "2022-04-30T15:53:07.294Z"
   },
   {
    "duration": 210,
    "start_time": "2022-04-30T15:53:29.545Z"
   },
   {
    "duration": 11,
    "start_time": "2022-04-30T15:53:30.142Z"
   },
   {
    "duration": 128,
    "start_time": "2022-04-30T15:53:30.891Z"
   },
   {
    "duration": 6,
    "start_time": "2022-04-30T15:53:31.443Z"
   },
   {
    "duration": 6,
    "start_time": "2022-04-30T15:53:31.929Z"
   },
   {
    "duration": 3,
    "start_time": "2022-04-30T15:55:27.166Z"
   },
   {
    "duration": 15,
    "start_time": "2022-04-30T15:55:27.171Z"
   },
   {
    "duration": 8,
    "start_time": "2022-04-30T15:55:27.188Z"
   },
   {
    "duration": 21,
    "start_time": "2022-04-30T15:55:27.198Z"
   },
   {
    "duration": 15,
    "start_time": "2022-04-30T15:55:27.220Z"
   },
   {
    "duration": 12,
    "start_time": "2022-04-30T15:55:27.237Z"
   },
   {
    "duration": 28,
    "start_time": "2022-04-30T15:55:27.250Z"
   },
   {
    "duration": 13,
    "start_time": "2022-04-30T15:55:27.280Z"
   },
   {
    "duration": 17,
    "start_time": "2022-04-30T15:55:27.296Z"
   },
   {
    "duration": 92,
    "start_time": "2022-04-30T15:55:27.315Z"
   },
   {
    "duration": 5,
    "start_time": "2022-04-30T15:55:27.409Z"
   },
   {
    "duration": 17,
    "start_time": "2022-04-30T15:55:27.416Z"
   },
   {
    "duration": 305,
    "start_time": "2022-04-30T15:55:27.435Z"
   },
   {
    "duration": 186,
    "start_time": "2022-04-30T15:55:27.742Z"
   },
   {
    "duration": 177,
    "start_time": "2022-04-30T15:55:27.930Z"
   },
   {
    "duration": 348,
    "start_time": "2022-04-30T15:55:28.109Z"
   },
   {
    "duration": 305,
    "start_time": "2022-04-30T15:55:28.459Z"
   },
   {
    "duration": 0,
    "start_time": "2022-04-30T15:55:28.766Z"
   },
   {
    "duration": 0,
    "start_time": "2022-04-30T15:55:28.767Z"
   },
   {
    "duration": 0,
    "start_time": "2022-04-30T15:55:28.768Z"
   },
   {
    "duration": 0,
    "start_time": "2022-04-30T15:55:28.769Z"
   },
   {
    "duration": 0,
    "start_time": "2022-04-30T15:55:28.770Z"
   },
   {
    "duration": 0,
    "start_time": "2022-04-30T15:55:28.771Z"
   },
   {
    "duration": 0,
    "start_time": "2022-04-30T15:55:28.793Z"
   },
   {
    "duration": 0,
    "start_time": "2022-04-30T15:55:28.794Z"
   },
   {
    "duration": 0,
    "start_time": "2022-04-30T15:55:28.795Z"
   },
   {
    "duration": 0,
    "start_time": "2022-04-30T15:55:28.796Z"
   },
   {
    "duration": 0,
    "start_time": "2022-04-30T15:55:28.797Z"
   },
   {
    "duration": 0,
    "start_time": "2022-04-30T15:55:28.798Z"
   },
   {
    "duration": 0,
    "start_time": "2022-04-30T15:55:28.799Z"
   },
   {
    "duration": 0,
    "start_time": "2022-04-30T15:55:28.800Z"
   },
   {
    "duration": 0,
    "start_time": "2022-04-30T15:55:28.801Z"
   },
   {
    "duration": 4,
    "start_time": "2022-04-30T15:55:38.737Z"
   },
   {
    "duration": 11,
    "start_time": "2022-04-30T15:55:39.702Z"
   },
   {
    "duration": 8,
    "start_time": "2022-04-30T15:55:40.457Z"
   },
   {
    "duration": 6,
    "start_time": "2022-04-30T15:55:41.270Z"
   },
   {
    "duration": 11,
    "start_time": "2022-04-30T15:55:41.791Z"
   },
   {
    "duration": 12,
    "start_time": "2022-04-30T15:55:42.089Z"
   },
   {
    "duration": 29,
    "start_time": "2022-04-30T15:55:43.573Z"
   },
   {
    "duration": 12,
    "start_time": "2022-04-30T15:55:44.313Z"
   },
   {
    "duration": 11,
    "start_time": "2022-04-30T15:55:44.372Z"
   },
   {
    "duration": 16,
    "start_time": "2022-04-30T15:55:45.103Z"
   },
   {
    "duration": 4,
    "start_time": "2022-04-30T15:55:45.787Z"
   },
   {
    "duration": 11,
    "start_time": "2022-04-30T15:55:46.526Z"
   },
   {
    "duration": 289,
    "start_time": "2022-04-30T15:55:47.584Z"
   },
   {
    "duration": 174,
    "start_time": "2022-04-30T15:55:48.347Z"
   },
   {
    "duration": 165,
    "start_time": "2022-04-30T15:55:49.919Z"
   },
   {
    "duration": 267,
    "start_time": "2022-04-30T15:55:52.009Z"
   },
   {
    "duration": 202,
    "start_time": "2022-04-30T15:55:53.546Z"
   },
   {
    "duration": 342,
    "start_time": "2022-04-30T15:55:55.265Z"
   },
   {
    "duration": 10,
    "start_time": "2022-04-30T15:55:57.447Z"
   },
   {
    "duration": 110,
    "start_time": "2022-04-30T15:55:58.411Z"
   },
   {
    "duration": 4,
    "start_time": "2022-04-30T15:56:00.723Z"
   },
   {
    "duration": 125,
    "start_time": "2022-04-30T15:56:03.093Z"
   },
   {
    "duration": 5,
    "start_time": "2022-04-30T15:56:05.587Z"
   },
   {
    "duration": 232,
    "start_time": "2022-04-30T15:56:07.615Z"
   },
   {
    "duration": 11,
    "start_time": "2022-04-30T15:56:08.313Z"
   },
   {
    "duration": 156,
    "start_time": "2022-04-30T15:56:09.648Z"
   },
   {
    "duration": 8,
    "start_time": "2022-04-30T15:56:10.813Z"
   },
   {
    "duration": 7,
    "start_time": "2022-04-30T15:56:11.747Z"
   },
   {
    "duration": 7,
    "start_time": "2022-04-30T15:56:12.632Z"
   },
   {
    "duration": 163,
    "start_time": "2022-04-30T15:56:13.535Z"
   },
   {
    "duration": 10,
    "start_time": "2022-04-30T15:56:15.383Z"
   },
   {
    "duration": 2598,
    "start_time": "2022-04-30T15:56:18.673Z"
   },
   {
    "duration": 2401,
    "start_time": "2022-04-30T15:57:19.758Z"
   },
   {
    "duration": 9,
    "start_time": "2022-04-30T15:58:37.905Z"
   },
   {
    "duration": 8,
    "start_time": "2022-04-30T16:00:53.235Z"
   },
   {
    "duration": 7,
    "start_time": "2022-04-30T16:00:55.125Z"
   },
   {
    "duration": 22,
    "start_time": "2022-04-30T16:00:56.323Z"
   },
   {
    "duration": 1961,
    "start_time": "2022-04-30T16:01:54.346Z"
   },
   {
    "duration": 2792,
    "start_time": "2022-04-30T16:01:58.845Z"
   },
   {
    "duration": 13,
    "start_time": "2022-04-30T16:03:21.269Z"
   },
   {
    "duration": 13,
    "start_time": "2022-04-30T16:05:51.774Z"
   },
   {
    "duration": 45,
    "start_time": "2022-05-01T08:00:08.752Z"
   },
   {
    "duration": 1188,
    "start_time": "2022-05-01T08:00:15.551Z"
   },
   {
    "duration": 28,
    "start_time": "2022-05-01T08:00:16.741Z"
   },
   {
    "duration": 10,
    "start_time": "2022-05-01T08:00:16.770Z"
   },
   {
    "duration": 15,
    "start_time": "2022-05-01T08:00:16.782Z"
   },
   {
    "duration": 14,
    "start_time": "2022-05-01T08:00:16.799Z"
   },
   {
    "duration": 18,
    "start_time": "2022-05-01T08:00:16.814Z"
   },
   {
    "duration": 63,
    "start_time": "2022-05-01T08:00:16.834Z"
   },
   {
    "duration": 12,
    "start_time": "2022-05-01T08:00:16.899Z"
   },
   {
    "duration": 37,
    "start_time": "2022-05-01T08:00:16.912Z"
   },
   {
    "duration": 34,
    "start_time": "2022-05-01T08:00:16.951Z"
   },
   {
    "duration": 4,
    "start_time": "2022-05-01T08:00:16.987Z"
   },
   {
    "duration": 20,
    "start_time": "2022-05-01T08:00:16.992Z"
   },
   {
    "duration": 287,
    "start_time": "2022-05-01T08:00:17.013Z"
   },
   {
    "duration": 242,
    "start_time": "2022-05-01T08:00:17.303Z"
   },
   {
    "duration": 167,
    "start_time": "2022-05-01T08:00:17.547Z"
   },
   {
    "duration": 292,
    "start_time": "2022-05-01T08:00:17.716Z"
   },
   {
    "duration": 225,
    "start_time": "2022-05-01T08:00:18.010Z"
   },
   {
    "duration": 0,
    "start_time": "2022-05-01T08:00:18.237Z"
   },
   {
    "duration": 0,
    "start_time": "2022-05-01T08:00:18.238Z"
   },
   {
    "duration": 0,
    "start_time": "2022-05-01T08:00:18.239Z"
   },
   {
    "duration": 0,
    "start_time": "2022-05-01T08:00:18.240Z"
   },
   {
    "duration": 0,
    "start_time": "2022-05-01T08:00:18.242Z"
   },
   {
    "duration": 0,
    "start_time": "2022-05-01T08:00:18.242Z"
   },
   {
    "duration": 0,
    "start_time": "2022-05-01T08:00:18.244Z"
   },
   {
    "duration": 0,
    "start_time": "2022-05-01T08:00:18.245Z"
   },
   {
    "duration": 0,
    "start_time": "2022-05-01T08:00:18.246Z"
   },
   {
    "duration": 0,
    "start_time": "2022-05-01T08:00:18.247Z"
   },
   {
    "duration": 0,
    "start_time": "2022-05-01T08:00:18.248Z"
   },
   {
    "duration": 0,
    "start_time": "2022-05-01T08:00:18.249Z"
   },
   {
    "duration": 0,
    "start_time": "2022-05-01T08:00:18.250Z"
   },
   {
    "duration": 0,
    "start_time": "2022-05-01T08:00:18.252Z"
   },
   {
    "duration": 0,
    "start_time": "2022-05-01T08:00:18.253Z"
   },
   {
    "duration": 0,
    "start_time": "2022-05-01T08:00:18.254Z"
   },
   {
    "duration": 0,
    "start_time": "2022-05-01T08:00:18.254Z"
   },
   {
    "duration": 0,
    "start_time": "2022-05-01T08:00:18.255Z"
   },
   {
    "duration": 4,
    "start_time": "2022-05-01T09:33:37.441Z"
   },
   {
    "duration": 143,
    "start_time": "2022-05-01T11:10:33.297Z"
   },
   {
    "duration": 140,
    "start_time": "2022-05-01T11:10:39.162Z"
   },
   {
    "duration": 247,
    "start_time": "2022-05-01T11:10:48.271Z"
   },
   {
    "duration": 168,
    "start_time": "2022-05-01T11:10:52.842Z"
   },
   {
    "duration": 1651,
    "start_time": "2022-05-01T14:56:15.754Z"
   },
   {
    "duration": 13,
    "start_time": "2022-05-01T14:56:17.408Z"
   },
   {
    "duration": 18,
    "start_time": "2022-05-01T14:56:20.872Z"
   },
   {
    "duration": 12,
    "start_time": "2022-05-01T14:56:22.052Z"
   },
   {
    "duration": 17,
    "start_time": "2022-05-01T14:56:22.770Z"
   },
   {
    "duration": 16,
    "start_time": "2022-05-01T14:56:23.351Z"
   },
   {
    "duration": 46,
    "start_time": "2022-05-01T14:56:26.319Z"
   },
   {
    "duration": 24,
    "start_time": "2022-05-01T14:56:26.561Z"
   },
   {
    "duration": 18,
    "start_time": "2022-05-01T14:56:26.798Z"
   },
   {
    "duration": 22,
    "start_time": "2022-05-01T14:56:27.166Z"
   },
   {
    "duration": 6,
    "start_time": "2022-05-01T14:56:27.516Z"
   },
   {
    "duration": 23,
    "start_time": "2022-05-01T14:56:28.076Z"
   },
   {
    "duration": 506,
    "start_time": "2022-05-01T14:56:29.684Z"
   },
   {
    "duration": 101,
    "start_time": "2022-05-01T14:56:30.703Z"
   },
   {
    "duration": 519,
    "start_time": "2022-05-01T14:56:47.299Z"
   },
   {
    "duration": 281,
    "start_time": "2022-05-01T14:57:18.525Z"
   },
   {
    "duration": 244,
    "start_time": "2022-05-01T14:57:30.311Z"
   },
   {
    "duration": 89,
    "start_time": "2022-05-01T14:57:55.126Z"
   },
   {
    "duration": 265,
    "start_time": "2022-05-01T14:58:14.389Z"
   },
   {
    "duration": 302,
    "start_time": "2022-05-01T14:58:45.855Z"
   },
   {
    "duration": 262,
    "start_time": "2022-05-01T14:58:57.273Z"
   },
   {
    "duration": 274,
    "start_time": "2022-05-01T14:59:07.935Z"
   },
   {
    "duration": 267,
    "start_time": "2022-05-01T14:59:17.085Z"
   },
   {
    "duration": 568,
    "start_time": "2022-05-01T15:00:37.924Z"
   },
   {
    "duration": 334,
    "start_time": "2022-05-01T15:00:49.701Z"
   },
   {
    "duration": 408,
    "start_time": "2022-05-01T15:01:11.421Z"
   },
   {
    "duration": 334,
    "start_time": "2022-05-01T15:01:23.901Z"
   },
   {
    "duration": 322,
    "start_time": "2022-05-01T15:03:10.563Z"
   },
   {
    "duration": 177,
    "start_time": "2022-05-01T15:17:56.113Z"
   },
   {
    "duration": 319,
    "start_time": "2022-05-01T15:18:03.961Z"
   },
   {
    "duration": 109,
    "start_time": "2022-05-01T15:18:06.756Z"
   },
   {
    "duration": 138,
    "start_time": "2022-05-01T15:20:12.152Z"
   },
   {
    "duration": 4,
    "start_time": "2022-05-01T15:20:23.926Z"
   },
   {
    "duration": 16,
    "start_time": "2022-05-01T15:20:23.935Z"
   },
   {
    "duration": 12,
    "start_time": "2022-05-01T15:20:23.954Z"
   },
   {
    "duration": 8,
    "start_time": "2022-05-01T15:20:23.968Z"
   },
   {
    "duration": 17,
    "start_time": "2022-05-01T15:20:23.978Z"
   },
   {
    "duration": 17,
    "start_time": "2022-05-01T15:20:23.998Z"
   },
   {
    "duration": 34,
    "start_time": "2022-05-01T15:20:24.052Z"
   },
   {
    "duration": 18,
    "start_time": "2022-05-01T15:20:24.088Z"
   },
   {
    "duration": 17,
    "start_time": "2022-05-01T15:20:24.108Z"
   },
   {
    "duration": 22,
    "start_time": "2022-05-01T15:20:24.151Z"
   },
   {
    "duration": 6,
    "start_time": "2022-05-01T15:20:24.177Z"
   },
   {
    "duration": 19,
    "start_time": "2022-05-01T15:20:24.185Z"
   },
   {
    "duration": 490,
    "start_time": "2022-05-01T15:20:24.206Z"
   },
   {
    "duration": 339,
    "start_time": "2022-05-01T15:20:24.698Z"
   },
   {
    "duration": 328,
    "start_time": "2022-05-01T15:20:25.039Z"
   },
   {
    "duration": 93,
    "start_time": "2022-05-01T15:20:25.369Z"
   },
   {
    "duration": 0,
    "start_time": "2022-05-01T15:20:25.465Z"
   },
   {
    "duration": 0,
    "start_time": "2022-05-01T15:20:25.467Z"
   },
   {
    "duration": 0,
    "start_time": "2022-05-01T15:20:25.469Z"
   },
   {
    "duration": 0,
    "start_time": "2022-05-01T15:20:25.473Z"
   },
   {
    "duration": 0,
    "start_time": "2022-05-01T15:20:25.475Z"
   },
   {
    "duration": 0,
    "start_time": "2022-05-01T15:20:25.477Z"
   },
   {
    "duration": 0,
    "start_time": "2022-05-01T15:20:25.479Z"
   },
   {
    "duration": 0,
    "start_time": "2022-05-01T15:20:25.481Z"
   },
   {
    "duration": 0,
    "start_time": "2022-05-01T15:20:25.483Z"
   },
   {
    "duration": 0,
    "start_time": "2022-05-01T15:20:25.486Z"
   },
   {
    "duration": 0,
    "start_time": "2022-05-01T15:20:25.488Z"
   },
   {
    "duration": 0,
    "start_time": "2022-05-01T15:20:25.490Z"
   },
   {
    "duration": 0,
    "start_time": "2022-05-01T15:20:25.492Z"
   },
   {
    "duration": 0,
    "start_time": "2022-05-01T15:20:25.494Z"
   },
   {
    "duration": 0,
    "start_time": "2022-05-01T15:20:25.496Z"
   },
   {
    "duration": 0,
    "start_time": "2022-05-01T15:20:25.499Z"
   },
   {
    "duration": 0,
    "start_time": "2022-05-01T15:20:25.501Z"
   },
   {
    "duration": 0,
    "start_time": "2022-05-01T15:20:25.551Z"
   },
   {
    "duration": 0,
    "start_time": "2022-05-01T15:20:25.553Z"
   },
   {
    "duration": 98,
    "start_time": "2022-05-01T15:20:37.869Z"
   },
   {
    "duration": 306,
    "start_time": "2022-05-01T15:20:41.184Z"
   },
   {
    "duration": 94,
    "start_time": "2022-05-01T15:20:48.768Z"
   },
   {
    "duration": 535,
    "start_time": "2022-05-01T15:21:03.973Z"
   },
   {
    "duration": 309,
    "start_time": "2022-05-01T15:40:14.531Z"
   },
   {
    "duration": 361,
    "start_time": "2022-05-01T15:40:47.197Z"
   },
   {
    "duration": 93,
    "start_time": "2022-05-01T15:41:36.902Z"
   },
   {
    "duration": 7,
    "start_time": "2022-05-01T15:41:41.657Z"
   },
   {
    "duration": 448,
    "start_time": "2022-05-01T15:42:09.755Z"
   },
   {
    "duration": 317,
    "start_time": "2022-05-01T15:42:37.328Z"
   },
   {
    "duration": 303,
    "start_time": "2022-05-01T15:43:01.297Z"
   },
   {
    "duration": 355,
    "start_time": "2022-05-01T16:03:02.172Z"
   },
   {
    "duration": 416,
    "start_time": "2022-05-01T16:03:46.729Z"
   },
   {
    "duration": 13,
    "start_time": "2022-05-01T16:27:04.368Z"
   },
   {
    "duration": 13,
    "start_time": "2022-05-01T16:27:16.079Z"
   },
   {
    "duration": 176,
    "start_time": "2022-05-01T16:27:16.530Z"
   },
   {
    "duration": 203,
    "start_time": "2022-05-01T16:27:44.522Z"
   },
   {
    "duration": 199,
    "start_time": "2022-05-01T16:28:07.106Z"
   },
   {
    "duration": 6,
    "start_time": "2022-05-01T16:34:13.207Z"
   },
   {
    "duration": 320,
    "start_time": "2022-05-01T16:37:09.503Z"
   },
   {
    "duration": 6,
    "start_time": "2022-05-01T16:49:49.748Z"
   },
   {
    "duration": 227,
    "start_time": "2022-05-01T16:50:22.954Z"
   },
   {
    "duration": 236,
    "start_time": "2022-05-01T16:52:35.031Z"
   },
   {
    "duration": 87,
    "start_time": "2022-05-01T16:53:11.078Z"
   },
   {
    "duration": 169,
    "start_time": "2022-05-01T16:54:58.775Z"
   },
   {
    "duration": 472,
    "start_time": "2022-05-01T16:55:19.616Z"
   },
   {
    "duration": 352,
    "start_time": "2022-05-01T16:57:21.221Z"
   },
   {
    "duration": 230,
    "start_time": "2022-05-01T16:59:54.044Z"
   },
   {
    "duration": 13,
    "start_time": "2022-05-01T17:04:31.732Z"
   },
   {
    "duration": 213,
    "start_time": "2022-05-01T17:04:31.747Z"
   },
   {
    "duration": 379,
    "start_time": "2022-05-01T17:05:27.459Z"
   },
   {
    "duration": 292,
    "start_time": "2022-05-01T17:08:48.308Z"
   },
   {
    "duration": 9,
    "start_time": "2022-05-01T17:08:51.448Z"
   },
   {
    "duration": 9,
    "start_time": "2022-05-01T17:09:18.103Z"
   },
   {
    "duration": 431,
    "start_time": "2022-05-01T17:12:57.483Z"
   },
   {
    "duration": 17,
    "start_time": "2022-05-01T17:13:17.076Z"
   },
   {
    "duration": 12,
    "start_time": "2022-05-01T17:13:49.747Z"
   },
   {
    "duration": 11,
    "start_time": "2022-05-01T17:26:10.522Z"
   },
   {
    "duration": 9,
    "start_time": "2022-05-01T17:26:53.767Z"
   },
   {
    "duration": 8,
    "start_time": "2022-05-01T17:31:33.756Z"
   },
   {
    "duration": 15,
    "start_time": "2022-05-01T17:43:48.112Z"
   },
   {
    "duration": 14,
    "start_time": "2022-05-01T17:43:51.441Z"
   },
   {
    "duration": 51,
    "start_time": "2022-05-01T17:43:52.720Z"
   },
   {
    "duration": 22,
    "start_time": "2022-05-01T17:47:15.743Z"
   },
   {
    "duration": 1335,
    "start_time": "2022-05-02T15:22:11.931Z"
   },
   {
    "duration": 17,
    "start_time": "2022-05-02T15:22:13.268Z"
   },
   {
    "duration": 12,
    "start_time": "2022-05-02T15:22:13.287Z"
   },
   {
    "duration": 9,
    "start_time": "2022-05-02T15:22:13.302Z"
   },
   {
    "duration": 15,
    "start_time": "2022-05-02T15:22:13.313Z"
   },
   {
    "duration": 11,
    "start_time": "2022-05-02T15:22:13.330Z"
   },
   {
    "duration": 42,
    "start_time": "2022-05-02T15:22:13.343Z"
   },
   {
    "duration": 13,
    "start_time": "2022-05-02T15:22:13.387Z"
   },
   {
    "duration": 14,
    "start_time": "2022-05-02T15:22:13.402Z"
   },
   {
    "duration": 18,
    "start_time": "2022-05-02T15:22:13.419Z"
   },
   {
    "duration": 4,
    "start_time": "2022-05-02T15:22:13.439Z"
   },
   {
    "duration": 13,
    "start_time": "2022-05-02T15:22:13.445Z"
   },
   {
    "duration": 322,
    "start_time": "2022-05-02T15:22:13.460Z"
   },
   {
    "duration": 311,
    "start_time": "2022-05-02T15:22:13.784Z"
   },
   {
    "duration": 223,
    "start_time": "2022-05-02T15:22:14.097Z"
   },
   {
    "duration": 351,
    "start_time": "2022-05-02T15:22:14.322Z"
   },
   {
    "duration": 210,
    "start_time": "2022-05-02T15:22:14.676Z"
   },
   {
    "duration": 344,
    "start_time": "2022-05-02T15:22:14.888Z"
   },
   {
    "duration": 10,
    "start_time": "2022-05-02T15:22:15.234Z"
   },
   {
    "duration": 143,
    "start_time": "2022-05-02T15:22:15.245Z"
   },
   {
    "duration": 4,
    "start_time": "2022-05-02T15:22:15.390Z"
   },
   {
    "duration": 233,
    "start_time": "2022-05-02T15:22:15.396Z"
   },
   {
    "duration": 5,
    "start_time": "2022-05-02T15:22:15.630Z"
   },
   {
    "duration": 491,
    "start_time": "2022-05-02T15:22:15.637Z"
   },
   {
    "duration": 313,
    "start_time": "2022-05-02T15:22:16.130Z"
   },
   {
    "duration": 7,
    "start_time": "2022-05-02T15:22:16.445Z"
   },
   {
    "duration": 57,
    "start_time": "2022-05-02T15:22:16.454Z"
   },
   {
    "duration": 315,
    "start_time": "2022-05-02T15:22:16.514Z"
   },
   {
    "duration": 12,
    "start_time": "2022-05-02T15:22:16.831Z"
   },
   {
    "duration": 67,
    "start_time": "2022-05-02T15:22:16.845Z"
   },
   {
    "duration": 13,
    "start_time": "2022-05-02T15:22:16.915Z"
   },
   {
    "duration": 86,
    "start_time": "2022-05-02T15:22:16.930Z"
   },
   {
    "duration": 15,
    "start_time": "2022-05-02T15:22:17.018Z"
   },
   {
    "duration": 162,
    "start_time": "2022-05-03T07:02:35.672Z"
   },
   {
    "duration": 67,
    "start_time": "2022-05-03T07:02:58.255Z"
   },
   {
    "duration": 1799,
    "start_time": "2022-05-03T07:03:02.809Z"
   },
   {
    "duration": 14,
    "start_time": "2022-05-03T07:03:04.611Z"
   },
   {
    "duration": 18,
    "start_time": "2022-05-03T07:03:04.628Z"
   },
   {
    "duration": 9,
    "start_time": "2022-05-03T07:03:04.650Z"
   },
   {
    "duration": 19,
    "start_time": "2022-05-03T07:03:04.661Z"
   },
   {
    "duration": 46,
    "start_time": "2022-05-03T07:03:04.682Z"
   },
   {
    "duration": 52,
    "start_time": "2022-05-03T07:03:04.731Z"
   },
   {
    "duration": 20,
    "start_time": "2022-05-03T07:03:04.786Z"
   },
   {
    "duration": 22,
    "start_time": "2022-05-03T07:03:04.808Z"
   },
   {
    "duration": 27,
    "start_time": "2022-05-03T07:03:04.834Z"
   },
   {
    "duration": 6,
    "start_time": "2022-05-03T07:03:04.864Z"
   },
   {
    "duration": 30,
    "start_time": "2022-05-03T07:03:04.873Z"
   },
   {
    "duration": 654,
    "start_time": "2022-05-03T07:03:04.905Z"
   },
   {
    "duration": 501,
    "start_time": "2022-05-03T07:03:05.562Z"
   },
   {
    "duration": 348,
    "start_time": "2022-05-03T07:03:06.065Z"
   },
   {
    "duration": 524,
    "start_time": "2022-05-03T07:03:06.415Z"
   },
   {
    "duration": 339,
    "start_time": "2022-05-03T07:03:06.942Z"
   },
   {
    "duration": 436,
    "start_time": "2022-05-03T07:03:07.284Z"
   },
   {
    "duration": 14,
    "start_time": "2022-05-03T07:03:07.722Z"
   },
   {
    "duration": 222,
    "start_time": "2022-05-03T07:03:07.738Z"
   },
   {
    "duration": 6,
    "start_time": "2022-05-03T07:03:07.962Z"
   },
   {
    "duration": 260,
    "start_time": "2022-05-03T07:03:07.970Z"
   },
   {
    "duration": 5,
    "start_time": "2022-05-03T07:03:08.233Z"
   },
   {
    "duration": 386,
    "start_time": "2022-05-03T07:03:08.241Z"
   },
   {
    "duration": 474,
    "start_time": "2022-05-03T07:03:08.629Z"
   },
   {
    "duration": 20,
    "start_time": "2022-05-03T07:03:09.106Z"
   },
   {
    "duration": 19,
    "start_time": "2022-05-03T07:03:09.129Z"
   },
   {
    "duration": 533,
    "start_time": "2022-05-03T07:03:09.156Z"
   },
   {
    "duration": 34,
    "start_time": "2022-05-03T07:03:09.692Z"
   },
   {
    "duration": 20,
    "start_time": "2022-05-03T07:03:09.730Z"
   },
   {
    "duration": 24,
    "start_time": "2022-05-03T07:03:09.753Z"
   },
   {
    "duration": 60,
    "start_time": "2022-05-03T07:03:09.780Z"
   },
   {
    "duration": 21,
    "start_time": "2022-05-03T07:03:09.843Z"
   },
   {
    "duration": 5,
    "start_time": "2022-05-03T07:03:18.489Z"
   },
   {
    "duration": 4,
    "start_time": "2022-05-03T07:03:22.464Z"
   },
   {
    "duration": 13,
    "start_time": "2022-05-03T07:03:23.541Z"
   },
   {
    "duration": 16,
    "start_time": "2022-05-03T07:03:25.103Z"
   },
   {
    "duration": 8,
    "start_time": "2022-05-03T07:03:25.991Z"
   },
   {
    "duration": 20,
    "start_time": "2022-05-03T07:03:27.036Z"
   },
   {
    "duration": 5,
    "start_time": "2022-05-03T07:03:28.464Z"
   },
   {
    "duration": 4,
    "start_time": "2022-05-03T07:06:39.359Z"
   },
   {
    "duration": 4,
    "start_time": "2022-05-03T07:07:11.903Z"
   },
   {
    "duration": 5,
    "start_time": "2022-05-03T07:07:18.192Z"
   },
   {
    "duration": 24,
    "start_time": "2022-05-03T07:07:18.200Z"
   },
   {
    "duration": 4,
    "start_time": "2022-05-03T07:07:18.227Z"
   },
   {
    "duration": 124,
    "start_time": "2022-05-03T07:07:18.233Z"
   },
   {
    "duration": 0,
    "start_time": "2022-05-03T07:07:18.361Z"
   },
   {
    "duration": 0,
    "start_time": "2022-05-03T07:07:18.362Z"
   },
   {
    "duration": 0,
    "start_time": "2022-05-03T07:07:18.364Z"
   },
   {
    "duration": 0,
    "start_time": "2022-05-03T07:07:18.365Z"
   },
   {
    "duration": 0,
    "start_time": "2022-05-03T07:07:18.367Z"
   },
   {
    "duration": 0,
    "start_time": "2022-05-03T07:07:18.368Z"
   },
   {
    "duration": 0,
    "start_time": "2022-05-03T07:07:18.370Z"
   },
   {
    "duration": 0,
    "start_time": "2022-05-03T07:07:18.371Z"
   },
   {
    "duration": 0,
    "start_time": "2022-05-03T07:07:18.374Z"
   },
   {
    "duration": 0,
    "start_time": "2022-05-03T07:07:18.375Z"
   },
   {
    "duration": 0,
    "start_time": "2022-05-03T07:07:18.377Z"
   },
   {
    "duration": 0,
    "start_time": "2022-05-03T07:07:18.378Z"
   },
   {
    "duration": 0,
    "start_time": "2022-05-03T07:07:18.380Z"
   },
   {
    "duration": 0,
    "start_time": "2022-05-03T07:07:18.381Z"
   },
   {
    "duration": 0,
    "start_time": "2022-05-03T07:07:18.425Z"
   },
   {
    "duration": 0,
    "start_time": "2022-05-03T07:07:18.427Z"
   },
   {
    "duration": 0,
    "start_time": "2022-05-03T07:07:18.428Z"
   },
   {
    "duration": 0,
    "start_time": "2022-05-03T07:07:18.430Z"
   },
   {
    "duration": 0,
    "start_time": "2022-05-03T07:07:18.432Z"
   },
   {
    "duration": 0,
    "start_time": "2022-05-03T07:07:18.433Z"
   },
   {
    "duration": 0,
    "start_time": "2022-05-03T07:07:18.435Z"
   },
   {
    "duration": 0,
    "start_time": "2022-05-03T07:07:18.436Z"
   },
   {
    "duration": 0,
    "start_time": "2022-05-03T07:07:18.437Z"
   },
   {
    "duration": 0,
    "start_time": "2022-05-03T07:07:18.439Z"
   },
   {
    "duration": 0,
    "start_time": "2022-05-03T07:07:18.440Z"
   },
   {
    "duration": 0,
    "start_time": "2022-05-03T07:07:18.442Z"
   },
   {
    "duration": 0,
    "start_time": "2022-05-03T07:07:18.444Z"
   },
   {
    "duration": 0,
    "start_time": "2022-05-03T07:07:18.445Z"
   },
   {
    "duration": 80,
    "start_time": "2022-05-03T07:07:18.450Z"
   },
   {
    "duration": 4,
    "start_time": "2022-05-03T07:14:38.384Z"
   },
   {
    "duration": 12,
    "start_time": "2022-05-03T07:14:39.197Z"
   },
   {
    "duration": 12,
    "start_time": "2022-05-03T07:14:42.122Z"
   },
   {
    "duration": 4,
    "start_time": "2022-05-03T07:14:45.425Z"
   },
   {
    "duration": 13,
    "start_time": "2022-05-03T07:14:46.181Z"
   },
   {
    "duration": 12,
    "start_time": "2022-05-03T07:14:47.474Z"
   },
   {
    "duration": 8,
    "start_time": "2022-05-03T07:14:50.605Z"
   },
   {
    "duration": 17,
    "start_time": "2022-05-03T07:14:51.689Z"
   },
   {
    "duration": 15,
    "start_time": "2022-05-03T07:14:52.991Z"
   },
   {
    "duration": 5,
    "start_time": "2022-05-03T07:16:17.696Z"
   },
   {
    "duration": 3,
    "start_time": "2022-05-03T07:16:22.310Z"
   },
   {
    "duration": 3,
    "start_time": "2022-05-03T07:16:22.320Z"
   },
   {
    "duration": 21,
    "start_time": "2022-05-03T07:16:22.326Z"
   },
   {
    "duration": 12,
    "start_time": "2022-05-03T07:16:22.349Z"
   },
   {
    "duration": 12,
    "start_time": "2022-05-03T07:16:22.363Z"
   },
   {
    "duration": 19,
    "start_time": "2022-05-03T07:16:22.377Z"
   },
   {
    "duration": 40,
    "start_time": "2022-05-03T07:16:22.398Z"
   },
   {
    "duration": 36,
    "start_time": "2022-05-03T07:16:22.441Z"
   },
   {
    "duration": 18,
    "start_time": "2022-05-03T07:16:22.479Z"
   },
   {
    "duration": 35,
    "start_time": "2022-05-03T07:16:22.500Z"
   },
   {
    "duration": 21,
    "start_time": "2022-05-03T07:16:22.537Z"
   },
   {
    "duration": 7,
    "start_time": "2022-05-03T07:16:22.560Z"
   },
   {
    "duration": 20,
    "start_time": "2022-05-03T07:16:22.569Z"
   },
   {
    "duration": 512,
    "start_time": "2022-05-03T07:16:22.592Z"
   },
   {
    "duration": 356,
    "start_time": "2022-05-03T07:16:23.106Z"
   },
   {
    "duration": 437,
    "start_time": "2022-05-03T07:16:23.464Z"
   },
   {
    "duration": 437,
    "start_time": "2022-05-03T07:16:23.903Z"
   },
   {
    "duration": 329,
    "start_time": "2022-05-03T07:16:24.343Z"
   },
   {
    "duration": 450,
    "start_time": "2022-05-03T07:16:24.674Z"
   },
   {
    "duration": 14,
    "start_time": "2022-05-03T07:16:25.126Z"
   },
   {
    "duration": 218,
    "start_time": "2022-05-03T07:16:25.142Z"
   },
   {
    "duration": 7,
    "start_time": "2022-05-03T07:16:25.362Z"
   },
   {
    "duration": 270,
    "start_time": "2022-05-03T07:16:25.371Z"
   },
   {
    "duration": 6,
    "start_time": "2022-05-03T07:16:25.643Z"
   },
   {
    "duration": 398,
    "start_time": "2022-05-03T07:16:25.654Z"
   },
   {
    "duration": 314,
    "start_time": "2022-05-03T07:16:26.054Z"
   },
   {
    "duration": 26,
    "start_time": "2022-05-03T07:16:26.377Z"
   },
   {
    "duration": 67,
    "start_time": "2022-05-03T07:16:26.407Z"
   },
   {
    "duration": 354,
    "start_time": "2022-05-03T07:16:26.477Z"
   },
   {
    "duration": 15,
    "start_time": "2022-05-03T07:16:26.833Z"
   },
   {
    "duration": 24,
    "start_time": "2022-05-03T07:16:26.850Z"
   },
   {
    "duration": 18,
    "start_time": "2022-05-03T07:16:26.877Z"
   },
   {
    "duration": 56,
    "start_time": "2022-05-03T07:16:26.897Z"
   },
   {
    "duration": 22,
    "start_time": "2022-05-03T07:16:26.956Z"
   },
   {
    "duration": 5,
    "start_time": "2022-05-03T07:33:15.690Z"
   },
   {
    "duration": 18,
    "start_time": "2022-05-03T07:33:16.684Z"
   },
   {
    "duration": 4,
    "start_time": "2022-05-03T07:33:44.690Z"
   },
   {
    "duration": 12,
    "start_time": "2022-05-03T07:33:45.579Z"
   },
   {
    "duration": 12,
    "start_time": "2022-05-03T07:33:47.015Z"
   },
   {
    "duration": 9,
    "start_time": "2022-05-03T07:34:02.541Z"
   },
   {
    "duration": 21,
    "start_time": "2022-05-03T07:34:03.278Z"
   },
   {
    "duration": 17,
    "start_time": "2022-05-03T07:34:05.512Z"
   },
   {
    "duration": 144,
    "start_time": "2022-05-03T07:59:09.820Z"
   },
   {
    "duration": 103,
    "start_time": "2022-05-03T07:59:29.322Z"
   },
   {
    "duration": 115,
    "start_time": "2022-05-03T07:59:48.195Z"
   },
   {
    "duration": 108,
    "start_time": "2022-05-03T07:59:56.656Z"
   },
   {
    "duration": 163,
    "start_time": "2022-05-03T08:00:24.288Z"
   },
   {
    "duration": 23,
    "start_time": "2022-05-03T08:17:34.371Z"
   },
   {
    "duration": 8,
    "start_time": "2022-05-03T08:17:36.747Z"
   },
   {
    "duration": 17,
    "start_time": "2022-05-03T08:17:37.451Z"
   },
   {
    "duration": 19,
    "start_time": "2022-05-03T08:17:43.967Z"
   },
   {
    "duration": 16,
    "start_time": "2022-05-03T08:17:55.227Z"
   },
   {
    "duration": 33,
    "start_time": "2022-05-03T08:18:02.737Z"
   },
   {
    "duration": 16,
    "start_time": "2022-05-03T08:18:13.718Z"
   },
   {
    "duration": 6,
    "start_time": "2022-05-03T08:30:20.210Z"
   },
   {
    "duration": 7,
    "start_time": "2022-05-03T08:31:57.372Z"
   },
   {
    "duration": 6,
    "start_time": "2022-05-03T08:32:54.929Z"
   },
   {
    "duration": 7,
    "start_time": "2022-05-03T08:33:09.961Z"
   },
   {
    "duration": 8,
    "start_time": "2022-05-03T08:34:18.937Z"
   },
   {
    "duration": 44,
    "start_time": "2022-05-03T09:08:14.278Z"
   },
   {
    "duration": 8,
    "start_time": "2022-05-03T09:08:16.604Z"
   },
   {
    "duration": 116,
    "start_time": "2022-05-03T09:10:39.750Z"
   },
   {
    "duration": 108,
    "start_time": "2022-05-03T09:10:53.175Z"
   },
   {
    "duration": 103,
    "start_time": "2022-05-03T09:11:00.512Z"
   },
   {
    "duration": 13,
    "start_time": "2022-05-03T09:11:29.828Z"
   },
   {
    "duration": 15,
    "start_time": "2022-05-03T09:12:12.176Z"
   },
   {
    "duration": 125,
    "start_time": "2022-05-03T14:12:07.942Z"
   },
   {
    "duration": 71,
    "start_time": "2022-05-03T14:39:28.490Z"
   },
   {
    "duration": 1888,
    "start_time": "2022-05-03T14:39:35.544Z"
   },
   {
    "duration": 5,
    "start_time": "2022-05-03T14:39:37.435Z"
   },
   {
    "duration": 21,
    "start_time": "2022-05-03T14:39:37.442Z"
   },
   {
    "duration": 30,
    "start_time": "2022-05-03T14:39:37.467Z"
   },
   {
    "duration": 13,
    "start_time": "2022-05-03T14:39:37.500Z"
   },
   {
    "duration": 27,
    "start_time": "2022-05-03T14:39:37.515Z"
   },
   {
    "duration": 21,
    "start_time": "2022-05-03T14:39:37.545Z"
   },
   {
    "duration": 47,
    "start_time": "2022-05-03T14:39:37.569Z"
   },
   {
    "duration": 15,
    "start_time": "2022-05-03T14:39:37.619Z"
   },
   {
    "duration": 22,
    "start_time": "2022-05-03T14:39:37.638Z"
   },
   {
    "duration": 23,
    "start_time": "2022-05-03T14:39:37.663Z"
   },
   {
    "duration": 45,
    "start_time": "2022-05-03T14:39:37.688Z"
   },
   {
    "duration": 29,
    "start_time": "2022-05-03T14:39:37.736Z"
   },
   {
    "duration": 14,
    "start_time": "2022-05-03T14:39:37.768Z"
   },
   {
    "duration": 28,
    "start_time": "2022-05-03T14:39:37.784Z"
   },
   {
    "duration": 15,
    "start_time": "2022-05-03T14:39:37.815Z"
   },
   {
    "duration": 13,
    "start_time": "2022-05-03T14:39:37.832Z"
   },
   {
    "duration": 32,
    "start_time": "2022-05-03T14:39:37.847Z"
   },
   {
    "duration": 506,
    "start_time": "2022-05-03T14:39:37.881Z"
   },
   {
    "duration": 518,
    "start_time": "2022-05-03T14:39:38.389Z"
   },
   {
    "duration": 357,
    "start_time": "2022-05-03T14:39:38.910Z"
   },
   {
    "duration": 523,
    "start_time": "2022-05-03T14:39:39.270Z"
   },
   {
    "duration": 434,
    "start_time": "2022-05-03T14:39:39.796Z"
   },
   {
    "duration": 4,
    "start_time": "2022-05-03T14:47:56.228Z"
   },
   {
    "duration": 3,
    "start_time": "2022-05-03T14:48:02.430Z"
   },
   {
    "duration": 5,
    "start_time": "2022-05-03T14:48:08.739Z"
   },
   {
    "duration": 4,
    "start_time": "2022-05-03T14:48:13.614Z"
   },
   {
    "duration": 8,
    "start_time": "2022-05-03T14:48:13.622Z"
   },
   {
    "duration": 20,
    "start_time": "2022-05-03T14:48:13.634Z"
   },
   {
    "duration": 14,
    "start_time": "2022-05-03T14:48:13.656Z"
   },
   {
    "duration": 11,
    "start_time": "2022-05-03T14:48:13.674Z"
   },
   {
    "duration": 49,
    "start_time": "2022-05-03T14:48:13.688Z"
   },
   {
    "duration": 19,
    "start_time": "2022-05-03T14:48:13.740Z"
   },
   {
    "duration": 40,
    "start_time": "2022-05-03T14:48:13.761Z"
   },
   {
    "duration": 18,
    "start_time": "2022-05-03T14:48:13.825Z"
   },
   {
    "duration": 22,
    "start_time": "2022-05-03T14:48:13.846Z"
   },
   {
    "duration": 65,
    "start_time": "2022-05-03T14:48:13.874Z"
   },
   {
    "duration": 23,
    "start_time": "2022-05-03T14:48:13.942Z"
   },
   {
    "duration": 33,
    "start_time": "2022-05-03T14:48:13.967Z"
   },
   {
    "duration": 25,
    "start_time": "2022-05-03T14:48:14.004Z"
   },
   {
    "duration": 25,
    "start_time": "2022-05-03T14:48:14.032Z"
   },
   {
    "duration": 11,
    "start_time": "2022-05-03T14:48:14.060Z"
   },
   {
    "duration": 15,
    "start_time": "2022-05-03T14:48:14.074Z"
   },
   {
    "duration": 45,
    "start_time": "2022-05-03T14:48:14.091Z"
   },
   {
    "duration": 476,
    "start_time": "2022-05-03T14:48:14.138Z"
   },
   {
    "duration": 382,
    "start_time": "2022-05-03T14:48:14.616Z"
   },
   {
    "duration": 439,
    "start_time": "2022-05-03T14:48:15.000Z"
   },
   {
    "duration": 412,
    "start_time": "2022-05-03T14:48:15.442Z"
   },
   {
    "duration": 314,
    "start_time": "2022-05-03T14:48:15.857Z"
   },
   {
    "duration": 443,
    "start_time": "2022-05-03T14:48:16.173Z"
   },
   {
    "duration": 17,
    "start_time": "2022-05-03T14:48:16.618Z"
   },
   {
    "duration": 224,
    "start_time": "2022-05-03T14:48:16.638Z"
   },
   {
    "duration": 5,
    "start_time": "2022-05-03T14:48:16.864Z"
   },
   {
    "duration": 264,
    "start_time": "2022-05-03T14:48:16.871Z"
   },
   {
    "duration": 6,
    "start_time": "2022-05-03T14:48:17.139Z"
   },
   {
    "duration": 400,
    "start_time": "2022-05-03T14:48:17.147Z"
   },
   {
    "duration": 277,
    "start_time": "2022-05-03T14:48:17.549Z"
   },
   {
    "duration": 10,
    "start_time": "2022-05-03T14:48:17.828Z"
   },
   {
    "duration": 8,
    "start_time": "2022-05-03T14:48:17.840Z"
   },
   {
    "duration": 337,
    "start_time": "2022-05-03T14:48:17.850Z"
   },
   {
    "duration": 14,
    "start_time": "2022-05-03T14:48:18.189Z"
   },
   {
    "duration": 30,
    "start_time": "2022-05-03T14:48:18.205Z"
   },
   {
    "duration": 12,
    "start_time": "2022-05-03T14:48:18.237Z"
   },
   {
    "duration": 39,
    "start_time": "2022-05-03T14:48:18.251Z"
   },
   {
    "duration": 46,
    "start_time": "2022-05-03T14:48:18.292Z"
   },
   {
    "duration": 473,
    "start_time": "2022-05-03T14:57:48.220Z"
   },
   {
    "duration": 477,
    "start_time": "2022-05-03T14:58:03.004Z"
   },
   {
    "duration": 333,
    "start_time": "2022-05-03T14:59:11.610Z"
   },
   {
    "duration": 414,
    "start_time": "2022-05-03T15:01:18.451Z"
   },
   {
    "duration": 339,
    "start_time": "2022-05-03T15:03:31.141Z"
   },
   {
    "duration": 263,
    "start_time": "2022-05-03T15:04:36.673Z"
   },
   {
    "duration": 283,
    "start_time": "2022-05-03T16:00:48.871Z"
   },
   {
    "duration": 294,
    "start_time": "2022-05-03T16:04:02.318Z"
   },
   {
    "duration": 310,
    "start_time": "2022-05-03T16:05:09.718Z"
   },
   {
    "duration": 321,
    "start_time": "2022-05-03T16:06:26.929Z"
   },
   {
    "duration": 14,
    "start_time": "2022-05-03T16:08:19.169Z"
   },
   {
    "duration": 101,
    "start_time": "2022-05-03T16:27:01.281Z"
   },
   {
    "duration": 20,
    "start_time": "2022-05-03T16:28:07.752Z"
   },
   {
    "duration": 20,
    "start_time": "2022-05-03T16:28:23.216Z"
   },
   {
    "duration": 21,
    "start_time": "2022-05-03T16:28:31.753Z"
   },
   {
    "duration": 20,
    "start_time": "2022-05-03T16:32:13.410Z"
   },
   {
    "duration": 6,
    "start_time": "2022-05-03T16:39:03.093Z"
   },
   {
    "duration": 12,
    "start_time": "2022-05-03T16:39:56.008Z"
   },
   {
    "duration": 26,
    "start_time": "2022-05-03T16:40:25.116Z"
   },
   {
    "duration": 20,
    "start_time": "2022-05-03T16:44:15.600Z"
   },
   {
    "duration": 7,
    "start_time": "2022-05-03T16:48:11.205Z"
   },
   {
    "duration": 123,
    "start_time": "2022-05-03T16:48:22.834Z"
   },
   {
    "duration": 21,
    "start_time": "2022-05-03T16:48:47.284Z"
   },
   {
    "duration": 309,
    "start_time": "2022-05-03T16:58:43.232Z"
   },
   {
    "duration": 23,
    "start_time": "2022-05-03T17:02:31.334Z"
   },
   {
    "duration": 30,
    "start_time": "2022-05-03T17:04:44.830Z"
   },
   {
    "duration": 20,
    "start_time": "2022-05-03T17:07:39.953Z"
   },
   {
    "duration": 20,
    "start_time": "2022-05-03T17:07:54.153Z"
   },
   {
    "duration": 30,
    "start_time": "2022-05-03T17:08:15.332Z"
   },
   {
    "duration": 20,
    "start_time": "2022-05-03T17:08:34.509Z"
   },
   {
    "duration": 20,
    "start_time": "2022-05-03T17:08:52.857Z"
   },
   {
    "duration": 7,
    "start_time": "2022-05-03T17:09:58.092Z"
   },
   {
    "duration": 4,
    "start_time": "2022-05-03T17:10:27.103Z"
   },
   {
    "duration": 21,
    "start_time": "2022-05-03T17:10:44.694Z"
   },
   {
    "duration": 20,
    "start_time": "2022-05-03T17:11:07.956Z"
   },
   {
    "duration": 23,
    "start_time": "2022-05-03T17:13:16.543Z"
   },
   {
    "duration": 19,
    "start_time": "2022-05-03T17:13:36.348Z"
   },
   {
    "duration": 47,
    "start_time": "2022-05-03T17:15:34.016Z"
   },
   {
    "duration": 21,
    "start_time": "2022-05-03T17:16:53.438Z"
   },
   {
    "duration": 1558,
    "start_time": "2022-05-04T19:11:31.716Z"
   },
   {
    "duration": 4,
    "start_time": "2022-05-04T19:11:33.276Z"
   },
   {
    "duration": 16,
    "start_time": "2022-05-04T19:11:33.281Z"
   },
   {
    "duration": 26,
    "start_time": "2022-05-04T19:11:33.299Z"
   },
   {
    "duration": 15,
    "start_time": "2022-05-04T19:11:33.330Z"
   },
   {
    "duration": 15,
    "start_time": "2022-05-04T19:11:33.347Z"
   },
   {
    "duration": 24,
    "start_time": "2022-05-04T19:11:33.364Z"
   },
   {
    "duration": 44,
    "start_time": "2022-05-04T19:11:33.390Z"
   },
   {
    "duration": 15,
    "start_time": "2022-05-04T19:11:33.436Z"
   },
   {
    "duration": 12,
    "start_time": "2022-05-04T19:11:33.454Z"
   },
   {
    "duration": 18,
    "start_time": "2022-05-04T19:11:33.468Z"
   },
   {
    "duration": 26,
    "start_time": "2022-05-04T19:11:33.488Z"
   },
   {
    "duration": 22,
    "start_time": "2022-05-04T19:11:33.518Z"
   },
   {
    "duration": 6,
    "start_time": "2022-05-04T19:11:33.542Z"
   },
   {
    "duration": 14,
    "start_time": "2022-05-04T19:11:33.550Z"
   },
   {
    "duration": 7,
    "start_time": "2022-05-04T19:11:33.566Z"
   },
   {
    "duration": 12,
    "start_time": "2022-05-04T19:11:33.575Z"
   },
   {
    "duration": 31,
    "start_time": "2022-05-04T19:11:33.589Z"
   },
   {
    "duration": 342,
    "start_time": "2022-05-04T19:11:33.622Z"
   },
   {
    "duration": 384,
    "start_time": "2022-05-04T19:11:33.966Z"
   },
   {
    "duration": 289,
    "start_time": "2022-05-04T19:11:34.352Z"
   },
   {
    "duration": 674,
    "start_time": "2022-05-04T19:11:34.643Z"
   },
   {
    "duration": 600,
    "start_time": "2022-05-04T19:11:35.322Z"
   },
   {
    "duration": 782,
    "start_time": "2022-05-04T19:11:35.930Z"
   },
   {
    "duration": 18,
    "start_time": "2022-05-04T19:11:36.714Z"
   },
   {
    "duration": 357,
    "start_time": "2022-05-04T19:11:36.735Z"
   },
   {
    "duration": 6,
    "start_time": "2022-05-04T19:11:37.107Z"
   },
   {
    "duration": 200,
    "start_time": "2022-05-04T19:11:37.117Z"
   },
   {
    "duration": 7,
    "start_time": "2022-05-04T19:11:37.319Z"
   },
   {
    "duration": 259,
    "start_time": "2022-05-04T19:11:37.328Z"
   },
   {
    "duration": 163,
    "start_time": "2022-05-04T19:11:37.589Z"
   },
   {
    "duration": 9,
    "start_time": "2022-05-04T19:11:37.754Z"
   },
   {
    "duration": 196,
    "start_time": "2022-05-04T19:11:37.764Z"
   },
   {
    "duration": 10,
    "start_time": "2022-05-04T19:11:37.962Z"
   },
   {
    "duration": 10,
    "start_time": "2022-05-04T19:11:37.973Z"
   },
   {
    "duration": 39,
    "start_time": "2022-05-04T19:11:37.984Z"
   },
   {
    "duration": 37,
    "start_time": "2022-05-04T19:11:38.025Z"
   },
   {
    "duration": 16,
    "start_time": "2022-05-04T19:11:38.064Z"
   },
   {
    "duration": 12,
    "start_time": "2022-05-04T19:12:25.923Z"
   },
   {
    "duration": 12,
    "start_time": "2022-05-04T19:12:48.029Z"
   },
   {
    "duration": 9,
    "start_time": "2022-05-04T19:13:03.446Z"
   },
   {
    "duration": 8,
    "start_time": "2022-05-04T19:16:15.835Z"
   }
  ],
  "kernelspec": {
   "display_name": "Python 3 (ipykernel)",
   "language": "python",
   "name": "python3"
  },
  "language_info": {
   "codemirror_mode": {
    "name": "ipython",
    "version": 3
   },
   "file_extension": ".py",
   "mimetype": "text/x-python",
   "name": "python",
   "nbconvert_exporter": "python",
   "pygments_lexer": "ipython3",
   "version": "3.9.5"
  },
  "toc": {
   "base_numbering": 1,
   "nav_menu": {},
   "number_sections": true,
   "sideBar": true,
   "skip_h1_title": true,
   "title_cell": "Table of Contents",
   "title_sidebar": "Contents",
   "toc_cell": false,
   "toc_position": {
    "height": "calc(100% - 180px)",
    "left": "10px",
    "top": "150px",
    "width": "237px"
   },
   "toc_section_display": true,
   "toc_window_display": true
  }
 },
 "nbformat": 4,
 "nbformat_minor": 2
}
