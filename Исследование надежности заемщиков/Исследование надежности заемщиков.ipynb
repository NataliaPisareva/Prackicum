{
 "cells": [
  {
   "cell_type": "markdown",
   "metadata": {},
   "source": [
    "# Исследование надёжности заёмщиков\n",
    "\n",
    "Заказчик — кредитный отдел банка. Нужно разобраться, влияет ли семейное положение и количество детей клиента на факт погашения кредита в срок. Входные данные от банка — статистика о платёжеспособности клиентов.\n",
    "\n",
    "Результаты исследования будут учтены при построении модели **кредитного скоринга** — специальной системы, которая оценивает способность потенциального заёмщика вернуть кредит банку.\n",
    "\n",
    "**Цель исследования** - проверить влияет ли семейное положение и количество детей клиента на факт погашения кредита в срок\n"
   ]
  },
  {
   "cell_type": "markdown",
   "metadata": {},
   "source": [
    "## Шаг 1. Откройте файл с данными и изучите общую информацию"
   ]
  },
  {
   "cell_type": "code",
   "execution_count": 174,
   "metadata": {},
   "outputs": [],
   "source": [
    "import pandas as pd"
   ]
  },
  {
   "cell_type": "code",
   "execution_count": 175,
   "metadata": {
    "scrolled": true
   },
   "outputs": [
    {
     "data": {
      "text/html": [
       "<div>\n",
       "<style scoped>\n",
       "    .dataframe tbody tr th:only-of-type {\n",
       "        vertical-align: middle;\n",
       "    }\n",
       "\n",
       "    .dataframe tbody tr th {\n",
       "        vertical-align: top;\n",
       "    }\n",
       "\n",
       "    .dataframe thead th {\n",
       "        text-align: right;\n",
       "    }\n",
       "</style>\n",
       "<table border=\"1\" class=\"dataframe\">\n",
       "  <thead>\n",
       "    <tr style=\"text-align: right;\">\n",
       "      <th></th>\n",
       "      <th>children</th>\n",
       "      <th>days_employed</th>\n",
       "      <th>dob_years</th>\n",
       "      <th>education</th>\n",
       "      <th>education_id</th>\n",
       "      <th>family_status</th>\n",
       "      <th>family_status_id</th>\n",
       "      <th>gender</th>\n",
       "      <th>income_type</th>\n",
       "      <th>debt</th>\n",
       "      <th>total_income</th>\n",
       "      <th>purpose</th>\n",
       "    </tr>\n",
       "  </thead>\n",
       "  <tbody>\n",
       "    <tr>\n",
       "      <td>0</td>\n",
       "      <td>1</td>\n",
       "      <td>-8437.673028</td>\n",
       "      <td>42</td>\n",
       "      <td>высшее</td>\n",
       "      <td>0</td>\n",
       "      <td>женат / замужем</td>\n",
       "      <td>0</td>\n",
       "      <td>F</td>\n",
       "      <td>сотрудник</td>\n",
       "      <td>0</td>\n",
       "      <td>253875.639453</td>\n",
       "      <td>покупка жилья</td>\n",
       "    </tr>\n",
       "    <tr>\n",
       "      <td>1</td>\n",
       "      <td>1</td>\n",
       "      <td>-4024.803754</td>\n",
       "      <td>36</td>\n",
       "      <td>среднее</td>\n",
       "      <td>1</td>\n",
       "      <td>женат / замужем</td>\n",
       "      <td>0</td>\n",
       "      <td>F</td>\n",
       "      <td>сотрудник</td>\n",
       "      <td>0</td>\n",
       "      <td>112080.014102</td>\n",
       "      <td>приобретение автомобиля</td>\n",
       "    </tr>\n",
       "    <tr>\n",
       "      <td>2</td>\n",
       "      <td>0</td>\n",
       "      <td>-5623.422610</td>\n",
       "      <td>33</td>\n",
       "      <td>Среднее</td>\n",
       "      <td>1</td>\n",
       "      <td>женат / замужем</td>\n",
       "      <td>0</td>\n",
       "      <td>M</td>\n",
       "      <td>сотрудник</td>\n",
       "      <td>0</td>\n",
       "      <td>145885.952297</td>\n",
       "      <td>покупка жилья</td>\n",
       "    </tr>\n",
       "    <tr>\n",
       "      <td>3</td>\n",
       "      <td>3</td>\n",
       "      <td>-4124.747207</td>\n",
       "      <td>32</td>\n",
       "      <td>среднее</td>\n",
       "      <td>1</td>\n",
       "      <td>женат / замужем</td>\n",
       "      <td>0</td>\n",
       "      <td>M</td>\n",
       "      <td>сотрудник</td>\n",
       "      <td>0</td>\n",
       "      <td>267628.550329</td>\n",
       "      <td>дополнительное образование</td>\n",
       "    </tr>\n",
       "    <tr>\n",
       "      <td>4</td>\n",
       "      <td>0</td>\n",
       "      <td>340266.072047</td>\n",
       "      <td>53</td>\n",
       "      <td>среднее</td>\n",
       "      <td>1</td>\n",
       "      <td>гражданский брак</td>\n",
       "      <td>1</td>\n",
       "      <td>F</td>\n",
       "      <td>пенсионер</td>\n",
       "      <td>0</td>\n",
       "      <td>158616.077870</td>\n",
       "      <td>сыграть свадьбу</td>\n",
       "    </tr>\n",
       "    <tr>\n",
       "      <td>5</td>\n",
       "      <td>0</td>\n",
       "      <td>-926.185831</td>\n",
       "      <td>27</td>\n",
       "      <td>высшее</td>\n",
       "      <td>0</td>\n",
       "      <td>гражданский брак</td>\n",
       "      <td>1</td>\n",
       "      <td>M</td>\n",
       "      <td>компаньон</td>\n",
       "      <td>0</td>\n",
       "      <td>255763.565419</td>\n",
       "      <td>покупка жилья</td>\n",
       "    </tr>\n",
       "    <tr>\n",
       "      <td>6</td>\n",
       "      <td>0</td>\n",
       "      <td>-2879.202052</td>\n",
       "      <td>43</td>\n",
       "      <td>высшее</td>\n",
       "      <td>0</td>\n",
       "      <td>женат / замужем</td>\n",
       "      <td>0</td>\n",
       "      <td>F</td>\n",
       "      <td>компаньон</td>\n",
       "      <td>0</td>\n",
       "      <td>240525.971920</td>\n",
       "      <td>операции с жильем</td>\n",
       "    </tr>\n",
       "    <tr>\n",
       "      <td>7</td>\n",
       "      <td>0</td>\n",
       "      <td>-152.779569</td>\n",
       "      <td>50</td>\n",
       "      <td>СРЕДНЕЕ</td>\n",
       "      <td>1</td>\n",
       "      <td>женат / замужем</td>\n",
       "      <td>0</td>\n",
       "      <td>M</td>\n",
       "      <td>сотрудник</td>\n",
       "      <td>0</td>\n",
       "      <td>135823.934197</td>\n",
       "      <td>образование</td>\n",
       "    </tr>\n",
       "    <tr>\n",
       "      <td>8</td>\n",
       "      <td>2</td>\n",
       "      <td>-6929.865299</td>\n",
       "      <td>35</td>\n",
       "      <td>ВЫСШЕЕ</td>\n",
       "      <td>0</td>\n",
       "      <td>гражданский брак</td>\n",
       "      <td>1</td>\n",
       "      <td>F</td>\n",
       "      <td>сотрудник</td>\n",
       "      <td>0</td>\n",
       "      <td>95856.832424</td>\n",
       "      <td>на проведение свадьбы</td>\n",
       "    </tr>\n",
       "    <tr>\n",
       "      <td>9</td>\n",
       "      <td>0</td>\n",
       "      <td>-2188.756445</td>\n",
       "      <td>41</td>\n",
       "      <td>среднее</td>\n",
       "      <td>1</td>\n",
       "      <td>женат / замужем</td>\n",
       "      <td>0</td>\n",
       "      <td>M</td>\n",
       "      <td>сотрудник</td>\n",
       "      <td>0</td>\n",
       "      <td>144425.938277</td>\n",
       "      <td>покупка жилья для семьи</td>\n",
       "    </tr>\n",
       "  </tbody>\n",
       "</table>\n",
       "</div>"
      ],
      "text/plain": [
       "   children  days_employed  dob_years education  education_id  \\\n",
       "0         1   -8437.673028         42    высшее             0   \n",
       "1         1   -4024.803754         36   среднее             1   \n",
       "2         0   -5623.422610         33   Среднее             1   \n",
       "3         3   -4124.747207         32   среднее             1   \n",
       "4         0  340266.072047         53   среднее             1   \n",
       "5         0    -926.185831         27    высшее             0   \n",
       "6         0   -2879.202052         43    высшее             0   \n",
       "7         0    -152.779569         50   СРЕДНЕЕ             1   \n",
       "8         2   -6929.865299         35    ВЫСШЕЕ             0   \n",
       "9         0   -2188.756445         41   среднее             1   \n",
       "\n",
       "      family_status  family_status_id gender income_type  debt   total_income  \\\n",
       "0   женат / замужем                 0      F   сотрудник     0  253875.639453   \n",
       "1   женат / замужем                 0      F   сотрудник     0  112080.014102   \n",
       "2   женат / замужем                 0      M   сотрудник     0  145885.952297   \n",
       "3   женат / замужем                 0      M   сотрудник     0  267628.550329   \n",
       "4  гражданский брак                 1      F   пенсионер     0  158616.077870   \n",
       "5  гражданский брак                 1      M   компаньон     0  255763.565419   \n",
       "6   женат / замужем                 0      F   компаньон     0  240525.971920   \n",
       "7   женат / замужем                 0      M   сотрудник     0  135823.934197   \n",
       "8  гражданский брак                 1      F   сотрудник     0   95856.832424   \n",
       "9   женат / замужем                 0      M   сотрудник     0  144425.938277   \n",
       "\n",
       "                      purpose  \n",
       "0               покупка жилья  \n",
       "1     приобретение автомобиля  \n",
       "2               покупка жилья  \n",
       "3  дополнительное образование  \n",
       "4             сыграть свадьбу  \n",
       "5               покупка жилья  \n",
       "6           операции с жильем  \n",
       "7                 образование  \n",
       "8       на проведение свадьбы  \n",
       "9     покупка жилья для семьи  "
      ]
     },
     "metadata": {},
     "output_type": "display_data"
    }
   ],
   "source": [
    "#import pandas as pd\n",
    "data = pd.read_csv('/datasets/data.csv') # чтение файла с данными и сохранение их датафрейме \n",
    "display(data.head(10)) # вывод первых 10 строк"
   ]
  },
  {
   "cell_type": "code",
   "execution_count": 176,
   "metadata": {
    "scrolled": true
   },
   "outputs": [
    {
     "name": "stdout",
     "output_type": "stream",
     "text": [
      "<class 'pandas.core.frame.DataFrame'>\n",
      "RangeIndex: 21525 entries, 0 to 21524\n",
      "Data columns (total 12 columns):\n",
      "children            21525 non-null int64\n",
      "days_employed       19351 non-null float64\n",
      "dob_years           21525 non-null int64\n",
      "education           21525 non-null object\n",
      "education_id        21525 non-null int64\n",
      "family_status       21525 non-null object\n",
      "family_status_id    21525 non-null int64\n",
      "gender              21525 non-null object\n",
      "income_type         21525 non-null object\n",
      "debt                21525 non-null int64\n",
      "total_income        19351 non-null float64\n",
      "purpose             21525 non-null object\n",
      "dtypes: float64(2), int64(5), object(5)\n",
      "memory usage: 2.0+ MB\n"
     ]
    }
   ],
   "source": [
    "data.info() # вывод общей информации о таблице данных"
   ]
  },
  {
   "cell_type": "markdown",
   "metadata": {},
   "source": [
    "**Вывод**\n",
    "В таблице 12 столбцов:\n",
    "* `children` — количество детей в семье;\n",
    "* `days_employed` — трудовой стаж в днях;  \n",
    "* `dob_years` — возраст клиента;\n",
    "* `education` — образование клиента;\n",
    "* `education_id` — идентификатор образования;\n",
    "* `family_status` — семейное положение;\n",
    "* `family_status_id` — идентификатор семейного положения;\n",
    "* `gender` — пол клиента;\n",
    "* `income_type` — тип занятости;\n",
    "* `debt` — имел ли задолжность по возврату кредитов;\n",
    "* `total_income` — доход в месяц;\n",
    "* `purpose` — цель получения кредита.\n",
    "\n",
    "Количество значений в столбцах различается-значит есть пропуски, которые необходимо обработать.\n",
    "Также данные по трудовому стажу со знаком минус, и указаны в днях, что довольно сложно воспринимать(в некоторых столбцах странные значения н-р: 340266.072047/365 = 932 года, считаю что есть ошибка заполнения данных).\n",
    "Данные об образовании заполнены с разным регистром.\n",
    "Данные по трудовому стажу и доходу указаны в дробных числах, для восприятия информации необходимо перевести их в целочисленный тип int."
   ]
  },
  {
   "cell_type": "markdown",
   "metadata": {},
   "source": [
    "## Шаг 2. Предобработка данных"
   ]
  },
  {
   "cell_type": "markdown",
   "metadata": {},
   "source": [
    "### Обработка пропусков"
   ]
  },
  {
   "cell_type": "code",
   "execution_count": 177,
   "metadata": {},
   "outputs": [
    {
     "data": {
      "text/plain": [
       "children               0\n",
       "days_employed       2174\n",
       "dob_years              0\n",
       "education              0\n",
       "education_id           0\n",
       "family_status          0\n",
       "family_status_id       0\n",
       "gender                 0\n",
       "income_type            0\n",
       "debt                   0\n",
       "total_income        2174\n",
       "purpose                0\n",
       "dtype: int64"
      ]
     },
     "metadata": {},
     "output_type": "display_data"
    }
   ],
   "source": [
    "display(data.isna().sum()) # вывод количества пропусков"
   ]
  },
  {
   "cell_type": "markdown",
   "metadata": {},
   "source": [
    "**Заполню пропуски в столбце \"доход\" с помощью loc с группировкой по одной переменной.**"
   ]
  },
  {
   "cell_type": "code",
   "execution_count": 178,
   "metadata": {},
   "outputs": [
    {
     "name": "stdout",
     "output_type": "stream",
     "text": [
      "сотрудник 142594.39684740017\n",
      "пенсионер 118514.48641164352\n",
      "компаньон 172357.95096577113\n",
      "госслужащий 150447.9352830068\n",
      "безработный 131339.7516762103\n",
      "предприниматель 499163.1449470857\n",
      "студент 98201.62531401133\n",
      "в декрете 53829.13072905995\n",
      "0\n"
     ]
    }
   ],
   "source": [
    "for income_type in data['income_type'].unique(): #с помощью цикла посчитаем медианый доход для каждого типа занятости\n",
    "    median_income = data.loc[data['income_type'] == income_type, 'total_income'].median()\n",
    "    print(income_type, median_income)# вывод медианного дохода для каждой группы занятости\n",
    "    data.loc[(data['total_income'].isna()) & (data['income_type'] == income_type), 'total_income'] = median_income #выбираем ячейки с пропусками и типом занятости в цикле и заменяем соответсвующую ячейку с доходом на медианный доход\n",
    "print(data['total_income'].isna().sum()) # проверяем количество пропусков в столбце \"доход\"            "
   ]
  },
  {
   "cell_type": "code",
   "execution_count": 179,
   "metadata": {
    "scrolled": true
   },
   "outputs": [
    {
     "name": "stdout",
     "output_type": "stream",
     "text": [
      "6.0115631969279315\n"
     ]
    },
    {
     "data": {
      "text/plain": [
       "children            0\n",
       "years_employed      0\n",
       "dob_years           0\n",
       "education           0\n",
       "education_id        0\n",
       "family_status       0\n",
       "family_status_id    0\n",
       "gender              0\n",
       "income_type         0\n",
       "debt                0\n",
       "total_income        0\n",
       "purpose             0\n",
       "dtype: int64"
      ]
     },
     "metadata": {},
     "output_type": "display_data"
    }
   ],
   "source": [
    "data['days_employed'] = data['days_employed'].abs() # вывод значений столбца трудовой стаж по модулю\n",
    "data['days_employed'] = data['days_employed'] / 365 # переведем трудовой стаж с дней в годы\n",
    "data = data.rename(columns = {'days_employed': 'years_employed'}) # заменим название столбца трудовой стаж в днях на трудовой стаж в годах\n",
    "print(data['years_employed'].median()) # медианный трудовой стаж составил 6.01 лет\n",
    "\n",
    "\n",
    "data['years_employed'] = data['years_employed'].fillna(data['years_employed'].median()) # заменяем пропуски на медианный трудовой стаж\n",
    "\n",
    "display(data.isna().sum()) # проверяем что пропусков больше не осталось"
   ]
  },
  {
   "cell_type": "markdown",
   "metadata": {},
   "source": [
    "**добавила пересчет медианного дохода для разных типов занятости"
   ]
  },
  {
   "cell_type": "markdown",
   "metadata": {},
   "source": [
    "**Вывод**"
   ]
  },
  {
   "cell_type": "markdown",
   "metadata": {},
   "source": [
    "Пропуски были только в столбцах трудовой стаж и доход в месяц. Считаю, что для получения одобрения по кредиту эти данные обязательно должны были заполняться сотрудником банка, предположу что пропуски появились из-за утери данных. Приму способ их заполнения как медианный, потому как в данных по трудовому стажу есть выбросы по значениям, соответственно метод mean() не даст объективной картины, и также для оценки среднего дохода этот метод отражает более реальные показатели. "
   ]
  },
  {
   "cell_type": "markdown",
   "metadata": {},
   "source": [
    "### Замена типа данных"
   ]
  },
  {
   "cell_type": "code",
   "execution_count": 180,
   "metadata": {},
   "outputs": [],
   "source": [
    "# для замены типа данных будем использовать метод astype()\n",
    "data['years_employed'] = data['years_employed'].astype('int') # заменяем тип данных столбца трудовой стаж с float на int\n",
    "data['total_income'] = data['total_income'].astype('int') # заменяем тип данных столбца доход с float на int\n"
   ]
  },
  {
   "cell_type": "code",
   "execution_count": 181,
   "metadata": {},
   "outputs": [
    {
     "name": "stdout",
     "output_type": "stream",
     "text": [
      "<class 'pandas.core.frame.DataFrame'>\n",
      "RangeIndex: 21525 entries, 0 to 21524\n",
      "Data columns (total 12 columns):\n",
      "children            21525 non-null int64\n",
      "years_employed      21525 non-null int64\n",
      "dob_years           21525 non-null int64\n",
      "education           21525 non-null object\n",
      "education_id        21525 non-null int64\n",
      "family_status       21525 non-null object\n",
      "family_status_id    21525 non-null int64\n",
      "gender              21525 non-null object\n",
      "income_type         21525 non-null object\n",
      "debt                21525 non-null int64\n",
      "total_income        21525 non-null int64\n",
      "purpose             21525 non-null object\n",
      "dtypes: int64(7), object(5)\n",
      "memory usage: 2.0+ MB\n"
     ]
    }
   ],
   "source": [
    "data.info() # проверяем что тип данных в этих двух столбцах изменился\n"
   ]
  },
  {
   "cell_type": "markdown",
   "metadata": {},
   "source": [
    "**Вывод**"
   ]
  },
  {
   "cell_type": "markdown",
   "metadata": {},
   "source": [
    "После замены типа данных на целочисленный таблица приобретает более наглядный вид."
   ]
  },
  {
   "cell_type": "markdown",
   "metadata": {},
   "source": [
    "### Обработка дубликатов"
   ]
  },
  {
   "cell_type": "code",
   "execution_count": 182,
   "metadata": {},
   "outputs": [
    {
     "data": {
      "text/plain": [
       "54"
      ]
     },
     "metadata": {},
     "output_type": "display_data"
    }
   ],
   "source": [
    "display(data.duplicated().sum()) # подсчёт явных дубликатов\n"
   ]
  },
  {
   "cell_type": "markdown",
   "metadata": {},
   "source": [
    "Дубликатов 54, на всю выборку всего 0,25 %. Предоложим, что они появились из-за повторного внесения данных, но чисто теоретически можно предположить, что среди клиентов банка могли быть клиентами с одинаковыми анкетными данныеми. Считаю, что дубликаты можно удалить не просматривая, удаление не повлияет на результаты исследования из-за маленького количества. "
   ]
  },
  {
   "cell_type": "code",
   "execution_count": 183,
   "metadata": {},
   "outputs": [],
   "source": [
    "data = data.drop_duplicates().reset_index(drop = True) # удаление явных дубликатов (с удалением старых индексов и формированием новых)\n"
   ]
  },
  {
   "cell_type": "code",
   "execution_count": 184,
   "metadata": {},
   "outputs": [
    {
     "data": {
      "text/plain": [
       "0"
      ]
     },
     "metadata": {},
     "output_type": "display_data"
    }
   ],
   "source": [
    "display(data.duplicated().sum()) # проверка на отсутствие дубликатов\n"
   ]
  },
  {
   "cell_type": "markdown",
   "metadata": {},
   "source": [
    "Теперь поищем неявные дубликаты. С помощью метода value_counts() в столбце \"семейное положение\" и столбце \"цель кредита\" (выбираю только эти столбцы, потому что их данные нужны для ответа на вопросы исследования) проанализируем значения."
   ]
  },
  {
   "cell_type": "code",
   "execution_count": 185,
   "metadata": {},
   "outputs": [
    {
     "data": {
      "text/plain": [
       "array(['женат / замужем', 'гражданский брак', 'вдовец / вдова',\n",
       "       'в разводе', 'Не женат / не замужем'], dtype=object)"
      ]
     },
     "metadata": {},
     "output_type": "display_data"
    }
   ],
   "source": [
    "display(data['family_status'].unique()) # вывод уникальныx значений столбца \"цель кредита\""
   ]
  },
  {
   "cell_type": "code",
   "execution_count": 186,
   "metadata": {},
   "outputs": [
    {
     "data": {
      "text/html": [
       "<div>\n",
       "<style scoped>\n",
       "    .dataframe tbody tr th:only-of-type {\n",
       "        vertical-align: middle;\n",
       "    }\n",
       "\n",
       "    .dataframe tbody tr th {\n",
       "        vertical-align: top;\n",
       "    }\n",
       "\n",
       "    .dataframe thead th {\n",
       "        text-align: right;\n",
       "    }\n",
       "</style>\n",
       "<table border=\"1\" class=\"dataframe\">\n",
       "  <thead>\n",
       "    <tr style=\"text-align: right;\">\n",
       "      <th></th>\n",
       "      <th>purpose</th>\n",
       "    </tr>\n",
       "  </thead>\n",
       "  <tbody>\n",
       "    <tr>\n",
       "      <td>свадьба</td>\n",
       "      <td>793</td>\n",
       "    </tr>\n",
       "    <tr>\n",
       "      <td>на проведение свадьбы</td>\n",
       "      <td>773</td>\n",
       "    </tr>\n",
       "    <tr>\n",
       "      <td>сыграть свадьбу</td>\n",
       "      <td>769</td>\n",
       "    </tr>\n",
       "    <tr>\n",
       "      <td>операции с недвижимостью</td>\n",
       "      <td>675</td>\n",
       "    </tr>\n",
       "    <tr>\n",
       "      <td>покупка коммерческой недвижимости</td>\n",
       "      <td>662</td>\n",
       "    </tr>\n",
       "    <tr>\n",
       "      <td>покупка жилья для сдачи</td>\n",
       "      <td>652</td>\n",
       "    </tr>\n",
       "    <tr>\n",
       "      <td>операции с жильем</td>\n",
       "      <td>652</td>\n",
       "    </tr>\n",
       "    <tr>\n",
       "      <td>операции с коммерческой недвижимостью</td>\n",
       "      <td>650</td>\n",
       "    </tr>\n",
       "    <tr>\n",
       "      <td>жилье</td>\n",
       "      <td>646</td>\n",
       "    </tr>\n",
       "    <tr>\n",
       "      <td>покупка жилья</td>\n",
       "      <td>646</td>\n",
       "    </tr>\n",
       "    <tr>\n",
       "      <td>покупка жилья для семьи</td>\n",
       "      <td>638</td>\n",
       "    </tr>\n",
       "    <tr>\n",
       "      <td>строительство собственной недвижимости</td>\n",
       "      <td>635</td>\n",
       "    </tr>\n",
       "    <tr>\n",
       "      <td>недвижимость</td>\n",
       "      <td>633</td>\n",
       "    </tr>\n",
       "    <tr>\n",
       "      <td>операции со своей недвижимостью</td>\n",
       "      <td>627</td>\n",
       "    </tr>\n",
       "    <tr>\n",
       "      <td>строительство жилой недвижимости</td>\n",
       "      <td>625</td>\n",
       "    </tr>\n",
       "    <tr>\n",
       "      <td>покупка недвижимости</td>\n",
       "      <td>621</td>\n",
       "    </tr>\n",
       "    <tr>\n",
       "      <td>покупка своего жилья</td>\n",
       "      <td>620</td>\n",
       "    </tr>\n",
       "    <tr>\n",
       "      <td>строительство недвижимости</td>\n",
       "      <td>619</td>\n",
       "    </tr>\n",
       "    <tr>\n",
       "      <td>ремонт жилью</td>\n",
       "      <td>607</td>\n",
       "    </tr>\n",
       "    <tr>\n",
       "      <td>покупка жилой недвижимости</td>\n",
       "      <td>606</td>\n",
       "    </tr>\n",
       "    <tr>\n",
       "      <td>на покупку своего автомобиля</td>\n",
       "      <td>505</td>\n",
       "    </tr>\n",
       "    <tr>\n",
       "      <td>заняться высшим образованием</td>\n",
       "      <td>496</td>\n",
       "    </tr>\n",
       "    <tr>\n",
       "      <td>автомобиль</td>\n",
       "      <td>494</td>\n",
       "    </tr>\n",
       "    <tr>\n",
       "      <td>сделка с подержанным автомобилем</td>\n",
       "      <td>486</td>\n",
       "    </tr>\n",
       "    <tr>\n",
       "      <td>свой автомобиль</td>\n",
       "      <td>479</td>\n",
       "    </tr>\n",
       "    <tr>\n",
       "      <td>на покупку подержанного автомобиля</td>\n",
       "      <td>478</td>\n",
       "    </tr>\n",
       "    <tr>\n",
       "      <td>автомобили</td>\n",
       "      <td>478</td>\n",
       "    </tr>\n",
       "    <tr>\n",
       "      <td>на покупку автомобиля</td>\n",
       "      <td>472</td>\n",
       "    </tr>\n",
       "    <tr>\n",
       "      <td>приобретение автомобиля</td>\n",
       "      <td>461</td>\n",
       "    </tr>\n",
       "    <tr>\n",
       "      <td>дополнительное образование</td>\n",
       "      <td>460</td>\n",
       "    </tr>\n",
       "    <tr>\n",
       "      <td>сделка с автомобилем</td>\n",
       "      <td>455</td>\n",
       "    </tr>\n",
       "    <tr>\n",
       "      <td>высшее образование</td>\n",
       "      <td>452</td>\n",
       "    </tr>\n",
       "    <tr>\n",
       "      <td>получение дополнительного образования</td>\n",
       "      <td>447</td>\n",
       "    </tr>\n",
       "    <tr>\n",
       "      <td>образование</td>\n",
       "      <td>447</td>\n",
       "    </tr>\n",
       "    <tr>\n",
       "      <td>получение образования</td>\n",
       "      <td>442</td>\n",
       "    </tr>\n",
       "    <tr>\n",
       "      <td>профильное образование</td>\n",
       "      <td>436</td>\n",
       "    </tr>\n",
       "    <tr>\n",
       "      <td>получение высшего образования</td>\n",
       "      <td>426</td>\n",
       "    </tr>\n",
       "    <tr>\n",
       "      <td>заняться образованием</td>\n",
       "      <td>408</td>\n",
       "    </tr>\n",
       "  </tbody>\n",
       "</table>\n",
       "</div>"
      ],
      "text/plain": [
       "                                        purpose\n",
       "свадьба                                     793\n",
       "на проведение свадьбы                       773\n",
       "сыграть свадьбу                             769\n",
       "операции с недвижимостью                    675\n",
       "покупка коммерческой недвижимости           662\n",
       "покупка жилья для сдачи                     652\n",
       "операции с жильем                           652\n",
       "операции с коммерческой недвижимостью       650\n",
       "жилье                                       646\n",
       "покупка жилья                               646\n",
       "покупка жилья для семьи                     638\n",
       "строительство собственной недвижимости      635\n",
       "недвижимость                                633\n",
       "операции со своей недвижимостью             627\n",
       "строительство жилой недвижимости            625\n",
       "покупка недвижимости                        621\n",
       "покупка своего жилья                        620\n",
       "строительство недвижимости                  619\n",
       "ремонт жилью                                607\n",
       "покупка жилой недвижимости                  606\n",
       "на покупку своего автомобиля                505\n",
       "заняться высшим образованием                496\n",
       "автомобиль                                  494\n",
       "сделка с подержанным автомобилем            486\n",
       "свой автомобиль                             479\n",
       "на покупку подержанного автомобиля          478\n",
       "автомобили                                  478\n",
       "на покупку автомобиля                       472\n",
       "приобретение автомобиля                     461\n",
       "дополнительное образование                  460\n",
       "сделка с автомобилем                        455\n",
       "высшее образование                          452\n",
       "получение дополнительного образования       447\n",
       "образование                                 447\n",
       "получение образования                       442\n",
       "профильное образование                      436\n",
       "получение высшего образования               426\n",
       "заняться образованием                       408"
      ]
     },
     "metadata": {},
     "output_type": "display_data"
    }
   ],
   "source": [
    "display(data['purpose'].value_counts().to_frame()) # вывод уникальныx значений столбца \"семейное положение\""
   ]
  },
  {
   "cell_type": "markdown",
   "metadata": {},
   "source": [
    "Повторяющихся значений  в столбце \"семейное положение\" нет. Можно привести значения в столбце \"семейное положение\" к нижнему регистру. Повторяющихся значений в столбце \"цель кредита\" также нет, но есть похожие по смыслу. "
   ]
  },
  {
   "cell_type": "code",
   "execution_count": 187,
   "metadata": {},
   "outputs": [],
   "source": [
    "data['family_status'] = data['family_status'].str.lower() # приведем к нижнему регистру значения в столбце \"семейное положение\"\n",
    "data['education'] = data['education'].str.lower() # приведем к нижнему регистру значения в столбце \"образование\""
   ]
  },
  {
   "cell_type": "code",
   "execution_count": 188,
   "metadata": {},
   "outputs": [
    {
     "data": {
      "text/html": [
       "<div>\n",
       "<style scoped>\n",
       "    .dataframe tbody tr th:only-of-type {\n",
       "        vertical-align: middle;\n",
       "    }\n",
       "\n",
       "    .dataframe tbody tr th {\n",
       "        vertical-align: top;\n",
       "    }\n",
       "\n",
       "    .dataframe thead th {\n",
       "        text-align: right;\n",
       "    }\n",
       "</style>\n",
       "<table border=\"1\" class=\"dataframe\">\n",
       "  <thead>\n",
       "    <tr style=\"text-align: right;\">\n",
       "      <th></th>\n",
       "      <th>children</th>\n",
       "      <th>years_employed</th>\n",
       "      <th>dob_years</th>\n",
       "      <th>education</th>\n",
       "      <th>education_id</th>\n",
       "      <th>family_status</th>\n",
       "      <th>family_status_id</th>\n",
       "      <th>gender</th>\n",
       "      <th>income_type</th>\n",
       "      <th>debt</th>\n",
       "      <th>total_income</th>\n",
       "      <th>purpose</th>\n",
       "    </tr>\n",
       "  </thead>\n",
       "  <tbody>\n",
       "    <tr>\n",
       "      <td>0</td>\n",
       "      <td>1</td>\n",
       "      <td>23</td>\n",
       "      <td>42</td>\n",
       "      <td>высшее</td>\n",
       "      <td>0</td>\n",
       "      <td>женат / замужем</td>\n",
       "      <td>0</td>\n",
       "      <td>F</td>\n",
       "      <td>сотрудник</td>\n",
       "      <td>0</td>\n",
       "      <td>253875</td>\n",
       "      <td>покупка жилья</td>\n",
       "    </tr>\n",
       "    <tr>\n",
       "      <td>1</td>\n",
       "      <td>1</td>\n",
       "      <td>11</td>\n",
       "      <td>36</td>\n",
       "      <td>среднее</td>\n",
       "      <td>1</td>\n",
       "      <td>женат / замужем</td>\n",
       "      <td>0</td>\n",
       "      <td>F</td>\n",
       "      <td>сотрудник</td>\n",
       "      <td>0</td>\n",
       "      <td>112080</td>\n",
       "      <td>приобретение автомобиля</td>\n",
       "    </tr>\n",
       "    <tr>\n",
       "      <td>2</td>\n",
       "      <td>0</td>\n",
       "      <td>15</td>\n",
       "      <td>33</td>\n",
       "      <td>среднее</td>\n",
       "      <td>1</td>\n",
       "      <td>женат / замужем</td>\n",
       "      <td>0</td>\n",
       "      <td>M</td>\n",
       "      <td>сотрудник</td>\n",
       "      <td>0</td>\n",
       "      <td>145885</td>\n",
       "      <td>покупка жилья</td>\n",
       "    </tr>\n",
       "    <tr>\n",
       "      <td>3</td>\n",
       "      <td>3</td>\n",
       "      <td>11</td>\n",
       "      <td>32</td>\n",
       "      <td>среднее</td>\n",
       "      <td>1</td>\n",
       "      <td>женат / замужем</td>\n",
       "      <td>0</td>\n",
       "      <td>M</td>\n",
       "      <td>сотрудник</td>\n",
       "      <td>0</td>\n",
       "      <td>267628</td>\n",
       "      <td>дополнительное образование</td>\n",
       "    </tr>\n",
       "    <tr>\n",
       "      <td>4</td>\n",
       "      <td>0</td>\n",
       "      <td>932</td>\n",
       "      <td>53</td>\n",
       "      <td>среднее</td>\n",
       "      <td>1</td>\n",
       "      <td>гражданский брак</td>\n",
       "      <td>1</td>\n",
       "      <td>F</td>\n",
       "      <td>пенсионер</td>\n",
       "      <td>0</td>\n",
       "      <td>158616</td>\n",
       "      <td>сыграть свадьбу</td>\n",
       "    </tr>\n",
       "    <tr>\n",
       "      <td>5</td>\n",
       "      <td>0</td>\n",
       "      <td>2</td>\n",
       "      <td>27</td>\n",
       "      <td>высшее</td>\n",
       "      <td>0</td>\n",
       "      <td>гражданский брак</td>\n",
       "      <td>1</td>\n",
       "      <td>M</td>\n",
       "      <td>компаньон</td>\n",
       "      <td>0</td>\n",
       "      <td>255763</td>\n",
       "      <td>покупка жилья</td>\n",
       "    </tr>\n",
       "    <tr>\n",
       "      <td>6</td>\n",
       "      <td>0</td>\n",
       "      <td>7</td>\n",
       "      <td>43</td>\n",
       "      <td>высшее</td>\n",
       "      <td>0</td>\n",
       "      <td>женат / замужем</td>\n",
       "      <td>0</td>\n",
       "      <td>F</td>\n",
       "      <td>компаньон</td>\n",
       "      <td>0</td>\n",
       "      <td>240525</td>\n",
       "      <td>операции с жильем</td>\n",
       "    </tr>\n",
       "    <tr>\n",
       "      <td>7</td>\n",
       "      <td>0</td>\n",
       "      <td>0</td>\n",
       "      <td>50</td>\n",
       "      <td>среднее</td>\n",
       "      <td>1</td>\n",
       "      <td>женат / замужем</td>\n",
       "      <td>0</td>\n",
       "      <td>M</td>\n",
       "      <td>сотрудник</td>\n",
       "      <td>0</td>\n",
       "      <td>135823</td>\n",
       "      <td>образование</td>\n",
       "    </tr>\n",
       "    <tr>\n",
       "      <td>8</td>\n",
       "      <td>2</td>\n",
       "      <td>18</td>\n",
       "      <td>35</td>\n",
       "      <td>высшее</td>\n",
       "      <td>0</td>\n",
       "      <td>гражданский брак</td>\n",
       "      <td>1</td>\n",
       "      <td>F</td>\n",
       "      <td>сотрудник</td>\n",
       "      <td>0</td>\n",
       "      <td>95856</td>\n",
       "      <td>на проведение свадьбы</td>\n",
       "    </tr>\n",
       "    <tr>\n",
       "      <td>9</td>\n",
       "      <td>0</td>\n",
       "      <td>5</td>\n",
       "      <td>41</td>\n",
       "      <td>среднее</td>\n",
       "      <td>1</td>\n",
       "      <td>женат / замужем</td>\n",
       "      <td>0</td>\n",
       "      <td>M</td>\n",
       "      <td>сотрудник</td>\n",
       "      <td>0</td>\n",
       "      <td>144425</td>\n",
       "      <td>покупка жилья для семьи</td>\n",
       "    </tr>\n",
       "  </tbody>\n",
       "</table>\n",
       "</div>"
      ],
      "text/plain": [
       "   children  years_employed  dob_years education  education_id  \\\n",
       "0         1              23         42    высшее             0   \n",
       "1         1              11         36   среднее             1   \n",
       "2         0              15         33   среднее             1   \n",
       "3         3              11         32   среднее             1   \n",
       "4         0             932         53   среднее             1   \n",
       "5         0               2         27    высшее             0   \n",
       "6         0               7         43    высшее             0   \n",
       "7         0               0         50   среднее             1   \n",
       "8         2              18         35    высшее             0   \n",
       "9         0               5         41   среднее             1   \n",
       "\n",
       "      family_status  family_status_id gender income_type  debt  total_income  \\\n",
       "0   женат / замужем                 0      F   сотрудник     0        253875   \n",
       "1   женат / замужем                 0      F   сотрудник     0        112080   \n",
       "2   женат / замужем                 0      M   сотрудник     0        145885   \n",
       "3   женат / замужем                 0      M   сотрудник     0        267628   \n",
       "4  гражданский брак                 1      F   пенсионер     0        158616   \n",
       "5  гражданский брак                 1      M   компаньон     0        255763   \n",
       "6   женат / замужем                 0      F   компаньон     0        240525   \n",
       "7   женат / замужем                 0      M   сотрудник     0        135823   \n",
       "8  гражданский брак                 1      F   сотрудник     0         95856   \n",
       "9   женат / замужем                 0      M   сотрудник     0        144425   \n",
       "\n",
       "                      purpose  \n",
       "0               покупка жилья  \n",
       "1     приобретение автомобиля  \n",
       "2               покупка жилья  \n",
       "3  дополнительное образование  \n",
       "4             сыграть свадьбу  \n",
       "5               покупка жилья  \n",
       "6           операции с жильем  \n",
       "7                 образование  \n",
       "8       на проведение свадьбы  \n",
       "9     покупка жилья для семьи  "
      ]
     },
     "metadata": {},
     "output_type": "display_data"
    }
   ],
   "source": [
    "display(data.head(10))"
   ]
  },
  {
   "cell_type": "code",
   "execution_count": 189,
   "metadata": {},
   "outputs": [],
   "source": [
    "data = data.drop_duplicates().reset_index(drop = True)"
   ]
  },
  {
   "cell_type": "code",
   "execution_count": 190,
   "metadata": {},
   "outputs": [
    {
     "data": {
      "text/plain": [
       "0"
      ]
     },
     "metadata": {},
     "output_type": "display_data"
    }
   ],
   "source": [
    "display(data.duplicated().sum())"
   ]
  },
  {
   "cell_type": "markdown",
   "metadata": {},
   "source": [
    "**Вывод**"
   ]
  },
  {
   "cell_type": "markdown",
   "metadata": {},
   "source": [
    "Избавившись от дубликатов можно анализировать значения столбцов \"cемейное положение\" и \"цель кредита\", чтобы ответить на вопросы исследования. В столбце \"цель кредита\" достаточно похожих по смыслу значений, соответственно для дальнейшего исследования необходимо их разбить на категории."
   ]
  },
  {
   "cell_type": "markdown",
   "metadata": {},
   "source": [
    "### Лемматизация"
   ]
  },
  {
   "cell_type": "markdown",
   "metadata": {},
   "source": [
    "Чтобы ответить на вопрос как разные цели влияют на возврат кредита, необходимо разделить цели по категориям. Разделять на категории будем с помощью выделения лемм (основ слов). Функция лемматизация находит через подключенный словарь основу переданного ей слова."
   ]
  },
  {
   "cell_type": "code",
   "execution_count": 191,
   "metadata": {},
   "outputs": [
    {
     "name": "stdout",
     "output_type": "stream",
     "text": [
      "0                             [покупка,  , жилье, \\n]\n",
      "1                   [приобретение,  , автомобиль, \\n]\n",
      "2                             [покупка,  , жилье, \\n]\n",
      "3                [дополнительный,  , образование, \\n]\n",
      "4                           [сыграть,  , свадьба, \\n]\n",
      "                             ...                     \n",
      "21449                  [операция,  , с,  , жилье, \\n]\n",
      "21450               [сделка,  , с,  , автомобиль, \\n]\n",
      "21451                              [недвижимость, \\n]\n",
      "21452    [на,  , покупка,  , свой,  , автомобиль, \\n]\n",
      "21453             [на,  , покупка,  , автомобиль, \\n]\n",
      "Name: purpose, Length: 21454, dtype: object\n"
     ]
    }
   ],
   "source": [
    "from pymystem3 import Mystem # импорт библиотеки лемм на русском языке\n",
    "m = Mystem()\n",
    "\n",
    "lemmas = data['purpose'].apply(m.lemmatize) # применим функцию лемматизация для всех строчек столбца \"цель кредита\"\n",
    "\n",
    "print(lemmas) # получился список списков основ слов   \n",
    "\n"
   ]
  },
  {
   "cell_type": "code",
   "execution_count": 192,
   "metadata": {},
   "outputs": [
    {
     "name": "stdout",
     "output_type": "stream",
     "text": [
      "Counter({' ': 33570, '\\n': 21454, 'недвижимость': 6351, 'покупка': 5897, 'жилье': 4460, 'автомобиль': 4306, 'образование': 4013, 'с': 2918, 'операция': 2604, 'свадьба': 2324, 'свой': 2230, 'на': 2222, 'строительство': 1878, 'высокий': 1374, 'получение': 1314, 'коммерческий': 1311, 'для': 1289, 'жилой': 1230, 'сделка': 941, 'дополнительный': 906, 'заниматься': 904, 'проведение': 768, 'сыграть': 765, 'сдача': 651, 'семья': 638, 'собственный': 635, 'со': 627, 'ремонт': 607, 'подержанный': 486, 'подержать': 478, 'приобретение': 461, 'профильный': 436})\n"
     ]
    }
   ],
   "source": [
    "lemmas_list = [] # перенесем все значения из списка списков lemma в список lemmas_list\n",
    "for row in lemmas: # с помощью цикла\n",
    "    for elem in row:\n",
    "        lemmas_list.append(elem)\n",
    "     \n",
    "from collections import Counter # импорт коллекции Counter, которая формирует словарь с леммами\n",
    "print(Counter(lemmas_list)) #подсчет значений в списке lemmas_list \n",
    "  "
   ]
  },
  {
   "cell_type": "markdown",
   "metadata": {},
   "source": [
    "Проанализируем все полученные леммы и выделим основные группы целей кредитов:\n",
    "- на приобретение недвижимости. Список лемм: жилье, недвижимость, строительство, жилой\n",
    "- на приобретение автомобиля. Список лемм: автомобиль\n",
    "- на получение образования. Список лемм: образование\n",
    "- на свадьбу. Список лемм: свадьба"
   ]
  },
  {
   "cell_type": "markdown",
   "metadata": {},
   "source": [
    "Напишем функицию, которая будет определять категорию столбца \"цель кредита\" в зависимости от полученной леммы"
   ]
  },
  {
   "cell_type": "code",
   "execution_count": 193,
   "metadata": {},
   "outputs": [],
   "source": [
    "\n",
    "\n",
    "def lemmas_group(row):\n",
    "         \n",
    "        lemma = m.lemmatize(row)    \n",
    "        if 'жилье' in lemma:\n",
    "            return 'на приобретение недвижимости'\n",
    "        if 'недвижимость' in lemma:\n",
    "            return 'на приобретение недвижимости'\n",
    "        if 'строительство' in lemma:\n",
    "            return 'на приобретение недвижимости'\n",
    "        if 'жилой' in lemma:\n",
    "            return 'на приобретение недвижимости'\n",
    "        if 'автомобиль' in lemma:\n",
    "            return 'на приобретение автомобиля'\n",
    "        if 'образование' in lemma:\n",
    "            return 'на получение образования'\n",
    "        if 'свадьба' in lemma:\n",
    "            return 'на свадьбу'\n",
    "\n",
    "   \n",
    "          "
   ]
  },
  {
   "cell_type": "code",
   "execution_count": 194,
   "metadata": {},
   "outputs": [
    {
     "data": {
      "text/html": [
       "<div>\n",
       "<style scoped>\n",
       "    .dataframe tbody tr th:only-of-type {\n",
       "        vertical-align: middle;\n",
       "    }\n",
       "\n",
       "    .dataframe tbody tr th {\n",
       "        vertical-align: top;\n",
       "    }\n",
       "\n",
       "    .dataframe thead th {\n",
       "        text-align: right;\n",
       "    }\n",
       "</style>\n",
       "<table border=\"1\" class=\"dataframe\">\n",
       "  <thead>\n",
       "    <tr style=\"text-align: right;\">\n",
       "      <th></th>\n",
       "      <th>children</th>\n",
       "      <th>years_employed</th>\n",
       "      <th>dob_years</th>\n",
       "      <th>education</th>\n",
       "      <th>education_id</th>\n",
       "      <th>family_status</th>\n",
       "      <th>family_status_id</th>\n",
       "      <th>gender</th>\n",
       "      <th>income_type</th>\n",
       "      <th>debt</th>\n",
       "      <th>total_income</th>\n",
       "      <th>purpose</th>\n",
       "      <th>group_purpose</th>\n",
       "    </tr>\n",
       "  </thead>\n",
       "  <tbody>\n",
       "    <tr>\n",
       "      <td>0</td>\n",
       "      <td>1</td>\n",
       "      <td>23</td>\n",
       "      <td>42</td>\n",
       "      <td>высшее</td>\n",
       "      <td>0</td>\n",
       "      <td>женат / замужем</td>\n",
       "      <td>0</td>\n",
       "      <td>F</td>\n",
       "      <td>сотрудник</td>\n",
       "      <td>0</td>\n",
       "      <td>253875</td>\n",
       "      <td>покупка жилья</td>\n",
       "      <td>на приобретение недвижимости</td>\n",
       "    </tr>\n",
       "    <tr>\n",
       "      <td>1</td>\n",
       "      <td>1</td>\n",
       "      <td>11</td>\n",
       "      <td>36</td>\n",
       "      <td>среднее</td>\n",
       "      <td>1</td>\n",
       "      <td>женат / замужем</td>\n",
       "      <td>0</td>\n",
       "      <td>F</td>\n",
       "      <td>сотрудник</td>\n",
       "      <td>0</td>\n",
       "      <td>112080</td>\n",
       "      <td>приобретение автомобиля</td>\n",
       "      <td>на приобретение автомобиля</td>\n",
       "    </tr>\n",
       "    <tr>\n",
       "      <td>2</td>\n",
       "      <td>0</td>\n",
       "      <td>15</td>\n",
       "      <td>33</td>\n",
       "      <td>среднее</td>\n",
       "      <td>1</td>\n",
       "      <td>женат / замужем</td>\n",
       "      <td>0</td>\n",
       "      <td>M</td>\n",
       "      <td>сотрудник</td>\n",
       "      <td>0</td>\n",
       "      <td>145885</td>\n",
       "      <td>покупка жилья</td>\n",
       "      <td>на приобретение недвижимости</td>\n",
       "    </tr>\n",
       "    <tr>\n",
       "      <td>3</td>\n",
       "      <td>3</td>\n",
       "      <td>11</td>\n",
       "      <td>32</td>\n",
       "      <td>среднее</td>\n",
       "      <td>1</td>\n",
       "      <td>женат / замужем</td>\n",
       "      <td>0</td>\n",
       "      <td>M</td>\n",
       "      <td>сотрудник</td>\n",
       "      <td>0</td>\n",
       "      <td>267628</td>\n",
       "      <td>дополнительное образование</td>\n",
       "      <td>на получение образования</td>\n",
       "    </tr>\n",
       "    <tr>\n",
       "      <td>4</td>\n",
       "      <td>0</td>\n",
       "      <td>932</td>\n",
       "      <td>53</td>\n",
       "      <td>среднее</td>\n",
       "      <td>1</td>\n",
       "      <td>гражданский брак</td>\n",
       "      <td>1</td>\n",
       "      <td>F</td>\n",
       "      <td>пенсионер</td>\n",
       "      <td>0</td>\n",
       "      <td>158616</td>\n",
       "      <td>сыграть свадьбу</td>\n",
       "      <td>на свадьбу</td>\n",
       "    </tr>\n",
       "  </tbody>\n",
       "</table>\n",
       "</div>"
      ],
      "text/plain": [
       "   children  years_employed  dob_years education  education_id  \\\n",
       "0         1              23         42    высшее             0   \n",
       "1         1              11         36   среднее             1   \n",
       "2         0              15         33   среднее             1   \n",
       "3         3              11         32   среднее             1   \n",
       "4         0             932         53   среднее             1   \n",
       "\n",
       "      family_status  family_status_id gender income_type  debt  total_income  \\\n",
       "0   женат / замужем                 0      F   сотрудник     0        253875   \n",
       "1   женат / замужем                 0      F   сотрудник     0        112080   \n",
       "2   женат / замужем                 0      M   сотрудник     0        145885   \n",
       "3   женат / замужем                 0      M   сотрудник     0        267628   \n",
       "4  гражданский брак                 1      F   пенсионер     0        158616   \n",
       "\n",
       "                      purpose                 group_purpose  \n",
       "0               покупка жилья  на приобретение недвижимости  \n",
       "1     приобретение автомобиля    на приобретение автомобиля  \n",
       "2               покупка жилья  на приобретение недвижимости  \n",
       "3  дополнительное образование      на получение образования  \n",
       "4             сыграть свадьбу                    на свадьбу  "
      ]
     },
     "metadata": {},
     "output_type": "display_data"
    }
   ],
   "source": [
    "data['group_purpose'] = data['purpose'].apply(lemmas_group) # применим функцию к столбцу \"цель кредита\"       \n",
    "display(data.head()) # выведем пять первых строчек таблицы"
   ]
  },
  {
   "cell_type": "markdown",
   "metadata": {
    "scrolled": true
   },
   "source": [
    "В существующую таблицу добавился еще один столбец \"группа цели кредита\""
   ]
  },
  {
   "cell_type": "markdown",
   "metadata": {},
   "source": [
    "**Вывод**"
   ]
  },
  {
   "cell_type": "markdown",
   "metadata": {},
   "source": [
    "Основной задачей этого раздела было разделение на категории целей кредита с помощью лемматизации. Выделены 4 категории целей кредитов: на приобретение недвижимости, на приобретение автомобиля, на получение образования, на свадьбу."
   ]
  },
  {
   "cell_type": "markdown",
   "metadata": {},
   "source": [
    "### Категоризация данных"
   ]
  },
  {
   "cell_type": "markdown",
   "metadata": {},
   "source": [
    "Для того чтобы ответить на первый вопрос исследования и третий необходимо всех поделить на группы \"без детей\" и \"с детьми\", \"доход ниже среднего\" и \"доход выше среднего\""
   ]
  },
  {
   "cell_type": "code",
   "execution_count": 195,
   "metadata": {},
   "outputs": [],
   "source": [
    "def children_id(row): #функция для категоризации данных по статусу наличия и отсутствия детей\n",
    "    if row == 0:\n",
    "        return 'без детей'\n",
    "    return 'с детьми'\n",
    "    \n",
    "\n",
    "data['children_group'] = data['children'].apply(children_id) # добавление столбца с категоризацией по детям в таблицу\n"
   ]
  },
  {
   "cell_type": "code",
   "execution_count": 196,
   "metadata": {},
   "outputs": [
    {
     "data": {
      "text/html": [
       "<div>\n",
       "<style scoped>\n",
       "    .dataframe tbody tr th:only-of-type {\n",
       "        vertical-align: middle;\n",
       "    }\n",
       "\n",
       "    .dataframe tbody tr th {\n",
       "        vertical-align: top;\n",
       "    }\n",
       "\n",
       "    .dataframe thead th {\n",
       "        text-align: right;\n",
       "    }\n",
       "</style>\n",
       "<table border=\"1\" class=\"dataframe\">\n",
       "  <thead>\n",
       "    <tr style=\"text-align: right;\">\n",
       "      <th></th>\n",
       "      <th>debt</th>\n",
       "    </tr>\n",
       "    <tr>\n",
       "      <th>children_group</th>\n",
       "      <th></th>\n",
       "    </tr>\n",
       "  </thead>\n",
       "  <tbody>\n",
       "    <tr>\n",
       "      <td>без детей</td>\n",
       "      <td>14091</td>\n",
       "    </tr>\n",
       "    <tr>\n",
       "      <td>с детьми</td>\n",
       "      <td>7363</td>\n",
       "    </tr>\n",
       "  </tbody>\n",
       "</table>\n",
       "</div>"
      ],
      "text/plain": [
       "                 debt\n",
       "children_group       \n",
       "без детей       14091\n",
       "с детьми         7363"
      ]
     },
     "metadata": {},
     "output_type": "display_data"
    }
   ],
   "source": [
    "display(data.groupby('children_group')['debt'].count().to_frame()) # расчет количества людей с детьми и без детей"
   ]
  },
  {
   "cell_type": "code",
   "execution_count": 197,
   "metadata": {},
   "outputs": [
    {
     "name": "stdout",
     "output_type": "stream",
     "text": [
      "142594.0\n"
     ]
    }
   ],
   "source": [
    "print(data['total_income'].median()) #вывод медианы дохода заемщиков"
   ]
  },
  {
   "cell_type": "code",
   "execution_count": 198,
   "metadata": {},
   "outputs": [],
   "source": [
    "def income_id(row): # функция для категоризации данных по доходу\n",
    "    if row > 142594: # за средний доход возьмем посчитанный доход по медиане\n",
    "        return 'доход выше среднего'\n",
    "    return 'доход ниже среднего'\n",
    "    \n",
    "\n",
    "data['income_group'] = data['total_income'].apply(income_id) # добавление столбца с категоризацией по доходу в таблицу"
   ]
  },
  {
   "cell_type": "code",
   "execution_count": 199,
   "metadata": {},
   "outputs": [
    {
     "data": {
      "text/html": [
       "<div>\n",
       "<style scoped>\n",
       "    .dataframe tbody tr th:only-of-type {\n",
       "        vertical-align: middle;\n",
       "    }\n",
       "\n",
       "    .dataframe tbody tr th {\n",
       "        vertical-align: top;\n",
       "    }\n",
       "\n",
       "    .dataframe thead th {\n",
       "        text-align: right;\n",
       "    }\n",
       "</style>\n",
       "<table border=\"1\" class=\"dataframe\">\n",
       "  <thead>\n",
       "    <tr style=\"text-align: right;\">\n",
       "      <th></th>\n",
       "      <th>debt</th>\n",
       "    </tr>\n",
       "    <tr>\n",
       "      <th>income_group</th>\n",
       "      <th></th>\n",
       "    </tr>\n",
       "  </thead>\n",
       "  <tbody>\n",
       "    <tr>\n",
       "      <td>доход выше среднего</td>\n",
       "      <td>10611</td>\n",
       "    </tr>\n",
       "    <tr>\n",
       "      <td>доход ниже среднего</td>\n",
       "      <td>10843</td>\n",
       "    </tr>\n",
       "  </tbody>\n",
       "</table>\n",
       "</div>"
      ],
      "text/plain": [
       "                      debt\n",
       "income_group              \n",
       "доход выше среднего  10611\n",
       "доход ниже среднего  10843"
      ]
     },
     "metadata": {},
     "output_type": "display_data"
    }
   ],
   "source": [
    "display(data.groupby('income_group')['debt'].count().to_frame()) # расчет количества людей по разным категориям дохода"
   ]
  },
  {
   "cell_type": "code",
   "execution_count": 200,
   "metadata": {},
   "outputs": [],
   "source": [
    "data_pivot_children = data.pivot_table(index = ['children_group'], columns = 'debt', values = 'children', aggfunc = 'count')  \n",
    "# получение сводной таблицы по срокам возврата кредита по клиентам с детьми и без детей "
   ]
  },
  {
   "cell_type": "code",
   "execution_count": 201,
   "metadata": {},
   "outputs": [
    {
     "data": {
      "text/html": [
       "<div>\n",
       "<style scoped>\n",
       "    .dataframe tbody tr th:only-of-type {\n",
       "        vertical-align: middle;\n",
       "    }\n",
       "\n",
       "    .dataframe tbody tr th {\n",
       "        vertical-align: top;\n",
       "    }\n",
       "\n",
       "    .dataframe thead th {\n",
       "        text-align: right;\n",
       "    }\n",
       "</style>\n",
       "<table border=\"1\" class=\"dataframe\">\n",
       "  <thead>\n",
       "    <tr style=\"text-align: right;\">\n",
       "      <th>debt</th>\n",
       "      <th>0</th>\n",
       "      <th>1</th>\n",
       "    </tr>\n",
       "    <tr>\n",
       "      <th>children_group</th>\n",
       "      <th></th>\n",
       "      <th></th>\n",
       "    </tr>\n",
       "  </thead>\n",
       "  <tbody>\n",
       "    <tr>\n",
       "      <td>без детей</td>\n",
       "      <td>13028</td>\n",
       "      <td>1063</td>\n",
       "    </tr>\n",
       "    <tr>\n",
       "      <td>с детьми</td>\n",
       "      <td>6685</td>\n",
       "      <td>678</td>\n",
       "    </tr>\n",
       "  </tbody>\n",
       "</table>\n",
       "</div>"
      ],
      "text/plain": [
       "debt                0     1\n",
       "children_group             \n",
       "без детей       13028  1063\n",
       "с детьми         6685   678"
      ]
     },
     "metadata": {},
     "output_type": "display_data"
    }
   ],
   "source": [
    "display(data_pivot_children) # вывод сводной таблицы по срокам возврата кредита по клиентам с детьми и без детей "
   ]
  },
  {
   "cell_type": "markdown",
   "metadata": {},
   "source": [
    "Для ответа на второй вопрос исследования есть ли зависимость между семейным положением и возвратом кредита сделаем сводную таблицу по семейным статусам и статусу по сроку возврата кредита"
   ]
  },
  {
   "cell_type": "code",
   "execution_count": 202,
   "metadata": {},
   "outputs": [],
   "source": [
    "data_pivot_family_status = data.pivot_table(index = ['family_status'], columns = 'debt', values = 'children', aggfunc = 'count')  \n",
    "# получение сводной таблицы по срокам возврата кредита по клиентам с разным семейным положением"
   ]
  },
  {
   "cell_type": "code",
   "execution_count": 203,
   "metadata": {},
   "outputs": [
    {
     "data": {
      "text/html": [
       "<div>\n",
       "<style scoped>\n",
       "    .dataframe tbody tr th:only-of-type {\n",
       "        vertical-align: middle;\n",
       "    }\n",
       "\n",
       "    .dataframe tbody tr th {\n",
       "        vertical-align: top;\n",
       "    }\n",
       "\n",
       "    .dataframe thead th {\n",
       "        text-align: right;\n",
       "    }\n",
       "</style>\n",
       "<table border=\"1\" class=\"dataframe\">\n",
       "  <thead>\n",
       "    <tr style=\"text-align: right;\">\n",
       "      <th>debt</th>\n",
       "      <th>0</th>\n",
       "      <th>1</th>\n",
       "    </tr>\n",
       "    <tr>\n",
       "      <th>family_status</th>\n",
       "      <th></th>\n",
       "      <th></th>\n",
       "    </tr>\n",
       "  </thead>\n",
       "  <tbody>\n",
       "    <tr>\n",
       "      <td>в разводе</td>\n",
       "      <td>1110</td>\n",
       "      <td>85</td>\n",
       "    </tr>\n",
       "    <tr>\n",
       "      <td>вдовец / вдова</td>\n",
       "      <td>896</td>\n",
       "      <td>63</td>\n",
       "    </tr>\n",
       "    <tr>\n",
       "      <td>гражданский брак</td>\n",
       "      <td>3763</td>\n",
       "      <td>388</td>\n",
       "    </tr>\n",
       "    <tr>\n",
       "      <td>женат / замужем</td>\n",
       "      <td>11408</td>\n",
       "      <td>931</td>\n",
       "    </tr>\n",
       "    <tr>\n",
       "      <td>не женат / не замужем</td>\n",
       "      <td>2536</td>\n",
       "      <td>274</td>\n",
       "    </tr>\n",
       "  </tbody>\n",
       "</table>\n",
       "</div>"
      ],
      "text/plain": [
       "debt                       0    1\n",
       "family_status                    \n",
       "в разводе               1110   85\n",
       "вдовец / вдова           896   63\n",
       "гражданский брак        3763  388\n",
       "женат / замужем        11408  931\n",
       "не женат / не замужем   2536  274"
      ]
     },
     "metadata": {},
     "output_type": "display_data"
    }
   ],
   "source": [
    "display(data_pivot_family_status) # вывод сводной таблицы по срокам возврата кредита по клиентам с разным семейным положением "
   ]
  },
  {
   "cell_type": "markdown",
   "metadata": {},
   "source": [
    "Для ответа на третий вопрос исследования есть ли зависимость между уровнем дохода и возвратом кредита сделаем сводную таблицу по категорям дохода и статусу по сроку возврата кредита"
   ]
  },
  {
   "cell_type": "code",
   "execution_count": 204,
   "metadata": {},
   "outputs": [],
   "source": [
    "data_pivot_incom_status = data.pivot_table(index = ['income_group'], columns = 'debt', values = 'children', aggfunc = 'count')  \n",
    "# получение сводной таблицы по срокам возврата кредита по клиентам с разным уровнем дохода"
   ]
  },
  {
   "cell_type": "code",
   "execution_count": 205,
   "metadata": {},
   "outputs": [
    {
     "data": {
      "text/html": [
       "<div>\n",
       "<style scoped>\n",
       "    .dataframe tbody tr th:only-of-type {\n",
       "        vertical-align: middle;\n",
       "    }\n",
       "\n",
       "    .dataframe tbody tr th {\n",
       "        vertical-align: top;\n",
       "    }\n",
       "\n",
       "    .dataframe thead th {\n",
       "        text-align: right;\n",
       "    }\n",
       "</style>\n",
       "<table border=\"1\" class=\"dataframe\">\n",
       "  <thead>\n",
       "    <tr style=\"text-align: right;\">\n",
       "      <th>debt</th>\n",
       "      <th>0</th>\n",
       "      <th>1</th>\n",
       "    </tr>\n",
       "    <tr>\n",
       "      <th>income_group</th>\n",
       "      <th></th>\n",
       "      <th></th>\n",
       "    </tr>\n",
       "  </thead>\n",
       "  <tbody>\n",
       "    <tr>\n",
       "      <td>доход выше среднего</td>\n",
       "      <td>9780</td>\n",
       "      <td>831</td>\n",
       "    </tr>\n",
       "    <tr>\n",
       "      <td>доход ниже среднего</td>\n",
       "      <td>9933</td>\n",
       "      <td>910</td>\n",
       "    </tr>\n",
       "  </tbody>\n",
       "</table>\n",
       "</div>"
      ],
      "text/plain": [
       "debt                    0    1\n",
       "income_group                  \n",
       "доход выше среднего  9780  831\n",
       "доход ниже среднего  9933  910"
      ]
     },
     "metadata": {},
     "output_type": "display_data"
    }
   ],
   "source": [
    "display(data_pivot_incom_status) # вывод сводной таблицы по срокам возврата кредита по клиентам с разным семейным положением "
   ]
  },
  {
   "cell_type": "markdown",
   "metadata": {},
   "source": [
    "Для подготовки ответа на четверый вопрос исследования есть ли зависисмость между целью кредита и сроком возврата, также выведем сводную таблицу по данным параметрам"
   ]
  },
  {
   "cell_type": "code",
   "execution_count": 206,
   "metadata": {},
   "outputs": [],
   "source": [
    "data_pivot_group_purpose = data.pivot_table(index = ['group_purpose'], columns = 'debt', values = 'children', aggfunc = 'count')  \n",
    "# получение сводной таблицы по срокам возврата кредита по клиентам с разными целями кредита"
   ]
  },
  {
   "cell_type": "code",
   "execution_count": 207,
   "metadata": {},
   "outputs": [
    {
     "data": {
      "text/html": [
       "<div>\n",
       "<style scoped>\n",
       "    .dataframe tbody tr th:only-of-type {\n",
       "        vertical-align: middle;\n",
       "    }\n",
       "\n",
       "    .dataframe tbody tr th {\n",
       "        vertical-align: top;\n",
       "    }\n",
       "\n",
       "    .dataframe thead th {\n",
       "        text-align: right;\n",
       "    }\n",
       "</style>\n",
       "<table border=\"1\" class=\"dataframe\">\n",
       "  <thead>\n",
       "    <tr style=\"text-align: right;\">\n",
       "      <th>debt</th>\n",
       "      <th>0</th>\n",
       "      <th>1</th>\n",
       "    </tr>\n",
       "    <tr>\n",
       "      <th>group_purpose</th>\n",
       "      <th></th>\n",
       "      <th></th>\n",
       "    </tr>\n",
       "  </thead>\n",
       "  <tbody>\n",
       "    <tr>\n",
       "      <td>на получение образования</td>\n",
       "      <td>3643</td>\n",
       "      <td>370</td>\n",
       "    </tr>\n",
       "    <tr>\n",
       "      <td>на приобретение автомобиля</td>\n",
       "      <td>3903</td>\n",
       "      <td>403</td>\n",
       "    </tr>\n",
       "    <tr>\n",
       "      <td>на приобретение недвижимости</td>\n",
       "      <td>10029</td>\n",
       "      <td>782</td>\n",
       "    </tr>\n",
       "    <tr>\n",
       "      <td>на свадьбу</td>\n",
       "      <td>2138</td>\n",
       "      <td>186</td>\n",
       "    </tr>\n",
       "  </tbody>\n",
       "</table>\n",
       "</div>"
      ],
      "text/plain": [
       "debt                              0    1\n",
       "group_purpose                           \n",
       "на получение образования       3643  370\n",
       "на приобретение автомобиля     3903  403\n",
       "на приобретение недвижимости  10029  782\n",
       "на свадьбу                     2138  186"
      ]
     },
     "metadata": {},
     "output_type": "display_data"
    }
   ],
   "source": [
    "display(data_pivot_group_purpose) # вывод сводной таблицы по срокам возврата кредита по клиентам с разными целями кредита "
   ]
  },
  {
   "cell_type": "markdown",
   "metadata": {},
   "source": [
    "**Вывод**"
   ]
  },
  {
   "cell_type": "markdown",
   "metadata": {},
   "source": [
    "Для ответа на вопросы исследования подготовлены сводные таблицы по количеству людей по разным группам категорий в зависимости от статуса отсутствия или наличия задолжности по кредиту. "
   ]
  },
  {
   "cell_type": "markdown",
   "metadata": {},
   "source": [
    "**Вывод по шагу предобработки данных**\n",
    "Целью предобработки данных была подготовка данных к исследованию. Были устанены дубликаты, пропуски были заменены на медианы в столбцах данных необходимых для исследования, были изменены типы данных, и их вид для лучшего восприятия и обработки, данные разбиты на категории."
   ]
  },
  {
   "cell_type": "markdown",
   "metadata": {},
   "source": [
    "## Шаг 3. Ответьте на вопросы"
   ]
  },
  {
   "cell_type": "markdown",
   "metadata": {},
   "source": [
    "- Есть ли зависимость между наличием детей и возвратом кредита в срок?"
   ]
  },
  {
   "cell_type": "code",
   "execution_count": 208,
   "metadata": {},
   "outputs": [],
   "source": [
    "#добавим столбцы с расчетом процентов в сводную таблицу\n",
    "data_pivot_children['debt_0_children'] = data_pivot_children[0] * 100 / (data_pivot_children[0] + data_pivot_children[1]) #столбец с процентом возврата в срок\n",
    "\n",
    "data_pivot_children['debt_1_children'] = data_pivot_children[1] * 100 / (data_pivot_children[0] + data_pivot_children[1])  #столбец с процентом по долгу"
   ]
  },
  {
   "cell_type": "code",
   "execution_count": null,
   "metadata": {},
   "outputs": [],
   "source": []
  },
  {
   "cell_type": "code",
   "execution_count": 209,
   "metadata": {},
   "outputs": [
    {
     "data": {
      "text/html": [
       "<div>\n",
       "<style scoped>\n",
       "    .dataframe tbody tr th:only-of-type {\n",
       "        vertical-align: middle;\n",
       "    }\n",
       "\n",
       "    .dataframe tbody tr th {\n",
       "        vertical-align: top;\n",
       "    }\n",
       "\n",
       "    .dataframe thead th {\n",
       "        text-align: right;\n",
       "    }\n",
       "</style>\n",
       "<table border=\"1\" class=\"dataframe\">\n",
       "  <thead>\n",
       "    <tr style=\"text-align: right;\">\n",
       "      <th>debt</th>\n",
       "      <th>0</th>\n",
       "      <th>1</th>\n",
       "      <th>debt_0_children</th>\n",
       "      <th>debt_1_children</th>\n",
       "    </tr>\n",
       "    <tr>\n",
       "      <th>children_group</th>\n",
       "      <th></th>\n",
       "      <th></th>\n",
       "      <th></th>\n",
       "      <th></th>\n",
       "    </tr>\n",
       "  </thead>\n",
       "  <tbody>\n",
       "    <tr>\n",
       "      <td>без детей</td>\n",
       "      <td>13028</td>\n",
       "      <td>1063</td>\n",
       "      <td>92.456178</td>\n",
       "      <td>7.543822</td>\n",
       "    </tr>\n",
       "    <tr>\n",
       "      <td>с детьми</td>\n",
       "      <td>6685</td>\n",
       "      <td>678</td>\n",
       "      <td>90.791797</td>\n",
       "      <td>9.208203</td>\n",
       "    </tr>\n",
       "  </tbody>\n",
       "</table>\n",
       "</div>"
      ],
      "text/plain": [
       "debt                0     1  debt_0_children  debt_1_children\n",
       "children_group                                               \n",
       "без детей       13028  1063        92.456178         7.543822\n",
       "с детьми         6685   678        90.791797         9.208203"
      ]
     },
     "metadata": {},
     "output_type": "display_data"
    }
   ],
   "source": [
    "display(data_pivot_children.sort_values(by = 'debt_1_children')) # вывод сводной таблицы по срокам \n",
    "                                                                 # возврата кредита по клиентам с детьми и без детей\n",
    "\n"
   ]
  },
  {
   "cell_type": "markdown",
   "metadata": {},
   "source": [
    "**Вывод**"
   ]
  },
  {
   "cell_type": "markdown",
   "metadata": {},
   "source": [
    "Исходя из сводной таблицы (столбец 'debt_1_children') видим, что процент должников больше в категории людей с детьми и составляет 9.2 %. Нужно отметить, что разница между категориями составляет 1,67 % и можно сделать вывод, с наличием детей у заемщика появляется риск задолжности по кредиту."
   ]
  },
  {
   "cell_type": "markdown",
   "metadata": {},
   "source": [
    "- Есть ли зависимость между семейным положением и возвратом кредита в срок?"
   ]
  },
  {
   "cell_type": "code",
   "execution_count": 210,
   "metadata": {},
   "outputs": [],
   "source": [
    "#добавим столбцы с расчетом процентов в сводную таблицу по категориями людей по семейным статусам\n",
    "data_pivot_family_status['debt_0_family_status'] = data_pivot_family_status[0] * 100 / (data_pivot_family_status[0] + data_pivot_family_status[1])\n",
    "\n",
    "data_pivot_family_status['debt_1_family_status'] = data_pivot_family_status[1] * 100 / (data_pivot_family_status[0] + data_pivot_family_status[1])\n"
   ]
  },
  {
   "cell_type": "code",
   "execution_count": 211,
   "metadata": {},
   "outputs": [
    {
     "data": {
      "text/html": [
       "<div>\n",
       "<style scoped>\n",
       "    .dataframe tbody tr th:only-of-type {\n",
       "        vertical-align: middle;\n",
       "    }\n",
       "\n",
       "    .dataframe tbody tr th {\n",
       "        vertical-align: top;\n",
       "    }\n",
       "\n",
       "    .dataframe thead th {\n",
       "        text-align: right;\n",
       "    }\n",
       "</style>\n",
       "<table border=\"1\" class=\"dataframe\">\n",
       "  <thead>\n",
       "    <tr style=\"text-align: right;\">\n",
       "      <th>debt</th>\n",
       "      <th>0</th>\n",
       "      <th>1</th>\n",
       "      <th>debt_0_family_status</th>\n",
       "      <th>debt_1_family_status</th>\n",
       "    </tr>\n",
       "    <tr>\n",
       "      <th>family_status</th>\n",
       "      <th></th>\n",
       "      <th></th>\n",
       "      <th></th>\n",
       "      <th></th>\n",
       "    </tr>\n",
       "  </thead>\n",
       "  <tbody>\n",
       "    <tr>\n",
       "      <td>вдовец / вдова</td>\n",
       "      <td>896</td>\n",
       "      <td>63</td>\n",
       "      <td>93.430657</td>\n",
       "      <td>6.569343</td>\n",
       "    </tr>\n",
       "    <tr>\n",
       "      <td>в разводе</td>\n",
       "      <td>1110</td>\n",
       "      <td>85</td>\n",
       "      <td>92.887029</td>\n",
       "      <td>7.112971</td>\n",
       "    </tr>\n",
       "    <tr>\n",
       "      <td>женат / замужем</td>\n",
       "      <td>11408</td>\n",
       "      <td>931</td>\n",
       "      <td>92.454818</td>\n",
       "      <td>7.545182</td>\n",
       "    </tr>\n",
       "    <tr>\n",
       "      <td>гражданский брак</td>\n",
       "      <td>3763</td>\n",
       "      <td>388</td>\n",
       "      <td>90.652855</td>\n",
       "      <td>9.347145</td>\n",
       "    </tr>\n",
       "    <tr>\n",
       "      <td>не женат / не замужем</td>\n",
       "      <td>2536</td>\n",
       "      <td>274</td>\n",
       "      <td>90.249110</td>\n",
       "      <td>9.750890</td>\n",
       "    </tr>\n",
       "  </tbody>\n",
       "</table>\n",
       "</div>"
      ],
      "text/plain": [
       "debt                       0    1  debt_0_family_status  debt_1_family_status\n",
       "family_status                                                                \n",
       "вдовец / вдова           896   63             93.430657              6.569343\n",
       "в разводе               1110   85             92.887029              7.112971\n",
       "женат / замужем        11408  931             92.454818              7.545182\n",
       "гражданский брак        3763  388             90.652855              9.347145\n",
       "не женат / не замужем   2536  274             90.249110              9.750890"
      ]
     },
     "metadata": {},
     "output_type": "display_data"
    }
   ],
   "source": [
    "display(data_pivot_family_status.sort_values(by = 'debt_1_family_status')) # вывод сводной таблицы по срокам возврата кредита\n",
    "                                                                           # по клиентам с разными семейными статусами\n",
    "\n"
   ]
  },
  {
   "cell_type": "markdown",
   "metadata": {},
   "source": [
    "**Вывод**"
   ]
  },
  {
   "cell_type": "markdown",
   "metadata": {},
   "source": [
    "Из таблицы видно, что больший процент задолжности среди не женатых/ не замужних -9.75%. К не женатым также можно отнести группы людей \"в разводе\", \"вдовец/вдова\", \"гражданский брак\". Тогда посчитав средний процент по задолжности кредита на эти группы, получим 8,18 %, что на 0.65 % больше, чем процент задолжности у женатых/ замужних. Из-за несущественной разницы процнтов, можно сделать вывод, что статус семейного положения не влияет на возврат кредита в срок."
   ]
  },
  {
   "cell_type": "markdown",
   "metadata": {},
   "source": [
    "- Есть ли зависимость между уровнем дохода и возвратом кредита в срок?"
   ]
  },
  {
   "cell_type": "code",
   "execution_count": 212,
   "metadata": {},
   "outputs": [],
   "source": [
    "# добавим столбцы с расчетом процентов в сводную таблицу\n",
    "data_pivot_incom_status['debt_0_incom_status'] = data_pivot_incom_status[0] * 100 / (data_pivot_incom_status[0] + data_pivot_incom_status[1]) #столбец с процентом возврата в срок\n",
    "data_pivot_incom_status['debt_1_incom_status'] = data_pivot_incom_status[1] * 100 / (data_pivot_incom_status[0] + data_pivot_incom_status[1])  #столбец с процентом по долгу"
   ]
  },
  {
   "cell_type": "code",
   "execution_count": 213,
   "metadata": {},
   "outputs": [
    {
     "data": {
      "text/html": [
       "<div>\n",
       "<style scoped>\n",
       "    .dataframe tbody tr th:only-of-type {\n",
       "        vertical-align: middle;\n",
       "    }\n",
       "\n",
       "    .dataframe tbody tr th {\n",
       "        vertical-align: top;\n",
       "    }\n",
       "\n",
       "    .dataframe thead th {\n",
       "        text-align: right;\n",
       "    }\n",
       "</style>\n",
       "<table border=\"1\" class=\"dataframe\">\n",
       "  <thead>\n",
       "    <tr style=\"text-align: right;\">\n",
       "      <th>debt</th>\n",
       "      <th>0</th>\n",
       "      <th>1</th>\n",
       "      <th>debt_0_incom_status</th>\n",
       "      <th>debt_1_incom_status</th>\n",
       "    </tr>\n",
       "    <tr>\n",
       "      <th>income_group</th>\n",
       "      <th></th>\n",
       "      <th></th>\n",
       "      <th></th>\n",
       "      <th></th>\n",
       "    </tr>\n",
       "  </thead>\n",
       "  <tbody>\n",
       "    <tr>\n",
       "      <td>доход выше среднего</td>\n",
       "      <td>9780</td>\n",
       "      <td>831</td>\n",
       "      <td>92.168504</td>\n",
       "      <td>7.831496</td>\n",
       "    </tr>\n",
       "    <tr>\n",
       "      <td>доход ниже среднего</td>\n",
       "      <td>9933</td>\n",
       "      <td>910</td>\n",
       "      <td>91.607489</td>\n",
       "      <td>8.392511</td>\n",
       "    </tr>\n",
       "  </tbody>\n",
       "</table>\n",
       "</div>"
      ],
      "text/plain": [
       "debt                    0    1  debt_0_incom_status  debt_1_incom_status\n",
       "income_group                                                            \n",
       "доход выше среднего  9780  831            92.168504             7.831496\n",
       "доход ниже среднего  9933  910            91.607489             8.392511"
      ]
     },
     "metadata": {},
     "output_type": "display_data"
    }
   ],
   "source": [
    "display(data_pivot_incom_status.sort_values(by = 'debt_1_incom_status')) # вывод сводной таблицы по срокам возврата кредита \n",
    "                                                                         # по клиентам с разными уровнями дохода\n",
    "\n",
    "\n"
   ]
  },
  {
   "cell_type": "markdown",
   "metadata": {},
   "source": [
    "**Вывод**"
   ]
  },
  {
   "cell_type": "markdown",
   "metadata": {},
   "source": [
    "По сводной таблице можно отметить, что процент не вернувших вовремя кредит, больше среди тех, у кого доход ниже среднего на 0,33%. Стоить отметить, что разница по проценту должников между категориями по доходу не существенная. Делаем вывод, что категория дохода не влияет на возврат кредита в срок."
   ]
  },
  {
   "cell_type": "markdown",
   "metadata": {},
   "source": [
    "- Как разные цели кредита влияют на его возврат в срок?"
   ]
  },
  {
   "cell_type": "code",
   "execution_count": 214,
   "metadata": {},
   "outputs": [],
   "source": [
    "# добавим столбцы с расчетом процентов в сводную таблицу\n",
    "data_pivot_group_purpose['debt_0_group_purpose'] = data_pivot_group_purpose[0] * 100 / (data_pivot_group_purpose[0] + data_pivot_group_purpose[1]) #столбец с процентом возврата в срок\n",
    "data_pivot_group_purpose['debt_1_group_purpose'] = data_pivot_group_purpose[1] * 100 / (data_pivot_group_purpose[0] + data_pivot_group_purpose[1]) #столбец с процентом по долгу"
   ]
  },
  {
   "cell_type": "code",
   "execution_count": 215,
   "metadata": {},
   "outputs": [
    {
     "data": {
      "text/html": [
       "<div>\n",
       "<style scoped>\n",
       "    .dataframe tbody tr th:only-of-type {\n",
       "        vertical-align: middle;\n",
       "    }\n",
       "\n",
       "    .dataframe tbody tr th {\n",
       "        vertical-align: top;\n",
       "    }\n",
       "\n",
       "    .dataframe thead th {\n",
       "        text-align: right;\n",
       "    }\n",
       "</style>\n",
       "<table border=\"1\" class=\"dataframe\">\n",
       "  <thead>\n",
       "    <tr style=\"text-align: right;\">\n",
       "      <th>debt</th>\n",
       "      <th>0</th>\n",
       "      <th>1</th>\n",
       "      <th>debt_0_group_purpose</th>\n",
       "      <th>debt_1_group_purpose</th>\n",
       "    </tr>\n",
       "    <tr>\n",
       "      <th>group_purpose</th>\n",
       "      <th></th>\n",
       "      <th></th>\n",
       "      <th></th>\n",
       "      <th></th>\n",
       "    </tr>\n",
       "  </thead>\n",
       "  <tbody>\n",
       "    <tr>\n",
       "      <td>на приобретение недвижимости</td>\n",
       "      <td>10029</td>\n",
       "      <td>782</td>\n",
       "      <td>92.766627</td>\n",
       "      <td>7.233373</td>\n",
       "    </tr>\n",
       "    <tr>\n",
       "      <td>на свадьбу</td>\n",
       "      <td>2138</td>\n",
       "      <td>186</td>\n",
       "      <td>91.996558</td>\n",
       "      <td>8.003442</td>\n",
       "    </tr>\n",
       "    <tr>\n",
       "      <td>на получение образования</td>\n",
       "      <td>3643</td>\n",
       "      <td>370</td>\n",
       "      <td>90.779965</td>\n",
       "      <td>9.220035</td>\n",
       "    </tr>\n",
       "    <tr>\n",
       "      <td>на приобретение автомобиля</td>\n",
       "      <td>3903</td>\n",
       "      <td>403</td>\n",
       "      <td>90.640966</td>\n",
       "      <td>9.359034</td>\n",
       "    </tr>\n",
       "  </tbody>\n",
       "</table>\n",
       "</div>"
      ],
      "text/plain": [
       "debt                              0    1  debt_0_group_purpose  \\\n",
       "group_purpose                                                    \n",
       "на приобретение недвижимости  10029  782             92.766627   \n",
       "на свадьбу                     2138  186             91.996558   \n",
       "на получение образования       3643  370             90.779965   \n",
       "на приобретение автомобиля     3903  403             90.640966   \n",
       "\n",
       "debt                          debt_1_group_purpose  \n",
       "group_purpose                                       \n",
       "на приобретение недвижимости              7.233373  \n",
       "на свадьбу                                8.003442  \n",
       "на получение образования                  9.220035  \n",
       "на приобретение автомобиля                9.359034  "
      ]
     },
     "metadata": {},
     "output_type": "display_data"
    }
   ],
   "source": [
    "display(data_pivot_group_purpose.sort_values(by = 'debt_1_group_purpose')) # вывод сводной таблицы по срокам возврата кредита \n",
    "                                                                          # по клиентам с разными целями кредита"
   ]
  },
  {
   "cell_type": "markdown",
   "metadata": {},
   "source": [
    "**Вывод**"
   ]
  },
  {
   "cell_type": "markdown",
   "metadata": {},
   "source": [
    "По сводной таблице можно отметить, что больший процент тех, кто в срок не погашает задолжность по кредиту среди людей, взявших деньги на приобретение автомобиля. Меньший процент по задолжности среди людей взявших кредит на недвижимость. Так как цели кредитов абсолютно разные и охватывают разные сферы жизни людей, можно сказать, что зависимость между целью кредита и его возвратом в срок вовремя есть. Риски банка повышаются, когда выдается кредит на автомобиль и на образование."
   ]
  },
  {
   "cell_type": "markdown",
   "metadata": {},
   "source": [
    "## Шаг 4. Общий вывод"
   ]
  },
  {
   "cell_type": "markdown",
   "metadata": {},
   "source": [
    "По результатам проведенного исследования был сделан вывод, что семейное положение, уровень дохода не влияют на возврат кредита. Риски не возврата кредита вовремя повышаются, когда кредит выдается заемщикам с детьми или на покупку автомобиля и получение образования."
   ]
  }
 ],
 "metadata": {
  "ExecuteTimeLog": [
   {
    "duration": 648,
    "start_time": "2022-01-23T15:19:17.953Z"
   },
   {
    "duration": 11,
    "start_time": "2022-01-23T15:39:33.379Z"
   },
   {
    "duration": 771,
    "start_time": "2022-01-23T18:03:53.040Z"
   },
   {
    "duration": 11,
    "start_time": "2022-01-23T18:03:53.813Z"
   },
   {
    "duration": 8,
    "start_time": "2022-01-23T18:03:53.826Z"
   },
   {
    "duration": 60,
    "start_time": "2022-01-23T18:26:29.347Z"
   },
   {
    "duration": 54,
    "start_time": "2022-01-23T18:27:13.918Z"
   },
   {
    "duration": 320,
    "start_time": "2022-01-23T18:28:49.838Z"
   },
   {
    "duration": 5,
    "start_time": "2022-01-23T18:29:05.842Z"
   },
   {
    "duration": 5,
    "start_time": "2022-01-23T18:33:43.892Z"
   },
   {
    "duration": 6,
    "start_time": "2022-01-23T18:34:06.807Z"
   },
   {
    "duration": 6,
    "start_time": "2022-01-23T18:40:44.070Z"
   },
   {
    "duration": 7,
    "start_time": "2022-01-23T18:45:59.053Z"
   },
   {
    "duration": 334,
    "start_time": "2022-01-23T18:56:51.326Z"
   },
   {
    "duration": 662,
    "start_time": "2022-01-23T18:58:21.860Z"
   },
   {
    "duration": 10,
    "start_time": "2022-01-23T18:58:22.524Z"
   },
   {
    "duration": 8,
    "start_time": "2022-01-23T18:58:22.536Z"
   },
   {
    "duration": 355,
    "start_time": "2022-01-23T18:58:22.546Z"
   },
   {
    "duration": 21,
    "start_time": "2022-01-23T18:59:26.511Z"
   },
   {
    "duration": 312,
    "start_time": "2022-01-23T19:06:36.745Z"
   },
   {
    "duration": 701,
    "start_time": "2022-01-23T19:06:59.353Z"
   },
   {
    "duration": 11,
    "start_time": "2022-01-23T19:07:00.056Z"
   },
   {
    "duration": 9,
    "start_time": "2022-01-23T19:07:00.069Z"
   },
   {
    "duration": 22,
    "start_time": "2022-01-23T19:07:00.079Z"
   },
   {
    "duration": 448,
    "start_time": "2022-01-23T19:07:31.381Z"
   },
   {
    "duration": 625,
    "start_time": "2022-01-23T19:07:36.532Z"
   },
   {
    "duration": 10,
    "start_time": "2022-01-23T19:07:37.159Z"
   },
   {
    "duration": 8,
    "start_time": "2022-01-23T19:07:37.171Z"
   },
   {
    "duration": 20,
    "start_time": "2022-01-23T19:07:37.181Z"
   },
   {
    "duration": 350,
    "start_time": "2022-01-24T17:09:31.525Z"
   },
   {
    "duration": 798,
    "start_time": "2022-01-24T17:10:01.119Z"
   },
   {
    "duration": 15,
    "start_time": "2022-01-24T17:10:01.919Z"
   },
   {
    "duration": 34,
    "start_time": "2022-01-24T17:10:01.937Z"
   },
   {
    "duration": 46,
    "start_time": "2022-01-24T17:10:01.974Z"
   },
   {
    "duration": 390,
    "start_time": "2022-01-24T17:10:02.022Z"
   },
   {
    "duration": 1298,
    "start_time": "2022-01-24T17:10:20.939Z"
   },
   {
    "duration": 2430,
    "start_time": "2022-01-24T17:14:05.876Z"
   },
   {
    "duration": 828,
    "start_time": "2022-01-24T17:14:17.963Z"
   },
   {
    "duration": 14,
    "start_time": "2022-01-24T17:14:18.794Z"
   },
   {
    "duration": 11,
    "start_time": "2022-01-24T17:14:18.812Z"
   },
   {
    "duration": 66,
    "start_time": "2022-01-24T17:14:18.825Z"
   },
   {
    "duration": 1220,
    "start_time": "2022-01-24T17:14:18.895Z"
   },
   {
    "duration": 1252,
    "start_time": "2022-01-24T17:18:30.587Z"
   },
   {
    "duration": 1513,
    "start_time": "2022-01-24T17:18:38.388Z"
   },
   {
    "duration": 425,
    "start_time": "2022-01-24T17:26:09.888Z"
   },
   {
    "duration": 1116,
    "start_time": "2022-01-24T17:26:30.913Z"
   },
   {
    "duration": 17,
    "start_time": "2022-01-24T17:26:58.334Z"
   },
   {
    "duration": 7,
    "start_time": "2022-01-24T17:31:25.138Z"
   },
   {
    "duration": 37,
    "start_time": "2022-01-24T17:32:25.097Z"
   },
   {
    "duration": 46,
    "start_time": "2022-01-24T17:33:15.029Z"
   },
   {
    "duration": 25,
    "start_time": "2022-01-24T17:33:26.385Z"
   },
   {
    "duration": 47,
    "start_time": "2022-01-24T17:33:58.907Z"
   },
   {
    "duration": 12,
    "start_time": "2022-01-24T17:34:02.826Z"
   },
   {
    "duration": 17,
    "start_time": "2022-01-24T17:34:13.437Z"
   },
   {
    "duration": 282,
    "start_time": "2022-01-24T17:36:17.071Z"
   },
   {
    "duration": 559,
    "start_time": "2022-01-24T17:37:11.560Z"
   },
   {
    "duration": 363,
    "start_time": "2022-01-24T17:37:34.262Z"
   },
   {
    "duration": 782,
    "start_time": "2022-01-24T17:37:39.914Z"
   },
   {
    "duration": 15,
    "start_time": "2022-01-24T17:37:40.699Z"
   },
   {
    "duration": 12,
    "start_time": "2022-01-24T17:37:40.717Z"
   },
   {
    "duration": 50,
    "start_time": "2022-01-24T17:37:40.732Z"
   },
   {
    "duration": 53,
    "start_time": "2022-01-24T17:37:40.784Z"
   },
   {
    "duration": 53,
    "start_time": "2022-01-24T17:37:40.840Z"
   },
   {
    "duration": 1265,
    "start_time": "2022-01-24T17:38:13.294Z"
   },
   {
    "duration": 1183,
    "start_time": "2022-01-24T17:38:20.272Z"
   },
   {
    "duration": 15,
    "start_time": "2022-01-24T17:38:21.458Z"
   },
   {
    "duration": 12,
    "start_time": "2022-01-24T17:38:21.477Z"
   },
   {
    "duration": 24,
    "start_time": "2022-01-24T17:38:21.491Z"
   },
   {
    "duration": 6,
    "start_time": "2022-01-24T17:38:21.518Z"
   },
   {
    "duration": 59,
    "start_time": "2022-01-24T17:38:21.528Z"
   },
   {
    "duration": 424,
    "start_time": "2022-01-24T17:58:42.952Z"
   },
   {
    "duration": 23,
    "start_time": "2022-01-24T18:00:03.855Z"
   },
   {
    "duration": 14,
    "start_time": "2022-01-24T18:01:29.992Z"
   },
   {
    "duration": 15,
    "start_time": "2022-01-24T18:01:37.902Z"
   },
   {
    "duration": 8,
    "start_time": "2022-01-24T18:02:11.303Z"
   },
   {
    "duration": 840,
    "start_time": "2022-01-24T18:02:18.028Z"
   },
   {
    "duration": 33,
    "start_time": "2022-01-24T18:02:18.870Z"
   },
   {
    "duration": 18,
    "start_time": "2022-01-24T18:02:18.907Z"
   },
   {
    "duration": 55,
    "start_time": "2022-01-24T18:02:18.929Z"
   },
   {
    "duration": 10,
    "start_time": "2022-01-24T18:02:18.987Z"
   },
   {
    "duration": 17,
    "start_time": "2022-01-24T18:02:19.001Z"
   },
   {
    "duration": 47,
    "start_time": "2022-01-24T18:02:19.020Z"
   },
   {
    "duration": 869,
    "start_time": "2022-01-24T18:03:03.436Z"
   },
   {
    "duration": 15,
    "start_time": "2022-01-24T18:03:04.308Z"
   },
   {
    "duration": 27,
    "start_time": "2022-01-24T18:03:04.326Z"
   },
   {
    "duration": 30,
    "start_time": "2022-01-24T18:03:04.364Z"
   },
   {
    "duration": 6,
    "start_time": "2022-01-24T18:03:04.396Z"
   },
   {
    "duration": 24,
    "start_time": "2022-01-24T18:03:04.405Z"
   },
   {
    "duration": 40,
    "start_time": "2022-01-24T18:03:04.431Z"
   },
   {
    "duration": 35,
    "start_time": "2022-01-24T18:06:12.072Z"
   },
   {
    "duration": 62,
    "start_time": "2022-01-24T18:06:54.504Z"
   },
   {
    "duration": 56,
    "start_time": "2022-01-24T18:07:29.337Z"
   },
   {
    "duration": 72,
    "start_time": "2022-01-24T18:08:08.233Z"
   },
   {
    "duration": 21,
    "start_time": "2022-01-24T18:08:49.926Z"
   },
   {
    "duration": 55,
    "start_time": "2022-01-24T18:08:58.204Z"
   },
   {
    "duration": 29,
    "start_time": "2022-01-24T18:10:00.279Z"
   },
   {
    "duration": 27,
    "start_time": "2022-01-24T18:10:53.325Z"
   },
   {
    "duration": 38,
    "start_time": "2022-01-24T18:11:19.888Z"
   },
   {
    "duration": 8,
    "start_time": "2022-01-24T18:15:08.969Z"
   },
   {
    "duration": 19,
    "start_time": "2022-01-24T18:19:14.332Z"
   },
   {
    "duration": 12,
    "start_time": "2022-01-24T18:20:29.232Z"
   },
   {
    "duration": 33,
    "start_time": "2022-01-24T18:20:58.137Z"
   },
   {
    "duration": 9,
    "start_time": "2022-01-24T18:25:15.460Z"
   },
   {
    "duration": 19,
    "start_time": "2022-01-24T18:25:20.199Z"
   },
   {
    "duration": 11,
    "start_time": "2022-01-24T18:29:29.432Z"
   },
   {
    "duration": 7,
    "start_time": "2022-01-24T18:30:17.835Z"
   },
   {
    "duration": 12,
    "start_time": "2022-01-24T18:35:39.163Z"
   },
   {
    "duration": 24,
    "start_time": "2022-01-24T18:39:29.773Z"
   },
   {
    "duration": 79,
    "start_time": "2022-01-24T18:39:36.588Z"
   },
   {
    "duration": 14,
    "start_time": "2022-01-24T18:39:36.670Z"
   },
   {
    "duration": 21,
    "start_time": "2022-01-24T18:39:36.688Z"
   },
   {
    "duration": 56,
    "start_time": "2022-01-24T18:39:36.713Z"
   },
   {
    "duration": 14,
    "start_time": "2022-01-24T18:39:36.772Z"
   },
   {
    "duration": 29,
    "start_time": "2022-01-24T18:39:36.789Z"
   },
   {
    "duration": 45,
    "start_time": "2022-01-24T18:39:36.822Z"
   },
   {
    "duration": 32,
    "start_time": "2022-01-24T18:39:36.870Z"
   },
   {
    "duration": 32,
    "start_time": "2022-01-24T18:39:36.905Z"
   },
   {
    "duration": 37,
    "start_time": "2022-01-24T18:39:36.940Z"
   },
   {
    "duration": 58,
    "start_time": "2022-01-24T18:39:36.980Z"
   },
   {
    "duration": 19,
    "start_time": "2022-01-24T18:41:11.575Z"
   },
   {
    "duration": 28,
    "start_time": "2022-01-24T18:41:48.076Z"
   },
   {
    "duration": 78,
    "start_time": "2022-01-24T18:41:53.199Z"
   },
   {
    "duration": 14,
    "start_time": "2022-01-24T18:41:53.280Z"
   },
   {
    "duration": 294,
    "start_time": "2022-01-24T18:41:53.297Z"
   },
   {
    "duration": 25,
    "start_time": "2022-01-24T18:41:53.594Z"
   },
   {
    "duration": 6,
    "start_time": "2022-01-24T18:41:53.621Z"
   },
   {
    "duration": 17,
    "start_time": "2022-01-24T18:41:53.629Z"
   },
   {
    "duration": 19,
    "start_time": "2022-01-24T18:41:53.664Z"
   },
   {
    "duration": 21,
    "start_time": "2022-01-24T18:41:53.686Z"
   },
   {
    "duration": 20,
    "start_time": "2022-01-24T18:41:53.709Z"
   },
   {
    "duration": 42,
    "start_time": "2022-01-24T18:41:53.731Z"
   },
   {
    "duration": 42,
    "start_time": "2022-01-24T18:41:53.776Z"
   },
   {
    "duration": 47,
    "start_time": "2022-01-24T18:41:53.821Z"
   },
   {
    "duration": 31,
    "start_time": "2022-01-24T18:42:10.362Z"
   },
   {
    "duration": 81,
    "start_time": "2022-01-24T18:42:20.277Z"
   },
   {
    "duration": 14,
    "start_time": "2022-01-24T18:42:20.360Z"
   },
   {
    "duration": 15,
    "start_time": "2022-01-24T18:42:20.377Z"
   },
   {
    "duration": 25,
    "start_time": "2022-01-24T18:42:20.395Z"
   },
   {
    "duration": 41,
    "start_time": "2022-01-24T18:42:20.423Z"
   },
   {
    "duration": 18,
    "start_time": "2022-01-24T18:42:20.468Z"
   },
   {
    "duration": 22,
    "start_time": "2022-01-24T18:42:20.489Z"
   },
   {
    "duration": 65,
    "start_time": "2022-01-24T18:42:20.516Z"
   },
   {
    "duration": 25,
    "start_time": "2022-01-24T18:42:20.584Z"
   },
   {
    "duration": 13,
    "start_time": "2022-01-24T18:42:20.613Z"
   },
   {
    "duration": 79,
    "start_time": "2022-01-24T18:42:20.629Z"
   },
   {
    "duration": 32,
    "start_time": "2022-01-24T18:42:20.711Z"
   },
   {
    "duration": 22,
    "start_time": "2022-01-24T18:47:52.769Z"
   },
   {
    "duration": 79,
    "start_time": "2022-01-24T18:50:46.145Z"
   },
   {
    "duration": 13,
    "start_time": "2022-01-24T18:50:46.227Z"
   },
   {
    "duration": 12,
    "start_time": "2022-01-24T18:50:46.265Z"
   },
   {
    "duration": 32,
    "start_time": "2022-01-24T18:50:46.280Z"
   },
   {
    "duration": 6,
    "start_time": "2022-01-24T18:50:46.314Z"
   },
   {
    "duration": 45,
    "start_time": "2022-01-24T18:50:46.322Z"
   },
   {
    "duration": 20,
    "start_time": "2022-01-24T18:50:46.370Z"
   },
   {
    "duration": 22,
    "start_time": "2022-01-24T18:50:46.393Z"
   },
   {
    "duration": 49,
    "start_time": "2022-01-24T18:50:46.418Z"
   },
   {
    "duration": 14,
    "start_time": "2022-01-24T18:50:46.470Z"
   },
   {
    "duration": 31,
    "start_time": "2022-01-24T18:50:46.486Z"
   },
   {
    "duration": 54,
    "start_time": "2022-01-24T18:50:46.520Z"
   },
   {
    "duration": 419,
    "start_time": "2022-01-25T16:37:25.501Z"
   },
   {
    "duration": 361,
    "start_time": "2022-01-25T16:38:58.958Z"
   },
   {
    "duration": 867,
    "start_time": "2022-01-25T16:39:10.517Z"
   },
   {
    "duration": 17,
    "start_time": "2022-01-25T16:39:11.386Z"
   },
   {
    "duration": 13,
    "start_time": "2022-01-25T16:39:11.405Z"
   },
   {
    "duration": 57,
    "start_time": "2022-01-25T16:39:11.420Z"
   },
   {
    "duration": 5,
    "start_time": "2022-01-25T16:39:11.480Z"
   },
   {
    "duration": 18,
    "start_time": "2022-01-25T16:39:11.487Z"
   },
   {
    "duration": 53,
    "start_time": "2022-01-25T16:39:11.507Z"
   },
   {
    "duration": 26,
    "start_time": "2022-01-25T16:39:11.565Z"
   },
   {
    "duration": 25,
    "start_time": "2022-01-25T16:39:11.594Z"
   },
   {
    "duration": 39,
    "start_time": "2022-01-25T16:39:11.621Z"
   },
   {
    "duration": 29,
    "start_time": "2022-01-25T16:39:11.663Z"
   },
   {
    "duration": 19,
    "start_time": "2022-01-25T16:39:11.694Z"
   },
   {
    "duration": 5170,
    "start_time": "2022-01-25T16:39:11.716Z"
   },
   {
    "duration": -1887,
    "start_time": "2022-01-25T16:40:28.449Z"
   },
   {
    "duration": -1832,
    "start_time": "2022-01-25T16:40:37.394Z"
   },
   {
    "duration": -1880,
    "start_time": "2022-01-25T16:40:37.443Z"
   },
   {
    "duration": -1887,
    "start_time": "2022-01-25T16:40:37.452Z"
   },
   {
    "duration": -1890,
    "start_time": "2022-01-25T16:40:37.457Z"
   },
   {
    "duration": -1938,
    "start_time": "2022-01-25T16:40:37.507Z"
   },
   {
    "duration": -1997,
    "start_time": "2022-01-25T16:40:37.567Z"
   },
   {
    "duration": -1999,
    "start_time": "2022-01-25T16:40:37.571Z"
   },
   {
    "duration": -2047,
    "start_time": "2022-01-25T16:40:37.620Z"
   },
   {
    "duration": -2049,
    "start_time": "2022-01-25T16:40:37.624Z"
   },
   {
    "duration": -2051,
    "start_time": "2022-01-25T16:40:37.628Z"
   },
   {
    "duration": -2054,
    "start_time": "2022-01-25T16:40:37.632Z"
   },
   {
    "duration": -2056,
    "start_time": "2022-01-25T16:40:37.636Z"
   },
   {
    "duration": -2059,
    "start_time": "2022-01-25T16:40:37.640Z"
   },
   {
    "duration": 85,
    "start_time": "2022-01-25T16:41:08.450Z"
   },
   {
    "duration": 28,
    "start_time": "2022-01-25T16:41:08.538Z"
   },
   {
    "duration": 12,
    "start_time": "2022-01-25T16:41:08.569Z"
   },
   {
    "duration": 30,
    "start_time": "2022-01-25T16:41:08.584Z"
   },
   {
    "duration": 47,
    "start_time": "2022-01-25T16:41:08.617Z"
   },
   {
    "duration": 18,
    "start_time": "2022-01-25T16:41:08.666Z"
   },
   {
    "duration": 21,
    "start_time": "2022-01-25T16:41:08.687Z"
   },
   {
    "duration": 57,
    "start_time": "2022-01-25T16:41:08.712Z"
   },
   {
    "duration": 21,
    "start_time": "2022-01-25T16:41:08.772Z"
   },
   {
    "duration": 11,
    "start_time": "2022-01-25T16:41:08.796Z"
   },
   {
    "duration": 59,
    "start_time": "2022-01-25T16:41:08.810Z"
   },
   {
    "duration": 18,
    "start_time": "2022-01-25T16:41:08.872Z"
   },
   {
    "duration": 5759,
    "start_time": "2022-01-25T16:41:08.892Z"
   },
   {
    "duration": -2213,
    "start_time": "2022-01-25T16:47:39.357Z"
   },
   {
    "duration": -2218,
    "start_time": "2022-01-25T16:47:39.364Z"
   },
   {
    "duration": -2223,
    "start_time": "2022-01-25T16:47:39.370Z"
   },
   {
    "duration": -2227,
    "start_time": "2022-01-25T16:47:39.376Z"
   },
   {
    "duration": -2237,
    "start_time": "2022-01-25T16:47:39.387Z"
   },
   {
    "duration": -2242,
    "start_time": "2022-01-25T16:47:39.394Z"
   },
   {
    "duration": -2265,
    "start_time": "2022-01-25T16:47:39.418Z"
   },
   {
    "duration": -2270,
    "start_time": "2022-01-25T16:47:39.425Z"
   },
   {
    "duration": -2277,
    "start_time": "2022-01-25T16:47:39.433Z"
   },
   {
    "duration": -2284,
    "start_time": "2022-01-25T16:47:39.441Z"
   },
   {
    "duration": -2289,
    "start_time": "2022-01-25T16:47:39.448Z"
   },
   {
    "duration": -2312,
    "start_time": "2022-01-25T16:47:39.472Z"
   },
   {
    "duration": -2319,
    "start_time": "2022-01-25T16:47:39.481Z"
   },
   {
    "duration": -1892,
    "start_time": "2022-01-25T16:47:50.695Z"
   },
   {
    "duration": 5044,
    "start_time": "2022-01-25T16:48:07.701Z"
   },
   {
    "duration": 8012,
    "start_time": "2022-01-25T16:48:41.792Z"
   },
   {
    "duration": 107,
    "start_time": "2022-01-25T16:54:31.063Z"
   },
   {
    "duration": 377,
    "start_time": "2022-01-25T17:00:59.415Z"
   },
   {
    "duration": 348,
    "start_time": "2022-01-25T17:01:52.434Z"
   },
   {
    "duration": 9356,
    "start_time": "2022-01-25T17:02:17.392Z"
   },
   {
    "duration": -1876,
    "start_time": "2022-01-25T17:03:38.443Z"
   },
   {
    "duration": -1880,
    "start_time": "2022-01-25T17:03:38.448Z"
   },
   {
    "duration": -1882,
    "start_time": "2022-01-25T17:03:38.452Z"
   },
   {
    "duration": -1883,
    "start_time": "2022-01-25T17:03:38.455Z"
   },
   {
    "duration": -1884,
    "start_time": "2022-01-25T17:03:38.458Z"
   },
   {
    "duration": -1886,
    "start_time": "2022-01-25T17:03:38.461Z"
   },
   {
    "duration": -1888,
    "start_time": "2022-01-25T17:03:38.465Z"
   },
   {
    "duration": -1890,
    "start_time": "2022-01-25T17:03:38.468Z"
   },
   {
    "duration": -1893,
    "start_time": "2022-01-25T17:03:38.472Z"
   },
   {
    "duration": -1896,
    "start_time": "2022-01-25T17:03:38.477Z"
   },
   {
    "duration": -1899,
    "start_time": "2022-01-25T17:03:38.481Z"
   },
   {
    "duration": -1902,
    "start_time": "2022-01-25T17:03:38.485Z"
   },
   {
    "duration": -1903,
    "start_time": "2022-01-25T17:03:38.489Z"
   },
   {
    "duration": 857,
    "start_time": "2022-01-25T17:03:42.969Z"
   },
   {
    "duration": 20,
    "start_time": "2022-01-25T17:03:43.829Z"
   },
   {
    "duration": 13,
    "start_time": "2022-01-25T17:03:43.860Z"
   },
   {
    "duration": 29,
    "start_time": "2022-01-25T17:03:43.876Z"
   },
   {
    "duration": 6,
    "start_time": "2022-01-25T17:03:43.907Z"
   },
   {
    "duration": 54,
    "start_time": "2022-01-25T17:03:43.915Z"
   },
   {
    "duration": 22,
    "start_time": "2022-01-25T17:03:43.971Z"
   },
   {
    "duration": 24,
    "start_time": "2022-01-25T17:03:43.996Z"
   },
   {
    "duration": 52,
    "start_time": "2022-01-25T17:03:44.023Z"
   },
   {
    "duration": 11,
    "start_time": "2022-01-25T17:03:44.078Z"
   },
   {
    "duration": 30,
    "start_time": "2022-01-25T17:03:44.092Z"
   },
   {
    "duration": 50,
    "start_time": "2022-01-25T17:03:44.124Z"
   },
   {
    "duration": 8968,
    "start_time": "2022-01-25T17:03:44.176Z"
   },
   {
    "duration": 846,
    "start_time": "2022-01-25T17:05:48.917Z"
   },
   {
    "duration": 17,
    "start_time": "2022-01-25T17:05:49.766Z"
   },
   {
    "duration": 12,
    "start_time": "2022-01-25T17:05:49.787Z"
   },
   {
    "duration": 62,
    "start_time": "2022-01-25T17:05:49.803Z"
   },
   {
    "duration": 5,
    "start_time": "2022-01-25T17:05:49.868Z"
   },
   {
    "duration": 20,
    "start_time": "2022-01-25T17:05:49.876Z"
   },
   {
    "duration": 22,
    "start_time": "2022-01-25T17:05:49.898Z"
   },
   {
    "duration": 58,
    "start_time": "2022-01-25T17:05:49.922Z"
   },
   {
    "duration": 22,
    "start_time": "2022-01-25T17:05:49.983Z"
   },
   {
    "duration": 11,
    "start_time": "2022-01-25T17:05:50.008Z"
   },
   {
    "duration": 59,
    "start_time": "2022-01-25T17:05:50.021Z"
   },
   {
    "duration": 18,
    "start_time": "2022-01-25T17:05:50.082Z"
   },
   {
    "duration": -1863,
    "start_time": "2022-01-25T17:06:01.239Z"
   },
   {
    "duration": 372,
    "start_time": "2022-01-25T17:06:11.548Z"
   },
   {
    "duration": 832,
    "start_time": "2022-01-25T17:12:56.093Z"
   },
   {
    "duration": 16,
    "start_time": "2022-01-25T17:12:56.928Z"
   },
   {
    "duration": 13,
    "start_time": "2022-01-25T17:12:56.960Z"
   },
   {
    "duration": 31,
    "start_time": "2022-01-25T17:12:56.976Z"
   },
   {
    "duration": 7,
    "start_time": "2022-01-25T17:12:57.010Z"
   },
   {
    "duration": 49,
    "start_time": "2022-01-25T17:12:57.020Z"
   },
   {
    "duration": 22,
    "start_time": "2022-01-25T17:12:57.071Z"
   },
   {
    "duration": 27,
    "start_time": "2022-01-25T17:12:57.096Z"
   },
   {
    "duration": 52,
    "start_time": "2022-01-25T17:12:57.127Z"
   },
   {
    "duration": 14,
    "start_time": "2022-01-25T17:12:57.182Z"
   },
   {
    "duration": 68,
    "start_time": "2022-01-25T17:12:57.198Z"
   },
   {
    "duration": 19,
    "start_time": "2022-01-25T17:12:57.269Z"
   },
   {
    "duration": 7494,
    "start_time": "2022-01-25T17:12:57.292Z"
   },
   {
    "duration": 867,
    "start_time": "2022-01-25T17:13:36.692Z"
   },
   {
    "duration": 14,
    "start_time": "2022-01-25T17:13:37.562Z"
   },
   {
    "duration": 12,
    "start_time": "2022-01-25T17:13:37.580Z"
   },
   {
    "duration": 29,
    "start_time": "2022-01-25T17:13:37.595Z"
   },
   {
    "duration": 6,
    "start_time": "2022-01-25T17:13:37.659Z"
   },
   {
    "duration": 16,
    "start_time": "2022-01-25T17:13:37.668Z"
   },
   {
    "duration": 19,
    "start_time": "2022-01-25T17:13:37.687Z"
   },
   {
    "duration": 63,
    "start_time": "2022-01-25T17:13:37.710Z"
   },
   {
    "duration": 22,
    "start_time": "2022-01-25T17:13:37.775Z"
   },
   {
    "duration": 12,
    "start_time": "2022-01-25T17:13:37.799Z"
   },
   {
    "duration": 66,
    "start_time": "2022-01-25T17:13:37.813Z"
   },
   {
    "duration": 18,
    "start_time": "2022-01-25T17:13:37.882Z"
   },
   {
    "duration": 6723,
    "start_time": "2022-01-25T17:13:37.903Z"
   },
   {
    "duration": 859,
    "start_time": "2022-01-25T17:15:36.655Z"
   },
   {
    "duration": 15,
    "start_time": "2022-01-25T17:15:37.517Z"
   },
   {
    "duration": 28,
    "start_time": "2022-01-25T17:15:37.535Z"
   },
   {
    "duration": 29,
    "start_time": "2022-01-25T17:15:37.565Z"
   },
   {
    "duration": 7,
    "start_time": "2022-01-25T17:15:37.596Z"
   },
   {
    "duration": 15,
    "start_time": "2022-01-25T17:15:37.605Z"
   },
   {
    "duration": 54,
    "start_time": "2022-01-25T17:15:37.623Z"
   },
   {
    "duration": 23,
    "start_time": "2022-01-25T17:15:37.680Z"
   },
   {
    "duration": 54,
    "start_time": "2022-01-25T17:15:37.707Z"
   },
   {
    "duration": 12,
    "start_time": "2022-01-25T17:15:37.764Z"
   },
   {
    "duration": 33,
    "start_time": "2022-01-25T17:15:37.778Z"
   },
   {
    "duration": 56,
    "start_time": "2022-01-25T17:15:37.814Z"
   },
   {
    "duration": 7193,
    "start_time": "2022-01-25T17:15:37.873Z"
   },
   {
    "duration": 127,
    "start_time": "2022-01-25T17:19:35.273Z"
   },
   {
    "duration": 115,
    "start_time": "2022-01-25T17:20:02.293Z"
   },
   {
    "duration": 78,
    "start_time": "2022-01-25T17:20:09.553Z"
   },
   {
    "duration": 27,
    "start_time": "2022-01-25T17:20:09.634Z"
   },
   {
    "duration": 13,
    "start_time": "2022-01-25T17:20:09.664Z"
   },
   {
    "duration": 28,
    "start_time": "2022-01-25T17:20:09.681Z"
   },
   {
    "duration": 6,
    "start_time": "2022-01-25T17:20:09.712Z"
   },
   {
    "duration": 26,
    "start_time": "2022-01-25T17:20:09.762Z"
   },
   {
    "duration": 32,
    "start_time": "2022-01-25T17:20:09.791Z"
   },
   {
    "duration": 54,
    "start_time": "2022-01-25T17:20:09.827Z"
   },
   {
    "duration": 23,
    "start_time": "2022-01-25T17:20:09.884Z"
   },
   {
    "duration": 11,
    "start_time": "2022-01-25T17:20:09.910Z"
   },
   {
    "duration": 64,
    "start_time": "2022-01-25T17:20:09.924Z"
   },
   {
    "duration": 22,
    "start_time": "2022-01-25T17:20:09.990Z"
   },
   {
    "duration": 310,
    "start_time": "2022-01-25T17:20:10.015Z"
   },
   {
    "duration": 886,
    "start_time": "2022-01-25T17:20:27.450Z"
   },
   {
    "duration": 21,
    "start_time": "2022-01-25T17:20:28.338Z"
   },
   {
    "duration": 15,
    "start_time": "2022-01-25T17:20:28.363Z"
   },
   {
    "duration": 32,
    "start_time": "2022-01-25T17:20:28.382Z"
   },
   {
    "duration": 7,
    "start_time": "2022-01-25T17:20:28.416Z"
   },
   {
    "duration": 18,
    "start_time": "2022-01-25T17:20:28.460Z"
   },
   {
    "duration": 21,
    "start_time": "2022-01-25T17:20:28.480Z"
   },
   {
    "duration": 23,
    "start_time": "2022-01-25T17:20:28.505Z"
   },
   {
    "duration": 23,
    "start_time": "2022-01-25T17:20:28.560Z"
   },
   {
    "duration": 11,
    "start_time": "2022-01-25T17:20:28.585Z"
   },
   {
    "duration": 29,
    "start_time": "2022-01-25T17:20:28.598Z"
   },
   {
    "duration": 46,
    "start_time": "2022-01-25T17:20:28.630Z"
   },
   {
    "duration": 119,
    "start_time": "2022-01-25T17:20:28.679Z"
   },
   {
    "duration": 118,
    "start_time": "2022-01-25T17:21:33.888Z"
   },
   {
    "duration": -1820,
    "start_time": "2022-01-25T17:21:35.829Z"
   },
   {
    "duration": 84,
    "start_time": "2022-01-25T17:21:36.688Z"
   },
   {
    "duration": 14,
    "start_time": "2022-01-25T17:21:36.775Z"
   },
   {
    "duration": 13,
    "start_time": "2022-01-25T17:21:36.792Z"
   },
   {
    "duration": 63,
    "start_time": "2022-01-25T17:21:36.808Z"
   },
   {
    "duration": 6,
    "start_time": "2022-01-25T17:21:36.874Z"
   },
   {
    "duration": 16,
    "start_time": "2022-01-25T17:21:36.883Z"
   },
   {
    "duration": 20,
    "start_time": "2022-01-25T17:21:36.902Z"
   },
   {
    "duration": 62,
    "start_time": "2022-01-25T17:21:36.925Z"
   },
   {
    "duration": 23,
    "start_time": "2022-01-25T17:21:36.990Z"
   },
   {
    "duration": 12,
    "start_time": "2022-01-25T17:21:37.015Z"
   },
   {
    "duration": 33,
    "start_time": "2022-01-25T17:21:37.059Z"
   },
   {
    "duration": 23,
    "start_time": "2022-01-25T17:21:37.095Z"
   },
   {
    "duration": 5194,
    "start_time": "2022-01-25T17:21:37.121Z"
   },
   {
    "duration": 116,
    "start_time": "2022-01-25T17:21:42.318Z"
   },
   {
    "duration": 65,
    "start_time": "2022-01-25T17:26:18.303Z"
   },
   {
    "duration": 45,
    "start_time": "2022-01-25T17:27:55.850Z"
   },
   {
    "duration": 134,
    "start_time": "2022-01-25T18:09:20.199Z"
   },
   {
    "duration": 94,
    "start_time": "2022-01-25T18:10:38.801Z"
   },
   {
    "duration": 21,
    "start_time": "2022-01-25T18:10:38.898Z"
   },
   {
    "duration": 38,
    "start_time": "2022-01-25T18:10:38.923Z"
   },
   {
    "duration": 32,
    "start_time": "2022-01-25T18:10:38.964Z"
   },
   {
    "duration": 8,
    "start_time": "2022-01-25T18:10:38.998Z"
   },
   {
    "duration": 59,
    "start_time": "2022-01-25T18:10:39.009Z"
   },
   {
    "duration": 31,
    "start_time": "2022-01-25T18:10:39.070Z"
   },
   {
    "duration": 25,
    "start_time": "2022-01-25T18:10:39.104Z"
   },
   {
    "duration": 42,
    "start_time": "2022-01-25T18:10:39.132Z"
   },
   {
    "duration": 13,
    "start_time": "2022-01-25T18:10:39.176Z"
   },
   {
    "duration": 49,
    "start_time": "2022-01-25T18:10:39.192Z"
   },
   {
    "duration": 31,
    "start_time": "2022-01-25T18:10:39.244Z"
   },
   {
    "duration": 6301,
    "start_time": "2022-01-25T18:10:39.278Z"
   },
   {
    "duration": 46,
    "start_time": "2022-01-25T18:10:45.581Z"
   },
   {
    "duration": 249,
    "start_time": "2022-01-25T18:10:45.630Z"
   },
   {
    "duration": 153,
    "start_time": "2022-01-25T18:11:49.550Z"
   },
   {
    "duration": 157,
    "start_time": "2022-01-25T18:12:45.236Z"
   },
   {
    "duration": 446,
    "start_time": "2022-01-25T18:14:40.596Z"
   },
   {
    "duration": 5517,
    "start_time": "2022-01-25T18:15:10.347Z"
   },
   {
    "duration": 5011,
    "start_time": "2022-01-25T18:18:02.603Z"
   },
   {
    "duration": 5106,
    "start_time": "2022-01-25T18:20:59.268Z"
   },
   {
    "duration": 131,
    "start_time": "2022-01-25T18:22:04.323Z"
   },
   {
    "duration": 668,
    "start_time": "2022-01-25T18:25:08.364Z"
   },
   {
    "duration": 891,
    "start_time": "2022-01-25T18:28:08.597Z"
   },
   {
    "duration": 18,
    "start_time": "2022-01-25T18:28:09.491Z"
   },
   {
    "duration": 15,
    "start_time": "2022-01-25T18:28:09.513Z"
   },
   {
    "duration": 66,
    "start_time": "2022-01-25T18:28:09.531Z"
   },
   {
    "duration": 7,
    "start_time": "2022-01-25T18:28:09.599Z"
   },
   {
    "duration": 50,
    "start_time": "2022-01-25T18:28:09.609Z"
   },
   {
    "duration": 23,
    "start_time": "2022-01-25T18:28:09.662Z"
   },
   {
    "duration": 26,
    "start_time": "2022-01-25T18:28:09.688Z"
   },
   {
    "duration": 51,
    "start_time": "2022-01-25T18:28:09.717Z"
   },
   {
    "duration": 13,
    "start_time": "2022-01-25T18:28:09.770Z"
   },
   {
    "duration": 34,
    "start_time": "2022-01-25T18:28:09.785Z"
   },
   {
    "duration": 52,
    "start_time": "2022-01-25T18:28:09.822Z"
   },
   {
    "duration": 6057,
    "start_time": "2022-01-25T18:28:09.876Z"
   },
   {
    "duration": 59,
    "start_time": "2022-01-25T18:28:15.935Z"
   },
   {
    "duration": 43,
    "start_time": "2022-01-25T18:28:15.997Z"
   },
   {
    "duration": 87,
    "start_time": "2022-01-25T18:30:21.931Z"
   },
   {
    "duration": 42,
    "start_time": "2022-01-25T18:30:22.022Z"
   },
   {
    "duration": 13,
    "start_time": "2022-01-25T18:30:22.068Z"
   },
   {
    "duration": 27,
    "start_time": "2022-01-25T18:30:22.084Z"
   },
   {
    "duration": 6,
    "start_time": "2022-01-25T18:30:22.113Z"
   },
   {
    "duration": 16,
    "start_time": "2022-01-25T18:30:22.160Z"
   },
   {
    "duration": 21,
    "start_time": "2022-01-25T18:30:22.178Z"
   },
   {
    "duration": 25,
    "start_time": "2022-01-25T18:30:22.202Z"
   },
   {
    "duration": 49,
    "start_time": "2022-01-25T18:30:22.230Z"
   },
   {
    "duration": 11,
    "start_time": "2022-01-25T18:30:22.281Z"
   },
   {
    "duration": 32,
    "start_time": "2022-01-25T18:30:22.294Z"
   },
   {
    "duration": 19,
    "start_time": "2022-01-25T18:30:22.360Z"
   },
   {
    "duration": 5742,
    "start_time": "2022-01-25T18:30:22.382Z"
   },
   {
    "duration": 90,
    "start_time": "2022-01-25T18:30:28.128Z"
   },
   {
    "duration": 65,
    "start_time": "2022-01-25T18:30:28.220Z"
   },
   {
    "duration": 48,
    "start_time": "2022-01-25T18:31:29.061Z"
   },
   {
    "duration": 802,
    "start_time": "2022-01-25T18:32:13.830Z"
   },
   {
    "duration": 588,
    "start_time": "2022-01-25T18:32:22.106Z"
   },
   {
    "duration": 96,
    "start_time": "2022-01-25T18:32:28.444Z"
   },
   {
    "duration": 22,
    "start_time": "2022-01-25T18:32:28.560Z"
   },
   {
    "duration": 14,
    "start_time": "2022-01-25T18:32:28.586Z"
   },
   {
    "duration": 60,
    "start_time": "2022-01-25T18:32:28.604Z"
   },
   {
    "duration": 9,
    "start_time": "2022-01-25T18:32:28.668Z"
   },
   {
    "duration": 18,
    "start_time": "2022-01-25T18:32:28.680Z"
   },
   {
    "duration": 68,
    "start_time": "2022-01-25T18:32:28.701Z"
   },
   {
    "duration": 38,
    "start_time": "2022-01-25T18:32:28.778Z"
   },
   {
    "duration": 47,
    "start_time": "2022-01-25T18:32:28.820Z"
   },
   {
    "duration": 15,
    "start_time": "2022-01-25T18:32:28.870Z"
   },
   {
    "duration": 30,
    "start_time": "2022-01-25T18:32:28.888Z"
   },
   {
    "duration": 61,
    "start_time": "2022-01-25T18:32:28.921Z"
   },
   {
    "duration": 5913,
    "start_time": "2022-01-25T18:32:28.985Z"
   },
   {
    "duration": 43,
    "start_time": "2022-01-25T18:32:34.901Z"
   },
   {
    "duration": 686,
    "start_time": "2022-01-25T18:32:34.959Z"
   },
   {
    "duration": 49,
    "start_time": "2022-01-25T18:32:46.291Z"
   },
   {
    "duration": 84,
    "start_time": "2022-01-25T18:33:19.024Z"
   },
   {
    "duration": 16,
    "start_time": "2022-01-25T18:33:19.112Z"
   },
   {
    "duration": 37,
    "start_time": "2022-01-25T18:33:19.131Z"
   },
   {
    "duration": 30,
    "start_time": "2022-01-25T18:33:19.171Z"
   },
   {
    "duration": 7,
    "start_time": "2022-01-25T18:33:19.203Z"
   },
   {
    "duration": 53,
    "start_time": "2022-01-25T18:33:19.213Z"
   },
   {
    "duration": 21,
    "start_time": "2022-01-25T18:33:19.268Z"
   },
   {
    "duration": 24,
    "start_time": "2022-01-25T18:33:19.292Z"
   },
   {
    "duration": 51,
    "start_time": "2022-01-25T18:33:19.318Z"
   },
   {
    "duration": 12,
    "start_time": "2022-01-25T18:33:19.371Z"
   },
   {
    "duration": 29,
    "start_time": "2022-01-25T18:33:19.385Z"
   },
   {
    "duration": 50,
    "start_time": "2022-01-25T18:33:19.417Z"
   },
   {
    "duration": 5465,
    "start_time": "2022-01-25T18:33:19.469Z"
   },
   {
    "duration": 64,
    "start_time": "2022-01-25T18:33:24.937Z"
   },
   {
    "duration": 73,
    "start_time": "2022-01-25T18:33:25.004Z"
   },
   {
    "duration": 870,
    "start_time": "2022-01-25T18:34:14.931Z"
   },
   {
    "duration": 17,
    "start_time": "2022-01-25T18:34:15.803Z"
   },
   {
    "duration": 12,
    "start_time": "2022-01-25T18:34:15.824Z"
   },
   {
    "duration": 29,
    "start_time": "2022-01-25T18:34:15.860Z"
   },
   {
    "duration": 6,
    "start_time": "2022-01-25T18:34:15.891Z"
   },
   {
    "duration": 15,
    "start_time": "2022-01-25T18:34:15.899Z"
   },
   {
    "duration": 57,
    "start_time": "2022-01-25T18:34:15.917Z"
   },
   {
    "duration": 26,
    "start_time": "2022-01-25T18:34:15.977Z"
   },
   {
    "duration": 51,
    "start_time": "2022-01-25T18:34:16.008Z"
   },
   {
    "duration": 15,
    "start_time": "2022-01-25T18:34:16.062Z"
   },
   {
    "duration": 31,
    "start_time": "2022-01-25T18:34:16.079Z"
   },
   {
    "duration": 48,
    "start_time": "2022-01-25T18:34:16.113Z"
   },
   {
    "duration": 5170,
    "start_time": "2022-01-25T18:34:16.165Z"
   },
   {
    "duration": 57,
    "start_time": "2022-01-25T18:34:21.338Z"
   },
   {
    "duration": 693,
    "start_time": "2022-01-25T18:34:21.398Z"
   },
   {
    "duration": 1529,
    "start_time": "2022-01-25T18:35:14.162Z"
   },
   {
    "duration": 18,
    "start_time": "2022-01-25T18:35:15.695Z"
   },
   {
    "duration": 13,
    "start_time": "2022-01-25T18:35:15.717Z"
   },
   {
    "duration": 63,
    "start_time": "2022-01-25T18:35:15.733Z"
   },
   {
    "duration": 6,
    "start_time": "2022-01-25T18:35:15.799Z"
   },
   {
    "duration": 14,
    "start_time": "2022-01-25T18:35:15.807Z"
   },
   {
    "duration": 55,
    "start_time": "2022-01-25T18:35:15.823Z"
   },
   {
    "duration": 23,
    "start_time": "2022-01-25T18:35:15.881Z"
   },
   {
    "duration": 21,
    "start_time": "2022-01-25T18:35:15.908Z"
   },
   {
    "duration": 11,
    "start_time": "2022-01-25T18:35:15.960Z"
   },
   {
    "duration": 32,
    "start_time": "2022-01-25T18:35:15.974Z"
   },
   {
    "duration": 53,
    "start_time": "2022-01-25T18:35:16.008Z"
   },
   {
    "duration": 4897,
    "start_time": "2022-01-25T18:35:16.064Z"
   },
   {
    "duration": 47,
    "start_time": "2022-01-25T18:35:20.964Z"
   },
   {
    "duration": 85,
    "start_time": "2022-01-25T18:35:21.013Z"
   },
   {
    "duration": 921,
    "start_time": "2022-01-25T18:36:02.175Z"
   },
   {
    "duration": 16,
    "start_time": "2022-01-25T18:36:03.099Z"
   },
   {
    "duration": 12,
    "start_time": "2022-01-25T18:36:03.118Z"
   },
   {
    "duration": 51,
    "start_time": "2022-01-25T18:36:03.133Z"
   },
   {
    "duration": 6,
    "start_time": "2022-01-25T18:36:03.186Z"
   },
   {
    "duration": 15,
    "start_time": "2022-01-25T18:36:03.195Z"
   },
   {
    "duration": 58,
    "start_time": "2022-01-25T18:36:03.212Z"
   },
   {
    "duration": 21,
    "start_time": "2022-01-25T18:36:03.274Z"
   },
   {
    "duration": 21,
    "start_time": "2022-01-25T18:36:03.298Z"
   },
   {
    "duration": 39,
    "start_time": "2022-01-25T18:36:03.322Z"
   },
   {
    "duration": 30,
    "start_time": "2022-01-25T18:36:03.364Z"
   },
   {
    "duration": 18,
    "start_time": "2022-01-25T18:36:03.397Z"
   },
   {
    "duration": 5114,
    "start_time": "2022-01-25T18:36:03.418Z"
   },
   {
    "duration": 56,
    "start_time": "2022-01-25T18:36:08.535Z"
   },
   {
    "duration": 1019,
    "start_time": "2022-01-25T18:36:08.594Z"
   },
   {
    "duration": 822,
    "start_time": "2022-01-25T18:36:41.715Z"
   },
   {
    "duration": 24,
    "start_time": "2022-01-25T18:36:42.540Z"
   },
   {
    "duration": 11,
    "start_time": "2022-01-25T18:36:42.567Z"
   },
   {
    "duration": 31,
    "start_time": "2022-01-25T18:36:42.581Z"
   },
   {
    "duration": 6,
    "start_time": "2022-01-25T18:36:42.614Z"
   },
   {
    "duration": 53,
    "start_time": "2022-01-25T18:36:42.622Z"
   },
   {
    "duration": 22,
    "start_time": "2022-01-25T18:36:42.678Z"
   },
   {
    "duration": 60,
    "start_time": "2022-01-25T18:36:42.705Z"
   },
   {
    "duration": 21,
    "start_time": "2022-01-25T18:36:42.768Z"
   },
   {
    "duration": 14,
    "start_time": "2022-01-25T18:36:42.791Z"
   },
   {
    "duration": 65,
    "start_time": "2022-01-25T18:36:42.807Z"
   },
   {
    "duration": 28,
    "start_time": "2022-01-25T18:36:42.874Z"
   },
   {
    "duration": 4950,
    "start_time": "2022-01-25T18:36:42.916Z"
   },
   {
    "duration": 43,
    "start_time": "2022-01-25T18:36:47.869Z"
   },
   {
    "duration": 864,
    "start_time": "2022-01-25T18:36:47.914Z"
   },
   {
    "duration": 755,
    "start_time": "2022-01-25T18:38:04.508Z"
   },
   {
    "duration": 117,
    "start_time": "2022-01-25T18:38:13.072Z"
   },
   {
    "duration": 17,
    "start_time": "2022-01-25T18:38:13.192Z"
   },
   {
    "duration": 46,
    "start_time": "2022-01-25T18:38:13.213Z"
   },
   {
    "duration": 38,
    "start_time": "2022-01-25T18:38:13.262Z"
   },
   {
    "duration": 8,
    "start_time": "2022-01-25T18:38:13.304Z"
   },
   {
    "duration": 50,
    "start_time": "2022-01-25T18:38:13.315Z"
   },
   {
    "duration": 41,
    "start_time": "2022-01-25T18:38:13.368Z"
   },
   {
    "duration": 57,
    "start_time": "2022-01-25T18:38:13.415Z"
   },
   {
    "duration": 33,
    "start_time": "2022-01-25T18:38:13.476Z"
   },
   {
    "duration": 16,
    "start_time": "2022-01-25T18:38:13.512Z"
   },
   {
    "duration": 73,
    "start_time": "2022-01-25T18:38:13.531Z"
   },
   {
    "duration": 28,
    "start_time": "2022-01-25T18:38:13.607Z"
   },
   {
    "duration": 5358,
    "start_time": "2022-01-25T18:38:13.659Z"
   },
   {
    "duration": 74,
    "start_time": "2022-01-25T18:38:19.020Z"
   },
   {
    "duration": 916,
    "start_time": "2022-01-25T18:38:19.097Z"
   },
   {
    "duration": 797,
    "start_time": "2022-01-25T18:38:38.808Z"
   },
   {
    "duration": 16,
    "start_time": "2022-01-25T18:38:39.607Z"
   },
   {
    "duration": 13,
    "start_time": "2022-01-25T18:38:39.626Z"
   },
   {
    "duration": 30,
    "start_time": "2022-01-25T18:38:39.660Z"
   },
   {
    "duration": 8,
    "start_time": "2022-01-25T18:38:39.693Z"
   },
   {
    "duration": 17,
    "start_time": "2022-01-25T18:38:39.704Z"
   },
   {
    "duration": 56,
    "start_time": "2022-01-25T18:38:39.723Z"
   },
   {
    "duration": 26,
    "start_time": "2022-01-25T18:38:39.784Z"
   },
   {
    "duration": 55,
    "start_time": "2022-01-25T18:38:39.813Z"
   },
   {
    "duration": 11,
    "start_time": "2022-01-25T18:38:39.870Z"
   },
   {
    "duration": 30,
    "start_time": "2022-01-25T18:38:39.883Z"
   },
   {
    "duration": 44,
    "start_time": "2022-01-25T18:38:39.915Z"
   },
   {
    "duration": 4939,
    "start_time": "2022-01-25T18:38:39.961Z"
   },
   {
    "duration": 62,
    "start_time": "2022-01-25T18:38:44.903Z"
   },
   {
    "duration": 1128,
    "start_time": "2022-01-25T18:38:44.968Z"
   },
   {
    "duration": 94,
    "start_time": "2022-01-25T18:44:23.513Z"
   },
   {
    "duration": 16,
    "start_time": "2022-01-25T18:44:23.610Z"
   },
   {
    "duration": 29,
    "start_time": "2022-01-25T18:44:23.629Z"
   },
   {
    "duration": 38,
    "start_time": "2022-01-25T18:44:23.661Z"
   },
   {
    "duration": 6,
    "start_time": "2022-01-25T18:44:23.702Z"
   },
   {
    "duration": 17,
    "start_time": "2022-01-25T18:44:23.710Z"
   },
   {
    "duration": 54,
    "start_time": "2022-01-25T18:44:23.729Z"
   },
   {
    "duration": 22,
    "start_time": "2022-01-25T18:44:23.787Z"
   },
   {
    "duration": 21,
    "start_time": "2022-01-25T18:44:23.812Z"
   },
   {
    "duration": 39,
    "start_time": "2022-01-25T18:44:23.835Z"
   },
   {
    "duration": 29,
    "start_time": "2022-01-25T18:44:23.877Z"
   },
   {
    "duration": 58,
    "start_time": "2022-01-25T18:44:23.909Z"
   },
   {
    "duration": 5392,
    "start_time": "2022-01-25T18:44:23.969Z"
   },
   {
    "duration": 51,
    "start_time": "2022-01-25T18:44:29.367Z"
   },
   {
    "duration": 1405,
    "start_time": "2022-01-25T18:44:29.420Z"
   },
   {
    "duration": 81,
    "start_time": "2022-01-25T18:49:10.219Z"
   },
   {
    "duration": 15,
    "start_time": "2022-01-25T18:49:10.302Z"
   },
   {
    "duration": 40,
    "start_time": "2022-01-25T18:49:10.320Z"
   },
   {
    "duration": 29,
    "start_time": "2022-01-25T18:49:10.363Z"
   },
   {
    "duration": 6,
    "start_time": "2022-01-25T18:49:10.394Z"
   },
   {
    "duration": 21,
    "start_time": "2022-01-25T18:49:10.402Z"
   },
   {
    "duration": 54,
    "start_time": "2022-01-25T18:49:10.425Z"
   },
   {
    "duration": 28,
    "start_time": "2022-01-25T18:49:10.482Z"
   },
   {
    "duration": 53,
    "start_time": "2022-01-25T18:49:10.512Z"
   },
   {
    "duration": 17,
    "start_time": "2022-01-25T18:49:10.568Z"
   },
   {
    "duration": 38,
    "start_time": "2022-01-25T18:49:10.588Z"
   },
   {
    "duration": 48,
    "start_time": "2022-01-25T18:49:10.629Z"
   },
   {
    "duration": 5442,
    "start_time": "2022-01-25T18:49:10.680Z"
   },
   {
    "duration": 69,
    "start_time": "2022-01-25T18:49:16.124Z"
   },
   {
    "duration": 691,
    "start_time": "2022-01-25T18:49:16.195Z"
   },
   {
    "duration": 703,
    "start_time": "2022-01-25T18:51:01.817Z"
   },
   {
    "duration": 942,
    "start_time": "2022-01-25T18:55:22.320Z"
   },
   {
    "duration": 18,
    "start_time": "2022-01-25T18:55:23.265Z"
   },
   {
    "duration": 15,
    "start_time": "2022-01-25T18:55:23.287Z"
   },
   {
    "duration": 69,
    "start_time": "2022-01-25T18:55:23.305Z"
   },
   {
    "duration": 6,
    "start_time": "2022-01-25T18:55:23.377Z"
   },
   {
    "duration": 15,
    "start_time": "2022-01-25T18:55:23.386Z"
   },
   {
    "duration": 21,
    "start_time": "2022-01-25T18:55:23.403Z"
   },
   {
    "duration": 25,
    "start_time": "2022-01-25T18:55:23.461Z"
   },
   {
    "duration": 21,
    "start_time": "2022-01-25T18:55:23.488Z"
   },
   {
    "duration": 11,
    "start_time": "2022-01-25T18:55:23.511Z"
   },
   {
    "duration": 33,
    "start_time": "2022-01-25T18:55:23.560Z"
   },
   {
    "duration": 18,
    "start_time": "2022-01-25T18:55:23.596Z"
   },
   {
    "duration": 5399,
    "start_time": "2022-01-25T18:55:23.616Z"
   },
   {
    "duration": 50,
    "start_time": "2022-01-25T18:55:29.018Z"
   },
   {
    "duration": 8,
    "start_time": "2022-01-25T18:55:29.071Z"
   },
   {
    "duration": 960,
    "start_time": "2022-01-25T18:55:29.082Z"
   },
   {
    "duration": 897,
    "start_time": "2022-01-25T18:57:26.241Z"
   },
   {
    "duration": 19,
    "start_time": "2022-01-25T18:57:27.142Z"
   },
   {
    "duration": 12,
    "start_time": "2022-01-25T18:57:27.164Z"
   },
   {
    "duration": 30,
    "start_time": "2022-01-25T18:57:27.178Z"
   },
   {
    "duration": 5,
    "start_time": "2022-01-25T18:57:27.211Z"
   },
   {
    "duration": 56,
    "start_time": "2022-01-25T18:57:27.219Z"
   },
   {
    "duration": 21,
    "start_time": "2022-01-25T18:57:27.277Z"
   },
   {
    "duration": 25,
    "start_time": "2022-01-25T18:57:27.301Z"
   },
   {
    "duration": 47,
    "start_time": "2022-01-25T18:57:27.329Z"
   },
   {
    "duration": 11,
    "start_time": "2022-01-25T18:57:27.378Z"
   },
   {
    "duration": 29,
    "start_time": "2022-01-25T18:57:27.391Z"
   },
   {
    "duration": 47,
    "start_time": "2022-01-25T18:57:27.423Z"
   },
   {
    "duration": 4987,
    "start_time": "2022-01-25T18:57:27.472Z"
   },
   {
    "duration": 41,
    "start_time": "2022-01-25T18:57:32.462Z"
   },
   {
    "duration": 677,
    "start_time": "2022-01-25T18:57:32.506Z"
   },
   {
    "duration": -1722,
    "start_time": "2022-01-25T18:57:34.907Z"
   },
   {
    "duration": 12,
    "start_time": "2022-01-25T18:58:20.002Z"
   },
   {
    "duration": 81,
    "start_time": "2022-01-25T19:10:01.682Z"
   },
   {
    "duration": 17,
    "start_time": "2022-01-25T19:10:01.766Z"
   },
   {
    "duration": 16,
    "start_time": "2022-01-25T19:10:01.787Z"
   },
   {
    "duration": 63,
    "start_time": "2022-01-25T19:10:01.807Z"
   },
   {
    "duration": 6,
    "start_time": "2022-01-25T19:10:01.872Z"
   },
   {
    "duration": 26,
    "start_time": "2022-01-25T19:10:01.880Z"
   },
   {
    "duration": 20,
    "start_time": "2022-01-25T19:10:01.908Z"
   },
   {
    "duration": 48,
    "start_time": "2022-01-25T19:10:01.932Z"
   },
   {
    "duration": 21,
    "start_time": "2022-01-25T19:10:01.983Z"
   },
   {
    "duration": 11,
    "start_time": "2022-01-25T19:10:02.006Z"
   },
   {
    "duration": 57,
    "start_time": "2022-01-25T19:10:02.020Z"
   },
   {
    "duration": 19,
    "start_time": "2022-01-25T19:10:02.080Z"
   },
   {
    "duration": 5083,
    "start_time": "2022-01-25T19:10:02.102Z"
   },
   {
    "duration": 81,
    "start_time": "2022-01-25T19:10:07.189Z"
   },
   {
    "duration": 1403,
    "start_time": "2022-01-25T19:10:07.272Z"
   },
   {
    "duration": -1718,
    "start_time": "2022-01-25T19:10:10.395Z"
   },
   {
    "duration": 88,
    "start_time": "2022-01-25T19:10:20.241Z"
   },
   {
    "duration": 33,
    "start_time": "2022-01-25T19:10:20.331Z"
   },
   {
    "duration": 14,
    "start_time": "2022-01-25T19:10:20.368Z"
   },
   {
    "duration": 36,
    "start_time": "2022-01-25T19:10:20.386Z"
   },
   {
    "duration": 9,
    "start_time": "2022-01-25T19:10:20.460Z"
   },
   {
    "duration": 17,
    "start_time": "2022-01-25T19:10:20.472Z"
   },
   {
    "duration": 23,
    "start_time": "2022-01-25T19:10:20.492Z"
   },
   {
    "duration": 62,
    "start_time": "2022-01-25T19:10:20.520Z"
   },
   {
    "duration": 24,
    "start_time": "2022-01-25T19:10:20.585Z"
   },
   {
    "duration": 14,
    "start_time": "2022-01-25T19:10:20.611Z"
   },
   {
    "duration": 49,
    "start_time": "2022-01-25T19:10:20.661Z"
   },
   {
    "duration": 46,
    "start_time": "2022-01-25T19:10:20.714Z"
   },
   {
    "duration": 5241,
    "start_time": "2022-01-25T19:10:20.763Z"
   },
   {
    "duration": 83,
    "start_time": "2022-01-25T19:10:26.008Z"
   },
   {
    "duration": 1487,
    "start_time": "2022-01-25T19:10:26.094Z"
   },
   {
    "duration": -1718,
    "start_time": "2022-01-25T19:10:29.301Z"
   },
   {
    "duration": 832,
    "start_time": "2022-01-25T19:11:51.761Z"
   },
   {
    "duration": 15,
    "start_time": "2022-01-25T19:11:52.595Z"
   },
   {
    "duration": 12,
    "start_time": "2022-01-25T19:11:52.613Z"
   },
   {
    "duration": 53,
    "start_time": "2022-01-25T19:11:52.628Z"
   },
   {
    "duration": 6,
    "start_time": "2022-01-25T19:11:52.683Z"
   },
   {
    "duration": 15,
    "start_time": "2022-01-25T19:11:52.692Z"
   },
   {
    "duration": 52,
    "start_time": "2022-01-25T19:11:52.710Z"
   },
   {
    "duration": 23,
    "start_time": "2022-01-25T19:11:52.767Z"
   },
   {
    "duration": 22,
    "start_time": "2022-01-25T19:11:52.793Z"
   },
   {
    "duration": 43,
    "start_time": "2022-01-25T19:11:52.817Z"
   },
   {
    "duration": 30,
    "start_time": "2022-01-25T19:11:52.863Z"
   },
   {
    "duration": 20,
    "start_time": "2022-01-25T19:11:52.895Z"
   },
   {
    "duration": 5062,
    "start_time": "2022-01-25T19:11:52.917Z"
   },
   {
    "duration": 44,
    "start_time": "2022-01-25T19:11:57.982Z"
   },
   {
    "duration": 749,
    "start_time": "2022-01-25T19:11:58.029Z"
   },
   {
    "duration": -1716,
    "start_time": "2022-01-25T19:12:00.497Z"
   },
   {
    "duration": 922,
    "start_time": "2022-01-25T19:18:28.058Z"
   },
   {
    "duration": 17,
    "start_time": "2022-01-25T19:18:28.983Z"
   },
   {
    "duration": 13,
    "start_time": "2022-01-25T19:18:29.003Z"
   },
   {
    "duration": 57,
    "start_time": "2022-01-25T19:18:29.019Z"
   },
   {
    "duration": 5,
    "start_time": "2022-01-25T19:18:29.079Z"
   },
   {
    "duration": 28,
    "start_time": "2022-01-25T19:18:29.087Z"
   },
   {
    "duration": 43,
    "start_time": "2022-01-25T19:18:29.118Z"
   },
   {
    "duration": 26,
    "start_time": "2022-01-25T19:18:29.164Z"
   },
   {
    "duration": 22,
    "start_time": "2022-01-25T19:18:29.193Z"
   },
   {
    "duration": 43,
    "start_time": "2022-01-25T19:18:29.218Z"
   },
   {
    "duration": 32,
    "start_time": "2022-01-25T19:18:29.263Z"
   },
   {
    "duration": 25,
    "start_time": "2022-01-25T19:18:29.297Z"
   },
   {
    "duration": 4963,
    "start_time": "2022-01-25T19:18:29.325Z"
   },
   {
    "duration": 45,
    "start_time": "2022-01-25T19:18:34.290Z"
   },
   {
    "duration": 757,
    "start_time": "2022-01-25T19:18:34.338Z"
   },
   {
    "duration": -1711,
    "start_time": "2022-01-25T19:18:36.808Z"
   },
   {
    "duration": -1725,
    "start_time": "2022-01-25T19:19:59.893Z"
   },
   {
    "duration": -1739,
    "start_time": "2022-01-25T19:19:59.908Z"
   },
   {
    "duration": -1756,
    "start_time": "2022-01-25T19:19:59.927Z"
   },
   {
    "duration": -1763,
    "start_time": "2022-01-25T19:19:59.935Z"
   },
   {
    "duration": -1769,
    "start_time": "2022-01-25T19:19:59.943Z"
   },
   {
    "duration": -1773,
    "start_time": "2022-01-25T19:19:59.948Z"
   },
   {
    "duration": -1776,
    "start_time": "2022-01-25T19:19:59.952Z"
   },
   {
    "duration": -1779,
    "start_time": "2022-01-25T19:19:59.957Z"
   },
   {
    "duration": -1781,
    "start_time": "2022-01-25T19:19:59.961Z"
   },
   {
    "duration": -1784,
    "start_time": "2022-01-25T19:19:59.965Z"
   },
   {
    "duration": -1786,
    "start_time": "2022-01-25T19:19:59.969Z"
   },
   {
    "duration": -1789,
    "start_time": "2022-01-25T19:19:59.973Z"
   },
   {
    "duration": -1791,
    "start_time": "2022-01-25T19:19:59.976Z"
   },
   {
    "duration": -1794,
    "start_time": "2022-01-25T19:19:59.981Z"
   },
   {
    "duration": -1805,
    "start_time": "2022-01-25T19:19:59.993Z"
   },
   {
    "duration": -1812,
    "start_time": "2022-01-25T19:20:00.001Z"
   },
   {
    "duration": 5167,
    "start_time": "2022-01-25T19:20:37.867Z"
   },
   {
    "duration": 6350,
    "start_time": "2022-01-25T19:20:56.772Z"
   },
   {
    "duration": 683,
    "start_time": "2022-01-25T19:22:07.111Z"
   },
   {
    "duration": 349,
    "start_time": "2022-01-26T03:48:27.794Z"
   },
   {
    "duration": 623,
    "start_time": "2022-01-26T03:48:50.404Z"
   },
   {
    "duration": 10,
    "start_time": "2022-01-26T03:48:51.029Z"
   },
   {
    "duration": 8,
    "start_time": "2022-01-26T03:48:51.041Z"
   },
   {
    "duration": 30,
    "start_time": "2022-01-26T03:48:51.051Z"
   },
   {
    "duration": 4,
    "start_time": "2022-01-26T03:48:51.082Z"
   },
   {
    "duration": 11,
    "start_time": "2022-01-26T03:48:51.088Z"
   },
   {
    "duration": 13,
    "start_time": "2022-01-26T03:48:51.100Z"
   },
   {
    "duration": 14,
    "start_time": "2022-01-26T03:48:51.115Z"
   },
   {
    "duration": 41,
    "start_time": "2022-01-26T03:48:51.131Z"
   },
   {
    "duration": 8,
    "start_time": "2022-01-26T03:48:51.173Z"
   },
   {
    "duration": 23,
    "start_time": "2022-01-26T03:48:51.182Z"
   },
   {
    "duration": 12,
    "start_time": "2022-01-26T03:48:51.207Z"
   },
   {
    "duration": 3181,
    "start_time": "2022-01-26T03:48:51.220Z"
   },
   {
    "duration": 24,
    "start_time": "2022-01-26T03:48:54.402Z"
   },
   {
    "duration": 4,
    "start_time": "2022-01-26T03:48:54.428Z"
   },
   {
    "duration": 707,
    "start_time": "2022-01-26T03:48:54.434Z"
   },
   {
    "duration": 66,
    "start_time": "2022-01-26T03:49:22.855Z"
   },
   {
    "duration": 12,
    "start_time": "2022-01-26T03:49:22.923Z"
   },
   {
    "duration": 39,
    "start_time": "2022-01-26T03:49:22.938Z"
   },
   {
    "duration": 21,
    "start_time": "2022-01-26T03:49:22.980Z"
   },
   {
    "duration": 5,
    "start_time": "2022-01-26T03:49:23.004Z"
   },
   {
    "duration": 11,
    "start_time": "2022-01-26T03:49:23.011Z"
   },
   {
    "duration": 55,
    "start_time": "2022-01-26T03:49:23.024Z"
   },
   {
    "duration": 18,
    "start_time": "2022-01-26T03:49:23.082Z"
   },
   {
    "duration": 16,
    "start_time": "2022-01-26T03:49:23.102Z"
   },
   {
    "duration": 10,
    "start_time": "2022-01-26T03:49:23.119Z"
   },
   {
    "duration": 54,
    "start_time": "2022-01-26T03:49:23.131Z"
   },
   {
    "duration": 12,
    "start_time": "2022-01-26T03:49:23.187Z"
   },
   {
    "duration": 3548,
    "start_time": "2022-01-26T03:49:23.201Z"
   },
   {
    "duration": 40,
    "start_time": "2022-01-26T03:49:26.752Z"
   },
   {
    "duration": 4,
    "start_time": "2022-01-26T03:49:26.794Z"
   },
   {
    "duration": 1173,
    "start_time": "2022-01-26T03:49:26.800Z"
   },
   {
    "duration": 61,
    "start_time": "2022-01-26T03:49:46.175Z"
   },
   {
    "duration": 11,
    "start_time": "2022-01-26T03:49:46.238Z"
   },
   {
    "duration": 22,
    "start_time": "2022-01-26T03:49:46.251Z"
   },
   {
    "duration": 18,
    "start_time": "2022-01-26T03:49:46.275Z"
   },
   {
    "duration": 4,
    "start_time": "2022-01-26T03:49:46.295Z"
   },
   {
    "duration": 10,
    "start_time": "2022-01-26T03:49:46.301Z"
   },
   {
    "duration": 13,
    "start_time": "2022-01-26T03:49:46.313Z"
   },
   {
    "duration": 52,
    "start_time": "2022-01-26T03:49:46.329Z"
   },
   {
    "duration": 14,
    "start_time": "2022-01-26T03:49:46.383Z"
   },
   {
    "duration": 8,
    "start_time": "2022-01-26T03:49:46.399Z"
   },
   {
    "duration": 21,
    "start_time": "2022-01-26T03:49:46.409Z"
   },
   {
    "duration": 11,
    "start_time": "2022-01-26T03:49:46.432Z"
   },
   {
    "duration": 3445,
    "start_time": "2022-01-26T03:49:46.472Z"
   },
   {
    "duration": 27,
    "start_time": "2022-01-26T03:49:49.918Z"
   },
   {
    "duration": 5,
    "start_time": "2022-01-26T03:49:49.946Z"
   },
   {
    "duration": 1755,
    "start_time": "2022-01-26T03:49:49.952Z"
   },
   {
    "duration": 4,
    "start_time": "2022-01-26T03:49:59.621Z"
   },
   {
    "duration": 58,
    "start_time": "2022-01-26T03:50:14.196Z"
   },
   {
    "duration": 9,
    "start_time": "2022-01-26T03:50:14.256Z"
   },
   {
    "duration": 10,
    "start_time": "2022-01-26T03:50:14.267Z"
   },
   {
    "duration": 19,
    "start_time": "2022-01-26T03:50:14.279Z"
   },
   {
    "duration": 3,
    "start_time": "2022-01-26T03:50:14.299Z"
   },
   {
    "duration": 9,
    "start_time": "2022-01-26T03:50:14.304Z"
   },
   {
    "duration": 12,
    "start_time": "2022-01-26T03:50:14.314Z"
   },
   {
    "duration": 13,
    "start_time": "2022-01-26T03:50:14.328Z"
   },
   {
    "duration": 41,
    "start_time": "2022-01-26T03:50:14.342Z"
   },
   {
    "duration": 7,
    "start_time": "2022-01-26T03:50:14.384Z"
   },
   {
    "duration": 22,
    "start_time": "2022-01-26T03:50:14.393Z"
   },
   {
    "duration": 11,
    "start_time": "2022-01-26T03:50:14.416Z"
   },
   {
    "duration": 3351,
    "start_time": "2022-01-26T03:50:14.428Z"
   },
   {
    "duration": 29,
    "start_time": "2022-01-26T03:50:17.781Z"
   },
   {
    "duration": 4,
    "start_time": "2022-01-26T03:50:17.811Z"
   },
   {
    "duration": 2662,
    "start_time": "2022-01-26T03:50:17.817Z"
   },
   {
    "duration": 5,
    "start_time": "2022-01-26T03:57:05.808Z"
   },
   {
    "duration": 11,
    "start_time": "2022-01-26T03:58:16.222Z"
   },
   {
    "duration": 8,
    "start_time": "2022-01-26T03:58:41.511Z"
   },
   {
    "duration": 300,
    "start_time": "2022-01-26T03:59:33.050Z"
   },
   {
    "duration": 11,
    "start_time": "2022-01-26T03:59:39.467Z"
   },
   {
    "duration": 2655,
    "start_time": "2022-01-26T04:01:04.756Z"
   },
   {
    "duration": 12,
    "start_time": "2022-01-26T04:02:30.363Z"
   },
   {
    "duration": 59,
    "start_time": "2022-01-26T04:05:39.205Z"
   },
   {
    "duration": 10,
    "start_time": "2022-01-26T04:05:39.266Z"
   },
   {
    "duration": 9,
    "start_time": "2022-01-26T04:05:39.278Z"
   },
   {
    "duration": 23,
    "start_time": "2022-01-26T04:05:39.289Z"
   },
   {
    "duration": 4,
    "start_time": "2022-01-26T04:05:39.314Z"
   },
   {
    "duration": 11,
    "start_time": "2022-01-26T04:05:39.319Z"
   },
   {
    "duration": 50,
    "start_time": "2022-01-26T04:05:39.332Z"
   },
   {
    "duration": 15,
    "start_time": "2022-01-26T04:05:39.384Z"
   },
   {
    "duration": 13,
    "start_time": "2022-01-26T04:05:39.401Z"
   },
   {
    "duration": 9,
    "start_time": "2022-01-26T04:05:39.416Z"
   },
   {
    "duration": 48,
    "start_time": "2022-01-26T04:05:39.427Z"
   },
   {
    "duration": 12,
    "start_time": "2022-01-26T04:05:39.477Z"
   },
   {
    "duration": 3346,
    "start_time": "2022-01-26T04:05:39.491Z"
   },
   {
    "duration": 36,
    "start_time": "2022-01-26T04:05:42.839Z"
   },
   {
    "duration": 3,
    "start_time": "2022-01-26T04:05:42.878Z"
   },
   {
    "duration": 2829,
    "start_time": "2022-01-26T04:05:42.883Z"
   },
   {
    "duration": 6,
    "start_time": "2022-01-26T04:05:45.713Z"
   },
   {
    "duration": 2502,
    "start_time": "2022-01-26T04:06:44.093Z"
   },
   {
    "duration": 4,
    "start_time": "2022-01-26T04:08:06.079Z"
   },
   {
    "duration": 2410,
    "start_time": "2022-01-26T04:08:10.307Z"
   },
   {
    "duration": 58,
    "start_time": "2022-01-26T04:08:35.737Z"
   },
   {
    "duration": 10,
    "start_time": "2022-01-26T04:08:35.796Z"
   },
   {
    "duration": 9,
    "start_time": "2022-01-26T04:08:35.808Z"
   },
   {
    "duration": 19,
    "start_time": "2022-01-26T04:08:35.819Z"
   },
   {
    "duration": 4,
    "start_time": "2022-01-26T04:08:35.839Z"
   },
   {
    "duration": 10,
    "start_time": "2022-01-26T04:08:35.872Z"
   },
   {
    "duration": 12,
    "start_time": "2022-01-26T04:08:35.883Z"
   },
   {
    "duration": 17,
    "start_time": "2022-01-26T04:08:35.898Z"
   },
   {
    "duration": 14,
    "start_time": "2022-01-26T04:08:35.916Z"
   },
   {
    "duration": 42,
    "start_time": "2022-01-26T04:08:35.931Z"
   },
   {
    "duration": 21,
    "start_time": "2022-01-26T04:08:35.974Z"
   },
   {
    "duration": 10,
    "start_time": "2022-01-26T04:08:35.997Z"
   },
   {
    "duration": 3445,
    "start_time": "2022-01-26T04:08:36.009Z"
   },
   {
    "duration": 37,
    "start_time": "2022-01-26T04:08:39.456Z"
   },
   {
    "duration": 4,
    "start_time": "2022-01-26T04:08:39.494Z"
   },
   {
    "duration": 2747,
    "start_time": "2022-01-26T04:08:39.499Z"
   },
   {
    "duration": 5,
    "start_time": "2022-01-26T04:08:42.248Z"
   },
   {
    "duration": 4,
    "start_time": "2022-01-26T04:09:08.135Z"
   },
   {
    "duration": 2601,
    "start_time": "2022-01-26T04:09:12.828Z"
   },
   {
    "duration": 6,
    "start_time": "2022-01-26T04:09:24.540Z"
   },
   {
    "duration": 838,
    "start_time": "2022-01-26T17:07:31.366Z"
   },
   {
    "duration": 28,
    "start_time": "2022-01-26T17:07:32.207Z"
   },
   {
    "duration": 17,
    "start_time": "2022-01-26T17:07:32.239Z"
   },
   {
    "duration": 30,
    "start_time": "2022-01-26T17:07:32.259Z"
   },
   {
    "duration": 6,
    "start_time": "2022-01-26T17:07:32.291Z"
   },
   {
    "duration": 19,
    "start_time": "2022-01-26T17:07:32.334Z"
   },
   {
    "duration": 25,
    "start_time": "2022-01-26T17:07:32.357Z"
   },
   {
    "duration": 53,
    "start_time": "2022-01-26T17:07:32.385Z"
   },
   {
    "duration": 25,
    "start_time": "2022-01-26T17:07:32.441Z"
   },
   {
    "duration": 14,
    "start_time": "2022-01-26T17:07:32.468Z"
   },
   {
    "duration": 72,
    "start_time": "2022-01-26T17:07:32.485Z"
   },
   {
    "duration": 18,
    "start_time": "2022-01-26T17:07:32.559Z"
   },
   {
    "duration": 5508,
    "start_time": "2022-01-26T17:07:32.580Z"
   },
   {
    "duration": 52,
    "start_time": "2022-01-26T17:07:38.091Z"
   },
   {
    "duration": 6,
    "start_time": "2022-01-26T17:07:38.145Z"
   },
   {
    "duration": 5097,
    "start_time": "2022-01-26T17:07:38.156Z"
   },
   {
    "duration": 3,
    "start_time": "2022-01-26T17:07:43.256Z"
   },
   {
    "duration": 33,
    "start_time": "2022-01-26T17:07:43.262Z"
   },
   {
    "duration": 31,
    "start_time": "2022-01-26T17:09:54.313Z"
   },
   {
    "duration": 28,
    "start_time": "2022-01-26T17:09:57.745Z"
   },
   {
    "duration": 2032,
    "start_time": "2022-01-26T17:25:41.258Z"
   },
   {
    "duration": 13,
    "start_time": "2022-01-26T17:33:11.415Z"
   },
   {
    "duration": 117,
    "start_time": "2022-01-26T17:33:21.496Z"
   },
   {
    "duration": 27,
    "start_time": "2022-01-26T17:33:21.632Z"
   },
   {
    "duration": 19,
    "start_time": "2022-01-26T17:33:21.665Z"
   },
   {
    "duration": 78,
    "start_time": "2022-01-26T17:33:21.688Z"
   },
   {
    "duration": 10,
    "start_time": "2022-01-26T17:33:21.769Z"
   },
   {
    "duration": 26,
    "start_time": "2022-01-26T17:33:21.782Z"
   },
   {
    "duration": 49,
    "start_time": "2022-01-26T17:33:21.812Z"
   },
   {
    "duration": 38,
    "start_time": "2022-01-26T17:33:21.865Z"
   },
   {
    "duration": 73,
    "start_time": "2022-01-26T17:33:21.909Z"
   },
   {
    "duration": 21,
    "start_time": "2022-01-26T17:33:21.986Z"
   },
   {
    "duration": 68,
    "start_time": "2022-01-26T17:33:22.011Z"
   },
   {
    "duration": 22,
    "start_time": "2022-01-26T17:33:22.083Z"
   },
   {
    "duration": 6111,
    "start_time": "2022-01-26T17:33:22.108Z"
   },
   {
    "duration": 80,
    "start_time": "2022-01-26T17:33:28.231Z"
   },
   {
    "duration": 22,
    "start_time": "2022-01-26T17:33:28.314Z"
   },
   {
    "duration": 5563,
    "start_time": "2022-01-26T17:33:28.339Z"
   },
   {
    "duration": 3,
    "start_time": "2022-01-26T17:33:33.905Z"
   },
   {
    "duration": 35,
    "start_time": "2022-01-26T17:33:33.911Z"
   },
   {
    "duration": 26,
    "start_time": "2022-01-26T17:33:33.949Z"
   },
   {
    "duration": 108,
    "start_time": "2022-01-26T17:41:57.423Z"
   },
   {
    "duration": 140,
    "start_time": "2022-01-26T17:42:04.509Z"
   },
   {
    "duration": 17,
    "start_time": "2022-01-26T17:42:37.283Z"
   },
   {
    "duration": 255,
    "start_time": "2022-01-26T17:54:38.335Z"
   },
   {
    "duration": 249,
    "start_time": "2022-01-26T17:55:03.463Z"
   },
   {
    "duration": 256,
    "start_time": "2022-01-26T17:55:16.230Z"
   },
   {
    "duration": 252,
    "start_time": "2022-01-26T17:55:33.381Z"
   },
   {
    "duration": 239,
    "start_time": "2022-01-26T17:56:02.635Z"
   },
   {
    "duration": 32,
    "start_time": "2022-01-26T18:06:40.192Z"
   },
   {
    "duration": 31,
    "start_time": "2022-01-26T18:07:17.215Z"
   },
   {
    "duration": 8,
    "start_time": "2022-01-26T18:08:59.668Z"
   },
   {
    "duration": 24,
    "start_time": "2022-01-26T18:15:48.577Z"
   },
   {
    "duration": 8,
    "start_time": "2022-01-26T18:16:45.716Z"
   },
   {
    "duration": 31,
    "start_time": "2022-01-26T18:18:46.743Z"
   },
   {
    "duration": 10,
    "start_time": "2022-01-26T18:18:48.565Z"
   },
   {
    "duration": 30,
    "start_time": "2022-01-26T18:19:39.530Z"
   },
   {
    "duration": 30,
    "start_time": "2022-01-26T18:19:43.749Z"
   },
   {
    "duration": 9,
    "start_time": "2022-01-26T18:19:45.485Z"
   },
   {
    "duration": 2345,
    "start_time": "2022-01-26T18:24:30.066Z"
   },
   {
    "duration": 51,
    "start_time": "2022-01-26T18:24:33.711Z"
   },
   {
    "duration": 9,
    "start_time": "2022-01-26T18:24:44.877Z"
   },
   {
    "duration": 8,
    "start_time": "2022-01-26T18:25:13.504Z"
   },
   {
    "duration": 13,
    "start_time": "2022-01-26T18:41:53.550Z"
   },
   {
    "duration": 14,
    "start_time": "2022-01-26T18:41:57.629Z"
   },
   {
    "duration": 306,
    "start_time": "2022-01-26T18:46:43.892Z"
   },
   {
    "duration": 85,
    "start_time": "2022-01-26T18:46:48.991Z"
   },
   {
    "duration": 34,
    "start_time": "2022-01-26T18:47:14.081Z"
   },
   {
    "duration": 13,
    "start_time": "2022-01-26T18:47:16.526Z"
   },
   {
    "duration": 641,
    "start_time": "2022-01-27T16:38:29.670Z"
   },
   {
    "duration": 359,
    "start_time": "2022-01-27T16:38:35.451Z"
   },
   {
    "duration": 874,
    "start_time": "2022-01-27T16:38:39.654Z"
   },
   {
    "duration": 16,
    "start_time": "2022-01-27T16:38:40.530Z"
   },
   {
    "duration": 12,
    "start_time": "2022-01-27T16:38:40.560Z"
   },
   {
    "duration": 32,
    "start_time": "2022-01-27T16:38:40.575Z"
   },
   {
    "duration": 7,
    "start_time": "2022-01-27T16:38:40.609Z"
   },
   {
    "duration": 50,
    "start_time": "2022-01-27T16:38:40.618Z"
   },
   {
    "duration": 21,
    "start_time": "2022-01-27T16:38:40.671Z"
   },
   {
    "duration": 26,
    "start_time": "2022-01-27T16:38:40.696Z"
   },
   {
    "duration": 46,
    "start_time": "2022-01-27T16:38:40.725Z"
   },
   {
    "duration": 14,
    "start_time": "2022-01-27T16:38:40.773Z"
   },
   {
    "duration": 31,
    "start_time": "2022-01-27T16:38:40.789Z"
   },
   {
    "duration": 52,
    "start_time": "2022-01-27T16:38:40.822Z"
   },
   {
    "duration": 4927,
    "start_time": "2022-01-27T16:38:40.877Z"
   },
   {
    "duration": 55,
    "start_time": "2022-01-27T16:38:45.807Z"
   },
   {
    "duration": 8,
    "start_time": "2022-01-27T16:38:45.865Z"
   },
   {
    "duration": 4033,
    "start_time": "2022-01-27T16:38:45.876Z"
   },
   {
    "duration": 3,
    "start_time": "2022-01-27T16:38:49.912Z"
   },
   {
    "duration": 47,
    "start_time": "2022-01-27T16:38:49.917Z"
   },
   {
    "duration": 17,
    "start_time": "2022-01-27T16:38:49.966Z"
   },
   {
    "duration": 14,
    "start_time": "2022-01-27T16:38:49.985Z"
   },
   {
    "duration": 64,
    "start_time": "2022-01-27T16:38:50.001Z"
   },
   {
    "duration": 21,
    "start_time": "2022-01-27T16:38:50.067Z"
   },
   {
    "duration": 8,
    "start_time": "2022-01-27T16:38:50.093Z"
   },
   {
    "duration": 32,
    "start_time": "2022-01-27T16:38:50.103Z"
   },
   {
    "duration": 8,
    "start_time": "2022-01-27T16:38:50.137Z"
   },
   {
    "duration": 29,
    "start_time": "2022-01-27T16:38:50.148Z"
   },
   {
    "duration": 9,
    "start_time": "2022-01-27T16:38:50.179Z"
   },
   {
    "duration": 22,
    "start_time": "2022-01-27T16:38:50.190Z"
   },
   {
    "duration": 50,
    "start_time": "2022-01-27T16:38:50.214Z"
   },
   {
    "duration": 20,
    "start_time": "2022-01-27T16:38:50.266Z"
   },
   {
    "duration": 10,
    "start_time": "2022-01-27T16:38:50.288Z"
   },
   {
    "duration": 8,
    "start_time": "2022-01-27T16:39:14.634Z"
   },
   {
    "duration": 8,
    "start_time": "2022-01-27T16:39:18.566Z"
   },
   {
    "duration": 5,
    "start_time": "2022-01-27T16:39:20.537Z"
   },
   {
    "duration": 5,
    "start_time": "2022-01-27T16:45:03.000Z"
   },
   {
    "duration": 10,
    "start_time": "2022-01-27T16:45:04.905Z"
   },
   {
    "duration": 7,
    "start_time": "2022-01-27T16:45:50.516Z"
   },
   {
    "duration": 11,
    "start_time": "2022-01-27T16:45:52.343Z"
   },
   {
    "duration": 8,
    "start_time": "2022-01-27T17:02:18.990Z"
   },
   {
    "duration": 10,
    "start_time": "2022-01-27T17:02:20.169Z"
   },
   {
    "duration": 12,
    "start_time": "2022-01-27T17:23:37.096Z"
   },
   {
    "duration": 413,
    "start_time": "2022-01-27T17:24:06.359Z"
   },
   {
    "duration": 15,
    "start_time": "2022-01-27T17:24:22.180Z"
   },
   {
    "duration": 11,
    "start_time": "2022-01-27T17:36:50.247Z"
   },
   {
    "duration": 352,
    "start_time": "2022-01-27T17:36:52.270Z"
   },
   {
    "duration": 8,
    "start_time": "2022-01-27T17:37:16.184Z"
   },
   {
    "duration": 407,
    "start_time": "2022-01-27T17:37:18.580Z"
   },
   {
    "duration": 7,
    "start_time": "2022-01-27T17:38:02.648Z"
   },
   {
    "duration": 13,
    "start_time": "2022-01-27T17:38:03.893Z"
   },
   {
    "duration": 11,
    "start_time": "2022-01-27T17:39:17.830Z"
   },
   {
    "duration": 13,
    "start_time": "2022-01-27T17:39:20.653Z"
   },
   {
    "duration": 11,
    "start_time": "2022-01-27T17:39:24.293Z"
   },
   {
    "duration": 11,
    "start_time": "2022-01-27T17:39:34.350Z"
   },
   {
    "duration": 12,
    "start_time": "2022-01-27T17:40:37.738Z"
   },
   {
    "duration": 12,
    "start_time": "2022-01-27T17:40:38.170Z"
   },
   {
    "duration": 8,
    "start_time": "2022-01-27T17:50:30.996Z"
   },
   {
    "duration": 13,
    "start_time": "2022-01-27T17:50:32.345Z"
   },
   {
    "duration": 13,
    "start_time": "2022-01-27T18:05:07.988Z"
   },
   {
    "duration": 5020,
    "start_time": "2022-01-27T18:05:54.895Z"
   },
   {
    "duration": 22,
    "start_time": "2022-01-27T18:06:16.537Z"
   },
   {
    "duration": -3992,
    "start_time": "2022-01-27T18:06:51.752Z"
   },
   {
    "duration": -3632,
    "start_time": "2022-01-27T18:07:05.637Z"
   },
   {
    "duration": -3636,
    "start_time": "2022-01-27T18:07:05.642Z"
   },
   {
    "duration": -3656,
    "start_time": "2022-01-27T18:07:05.664Z"
   },
   {
    "duration": -3659,
    "start_time": "2022-01-27T18:07:05.668Z"
   },
   {
    "duration": -3663,
    "start_time": "2022-01-27T18:07:05.674Z"
   },
   {
    "duration": -3679,
    "start_time": "2022-01-27T18:07:05.691Z"
   },
   {
    "duration": -3683,
    "start_time": "2022-01-27T18:07:05.696Z"
   },
   {
    "duration": -3686,
    "start_time": "2022-01-27T18:07:05.700Z"
   },
   {
    "duration": -3689,
    "start_time": "2022-01-27T18:07:05.705Z"
   },
   {
    "duration": -3693,
    "start_time": "2022-01-27T18:07:05.710Z"
   },
   {
    "duration": -3696,
    "start_time": "2022-01-27T18:07:05.714Z"
   },
   {
    "duration": -3706,
    "start_time": "2022-01-27T18:07:05.726Z"
   },
   {
    "duration": -3711,
    "start_time": "2022-01-27T18:07:05.732Z"
   },
   {
    "duration": -3715,
    "start_time": "2022-01-27T18:07:05.737Z"
   },
   {
    "duration": -3718,
    "start_time": "2022-01-27T18:07:05.742Z"
   },
   {
    "duration": -3722,
    "start_time": "2022-01-27T18:07:05.747Z"
   },
   {
    "duration": -3734,
    "start_time": "2022-01-27T18:07:05.760Z"
   },
   {
    "duration": -3737,
    "start_time": "2022-01-27T18:07:05.765Z"
   },
   {
    "duration": -3740,
    "start_time": "2022-01-27T18:07:05.769Z"
   },
   {
    "duration": -3744,
    "start_time": "2022-01-27T18:07:05.774Z"
   },
   {
    "duration": -3747,
    "start_time": "2022-01-27T18:07:05.779Z"
   },
   {
    "duration": -3750,
    "start_time": "2022-01-27T18:07:05.783Z"
   },
   {
    "duration": -3766,
    "start_time": "2022-01-27T18:07:05.800Z"
   },
   {
    "duration": -3819,
    "start_time": "2022-01-27T18:07:05.854Z"
   },
   {
    "duration": -3827,
    "start_time": "2022-01-27T18:07:05.864Z"
   },
   {
    "duration": -3833,
    "start_time": "2022-01-27T18:07:05.871Z"
   },
   {
    "duration": -3830,
    "start_time": "2022-01-27T18:07:05.889Z"
   },
   {
    "duration": -4107,
    "start_time": "2022-01-27T18:07:06.167Z"
   },
   {
    "duration": -4111,
    "start_time": "2022-01-27T18:07:06.173Z"
   },
   {
    "duration": -4124,
    "start_time": "2022-01-27T18:07:06.187Z"
   },
   {
    "duration": -4129,
    "start_time": "2022-01-27T18:07:06.193Z"
   },
   {
    "duration": -4140,
    "start_time": "2022-01-27T18:07:06.206Z"
   },
   {
    "duration": -4150,
    "start_time": "2022-01-27T18:07:06.217Z"
   },
   {
    "duration": -4152,
    "start_time": "2022-01-27T18:07:06.221Z"
   },
   {
    "duration": -4162,
    "start_time": "2022-01-27T18:07:06.232Z"
   },
   {
    "duration": -4165,
    "start_time": "2022-01-27T18:07:06.237Z"
   },
   {
    "duration": -4169,
    "start_time": "2022-01-27T18:07:06.242Z"
   },
   {
    "duration": 9229,
    "start_time": "2022-01-27T18:07:11.822Z"
   },
   {
    "duration": -3666,
    "start_time": "2022-01-27T18:07:53.421Z"
   },
   {
    "duration": -3690,
    "start_time": "2022-01-27T18:07:53.447Z"
   },
   {
    "duration": -3704,
    "start_time": "2022-01-27T18:07:53.462Z"
   },
   {
    "duration": -3720,
    "start_time": "2022-01-27T18:07:53.480Z"
   },
   {
    "duration": -3730,
    "start_time": "2022-01-27T18:07:53.491Z"
   },
   {
    "duration": -3733,
    "start_time": "2022-01-27T18:07:53.496Z"
   },
   {
    "duration": -3737,
    "start_time": "2022-01-27T18:07:53.501Z"
   },
   {
    "duration": -3741,
    "start_time": "2022-01-27T18:07:53.506Z"
   },
   {
    "duration": -3745,
    "start_time": "2022-01-27T18:07:53.511Z"
   },
   {
    "duration": -3747,
    "start_time": "2022-01-27T18:07:53.515Z"
   },
   {
    "duration": -3751,
    "start_time": "2022-01-27T18:07:53.520Z"
   },
   {
    "duration": -3754,
    "start_time": "2022-01-27T18:07:53.524Z"
   },
   {
    "duration": -3758,
    "start_time": "2022-01-27T18:07:53.530Z"
   },
   {
    "duration": -3773,
    "start_time": "2022-01-27T18:07:53.546Z"
   },
   {
    "duration": -3825,
    "start_time": "2022-01-27T18:07:53.599Z"
   },
   {
    "duration": -3848,
    "start_time": "2022-01-27T18:07:53.625Z"
   },
   {
    "duration": -3869,
    "start_time": "2022-01-27T18:07:53.647Z"
   },
   {
    "duration": -3874,
    "start_time": "2022-01-27T18:07:53.654Z"
   },
   {
    "duration": -3891,
    "start_time": "2022-01-27T18:07:53.672Z"
   },
   {
    "duration": -3901,
    "start_time": "2022-01-27T18:07:53.684Z"
   },
   {
    "duration": -3920,
    "start_time": "2022-01-27T18:07:53.704Z"
   },
   {
    "duration": -3929,
    "start_time": "2022-01-27T18:07:53.715Z"
   },
   {
    "duration": -3952,
    "start_time": "2022-01-27T18:07:53.739Z"
   },
   {
    "duration": -3956,
    "start_time": "2022-01-27T18:07:53.744Z"
   },
   {
    "duration": -3959,
    "start_time": "2022-01-27T18:07:53.749Z"
   },
   {
    "duration": -3963,
    "start_time": "2022-01-27T18:07:53.754Z"
   },
   {
    "duration": -3968,
    "start_time": "2022-01-27T18:07:53.760Z"
   },
   {
    "duration": -3971,
    "start_time": "2022-01-27T18:07:53.765Z"
   },
   {
    "duration": -3976,
    "start_time": "2022-01-27T18:07:53.771Z"
   },
   {
    "duration": -4013,
    "start_time": "2022-01-27T18:07:53.810Z"
   },
   {
    "duration": -4167,
    "start_time": "2022-01-27T18:07:53.965Z"
   },
   {
    "duration": -4174,
    "start_time": "2022-01-27T18:07:53.973Z"
   },
   {
    "duration": -4197,
    "start_time": "2022-01-27T18:07:53.997Z"
   },
   {
    "duration": -4222,
    "start_time": "2022-01-27T18:07:54.023Z"
   },
   {
    "duration": -4172,
    "start_time": "2022-01-27T18:07:54.030Z"
   },
   {
    "duration": -4192,
    "start_time": "2022-01-27T18:07:54.052Z"
   },
   {
    "duration": -4219,
    "start_time": "2022-01-27T18:07:54.081Z"
   },
   {
    "duration": 10856,
    "start_time": "2022-01-27T18:09:08.623Z"
   },
   {
    "duration": 4112,
    "start_time": "2022-01-27T18:09:53.077Z"
   },
   {
    "duration": 3,
    "start_time": "2022-01-27T18:09:57.191Z"
   },
   {
    "duration": 78,
    "start_time": "2022-01-27T18:10:10.706Z"
   },
   {
    "duration": 13,
    "start_time": "2022-01-27T18:10:19.010Z"
   },
   {
    "duration": 30,
    "start_time": "2022-01-27T18:10:20.866Z"
   },
   {
    "duration": 6,
    "start_time": "2022-01-27T18:10:48.321Z"
   },
   {
    "duration": 16,
    "start_time": "2022-01-27T18:10:48.954Z"
   },
   {
    "duration": 7,
    "start_time": "2022-01-27T18:11:02.407Z"
   },
   {
    "duration": 12,
    "start_time": "2022-01-27T18:11:03.124Z"
   },
   {
    "duration": 11,
    "start_time": "2022-01-27T18:11:07.866Z"
   },
   {
    "duration": 8,
    "start_time": "2022-01-27T18:11:11.612Z"
   },
   {
    "duration": 12,
    "start_time": "2022-01-27T18:11:14.160Z"
   },
   {
    "duration": 10,
    "start_time": "2022-01-27T18:11:16.330Z"
   },
   {
    "duration": 15,
    "start_time": "2022-01-27T18:11:18.467Z"
   },
   {
    "duration": 7,
    "start_time": "2022-01-27T18:11:22.082Z"
   },
   {
    "duration": 11,
    "start_time": "2022-01-27T18:11:24.323Z"
   },
   {
    "duration": 369,
    "start_time": "2022-01-27T18:11:25.439Z"
   },
   {
    "duration": 452,
    "start_time": "2022-01-27T18:11:32.848Z"
   },
   {
    "duration": 81,
    "start_time": "2022-01-27T18:11:34.326Z"
   },
   {
    "duration": 18,
    "start_time": "2022-01-27T18:11:34.410Z"
   },
   {
    "duration": 17,
    "start_time": "2022-01-27T18:11:34.461Z"
   },
   {
    "duration": 27,
    "start_time": "2022-01-27T18:11:34.481Z"
   },
   {
    "duration": 49,
    "start_time": "2022-01-27T18:11:34.510Z"
   },
   {
    "duration": 14,
    "start_time": "2022-01-27T18:11:34.561Z"
   },
   {
    "duration": 19,
    "start_time": "2022-01-27T18:11:34.578Z"
   },
   {
    "duration": 21,
    "start_time": "2022-01-27T18:11:34.601Z"
   },
   {
    "duration": 51,
    "start_time": "2022-01-27T18:11:34.625Z"
   },
   {
    "duration": 17,
    "start_time": "2022-01-27T18:11:34.679Z"
   },
   {
    "duration": 29,
    "start_time": "2022-01-27T18:11:34.698Z"
   },
   {
    "duration": 46,
    "start_time": "2022-01-27T18:11:34.729Z"
   },
   {
    "duration": 5631,
    "start_time": "2022-01-27T18:11:34.777Z"
   },
   {
    "duration": 57,
    "start_time": "2022-01-27T18:11:40.411Z"
   },
   {
    "duration": 8,
    "start_time": "2022-01-27T18:11:40.471Z"
   },
   {
    "duration": 4132,
    "start_time": "2022-01-27T18:11:40.482Z"
   },
   {
    "duration": 4,
    "start_time": "2022-01-27T18:11:44.616Z"
   },
   {
    "duration": 13,
    "start_time": "2022-01-27T18:11:44.622Z"
   },
   {
    "duration": 35,
    "start_time": "2022-01-27T18:11:44.637Z"
   },
   {
    "duration": 11,
    "start_time": "2022-01-27T18:11:44.674Z"
   },
   {
    "duration": 17,
    "start_time": "2022-01-27T18:11:44.688Z"
   },
   {
    "duration": 58,
    "start_time": "2022-01-27T18:11:44.708Z"
   },
   {
    "duration": 8,
    "start_time": "2022-01-27T18:11:44.772Z"
   },
   {
    "duration": 25,
    "start_time": "2022-01-27T18:11:44.785Z"
   },
   {
    "duration": 11,
    "start_time": "2022-01-27T18:11:44.812Z"
   },
   {
    "duration": 21,
    "start_time": "2022-01-27T18:11:44.860Z"
   },
   {
    "duration": 7,
    "start_time": "2022-01-27T18:11:44.884Z"
   },
   {
    "duration": 23,
    "start_time": "2022-01-27T18:11:44.894Z"
   },
   {
    "duration": 44,
    "start_time": "2022-01-27T18:11:44.919Z"
   },
   {
    "duration": 8,
    "start_time": "2022-01-27T18:11:44.965Z"
   },
   {
    "duration": 15,
    "start_time": "2022-01-27T18:11:44.975Z"
   },
   {
    "duration": 8,
    "start_time": "2022-01-27T18:11:44.992Z"
   },
   {
    "duration": 25,
    "start_time": "2022-01-27T18:11:45.003Z"
   },
   {
    "duration": 34,
    "start_time": "2022-01-27T18:11:45.030Z"
   },
   {
    "duration": 14,
    "start_time": "2022-01-27T18:11:45.066Z"
   },
   {
    "duration": 9,
    "start_time": "2022-01-27T18:11:45.082Z"
   },
   {
    "duration": 17,
    "start_time": "2022-01-27T18:11:45.094Z"
   },
   {
    "duration": 13,
    "start_time": "2022-01-27T18:37:55.428Z"
   },
   {
    "duration": 302,
    "start_time": "2022-01-28T15:52:09.443Z"
   },
   {
    "duration": 691,
    "start_time": "2022-01-28T15:52:19.967Z"
   },
   {
    "duration": 13,
    "start_time": "2022-01-28T15:52:20.660Z"
   },
   {
    "duration": 25,
    "start_time": "2022-01-28T15:52:20.675Z"
   },
   {
    "duration": 24,
    "start_time": "2022-01-28T15:52:20.703Z"
   },
   {
    "duration": 5,
    "start_time": "2022-01-28T15:52:20.730Z"
   },
   {
    "duration": 14,
    "start_time": "2022-01-28T15:52:20.737Z"
   },
   {
    "duration": 46,
    "start_time": "2022-01-28T15:52:20.753Z"
   },
   {
    "duration": 17,
    "start_time": "2022-01-28T15:52:20.802Z"
   },
   {
    "duration": 15,
    "start_time": "2022-01-28T15:52:20.822Z"
   },
   {
    "duration": 4,
    "start_time": "2022-01-28T15:52:20.839Z"
   },
   {
    "duration": 29,
    "start_time": "2022-01-28T15:52:20.845Z"
   },
   {
    "duration": 34,
    "start_time": "2022-01-28T15:52:20.876Z"
   },
   {
    "duration": 3510,
    "start_time": "2022-01-28T15:52:20.912Z"
   },
   {
    "duration": 29,
    "start_time": "2022-01-28T15:52:24.424Z"
   },
   {
    "duration": 7,
    "start_time": "2022-01-28T15:52:24.455Z"
   },
   {
    "duration": 2817,
    "start_time": "2022-01-28T15:52:24.464Z"
   },
   {
    "duration": 3,
    "start_time": "2022-01-28T15:52:27.282Z"
   },
   {
    "duration": 14,
    "start_time": "2022-01-28T15:52:27.299Z"
   },
   {
    "duration": 18,
    "start_time": "2022-01-28T15:52:27.315Z"
   },
   {
    "duration": 11,
    "start_time": "2022-01-28T15:52:27.335Z"
   },
   {
    "duration": 21,
    "start_time": "2022-01-28T15:52:27.348Z"
   },
   {
    "duration": 37,
    "start_time": "2022-01-28T15:52:27.371Z"
   },
   {
    "duration": 6,
    "start_time": "2022-01-28T15:52:27.411Z"
   },
   {
    "duration": 19,
    "start_time": "2022-01-28T15:52:27.419Z"
   },
   {
    "duration": 14,
    "start_time": "2022-01-28T15:52:27.440Z"
   },
   {
    "duration": 16,
    "start_time": "2022-01-28T15:52:27.456Z"
   },
   {
    "duration": 25,
    "start_time": "2022-01-28T15:52:27.474Z"
   },
   {
    "duration": 16,
    "start_time": "2022-01-28T15:52:27.500Z"
   },
   {
    "duration": 6,
    "start_time": "2022-01-28T15:52:27.518Z"
   },
   {
    "duration": 6,
    "start_time": "2022-01-28T15:52:27.526Z"
   },
   {
    "duration": 11,
    "start_time": "2022-01-28T15:52:27.533Z"
   },
   {
    "duration": 7,
    "start_time": "2022-01-28T15:52:27.546Z"
   },
   {
    "duration": 44,
    "start_time": "2022-01-28T15:52:27.554Z"
   },
   {
    "duration": 7,
    "start_time": "2022-01-28T15:52:27.600Z"
   },
   {
    "duration": 11,
    "start_time": "2022-01-28T15:52:27.609Z"
   },
   {
    "duration": 8,
    "start_time": "2022-01-28T15:52:27.621Z"
   },
   {
    "duration": 11,
    "start_time": "2022-01-28T15:52:27.631Z"
   },
   {
    "duration": 278,
    "start_time": "2022-01-28T15:54:10.894Z"
   },
   {
    "duration": 6,
    "start_time": "2022-01-28T15:54:23.557Z"
   },
   {
    "duration": 12,
    "start_time": "2022-01-28T15:54:57.790Z"
   },
   {
    "duration": 11,
    "start_time": "2022-01-28T15:56:11.120Z"
   },
   {
    "duration": 85,
    "start_time": "2022-01-28T15:56:13.896Z"
   },
   {
    "duration": 9,
    "start_time": "2022-01-28T15:56:25.915Z"
   },
   {
    "duration": 335,
    "start_time": "2022-01-28T16:05:17.153Z"
   },
   {
    "duration": 5,
    "start_time": "2022-01-28T16:05:24.391Z"
   },
   {
    "duration": 64,
    "start_time": "2022-01-28T16:05:56.449Z"
   },
   {
    "duration": 11,
    "start_time": "2022-01-28T16:05:56.515Z"
   },
   {
    "duration": 11,
    "start_time": "2022-01-28T16:05:56.528Z"
   },
   {
    "duration": 23,
    "start_time": "2022-01-28T16:05:56.540Z"
   },
   {
    "duration": 4,
    "start_time": "2022-01-28T16:05:56.565Z"
   },
   {
    "duration": 12,
    "start_time": "2022-01-28T16:05:56.599Z"
   },
   {
    "duration": 15,
    "start_time": "2022-01-28T16:05:56.613Z"
   },
   {
    "duration": 17,
    "start_time": "2022-01-28T16:05:56.630Z"
   },
   {
    "duration": 15,
    "start_time": "2022-01-28T16:05:56.649Z"
   },
   {
    "duration": 5,
    "start_time": "2022-01-28T16:05:56.699Z"
   },
   {
    "duration": 18,
    "start_time": "2022-01-28T16:05:56.705Z"
   },
   {
    "duration": 22,
    "start_time": "2022-01-28T16:05:56.725Z"
   },
   {
    "duration": 14,
    "start_time": "2022-01-28T16:05:56.749Z"
   },
   {
    "duration": 3681,
    "start_time": "2022-01-28T16:05:56.765Z"
   },
   {
    "duration": 32,
    "start_time": "2022-01-28T16:06:00.449Z"
   },
   {
    "duration": 32,
    "start_time": "2022-01-28T16:06:00.483Z"
   },
   {
    "duration": 2945,
    "start_time": "2022-01-28T16:06:00.517Z"
   },
   {
    "duration": 3,
    "start_time": "2022-01-28T16:06:03.464Z"
   },
   {
    "duration": 29,
    "start_time": "2022-01-28T16:06:03.469Z"
   },
   {
    "duration": 15,
    "start_time": "2022-01-28T16:06:03.500Z"
   },
   {
    "duration": 9,
    "start_time": "2022-01-28T16:06:03.516Z"
   },
   {
    "duration": 21,
    "start_time": "2022-01-28T16:06:03.527Z"
   },
   {
    "duration": 16,
    "start_time": "2022-01-28T16:06:03.551Z"
   },
   {
    "duration": 5,
    "start_time": "2022-01-28T16:06:03.569Z"
   },
   {
    "duration": 18,
    "start_time": "2022-01-28T16:06:03.599Z"
   },
   {
    "duration": 6,
    "start_time": "2022-01-28T16:06:03.619Z"
   },
   {
    "duration": 17,
    "start_time": "2022-01-28T16:06:03.627Z"
   },
   {
    "duration": 8,
    "start_time": "2022-01-28T16:06:03.646Z"
   },
   {
    "duration": 53,
    "start_time": "2022-01-28T16:06:03.656Z"
   },
   {
    "duration": 6,
    "start_time": "2022-01-28T16:06:03.710Z"
   },
   {
    "duration": 7,
    "start_time": "2022-01-28T16:06:03.718Z"
   },
   {
    "duration": 14,
    "start_time": "2022-01-28T16:06:03.727Z"
   },
   {
    "duration": 8,
    "start_time": "2022-01-28T16:06:03.743Z"
   },
   {
    "duration": 14,
    "start_time": "2022-01-28T16:06:03.752Z"
   },
   {
    "duration": 32,
    "start_time": "2022-01-28T16:06:03.767Z"
   },
   {
    "duration": 13,
    "start_time": "2022-01-28T16:06:03.801Z"
   },
   {
    "duration": 9,
    "start_time": "2022-01-28T16:06:03.816Z"
   },
   {
    "duration": 14,
    "start_time": "2022-01-28T16:06:03.827Z"
   },
   {
    "duration": -979,
    "start_time": "2022-02-06T11:08:23.527Z"
   },
   {
    "duration": -985,
    "start_time": "2022-02-06T11:08:23.534Z"
   },
   {
    "duration": -989,
    "start_time": "2022-02-06T11:08:23.539Z"
   },
   {
    "duration": -992,
    "start_time": "2022-02-06T11:08:23.543Z"
   },
   {
    "duration": -1020,
    "start_time": "2022-02-06T11:08:23.572Z"
   },
   {
    "duration": -1023,
    "start_time": "2022-02-06T11:08:23.576Z"
   },
   {
    "duration": -1034,
    "start_time": "2022-02-06T11:08:23.588Z"
   },
   {
    "duration": -1037,
    "start_time": "2022-02-06T11:08:23.592Z"
   },
   {
    "duration": -1042,
    "start_time": "2022-02-06T11:08:23.599Z"
   },
   {
    "duration": -1042,
    "start_time": "2022-02-06T11:08:23.600Z"
   },
   {
    "duration": -1043,
    "start_time": "2022-02-06T11:08:23.602Z"
   },
   {
    "duration": -1044,
    "start_time": "2022-02-06T11:08:23.604Z"
   },
   {
    "duration": -1045,
    "start_time": "2022-02-06T11:08:23.606Z"
   },
   {
    "duration": -1045,
    "start_time": "2022-02-06T11:08:23.607Z"
   },
   {
    "duration": -1049,
    "start_time": "2022-02-06T11:08:23.613Z"
   },
   {
    "duration": -1050,
    "start_time": "2022-02-06T11:08:23.615Z"
   },
   {
    "duration": -1050,
    "start_time": "2022-02-06T11:08:23.617Z"
   },
   {
    "duration": -1050,
    "start_time": "2022-02-06T11:08:23.618Z"
   },
   {
    "duration": -1051,
    "start_time": "2022-02-06T11:08:23.620Z"
   },
   {
    "duration": -1052,
    "start_time": "2022-02-06T11:08:23.622Z"
   },
   {
    "duration": -1052,
    "start_time": "2022-02-06T11:08:23.623Z"
   },
   {
    "duration": -1052,
    "start_time": "2022-02-06T11:08:23.625Z"
   },
   {
    "duration": -1057,
    "start_time": "2022-02-06T11:08:23.631Z"
   },
   {
    "duration": -1058,
    "start_time": "2022-02-06T11:08:23.633Z"
   },
   {
    "duration": -1058,
    "start_time": "2022-02-06T11:08:23.634Z"
   },
   {
    "duration": -1059,
    "start_time": "2022-02-06T11:08:23.636Z"
   },
   {
    "duration": -1060,
    "start_time": "2022-02-06T11:08:23.638Z"
   },
   {
    "duration": -1067,
    "start_time": "2022-02-06T11:08:23.646Z"
   },
   {
    "duration": -1068,
    "start_time": "2022-02-06T11:08:23.648Z"
   },
   {
    "duration": -1069,
    "start_time": "2022-02-06T11:08:23.650Z"
   },
   {
    "duration": -1070,
    "start_time": "2022-02-06T11:08:23.653Z"
   },
   {
    "duration": -1071,
    "start_time": "2022-02-06T11:08:23.655Z"
   },
   {
    "duration": -1072,
    "start_time": "2022-02-06T11:08:23.657Z"
   },
   {
    "duration": -1073,
    "start_time": "2022-02-06T11:08:23.659Z"
   },
   {
    "duration": -1079,
    "start_time": "2022-02-06T11:08:23.666Z"
   },
   {
    "duration": -1080,
    "start_time": "2022-02-06T11:08:23.668Z"
   },
   {
    "duration": -1081,
    "start_time": "2022-02-06T11:08:23.670Z"
   },
   {
    "duration": -1083,
    "start_time": "2022-02-06T11:08:23.672Z"
   },
   {
    "duration": 64,
    "start_time": "2022-02-06T11:08:35.316Z"
   },
   {
    "duration": 647,
    "start_time": "2022-02-06T11:08:42.736Z"
   },
   {
    "duration": 12,
    "start_time": "2022-02-06T11:08:43.385Z"
   },
   {
    "duration": 13,
    "start_time": "2022-02-06T11:08:43.399Z"
   },
   {
    "duration": 23,
    "start_time": "2022-02-06T11:08:43.414Z"
   },
   {
    "duration": 5,
    "start_time": "2022-02-06T11:08:43.439Z"
   },
   {
    "duration": 17,
    "start_time": "2022-02-06T11:08:43.446Z"
   },
   {
    "duration": 16,
    "start_time": "2022-02-06T11:08:43.465Z"
   },
   {
    "duration": 18,
    "start_time": "2022-02-06T11:08:43.508Z"
   },
   {
    "duration": 16,
    "start_time": "2022-02-06T11:08:43.529Z"
   },
   {
    "duration": 6,
    "start_time": "2022-02-06T11:08:43.547Z"
   },
   {
    "duration": 11,
    "start_time": "2022-02-06T11:08:43.555Z"
   },
   {
    "duration": 58,
    "start_time": "2022-02-06T11:08:43.567Z"
   },
   {
    "duration": 12,
    "start_time": "2022-02-06T11:08:43.627Z"
   },
   {
    "duration": 3802,
    "start_time": "2022-02-06T11:08:43.640Z"
   },
   {
    "duration": 27,
    "start_time": "2022-02-06T11:08:47.444Z"
   },
   {
    "duration": 14,
    "start_time": "2022-02-06T11:08:47.473Z"
   },
   {
    "duration": 3180,
    "start_time": "2022-02-06T11:08:47.489Z"
   },
   {
    "duration": 9,
    "start_time": "2022-02-06T11:08:50.672Z"
   },
   {
    "duration": 38,
    "start_time": "2022-02-06T11:08:50.683Z"
   },
   {
    "duration": 12,
    "start_time": "2022-02-06T11:08:50.723Z"
   },
   {
    "duration": 18,
    "start_time": "2022-02-06T11:08:50.737Z"
   },
   {
    "duration": 16,
    "start_time": "2022-02-06T11:08:50.757Z"
   },
   {
    "duration": 6,
    "start_time": "2022-02-06T11:08:50.774Z"
   },
   {
    "duration": 42,
    "start_time": "2022-02-06T11:08:50.782Z"
   },
   {
    "duration": 7,
    "start_time": "2022-02-06T11:08:50.826Z"
   },
   {
    "duration": 19,
    "start_time": "2022-02-06T11:08:50.834Z"
   },
   {
    "duration": 7,
    "start_time": "2022-02-06T11:08:50.856Z"
   },
   {
    "duration": 44,
    "start_time": "2022-02-06T11:08:50.865Z"
   },
   {
    "duration": 8,
    "start_time": "2022-02-06T11:08:50.911Z"
   },
   {
    "duration": 8,
    "start_time": "2022-02-06T11:08:50.921Z"
   },
   {
    "duration": 13,
    "start_time": "2022-02-06T11:08:50.931Z"
   },
   {
    "duration": 14,
    "start_time": "2022-02-06T11:08:50.947Z"
   },
   {
    "duration": 23,
    "start_time": "2022-02-06T11:08:50.964Z"
   },
   {
    "duration": 22,
    "start_time": "2022-02-06T11:08:50.990Z"
   },
   {
    "duration": 15,
    "start_time": "2022-02-06T11:08:51.015Z"
   },
   {
    "duration": 16,
    "start_time": "2022-02-06T11:08:51.032Z"
   },
   {
    "duration": 21,
    "start_time": "2022-02-06T11:08:51.051Z"
   },
   {
    "duration": 86,
    "start_time": "2022-02-06T11:08:51.075Z"
   },
   {
    "duration": 15,
    "start_time": "2022-02-06T11:12:31.757Z"
   },
   {
    "duration": 135,
    "start_time": "2022-02-06T15:00:39.313Z"
   },
   {
    "duration": 455,
    "start_time": "2022-02-06T15:01:27.084Z"
   },
   {
    "duration": 936,
    "start_time": "2022-02-06T15:01:48.780Z"
   },
   {
    "duration": 17,
    "start_time": "2022-02-06T15:01:49.719Z"
   },
   {
    "duration": 27,
    "start_time": "2022-02-06T15:01:49.740Z"
   },
   {
    "duration": 94,
    "start_time": "2022-02-06T15:01:49.771Z"
   },
   {
    "duration": 47,
    "start_time": "2022-02-06T15:01:49.868Z"
   },
   {
    "duration": 7,
    "start_time": "2022-02-06T15:01:49.918Z"
   },
   {
    "duration": 35,
    "start_time": "2022-02-06T15:01:49.927Z"
   },
   {
    "duration": 23,
    "start_time": "2022-02-06T15:01:49.967Z"
   },
   {
    "duration": 24,
    "start_time": "2022-02-06T15:01:49.993Z"
   },
   {
    "duration": 51,
    "start_time": "2022-02-06T15:01:50.019Z"
   },
   {
    "duration": 8,
    "start_time": "2022-02-06T15:01:50.073Z"
   },
   {
    "duration": 22,
    "start_time": "2022-02-06T15:01:50.084Z"
   },
   {
    "duration": 63,
    "start_time": "2022-02-06T15:01:50.109Z"
   },
   {
    "duration": 20,
    "start_time": "2022-02-06T15:01:50.174Z"
   },
   {
    "duration": 5490,
    "start_time": "2022-02-06T15:01:50.197Z"
   },
   {
    "duration": 45,
    "start_time": "2022-02-06T15:01:55.691Z"
   },
   {
    "duration": 8,
    "start_time": "2022-02-06T15:01:55.758Z"
   },
   {
    "duration": 4454,
    "start_time": "2022-02-06T15:01:55.769Z"
   },
   {
    "duration": 10,
    "start_time": "2022-02-06T15:02:00.225Z"
   },
   {
    "duration": 36,
    "start_time": "2022-02-06T15:02:00.238Z"
   },
   {
    "duration": 12,
    "start_time": "2022-02-06T15:02:00.277Z"
   },
   {
    "duration": 27,
    "start_time": "2022-02-06T15:02:00.291Z"
   },
   {
    "duration": 55,
    "start_time": "2022-02-06T15:02:00.322Z"
   },
   {
    "duration": 9,
    "start_time": "2022-02-06T15:02:00.380Z"
   },
   {
    "duration": 28,
    "start_time": "2022-02-06T15:02:00.391Z"
   },
   {
    "duration": 8,
    "start_time": "2022-02-06T15:02:00.421Z"
   },
   {
    "duration": 48,
    "start_time": "2022-02-06T15:02:00.431Z"
   },
   {
    "duration": 11,
    "start_time": "2022-02-06T15:02:00.482Z"
   },
   {
    "duration": 34,
    "start_time": "2022-02-06T15:02:00.495Z"
   },
   {
    "duration": 33,
    "start_time": "2022-02-06T15:02:00.531Z"
   },
   {
    "duration": 33,
    "start_time": "2022-02-06T15:02:00.567Z"
   },
   {
    "duration": 29,
    "start_time": "2022-02-06T15:02:00.602Z"
   },
   {
    "duration": 9,
    "start_time": "2022-02-06T15:02:00.634Z"
   },
   {
    "duration": 23,
    "start_time": "2022-02-06T15:02:00.645Z"
   },
   {
    "duration": 11,
    "start_time": "2022-02-06T15:02:00.671Z"
   },
   {
    "duration": 20,
    "start_time": "2022-02-06T15:02:00.685Z"
   },
   {
    "duration": 11,
    "start_time": "2022-02-06T15:02:00.708Z"
   },
   {
    "duration": 40,
    "start_time": "2022-02-06T15:02:00.721Z"
   },
   {
    "duration": 133,
    "start_time": "2022-02-06T15:02:00.764Z"
   },
   {
    "duration": 4,
    "start_time": "2022-02-06T15:14:41.291Z"
   },
   {
    "duration": 79,
    "start_time": "2022-02-06T15:14:41.301Z"
   },
   {
    "duration": 13,
    "start_time": "2022-02-06T15:14:41.383Z"
   },
   {
    "duration": 13,
    "start_time": "2022-02-06T15:14:41.402Z"
   },
   {
    "duration": 68,
    "start_time": "2022-02-06T15:14:41.540Z"
   },
   {
    "duration": 46,
    "start_time": "2022-02-06T15:14:41.612Z"
   },
   {
    "duration": 6,
    "start_time": "2022-02-06T15:14:41.661Z"
   },
   {
    "duration": 14,
    "start_time": "2022-02-06T15:14:41.669Z"
   },
   {
    "duration": 18,
    "start_time": "2022-02-06T15:14:41.686Z"
   },
   {
    "duration": 67,
    "start_time": "2022-02-06T15:14:41.707Z"
   },
   {
    "duration": 20,
    "start_time": "2022-02-06T15:14:41.777Z"
   },
   {
    "duration": 6,
    "start_time": "2022-02-06T15:14:41.801Z"
   },
   {
    "duration": 50,
    "start_time": "2022-02-06T15:14:41.810Z"
   },
   {
    "duration": 30,
    "start_time": "2022-02-06T15:14:41.862Z"
   },
   {
    "duration": 21,
    "start_time": "2022-02-06T15:14:41.895Z"
   },
   {
    "duration": 5448,
    "start_time": "2022-02-06T15:14:41.918Z"
   },
   {
    "duration": 42,
    "start_time": "2022-02-06T15:14:47.369Z"
   },
   {
    "duration": 6,
    "start_time": "2022-02-06T15:14:47.414Z"
   },
   {
    "duration": 4443,
    "start_time": "2022-02-06T15:14:47.422Z"
   },
   {
    "duration": 11,
    "start_time": "2022-02-06T15:14:51.868Z"
   },
   {
    "duration": 19,
    "start_time": "2022-02-06T15:14:51.882Z"
   },
   {
    "duration": 12,
    "start_time": "2022-02-06T15:14:51.904Z"
   },
   {
    "duration": 52,
    "start_time": "2022-02-06T15:14:51.918Z"
   },
   {
    "duration": 24,
    "start_time": "2022-02-06T15:14:51.973Z"
   },
   {
    "duration": 8,
    "start_time": "2022-02-06T15:14:52.000Z"
   },
   {
    "duration": 57,
    "start_time": "2022-02-06T15:14:52.011Z"
   },
   {
    "duration": 8,
    "start_time": "2022-02-06T15:14:52.073Z"
   },
   {
    "duration": 23,
    "start_time": "2022-02-06T15:14:52.084Z"
   },
   {
    "duration": 8,
    "start_time": "2022-02-06T15:14:52.110Z"
   },
   {
    "duration": 63,
    "start_time": "2022-02-06T15:14:52.121Z"
   },
   {
    "duration": 11,
    "start_time": "2022-02-06T15:14:52.187Z"
   },
   {
    "duration": 11,
    "start_time": "2022-02-06T15:14:52.201Z"
   },
   {
    "duration": 51,
    "start_time": "2022-02-06T15:14:52.215Z"
   },
   {
    "duration": 11,
    "start_time": "2022-02-06T15:14:52.269Z"
   },
   {
    "duration": 20,
    "start_time": "2022-02-06T15:14:52.283Z"
   },
   {
    "duration": 10,
    "start_time": "2022-02-06T15:14:52.306Z"
   },
   {
    "duration": 47,
    "start_time": "2022-02-06T15:14:52.318Z"
   },
   {
    "duration": 8,
    "start_time": "2022-02-06T15:14:52.368Z"
   },
   {
    "duration": 13,
    "start_time": "2022-02-06T15:14:52.379Z"
   },
   {
    "duration": 192,
    "start_time": "2022-02-06T15:14:52.394Z"
   },
   {
    "duration": 46,
    "start_time": "2022-02-06T15:16:37.772Z"
   },
   {
    "duration": 39,
    "start_time": "2022-02-06T15:16:59.654Z"
   },
   {
    "duration": 4,
    "start_time": "2022-02-06T15:17:02.097Z"
   },
   {
    "duration": 89,
    "start_time": "2022-02-06T15:17:02.105Z"
   },
   {
    "duration": 15,
    "start_time": "2022-02-06T15:17:02.197Z"
   },
   {
    "duration": 44,
    "start_time": "2022-02-06T15:17:02.215Z"
   },
   {
    "duration": 102,
    "start_time": "2022-02-06T15:17:02.262Z"
   },
   {
    "duration": 24,
    "start_time": "2022-02-06T15:17:02.367Z"
   },
   {
    "duration": 6,
    "start_time": "2022-02-06T15:17:02.395Z"
   },
   {
    "duration": 56,
    "start_time": "2022-02-06T15:17:02.405Z"
   },
   {
    "duration": 21,
    "start_time": "2022-02-06T15:17:02.464Z"
   },
   {
    "duration": 25,
    "start_time": "2022-02-06T15:17:02.487Z"
   },
   {
    "duration": 60,
    "start_time": "2022-02-06T15:17:02.515Z"
   },
   {
    "duration": 7,
    "start_time": "2022-02-06T15:17:02.577Z"
   },
   {
    "duration": 22,
    "start_time": "2022-02-06T15:17:02.586Z"
   },
   {
    "duration": 52,
    "start_time": "2022-02-06T15:17:02.611Z"
   },
   {
    "duration": 26,
    "start_time": "2022-02-06T15:17:02.666Z"
   },
   {
    "duration": 29,
    "start_time": "2022-02-06T15:17:02.696Z"
   },
   {
    "duration": 5367,
    "start_time": "2022-02-06T15:17:02.728Z"
   },
   {
    "duration": 63,
    "start_time": "2022-02-06T15:17:08.098Z"
   },
   {
    "duration": 5,
    "start_time": "2022-02-06T15:17:08.166Z"
   },
   {
    "duration": 4392,
    "start_time": "2022-02-06T15:17:08.174Z"
   },
   {
    "duration": 15,
    "start_time": "2022-02-06T15:17:12.569Z"
   },
   {
    "duration": 24,
    "start_time": "2022-02-06T15:17:12.586Z"
   },
   {
    "duration": 11,
    "start_time": "2022-02-06T15:17:12.612Z"
   },
   {
    "duration": 46,
    "start_time": "2022-02-06T15:17:12.626Z"
   },
   {
    "duration": 22,
    "start_time": "2022-02-06T15:17:12.674Z"
   },
   {
    "duration": 10,
    "start_time": "2022-02-06T15:17:12.698Z"
   },
   {
    "duration": 59,
    "start_time": "2022-02-06T15:17:12.711Z"
   },
   {
    "duration": 10,
    "start_time": "2022-02-06T15:17:12.772Z"
   },
   {
    "duration": 31,
    "start_time": "2022-02-06T15:17:12.785Z"
   },
   {
    "duration": 10,
    "start_time": "2022-02-06T15:17:12.819Z"
   },
   {
    "duration": 54,
    "start_time": "2022-02-06T15:17:12.832Z"
   },
   {
    "duration": 12,
    "start_time": "2022-02-06T15:17:12.889Z"
   },
   {
    "duration": 10,
    "start_time": "2022-02-06T15:17:12.903Z"
   },
   {
    "duration": 53,
    "start_time": "2022-02-06T15:17:12.916Z"
   },
   {
    "duration": 13,
    "start_time": "2022-02-06T15:17:12.972Z"
   },
   {
    "duration": 14,
    "start_time": "2022-02-06T15:17:12.988Z"
   },
   {
    "duration": 21,
    "start_time": "2022-02-06T15:17:13.004Z"
   },
   {
    "duration": 40,
    "start_time": "2022-02-06T15:17:13.028Z"
   },
   {
    "duration": 10,
    "start_time": "2022-02-06T15:17:13.071Z"
   },
   {
    "duration": 14,
    "start_time": "2022-02-06T15:17:13.083Z"
   },
   {
    "duration": 233,
    "start_time": "2022-02-06T15:17:13.100Z"
   },
   {
    "duration": 36,
    "start_time": "2022-02-06T15:18:53.928Z"
   },
   {
    "duration": 29,
    "start_time": "2022-02-06T15:18:55.180Z"
   },
   {
    "duration": 160,
    "start_time": "2022-02-06T15:21:53.788Z"
   },
   {
    "duration": 7,
    "start_time": "2022-02-06T15:22:00.034Z"
   },
   {
    "duration": 11,
    "start_time": "2022-02-06T15:22:55.439Z"
   },
   {
    "duration": 12,
    "start_time": "2022-02-06T15:22:56.869Z"
   },
   {
    "duration": 4,
    "start_time": "2022-02-06T15:23:24.817Z"
   },
   {
    "duration": 86,
    "start_time": "2022-02-06T15:23:24.824Z"
   },
   {
    "duration": 52,
    "start_time": "2022-02-06T15:23:24.913Z"
   },
   {
    "duration": 12,
    "start_time": "2022-02-06T15:23:24.969Z"
   },
   {
    "duration": 109,
    "start_time": "2022-02-06T15:23:24.984Z"
   },
   {
    "duration": 26,
    "start_time": "2022-02-06T15:23:25.096Z"
   },
   {
    "duration": 7,
    "start_time": "2022-02-06T15:23:25.125Z"
   },
   {
    "duration": 17,
    "start_time": "2022-02-06T15:23:25.161Z"
   },
   {
    "duration": 24,
    "start_time": "2022-02-06T15:23:25.181Z"
   },
   {
    "duration": 63,
    "start_time": "2022-02-06T15:23:25.208Z"
   },
   {
    "duration": 24,
    "start_time": "2022-02-06T15:23:25.274Z"
   },
   {
    "duration": 6,
    "start_time": "2022-02-06T15:23:25.300Z"
   },
   {
    "duration": 50,
    "start_time": "2022-02-06T15:23:25.309Z"
   },
   {
    "duration": 28,
    "start_time": "2022-02-06T15:23:25.361Z"
   },
   {
    "duration": 20,
    "start_time": "2022-02-06T15:23:25.392Z"
   },
   {
    "duration": 61,
    "start_time": "2022-02-06T15:23:25.415Z"
   },
   {
    "duration": 21,
    "start_time": "2022-02-06T15:23:25.478Z"
   },
   {
    "duration": 5888,
    "start_time": "2022-02-06T15:23:25.501Z"
   },
   {
    "duration": 44,
    "start_time": "2022-02-06T15:23:31.395Z"
   },
   {
    "duration": 23,
    "start_time": "2022-02-06T15:23:31.443Z"
   },
   {
    "duration": 4714,
    "start_time": "2022-02-06T15:23:31.470Z"
   },
   {
    "duration": 12,
    "start_time": "2022-02-06T15:23:36.187Z"
   },
   {
    "duration": 20,
    "start_time": "2022-02-06T15:23:36.202Z"
   },
   {
    "duration": 35,
    "start_time": "2022-02-06T15:23:36.225Z"
   },
   {
    "duration": 15,
    "start_time": "2022-02-06T15:23:36.263Z"
   },
   {
    "duration": 20,
    "start_time": "2022-02-06T15:23:36.280Z"
   },
   {
    "duration": 57,
    "start_time": "2022-02-06T15:23:36.302Z"
   },
   {
    "duration": 10,
    "start_time": "2022-02-06T15:23:36.361Z"
   },
   {
    "duration": 23,
    "start_time": "2022-02-06T15:23:36.374Z"
   },
   {
    "duration": 9,
    "start_time": "2022-02-06T15:23:36.400Z"
   },
   {
    "duration": 56,
    "start_time": "2022-02-06T15:23:36.412Z"
   },
   {
    "duration": 9,
    "start_time": "2022-02-06T15:23:36.471Z"
   },
   {
    "duration": 23,
    "start_time": "2022-02-06T15:23:36.483Z"
   },
   {
    "duration": 9,
    "start_time": "2022-02-06T15:23:36.508Z"
   },
   {
    "duration": 45,
    "start_time": "2022-02-06T15:23:36.519Z"
   },
   {
    "duration": 17,
    "start_time": "2022-02-06T15:23:36.567Z"
   },
   {
    "duration": 11,
    "start_time": "2022-02-06T15:23:36.587Z"
   },
   {
    "duration": 15,
    "start_time": "2022-02-06T15:23:36.601Z"
   },
   {
    "duration": 10,
    "start_time": "2022-02-06T15:23:36.618Z"
   },
   {
    "duration": 12,
    "start_time": "2022-02-06T15:23:36.660Z"
   },
   {
    "duration": 10,
    "start_time": "2022-02-06T15:23:36.674Z"
   },
   {
    "duration": 17,
    "start_time": "2022-02-06T15:23:36.686Z"
   },
   {
    "duration": 178,
    "start_time": "2022-02-06T15:23:36.705Z"
   },
   {
    "duration": 4,
    "start_time": "2022-02-06T15:48:39.889Z"
   },
   {
    "duration": 82,
    "start_time": "2022-02-06T15:48:39.896Z"
   },
   {
    "duration": 17,
    "start_time": "2022-02-06T15:48:39.982Z"
   },
   {
    "duration": 16,
    "start_time": "2022-02-06T15:48:40.002Z"
   },
   {
    "duration": 111,
    "start_time": "2022-02-06T15:48:40.059Z"
   },
   {
    "duration": 24,
    "start_time": "2022-02-06T15:48:40.172Z"
   },
   {
    "duration": 6,
    "start_time": "2022-02-06T15:48:40.201Z"
   },
   {
    "duration": 20,
    "start_time": "2022-02-06T15:48:40.210Z"
   },
   {
    "duration": 23,
    "start_time": "2022-02-06T15:48:40.259Z"
   },
   {
    "duration": 33,
    "start_time": "2022-02-06T15:48:40.285Z"
   },
   {
    "duration": 56,
    "start_time": "2022-02-06T15:48:40.321Z"
   },
   {
    "duration": 7,
    "start_time": "2022-02-06T15:48:40.379Z"
   },
   {
    "duration": 16,
    "start_time": "2022-02-06T15:48:40.388Z"
   },
   {
    "duration": 68,
    "start_time": "2022-02-06T15:48:40.406Z"
   },
   {
    "duration": 17,
    "start_time": "2022-02-06T15:48:40.477Z"
   },
   {
    "duration": 29,
    "start_time": "2022-02-06T15:48:40.498Z"
   },
   {
    "duration": 51,
    "start_time": "2022-02-06T15:48:40.529Z"
   },
   {
    "duration": 5495,
    "start_time": "2022-02-06T15:48:40.583Z"
   },
   {
    "duration": 45,
    "start_time": "2022-02-06T15:48:46.083Z"
   },
   {
    "duration": 30,
    "start_time": "2022-02-06T15:48:46.131Z"
   },
   {
    "duration": 4737,
    "start_time": "2022-02-06T15:48:46.165Z"
   },
   {
    "duration": 17,
    "start_time": "2022-02-06T15:48:50.905Z"
   },
   {
    "duration": 40,
    "start_time": "2022-02-06T15:48:50.925Z"
   },
   {
    "duration": 7,
    "start_time": "2022-02-06T15:48:50.967Z"
   },
   {
    "duration": 30,
    "start_time": "2022-02-06T15:48:50.977Z"
   },
   {
    "duration": 49,
    "start_time": "2022-02-06T15:48:51.011Z"
   },
   {
    "duration": 27,
    "start_time": "2022-02-06T15:48:51.063Z"
   },
   {
    "duration": 14,
    "start_time": "2022-02-06T15:48:51.093Z"
   },
   {
    "duration": 62,
    "start_time": "2022-02-06T15:48:51.111Z"
   },
   {
    "duration": 11,
    "start_time": "2022-02-06T15:48:51.176Z"
   },
   {
    "duration": 24,
    "start_time": "2022-02-06T15:48:51.189Z"
   },
   {
    "duration": 9,
    "start_time": "2022-02-06T15:48:51.216Z"
   },
   {
    "duration": 26,
    "start_time": "2022-02-06T15:48:51.261Z"
   },
   {
    "duration": 9,
    "start_time": "2022-02-06T15:48:51.290Z"
   },
   {
    "duration": 11,
    "start_time": "2022-02-06T15:48:51.301Z"
   },
   {
    "duration": 55,
    "start_time": "2022-02-06T15:48:51.315Z"
   },
   {
    "duration": 15,
    "start_time": "2022-02-06T15:48:51.374Z"
   },
   {
    "duration": 23,
    "start_time": "2022-02-06T15:48:51.393Z"
   },
   {
    "duration": 9,
    "start_time": "2022-02-06T15:48:51.419Z"
   },
   {
    "duration": 15,
    "start_time": "2022-02-06T15:48:51.460Z"
   },
   {
    "duration": 14,
    "start_time": "2022-02-06T15:48:51.479Z"
   },
   {
    "duration": 25,
    "start_time": "2022-02-06T15:48:51.496Z"
   },
   {
    "duration": 187,
    "start_time": "2022-02-06T15:48:51.524Z"
   }
  ],
  "kernelspec": {
   "display_name": "Python 3 (ipykernel)",
   "language": "python",
   "name": "python3"
  },
  "language_info": {
   "codemirror_mode": {
    "name": "ipython",
    "version": 3
   },
   "file_extension": ".py",
   "mimetype": "text/x-python",
   "name": "python",
   "nbconvert_exporter": "python",
   "pygments_lexer": "ipython3",
   "version": "3.9.5"
  },
  "toc": {
   "base_numbering": 1,
   "nav_menu": {},
   "number_sections": false,
   "sideBar": true,
   "skip_h1_title": false,
   "title_cell": "Table of Contents",
   "title_sidebar": "Contents",
   "toc_cell": false,
   "toc_position": {
    "height": "calc(100% - 180px)",
    "left": "10px",
    "top": "150px",
    "width": "165px"
   },
   "toc_section_display": true,
   "toc_window_display": false
  }
 },
 "nbformat": 4,
 "nbformat_minor": 2
}
