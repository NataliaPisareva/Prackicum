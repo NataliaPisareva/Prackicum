{
 "cells": [
  {
   "cell_type": "markdown",
   "metadata": {},
   "source": [
    "### Описание исследования"
   ]
  },
  {
   "cell_type": "markdown",
   "metadata": {},
   "source": [
    "Вы решили открыть небольшое кафе в Москве. Оно оригинальное — гостей должны обслуживать роботы. \n",
    "Предполагается привлечение инвесторов.\n",
    "Необходимо провести исследование рынка в сфере общественного питания по определению перспектив развития проекта для привлечения инвесторов."
   ]
  },
  {
   "cell_type": "markdown",
   "metadata": {},
   "source": [
    "### Загрузка данных и подготовка к анализу"
   ]
  },
  {
   "cell_type": "code",
   "execution_count": 1,
   "metadata": {},
   "outputs": [],
   "source": [
    "import pandas as pd # загрузка библиотек\n",
    "import seaborn as sns\n",
    "import plotly.express as px \n",
    "import numpy as np\n",
    "import matplotlib.pyplot as plt"
   ]
  },
  {
   "cell_type": "code",
   "execution_count": 2,
   "metadata": {},
   "outputs": [
    {
     "name": "stdout",
     "output_type": "stream",
     "text": [
      "Requirement already satisfied: plotly in /opt/conda/lib/python3.9/site-packages (5.4.0)\r\n",
      "Requirement already satisfied: tenacity>=6.2.0 in /opt/conda/lib/python3.9/site-packages (from plotly) (8.0.1)\r\n",
      "Requirement already satisfied: six in /opt/conda/lib/python3.9/site-packages (from plotly) (1.16.0)\r\n"
     ]
    }
   ],
   "source": [
    "!pip install plotly"
   ]
  },
  {
   "cell_type": "code",
   "execution_count": 3,
   "metadata": {},
   "outputs": [
    {
     "data": {
      "text/html": [
       "<div>\n",
       "<style scoped>\n",
       "    .dataframe tbody tr th:only-of-type {\n",
       "        vertical-align: middle;\n",
       "    }\n",
       "\n",
       "    .dataframe tbody tr th {\n",
       "        vertical-align: top;\n",
       "    }\n",
       "\n",
       "    .dataframe thead th {\n",
       "        text-align: right;\n",
       "    }\n",
       "</style>\n",
       "<table border=\"1\" class=\"dataframe\">\n",
       "  <thead>\n",
       "    <tr style=\"text-align: right;\">\n",
       "      <th></th>\n",
       "      <th>id</th>\n",
       "      <th>object_name</th>\n",
       "      <th>chain</th>\n",
       "      <th>object_type</th>\n",
       "      <th>address</th>\n",
       "      <th>number</th>\n",
       "    </tr>\n",
       "  </thead>\n",
       "  <tbody>\n",
       "    <tr>\n",
       "      <th>0</th>\n",
       "      <td>151635</td>\n",
       "      <td>СМЕТАНА</td>\n",
       "      <td>нет</td>\n",
       "      <td>кафе</td>\n",
       "      <td>город Москва, улица Егора Абакумова, дом 9</td>\n",
       "      <td>48</td>\n",
       "    </tr>\n",
       "    <tr>\n",
       "      <th>1</th>\n",
       "      <td>77874</td>\n",
       "      <td>Родник</td>\n",
       "      <td>нет</td>\n",
       "      <td>кафе</td>\n",
       "      <td>город Москва, улица Талалихина, дом 2/1, корпус 1</td>\n",
       "      <td>35</td>\n",
       "    </tr>\n",
       "    <tr>\n",
       "      <th>2</th>\n",
       "      <td>24309</td>\n",
       "      <td>Кафе «Академия»</td>\n",
       "      <td>нет</td>\n",
       "      <td>кафе</td>\n",
       "      <td>город Москва, Абельмановская улица, дом 6</td>\n",
       "      <td>95</td>\n",
       "    </tr>\n",
       "    <tr>\n",
       "      <th>3</th>\n",
       "      <td>21894</td>\n",
       "      <td>ПИЦЦЕТОРИЯ</td>\n",
       "      <td>да</td>\n",
       "      <td>кафе</td>\n",
       "      <td>город Москва, Абрамцевская улица, дом 1</td>\n",
       "      <td>40</td>\n",
       "    </tr>\n",
       "    <tr>\n",
       "      <th>4</th>\n",
       "      <td>119365</td>\n",
       "      <td>Кафе «Вишневая метель»</td>\n",
       "      <td>нет</td>\n",
       "      <td>кафе</td>\n",
       "      <td>город Москва, Абрамцевская улица, дом 9, корпус 1</td>\n",
       "      <td>50</td>\n",
       "    </tr>\n",
       "  </tbody>\n",
       "</table>\n",
       "</div>"
      ],
      "text/plain": [
       "       id             object_name chain object_type  \\\n",
       "0  151635                 СМЕТАНА   нет        кафе   \n",
       "1   77874                  Родник   нет        кафе   \n",
       "2   24309         Кафе «Академия»   нет        кафе   \n",
       "3   21894              ПИЦЦЕТОРИЯ    да        кафе   \n",
       "4  119365  Кафе «Вишневая метель»   нет        кафе   \n",
       "\n",
       "                                             address  number  \n",
       "0         город Москва, улица Егора Абакумова, дом 9      48  \n",
       "1  город Москва, улица Талалихина, дом 2/1, корпус 1      35  \n",
       "2          город Москва, Абельмановская улица, дом 6      95  \n",
       "3            город Москва, Абрамцевская улица, дом 1      40  \n",
       "4  город Москва, Абрамцевская улица, дом 9, корпус 1      50  "
      ]
     },
     "execution_count": 3,
     "metadata": {},
     "output_type": "execute_result"
    }
   ],
   "source": [
    "rest_data = pd.read_csv('/datasets/rest_data.csv') # таблица данных о заведениях общественного питания в г. Москва\n",
    "rest_data.head()"
   ]
  },
  {
   "cell_type": "markdown",
   "metadata": {},
   "source": [
    "id — идентификатор объекта;\n",
    "object_name — название объекта общественного питания;\n",
    "chain — сетевой ресторан;\n",
    "object_type — тип объекта общественного питания;\n",
    "address — адрес;\n",
    "number — количество посадочных мест\n"
   ]
  },
  {
   "cell_type": "code",
   "execution_count": 4,
   "metadata": {},
   "outputs": [
    {
     "data": {
      "text/plain": [
       "id             0\n",
       "object_name    0\n",
       "chain          0\n",
       "object_type    0\n",
       "address        0\n",
       "number         0\n",
       "dtype: int64"
      ]
     },
     "execution_count": 4,
     "metadata": {},
     "output_type": "execute_result"
    }
   ],
   "source": [
    "rest_data.isna().sum() # проверка пропусков"
   ]
  },
  {
   "cell_type": "code",
   "execution_count": 5,
   "metadata": {},
   "outputs": [
    {
     "name": "stdout",
     "output_type": "stream",
     "text": [
      "<class 'pandas.core.frame.DataFrame'>\n",
      "RangeIndex: 15366 entries, 0 to 15365\n",
      "Data columns (total 6 columns):\n",
      " #   Column       Non-Null Count  Dtype \n",
      "---  ------       --------------  ----- \n",
      " 0   id           15366 non-null  int64 \n",
      " 1   object_name  15366 non-null  object\n",
      " 2   chain        15366 non-null  object\n",
      " 3   object_type  15366 non-null  object\n",
      " 4   address      15366 non-null  object\n",
      " 5   number       15366 non-null  int64 \n",
      "dtypes: int64(2), object(4)\n",
      "memory usage: 720.4+ KB\n"
     ]
    }
   ],
   "source": [
    "rest_data.info() # общая информация о данных таблицы"
   ]
  },
  {
   "cell_type": "code",
   "execution_count": 6,
   "metadata": {},
   "outputs": [
    {
     "data": {
      "text/html": [
       "<div>\n",
       "<style scoped>\n",
       "    .dataframe tbody tr th:only-of-type {\n",
       "        vertical-align: middle;\n",
       "    }\n",
       "\n",
       "    .dataframe tbody tr th {\n",
       "        vertical-align: top;\n",
       "    }\n",
       "\n",
       "    .dataframe thead th {\n",
       "        text-align: right;\n",
       "    }\n",
       "</style>\n",
       "<table border=\"1\" class=\"dataframe\">\n",
       "  <thead>\n",
       "    <tr style=\"text-align: right;\">\n",
       "      <th></th>\n",
       "      <th>id</th>\n",
       "      <th>object_name</th>\n",
       "      <th>chain</th>\n",
       "      <th>object_type</th>\n",
       "      <th>address</th>\n",
       "      <th>number</th>\n",
       "    </tr>\n",
       "  </thead>\n",
       "  <tbody>\n",
       "    <tr>\n",
       "      <th>0</th>\n",
       "      <td>151635</td>\n",
       "      <td>СМЕТАНА</td>\n",
       "      <td>нет</td>\n",
       "      <td>кафе</td>\n",
       "      <td>город Москва, улица Егора Абакумова, дом 9</td>\n",
       "      <td>48</td>\n",
       "    </tr>\n",
       "    <tr>\n",
       "      <th>1</th>\n",
       "      <td>77874</td>\n",
       "      <td>Родник</td>\n",
       "      <td>нет</td>\n",
       "      <td>кафе</td>\n",
       "      <td>город Москва, улица Талалихина, дом 2/1, корпус 1</td>\n",
       "      <td>35</td>\n",
       "    </tr>\n",
       "    <tr>\n",
       "      <th>2</th>\n",
       "      <td>24309</td>\n",
       "      <td>Кафе «Академия»</td>\n",
       "      <td>нет</td>\n",
       "      <td>кафе</td>\n",
       "      <td>город Москва, Абельмановская улица, дом 6</td>\n",
       "      <td>95</td>\n",
       "    </tr>\n",
       "    <tr>\n",
       "      <th>3</th>\n",
       "      <td>21894</td>\n",
       "      <td>ПИЦЦЕТОРИЯ</td>\n",
       "      <td>да</td>\n",
       "      <td>кафе</td>\n",
       "      <td>город Москва, Абрамцевская улица, дом 1</td>\n",
       "      <td>40</td>\n",
       "    </tr>\n",
       "    <tr>\n",
       "      <th>4</th>\n",
       "      <td>119365</td>\n",
       "      <td>Кафе «Вишневая метель»</td>\n",
       "      <td>нет</td>\n",
       "      <td>кафе</td>\n",
       "      <td>город Москва, Абрамцевская улица, дом 9, корпус 1</td>\n",
       "      <td>50</td>\n",
       "    </tr>\n",
       "    <tr>\n",
       "      <th>...</th>\n",
       "      <td>...</td>\n",
       "      <td>...</td>\n",
       "      <td>...</td>\n",
       "      <td>...</td>\n",
       "      <td>...</td>\n",
       "      <td>...</td>\n",
       "    </tr>\n",
       "    <tr>\n",
       "      <th>15361</th>\n",
       "      <td>208537</td>\n",
       "      <td>Шоколадница</td>\n",
       "      <td>да</td>\n",
       "      <td>кафе</td>\n",
       "      <td>город Москва, 3-й Крутицкий переулок, дом 18</td>\n",
       "      <td>50</td>\n",
       "    </tr>\n",
       "    <tr>\n",
       "      <th>15362</th>\n",
       "      <td>209264</td>\n",
       "      <td>Шоколадница</td>\n",
       "      <td>да</td>\n",
       "      <td>кафе</td>\n",
       "      <td>город Москва, улица Земляной Вал, дом 33</td>\n",
       "      <td>10</td>\n",
       "    </tr>\n",
       "    <tr>\n",
       "      <th>15363</th>\n",
       "      <td>209186</td>\n",
       "      <td>Шоколадница</td>\n",
       "      <td>да</td>\n",
       "      <td>кафе</td>\n",
       "      <td>город Москва, улица Земляной Вал, дом 33</td>\n",
       "      <td>20</td>\n",
       "    </tr>\n",
       "    <tr>\n",
       "      <th>15364</th>\n",
       "      <td>221900</td>\n",
       "      <td>Шоколадница</td>\n",
       "      <td>да</td>\n",
       "      <td>кафе</td>\n",
       "      <td>город Москва, поселение Московский, Киевское ш...</td>\n",
       "      <td>36</td>\n",
       "    </tr>\n",
       "    <tr>\n",
       "      <th>15365</th>\n",
       "      <td>222535</td>\n",
       "      <td>Шоколадница</td>\n",
       "      <td>да</td>\n",
       "      <td>кафе</td>\n",
       "      <td>город Москва, Ходынский бульвар, дом 4</td>\n",
       "      <td>10</td>\n",
       "    </tr>\n",
       "  </tbody>\n",
       "</table>\n",
       "<p>15366 rows × 6 columns</p>\n",
       "</div>"
      ],
      "text/plain": [
       "           id             object_name chain object_type  \\\n",
       "0      151635                 СМЕТАНА   нет        кафе   \n",
       "1       77874                  Родник   нет        кафе   \n",
       "2       24309         Кафе «Академия»   нет        кафе   \n",
       "3       21894              ПИЦЦЕТОРИЯ    да        кафе   \n",
       "4      119365  Кафе «Вишневая метель»   нет        кафе   \n",
       "...       ...                     ...   ...         ...   \n",
       "15361  208537             Шоколадница    да        кафе   \n",
       "15362  209264             Шоколадница    да        кафе   \n",
       "15363  209186             Шоколадница    да        кафе   \n",
       "15364  221900             Шоколадница    да        кафе   \n",
       "15365  222535             Шоколадница    да        кафе   \n",
       "\n",
       "                                                 address  number  \n",
       "0             город Москва, улица Егора Абакумова, дом 9      48  \n",
       "1      город Москва, улица Талалихина, дом 2/1, корпус 1      35  \n",
       "2              город Москва, Абельмановская улица, дом 6      95  \n",
       "3                город Москва, Абрамцевская улица, дом 1      40  \n",
       "4      город Москва, Абрамцевская улица, дом 9, корпус 1      50  \n",
       "...                                                  ...     ...  \n",
       "15361       город Москва, 3-й Крутицкий переулок, дом 18      50  \n",
       "15362           город Москва, улица Земляной Вал, дом 33      10  \n",
       "15363           город Москва, улица Земляной Вал, дом 33      20  \n",
       "15364  город Москва, поселение Московский, Киевское ш...      36  \n",
       "15365             город Москва, Ходынский бульвар, дом 4      10  \n",
       "\n",
       "[15366 rows x 6 columns]"
      ]
     },
     "execution_count": 6,
     "metadata": {},
     "output_type": "execute_result"
    }
   ],
   "source": [
    "rest_data.drop_duplicates() # удаление дубликатов"
   ]
  },
  {
   "cell_type": "code",
   "execution_count": 7,
   "metadata": {},
   "outputs": [],
   "source": [
    "rest_data.drop_duplicates(subset=['object_name','object_type', 'address', 'number'], inplace=True) # удаление дубликатов"
   ]
  },
  {
   "cell_type": "code",
   "execution_count": 8,
   "metadata": {},
   "outputs": [
    {
     "name": "stdout",
     "output_type": "stream",
     "text": [
      "<class 'pandas.core.frame.DataFrame'>\n",
      "Int64Index: 15284 entries, 0 to 15365\n",
      "Data columns (total 6 columns):\n",
      " #   Column       Non-Null Count  Dtype \n",
      "---  ------       --------------  ----- \n",
      " 0   id           15284 non-null  int64 \n",
      " 1   object_name  15284 non-null  object\n",
      " 2   chain        15284 non-null  object\n",
      " 3   object_type  15284 non-null  object\n",
      " 4   address      15284 non-null  object\n",
      " 5   number       15284 non-null  int64 \n",
      "dtypes: int64(2), object(4)\n",
      "memory usage: 835.8+ KB\n"
     ]
    }
   ],
   "source": [
    "rest_data.info() # общая информация о данных таблицы"
   ]
  },
  {
   "cell_type": "markdown",
   "metadata": {},
   "source": [
    "Вывод: в таблице представлены данные о заведениях общественного питания в Москве. Типы данных в колонках правильные, пропуски и дубликаты отсутствуют. Можно приступать к анализу данных."
   ]
  },
  {
   "cell_type": "markdown",
   "metadata": {},
   "source": [
    "### Анализ данных"
   ]
  },
  {
   "cell_type": "markdown",
   "metadata": {},
   "source": [
    "#### Исследуйте соотношение видов объектов общественного питания по количеству. Постройте график."
   ]
  },
  {
   "cell_type": "code",
   "execution_count": 9,
   "metadata": {},
   "outputs": [
    {
     "data": {
      "text/plain": [
       "array(['кафе', 'столовая', 'закусочная',\n",
       "       'предприятие быстрого обслуживания', 'ресторан', 'кафетерий',\n",
       "       'буфет', 'бар', 'магазин (отдел кулинарии)'], dtype=object)"
      ]
     },
     "execution_count": 9,
     "metadata": {},
     "output_type": "execute_result"
    }
   ],
   "source": [
    "rest_data['object_type'].unique() # виды объектов общественного питания"
   ]
  },
  {
   "cell_type": "code",
   "execution_count": 10,
   "metadata": {},
   "outputs": [
    {
     "data": {
      "text/plain": [
       "object_type\n",
       "магазин (отдел кулинарии)             273\n",
       "закусочная                            349\n",
       "кафетерий                             395\n",
       "буфет                                 577\n",
       "бар                                   855\n",
       "предприятие быстрого обслуживания    1898\n",
       "ресторан                             2282\n",
       "столовая                             2584\n",
       "кафе                                 6071\n",
       "Name: object_type, dtype: int64"
      ]
     },
     "execution_count": 10,
     "metadata": {},
     "output_type": "execute_result"
    }
   ],
   "source": [
    "rest_data.groupby('object_type')['object_type'].count().sort_values() # виды объектов общественного питания и их количество"
   ]
  },
  {
   "cell_type": "markdown",
   "metadata": {},
   "source": [
    "Больше всего представлены кафе, столовые, рестораны, предприятие быстрого обслуживания."
   ]
  },
  {
   "cell_type": "code",
   "execution_count": 11,
   "metadata": {},
   "outputs": [
    {
     "data": {
      "image/png": "[encoded data removed]",
      "text/plain": [
       "<Figure size 648x648 with 1 Axes>"
      ]
     },
     "metadata": {},
     "output_type": "display_data"
    }
   ],
   "source": [
    "rest_data.groupby('object_type')['object_type'].count().sort_values().plot(kind='pie', label='Доля, %', autopct='%.2f', figsize= (9,9))\n",
    "sns.set_palette('bright')\n",
    "plt.title(\"Доли видов объектов общественного питания в г. Москва\")\n",
    "plt.legend(title=\"Виды объектов\", loc=\"best\", bbox_to_anchor=(1.0, 0, 0.5, 1))\n",
    "plt.show()"
   ]
  },
  {
   "cell_type": "markdown",
   "metadata": {},
   "source": [
    "Соотношение долей разных типов объектов общественного питания: 40%-кафе, 17%-столовых, 15%- ресторанов, 13% -предприятий быстрого обслуживания."
   ]
  },
  {
   "cell_type": "markdown",
   "metadata": {},
   "source": [
    "#### Исследуйте соотношение сетевых и несетевых заведений по количеству. Постройте график."
   ]
  },
  {
   "cell_type": "code",
   "execution_count": 12,
   "metadata": {},
   "outputs": [
    {
     "data": {
      "text/plain": [
       "chain\n",
       "да      2964\n",
       "нет    12320\n",
       "Name: id, dtype: int64"
      ]
     },
     "execution_count": 12,
     "metadata": {},
     "output_type": "execute_result"
    }
   ],
   "source": [
    "rest_data.groupby('chain')['id'].count().sort_values() # количество сетевых и несетевых заведений"
   ]
  },
  {
   "cell_type": "code",
   "execution_count": 13,
   "metadata": {},
   "outputs": [
    {
     "data": {
      "image/png": "[encoded data removed]",
      "text/plain": [
       "<Figure size 504x504 with 1 Axes>"
      ]
     },
     "metadata": {},
     "output_type": "display_data"
    }
   ],
   "source": [
    "rest_data.groupby('chain')['id'].count().sort_values().plot(kind='pie', label='Доля, %', autopct='%.2f', figsize= (7,7))\n",
    "sns.set_palette('bright')\n",
    "plt.title(\"Доли сетевых и несетевых заведений\")\n",
    "plt.legend(title=\"Виды объектов\", loc=\"best\", bbox_to_anchor=(1.0, 0, 0.5, 1))\n",
    "plt.show()"
   ]
  },
  {
   "cell_type": "markdown",
   "metadata": {},
   "source": [
    "Доля несетевых объектов питания составляет 81%, доля сетевых объектов питания составляет 19%."
   ]
  },
  {
   "cell_type": "markdown",
   "metadata": {},
   "source": [
    "#### Для какого вида объекта общественного питания характерно сетевое распространение?"
   ]
  },
  {
   "cell_type": "code",
   "execution_count": 14,
   "metadata": {},
   "outputs": [
    {
     "data": {
      "text/plain": [
       "object_type\n",
       "бар                                    37\n",
       "буфет                                  11\n",
       "закусочная                             56\n",
       "кафе                                 1396\n",
       "кафетерий                              52\n",
       "магазин (отдел кулинарии)              78\n",
       "предприятие быстрого обслуживания     788\n",
       "ресторан                              543\n",
       "столовая                                3\n",
       "Name: object_type, dtype: int64"
      ]
     },
     "execution_count": 14,
     "metadata": {},
     "output_type": "execute_result"
    }
   ],
   "source": [
    "rest_data.query('chain == \"да\"').groupby('object_type')['object_type'].count()"
   ]
  },
  {
   "cell_type": "code",
   "execution_count": 15,
   "metadata": {},
   "outputs": [
    {
     "data": {
      "image/png": "[encoded data removed]",
      "text/plain": [
       "<Figure size 576x576 with 1 Axes>"
      ]
     },
     "metadata": {},
     "output_type": "display_data"
    }
   ],
   "source": [
    "rest_data.query('chain == \"да\"').groupby('object_type')['object_type'].count().sort_values().plot(kind='pie', label='Доля, %', autopct='%.2f', figsize= (8,8))\n",
    "sns.set_palette('bright')\n",
    "plt.title(\"Типы сетевых заведений\")\n",
    "plt.legend(title=\"Виды объектов\", loc=\"best\", bbox_to_anchor=(1.5, 0, 0.5, 1))\n",
    "plt.show()"
   ]
  },
  {
   "cell_type": "markdown",
   "metadata": {},
   "source": [
    "Исходя из графика можно сделать вывод, что сетевое распределение характерно для в большей степени для кафе."
   ]
  },
  {
   "cell_type": "markdown",
   "metadata": {},
   "source": [
    "#### Что характерно для сетевых заведений: много заведений с небольшим числом посадочных мест в каждом или мало заведений с большим количеством посадочных мест?"
   ]
  },
  {
   "cell_type": "code",
   "execution_count": 16,
   "metadata": {},
   "outputs": [
    {
     "data": {
      "text/plain": [
       "object_name\n",
       "Кофе с Собой                    0.0\n",
       "Пицца «Паоло»                   0.0\n",
       "Marmalato                       0.0\n",
       "Movenpick                       0.0\n",
       "My box                          0.0\n",
       "                              ...  \n",
       "Кафе МУ-МУ                    300.0\n",
       "Ян Примус                     300.0\n",
       "Чешская пивная «Козловица»    306.0\n",
       "БАКИНСКИЙ БУЛЬВАР             350.0\n",
       "Темпл Бар                     356.0\n",
       "Name: number, Length: 724, dtype: float64"
      ]
     },
     "execution_count": 16,
     "metadata": {},
     "output_type": "execute_result"
    }
   ],
   "source": [
    "rest_data.query('chain == \"да\"').groupby('object_name')['number'].mean().sort_values()"
   ]
  },
  {
   "cell_type": "code",
   "execution_count": 17,
   "metadata": {},
   "outputs": [
    {
     "data": {
      "image/png": "[encoded data removed]",
      "text/plain": [
       "<Figure size 432x288 with 1 Axes>"
      ]
     },
     "metadata": {
      "needs_background": "light"
     },
     "output_type": "display_data"
    }
   ],
   "source": [
    "rest_data.query('chain == \"да\"').groupby('object_name')['number'].mean().sort_values().hist(bins=100)\n",
    "plt.show()"
   ]
  },
  {
   "cell_type": "markdown",
   "metadata": {},
   "source": [
    "По гистограмме видно, что для сетевых заведений характерно много заведений с малым количеством посадочных мест. "
   ]
  },
  {
   "cell_type": "markdown",
   "metadata": {},
   "source": [
    "#### Для каждого вида объекта общественного питания опишите среднее количество посадочных мест. Какой вид предоставляет в среднем самое большое количество посадочных мест? Постройте графики."
   ]
  },
  {
   "cell_type": "code",
   "execution_count": 18,
   "metadata": {},
   "outputs": [
    {
     "data": {
      "text/plain": [
       "object_type\n",
       "магазин (отдел кулинарии)              5.589744\n",
       "закусочная                             7.825215\n",
       "кафетерий                              9.184810\n",
       "предприятие быстрого обслуживания     20.808219\n",
       "кафе                                  39.785703\n",
       "бар                                   43.533333\n",
       "буфет                                 51.509532\n",
       "ресторан                              96.884750\n",
       "столовая                             130.337848\n",
       "Name: number, dtype: float64"
      ]
     },
     "execution_count": 18,
     "metadata": {},
     "output_type": "execute_result"
    }
   ],
   "source": [
    "rest_data.groupby('object_type')['number'].mean().sort_values()"
   ]
  },
  {
   "cell_type": "code",
   "execution_count": 19,
   "metadata": {},
   "outputs": [
    {
     "data": {
      "image/png": "[encoded data removed]",
      "text/plain": [
       "<Figure size 432x288 with 1 Axes>"
      ]
     },
     "metadata": {
      "needs_background": "light"
     },
     "output_type": "display_data"
    }
   ],
   "source": [
    "rest_data.groupby('object_type')['number'].mean().sort_values().plot(kind='bar', xlabel = 'Тип объекта питания')\n",
    "sns.set_palette('bright')\n",
    "plt.title(\"Среднее количество посадочных мест\")\n",
    "\n",
    "plt.show()"
   ]
  },
  {
   "cell_type": "markdown",
   "metadata": {},
   "source": [
    "В среднем самое больше количество посадочных мест в столовых."
   ]
  },
  {
   "cell_type": "markdown",
   "metadata": {},
   "source": [
    "#### Выделите в отдельный столбец информацию об улице из столбца address ."
   ]
  },
  {
   "cell_type": "code",
   "execution_count": 20,
   "metadata": {},
   "outputs": [],
   "source": [
    "# зададим функцию для выделения улицы из столбца адрес с помощью функции split\n",
    "def add_street(data):\n",
    "    x = data.split(',')\n",
    "    x[1]=x[1].strip() \n",
    "    street=x[1]\n",
    "    return street"
   ]
  },
  {
   "cell_type": "code",
   "execution_count": 21,
   "metadata": {},
   "outputs": [
    {
     "data": {
      "text/html": [
       "<div>\n",
       "<style scoped>\n",
       "    .dataframe tbody tr th:only-of-type {\n",
       "        vertical-align: middle;\n",
       "    }\n",
       "\n",
       "    .dataframe tbody tr th {\n",
       "        vertical-align: top;\n",
       "    }\n",
       "\n",
       "    .dataframe thead th {\n",
       "        text-align: right;\n",
       "    }\n",
       "</style>\n",
       "<table border=\"1\" class=\"dataframe\">\n",
       "  <thead>\n",
       "    <tr style=\"text-align: right;\">\n",
       "      <th></th>\n",
       "      <th>id</th>\n",
       "      <th>object_name</th>\n",
       "      <th>chain</th>\n",
       "      <th>object_type</th>\n",
       "      <th>address</th>\n",
       "      <th>number</th>\n",
       "      <th>street</th>\n",
       "    </tr>\n",
       "  </thead>\n",
       "  <tbody>\n",
       "    <tr>\n",
       "      <th>0</th>\n",
       "      <td>151635</td>\n",
       "      <td>СМЕТАНА</td>\n",
       "      <td>нет</td>\n",
       "      <td>кафе</td>\n",
       "      <td>город Москва, улица Егора Абакумова, дом 9</td>\n",
       "      <td>48</td>\n",
       "      <td>улица Егора Абакумова</td>\n",
       "    </tr>\n",
       "    <tr>\n",
       "      <th>1</th>\n",
       "      <td>77874</td>\n",
       "      <td>Родник</td>\n",
       "      <td>нет</td>\n",
       "      <td>кафе</td>\n",
       "      <td>город Москва, улица Талалихина, дом 2/1, корпус 1</td>\n",
       "      <td>35</td>\n",
       "      <td>улица Талалихина</td>\n",
       "    </tr>\n",
       "    <tr>\n",
       "      <th>2</th>\n",
       "      <td>24309</td>\n",
       "      <td>Кафе «Академия»</td>\n",
       "      <td>нет</td>\n",
       "      <td>кафе</td>\n",
       "      <td>город Москва, Абельмановская улица, дом 6</td>\n",
       "      <td>95</td>\n",
       "      <td>Абельмановская улица</td>\n",
       "    </tr>\n",
       "    <tr>\n",
       "      <th>3</th>\n",
       "      <td>21894</td>\n",
       "      <td>ПИЦЦЕТОРИЯ</td>\n",
       "      <td>да</td>\n",
       "      <td>кафе</td>\n",
       "      <td>город Москва, Абрамцевская улица, дом 1</td>\n",
       "      <td>40</td>\n",
       "      <td>Абрамцевская улица</td>\n",
       "    </tr>\n",
       "    <tr>\n",
       "      <th>4</th>\n",
       "      <td>119365</td>\n",
       "      <td>Кафе «Вишневая метель»</td>\n",
       "      <td>нет</td>\n",
       "      <td>кафе</td>\n",
       "      <td>город Москва, Абрамцевская улица, дом 9, корпус 1</td>\n",
       "      <td>50</td>\n",
       "      <td>Абрамцевская улица</td>\n",
       "    </tr>\n",
       "    <tr>\n",
       "      <th>5</th>\n",
       "      <td>27429</td>\n",
       "      <td>СТОЛ. ПРИ ГОУ СОШ № 1051</td>\n",
       "      <td>нет</td>\n",
       "      <td>столовая</td>\n",
       "      <td>город Москва, Абрамцевская улица, дом 15, корп...</td>\n",
       "      <td>240</td>\n",
       "      <td>Абрамцевская улица</td>\n",
       "    </tr>\n",
       "    <tr>\n",
       "      <th>6</th>\n",
       "      <td>148815</td>\n",
       "      <td>Брусника</td>\n",
       "      <td>да</td>\n",
       "      <td>кафе</td>\n",
       "      <td>город Москва, переулок Сивцев Вражек, дом 6/2</td>\n",
       "      <td>10</td>\n",
       "      <td>переулок Сивцев Вражек</td>\n",
       "    </tr>\n",
       "    <tr>\n",
       "      <th>7</th>\n",
       "      <td>20957</td>\n",
       "      <td>Буфет МТУСИ</td>\n",
       "      <td>нет</td>\n",
       "      <td>столовая</td>\n",
       "      <td>город Москва, Авиамоторная улица, дом 8, строе...</td>\n",
       "      <td>90</td>\n",
       "      <td>Авиамоторная улица</td>\n",
       "    </tr>\n",
       "    <tr>\n",
       "      <th>8</th>\n",
       "      <td>20958</td>\n",
       "      <td>КПФ СЕМЬЯ-1</td>\n",
       "      <td>нет</td>\n",
       "      <td>столовая</td>\n",
       "      <td>город Москва, Авиамоторная улица, дом 8, строе...</td>\n",
       "      <td>150</td>\n",
       "      <td>Авиамоторная улица</td>\n",
       "    </tr>\n",
       "    <tr>\n",
       "      <th>9</th>\n",
       "      <td>28858</td>\n",
       "      <td>Столовая МТУСИ</td>\n",
       "      <td>нет</td>\n",
       "      <td>столовая</td>\n",
       "      <td>город Москва, Авиамоторная улица, дом 8, строе...</td>\n",
       "      <td>120</td>\n",
       "      <td>Авиамоторная улица</td>\n",
       "    </tr>\n",
       "  </tbody>\n",
       "</table>\n",
       "</div>"
      ],
      "text/plain": [
       "       id               object_name chain object_type  \\\n",
       "0  151635                   СМЕТАНА   нет        кафе   \n",
       "1   77874                    Родник   нет        кафе   \n",
       "2   24309           Кафе «Академия»   нет        кафе   \n",
       "3   21894                ПИЦЦЕТОРИЯ    да        кафе   \n",
       "4  119365    Кафе «Вишневая метель»   нет        кафе   \n",
       "5   27429  СТОЛ. ПРИ ГОУ СОШ № 1051   нет    столовая   \n",
       "6  148815                  Брусника    да        кафе   \n",
       "7   20957               Буфет МТУСИ   нет    столовая   \n",
       "8   20958               КПФ СЕМЬЯ-1   нет    столовая   \n",
       "9   28858            Столовая МТУСИ   нет    столовая   \n",
       "\n",
       "                                             address  number  \\\n",
       "0         город Москва, улица Егора Абакумова, дом 9      48   \n",
       "1  город Москва, улица Талалихина, дом 2/1, корпус 1      35   \n",
       "2          город Москва, Абельмановская улица, дом 6      95   \n",
       "3            город Москва, Абрамцевская улица, дом 1      40   \n",
       "4  город Москва, Абрамцевская улица, дом 9, корпус 1      50   \n",
       "5  город Москва, Абрамцевская улица, дом 15, корп...     240   \n",
       "6      город Москва, переулок Сивцев Вражек, дом 6/2      10   \n",
       "7  город Москва, Авиамоторная улица, дом 8, строе...      90   \n",
       "8  город Москва, Авиамоторная улица, дом 8, строе...     150   \n",
       "9  город Москва, Авиамоторная улица, дом 8, строе...     120   \n",
       "\n",
       "                   street  \n",
       "0   улица Егора Абакумова  \n",
       "1        улица Талалихина  \n",
       "2    Абельмановская улица  \n",
       "3      Абрамцевская улица  \n",
       "4      Абрамцевская улица  \n",
       "5      Абрамцевская улица  \n",
       "6  переулок Сивцев Вражек  \n",
       "7      Авиамоторная улица  \n",
       "8      Авиамоторная улица  \n",
       "9      Авиамоторная улица  "
      ]
     },
     "execution_count": 21,
     "metadata": {},
     "output_type": "execute_result"
    }
   ],
   "source": [
    "rest_data['street']= rest_data['address'].apply(add_street) #применим фунцию def add_street к таблице\n",
    "rest_data.head(10)"
   ]
  },
  {
   "cell_type": "markdown",
   "metadata": {},
   "source": [
    "#### Постройте график топ-10 улиц по количеству объектов общественного питания. Воспользуйтесь внешней информацией и ответьте на вопрос — в каких районах Москвы находятся эти улицы?"
   ]
  },
  {
   "cell_type": "markdown",
   "metadata": {},
   "source": [
    "Для определения к какому району относятся улицы с расположенными на них заведениями общественного питания, загрузим таблицу с сайта-портала города Москва."
   ]
  },
  {
   "cell_type": "code",
   "execution_count": 22,
   "metadata": {},
   "outputs": [
    {
     "data": {
      "text/html": [
       "<div>\n",
       "<style scoped>\n",
       "    .dataframe tbody tr th:only-of-type {\n",
       "        vertical-align: middle;\n",
       "    }\n",
       "\n",
       "    .dataframe tbody tr th {\n",
       "        vertical-align: top;\n",
       "    }\n",
       "\n",
       "    .dataframe thead th {\n",
       "        text-align: right;\n",
       "    }\n",
       "</style>\n",
       "<table border=\"1\" class=\"dataframe\">\n",
       "  <thead>\n",
       "    <tr style=\"text-align: right;\">\n",
       "      <th></th>\n",
       "      <th>ID</th>\n",
       "      <th>Name</th>\n",
       "      <th>global_id</th>\n",
       "      <th>IsNetObject</th>\n",
       "      <th>OperatingCompany</th>\n",
       "      <th>TypeObject</th>\n",
       "      <th>AdmArea</th>\n",
       "      <th>district</th>\n",
       "      <th>address</th>\n",
       "      <th>PublicPhone</th>\n",
       "      <th>...</th>\n",
       "      <th>AdmArea_en</th>\n",
       "      <th>District_en</th>\n",
       "      <th>Address_en</th>\n",
       "      <th>PublicPhone_en</th>\n",
       "      <th>SeatsCount_en</th>\n",
       "      <th>SocialPrivileges_en</th>\n",
       "      <th>Longitude_WGS84_en</th>\n",
       "      <th>Latitude_WGS84_en</th>\n",
       "      <th>geodata_center</th>\n",
       "      <th>geoarea</th>\n",
       "    </tr>\n",
       "  </thead>\n",
       "  <tbody>\n",
       "    <tr>\n",
       "      <th>0</th>\n",
       "      <td>Код</td>\n",
       "      <td>Наименование</td>\n",
       "      <td>global_id</td>\n",
       "      <td>Является сетевым</td>\n",
       "      <td>Название управляющей компании</td>\n",
       "      <td>Вид объекта</td>\n",
       "      <td>Административный округ по адресу</td>\n",
       "      <td>Район</td>\n",
       "      <td>Адрес</td>\n",
       "      <td>Контактный телефон</td>\n",
       "      <td>...</td>\n",
       "      <td>AdmArea_en</td>\n",
       "      <td>District_en</td>\n",
       "      <td>Address_en</td>\n",
       "      <td>PublicPhone_en</td>\n",
       "      <td>SeatsCount_en</td>\n",
       "      <td>SocialPrivileges_en</td>\n",
       "      <td>Longitude_WGS84_en</td>\n",
       "      <td>Latitude_WGS84_en</td>\n",
       "      <td>geodata_center</td>\n",
       "      <td>geoarea</td>\n",
       "    </tr>\n",
       "    <tr>\n",
       "      <th>1</th>\n",
       "      <td>00151635</td>\n",
       "      <td>СМЕТАНА</td>\n",
       "      <td>637376221</td>\n",
       "      <td>нет</td>\n",
       "      <td>NaN</td>\n",
       "      <td>кафе</td>\n",
       "      <td>Северо-Восточный административный округ</td>\n",
       "      <td>Ярославский район</td>\n",
       "      <td>город Москва, улица Егора Абакумова, дом 9</td>\n",
       "      <td>PublicPhone:(499) 183-14-10\\n\\n</td>\n",
       "      <td>...</td>\n",
       "      <td>NaN</td>\n",
       "      <td>NaN</td>\n",
       "      <td>NaN</td>\n",
       "      <td>NaN</td>\n",
       "      <td>NaN</td>\n",
       "      <td>NaN</td>\n",
       "      <td>NaN</td>\n",
       "      <td>NaN</td>\n",
       "      <td>{\"coordinates\":[37.714565000436,55.87900153130...</td>\n",
       "      <td>NaN</td>\n",
       "    </tr>\n",
       "    <tr>\n",
       "      <th>2</th>\n",
       "      <td>000077874</td>\n",
       "      <td>Родник</td>\n",
       "      <td>637376331</td>\n",
       "      <td>нет</td>\n",
       "      <td>NaN</td>\n",
       "      <td>кафе</td>\n",
       "      <td>Центральный административный округ</td>\n",
       "      <td>Таганский район</td>\n",
       "      <td>город Москва, улица Талалихина, дом 2/1, корпус 1</td>\n",
       "      <td>PublicPhone:(495) 676-55-35\\n\\n</td>\n",
       "      <td>...</td>\n",
       "      <td>NaN</td>\n",
       "      <td>NaN</td>\n",
       "      <td>NaN</td>\n",
       "      <td>NaN</td>\n",
       "      <td>NaN</td>\n",
       "      <td>NaN</td>\n",
       "      <td>NaN</td>\n",
       "      <td>NaN</td>\n",
       "      <td>{\"coordinates\":[37.6733061300344,55.7382386551...</td>\n",
       "      <td>NaN</td>\n",
       "    </tr>\n",
       "    <tr>\n",
       "      <th>3</th>\n",
       "      <td>000024309</td>\n",
       "      <td>Кафе «Академия»</td>\n",
       "      <td>637376349</td>\n",
       "      <td>нет</td>\n",
       "      <td>NaN</td>\n",
       "      <td>ресторан</td>\n",
       "      <td>Центральный административный округ</td>\n",
       "      <td>Таганский район</td>\n",
       "      <td>Российская Федерация, город Москва, внутригоро...</td>\n",
       "      <td>PublicPhone:(495) 662-30-10\\n\\n</td>\n",
       "      <td>...</td>\n",
       "      <td>NaN</td>\n",
       "      <td>NaN</td>\n",
       "      <td>NaN</td>\n",
       "      <td>NaN</td>\n",
       "      <td>NaN</td>\n",
       "      <td>NaN</td>\n",
       "      <td>NaN</td>\n",
       "      <td>NaN</td>\n",
       "      <td>NaN</td>\n",
       "      <td>NaN</td>\n",
       "    </tr>\n",
       "    <tr>\n",
       "      <th>4</th>\n",
       "      <td>000027429</td>\n",
       "      <td>ГБОУ «Школа № 1430 имени Героя Социалистическо...</td>\n",
       "      <td>637376480</td>\n",
       "      <td>нет</td>\n",
       "      <td>NaN</td>\n",
       "      <td>столовая</td>\n",
       "      <td>Северо-Восточный административный округ</td>\n",
       "      <td>район Лианозово</td>\n",
       "      <td>город Москва, Угличская улица, дом 17</td>\n",
       "      <td>PublicPhone:(499) 908-06-15\\n\\n</td>\n",
       "      <td>...</td>\n",
       "      <td>NaN</td>\n",
       "      <td>NaN</td>\n",
       "      <td>NaN</td>\n",
       "      <td>NaN</td>\n",
       "      <td>NaN</td>\n",
       "      <td>NaN</td>\n",
       "      <td>NaN</td>\n",
       "      <td>NaN</td>\n",
       "      <td>{\"coordinates\":[37.56694,55.9040188006692],\"ty...</td>\n",
       "      <td>NaN</td>\n",
       "    </tr>\n",
       "  </tbody>\n",
       "</table>\n",
       "<p>5 rows × 29 columns</p>\n",
       "</div>"
      ],
      "text/plain": [
       "          ID                                               Name  global_id  \\\n",
       "0        Код                                       Наименование  global_id   \n",
       "1   00151635                                            СМЕТАНА  637376221   \n",
       "2  000077874                                             Родник  637376331   \n",
       "3  000024309                                    Кафе «Академия»  637376349   \n",
       "4  000027429  ГБОУ «Школа № 1430 имени Героя Социалистическо...  637376480   \n",
       "\n",
       "        IsNetObject               OperatingCompany   TypeObject  \\\n",
       "0  Является сетевым  Название управляющей компании  Вид объекта   \n",
       "1               нет                            NaN         кафе   \n",
       "2               нет                            NaN         кафе   \n",
       "3               нет                            NaN     ресторан   \n",
       "4               нет                            NaN     столовая   \n",
       "\n",
       "                                   AdmArea           district  \\\n",
       "0         Административный округ по адресу              Район   \n",
       "1  Северо-Восточный административный округ  Ярославский район   \n",
       "2       Центральный административный округ    Таганский район   \n",
       "3       Центральный административный округ    Таганский район   \n",
       "4  Северо-Восточный административный округ    район Лианозово   \n",
       "\n",
       "                                             address  \\\n",
       "0                                              Адрес   \n",
       "1         город Москва, улица Егора Абакумова, дом 9   \n",
       "2  город Москва, улица Талалихина, дом 2/1, корпус 1   \n",
       "3  Российская Федерация, город Москва, внутригоро...   \n",
       "4              город Москва, Угличская улица, дом 17   \n",
       "\n",
       "                       PublicPhone  ...  AdmArea_en  District_en  Address_en  \\\n",
       "0               Контактный телефон  ...  AdmArea_en  District_en  Address_en   \n",
       "1  PublicPhone:(499) 183-14-10\\n\\n  ...         NaN          NaN         NaN   \n",
       "2  PublicPhone:(495) 676-55-35\\n\\n  ...         NaN          NaN         NaN   \n",
       "3  PublicPhone:(495) 662-30-10\\n\\n  ...         NaN          NaN         NaN   \n",
       "4  PublicPhone:(499) 908-06-15\\n\\n  ...         NaN          NaN         NaN   \n",
       "\n",
       "   PublicPhone_en  SeatsCount_en  SocialPrivileges_en  Longitude_WGS84_en  \\\n",
       "0  PublicPhone_en  SeatsCount_en  SocialPrivileges_en  Longitude_WGS84_en   \n",
       "1             NaN            NaN                  NaN                 NaN   \n",
       "2             NaN            NaN                  NaN                 NaN   \n",
       "3             NaN            NaN                  NaN                 NaN   \n",
       "4             NaN            NaN                  NaN                 NaN   \n",
       "\n",
       "   Latitude_WGS84_en                                     geodata_center  \\\n",
       "0  Latitude_WGS84_en                                     geodata_center   \n",
       "1                NaN  {\"coordinates\":[37.714565000436,55.87900153130...   \n",
       "2                NaN  {\"coordinates\":[37.6733061300344,55.7382386551...   \n",
       "3                NaN                                                NaN   \n",
       "4                NaN  {\"coordinates\":[37.56694,55.9040188006692],\"ty...   \n",
       "\n",
       "   geoarea  \n",
       "0  geoarea  \n",
       "1      NaN  \n",
       "2      NaN  \n",
       "3      NaN  \n",
       "4      NaN  \n",
       "\n",
       "[5 rows x 29 columns]"
      ]
     },
     "execution_count": 22,
     "metadata": {},
     "output_type": "execute_result"
    }
   ],
   "source": [
    "from io import BytesIO\n",
    "import requests\n",
    "spreadsheet_id = '2PACX-1vRssRwOlX5hGfXEdxVoE8JyKpEcyeeJiVnlKf_ldMGy3I6njQQ6Ib-u16LteeCLkK9K-fyqaZHDhsVc'\n",
    "file_name = 'https://docs.google.com/spreadsheets/d/e/{}/pub?gid=966861757&single=true&output=csv'.format(spreadsheet_id)\n",
    "r = requests.get(file_name)\n",
    "df = pd.read_csv(BytesIO(r.content))\n",
    "df.head()"
   ]
  },
  {
   "cell_type": "code",
   "execution_count": 23,
   "metadata": {},
   "outputs": [],
   "source": [
    "df_1=df.loc[:,['district','address']] # определим новую таблицу с нужными столбцами: адрес и район."
   ]
  },
  {
   "cell_type": "code",
   "execution_count": 24,
   "metadata": {},
   "outputs": [
    {
     "data": {
      "text/html": [
       "<div>\n",
       "<style scoped>\n",
       "    .dataframe tbody tr th:only-of-type {\n",
       "        vertical-align: middle;\n",
       "    }\n",
       "\n",
       "    .dataframe tbody tr th {\n",
       "        vertical-align: top;\n",
       "    }\n",
       "\n",
       "    .dataframe thead th {\n",
       "        text-align: right;\n",
       "    }\n",
       "</style>\n",
       "<table border=\"1\" class=\"dataframe\">\n",
       "  <thead>\n",
       "    <tr style=\"text-align: right;\">\n",
       "      <th></th>\n",
       "      <th>district</th>\n",
       "      <th>address</th>\n",
       "    </tr>\n",
       "  </thead>\n",
       "  <tbody>\n",
       "    <tr>\n",
       "      <th>0</th>\n",
       "      <td>Район</td>\n",
       "      <td>Адрес</td>\n",
       "    </tr>\n",
       "    <tr>\n",
       "      <th>1</th>\n",
       "      <td>Ярославский район</td>\n",
       "      <td>город Москва, улица Егора Абакумова, дом 9</td>\n",
       "    </tr>\n",
       "    <tr>\n",
       "      <th>2</th>\n",
       "      <td>Таганский район</td>\n",
       "      <td>город Москва, улица Талалихина, дом 2/1, корпус 1</td>\n",
       "    </tr>\n",
       "    <tr>\n",
       "      <th>3</th>\n",
       "      <td>Таганский район</td>\n",
       "      <td>Российская Федерация, город Москва, внутригоро...</td>\n",
       "    </tr>\n",
       "    <tr>\n",
       "      <th>4</th>\n",
       "      <td>район Лианозово</td>\n",
       "      <td>город Москва, Угличская улица, дом 17</td>\n",
       "    </tr>\n",
       "  </tbody>\n",
       "</table>\n",
       "</div>"
      ],
      "text/plain": [
       "            district                                            address\n",
       "0              Район                                              Адрес\n",
       "1  Ярославский район         город Москва, улица Егора Абакумова, дом 9\n",
       "2    Таганский район  город Москва, улица Талалихина, дом 2/1, корпус 1\n",
       "3    Таганский район  Российская Федерация, город Москва, внутригоро...\n",
       "4    район Лианозово              город Москва, Угличская улица, дом 17"
      ]
     },
     "execution_count": 24,
     "metadata": {},
     "output_type": "execute_result"
    }
   ],
   "source": [
    "df_1.head()"
   ]
  },
  {
   "cell_type": "code",
   "execution_count": 25,
   "metadata": {},
   "outputs": [],
   "source": [
    "data = rest_data.merge(df_1, on='address', how='inner') # объедимим таблицы по столбцу адрес"
   ]
  },
  {
   "cell_type": "code",
   "execution_count": 26,
   "metadata": {},
   "outputs": [
    {
     "data": {
      "text/html": [
       "<div>\n",
       "<style scoped>\n",
       "    .dataframe tbody tr th:only-of-type {\n",
       "        vertical-align: middle;\n",
       "    }\n",
       "\n",
       "    .dataframe tbody tr th {\n",
       "        vertical-align: top;\n",
       "    }\n",
       "\n",
       "    .dataframe thead th {\n",
       "        text-align: right;\n",
       "    }\n",
       "</style>\n",
       "<table border=\"1\" class=\"dataframe\">\n",
       "  <thead>\n",
       "    <tr style=\"text-align: right;\">\n",
       "      <th></th>\n",
       "      <th>id</th>\n",
       "      <th>object_name</th>\n",
       "      <th>chain</th>\n",
       "      <th>object_type</th>\n",
       "      <th>address</th>\n",
       "      <th>number</th>\n",
       "      <th>street</th>\n",
       "      <th>district</th>\n",
       "    </tr>\n",
       "  </thead>\n",
       "  <tbody>\n",
       "    <tr>\n",
       "      <th>0</th>\n",
       "      <td>151635</td>\n",
       "      <td>СМЕТАНА</td>\n",
       "      <td>нет</td>\n",
       "      <td>кафе</td>\n",
       "      <td>город Москва, улица Егора Абакумова, дом 9</td>\n",
       "      <td>48</td>\n",
       "      <td>улица Егора Абакумова</td>\n",
       "      <td>Ярославский район</td>\n",
       "    </tr>\n",
       "    <tr>\n",
       "      <th>1</th>\n",
       "      <td>77874</td>\n",
       "      <td>Родник</td>\n",
       "      <td>нет</td>\n",
       "      <td>кафе</td>\n",
       "      <td>город Москва, улица Талалихина, дом 2/1, корпус 1</td>\n",
       "      <td>35</td>\n",
       "      <td>улица Талалихина</td>\n",
       "      <td>Таганский район</td>\n",
       "    </tr>\n",
       "    <tr>\n",
       "      <th>2</th>\n",
       "      <td>21894</td>\n",
       "      <td>ПИЦЦЕТОРИЯ</td>\n",
       "      <td>да</td>\n",
       "      <td>кафе</td>\n",
       "      <td>город Москва, Абрамцевская улица, дом 1</td>\n",
       "      <td>40</td>\n",
       "      <td>Абрамцевская улица</td>\n",
       "      <td>район Лианозово</td>\n",
       "    </tr>\n",
       "    <tr>\n",
       "      <th>3</th>\n",
       "      <td>21894</td>\n",
       "      <td>ПИЦЦЕТОРИЯ</td>\n",
       "      <td>да</td>\n",
       "      <td>кафе</td>\n",
       "      <td>город Москва, Абрамцевская улица, дом 1</td>\n",
       "      <td>40</td>\n",
       "      <td>Абрамцевская улица</td>\n",
       "      <td>район Лианозово</td>\n",
       "    </tr>\n",
       "    <tr>\n",
       "      <th>4</th>\n",
       "      <td>119365</td>\n",
       "      <td>Кафе «Вишневая метель»</td>\n",
       "      <td>нет</td>\n",
       "      <td>кафе</td>\n",
       "      <td>город Москва, Абрамцевская улица, дом 9, корпус 1</td>\n",
       "      <td>50</td>\n",
       "      <td>Абрамцевская улица</td>\n",
       "      <td>район Лианозово</td>\n",
       "    </tr>\n",
       "  </tbody>\n",
       "</table>\n",
       "</div>"
      ],
      "text/plain": [
       "       id             object_name chain object_type  \\\n",
       "0  151635                 СМЕТАНА   нет        кафе   \n",
       "1   77874                  Родник   нет        кафе   \n",
       "2   21894              ПИЦЦЕТОРИЯ    да        кафе   \n",
       "3   21894              ПИЦЦЕТОРИЯ    да        кафе   \n",
       "4  119365  Кафе «Вишневая метель»   нет        кафе   \n",
       "\n",
       "                                             address  number  \\\n",
       "0         город Москва, улица Егора Абакумова, дом 9      48   \n",
       "1  город Москва, улица Талалихина, дом 2/1, корпус 1      35   \n",
       "2            город Москва, Абрамцевская улица, дом 1      40   \n",
       "3            город Москва, Абрамцевская улица, дом 1      40   \n",
       "4  город Москва, Абрамцевская улица, дом 9, корпус 1      50   \n",
       "\n",
       "                  street           district  \n",
       "0  улица Егора Абакумова  Ярославский район  \n",
       "1       улица Талалихина    Таганский район  \n",
       "2     Абрамцевская улица    район Лианозово  \n",
       "3     Абрамцевская улица    район Лианозово  \n",
       "4     Абрамцевская улица    район Лианозово  "
      ]
     },
     "execution_count": 26,
     "metadata": {},
     "output_type": "execute_result"
    }
   ],
   "source": [
    "data.head() # таблица с добавленными районами "
   ]
  },
  {
   "cell_type": "code",
   "execution_count": 27,
   "metadata": {},
   "outputs": [],
   "source": [
    "data = data.drop_duplicates() # удалим дубликаты"
   ]
  },
  {
   "cell_type": "code",
   "execution_count": 28,
   "metadata": {},
   "outputs": [
    {
     "name": "stdout",
     "output_type": "stream",
     "text": [
      "<class 'pandas.core.frame.DataFrame'>\n",
      "Int64Index: 12225 entries, 0 to 79093\n",
      "Data columns (total 8 columns):\n",
      " #   Column       Non-Null Count  Dtype \n",
      "---  ------       --------------  ----- \n",
      " 0   id           12225 non-null  int64 \n",
      " 1   object_name  12225 non-null  object\n",
      " 2   chain        12225 non-null  object\n",
      " 3   object_type  12225 non-null  object\n",
      " 4   address      12225 non-null  object\n",
      " 5   number       12225 non-null  int64 \n",
      " 6   street       12225 non-null  object\n",
      " 7   district     12225 non-null  object\n",
      "dtypes: int64(2), object(6)\n",
      "memory usage: 859.6+ KB\n"
     ]
    }
   ],
   "source": [
    "data.info() #запрос информации о новой таблице"
   ]
  },
  {
   "cell_type": "markdown",
   "metadata": {},
   "source": [
    "Выделим топ-10 улиц по количеству заведений."
   ]
  },
  {
   "cell_type": "code",
   "execution_count": 29,
   "metadata": {},
   "outputs": [],
   "source": [
    "top10_street= rest_data.groupby('street')['id'].count().sort_values(ascending = False).head(12)\n"
   ]
  },
  {
   "cell_type": "code",
   "execution_count": 30,
   "metadata": {},
   "outputs": [
    {
     "data": {
      "text/plain": [
       "street\n",
       "город Зеленоград          232\n",
       "проспект Мира             204\n",
       "Профсоюзная улица         181\n",
       "Ленинградский проспект    170\n",
       "Пресненская набережная    167\n",
       "Варшавское шоссе          161\n",
       "Ленинский проспект        147\n",
       "поселение Сосенское       137\n",
       "проспект Вернадского      128\n",
       "Кутузовский проспект      114\n",
       "Каширское шоссе           111\n",
       "Кировоградская улица      108\n",
       "Name: id, dtype: int64"
      ]
     },
     "execution_count": 30,
     "metadata": {},
     "output_type": "execute_result"
    }
   ],
   "source": [
    "top10_street # список улиц с наибольшим количеством заведений питания"
   ]
  },
  {
   "cell_type": "markdown",
   "metadata": {},
   "source": [
    "Удалим из списка город Зеленоград и поселение Сосенское"
   ]
  },
  {
   "cell_type": "code",
   "execution_count": 31,
   "metadata": {},
   "outputs": [],
   "source": [
    "top10_street = top10_street.drop(top10_street.index[0])\n",
    "top10_street = top10_street.drop(top10_street.index[6])"
   ]
  },
  {
   "cell_type": "code",
   "execution_count": 32,
   "metadata": {},
   "outputs": [
    {
     "data": {
      "text/plain": [
       "street\n",
       "проспект Мира             204\n",
       "Профсоюзная улица         181\n",
       "Ленинградский проспект    170\n",
       "Пресненская набережная    167\n",
       "Варшавское шоссе          161\n",
       "Ленинский проспект        147\n",
       "проспект Вернадского      128\n",
       "Кутузовский проспект      114\n",
       "Каширское шоссе           111\n",
       "Кировоградская улица      108\n",
       "Name: id, dtype: int64"
      ]
     },
     "execution_count": 32,
     "metadata": {},
     "output_type": "execute_result"
    }
   ],
   "source": [
    "top10_street # топ-10 улиц с наибольшим количеством заведений питания"
   ]
  },
  {
   "cell_type": "code",
   "execution_count": 33,
   "metadata": {},
   "outputs": [
    {
     "data": {
      "image/png": "[encoded data removed]",
      "text/plain": [
       "<Figure size 432x288 with 1 Axes>"
      ]
     },
     "metadata": {
      "needs_background": "light"
     },
     "output_type": "display_data"
    }
   ],
   "source": [
    "top10_street.plot(kind='bar', xlabel = 'Улица') # график распределения количества объектов питания по улицам\n",
    "plt.title(\"Топ 10 улиц по количеству объектов питания\")\n",
    "plt.show()"
   ]
  },
  {
   "cell_type": "markdown",
   "metadata": {},
   "source": [
    "Создадим отдельный список с улицами, на которых больше всего заведений питания"
   ]
  },
  {
   "cell_type": "code",
   "execution_count": 34,
   "metadata": {},
   "outputs": [
    {
     "name": "stdout",
     "output_type": "stream",
     "text": [
      "проспект Мира . Районы, в которые входит эта улица: ['Мещанский район' 'Останкинский район' 'Алексеевский район'\n",
      " 'район Свиблово' 'район Ростокино']\n",
      "Профсоюзная улица . Районы, в которые входит эта улица: ['Академический район' 'район Черёмушки' 'район Тёплый Стан'\n",
      " 'район Коньково' 'Обручевский район' 'район Ясенево']\n",
      "Ленинградский проспект . Районы, в которые входит эта улица: ['район Беговой' 'район Аэропорт' 'район Сокол' 'Хорошёвский район']\n",
      "Пресненская набережная . Районы, в которые входит эта улица: ['Пресненский район']\n",
      "Варшавское шоссе . Районы, в которые входит эта улица: ['Донской район' 'Нагорный район' 'район Чертаново Южное'\n",
      " 'район Чертаново Центральное' 'район Чертаново Северное'\n",
      " 'район Нагатино-Садовники' 'район Южное Бутово']\n",
      "Ленинский проспект . Районы, в которые входит эта улица: ['район Якиманка' 'Донской район' 'Гагаринский район'\n",
      " 'Ломоносовский район' 'Обручевский район' 'район Тропарёво-Никулино'\n",
      " 'район Тёплый Стан' 'район Проспект Вернадского']\n",
      "проспект Вернадского . Районы, в которые входит эта улица: ['Ломоносовский район' 'район Тропарёво-Никулино'\n",
      " 'район Проспект Вернадского' 'поселение Вороновское' 'район Раменки']\n",
      "Кутузовский проспект . Районы, в которые входит эта улица: ['район Дорогомилово' 'район Фили-Давыдково' 'поселение Краснопахорское']\n",
      "Каширское шоссе . Районы, в которые входит эта улица: ['район Москворечье-Сабурово' 'район Орехово-Борисово Северное'\n",
      " 'район Нагатино-Садовники' 'район Орехово-Борисово Южное']\n",
      "Кировоградская улица . Районы, в которые входит эта улица: ['район Чертаново Центральное' 'район Чертаново Южное'\n",
      " 'район Чертаново Северное']\n"
     ]
    }
   ],
   "source": [
    "list_street= ['проспект Мира',\n",
    "              'Профсоюзная улица',\n",
    "              'Ленинградский проспект',\n",
    "              'Пресненская набережная',\n",
    "              'Варшавское шоссе',\n",
    "              'Ленинский проспект',\n",
    "              'проспект Вернадского',\n",
    "              'Кутузовский проспект',\n",
    "              'Каширское шоссе',\n",
    "              'Кировоградская улица']     \n",
    " \n",
    "# с помощью цикла определим к каким район относятся улицы топ-10\n",
    "for i in list_street:\n",
    "    print(i, '. Районы, в которые входит эта улица:', \n",
    "          data.query(f'street == \"{i}\"')['district'].unique())\n",
    "    \n"
   ]
  },
  {
   "cell_type": "code",
   "execution_count": 35,
   "metadata": {},
   "outputs": [
    {
     "data": {
      "text/plain": [
       "array([204, 181, 170, 167, 161, 147, 128, 114, 111, 108])"
      ]
     },
     "execution_count": 35,
     "metadata": {},
     "output_type": "execute_result"
    }
   ],
   "source": [
    "top10_street.values"
   ]
  },
  {
   "cell_type": "markdown",
   "metadata": {},
   "source": [
    "#### Найдите число улиц с одним объектом общественного питания. Воспользуйтесь внешней информацией и ответьте на вопрос — в каких районах Москвы находятся эти улицы?"
   ]
  },
  {
   "cell_type": "code",
   "execution_count": 36,
   "metadata": {},
   "outputs": [
    {
     "data": {
      "text/html": [
       "<div>\n",
       "<style scoped>\n",
       "    .dataframe tbody tr th:only-of-type {\n",
       "        vertical-align: middle;\n",
       "    }\n",
       "\n",
       "    .dataframe tbody tr th {\n",
       "        vertical-align: top;\n",
       "    }\n",
       "\n",
       "    .dataframe thead th {\n",
       "        text-align: right;\n",
       "    }\n",
       "</style>\n",
       "<table border=\"1\" class=\"dataframe\">\n",
       "  <thead>\n",
       "    <tr style=\"text-align: right;\">\n",
       "      <th></th>\n",
       "      <th>id</th>\n",
       "    </tr>\n",
       "    <tr>\n",
       "      <th>street</th>\n",
       "      <th></th>\n",
       "    </tr>\n",
       "  </thead>\n",
       "  <tbody>\n",
       "    <tr>\n",
       "      <th>Попутная улица</th>\n",
       "      <td>1</td>\n",
       "    </tr>\n",
       "    <tr>\n",
       "      <th>Турчанинов переулок</th>\n",
       "      <td>1</td>\n",
       "    </tr>\n",
       "    <tr>\n",
       "      <th>Угличская улица</th>\n",
       "      <td>1</td>\n",
       "    </tr>\n",
       "    <tr>\n",
       "      <th>Уланский переулок</th>\n",
       "      <td>1</td>\n",
       "    </tr>\n",
       "    <tr>\n",
       "      <th>Уржумская улица</th>\n",
       "      <td>1</td>\n",
       "    </tr>\n",
       "    <tr>\n",
       "      <th>...</th>\n",
       "      <td>...</td>\n",
       "    </tr>\n",
       "    <tr>\n",
       "      <th>Кутузовский проспект</th>\n",
       "      <td>145</td>\n",
       "    </tr>\n",
       "    <tr>\n",
       "      <th>Профсоюзная улица</th>\n",
       "      <td>158</td>\n",
       "    </tr>\n",
       "    <tr>\n",
       "      <th>Пресненская набережная</th>\n",
       "      <td>167</td>\n",
       "    </tr>\n",
       "    <tr>\n",
       "      <th>проспект Мира</th>\n",
       "      <td>174</td>\n",
       "    </tr>\n",
       "    <tr>\n",
       "      <th>город Зеленоград</th>\n",
       "      <td>179</td>\n",
       "    </tr>\n",
       "  </tbody>\n",
       "</table>\n",
       "<p>1612 rows × 1 columns</p>\n",
       "</div>"
      ],
      "text/plain": [
       "                         id\n",
       "street                     \n",
       "Попутная улица            1\n",
       "Турчанинов переулок       1\n",
       "Угличская улица           1\n",
       "Уланский переулок         1\n",
       "Уржумская улица           1\n",
       "...                     ...\n",
       "Кутузовский проспект    145\n",
       "Профсоюзная улица       158\n",
       "Пресненская набережная  167\n",
       "проспект Мира           174\n",
       "город Зеленоград        179\n",
       "\n",
       "[1612 rows x 1 columns]"
      ]
     },
     "execution_count": 36,
     "metadata": {},
     "output_type": "execute_result"
    }
   ],
   "source": [
    "one_object=data.pivot_table(index = 'street', values = 'id', aggfunc='count').sort_values(by='id') # данные по количеству объектов питания с рапределением по улицам  \n",
    "one_object"
   ]
  },
  {
   "cell_type": "code",
   "execution_count": 37,
   "metadata": {},
   "outputs": [
    {
     "name": "stdout",
     "output_type": "stream",
     "text": [
      "Число улиц с одним объектом общественного питания 510\n"
     ]
    }
   ],
   "source": [
    "print('Число улиц с одним объектом общественного питания',one_object.query('id==1')['id'].count())"
   ]
  },
  {
   "cell_type": "code",
   "execution_count": 38,
   "metadata": {},
   "outputs": [
    {
     "data": {
      "text/plain": [
       "Index(['Попутная улица', 'Турчанинов переулок', 'Угличская улица',\n",
       "       'Уланский переулок', 'Уржумская улица', 'Утренняя улица',\n",
       "       'Федоскинская улица', 'Феодосийская улица', 'Доброслободская улица',\n",
       "       'Филипповский переулок',\n",
       "       ...\n",
       "       'Берниковская набережная', 'улица Дубки', 'улица Дениса Давыдова',\n",
       "       'улица Демьяна Бедного', 'улица Говорова', 'улица Девятая Рота',\n",
       "       'улица Госпитальный Вал', '1-я Боевская улица', 'Библиотечная улица',\n",
       "       'улица Достоевского'],\n",
       "      dtype='object', name='street', length=510)"
      ]
     },
     "execution_count": 38,
     "metadata": {},
     "output_type": "execute_result"
    }
   ],
   "source": [
    "one_list =one_object.query('id==1').index # список улиц с одним объектом общественного питания \n",
    "one_list "
   ]
  },
  {
   "cell_type": "code",
   "execution_count": null,
   "metadata": {},
   "outputs": [],
   "source": [
    "one_area = []\n",
    "for i in one_list:\n",
    "    \n",
    "    area = data[data['street'] == i]['district'].unique()\n",
    "    if area not in one_area:\n",
    "        one_area.append(area)\n",
    "\n",
    "uniq_one = []\n",
    "for row in one_area:\n",
    "    for elem in row:\n",
    "        if elem not in uniq_one:\n",
    "            uniq_one.append(elem)\n",
    "print('Список районов г. Москвы, к которым относятся улицы с одним объектом общественного питания :', uniq_one)            \n",
    "        \n",
    "      "
   ]
  },
  {
   "cell_type": "markdown",
   "metadata": {},
   "source": [
    "#### Посмотрите на распределение количества посадочных мест для улиц с большим количеством объектов общественного питания. Какие закономерности можно выявить?"
   ]
  },
  {
   "cell_type": "code",
   "execution_count": null,
   "metadata": {},
   "outputs": [],
   "source": [
    "number_top = data.query('street == @list_street') # данные по улицам топ-10\n",
    "number_top"
   ]
  },
  {
   "cell_type": "code",
   "execution_count": 47,
   "metadata": {},
   "outputs": [
    {
     "name": "stderr",
     "output_type": "stream",
     "text": [
      "*c* argument looks like a single numeric RGB or RGBA sequence, which should be avoided as value-mapping will have precedence in case its length matches with *x* & *y*.  Please use the *color* keyword-argument or provide a 2-D array with a single row if you intend to specify the same RGB or RGBA value for all points.\n"
     ]
    },
    {
     "data": {
      "image/png": "[encoded data removed]",
      "text/plain": [
       "<Figure size 432x288 with 1 Axes>"
      ]
     },
     "metadata": {
      "needs_background": "light"
     },
     "output_type": "display_data"
    }
   ],
   "source": [
    "number_top.plot(kind='scatter', x='id', y = 'number') \n",
    "plt.title(\"Распределение посадочных мест в объектах общественного питания, расположенных на улицах ТОП-10\")\n",
    "plt.ylabel(\"Количество мест\")\n",
    "plt.xlabel(\"Номер id\")\n",
    "plt.show()           # вывод диаграммы рассеяния с количествами посадочных мест в заведениях с улиц топ-10\n"
   ]
  },
  {
   "cell_type": "markdown",
   "metadata": {},
   "source": [
    "Исходя из диаграммы рассеяния, большинство объектов общественного питания имеют около 250 посадочных мест. Для построения графиков распределения сделаем срез, ограничим количество посадочных мест до 250."
   ]
  },
  {
   "cell_type": "code",
   "execution_count": null,
   "metadata": {},
   "outputs": [],
   "source": [
    "number_250=number_top[number_top['number'] < 250] # срез по количеству посадочных мест\n",
    "\n",
    "number_250.boxplot(column='number', by='street', color='blue') # графики распределения \n",
    "plt.title(\"Распределение посадочных мест в заведения на улицах топ-10\")\n",
    "plt.xlabel(\"Улица топ-10\")\n",
    "plt.ylabel(\"Количество посадочных мест\")\n",
    "plt.xticks(rotation=90)\n",
    "plt.show()\n",
    "\n"
   ]
  },
  {
   "cell_type": "markdown",
   "metadata": {},
   "source": [
    "Исходя из графиков распределения можно сделать вывод, что большинство заведений на улицах с большим количеством мест общественного питания имеют в среднем до 50 посадочных мест."
   ]
  },
  {
   "cell_type": "markdown",
   "metadata": {},
   "source": [
    "### Общий вывод и рекомендации."
   ]
  },
  {
   "cell_type": "markdown",
   "metadata": {},
   "source": [
    "На данный момент рынок общественного питания представлен в основном кафе, столовыми, предприятиями быстрого обслуживания и ресторанами. На центральных улицах города большая конкуренция, так как на них высокая концентрация объектов питания. Среднее количество посадочных мест в данных заведениях не более 50. Сетевых заведений существенно меньше, чем несетевых.\n",
    "\n",
    "Рекомендации для кафе с роботами:\n",
    "\n",
    "1. Возможно стоит пересмотреть тип заведения и открыть предприятие быстрого обслуживания, так как в данном типе конкуренция меньше, чем среди кафе.\n",
    "\n",
    "2. Небольшое количество посадочных мест от 20 до 50, позволит разместить всех желающих при открытии, и при этом не потерять на аренде помещения в последующем, когда количество посетителей уменьшится, в связи со снижением ажиотажа.\n",
    "\n",
    "3. Арендовать помещение на улицах с малым количеством заведений общественного питания.\n",
    "\n",
    "4. В перспективе развития: сеть предприятий быстрого обслуживания с размещением на улицах с малым количеством объектов общественного питания."
   ]
  },
  {
   "cell_type": "markdown",
   "metadata": {},
   "source": [
    "### Презентация"
   ]
  },
  {
   "cell_type": "markdown",
   "metadata": {},
   "source": [
    "Презентация : <https://drive.google.com/file/d/1AVp4JJDerm5fScVDiUfuc4_B3h5NBODV/view?usp=sharing>"
   ]
  },
  {
   "cell_type": "code",
   "execution_count": null,
   "metadata": {},
   "outputs": [],
   "source": []
  }
 ],
 "metadata": {
  "ExecuteTimeLog": [
   {
    "duration": 47,
    "start_time": "2022-05-08T07:01:52.735Z"
   },
   {
    "duration": 364,
    "start_time": "2022-05-08T07:01:56.159Z"
   },
   {
    "duration": 67,
    "start_time": "2022-05-08T07:01:56.592Z"
   },
   {
    "duration": 53,
    "start_time": "2022-05-08T15:56:33.521Z"
   },
   {
    "duration": 60,
    "start_time": "2022-05-08T15:57:48.289Z"
   },
   {
    "duration": 53,
    "start_time": "2022-05-08T15:58:44.979Z"
   },
   {
    "duration": 21,
    "start_time": "2022-05-08T15:59:41.742Z"
   },
   {
    "duration": 11,
    "start_time": "2022-05-08T16:06:44.250Z"
   },
   {
    "duration": 16,
    "start_time": "2022-05-08T16:08:13.924Z"
   },
   {
    "duration": 12,
    "start_time": "2022-05-08T16:11:39.473Z"
   },
   {
    "duration": 53,
    "start_time": "2022-05-08T16:12:56.317Z"
   },
   {
    "duration": 8,
    "start_time": "2022-05-08T16:12:57.106Z"
   },
   {
    "duration": 13,
    "start_time": "2022-05-08T16:12:57.602Z"
   },
   {
    "duration": 18,
    "start_time": "2022-05-08T16:13:01.824Z"
   },
   {
    "duration": 12,
    "start_time": "2022-05-08T16:14:00.888Z"
   },
   {
    "duration": 4,
    "start_time": "2022-05-08T16:26:21.375Z"
   },
   {
    "duration": 6,
    "start_time": "2022-05-08T16:27:24.786Z"
   },
   {
    "duration": 20,
    "start_time": "2022-05-08T16:31:12.019Z"
   },
   {
    "duration": 147,
    "start_time": "2022-05-08T16:32:04.160Z"
   },
   {
    "duration": 9,
    "start_time": "2022-05-08T16:32:10.950Z"
   },
   {
    "duration": 32,
    "start_time": "2022-05-08T16:32:33.975Z"
   },
   {
    "duration": 8,
    "start_time": "2022-05-08T16:32:38.969Z"
   },
   {
    "duration": 758,
    "start_time": "2022-05-08T16:35:46.877Z"
   },
   {
    "duration": 182,
    "start_time": "2022-05-08T16:36:08.750Z"
   },
   {
    "duration": 140,
    "start_time": "2022-05-08T16:36:27.962Z"
   },
   {
    "duration": 121,
    "start_time": "2022-05-08T16:36:36.362Z"
   },
   {
    "duration": 180,
    "start_time": "2022-05-08T16:36:54.591Z"
   },
   {
    "duration": 121,
    "start_time": "2022-05-08T16:36:59.506Z"
   },
   {
    "duration": 111,
    "start_time": "2022-05-08T16:37:27.373Z"
   },
   {
    "duration": 135,
    "start_time": "2022-05-08T16:40:06.103Z"
   },
   {
    "duration": 3,
    "start_time": "2022-05-08T16:41:35.822Z"
   },
   {
    "duration": 78,
    "start_time": "2022-05-08T16:41:36.412Z"
   },
   {
    "duration": 11,
    "start_time": "2022-05-08T16:41:37.056Z"
   },
   {
    "duration": 23,
    "start_time": "2022-05-08T16:41:37.330Z"
   },
   {
    "duration": 47,
    "start_time": "2022-05-08T16:41:37.522Z"
   },
   {
    "duration": 13,
    "start_time": "2022-05-08T16:41:37.702Z"
   },
   {
    "duration": 5,
    "start_time": "2022-05-08T16:41:38.978Z"
   },
   {
    "duration": 164,
    "start_time": "2022-05-08T16:41:39.870Z"
   },
   {
    "duration": 119,
    "start_time": "2022-05-08T16:41:54.032Z"
   },
   {
    "duration": 11,
    "start_time": "2022-05-08T16:45:44.657Z"
   },
   {
    "duration": 119,
    "start_time": "2022-05-08T16:45:52.663Z"
   },
   {
    "duration": 117,
    "start_time": "2022-05-08T16:45:55.704Z"
   },
   {
    "duration": 120,
    "start_time": "2022-05-08T16:46:05.782Z"
   },
   {
    "duration": 105,
    "start_time": "2022-05-08T16:46:25.606Z"
   },
   {
    "duration": 124,
    "start_time": "2022-05-08T16:47:37.285Z"
   },
   {
    "duration": 201,
    "start_time": "2022-05-08T16:49:22.957Z"
   },
   {
    "duration": 3,
    "start_time": "2022-05-08T16:50:37.198Z"
   },
   {
    "duration": 52,
    "start_time": "2022-05-08T16:50:38.248Z"
   },
   {
    "duration": 17,
    "start_time": "2022-05-08T16:50:38.927Z"
   },
   {
    "duration": 20,
    "start_time": "2022-05-08T16:50:39.145Z"
   },
   {
    "duration": 24,
    "start_time": "2022-05-08T16:50:39.368Z"
   },
   {
    "duration": 13,
    "start_time": "2022-05-08T16:50:39.603Z"
   },
   {
    "duration": 10,
    "start_time": "2022-05-08T16:50:41.447Z"
   },
   {
    "duration": 159,
    "start_time": "2022-05-08T16:50:42.142Z"
   },
   {
    "duration": 162,
    "start_time": "2022-05-08T16:51:06.013Z"
   },
   {
    "duration": 169,
    "start_time": "2022-05-08T16:51:40.285Z"
   },
   {
    "duration": 425,
    "start_time": "2022-05-08T16:53:58.176Z"
   },
   {
    "duration": 61,
    "start_time": "2022-05-08T16:53:58.966Z"
   },
   {
    "duration": 8,
    "start_time": "2022-05-08T16:53:59.399Z"
   },
   {
    "duration": 12,
    "start_time": "2022-05-08T16:53:59.596Z"
   },
   {
    "duration": 26,
    "start_time": "2022-05-08T16:53:59.770Z"
   },
   {
    "duration": 16,
    "start_time": "2022-05-08T16:53:59.941Z"
   },
   {
    "duration": 4,
    "start_time": "2022-05-08T16:54:00.910Z"
   },
   {
    "duration": 269,
    "start_time": "2022-05-08T16:54:01.242Z"
   },
   {
    "duration": 181,
    "start_time": "2022-05-08T16:54:45.701Z"
   },
   {
    "duration": 185,
    "start_time": "2022-05-08T16:54:54.906Z"
   },
   {
    "duration": 178,
    "start_time": "2022-05-08T16:55:50.639Z"
   },
   {
    "duration": 162,
    "start_time": "2022-05-08T16:57:17.084Z"
   },
   {
    "duration": 336,
    "start_time": "2022-05-08T16:57:56.007Z"
   },
   {
    "duration": 276,
    "start_time": "2022-05-08T17:00:36.749Z"
   },
   {
    "duration": 218,
    "start_time": "2022-05-08T17:01:34.715Z"
   },
   {
    "duration": 219,
    "start_time": "2022-05-08T17:01:39.924Z"
   },
   {
    "duration": 343,
    "start_time": "2022-05-08T17:01:44.509Z"
   },
   {
    "duration": 300,
    "start_time": "2022-05-08T17:02:05.401Z"
   },
   {
    "duration": 452,
    "start_time": "2022-05-08T17:05:15.850Z"
   },
   {
    "duration": 406,
    "start_time": "2022-05-08T17:05:29.954Z"
   },
   {
    "duration": 340,
    "start_time": "2022-05-08T17:05:48.554Z"
   },
   {
    "duration": 291,
    "start_time": "2022-05-08T17:11:21.012Z"
   },
   {
    "duration": 340,
    "start_time": "2022-05-08T17:11:34.479Z"
   },
   {
    "duration": 283,
    "start_time": "2022-05-08T17:11:57.154Z"
   },
   {
    "duration": 1235,
    "start_time": "2022-05-08T18:05:53.463Z"
   },
   {
    "duration": 74,
    "start_time": "2022-05-08T18:05:54.700Z"
   },
   {
    "duration": 9,
    "start_time": "2022-05-08T18:05:54.775Z"
   },
   {
    "duration": 13,
    "start_time": "2022-05-08T18:05:54.787Z"
   },
   {
    "duration": 57,
    "start_time": "2022-05-08T18:05:54.802Z"
   },
   {
    "duration": 12,
    "start_time": "2022-05-08T18:05:54.861Z"
   },
   {
    "duration": 10,
    "start_time": "2022-05-08T18:05:54.875Z"
   },
   {
    "duration": 327,
    "start_time": "2022-05-08T18:05:54.887Z"
   },
   {
    "duration": 127,
    "start_time": "2022-05-08T18:05:55.216Z"
   },
   {
    "duration": 14,
    "start_time": "2022-05-08T18:06:41.312Z"
   },
   {
    "duration": 97,
    "start_time": "2022-05-08T18:06:50.884Z"
   },
   {
    "duration": 83,
    "start_time": "2022-05-09T14:23:58.832Z"
   },
   {
    "duration": 179,
    "start_time": "2022-05-09T14:33:23.061Z"
   },
   {
    "duration": 248,
    "start_time": "2022-05-09T14:39:06.884Z"
   },
   {
    "duration": 216,
    "start_time": "2022-05-09T14:39:35.293Z"
   },
   {
    "duration": 350,
    "start_time": "2022-05-09T14:39:44.900Z"
   },
   {
    "duration": 187,
    "start_time": "2022-05-09T14:40:28.553Z"
   },
   {
    "duration": 397,
    "start_time": "2022-05-09T14:40:37.065Z"
   },
   {
    "duration": 337,
    "start_time": "2022-05-09T14:43:39.551Z"
   },
   {
    "duration": 224,
    "start_time": "2022-05-09T14:43:45.084Z"
   },
   {
    "duration": 247,
    "start_time": "2022-05-09T14:43:57.569Z"
   },
   {
    "duration": 149,
    "start_time": "2022-05-09T15:06:07.341Z"
   },
   {
    "duration": 7,
    "start_time": "2022-05-09T15:11:28.610Z"
   },
   {
    "duration": 8,
    "start_time": "2022-05-09T15:12:29.618Z"
   },
   {
    "duration": 10,
    "start_time": "2022-05-09T15:13:50.206Z"
   },
   {
    "duration": 10,
    "start_time": "2022-05-09T15:14:05.483Z"
   },
   {
    "duration": 293,
    "start_time": "2022-05-09T15:15:05.037Z"
   },
   {
    "duration": 12,
    "start_time": "2022-05-09T16:09:00.206Z"
   },
   {
    "duration": 10,
    "start_time": "2022-05-09T16:09:54.418Z"
   },
   {
    "duration": 12,
    "start_time": "2022-05-09T16:10:04.327Z"
   },
   {
    "duration": 133,
    "start_time": "2022-05-09T16:10:52.303Z"
   },
   {
    "duration": 131,
    "start_time": "2022-05-09T16:11:16.099Z"
   },
   {
    "duration": 143,
    "start_time": "2022-05-09T16:11:25.541Z"
   },
   {
    "duration": 131,
    "start_time": "2022-05-09T16:16:57.532Z"
   },
   {
    "duration": 165,
    "start_time": "2022-05-09T16:18:20.460Z"
   },
   {
    "duration": 286,
    "start_time": "2022-05-09T16:30:57.841Z"
   },
   {
    "duration": 10,
    "start_time": "2022-05-09T16:40:36.710Z"
   },
   {
    "duration": 242,
    "start_time": "2022-05-09T16:41:03.920Z"
   },
   {
    "duration": 8,
    "start_time": "2022-05-09T16:54:22.295Z"
   },
   {
    "duration": 10,
    "start_time": "2022-05-09T17:04:04.240Z"
   },
   {
    "duration": 117,
    "start_time": "2022-05-09T17:09:10.580Z"
   },
   {
    "duration": 135,
    "start_time": "2022-05-09T17:10:00.969Z"
   },
   {
    "duration": 13,
    "start_time": "2022-05-09T17:16:54.760Z"
   },
   {
    "duration": 12,
    "start_time": "2022-05-09T17:20:50.142Z"
   },
   {
    "duration": 12,
    "start_time": "2022-05-09T17:20:56.860Z"
   },
   {
    "duration": 129,
    "start_time": "2022-05-09T17:21:29.083Z"
   },
   {
    "duration": 137,
    "start_time": "2022-05-09T17:26:37.545Z"
   },
   {
    "duration": 187,
    "start_time": "2022-05-09T17:28:30.946Z"
   },
   {
    "duration": 144,
    "start_time": "2022-05-09T17:28:44.662Z"
   },
   {
    "duration": 139,
    "start_time": "2022-05-09T17:29:54.749Z"
   },
   {
    "duration": 210,
    "start_time": "2022-05-10T06:33:11.042Z"
   },
   {
    "duration": 50,
    "start_time": "2022-05-10T06:33:11.255Z"
   },
   {
    "duration": 8,
    "start_time": "2022-05-10T06:33:11.307Z"
   },
   {
    "duration": 20,
    "start_time": "2022-05-10T06:33:11.323Z"
   },
   {
    "duration": 26,
    "start_time": "2022-05-10T06:33:11.345Z"
   },
   {
    "duration": 12,
    "start_time": "2022-05-10T06:33:11.372Z"
   },
   {
    "duration": 8,
    "start_time": "2022-05-10T06:33:11.386Z"
   },
   {
    "duration": 34,
    "start_time": "2022-05-10T06:33:11.395Z"
   },
   {
    "duration": 304,
    "start_time": "2022-05-10T06:33:11.430Z"
   },
   {
    "duration": 8,
    "start_time": "2022-05-10T06:33:11.737Z"
   },
   {
    "duration": 165,
    "start_time": "2022-05-10T06:33:11.747Z"
   },
   {
    "duration": 17,
    "start_time": "2022-05-10T06:33:11.913Z"
   },
   {
    "duration": 314,
    "start_time": "2022-05-10T06:33:11.931Z"
   },
   {
    "duration": 12,
    "start_time": "2022-05-10T06:33:12.248Z"
   },
   {
    "duration": 243,
    "start_time": "2022-05-10T06:33:12.262Z"
   },
   {
    "duration": 8,
    "start_time": "2022-05-10T06:33:12.507Z"
   },
   {
    "duration": 164,
    "start_time": "2022-05-10T06:33:12.517Z"
   },
   {
    "duration": 26,
    "start_time": "2022-05-10T06:34:06.887Z"
   },
   {
    "duration": 164,
    "start_time": "2022-05-10T06:35:07.386Z"
   },
   {
    "duration": 3,
    "start_time": "2022-05-10T06:45:13.524Z"
   },
   {
    "duration": 2198,
    "start_time": "2022-05-10T06:45:14.045Z"
   },
   {
    "duration": 54,
    "start_time": "2022-05-10T06:45:16.245Z"
   },
   {
    "duration": 7,
    "start_time": "2022-05-10T06:45:16.301Z"
   },
   {
    "duration": 17,
    "start_time": "2022-05-10T06:45:16.525Z"
   },
   {
    "duration": 26,
    "start_time": "2022-05-10T06:45:16.760Z"
   },
   {
    "duration": 13,
    "start_time": "2022-05-10T06:45:17.079Z"
   },
   {
    "duration": 5,
    "start_time": "2022-05-10T06:45:18.110Z"
   },
   {
    "duration": 8,
    "start_time": "2022-05-10T06:45:18.314Z"
   },
   {
    "duration": 277,
    "start_time": "2022-05-10T06:45:18.535Z"
   },
   {
    "duration": 7,
    "start_time": "2022-05-10T06:45:19.589Z"
   },
   {
    "duration": 167,
    "start_time": "2022-05-10T06:45:19.679Z"
   },
   {
    "duration": 13,
    "start_time": "2022-05-10T06:45:21.624Z"
   },
   {
    "duration": 292,
    "start_time": "2022-05-10T06:45:22.417Z"
   },
   {
    "duration": 16,
    "start_time": "2022-05-10T06:45:24.016Z"
   },
   {
    "duration": 329,
    "start_time": "2022-05-10T06:45:28.171Z"
   },
   {
    "duration": 3,
    "start_time": "2022-05-10T08:05:41.196Z"
   },
   {
    "duration": 486,
    "start_time": "2022-05-10T08:05:44.292Z"
   },
   {
    "duration": 3,
    "start_time": "2022-05-10T08:07:41.955Z"
   },
   {
    "duration": 544,
    "start_time": "2022-05-10T08:07:42.671Z"
   },
   {
    "duration": 3,
    "start_time": "2022-05-10T08:11:17.438Z"
   },
   {
    "duration": 522,
    "start_time": "2022-05-10T08:11:17.980Z"
   },
   {
    "duration": 4,
    "start_time": "2022-05-10T08:17:46.003Z"
   },
   {
    "duration": 3,
    "start_time": "2022-05-10T08:17:54.915Z"
   },
   {
    "duration": 501,
    "start_time": "2022-05-10T08:17:55.936Z"
   },
   {
    "duration": 2,
    "start_time": "2022-05-10T08:22:09.602Z"
   },
   {
    "duration": 614,
    "start_time": "2022-05-10T08:22:09.653Z"
   },
   {
    "duration": 3,
    "start_time": "2022-05-10T08:22:58.339Z"
   },
   {
    "duration": 30,
    "start_time": "2022-05-10T08:22:59.028Z"
   },
   {
    "duration": 19,
    "start_time": "2022-05-10T08:31:56.059Z"
   },
   {
    "duration": 13,
    "start_time": "2022-05-10T08:40:59.233Z"
   },
   {
    "duration": 19,
    "start_time": "2022-05-10T08:44:15.622Z"
   },
   {
    "duration": 9,
    "start_time": "2022-05-10T08:50:33.412Z"
   },
   {
    "duration": 9,
    "start_time": "2022-05-10T08:58:48.531Z"
   },
   {
    "duration": 9,
    "start_time": "2022-05-10T09:19:04.878Z"
   },
   {
    "duration": 8,
    "start_time": "2022-05-10T09:19:08.003Z"
   },
   {
    "duration": 12,
    "start_time": "2022-05-10T09:19:08.547Z"
   },
   {
    "duration": 19,
    "start_time": "2022-05-10T09:19:31.729Z"
   },
   {
    "duration": 17,
    "start_time": "2022-05-10T09:20:50.405Z"
   },
   {
    "duration": 14,
    "start_time": "2022-05-10T09:21:15.962Z"
   },
   {
    "duration": 13,
    "start_time": "2022-05-10T09:21:38.453Z"
   },
   {
    "duration": 20,
    "start_time": "2022-05-10T09:21:50.828Z"
   },
   {
    "duration": 10,
    "start_time": "2022-05-10T09:38:34.605Z"
   },
   {
    "duration": 14,
    "start_time": "2022-05-10T09:38:36.649Z"
   },
   {
    "duration": 5,
    "start_time": "2022-05-10T09:38:58.267Z"
   },
   {
    "duration": 2788,
    "start_time": "2022-05-10T09:39:15.452Z"
   },
   {
    "duration": 7,
    "start_time": "2022-05-10T09:39:25.290Z"
   },
   {
    "duration": 5,
    "start_time": "2022-05-10T09:39:25.761Z"
   },
   {
    "duration": 3134,
    "start_time": "2022-05-10T09:39:27.588Z"
   },
   {
    "duration": 2637,
    "start_time": "2022-05-10T09:40:23.179Z"
   },
   {
    "duration": 18,
    "start_time": "2022-05-10T09:41:59.868Z"
   },
   {
    "duration": 12,
    "start_time": "2022-05-10T09:42:04.840Z"
   },
   {
    "duration": 5,
    "start_time": "2022-05-10T09:42:05.356Z"
   },
   {
    "duration": 14,
    "start_time": "2022-05-10T09:42:06.096Z"
   },
   {
    "duration": 11,
    "start_time": "2022-05-10T09:43:07.585Z"
   },
   {
    "duration": 10,
    "start_time": "2022-05-10T09:43:10.573Z"
   },
   {
    "duration": 12,
    "start_time": "2022-05-10T09:43:11.100Z"
   },
   {
    "duration": 6,
    "start_time": "2022-05-10T09:43:25.451Z"
   },
   {
    "duration": 11,
    "start_time": "2022-05-10T09:43:27.377Z"
   },
   {
    "duration": 2661,
    "start_time": "2022-05-10T09:44:13.351Z"
   },
   {
    "duration": 12,
    "start_time": "2022-05-10T09:47:47.711Z"
   },
   {
    "duration": 151,
    "start_time": "2022-05-10T09:52:42.950Z"
   },
   {
    "duration": 172,
    "start_time": "2022-05-10T09:52:48.880Z"
   },
   {
    "duration": 170,
    "start_time": "2022-05-10T09:53:04.397Z"
   },
   {
    "duration": 9,
    "start_time": "2022-05-10T09:57:42.808Z"
   },
   {
    "duration": 4,
    "start_time": "2022-05-10T09:57:46.809Z"
   },
   {
    "duration": 18,
    "start_time": "2022-05-10T09:57:47.720Z"
   },
   {
    "duration": 10,
    "start_time": "2022-05-10T09:57:51.028Z"
   },
   {
    "duration": 5,
    "start_time": "2022-05-10T09:57:51.473Z"
   },
   {
    "duration": 10,
    "start_time": "2022-05-10T09:57:51.853Z"
   },
   {
    "duration": 2,
    "start_time": "2022-05-10T09:58:03.850Z"
   },
   {
    "duration": 2177,
    "start_time": "2022-05-10T09:58:03.854Z"
   },
   {
    "duration": 60,
    "start_time": "2022-05-10T09:58:06.033Z"
   },
   {
    "duration": 8,
    "start_time": "2022-05-10T09:58:06.094Z"
   },
   {
    "duration": 27,
    "start_time": "2022-05-10T09:58:06.104Z"
   },
   {
    "duration": 37,
    "start_time": "2022-05-10T09:58:06.134Z"
   },
   {
    "duration": 11,
    "start_time": "2022-05-10T09:58:06.173Z"
   },
   {
    "duration": 5,
    "start_time": "2022-05-10T09:58:06.185Z"
   },
   {
    "duration": 11,
    "start_time": "2022-05-10T09:58:06.191Z"
   },
   {
    "duration": 316,
    "start_time": "2022-05-10T09:58:06.204Z"
   },
   {
    "duration": 17,
    "start_time": "2022-05-10T09:58:06.526Z"
   },
   {
    "duration": 158,
    "start_time": "2022-05-10T09:58:06.546Z"
   },
   {
    "duration": 19,
    "start_time": "2022-05-10T09:58:06.706Z"
   },
   {
    "duration": 316,
    "start_time": "2022-05-10T09:58:06.727Z"
   },
   {
    "duration": 14,
    "start_time": "2022-05-10T09:58:07.045Z"
   },
   {
    "duration": 253,
    "start_time": "2022-05-10T09:58:07.061Z"
   },
   {
    "duration": 17,
    "start_time": "2022-05-10T09:58:07.315Z"
   },
   {
    "duration": 174,
    "start_time": "2022-05-10T09:58:07.333Z"
   },
   {
    "duration": 3,
    "start_time": "2022-05-10T09:58:07.509Z"
   },
   {
    "duration": 42,
    "start_time": "2022-05-10T09:58:07.514Z"
   },
   {
    "duration": 9,
    "start_time": "2022-05-10T09:58:07.558Z"
   },
   {
    "duration": 7,
    "start_time": "2022-05-10T09:58:07.568Z"
   },
   {
    "duration": 12,
    "start_time": "2022-05-10T09:58:07.577Z"
   },
   {
    "duration": 12,
    "start_time": "2022-05-10T09:58:19.267Z"
   },
   {
    "duration": 15,
    "start_time": "2022-05-10T09:58:38.812Z"
   },
   {
    "duration": 14,
    "start_time": "2022-05-10T09:58:56.413Z"
   },
   {
    "duration": 124,
    "start_time": "2022-05-10T09:59:41.650Z"
   },
   {
    "duration": 9,
    "start_time": "2022-05-10T10:00:24.691Z"
   },
   {
    "duration": 13,
    "start_time": "2022-05-10T10:00:37.260Z"
   },
   {
    "duration": 13,
    "start_time": "2022-05-10T10:01:07.778Z"
   },
   {
    "duration": 10,
    "start_time": "2022-05-10T10:03:11.853Z"
   },
   {
    "duration": 9,
    "start_time": "2022-05-10T10:03:21.562Z"
   },
   {
    "duration": 3,
    "start_time": "2022-05-10T10:03:34.367Z"
   },
   {
    "duration": 3,
    "start_time": "2022-05-10T10:03:37.276Z"
   },
   {
    "duration": 4,
    "start_time": "2022-05-10T10:03:44.182Z"
   },
   {
    "duration": 11,
    "start_time": "2022-05-10T10:03:54.245Z"
   },
   {
    "duration": 5,
    "start_time": "2022-05-10T10:04:20.955Z"
   },
   {
    "duration": 5,
    "start_time": "2022-05-10T10:04:26.922Z"
   },
   {
    "duration": 11,
    "start_time": "2022-05-10T10:04:31.704Z"
   },
   {
    "duration": 4,
    "start_time": "2022-05-10T10:04:32.204Z"
   },
   {
    "duration": 3,
    "start_time": "2022-05-10T10:05:08.318Z"
   },
   {
    "duration": 4,
    "start_time": "2022-05-10T10:05:10.745Z"
   },
   {
    "duration": 4,
    "start_time": "2022-05-10T10:05:11.446Z"
   },
   {
    "duration": 4,
    "start_time": "2022-05-10T10:05:15.269Z"
   },
   {
    "duration": 4,
    "start_time": "2022-05-10T10:05:15.902Z"
   },
   {
    "duration": 7,
    "start_time": "2022-05-10T10:05:31.042Z"
   },
   {
    "duration": 5,
    "start_time": "2022-05-10T10:05:31.599Z"
   },
   {
    "duration": 4,
    "start_time": "2022-05-10T10:05:32.951Z"
   },
   {
    "duration": 5,
    "start_time": "2022-05-10T10:05:33.942Z"
   },
   {
    "duration": 7,
    "start_time": "2022-05-10T10:06:08.714Z"
   },
   {
    "duration": 5,
    "start_time": "2022-05-10T10:06:09.219Z"
   },
   {
    "duration": 4,
    "start_time": "2022-05-10T10:06:09.998Z"
   },
   {
    "duration": 5,
    "start_time": "2022-05-10T10:06:11.683Z"
   },
   {
    "duration": 7,
    "start_time": "2022-05-10T10:06:21.984Z"
   },
   {
    "duration": 4,
    "start_time": "2022-05-10T10:06:22.468Z"
   },
   {
    "duration": 7,
    "start_time": "2022-05-10T10:06:23.333Z"
   },
   {
    "duration": 7,
    "start_time": "2022-05-10T10:06:24.224Z"
   },
   {
    "duration": 144,
    "start_time": "2022-05-10T10:14:49.790Z"
   },
   {
    "duration": 242,
    "start_time": "2022-05-10T10:14:57.824Z"
   },
   {
    "duration": 162,
    "start_time": "2022-05-10T10:15:47.236Z"
   },
   {
    "duration": 175,
    "start_time": "2022-05-10T10:16:25.917Z"
   },
   {
    "duration": 173,
    "start_time": "2022-05-10T10:25:09.522Z"
   },
   {
    "duration": 332,
    "start_time": "2022-05-10T10:51:08.317Z"
   },
   {
    "duration": 768,
    "start_time": "2022-05-10T10:55:54.750Z"
   },
   {
    "duration": 121,
    "start_time": "2022-05-10T10:55:55.719Z"
   },
   {
    "duration": 597,
    "start_time": "2022-05-10T10:56:04.573Z"
   },
   {
    "duration": 2,
    "start_time": "2022-05-10T10:56:05.553Z"
   },
   {
    "duration": 249,
    "start_time": "2022-05-10T10:57:07.143Z"
   },
   {
    "duration": 2,
    "start_time": "2022-05-10T10:57:11.243Z"
   },
   {
    "duration": 274,
    "start_time": "2022-05-10T10:57:29.699Z"
   },
   {
    "duration": 2,
    "start_time": "2022-05-10T10:57:33.746Z"
   },
   {
    "duration": 3682,
    "start_time": "2022-05-10T10:57:54.520Z"
   },
   {
    "duration": 3,
    "start_time": "2022-05-10T10:57:58.205Z"
   },
   {
    "duration": 1918,
    "start_time": "2022-05-10T10:58:10.929Z"
   },
   {
    "duration": 1775,
    "start_time": "2022-05-10T11:07:32.276Z"
   },
   {
    "duration": 2159,
    "start_time": "2022-05-10T11:36:37.132Z"
   },
   {
    "duration": 0,
    "start_time": "2022-05-10T11:36:39.292Z"
   },
   {
    "duration": 8,
    "start_time": "2022-05-10T11:36:39.330Z"
   },
   {
    "duration": 3722,
    "start_time": "2022-05-10T11:36:47.887Z"
   },
   {
    "duration": 2110,
    "start_time": "2022-05-10T11:36:51.611Z"
   },
   {
    "duration": 0,
    "start_time": "2022-05-10T11:36:53.722Z"
   },
   {
    "duration": 0,
    "start_time": "2022-05-10T11:36:53.723Z"
   },
   {
    "duration": 2006,
    "start_time": "2022-05-10T11:37:17.822Z"
   },
   {
    "duration": 8,
    "start_time": "2022-05-10T11:37:27.467Z"
   },
   {
    "duration": 3662,
    "start_time": "2022-05-10T11:37:34.964Z"
   },
   {
    "duration": 1941,
    "start_time": "2022-05-10T11:37:38.627Z"
   },
   {
    "duration": 0,
    "start_time": "2022-05-10T11:37:40.570Z"
   },
   {
    "duration": 0,
    "start_time": "2022-05-10T11:37:40.571Z"
   },
   {
    "duration": 30,
    "start_time": "2022-05-10T11:38:11.205Z"
   },
   {
    "duration": 28,
    "start_time": "2022-05-10T11:44:43.239Z"
   },
   {
    "duration": 12,
    "start_time": "2022-05-10T11:45:06.778Z"
   },
   {
    "duration": 19,
    "start_time": "2022-05-10T11:45:14.842Z"
   },
   {
    "duration": 3436,
    "start_time": "2022-05-10T11:45:18.222Z"
   },
   {
    "duration": 26,
    "start_time": "2022-05-10T11:45:21.660Z"
   },
   {
    "duration": 12,
    "start_time": "2022-05-10T11:45:21.688Z"
   },
   {
    "duration": 15,
    "start_time": "2022-05-10T11:45:27.267Z"
   },
   {
    "duration": 6,
    "start_time": "2022-05-10T11:46:44.758Z"
   },
   {
    "duration": 4,
    "start_time": "2022-05-10T11:46:47.367Z"
   },
   {
    "duration": 8,
    "start_time": "2022-05-10T11:46:51.099Z"
   },
   {
    "duration": 8,
    "start_time": "2022-05-10T11:46:52.812Z"
   },
   {
    "duration": 4,
    "start_time": "2022-05-10T11:46:54.790Z"
   },
   {
    "duration": 29,
    "start_time": "2022-05-10T11:47:00.955Z"
   },
   {
    "duration": 10,
    "start_time": "2022-05-10T11:47:01.917Z"
   },
   {
    "duration": 12,
    "start_time": "2022-05-10T11:53:09.487Z"
   },
   {
    "duration": 5,
    "start_time": "2022-05-10T11:53:10.298Z"
   },
   {
    "duration": 7,
    "start_time": "2022-05-10T11:53:25.690Z"
   },
   {
    "duration": 36,
    "start_time": "2022-05-10T12:15:42.928Z"
   },
   {
    "duration": 4,
    "start_time": "2022-05-10T12:15:51.772Z"
   },
   {
    "duration": 23,
    "start_time": "2022-05-10T12:15:52.423Z"
   },
   {
    "duration": 20,
    "start_time": "2022-05-10T12:19:06.043Z"
   },
   {
    "duration": 11,
    "start_time": "2022-05-10T12:19:34.125Z"
   },
   {
    "duration": 3,
    "start_time": "2022-05-10T12:19:38.932Z"
   },
   {
    "duration": 11,
    "start_time": "2022-05-10T12:19:39.468Z"
   },
   {
    "duration": 11,
    "start_time": "2022-05-10T12:19:55.944Z"
   },
   {
    "duration": 12,
    "start_time": "2022-05-10T12:20:00.140Z"
   },
   {
    "duration": 3,
    "start_time": "2022-05-10T12:20:10.773Z"
   },
   {
    "duration": 2115,
    "start_time": "2022-05-10T12:20:10.779Z"
   },
   {
    "duration": 67,
    "start_time": "2022-05-10T12:20:12.896Z"
   },
   {
    "duration": 9,
    "start_time": "2022-05-10T12:20:12.965Z"
   },
   {
    "duration": 16,
    "start_time": "2022-05-10T12:20:12.976Z"
   },
   {
    "duration": 22,
    "start_time": "2022-05-10T12:20:12.994Z"
   },
   {
    "duration": 10,
    "start_time": "2022-05-10T12:20:13.018Z"
   },
   {
    "duration": 22,
    "start_time": "2022-05-10T12:20:13.030Z"
   },
   {
    "duration": 10,
    "start_time": "2022-05-10T12:20:13.054Z"
   },
   {
    "duration": 305,
    "start_time": "2022-05-10T12:20:13.066Z"
   },
   {
    "duration": 6,
    "start_time": "2022-05-10T12:20:13.374Z"
   },
   {
    "duration": 149,
    "start_time": "2022-05-10T12:20:13.382Z"
   },
   {
    "duration": 19,
    "start_time": "2022-05-10T12:20:13.533Z"
   },
   {
    "duration": 291,
    "start_time": "2022-05-10T12:20:13.554Z"
   },
   {
    "duration": 14,
    "start_time": "2022-05-10T12:20:13.847Z"
   },
   {
    "duration": 213,
    "start_time": "2022-05-10T12:20:13.862Z"
   },
   {
    "duration": 7,
    "start_time": "2022-05-10T12:20:14.076Z"
   },
   {
    "duration": 145,
    "start_time": "2022-05-10T12:20:14.085Z"
   },
   {
    "duration": 2,
    "start_time": "2022-05-10T12:20:14.232Z"
   },
   {
    "duration": 31,
    "start_time": "2022-05-10T12:20:14.236Z"
   },
   {
    "duration": 3999,
    "start_time": "2022-05-10T12:20:14.269Z"
   },
   {
    "duration": 27,
    "start_time": "2022-05-10T12:20:18.270Z"
   },
   {
    "duration": 4,
    "start_time": "2022-05-10T12:20:18.299Z"
   },
   {
    "duration": 23,
    "start_time": "2022-05-10T12:20:18.305Z"
   },
   {
    "duration": 12,
    "start_time": "2022-05-10T12:20:18.347Z"
   },
   {
    "duration": 15,
    "start_time": "2022-05-10T12:20:18.361Z"
   },
   {
    "duration": 4,
    "start_time": "2022-05-10T12:20:18.378Z"
   },
   {
    "duration": 9,
    "start_time": "2022-05-10T12:20:18.384Z"
   },
   {
    "duration": 7,
    "start_time": "2022-05-10T12:20:18.396Z"
   },
   {
    "duration": 303,
    "start_time": "2022-05-10T12:20:18.405Z"
   },
   {
    "duration": 2,
    "start_time": "2022-05-10T12:20:18.710Z"
   },
   {
    "duration": 38,
    "start_time": "2022-05-10T12:20:18.714Z"
   },
   {
    "duration": 11,
    "start_time": "2022-05-10T12:20:32.522Z"
   },
   {
    "duration": 16,
    "start_time": "2022-05-10T12:27:44.964Z"
   },
   {
    "duration": 3,
    "start_time": "2022-05-10T12:30:16.409Z"
   },
   {
    "duration": 19,
    "start_time": "2022-05-10T12:30:17.510Z"
   },
   {
    "duration": 2,
    "start_time": "2022-05-10T12:30:27.400Z"
   },
   {
    "duration": 20,
    "start_time": "2022-05-10T12:30:28.024Z"
   },
   {
    "duration": 2055,
    "start_time": "2022-05-10T12:30:35.265Z"
   },
   {
    "duration": 47,
    "start_time": "2022-05-10T12:30:37.323Z"
   },
   {
    "duration": 26,
    "start_time": "2022-05-10T12:30:37.372Z"
   },
   {
    "duration": 22,
    "start_time": "2022-05-10T12:30:38.519Z"
   },
   {
    "duration": 11,
    "start_time": "2022-05-10T12:30:39.489Z"
   },
   {
    "duration": 13,
    "start_time": "2022-05-10T12:30:41.675Z"
   },
   {
    "duration": 6,
    "start_time": "2022-05-10T12:30:42.765Z"
   },
   {
    "duration": 7,
    "start_time": "2022-05-10T12:30:44.593Z"
   },
   {
    "duration": 5,
    "start_time": "2022-05-10T12:30:45.396Z"
   },
   {
    "duration": 196,
    "start_time": "2022-05-10T12:30:46.422Z"
   },
   {
    "duration": 3,
    "start_time": "2022-05-10T12:30:48.022Z"
   },
   {
    "duration": 18,
    "start_time": "2022-05-10T12:30:48.681Z"
   },
   {
    "duration": 16,
    "start_time": "2022-05-10T12:30:52.169Z"
   },
   {
    "duration": 22,
    "start_time": "2022-05-10T12:30:59.881Z"
   },
   {
    "duration": 169,
    "start_time": "2022-05-10T13:37:41.264Z"
   },
   {
    "duration": 137,
    "start_time": "2022-05-10T13:37:55.318Z"
   },
   {
    "duration": 131,
    "start_time": "2022-05-10T13:38:09.586Z"
   },
   {
    "duration": 17,
    "start_time": "2022-05-10T13:38:22.479Z"
   },
   {
    "duration": 56,
    "start_time": "2022-05-10T15:43:54.819Z"
   },
   {
    "duration": 36,
    "start_time": "2022-05-10T15:46:04.563Z"
   },
   {
    "duration": 45,
    "start_time": "2022-05-10T15:46:59.027Z"
   },
   {
    "duration": 1954,
    "start_time": "2022-05-10T16:02:40.374Z"
   },
   {
    "duration": 1955,
    "start_time": "2022-05-10T16:03:31.672Z"
   },
   {
    "duration": 16,
    "start_time": "2022-05-10T16:04:01.179Z"
   },
   {
    "duration": 2116,
    "start_time": "2022-05-10T16:04:03.089Z"
   },
   {
    "duration": 13,
    "start_time": "2022-05-10T16:05:56.657Z"
   },
   {
    "duration": 134,
    "start_time": "2022-05-10T16:08:22.560Z"
   },
   {
    "duration": 9,
    "start_time": "2022-05-10T16:08:28.415Z"
   },
   {
    "duration": 27,
    "start_time": "2022-05-10T16:10:32.470Z"
   },
   {
    "duration": 3,
    "start_time": "2022-05-10T16:10:47.721Z"
   },
   {
    "duration": 38,
    "start_time": "2022-05-10T16:10:48.446Z"
   },
   {
    "duration": 33,
    "start_time": "2022-05-10T16:11:07.527Z"
   },
   {
    "duration": 80,
    "start_time": "2022-05-10T16:12:59.914Z"
   },
   {
    "duration": 26,
    "start_time": "2022-05-10T16:13:35.418Z"
   },
   {
    "duration": 28,
    "start_time": "2022-05-10T16:16:09.669Z"
   },
   {
    "duration": 121,
    "start_time": "2022-05-10T16:18:09.987Z"
   },
   {
    "duration": 3,
    "start_time": "2022-05-10T16:18:13.074Z"
   },
   {
    "duration": 38,
    "start_time": "2022-05-10T16:18:26.443Z"
   },
   {
    "duration": 34,
    "start_time": "2022-05-10T16:18:53.185Z"
   },
   {
    "duration": 126,
    "start_time": "2022-05-10T16:19:44.487Z"
   },
   {
    "duration": 48,
    "start_time": "2022-05-10T16:19:56.160Z"
   },
   {
    "duration": 35,
    "start_time": "2022-05-10T16:20:17.892Z"
   },
   {
    "duration": 41,
    "start_time": "2022-05-10T16:20:48.316Z"
   },
   {
    "duration": 7,
    "start_time": "2022-05-10T16:21:33.358Z"
   },
   {
    "duration": 11,
    "start_time": "2022-05-10T16:21:41.607Z"
   },
   {
    "duration": 37,
    "start_time": "2022-05-10T16:22:11.366Z"
   },
   {
    "duration": 43,
    "start_time": "2022-05-10T16:22:14.622Z"
   },
   {
    "duration": 51,
    "start_time": "2022-05-10T16:22:29.703Z"
   },
   {
    "duration": 49,
    "start_time": "2022-05-10T16:23:22.009Z"
   },
   {
    "duration": 11,
    "start_time": "2022-05-10T16:23:51.791Z"
   },
   {
    "duration": 9,
    "start_time": "2022-05-10T16:31:01.314Z"
   },
   {
    "duration": 37,
    "start_time": "2022-05-10T16:36:54.807Z"
   },
   {
    "duration": 41,
    "start_time": "2022-05-10T16:37:08.047Z"
   },
   {
    "duration": 39,
    "start_time": "2022-05-10T16:38:09.453Z"
   },
   {
    "duration": 60,
    "start_time": "2022-05-10T16:38:22.875Z"
   },
   {
    "duration": 9,
    "start_time": "2022-05-10T16:41:03.380Z"
   },
   {
    "duration": 39,
    "start_time": "2022-05-10T16:41:14.581Z"
   },
   {
    "duration": 8,
    "start_time": "2022-05-10T16:41:41.501Z"
   },
   {
    "duration": 8,
    "start_time": "2022-05-10T16:42:35.407Z"
   },
   {
    "duration": 8,
    "start_time": "2022-05-10T16:46:24.202Z"
   },
   {
    "duration": 34,
    "start_time": "2022-05-10T16:47:50.574Z"
   },
   {
    "duration": 44,
    "start_time": "2022-05-10T16:48:03.936Z"
   },
   {
    "duration": 26,
    "start_time": "2022-05-10T16:48:19.187Z"
   },
   {
    "duration": 28,
    "start_time": "2022-05-10T16:48:48.170Z"
   },
   {
    "duration": 37,
    "start_time": "2022-05-10T16:49:35.273Z"
   },
   {
    "duration": 8,
    "start_time": "2022-05-10T16:50:54.139Z"
   },
   {
    "duration": 7,
    "start_time": "2022-05-10T16:50:54.817Z"
   },
   {
    "duration": 8,
    "start_time": "2022-05-10T16:50:55.403Z"
   },
   {
    "duration": 52,
    "start_time": "2022-05-10T16:51:01.548Z"
   },
   {
    "duration": 16,
    "start_time": "2022-05-10T16:54:01.923Z"
   },
   {
    "duration": 17,
    "start_time": "2022-05-10T16:55:05.767Z"
   },
   {
    "duration": 16,
    "start_time": "2022-05-10T16:55:56.112Z"
   },
   {
    "duration": 20,
    "start_time": "2022-05-10T16:56:50.140Z"
   },
   {
    "duration": 11,
    "start_time": "2022-05-10T17:03:36.643Z"
   },
   {
    "duration": 21,
    "start_time": "2022-05-10T17:03:40.348Z"
   },
   {
    "duration": 11,
    "start_time": "2022-05-10T17:03:40.813Z"
   },
   {
    "duration": 10,
    "start_time": "2022-05-10T17:05:26.415Z"
   },
   {
    "duration": 26,
    "start_time": "2022-05-10T17:05:39.262Z"
   },
   {
    "duration": 24,
    "start_time": "2022-05-10T17:06:04.025Z"
   },
   {
    "duration": 32,
    "start_time": "2022-05-10T17:06:30.023Z"
   },
   {
    "duration": 10,
    "start_time": "2022-05-10T17:06:59.275Z"
   },
   {
    "duration": 12,
    "start_time": "2022-05-10T17:07:04.292Z"
   },
   {
    "duration": 8,
    "start_time": "2022-05-10T17:17:36.868Z"
   },
   {
    "duration": 5,
    "start_time": "2022-05-10T17:18:54.334Z"
   },
   {
    "duration": 6,
    "start_time": "2022-05-10T17:18:56.545Z"
   },
   {
    "duration": 7,
    "start_time": "2022-05-10T17:19:05.136Z"
   },
   {
    "duration": 20,
    "start_time": "2022-05-10T17:23:43.339Z"
   },
   {
    "duration": 17,
    "start_time": "2022-05-10T17:24:33.026Z"
   },
   {
    "duration": 27,
    "start_time": "2022-05-10T17:25:13.141Z"
   },
   {
    "duration": 17,
    "start_time": "2022-05-10T17:25:32.083Z"
   },
   {
    "duration": 5,
    "start_time": "2022-05-10T17:30:06.467Z"
   },
   {
    "duration": 46,
    "start_time": "2022-05-10T17:31:30.074Z"
   },
   {
    "duration": 3,
    "start_time": "2022-05-10T17:31:43.388Z"
   },
   {
    "duration": 30,
    "start_time": "2022-05-10T17:31:44.073Z"
   },
   {
    "duration": 10,
    "start_time": "2022-05-10T17:34:03.476Z"
   },
   {
    "duration": 24,
    "start_time": "2022-05-10T17:38:44.214Z"
   },
   {
    "duration": 3,
    "start_time": "2022-05-10T17:39:02.404Z"
   },
   {
    "duration": 173,
    "start_time": "2022-05-10T17:39:02.978Z"
   },
   {
    "duration": 186,
    "start_time": "2022-05-10T17:39:56.073Z"
   },
   {
    "duration": 668,
    "start_time": "2022-05-10T17:42:38.849Z"
   },
   {
    "duration": 43,
    "start_time": "2022-05-10T17:51:00.679Z"
   },
   {
    "duration": 18,
    "start_time": "2022-05-10T17:54:21.789Z"
   },
   {
    "duration": 9,
    "start_time": "2022-05-10T17:54:50.928Z"
   },
   {
    "duration": 27,
    "start_time": "2022-05-10T17:54:51.734Z"
   },
   {
    "duration": 20,
    "start_time": "2022-05-10T17:55:59.256Z"
   },
   {
    "duration": 2345,
    "start_time": "2022-05-10T17:59:04.243Z"
   },
   {
    "duration": 13,
    "start_time": "2022-05-10T17:59:37.034Z"
   },
   {
    "duration": 1943,
    "start_time": "2022-05-10T17:59:44.684Z"
   },
   {
    "duration": 20,
    "start_time": "2022-05-10T18:09:21.355Z"
   },
   {
    "duration": 143,
    "start_time": "2022-05-10T18:09:45.298Z"
   },
   {
    "duration": 18,
    "start_time": "2022-05-10T18:11:03.801Z"
   },
   {
    "duration": 22,
    "start_time": "2022-05-10T18:20:43.405Z"
   },
   {
    "duration": 21,
    "start_time": "2022-05-10T18:20:52.955Z"
   },
   {
    "duration": 30,
    "start_time": "2022-05-10T18:21:14.986Z"
   },
   {
    "duration": 16,
    "start_time": "2022-05-10T18:22:41.047Z"
   },
   {
    "duration": 276,
    "start_time": "2022-05-10T18:22:44.261Z"
   },
   {
    "duration": 15,
    "start_time": "2022-05-10T18:22:44.901Z"
   },
   {
    "duration": 14,
    "start_time": "2022-05-10T18:23:02.098Z"
   },
   {
    "duration": 15,
    "start_time": "2022-05-10T18:23:25.297Z"
   },
   {
    "duration": 508,
    "start_time": "2022-05-10T18:24:35.823Z"
   },
   {
    "duration": 4,
    "start_time": "2022-05-10T18:26:32.765Z"
   },
   {
    "duration": 12,
    "start_time": "2022-05-10T18:26:33.555Z"
   },
   {
    "duration": 168,
    "start_time": "2022-05-10T18:26:34.707Z"
   },
   {
    "duration": 498,
    "start_time": "2022-05-10T18:26:35.981Z"
   },
   {
    "duration": 13,
    "start_time": "2022-05-10T18:27:29.547Z"
   },
   {
    "duration": 11,
    "start_time": "2022-05-10T18:27:39.090Z"
   },
   {
    "duration": 189,
    "start_time": "2022-05-10T18:27:39.711Z"
   },
   {
    "duration": 3,
    "start_time": "2022-05-10T18:27:42.993Z"
   },
   {
    "duration": 11,
    "start_time": "2022-05-10T18:27:43.506Z"
   },
   {
    "duration": 171,
    "start_time": "2022-05-10T18:27:44.765Z"
   },
   {
    "duration": 371,
    "start_time": "2022-05-10T18:28:07.964Z"
   },
   {
    "duration": 667,
    "start_time": "2022-05-10T18:28:08.684Z"
   },
   {
    "duration": 526,
    "start_time": "2022-05-10T18:30:11.825Z"
   },
   {
    "duration": 3,
    "start_time": "2022-05-10T18:30:33.345Z"
   },
   {
    "duration": 3429,
    "start_time": "2022-05-10T18:30:33.361Z"
   },
   {
    "duration": 53,
    "start_time": "2022-05-10T18:30:36.793Z"
   },
   {
    "duration": 13,
    "start_time": "2022-05-10T18:30:36.856Z"
   },
   {
    "duration": 22,
    "start_time": "2022-05-10T18:30:36.871Z"
   },
   {
    "duration": 25,
    "start_time": "2022-05-10T18:30:36.895Z"
   },
   {
    "duration": 30,
    "start_time": "2022-05-10T18:30:36.921Z"
   },
   {
    "duration": 7,
    "start_time": "2022-05-10T18:30:36.952Z"
   },
   {
    "duration": 14,
    "start_time": "2022-05-10T18:30:36.960Z"
   },
   {
    "duration": 291,
    "start_time": "2022-05-10T18:30:36.976Z"
   },
   {
    "duration": 7,
    "start_time": "2022-05-10T18:30:37.270Z"
   },
   {
    "duration": 162,
    "start_time": "2022-05-10T18:30:37.278Z"
   },
   {
    "duration": 12,
    "start_time": "2022-05-10T18:30:37.441Z"
   },
   {
    "duration": 280,
    "start_time": "2022-05-10T18:30:37.456Z"
   },
   {
    "duration": 23,
    "start_time": "2022-05-10T18:30:37.738Z"
   },
   {
    "duration": 210,
    "start_time": "2022-05-10T18:30:37.763Z"
   },
   {
    "duration": 8,
    "start_time": "2022-05-10T18:30:37.975Z"
   },
   {
    "duration": 314,
    "start_time": "2022-05-10T18:30:37.984Z"
   },
   {
    "duration": 3,
    "start_time": "2022-05-10T18:30:38.300Z"
   },
   {
    "duration": 30,
    "start_time": "2022-05-10T18:30:38.305Z"
   },
   {
    "duration": 3282,
    "start_time": "2022-05-10T18:30:38.337Z"
   },
   {
    "duration": 31,
    "start_time": "2022-05-10T18:30:41.620Z"
   },
   {
    "duration": 11,
    "start_time": "2022-05-10T18:30:41.653Z"
   },
   {
    "duration": 36,
    "start_time": "2022-05-10T18:30:41.665Z"
   },
   {
    "duration": 13,
    "start_time": "2022-05-10T18:30:41.703Z"
   },
   {
    "duration": 16,
    "start_time": "2022-05-10T18:30:41.717Z"
   },
   {
    "duration": 6,
    "start_time": "2022-05-10T18:30:41.735Z"
   },
   {
    "duration": 15,
    "start_time": "2022-05-10T18:30:41.751Z"
   },
   {
    "duration": 5,
    "start_time": "2022-05-10T18:30:41.769Z"
   },
   {
    "duration": 165,
    "start_time": "2022-05-10T18:30:41.775Z"
   },
   {
    "duration": 3,
    "start_time": "2022-05-10T18:30:41.941Z"
   },
   {
    "duration": 26,
    "start_time": "2022-05-10T18:30:41.948Z"
   },
   {
    "duration": 8,
    "start_time": "2022-05-10T18:30:41.975Z"
   },
   {
    "duration": 7,
    "start_time": "2022-05-10T18:30:41.984Z"
   },
   {
    "duration": 8,
    "start_time": "2022-05-10T18:30:41.993Z"
   },
   {
    "duration": 53,
    "start_time": "2022-05-10T18:30:42.003Z"
   },
   {
    "duration": 11,
    "start_time": "2022-05-10T18:30:42.058Z"
   },
   {
    "duration": 9,
    "start_time": "2022-05-10T18:30:42.070Z"
   },
   {
    "duration": 9,
    "start_time": "2022-05-10T18:30:42.080Z"
   },
   {
    "duration": 7,
    "start_time": "2022-05-10T18:30:42.091Z"
   },
   {
    "duration": 8,
    "start_time": "2022-05-10T18:30:42.100Z"
   },
   {
    "duration": 79,
    "start_time": "2022-05-10T18:30:42.109Z"
   },
   {
    "duration": 24,
    "start_time": "2022-05-10T18:30:42.189Z"
   },
   {
    "duration": 7,
    "start_time": "2022-05-10T18:30:42.215Z"
   },
   {
    "duration": 1510,
    "start_time": "2022-05-10T18:30:42.223Z"
   },
   {
    "duration": 3,
    "start_time": "2022-05-10T18:30:43.734Z"
   },
   {
    "duration": 18,
    "start_time": "2022-05-10T18:30:43.738Z"
   },
   {
    "duration": 179,
    "start_time": "2022-05-10T18:30:43.758Z"
   },
   {
    "duration": 552,
    "start_time": "2022-05-10T18:30:43.939Z"
   },
   {
    "duration": 21,
    "start_time": "2022-05-10T18:31:06.748Z"
   },
   {
    "duration": 3,
    "start_time": "2022-05-10T18:31:13.037Z"
   },
   {
    "duration": 11,
    "start_time": "2022-05-10T18:31:13.717Z"
   },
   {
    "duration": 14,
    "start_time": "2022-05-10T18:31:40.865Z"
   },
   {
    "duration": 20,
    "start_time": "2022-05-10T18:31:42.645Z"
   },
   {
    "duration": 179,
    "start_time": "2022-05-10T18:31:43.656Z"
   },
   {
    "duration": 36,
    "start_time": "2022-05-10T18:32:56.544Z"
   },
   {
    "duration": 14,
    "start_time": "2022-05-10T18:33:30.570Z"
   },
   {
    "duration": 31,
    "start_time": "2022-05-10T18:33:38.984Z"
   },
   {
    "duration": 34,
    "start_time": "2022-05-10T18:35:07.434Z"
   },
   {
    "duration": 7,
    "start_time": "2022-05-10T18:37:14.773Z"
   },
   {
    "duration": 26,
    "start_time": "2022-05-10T18:40:53.897Z"
   },
   {
    "duration": 10,
    "start_time": "2022-05-10T18:40:54.731Z"
   },
   {
    "duration": 13,
    "start_time": "2022-05-10T18:42:58.723Z"
   },
   {
    "duration": 41,
    "start_time": "2022-05-10T18:46:03.742Z"
   },
   {
    "duration": 12,
    "start_time": "2022-05-10T18:46:05.980Z"
   },
   {
    "duration": 45,
    "start_time": "2022-05-10T18:46:07.673Z"
   },
   {
    "duration": 23,
    "start_time": "2022-05-10T18:51:03.399Z"
   },
   {
    "duration": 11,
    "start_time": "2022-05-10T18:51:03.961Z"
   },
   {
    "duration": 44,
    "start_time": "2022-05-10T18:51:04.840Z"
   },
   {
    "duration": 31,
    "start_time": "2022-05-10T18:55:41.159Z"
   },
   {
    "duration": 11,
    "start_time": "2022-05-10T18:55:41.704Z"
   },
   {
    "duration": 38,
    "start_time": "2022-05-10T18:55:42.419Z"
   },
   {
    "duration": 7,
    "start_time": "2022-05-10T18:55:43.524Z"
   },
   {
    "duration": 22,
    "start_time": "2022-05-10T18:56:00.462Z"
   },
   {
    "duration": 11,
    "start_time": "2022-05-10T18:56:01.010Z"
   },
   {
    "duration": 38,
    "start_time": "2022-05-10T18:56:02.442Z"
   },
   {
    "duration": 22,
    "start_time": "2022-05-10T18:56:33.566Z"
   },
   {
    "duration": 9,
    "start_time": "2022-05-10T18:56:34.136Z"
   },
   {
    "duration": 29,
    "start_time": "2022-05-10T18:56:35.006Z"
   },
   {
    "duration": 9,
    "start_time": "2022-05-10T18:56:37.162Z"
   },
   {
    "duration": 53,
    "start_time": "2022-05-10T18:58:12.603Z"
   },
   {
    "duration": 14,
    "start_time": "2022-05-10T18:58:13.344Z"
   },
   {
    "duration": 31,
    "start_time": "2022-05-10T18:58:15.964Z"
   },
   {
    "duration": 24,
    "start_time": "2022-05-10T19:04:56.563Z"
   },
   {
    "duration": 17,
    "start_time": "2022-05-10T19:04:57.349Z"
   },
   {
    "duration": 30,
    "start_time": "2022-05-10T19:04:58.421Z"
   },
   {
    "duration": 10,
    "start_time": "2022-05-10T19:05:00.405Z"
   },
   {
    "duration": 40,
    "start_time": "2022-05-10T19:06:00.333Z"
   },
   {
    "duration": 11,
    "start_time": "2022-05-10T19:06:00.980Z"
   },
   {
    "duration": 34,
    "start_time": "2022-05-10T19:06:04.125Z"
   },
   {
    "duration": 20,
    "start_time": "2022-05-10T19:06:25.221Z"
   },
   {
    "duration": 11,
    "start_time": "2022-05-10T19:06:25.885Z"
   },
   {
    "duration": 27,
    "start_time": "2022-05-10T19:06:30.685Z"
   },
   {
    "duration": 22,
    "start_time": "2022-05-10T19:07:30.699Z"
   },
   {
    "duration": 9,
    "start_time": "2022-05-10T19:07:31.304Z"
   },
   {
    "duration": 32,
    "start_time": "2022-05-10T19:07:33.071Z"
   },
   {
    "duration": 17,
    "start_time": "2022-05-10T19:09:22.962Z"
   },
   {
    "duration": 12,
    "start_time": "2022-05-10T19:10:10.946Z"
   },
   {
    "duration": 9,
    "start_time": "2022-05-10T19:10:14.769Z"
   },
   {
    "duration": 9,
    "start_time": "2022-05-10T19:11:04.699Z"
   },
   {
    "duration": 13,
    "start_time": "2022-05-10T19:11:20.740Z"
   },
   {
    "duration": 21,
    "start_time": "2022-05-10T19:12:06.136Z"
   },
   {
    "duration": 11,
    "start_time": "2022-05-10T19:12:06.749Z"
   },
   {
    "duration": 37,
    "start_time": "2022-05-10T19:12:11.335Z"
   },
   {
    "duration": 15,
    "start_time": "2022-05-10T19:12:20.760Z"
   },
   {
    "duration": 13,
    "start_time": "2022-05-10T19:12:21.349Z"
   },
   {
    "duration": 26,
    "start_time": "2022-05-10T19:12:24.085Z"
   },
   {
    "duration": 28,
    "start_time": "2022-05-10T19:21:35.527Z"
   },
   {
    "duration": 10,
    "start_time": "2022-05-10T19:21:36.507Z"
   },
   {
    "duration": 28,
    "start_time": "2022-05-10T19:21:39.497Z"
   },
   {
    "duration": 22,
    "start_time": "2022-05-10T19:22:27.722Z"
   },
   {
    "duration": 50,
    "start_time": "2022-05-11T16:15:41.851Z"
   },
   {
    "duration": 8,
    "start_time": "2022-05-11T16:15:46.017Z"
   },
   {
    "duration": 6,
    "start_time": "2022-05-11T16:15:46.674Z"
   },
   {
    "duration": 1499,
    "start_time": "2022-05-11T16:15:49.921Z"
   },
   {
    "duration": 2722,
    "start_time": "2022-05-11T16:15:51.422Z"
   },
   {
    "duration": 73,
    "start_time": "2022-05-11T16:15:54.146Z"
   },
   {
    "duration": 10,
    "start_time": "2022-05-11T16:15:54.221Z"
   },
   {
    "duration": 14,
    "start_time": "2022-05-11T16:15:54.233Z"
   },
   {
    "duration": 30,
    "start_time": "2022-05-11T16:15:54.249Z"
   },
   {
    "duration": 13,
    "start_time": "2022-05-11T16:15:54.280Z"
   },
   {
    "duration": 6,
    "start_time": "2022-05-11T16:15:54.322Z"
   },
   {
    "duration": 9,
    "start_time": "2022-05-11T16:15:54.440Z"
   },
   {
    "duration": 335,
    "start_time": "2022-05-11T16:15:54.451Z"
   },
   {
    "duration": 8,
    "start_time": "2022-05-11T16:15:54.787Z"
   },
   {
    "duration": 195,
    "start_time": "2022-05-11T16:15:54.797Z"
   },
   {
    "duration": 11,
    "start_time": "2022-05-11T16:15:54.994Z"
   },
   {
    "duration": 323,
    "start_time": "2022-05-11T16:15:55.007Z"
   },
   {
    "duration": 12,
    "start_time": "2022-05-11T16:15:55.332Z"
   },
   {
    "duration": 241,
    "start_time": "2022-05-11T16:15:55.346Z"
   },
   {
    "duration": 10,
    "start_time": "2022-05-11T16:15:55.589Z"
   },
   {
    "duration": 158,
    "start_time": "2022-05-11T16:15:55.601Z"
   },
   {
    "duration": 3,
    "start_time": "2022-05-11T16:15:55.761Z"
   },
   {
    "duration": 25,
    "start_time": "2022-05-11T16:15:55.765Z"
   },
   {
    "duration": 3822,
    "start_time": "2022-05-11T16:15:55.791Z"
   },
   {
    "duration": 130,
    "start_time": "2022-05-11T16:15:59.616Z"
   },
   {
    "duration": 4,
    "start_time": "2022-05-11T16:15:59.749Z"
   },
   {
    "duration": 8,
    "start_time": "2022-05-11T16:15:59.755Z"
   },
   {
    "duration": 25,
    "start_time": "2022-05-11T16:15:59.765Z"
   },
   {
    "duration": 36,
    "start_time": "2022-05-11T16:15:59.792Z"
   },
   {
    "duration": 30,
    "start_time": "2022-05-11T16:15:59.831Z"
   },
   {
    "duration": 10,
    "start_time": "2022-05-11T16:15:59.863Z"
   },
   {
    "duration": 7,
    "start_time": "2022-05-11T16:15:59.875Z"
   },
   {
    "duration": 39,
    "start_time": "2022-05-11T16:15:59.884Z"
   },
   {
    "duration": 6,
    "start_time": "2022-05-11T16:15:59.925Z"
   },
   {
    "duration": 196,
    "start_time": "2022-05-11T16:15:59.933Z"
   },
   {
    "duration": 3,
    "start_time": "2022-05-11T16:16:00.131Z"
   },
   {
    "duration": 27,
    "start_time": "2022-05-11T16:16:00.136Z"
   },
   {
    "duration": 10,
    "start_time": "2022-05-11T16:16:00.166Z"
   },
   {
    "duration": 31,
    "start_time": "2022-05-11T16:16:00.178Z"
   },
   {
    "duration": 11,
    "start_time": "2022-05-11T16:16:00.222Z"
   },
   {
    "duration": 14,
    "start_time": "2022-05-11T16:16:00.235Z"
   },
   {
    "duration": 16,
    "start_time": "2022-05-11T16:16:00.251Z"
   },
   {
    "duration": 24,
    "start_time": "2022-05-11T16:16:00.269Z"
   },
   {
    "duration": 27,
    "start_time": "2022-05-11T16:16:00.294Z"
   },
   {
    "duration": 14,
    "start_time": "2022-05-11T16:16:00.323Z"
   },
   {
    "duration": 10,
    "start_time": "2022-05-11T16:16:00.339Z"
   },
   {
    "duration": 152,
    "start_time": "2022-05-11T16:16:00.351Z"
   },
   {
    "duration": 37,
    "start_time": "2022-05-11T16:16:00.505Z"
   },
   {
    "duration": 7,
    "start_time": "2022-05-11T16:16:00.543Z"
   },
   {
    "duration": 108,
    "start_time": "2022-05-11T16:16:00.552Z"
   },
   {
    "duration": 0,
    "start_time": "2022-05-11T16:16:00.661Z"
   },
   {
    "duration": 0,
    "start_time": "2022-05-11T16:16:00.663Z"
   },
   {
    "duration": 0,
    "start_time": "2022-05-11T16:16:00.664Z"
   },
   {
    "duration": 0,
    "start_time": "2022-05-11T16:16:00.665Z"
   },
   {
    "duration": 22,
    "start_time": "2022-05-11T16:18:45.462Z"
   },
   {
    "duration": 11,
    "start_time": "2022-05-11T16:18:46.486Z"
   },
   {
    "duration": 32,
    "start_time": "2022-05-11T16:18:47.871Z"
   },
   {
    "duration": 72,
    "start_time": "2022-05-11T16:20:15.249Z"
   },
   {
    "duration": 17,
    "start_time": "2022-05-11T16:20:16.234Z"
   },
   {
    "duration": 8,
    "start_time": "2022-05-11T16:20:38.083Z"
   },
   {
    "duration": 5,
    "start_time": "2022-05-11T16:20:38.779Z"
   },
   {
    "duration": 4,
    "start_time": "2022-05-11T16:20:46.681Z"
   },
   {
    "duration": 5,
    "start_time": "2022-05-11T16:20:47.300Z"
   },
   {
    "duration": 168,
    "start_time": "2022-05-11T16:20:50.483Z"
   },
   {
    "duration": 3,
    "start_time": "2022-05-11T16:20:57.540Z"
   },
   {
    "duration": 8,
    "start_time": "2022-05-11T16:21:07.430Z"
   },
   {
    "duration": 9,
    "start_time": "2022-05-11T16:21:08.185Z"
   },
   {
    "duration": 9,
    "start_time": "2022-05-11T16:21:08.665Z"
   },
   {
    "duration": 8,
    "start_time": "2022-05-11T16:21:09.089Z"
   },
   {
    "duration": 8,
    "start_time": "2022-05-11T16:21:09.288Z"
   },
   {
    "duration": 9,
    "start_time": "2022-05-11T16:21:09.515Z"
   },
   {
    "duration": 8,
    "start_time": "2022-05-11T16:21:09.836Z"
   },
   {
    "duration": 8,
    "start_time": "2022-05-11T16:21:10.582Z"
   },
   {
    "duration": 9,
    "start_time": "2022-05-11T16:21:11.310Z"
   },
   {
    "duration": 8,
    "start_time": "2022-05-11T16:21:12.038Z"
   },
   {
    "duration": 34,
    "start_time": "2022-05-11T16:21:13.636Z"
   },
   {
    "duration": 31,
    "start_time": "2022-05-11T16:21:54.939Z"
   },
   {
    "duration": 36,
    "start_time": "2022-05-11T16:22:17.206Z"
   },
   {
    "duration": 17,
    "start_time": "2022-05-11T16:22:39.098Z"
   },
   {
    "duration": 8,
    "start_time": "2022-05-11T16:22:44.633Z"
   },
   {
    "duration": 19,
    "start_time": "2022-05-11T16:22:45.746Z"
   },
   {
    "duration": 16,
    "start_time": "2022-05-11T16:24:09.995Z"
   },
   {
    "duration": 631,
    "start_time": "2022-05-11T16:29:05.348Z"
   },
   {
    "duration": 600,
    "start_time": "2022-05-11T16:29:26.660Z"
   },
   {
    "duration": 601,
    "start_time": "2022-05-11T16:30:01.102Z"
   },
   {
    "duration": 615,
    "start_time": "2022-05-11T16:30:09.440Z"
   },
   {
    "duration": 620,
    "start_time": "2022-05-11T16:30:37.416Z"
   },
   {
    "duration": 616,
    "start_time": "2022-05-11T16:32:39.078Z"
   },
   {
    "duration": 581,
    "start_time": "2022-05-11T16:32:49.392Z"
   },
   {
    "duration": 596,
    "start_time": "2022-05-11T16:32:57.831Z"
   },
   {
    "duration": 607,
    "start_time": "2022-05-11T16:38:38.334Z"
   },
   {
    "duration": 598,
    "start_time": "2022-05-11T16:39:03.507Z"
   },
   {
    "duration": 35,
    "start_time": "2022-05-11T16:48:09.891Z"
   },
   {
    "duration": 2,
    "start_time": "2022-05-11T16:49:23.516Z"
   },
   {
    "duration": 3,
    "start_time": "2022-05-11T16:49:24.948Z"
   },
   {
    "duration": 2,
    "start_time": "2022-05-11T16:49:25.117Z"
   },
   {
    "duration": 2,
    "start_time": "2022-05-11T16:49:25.300Z"
   },
   {
    "duration": 3,
    "start_time": "2022-05-11T16:49:25.474Z"
   },
   {
    "duration": 2,
    "start_time": "2022-05-11T16:49:25.649Z"
   },
   {
    "duration": 3,
    "start_time": "2022-05-11T16:49:25.805Z"
   },
   {
    "duration": 2,
    "start_time": "2022-05-11T16:49:25.960Z"
   },
   {
    "duration": 2,
    "start_time": "2022-05-11T16:49:26.192Z"
   },
   {
    "duration": 3,
    "start_time": "2022-05-11T16:49:26.552Z"
   },
   {
    "duration": 2,
    "start_time": "2022-05-11T16:49:27.094Z"
   },
   {
    "duration": 30,
    "start_time": "2022-05-11T16:49:28.141Z"
   },
   {
    "duration": 3160,
    "start_time": "2022-05-11T16:53:42.328Z"
   },
   {
    "duration": 24,
    "start_time": "2022-05-11T16:53:56.452Z"
   },
   {
    "duration": 3132,
    "start_time": "2022-05-11T16:53:56.478Z"
   },
   {
    "duration": 0,
    "start_time": "2022-05-11T16:53:59.612Z"
   },
   {
    "duration": 8,
    "start_time": "2022-05-11T16:54:13.847Z"
   },
   {
    "duration": 10,
    "start_time": "2022-05-11T16:55:06.004Z"
   },
   {
    "duration": 9,
    "start_time": "2022-05-11T16:55:13.560Z"
   },
   {
    "duration": 7,
    "start_time": "2022-05-11T16:55:25.646Z"
   },
   {
    "duration": 7,
    "start_time": "2022-05-11T16:55:34.777Z"
   },
   {
    "duration": 3,
    "start_time": "2022-05-11T16:57:27.974Z"
   },
   {
    "duration": 18,
    "start_time": "2022-05-11T16:57:31.145Z"
   },
   {
    "duration": 248,
    "start_time": "2022-05-11T17:04:54.931Z"
   },
   {
    "duration": 169,
    "start_time": "2022-05-11T17:04:58.108Z"
   },
   {
    "duration": 151,
    "start_time": "2022-05-11T17:06:41.410Z"
   },
   {
    "duration": 229,
    "start_time": "2022-05-11T17:06:49.055Z"
   },
   {
    "duration": 6,
    "start_time": "2022-05-11T17:16:12.994Z"
   },
   {
    "duration": 231,
    "start_time": "2022-05-11T17:17:30.741Z"
   },
   {
    "duration": 224,
    "start_time": "2022-05-11T17:17:46.873Z"
   },
   {
    "duration": 335,
    "start_time": "2022-05-11T17:18:00.480Z"
   },
   {
    "duration": 356,
    "start_time": "2022-05-11T17:18:23.119Z"
   },
   {
    "duration": 115,
    "start_time": "2022-05-11T17:20:18.591Z"
   },
   {
    "duration": 3,
    "start_time": "2022-05-11T17:20:29.379Z"
   },
   {
    "duration": 2481,
    "start_time": "2022-05-11T17:20:29.385Z"
   },
   {
    "duration": 78,
    "start_time": "2022-05-11T17:20:31.869Z"
   },
   {
    "duration": 9,
    "start_time": "2022-05-11T17:20:31.949Z"
   },
   {
    "duration": 21,
    "start_time": "2022-05-11T17:20:31.960Z"
   },
   {
    "duration": 31,
    "start_time": "2022-05-11T17:20:31.983Z"
   },
   {
    "duration": 14,
    "start_time": "2022-05-11T17:20:32.023Z"
   },
   {
    "duration": 9,
    "start_time": "2022-05-11T17:20:32.039Z"
   },
   {
    "duration": 9,
    "start_time": "2022-05-11T17:20:32.050Z"
   },
   {
    "duration": 323,
    "start_time": "2022-05-11T17:20:32.060Z"
   },
   {
    "duration": 7,
    "start_time": "2022-05-11T17:20:32.386Z"
   },
   {
    "duration": 173,
    "start_time": "2022-05-11T17:20:32.395Z"
   },
   {
    "duration": 11,
    "start_time": "2022-05-11T17:20:32.570Z"
   },
   {
    "duration": 316,
    "start_time": "2022-05-11T17:20:32.584Z"
   },
   {
    "duration": 24,
    "start_time": "2022-05-11T17:20:32.902Z"
   },
   {
    "duration": 235,
    "start_time": "2022-05-11T17:20:32.927Z"
   },
   {
    "duration": 10,
    "start_time": "2022-05-11T17:20:33.164Z"
   },
   {
    "duration": 171,
    "start_time": "2022-05-11T17:20:33.176Z"
   },
   {
    "duration": 4,
    "start_time": "2022-05-11T17:20:33.349Z"
   },
   {
    "duration": 23,
    "start_time": "2022-05-11T17:20:33.355Z"
   },
   {
    "duration": 3582,
    "start_time": "2022-05-11T17:20:33.380Z"
   },
   {
    "duration": 28,
    "start_time": "2022-05-11T17:20:36.965Z"
   },
   {
    "duration": 3,
    "start_time": "2022-05-11T17:20:36.995Z"
   },
   {
    "duration": 28,
    "start_time": "2022-05-11T17:20:37.001Z"
   },
   {
    "duration": 25,
    "start_time": "2022-05-11T17:20:37.031Z"
   },
   {
    "duration": 12,
    "start_time": "2022-05-11T17:20:37.058Z"
   },
   {
    "duration": 59,
    "start_time": "2022-05-11T17:20:37.072Z"
   },
   {
    "duration": 70,
    "start_time": "2022-05-11T17:20:37.133Z"
   },
   {
    "duration": 16,
    "start_time": "2022-05-11T17:20:37.224Z"
   },
   {
    "duration": 9,
    "start_time": "2022-05-11T17:20:37.242Z"
   },
   {
    "duration": 5,
    "start_time": "2022-05-11T17:20:37.253Z"
   },
   {
    "duration": 5,
    "start_time": "2022-05-11T17:20:37.261Z"
   },
   {
    "duration": 6,
    "start_time": "2022-05-11T17:20:37.268Z"
   },
   {
    "duration": 204,
    "start_time": "2022-05-11T17:20:37.276Z"
   },
   {
    "duration": 4,
    "start_time": "2022-05-11T17:20:37.481Z"
   },
   {
    "duration": 4,
    "start_time": "2022-05-11T17:20:37.487Z"
   },
   {
    "duration": 5,
    "start_time": "2022-05-11T17:20:37.493Z"
   },
   {
    "duration": 4,
    "start_time": "2022-05-11T17:20:37.500Z"
   },
   {
    "duration": 17,
    "start_time": "2022-05-11T17:20:37.506Z"
   },
   {
    "duration": 10,
    "start_time": "2022-05-11T17:20:37.525Z"
   },
   {
    "duration": 5,
    "start_time": "2022-05-11T17:20:37.536Z"
   },
   {
    "duration": 10,
    "start_time": "2022-05-11T17:20:37.543Z"
   },
   {
    "duration": 10,
    "start_time": "2022-05-11T17:20:37.555Z"
   },
   {
    "duration": 8,
    "start_time": "2022-05-11T17:20:37.566Z"
   },
   {
    "duration": 7,
    "start_time": "2022-05-11T17:20:37.576Z"
   },
   {
    "duration": 42,
    "start_time": "2022-05-11T17:20:37.585Z"
   },
   {
    "duration": 17,
    "start_time": "2022-05-11T17:20:37.629Z"
   },
   {
    "duration": 5,
    "start_time": "2022-05-11T17:20:37.648Z"
   },
   {
    "duration": 11,
    "start_time": "2022-05-11T17:20:37.656Z"
   },
   {
    "duration": 656,
    "start_time": "2022-05-11T17:20:37.669Z"
   },
   {
    "duration": 3,
    "start_time": "2022-05-11T17:20:38.331Z"
   },
   {
    "duration": 22,
    "start_time": "2022-05-11T17:20:38.336Z"
   },
   {
    "duration": 180,
    "start_time": "2022-05-11T17:20:38.360Z"
   },
   {
    "duration": 234,
    "start_time": "2022-05-11T17:20:38.542Z"
   },
   {
    "duration": 12,
    "start_time": "2022-05-11T17:20:53.535Z"
   },
   {
    "duration": 236,
    "start_time": "2022-05-11T17:21:00.347Z"
   },
   {
    "duration": 231,
    "start_time": "2022-05-11T17:21:16.169Z"
   },
   {
    "duration": 217,
    "start_time": "2022-05-11T17:24:52.447Z"
   },
   {
    "duration": 230,
    "start_time": "2022-05-11T17:28:20.643Z"
   },
   {
    "duration": 295,
    "start_time": "2022-05-11T17:29:10.209Z"
   },
   {
    "duration": 340,
    "start_time": "2022-05-11T17:30:09.757Z"
   },
   {
    "duration": 262,
    "start_time": "2022-05-11T17:31:53.271Z"
   },
   {
    "duration": 428,
    "start_time": "2022-05-11T17:32:12.062Z"
   },
   {
    "duration": 432,
    "start_time": "2022-05-11T17:33:13.001Z"
   },
   {
    "duration": 118,
    "start_time": "2022-05-11T17:33:44.541Z"
   },
   {
    "duration": 251,
    "start_time": "2022-05-11T17:33:55.064Z"
   },
   {
    "duration": 14,
    "start_time": "2022-05-11T17:39:13.037Z"
   },
   {
    "duration": 381,
    "start_time": "2022-05-11T17:39:19.004Z"
   },
   {
    "duration": 265,
    "start_time": "2022-05-11T17:41:27.754Z"
   },
   {
    "duration": 9,
    "start_time": "2022-05-11T18:06:46.624Z"
   },
   {
    "duration": 289,
    "start_time": "2022-05-11T18:11:31.365Z"
   },
   {
    "duration": 313,
    "start_time": "2022-05-11T18:14:13.064Z"
   },
   {
    "duration": 299,
    "start_time": "2022-05-11T18:14:34.358Z"
   },
   {
    "duration": 303,
    "start_time": "2022-05-11T18:14:42.948Z"
   },
   {
    "duration": 321,
    "start_time": "2022-05-11T18:16:51.542Z"
   },
   {
    "duration": 345,
    "start_time": "2022-05-11T18:17:12.581Z"
   },
   {
    "duration": 317,
    "start_time": "2022-05-11T18:17:29.625Z"
   },
   {
    "duration": 1027,
    "start_time": "2022-05-11T18:57:26.853Z"
   },
   {
    "duration": 721,
    "start_time": "2022-05-11T18:58:55.817Z"
   },
   {
    "duration": 1129,
    "start_time": "2022-05-11T18:59:06.727Z"
   },
   {
    "duration": 19,
    "start_time": "2022-05-11T19:01:49.798Z"
   },
   {
    "duration": 7,
    "start_time": "2022-05-11T19:04:19.903Z"
   },
   {
    "duration": 19,
    "start_time": "2022-05-11T19:04:31.132Z"
   },
   {
    "duration": 151,
    "start_time": "2022-05-11T19:04:38.110Z"
   },
   {
    "duration": 3,
    "start_time": "2022-05-11T19:08:52.632Z"
   },
   {
    "duration": 11,
    "start_time": "2022-05-11T19:15:48.436Z"
   },
   {
    "duration": 481,
    "start_time": "2022-05-11T20:49:08.004Z"
   },
   {
    "duration": 334,
    "start_time": "2022-05-11T20:49:21.205Z"
   },
   {
    "duration": 353,
    "start_time": "2022-05-11T20:49:43.745Z"
   },
   {
    "duration": 328,
    "start_time": "2022-05-11T20:49:50.557Z"
   },
   {
    "duration": 463,
    "start_time": "2022-05-11T20:49:55.207Z"
   },
   {
    "duration": 182,
    "start_time": "2022-05-11T21:16:05.688Z"
   },
   {
    "duration": 1304,
    "start_time": "2022-05-12T03:55:56.806Z"
   },
   {
    "duration": 4165,
    "start_time": "2022-05-12T03:55:58.112Z"
   },
   {
    "duration": 68,
    "start_time": "2022-05-12T03:56:02.279Z"
   },
   {
    "duration": 13,
    "start_time": "2022-05-12T03:56:02.350Z"
   },
   {
    "duration": 25,
    "start_time": "2022-05-12T03:56:02.365Z"
   },
   {
    "duration": 55,
    "start_time": "2022-05-12T03:56:02.392Z"
   },
   {
    "duration": 18,
    "start_time": "2022-05-12T03:56:02.449Z"
   },
   {
    "duration": 14,
    "start_time": "2022-05-12T03:56:02.469Z"
   },
   {
    "duration": 12,
    "start_time": "2022-05-12T03:56:02.485Z"
   },
   {
    "duration": 358,
    "start_time": "2022-05-12T03:56:02.500Z"
   },
   {
    "duration": 9,
    "start_time": "2022-05-12T03:56:02.861Z"
   },
   {
    "duration": 288,
    "start_time": "2022-05-12T03:56:02.872Z"
   },
   {
    "duration": 11,
    "start_time": "2022-05-12T03:56:03.161Z"
   },
   {
    "duration": 327,
    "start_time": "2022-05-12T03:56:03.173Z"
   },
   {
    "duration": 10,
    "start_time": "2022-05-12T03:56:03.502Z"
   },
   {
    "duration": 247,
    "start_time": "2022-05-12T03:56:03.514Z"
   },
   {
    "duration": 8,
    "start_time": "2022-05-12T03:56:03.763Z"
   },
   {
    "duration": 166,
    "start_time": "2022-05-12T03:56:03.772Z"
   },
   {
    "duration": 5,
    "start_time": "2022-05-12T03:56:03.943Z"
   },
   {
    "duration": 34,
    "start_time": "2022-05-12T03:56:03.950Z"
   },
   {
    "duration": 2874,
    "start_time": "2022-05-12T03:56:03.987Z"
   },
   {
    "duration": 4,
    "start_time": "2022-05-12T03:56:06.863Z"
   },
   {
    "duration": 21,
    "start_time": "2022-05-12T03:56:06.869Z"
   },
   {
    "duration": 25,
    "start_time": "2022-05-12T03:56:06.892Z"
   },
   {
    "duration": 11,
    "start_time": "2022-05-12T03:56:06.919Z"
   },
   {
    "duration": 82,
    "start_time": "2022-05-12T03:56:06.944Z"
   },
   {
    "duration": 34,
    "start_time": "2022-05-12T03:56:07.028Z"
   },
   {
    "duration": 8,
    "start_time": "2022-05-12T03:56:07.066Z"
   },
   {
    "duration": 6,
    "start_time": "2022-05-12T03:56:07.075Z"
   },
   {
    "duration": 5,
    "start_time": "2022-05-12T03:56:07.083Z"
   },
   {
    "duration": 7,
    "start_time": "2022-05-12T03:56:07.090Z"
   },
   {
    "duration": 205,
    "start_time": "2022-05-12T03:56:07.099Z"
   },
   {
    "duration": 43,
    "start_time": "2022-05-12T03:56:07.306Z"
   },
   {
    "duration": 21,
    "start_time": "2022-05-12T03:56:07.352Z"
   },
   {
    "duration": 6,
    "start_time": "2022-05-12T03:56:07.374Z"
   },
   {
    "duration": 8,
    "start_time": "2022-05-12T03:56:07.381Z"
   },
   {
    "duration": 742,
    "start_time": "2022-05-12T03:56:07.391Z"
   },
   {
    "duration": 29,
    "start_time": "2022-05-12T03:56:08.134Z"
   },
   {
    "duration": 155,
    "start_time": "2022-05-12T03:56:08.165Z"
   },
   {
    "duration": 265,
    "start_time": "2022-05-12T03:56:08.322Z"
   },
   {
    "duration": 5,
    "start_time": "2022-05-12T04:02:25.006Z"
   },
   {
    "duration": 2064,
    "start_time": "2022-05-12T16:19:03.037Z"
   },
   {
    "duration": 3795,
    "start_time": "2022-05-12T16:19:05.104Z"
   },
   {
    "duration": 105,
    "start_time": "2022-05-12T16:19:08.902Z"
   },
   {
    "duration": 13,
    "start_time": "2022-05-12T16:19:09.010Z"
   },
   {
    "duration": 21,
    "start_time": "2022-05-12T16:19:10.930Z"
   },
   {
    "duration": 43,
    "start_time": "2022-05-12T16:19:12.531Z"
   },
   {
    "duration": 26,
    "start_time": "2022-05-12T16:19:14.782Z"
   },
   {
    "duration": 21,
    "start_time": "2022-05-12T16:19:19.980Z"
   },
   {
    "duration": 19,
    "start_time": "2022-05-12T16:19:21.906Z"
   },
   {
    "duration": 22,
    "start_time": "2022-05-12T16:19:41.179Z"
   },
   {
    "duration": 155,
    "start_time": "2022-05-12T16:19:43.319Z"
   },
   {
    "duration": 11,
    "start_time": "2022-05-12T16:19:57.569Z"
   },
   {
    "duration": 11,
    "start_time": "2022-05-12T16:20:00.247Z"
   },
   {
    "duration": 4,
    "start_time": "2022-05-12T16:20:08.917Z"
   },
   {
    "duration": 1800,
    "start_time": "2022-05-12T16:20:23.333Z"
   },
   {
    "duration": 3583,
    "start_time": "2022-05-12T16:20:25.136Z"
   },
   {
    "duration": 97,
    "start_time": "2022-05-12T16:20:28.723Z"
   },
   {
    "duration": 14,
    "start_time": "2022-05-12T16:20:28.823Z"
   },
   {
    "duration": 49,
    "start_time": "2022-05-12T16:20:28.841Z"
   },
   {
    "duration": 53,
    "start_time": "2022-05-12T16:20:28.892Z"
   },
   {
    "duration": 19,
    "start_time": "2022-05-12T16:20:28.948Z"
   },
   {
    "duration": 183,
    "start_time": "2022-05-12T16:20:28.969Z"
   },
   {
    "duration": 0,
    "start_time": "2022-05-12T16:20:29.156Z"
   },
   {
    "duration": 0,
    "start_time": "2022-05-12T16:20:29.158Z"
   },
   {
    "duration": 0,
    "start_time": "2022-05-12T16:20:29.160Z"
   },
   {
    "duration": 0,
    "start_time": "2022-05-12T16:20:29.162Z"
   },
   {
    "duration": 0,
    "start_time": "2022-05-12T16:20:29.164Z"
   },
   {
    "duration": 0,
    "start_time": "2022-05-12T16:20:29.166Z"
   },
   {
    "duration": 0,
    "start_time": "2022-05-12T16:20:29.168Z"
   },
   {
    "duration": 0,
    "start_time": "2022-05-12T16:20:29.169Z"
   },
   {
    "duration": 0,
    "start_time": "2022-05-12T16:20:29.170Z"
   },
   {
    "duration": 0,
    "start_time": "2022-05-12T16:20:29.171Z"
   },
   {
    "duration": 0,
    "start_time": "2022-05-12T16:20:29.197Z"
   },
   {
    "duration": 0,
    "start_time": "2022-05-12T16:20:29.199Z"
   },
   {
    "duration": 0,
    "start_time": "2022-05-12T16:20:29.202Z"
   },
   {
    "duration": 0,
    "start_time": "2022-05-12T16:20:29.204Z"
   },
   {
    "duration": 0,
    "start_time": "2022-05-12T16:20:29.205Z"
   },
   {
    "duration": 0,
    "start_time": "2022-05-12T16:20:29.207Z"
   },
   {
    "duration": 0,
    "start_time": "2022-05-12T16:20:29.209Z"
   },
   {
    "duration": 0,
    "start_time": "2022-05-12T16:20:29.210Z"
   },
   {
    "duration": 0,
    "start_time": "2022-05-12T16:20:29.211Z"
   },
   {
    "duration": 0,
    "start_time": "2022-05-12T16:20:29.212Z"
   },
   {
    "duration": 0,
    "start_time": "2022-05-12T16:20:29.215Z"
   },
   {
    "duration": 0,
    "start_time": "2022-05-12T16:20:29.217Z"
   },
   {
    "duration": 0,
    "start_time": "2022-05-12T16:20:29.218Z"
   },
   {
    "duration": 0,
    "start_time": "2022-05-12T16:20:29.220Z"
   },
   {
    "duration": 0,
    "start_time": "2022-05-12T16:20:29.222Z"
   },
   {
    "duration": 0,
    "start_time": "2022-05-12T16:20:29.223Z"
   },
   {
    "duration": 0,
    "start_time": "2022-05-12T16:20:29.225Z"
   },
   {
    "duration": 0,
    "start_time": "2022-05-12T16:20:29.226Z"
   },
   {
    "duration": 0,
    "start_time": "2022-05-12T16:20:29.228Z"
   },
   {
    "duration": 0,
    "start_time": "2022-05-12T16:20:29.229Z"
   },
   {
    "duration": 0,
    "start_time": "2022-05-12T16:20:29.231Z"
   },
   {
    "duration": 0,
    "start_time": "2022-05-12T16:20:29.233Z"
   },
   {
    "duration": 0,
    "start_time": "2022-05-12T16:20:29.234Z"
   },
   {
    "duration": 0,
    "start_time": "2022-05-12T16:20:29.297Z"
   },
   {
    "duration": 11,
    "start_time": "2022-05-12T16:21:04.164Z"
   },
   {
    "duration": 11,
    "start_time": "2022-05-12T16:21:06.235Z"
   },
   {
    "duration": 12,
    "start_time": "2022-05-12T16:21:31.162Z"
   },
   {
    "duration": 12,
    "start_time": "2022-05-12T16:21:36.838Z"
   },
   {
    "duration": 13,
    "start_time": "2022-05-12T16:21:43.707Z"
   },
   {
    "duration": 12,
    "start_time": "2022-05-12T16:21:48.110Z"
   },
   {
    "duration": 13,
    "start_time": "2022-05-12T16:21:48.710Z"
   },
   {
    "duration": 11,
    "start_time": "2022-05-12T16:21:50.422Z"
   },
   {
    "duration": 14,
    "start_time": "2022-05-12T16:22:51.076Z"
   },
   {
    "duration": 14,
    "start_time": "2022-05-12T16:22:55.856Z"
   },
   {
    "duration": 4,
    "start_time": "2022-05-12T16:23:07.131Z"
   },
   {
    "duration": 3735,
    "start_time": "2022-05-12T16:23:08.574Z"
   },
   {
    "duration": 79,
    "start_time": "2022-05-12T16:23:12.312Z"
   },
   {
    "duration": 15,
    "start_time": "2022-05-12T16:23:12.398Z"
   },
   {
    "duration": 19,
    "start_time": "2022-05-12T16:23:12.417Z"
   },
   {
    "duration": 63,
    "start_time": "2022-05-12T16:23:12.438Z"
   },
   {
    "duration": 22,
    "start_time": "2022-05-12T16:23:12.503Z"
   },
   {
    "duration": 17,
    "start_time": "2022-05-12T16:23:12.527Z"
   },
   {
    "duration": 19,
    "start_time": "2022-05-12T16:23:45.655Z"
   },
   {
    "duration": 285,
    "start_time": "2022-05-12T16:30:08.364Z"
   },
   {
    "duration": 231,
    "start_time": "2022-05-12T16:31:47.252Z"
   },
   {
    "duration": 17,
    "start_time": "2022-05-12T16:33:44.369Z"
   },
   {
    "duration": 419,
    "start_time": "2022-05-12T16:33:44.887Z"
   },
   {
    "duration": 402,
    "start_time": "2022-05-12T16:39:09.726Z"
   },
   {
    "duration": 19,
    "start_time": "2022-05-12T16:40:16.964Z"
   },
   {
    "duration": 17,
    "start_time": "2022-05-12T16:43:59.070Z"
   },
   {
    "duration": 11,
    "start_time": "2022-05-12T16:43:59.674Z"
   },
   {
    "duration": 12,
    "start_time": "2022-05-12T16:44:29.277Z"
   },
   {
    "duration": 11,
    "start_time": "2022-05-12T16:44:29.769Z"
   },
   {
    "duration": 1944,
    "start_time": "2022-05-12T16:44:43.211Z"
   },
   {
    "duration": 3371,
    "start_time": "2022-05-12T16:44:45.157Z"
   },
   {
    "duration": 94,
    "start_time": "2022-05-12T16:44:48.530Z"
   },
   {
    "duration": 11,
    "start_time": "2022-05-12T16:44:48.627Z"
   },
   {
    "duration": 23,
    "start_time": "2022-05-12T16:44:48.640Z"
   },
   {
    "duration": 66,
    "start_time": "2022-05-12T16:44:48.665Z"
   },
   {
    "duration": 19,
    "start_time": "2022-05-12T16:44:48.734Z"
   },
   {
    "duration": 18,
    "start_time": "2022-05-12T16:44:48.756Z"
   },
   {
    "duration": 10,
    "start_time": "2022-05-12T16:44:48.797Z"
   },
   {
    "duration": 34,
    "start_time": "2022-05-12T16:44:48.810Z"
   },
   {
    "duration": 559,
    "start_time": "2022-05-12T16:44:48.847Z"
   },
   {
    "duration": 10,
    "start_time": "2022-05-12T16:44:49.409Z"
   },
   {
    "duration": 281,
    "start_time": "2022-05-12T16:44:49.421Z"
   },
   {
    "duration": 13,
    "start_time": "2022-05-12T16:44:49.705Z"
   },
   {
    "duration": 538,
    "start_time": "2022-05-12T16:44:49.720Z"
   },
   {
    "duration": 15,
    "start_time": "2022-05-12T16:44:50.261Z"
   },
   {
    "duration": 379,
    "start_time": "2022-05-12T16:44:50.294Z"
   },
   {
    "duration": 13,
    "start_time": "2022-05-12T16:44:50.675Z"
   },
   {
    "duration": 267,
    "start_time": "2022-05-12T16:44:50.698Z"
   },
   {
    "duration": 4,
    "start_time": "2022-05-12T16:44:50.968Z"
   },
   {
    "duration": 53,
    "start_time": "2022-05-12T16:44:50.975Z"
   },
   {
    "duration": 3209,
    "start_time": "2022-05-12T16:44:51.031Z"
   },
   {
    "duration": 5,
    "start_time": "2022-05-12T16:44:54.243Z"
   },
   {
    "duration": 13,
    "start_time": "2022-05-12T16:44:54.251Z"
   },
   {
    "duration": 54,
    "start_time": "2022-05-12T16:44:54.267Z"
   },
   {
    "duration": 15,
    "start_time": "2022-05-12T16:44:54.324Z"
   },
   {
    "duration": 120,
    "start_time": "2022-05-12T16:44:54.341Z"
   },
   {
    "duration": 31,
    "start_time": "2022-05-12T16:44:54.465Z"
   },
   {
    "duration": 14,
    "start_time": "2022-05-12T16:44:54.499Z"
   },
   {
    "duration": 8,
    "start_time": "2022-05-12T16:44:54.516Z"
   },
   {
    "duration": 13,
    "start_time": "2022-05-12T16:44:54.526Z"
   },
   {
    "duration": 14,
    "start_time": "2022-05-12T16:44:54.541Z"
   },
   {
    "duration": 300,
    "start_time": "2022-05-12T16:44:54.558Z"
   },
   {
    "duration": 62,
    "start_time": "2022-05-12T16:44:54.861Z"
   },
   {
    "duration": 6,
    "start_time": "2022-05-12T16:44:54.926Z"
   },
   {
    "duration": 26,
    "start_time": "2022-05-12T16:44:54.935Z"
   },
   {
    "duration": 12,
    "start_time": "2022-05-12T16:44:54.997Z"
   },
   {
    "duration": 15,
    "start_time": "2022-05-12T16:44:55.012Z"
   },
   {
    "duration": 240,
    "start_time": "2022-05-12T16:50:11.007Z"
   },
   {
    "duration": 240,
    "start_time": "2022-05-12T16:50:41.676Z"
   },
   {
    "duration": 266,
    "start_time": "2022-05-12T16:52:18.877Z"
   },
   {
    "duration": 276,
    "start_time": "2022-05-12T16:53:03.021Z"
   },
   {
    "duration": 287,
    "start_time": "2022-05-12T16:53:38.461Z"
   }
  ],
  "kernelspec": {
   "display_name": "Python 3 (ipykernel)",
   "language": "python",
   "name": "python3"
  },
  "language_info": {
   "codemirror_mode": {
    "name": "ipython",
    "version": 3
   },
   "file_extension": ".py",
   "mimetype": "text/x-python",
   "name": "python",
   "nbconvert_exporter": "python",
   "pygments_lexer": "ipython3",
   "version": "3.9.5"
  },
  "toc": {
   "base_numbering": 1,
   "nav_menu": {},
   "number_sections": true,
   "sideBar": true,
   "skip_h1_title": true,
   "title_cell": "Table of Contents",
   "title_sidebar": "Contents",
   "toc_cell": false,
   "toc_position": {
    "height": "calc(100% - 180px)",
    "left": "10px",
    "top": "150px",
    "width": "165px"
   },
   "toc_section_display": true,
   "toc_window_display": true
  }
 },
 "nbformat": 4,
 "nbformat_minor": 2
}
