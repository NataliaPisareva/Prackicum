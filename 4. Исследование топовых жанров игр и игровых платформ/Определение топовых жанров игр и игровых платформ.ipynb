{
 "cells": [
  {
   "cell_type": "markdown",
   "metadata": {},
   "source": [
    "***Описание проекта***"
   ]
  },
  {
   "cell_type": "markdown",
   "metadata": {},
   "source": [
    "Вы работаете в интернет-магазине «Стримчик», который продаёт по всему миру компьютерные игры. Из открытых источников доступны исторические данные о продажах игр, оценки пользователей и экспертов, жанры и платформы (например, Xbox или PlayStation). Вам нужно выявить определяющие успешность игры закономерности. Это позволит сделать ставку на потенциально популярный продукт и спланировать рекламные кампании.\n",
    "\n",
    "\n",
    "Цель исследования: Определить закономерности влияющие на успешность игры. "
   ]
  },
  {
   "cell_type": "markdown",
   "metadata": {},
   "source": [
    "**1. Изучение данных**"
   ]
  },
  {
   "cell_type": "code",
   "execution_count": 1,
   "metadata": {},
   "outputs": [],
   "source": [
    "import pandas as pd # импорт библиотек\n",
    "import seaborn as sns\n",
    "import matplotlib.pyplot as plt\n",
    "import numpy as np"
   ]
  },
  {
   "cell_type": "code",
   "execution_count": 2,
   "metadata": {},
   "outputs": [
    {
     "data": {
      "text/html": [
       "<div>\n",
       "<style scoped>\n",
       "    .dataframe tbody tr th:only-of-type {\n",
       "        vertical-align: middle;\n",
       "    }\n",
       "\n",
       "    .dataframe tbody tr th {\n",
       "        vertical-align: top;\n",
       "    }\n",
       "\n",
       "    .dataframe thead th {\n",
       "        text-align: right;\n",
       "    }\n",
       "</style>\n",
       "<table border=\"1\" class=\"dataframe\">\n",
       "  <thead>\n",
       "    <tr style=\"text-align: right;\">\n",
       "      <th></th>\n",
       "      <th>Name</th>\n",
       "      <th>Platform</th>\n",
       "      <th>Year_of_Release</th>\n",
       "      <th>Genre</th>\n",
       "      <th>NA_sales</th>\n",
       "      <th>EU_sales</th>\n",
       "      <th>JP_sales</th>\n",
       "      <th>Other_sales</th>\n",
       "      <th>Critic_Score</th>\n",
       "      <th>User_Score</th>\n",
       "      <th>Rating</th>\n",
       "    </tr>\n",
       "  </thead>\n",
       "  <tbody>\n",
       "    <tr>\n",
       "      <th>0</th>\n",
       "      <td>Wii Sports</td>\n",
       "      <td>Wii</td>\n",
       "      <td>2006.0</td>\n",
       "      <td>Sports</td>\n",
       "      <td>41.36</td>\n",
       "      <td>28.96</td>\n",
       "      <td>3.77</td>\n",
       "      <td>8.45</td>\n",
       "      <td>76.0</td>\n",
       "      <td>8</td>\n",
       "      <td>E</td>\n",
       "    </tr>\n",
       "    <tr>\n",
       "      <th>1</th>\n",
       "      <td>Super Mario Bros.</td>\n",
       "      <td>NES</td>\n",
       "      <td>1985.0</td>\n",
       "      <td>Platform</td>\n",
       "      <td>29.08</td>\n",
       "      <td>3.58</td>\n",
       "      <td>6.81</td>\n",
       "      <td>0.77</td>\n",
       "      <td>NaN</td>\n",
       "      <td>NaN</td>\n",
       "      <td>NaN</td>\n",
       "    </tr>\n",
       "    <tr>\n",
       "      <th>2</th>\n",
       "      <td>Mario Kart Wii</td>\n",
       "      <td>Wii</td>\n",
       "      <td>2008.0</td>\n",
       "      <td>Racing</td>\n",
       "      <td>15.68</td>\n",
       "      <td>12.76</td>\n",
       "      <td>3.79</td>\n",
       "      <td>3.29</td>\n",
       "      <td>82.0</td>\n",
       "      <td>8.3</td>\n",
       "      <td>E</td>\n",
       "    </tr>\n",
       "    <tr>\n",
       "      <th>3</th>\n",
       "      <td>Wii Sports Resort</td>\n",
       "      <td>Wii</td>\n",
       "      <td>2009.0</td>\n",
       "      <td>Sports</td>\n",
       "      <td>15.61</td>\n",
       "      <td>10.93</td>\n",
       "      <td>3.28</td>\n",
       "      <td>2.95</td>\n",
       "      <td>80.0</td>\n",
       "      <td>8</td>\n",
       "      <td>E</td>\n",
       "    </tr>\n",
       "    <tr>\n",
       "      <th>4</th>\n",
       "      <td>Pokemon Red/Pokemon Blue</td>\n",
       "      <td>GB</td>\n",
       "      <td>1996.0</td>\n",
       "      <td>Role-Playing</td>\n",
       "      <td>11.27</td>\n",
       "      <td>8.89</td>\n",
       "      <td>10.22</td>\n",
       "      <td>1.00</td>\n",
       "      <td>NaN</td>\n",
       "      <td>NaN</td>\n",
       "      <td>NaN</td>\n",
       "    </tr>\n",
       "    <tr>\n",
       "      <th>...</th>\n",
       "      <td>...</td>\n",
       "      <td>...</td>\n",
       "      <td>...</td>\n",
       "      <td>...</td>\n",
       "      <td>...</td>\n",
       "      <td>...</td>\n",
       "      <td>...</td>\n",
       "      <td>...</td>\n",
       "      <td>...</td>\n",
       "      <td>...</td>\n",
       "      <td>...</td>\n",
       "    </tr>\n",
       "    <tr>\n",
       "      <th>16710</th>\n",
       "      <td>Samurai Warriors: Sanada Maru</td>\n",
       "      <td>PS3</td>\n",
       "      <td>2016.0</td>\n",
       "      <td>Action</td>\n",
       "      <td>0.00</td>\n",
       "      <td>0.00</td>\n",
       "      <td>0.01</td>\n",
       "      <td>0.00</td>\n",
       "      <td>NaN</td>\n",
       "      <td>NaN</td>\n",
       "      <td>NaN</td>\n",
       "    </tr>\n",
       "    <tr>\n",
       "      <th>16711</th>\n",
       "      <td>LMA Manager 2007</td>\n",
       "      <td>X360</td>\n",
       "      <td>2006.0</td>\n",
       "      <td>Sports</td>\n",
       "      <td>0.00</td>\n",
       "      <td>0.01</td>\n",
       "      <td>0.00</td>\n",
       "      <td>0.00</td>\n",
       "      <td>NaN</td>\n",
       "      <td>NaN</td>\n",
       "      <td>NaN</td>\n",
       "    </tr>\n",
       "    <tr>\n",
       "      <th>16712</th>\n",
       "      <td>Haitaka no Psychedelica</td>\n",
       "      <td>PSV</td>\n",
       "      <td>2016.0</td>\n",
       "      <td>Adventure</td>\n",
       "      <td>0.00</td>\n",
       "      <td>0.00</td>\n",
       "      <td>0.01</td>\n",
       "      <td>0.00</td>\n",
       "      <td>NaN</td>\n",
       "      <td>NaN</td>\n",
       "      <td>NaN</td>\n",
       "    </tr>\n",
       "    <tr>\n",
       "      <th>16713</th>\n",
       "      <td>Spirits &amp; Spells</td>\n",
       "      <td>GBA</td>\n",
       "      <td>2003.0</td>\n",
       "      <td>Platform</td>\n",
       "      <td>0.01</td>\n",
       "      <td>0.00</td>\n",
       "      <td>0.00</td>\n",
       "      <td>0.00</td>\n",
       "      <td>NaN</td>\n",
       "      <td>NaN</td>\n",
       "      <td>NaN</td>\n",
       "    </tr>\n",
       "    <tr>\n",
       "      <th>16714</th>\n",
       "      <td>Winning Post 8 2016</td>\n",
       "      <td>PSV</td>\n",
       "      <td>2016.0</td>\n",
       "      <td>Simulation</td>\n",
       "      <td>0.00</td>\n",
       "      <td>0.00</td>\n",
       "      <td>0.01</td>\n",
       "      <td>0.00</td>\n",
       "      <td>NaN</td>\n",
       "      <td>NaN</td>\n",
       "      <td>NaN</td>\n",
       "    </tr>\n",
       "  </tbody>\n",
       "</table>\n",
       "<p>16715 rows × 11 columns</p>\n",
       "</div>"
      ],
      "text/plain": [
       "                                Name Platform  Year_of_Release         Genre  \\\n",
       "0                         Wii Sports      Wii           2006.0        Sports   \n",
       "1                  Super Mario Bros.      NES           1985.0      Platform   \n",
       "2                     Mario Kart Wii      Wii           2008.0        Racing   \n",
       "3                  Wii Sports Resort      Wii           2009.0        Sports   \n",
       "4           Pokemon Red/Pokemon Blue       GB           1996.0  Role-Playing   \n",
       "...                              ...      ...              ...           ...   \n",
       "16710  Samurai Warriors: Sanada Maru      PS3           2016.0        Action   \n",
       "16711               LMA Manager 2007     X360           2006.0        Sports   \n",
       "16712        Haitaka no Psychedelica      PSV           2016.0     Adventure   \n",
       "16713               Spirits & Spells      GBA           2003.0      Platform   \n",
       "16714            Winning Post 8 2016      PSV           2016.0    Simulation   \n",
       "\n",
       "       NA_sales  EU_sales  JP_sales  Other_sales  Critic_Score User_Score  \\\n",
       "0         41.36     28.96      3.77         8.45          76.0          8   \n",
       "1         29.08      3.58      6.81         0.77           NaN        NaN   \n",
       "2         15.68     12.76      3.79         3.29          82.0        8.3   \n",
       "3         15.61     10.93      3.28         2.95          80.0          8   \n",
       "4         11.27      8.89     10.22         1.00           NaN        NaN   \n",
       "...         ...       ...       ...          ...           ...        ...   \n",
       "16710      0.00      0.00      0.01         0.00           NaN        NaN   \n",
       "16711      0.00      0.01      0.00         0.00           NaN        NaN   \n",
       "16712      0.00      0.00      0.01         0.00           NaN        NaN   \n",
       "16713      0.01      0.00      0.00         0.00           NaN        NaN   \n",
       "16714      0.00      0.00      0.01         0.00           NaN        NaN   \n",
       "\n",
       "      Rating  \n",
       "0          E  \n",
       "1        NaN  \n",
       "2          E  \n",
       "3          E  \n",
       "4        NaN  \n",
       "...      ...  \n",
       "16710    NaN  \n",
       "16711    NaN  \n",
       "16712    NaN  \n",
       "16713    NaN  \n",
       "16714    NaN  \n",
       "\n",
       "[16715 rows x 11 columns]"
      ]
     },
     "execution_count": 2,
     "metadata": {},
     "output_type": "execute_result"
    }
   ],
   "source": [
    "df = pd.read_csv('/datasets/games.csv') # вывод таблицы данных \n",
    "df"
   ]
  },
  {
   "cell_type": "code",
   "execution_count": 3,
   "metadata": {},
   "outputs": [
    {
     "name": "stdout",
     "output_type": "stream",
     "text": [
      "<class 'pandas.core.frame.DataFrame'>\n",
      "RangeIndex: 16715 entries, 0 to 16714\n",
      "Data columns (total 11 columns):\n",
      " #   Column           Non-Null Count  Dtype  \n",
      "---  ------           --------------  -----  \n",
      " 0   Name             16713 non-null  object \n",
      " 1   Platform         16715 non-null  object \n",
      " 2   Year_of_Release  16446 non-null  float64\n",
      " 3   Genre            16713 non-null  object \n",
      " 4   NA_sales         16715 non-null  float64\n",
      " 5   EU_sales         16715 non-null  float64\n",
      " 6   JP_sales         16715 non-null  float64\n",
      " 7   Other_sales      16715 non-null  float64\n",
      " 8   Critic_Score     8137 non-null   float64\n",
      " 9   User_Score       10014 non-null  object \n",
      " 10  Rating           9949 non-null   object \n",
      "dtypes: float64(6), object(5)\n",
      "memory usage: 1.4+ MB\n"
     ]
    },
    {
     "data": {
      "text/plain": [
       "Name                  2\n",
       "Platform              0\n",
       "Year_of_Release     269\n",
       "Genre                 2\n",
       "NA_sales              0\n",
       "EU_sales              0\n",
       "JP_sales              0\n",
       "Other_sales           0\n",
       "Critic_Score       8578\n",
       "User_Score         6701\n",
       "Rating             6766\n",
       "dtype: int64"
      ]
     },
     "execution_count": 3,
     "metadata": {},
     "output_type": "execute_result"
    }
   ],
   "source": [
    "df.info() # информация о данных в таблице\n",
    "df.isna().sum() # вывод количества пропусков"
   ]
  },
  {
   "cell_type": "markdown",
   "metadata": {},
   "source": [
    "Названия столбцов:\n",
    "\n",
    "•\tName — название игры\n",
    "\n",
    "•\tPlatform — платформа\n",
    "\n",
    "•\tYear_of_Release — год выпуска\n",
    "\n",
    "•\tGenre — жанр игры\n",
    "\n",
    "•\tNA_sales — продажи в Северной Америке (миллионы проданных копий)\n",
    "\n",
    "•\tEU_sales — продажи в Европе (миллионы проданных копий)\n",
    "\n",
    "•\tJP_sales — продажи в Японии (миллионы проданных копий)\n",
    "\n",
    "•\tOther_sales — продажи в других странах (миллионы проданных копий)\n",
    "\n",
    "•\tCritic_Score — оценка критиков (максимум 100)\n",
    "\n",
    "•\tUser_Score — оценка пользователей (максимум 10)\n",
    "\n",
    "•\tRating — рейтинг от организации ESRB (англ. Entertainment Software Rating Board). Эта ассоциация определяет рейтинг компьютерных игр и присваивает им подходящую возрастную категорию.\n"
   ]
  },
  {
   "cell_type": "code",
   "execution_count": 4,
   "metadata": {},
   "outputs": [
    {
     "data": {
      "text/plain": [
       "array(['Sports', 'Platform', 'Racing', 'Role-Playing', 'Puzzle', 'Misc',\n",
       "       'Shooter', 'Simulation', 'Action', 'Fighting', 'Adventure',\n",
       "       'Strategy', nan], dtype=object)"
      ]
     },
     "execution_count": 4,
     "metadata": {},
     "output_type": "execute_result"
    }
   ],
   "source": [
    "df['Genre'].unique() # вывод уникальных значений столбца жанр"
   ]
  },
  {
   "cell_type": "markdown",
   "metadata": {},
   "source": [
    "Расшифровка значений жанров и поджанров по классической класификации:\n",
    "Action - Действие\n",
    "Sports - Спорт (поджанр Действие)\n",
    "Misc - Разное\n",
    "Role-Playing - Ролевые\n",
    "Shooter - Стрелялки (поджанр Действие)\n",
    "Adventure - Приключение\n",
    "Racing - Гонки (поджанр Действие)\n",
    "Platform - Платформенные игры (поджанр Действие)\n",
    "Simulation - Симулятор\n",
    "Fighting - Единоборства (поджанр Действие)\n",
    "Strategy - Стратегия\n",
    "Puzzle  - Головоломки"
   ]
  },
  {
   "cell_type": "code",
   "execution_count": 5,
   "metadata": {},
   "outputs": [
    {
     "data": {
      "text/plain": [
       "Action          3369\n",
       "Sports          2348\n",
       "Misc            1750\n",
       "Role-Playing    1498\n",
       "Shooter         1323\n",
       "Adventure       1303\n",
       "Racing          1249\n",
       "Platform         888\n",
       "Simulation       873\n",
       "Fighting         849\n",
       "Strategy         683\n",
       "Puzzle           580\n",
       "Name: Genre, dtype: int64"
      ]
     },
     "execution_count": 5,
     "metadata": {},
     "output_type": "execute_result"
    }
   ],
   "source": [
    "df['Genre'].value_counts() # вывод количества уникальных значений столбца жанр"
   ]
  },
  {
   "cell_type": "markdown",
   "metadata": {},
   "source": [
    "Хочу отметить, что большинство игр принадлежит к жанру Action, меньше всего игр в жанре Puzzle."
   ]
  },
  {
   "cell_type": "code",
   "execution_count": 6,
   "metadata": {},
   "outputs": [
    {
     "data": {
      "text/plain": [
       "array(['E', nan, 'M', 'T', 'E10+', 'K-A', 'AO', 'EC', 'RP'], dtype=object)"
      ]
     },
     "execution_count": 6,
     "metadata": {},
     "output_type": "execute_result"
    }
   ],
   "source": [
    "df['Rating'].unique() # вывод уникальных значений столбца рейтинг"
   ]
  },
  {
   "cell_type": "markdown",
   "metadata": {},
   "source": [
    " Расшифровка рейтинговых оценок:\n",
    " 1. E -«Для всех»: Содержание вполне подходит для возрастной категории от 6 лет. \n",
    " 2. T -«Подросткам»: Игра подходит для лиц от 13 лет.\n",
    " 3. M -«Для взрослых»: Материалы игры не подходят для подростков младше 17 лет.\n",
    " 4. E10+  -«Для всех от 10 лет и старше».\n",
    " 5. EC -«Для детей младшего возраста»: Игра подходит для детей от 3 лет.\n",
    " 6. K-A -«Для всех»: Содержание вполне подходит для возрастной категории от 6 лет.\n",
    " 7. RP - «Рейтинг ожидается»: Продукт был отправлен в ESRB и ожидает присвоения рейтинга.\n",
    " 8. AO - «Только для взрослых»: Содержание игры только для взрослых старше 18 лет."
   ]
  },
  {
   "cell_type": "code",
   "execution_count": 7,
   "metadata": {},
   "outputs": [
    {
     "data": {
      "text/plain": [
       "E       3990\n",
       "T       2961\n",
       "M       1563\n",
       "E10+    1420\n",
       "EC         8\n",
       "RP         3\n",
       "K-A        3\n",
       "AO         1\n",
       "Name: Rating, dtype: int64"
      ]
     },
     "execution_count": 7,
     "metadata": {},
     "output_type": "execute_result"
    }
   ],
   "source": [
    "df['Rating'].value_counts() # вывод количества уникальных значений столбца рейтинг"
   ]
  },
  {
   "cell_type": "markdown",
   "metadata": {},
   "source": [
    "Хочу отметить, что большинство компьютерных игр с оценкой E -«Для всех», одна игра с рейтингом AO - «Только для взрослых»."
   ]
  },
  {
   "cell_type": "code",
   "execution_count": 8,
   "metadata": {},
   "outputs": [
    {
     "data": {
      "text/plain": [
       "array([2006., 1985., 2008., 2009., 1996., 1989., 1984., 2005., 1999.,\n",
       "       2007., 2010., 2013., 2004., 1990., 1988., 2002., 2001., 2011.,\n",
       "       1998., 2015., 2012., 2014., 1992., 1997., 1993., 1994., 1982.,\n",
       "       2016., 2003., 1986., 2000.,   nan, 1995., 1991., 1981., 1987.,\n",
       "       1980., 1983.])"
      ]
     },
     "execution_count": 8,
     "metadata": {},
     "output_type": "execute_result"
    }
   ],
   "source": [
    "df['Year_of_Release'].unique() # вывод уникальных значений столбца год выхода"
   ]
  },
  {
   "cell_type": "code",
   "execution_count": 9,
   "metadata": {},
   "outputs": [
    {
     "data": {
      "text/plain": [
       "2008.0    1427\n",
       "2009.0    1426\n",
       "2010.0    1255\n",
       "2007.0    1197\n",
       "2011.0    1136\n",
       "2006.0    1006\n",
       "2005.0     939\n",
       "2002.0     829\n",
       "2003.0     775\n",
       "2004.0     762\n",
       "2012.0     653\n",
       "2015.0     606\n",
       "2014.0     581\n",
       "2013.0     544\n",
       "2016.0     502\n",
       "2001.0     482\n",
       "1998.0     379\n",
       "2000.0     350\n",
       "1999.0     338\n",
       "1997.0     289\n",
       "1996.0     263\n",
       "1995.0     219\n",
       "1994.0     121\n",
       "1993.0      62\n",
       "1981.0      46\n",
       "1992.0      43\n",
       "1991.0      41\n",
       "1982.0      36\n",
       "1986.0      21\n",
       "1989.0      17\n",
       "1983.0      17\n",
       "1987.0      16\n",
       "1990.0      16\n",
       "1988.0      15\n",
       "1984.0      14\n",
       "1985.0      14\n",
       "1980.0       9\n",
       "Name: Year_of_Release, dtype: int64"
      ]
     },
     "execution_count": 9,
     "metadata": {},
     "output_type": "execute_result"
    }
   ],
   "source": [
    "df['Year_of_Release'].value_counts() # вывод количества уникальных значений столбца год выхода"
   ]
  },
  {
   "cell_type": "markdown",
   "metadata": {},
   "source": [
    "Больше всего игр вышло в 2008 году, меньше всего, что логично, в 1980 году."
   ]
  },
  {
   "cell_type": "code",
   "execution_count": 10,
   "metadata": {},
   "outputs": [
    {
     "data": {
      "text/plain": [
       "array(['8', nan, '8.3', '8.5', '6.6', '8.4', '8.6', '7.7', '6.3', '7.4',\n",
       "       '8.2', '9', '7.9', '8.1', '8.7', '7.1', '3.4', '5.3', '4.8', '3.2',\n",
       "       '8.9', '6.4', '7.8', '7.5', '2.6', '7.2', '9.2', '7', '7.3', '4.3',\n",
       "       '7.6', '5.7', '5', '9.1', '6.5', 'tbd', '8.8', '6.9', '9.4', '6.8',\n",
       "       '6.1', '6.7', '5.4', '4', '4.9', '4.5', '9.3', '6.2', '4.2', '6',\n",
       "       '3.7', '4.1', '5.8', '5.6', '5.5', '4.4', '4.6', '5.9', '3.9',\n",
       "       '3.1', '2.9', '5.2', '3.3', '4.7', '5.1', '3.5', '2.5', '1.9', '3',\n",
       "       '2.7', '2.2', '2', '9.5', '2.1', '3.6', '2.8', '1.8', '3.8', '0',\n",
       "       '1.6', '9.6', '2.4', '1.7', '1.1', '0.3', '1.5', '0.7', '1.2',\n",
       "       '2.3', '0.5', '1.3', '0.2', '0.6', '1.4', '0.9', '1', '9.7'],\n",
       "      dtype=object)"
      ]
     },
     "execution_count": 10,
     "metadata": {},
     "output_type": "execute_result"
    }
   ],
   "source": [
    "df['User_Score'].unique() #уникальные оценки пользователей, есть оценка О, a также tbd."
   ]
  },
  {
   "cell_type": "markdown",
   "metadata": {},
   "source": [
    "Есть оценка О, следовательно пропущенные значения не получиться заменить на 0."
   ]
  },
  {
   "cell_type": "markdown",
   "metadata": {},
   "source": [
    "**1. Вывод**"
   ]
  },
  {
   "cell_type": "markdown",
   "metadata": {},
   "source": [
    "1. Таблица содержит данные о компьютерных играх.\n",
    "2. Большое количество пропусков в столбцах с оценками пользователей и критиков, а также с рейтингом огрганизации ESRB.\n",
    "3. Также необходимо привести названия столбцов к нижнему регистру, и поменять тип данных в столбце год релиза."
   ]
  },
  {
   "cell_type": "markdown",
   "metadata": {},
   "source": [
    "**2. Подготовка данных**"
   ]
  },
  {
   "cell_type": "markdown",
   "metadata": {},
   "source": [
    "1. Поменяем регистр в названиях столбцов на нижний."
   ]
  },
  {
   "cell_type": "code",
   "execution_count": 11,
   "metadata": {},
   "outputs": [],
   "source": [
    "df.columns = df.columns.str.lower() # перевод регистра названий столбцов"
   ]
  },
  {
   "cell_type": "code",
   "execution_count": 12,
   "metadata": {
    "scrolled": true
   },
   "outputs": [
    {
     "data": {
      "text/html": [
       "<div>\n",
       "<style scoped>\n",
       "    .dataframe tbody tr th:only-of-type {\n",
       "        vertical-align: middle;\n",
       "    }\n",
       "\n",
       "    .dataframe tbody tr th {\n",
       "        vertical-align: top;\n",
       "    }\n",
       "\n",
       "    .dataframe thead th {\n",
       "        text-align: right;\n",
       "    }\n",
       "</style>\n",
       "<table border=\"1\" class=\"dataframe\">\n",
       "  <thead>\n",
       "    <tr style=\"text-align: right;\">\n",
       "      <th></th>\n",
       "      <th>name</th>\n",
       "      <th>platform</th>\n",
       "      <th>year_of_release</th>\n",
       "      <th>genre</th>\n",
       "      <th>na_sales</th>\n",
       "      <th>eu_sales</th>\n",
       "      <th>jp_sales</th>\n",
       "      <th>other_sales</th>\n",
       "      <th>critic_score</th>\n",
       "      <th>user_score</th>\n",
       "      <th>rating</th>\n",
       "    </tr>\n",
       "  </thead>\n",
       "  <tbody>\n",
       "    <tr>\n",
       "      <th>0</th>\n",
       "      <td>Wii Sports</td>\n",
       "      <td>Wii</td>\n",
       "      <td>2006.0</td>\n",
       "      <td>Sports</td>\n",
       "      <td>41.36</td>\n",
       "      <td>28.96</td>\n",
       "      <td>3.77</td>\n",
       "      <td>8.45</td>\n",
       "      <td>76.0</td>\n",
       "      <td>8</td>\n",
       "      <td>E</td>\n",
       "    </tr>\n",
       "    <tr>\n",
       "      <th>1</th>\n",
       "      <td>Super Mario Bros.</td>\n",
       "      <td>NES</td>\n",
       "      <td>1985.0</td>\n",
       "      <td>Platform</td>\n",
       "      <td>29.08</td>\n",
       "      <td>3.58</td>\n",
       "      <td>6.81</td>\n",
       "      <td>0.77</td>\n",
       "      <td>NaN</td>\n",
       "      <td>NaN</td>\n",
       "      <td>NaN</td>\n",
       "    </tr>\n",
       "    <tr>\n",
       "      <th>2</th>\n",
       "      <td>Mario Kart Wii</td>\n",
       "      <td>Wii</td>\n",
       "      <td>2008.0</td>\n",
       "      <td>Racing</td>\n",
       "      <td>15.68</td>\n",
       "      <td>12.76</td>\n",
       "      <td>3.79</td>\n",
       "      <td>3.29</td>\n",
       "      <td>82.0</td>\n",
       "      <td>8.3</td>\n",
       "      <td>E</td>\n",
       "    </tr>\n",
       "    <tr>\n",
       "      <th>3</th>\n",
       "      <td>Wii Sports Resort</td>\n",
       "      <td>Wii</td>\n",
       "      <td>2009.0</td>\n",
       "      <td>Sports</td>\n",
       "      <td>15.61</td>\n",
       "      <td>10.93</td>\n",
       "      <td>3.28</td>\n",
       "      <td>2.95</td>\n",
       "      <td>80.0</td>\n",
       "      <td>8</td>\n",
       "      <td>E</td>\n",
       "    </tr>\n",
       "    <tr>\n",
       "      <th>4</th>\n",
       "      <td>Pokemon Red/Pokemon Blue</td>\n",
       "      <td>GB</td>\n",
       "      <td>1996.0</td>\n",
       "      <td>Role-Playing</td>\n",
       "      <td>11.27</td>\n",
       "      <td>8.89</td>\n",
       "      <td>10.22</td>\n",
       "      <td>1.00</td>\n",
       "      <td>NaN</td>\n",
       "      <td>NaN</td>\n",
       "      <td>NaN</td>\n",
       "    </tr>\n",
       "  </tbody>\n",
       "</table>\n",
       "</div>"
      ],
      "text/plain": [
       "                       name platform  year_of_release         genre  na_sales  \\\n",
       "0                Wii Sports      Wii           2006.0        Sports     41.36   \n",
       "1         Super Mario Bros.      NES           1985.0      Platform     29.08   \n",
       "2            Mario Kart Wii      Wii           2008.0        Racing     15.68   \n",
       "3         Wii Sports Resort      Wii           2009.0        Sports     15.61   \n",
       "4  Pokemon Red/Pokemon Blue       GB           1996.0  Role-Playing     11.27   \n",
       "\n",
       "   eu_sales  jp_sales  other_sales  critic_score user_score rating  \n",
       "0     28.96      3.77         8.45          76.0          8      E  \n",
       "1      3.58      6.81         0.77           NaN        NaN    NaN  \n",
       "2     12.76      3.79         3.29          82.0        8.3      E  \n",
       "3     10.93      3.28         2.95          80.0          8      E  \n",
       "4      8.89     10.22         1.00           NaN        NaN    NaN  "
      ]
     },
     "execution_count": 12,
     "metadata": {},
     "output_type": "execute_result"
    }
   ],
   "source": [
    "df.head()"
   ]
  },
  {
   "cell_type": "markdown",
   "metadata": {},
   "source": [
    "2. Пропуски есть в столбцах name, year_of_release, genre, critic_score, user_score, rating.    "
   ]
  },
  {
   "cell_type": "code",
   "execution_count": 13,
   "metadata": {},
   "outputs": [
    {
     "data": {
      "text/plain": [
       "name                  2\n",
       "platform              0\n",
       "year_of_release     269\n",
       "genre                 2\n",
       "na_sales              0\n",
       "eu_sales              0\n",
       "jp_sales              0\n",
       "other_sales           0\n",
       "critic_score       8578\n",
       "user_score         6701\n",
       "rating             6766\n",
       "dtype: int64"
      ]
     },
     "execution_count": 13,
     "metadata": {},
     "output_type": "execute_result"
    }
   ],
   "source": [
    "df.isna().sum() # вывод количества пропусков"
   ]
  },
  {
   "cell_type": "markdown",
   "metadata": {},
   "source": [
    "Строки с пропущенными значениями name и genre удалим, так как заполнить пропуски здесь не представляется возможным."
   ]
  },
  {
   "cell_type": "code",
   "execution_count": 14,
   "metadata": {},
   "outputs": [],
   "source": [
    "df = df.dropna(subset = ['name', 'genre']) #удаление двух пропущенных строк с пропущенными значениями в колонках имя и жанр"
   ]
  },
  {
   "cell_type": "markdown",
   "metadata": {},
   "source": [
    "Заменим пропущенные значения и 'tbd' в оценке пользователей на значение -1, так как если мы заменим медианной или средним значение, то это может повлиять на результаты проверки гипотез и оценки зависимостей продаж от оценок пользователей и критиков."
   ]
  },
  {
   "cell_type": "code",
   "execution_count": 15,
   "metadata": {},
   "outputs": [
    {
     "name": "stderr",
     "output_type": "stream",
     "text": [
      "/tmp/ipykernel_91/483410910.py:1: SettingWithCopyWarning: \n",
      "A value is trying to be set on a copy of a slice from a DataFrame.\n",
      "Try using .loc[row_indexer,col_indexer] = value instead\n",
      "\n",
      "See the caveats in the documentation: https://pandas.pydata.org/pandas-docs/stable/user_guide/indexing.html#returning-a-view-versus-a-copy\n",
      "  df['user_score'] = df['user_score'].fillna(-1)  #замена пропусков на -1\n"
     ]
    }
   ],
   "source": [
    "df['user_score'] = df['user_score'].fillna(-1)  #замена пропусков на -1"
   ]
  },
  {
   "cell_type": "code",
   "execution_count": 16,
   "metadata": {},
   "outputs": [
    {
     "name": "stderr",
     "output_type": "stream",
     "text": [
      "/tmp/ipykernel_91/2442428673.py:1: SettingWithCopyWarning: \n",
      "A value is trying to be set on a copy of a slice from a DataFrame.\n",
      "Try using .loc[row_indexer,col_indexer] = value instead\n",
      "\n",
      "See the caveats in the documentation: https://pandas.pydata.org/pandas-docs/stable/user_guide/indexing.html#returning-a-view-versus-a-copy\n",
      "  df['user_score'] = df['user_score'].replace('tbd', -1) #замена значения 'tbd' на -1\n"
     ]
    }
   ],
   "source": [
    "df['user_score'] = df['user_score'].replace('tbd', -1) #замена значения 'tbd' на -1"
   ]
  },
  {
   "cell_type": "code",
   "execution_count": 17,
   "metadata": {},
   "outputs": [
    {
     "name": "stderr",
     "output_type": "stream",
     "text": [
      "/tmp/ipykernel_91/880548739.py:1: SettingWithCopyWarning: \n",
      "A value is trying to be set on a copy of a slice from a DataFrame.\n",
      "Try using .loc[row_indexer,col_indexer] = value instead\n",
      "\n",
      "See the caveats in the documentation: https://pandas.pydata.org/pandas-docs/stable/user_guide/indexing.html#returning-a-view-versus-a-copy\n",
      "  df['user_score'] = df['user_score'].astype('float32')# перевод значений в тип данных float\n"
     ]
    }
   ],
   "source": [
    "df['user_score'] = df['user_score'].astype('float32')# перевод значений в тип данных float"
   ]
  },
  {
   "cell_type": "markdown",
   "metadata": {},
   "source": [
    "Так же заменю пропущенные значения на -1 в оценке критиков и рейтинге."
   ]
  },
  {
   "cell_type": "code",
   "execution_count": 18,
   "metadata": {},
   "outputs": [
    {
     "name": "stderr",
     "output_type": "stream",
     "text": [
      "/tmp/ipykernel_91/1247995449.py:1: SettingWithCopyWarning: \n",
      "A value is trying to be set on a copy of a slice from a DataFrame.\n",
      "Try using .loc[row_indexer,col_indexer] = value instead\n",
      "\n",
      "See the caveats in the documentation: https://pandas.pydata.org/pandas-docs/stable/user_guide/indexing.html#returning-a-view-versus-a-copy\n",
      "  df['rating'] = df['rating'].fillna(-1) #замена пропусков на -1\n"
     ]
    }
   ],
   "source": [
    "df['rating'] = df['rating'].fillna(-1) #замена пропусков на -1"
   ]
  },
  {
   "cell_type": "code",
   "execution_count": 19,
   "metadata": {},
   "outputs": [
    {
     "name": "stderr",
     "output_type": "stream",
     "text": [
      "/tmp/ipykernel_91/207207207.py:1: SettingWithCopyWarning: \n",
      "A value is trying to be set on a copy of a slice from a DataFrame.\n",
      "Try using .loc[row_indexer,col_indexer] = value instead\n",
      "\n",
      "See the caveats in the documentation: https://pandas.pydata.org/pandas-docs/stable/user_guide/indexing.html#returning-a-view-versus-a-copy\n",
      "  df['critic_score'] = df['critic_score'].fillna(-1) # замена пропусков на -1\n"
     ]
    }
   ],
   "source": [
    "df['critic_score'] = df['critic_score'].fillna(-1) # замена пропусков на -1"
   ]
  },
  {
   "cell_type": "markdown",
   "metadata": {},
   "source": [
    "Заменим пропуски в столбце 'год выхода'."
   ]
  },
  {
   "cell_type": "markdown",
   "metadata": {},
   "source": [
    "С помощью transform найдем значение среднего года для одинаковых игр с разных платформ и заменим им пропуски."
   ]
  },
  {
   "cell_type": "code",
   "execution_count": 20,
   "metadata": {},
   "outputs": [
    {
     "name": "stderr",
     "output_type": "stream",
     "text": [
      "/tmp/ipykernel_91/2509468132.py:2: SettingWithCopyWarning: \n",
      "A value is trying to be set on a copy of a slice from a DataFrame.\n",
      "Try using .loc[row_indexer,col_indexer] = value instead\n",
      "\n",
      "See the caveats in the documentation: https://pandas.pydata.org/pandas-docs/stable/user_guide/indexing.html#returning-a-view-versus-a-copy\n",
      "  df['year_of_release'] = df['year_of_release'].fillna(df_transformed)\n"
     ]
    }
   ],
   "source": [
    "df_transformed = df.groupby('name')['year_of_release'].transform('mean')\n",
    "df['year_of_release'] = df['year_of_release'].fillna(df_transformed)"
   ]
  },
  {
   "cell_type": "code",
   "execution_count": 21,
   "metadata": {},
   "outputs": [
    {
     "data": {
      "text/plain": [
       "146"
      ]
     },
     "execution_count": 21,
     "metadata": {},
     "output_type": "execute_result"
    }
   ],
   "source": [
    "df['year_of_release'].isna().sum()"
   ]
  },
  {
   "cell_type": "markdown",
   "metadata": {},
   "source": [
    "Также с помощью transform заполним остальные пропуски медианным годом по каждой платформе."
   ]
  },
  {
   "cell_type": "code",
   "execution_count": 22,
   "metadata": {},
   "outputs": [],
   "source": [
    "#df_transformed_median = df.groupby('platform')['year_of_release'].transform('median')\n",
    "#df['year_of_release'] = df['year_of_release'].fillna(df_transformed_median)"
   ]
  },
  {
   "cell_type": "code",
   "execution_count": 23,
   "metadata": {},
   "outputs": [],
   "source": [
    "df = df.dropna(subset = ['year_of_release']) #удаление строк с пропущенными значениями в колонке год релиза"
   ]
  },
  {
   "cell_type": "code",
   "execution_count": 24,
   "metadata": {},
   "outputs": [
    {
     "data": {
      "text/plain": [
       "0"
      ]
     },
     "execution_count": 24,
     "metadata": {},
     "output_type": "execute_result"
    }
   ],
   "source": [
    "df['year_of_release'].isna().sum()"
   ]
  },
  {
   "cell_type": "markdown",
   "metadata": {},
   "source": [
    "3. Заменим тип данных в столбце year_of_release на тип int"
   ]
  },
  {
   "cell_type": "code",
   "execution_count": 25,
   "metadata": {},
   "outputs": [],
   "source": [
    "df['year_of_release'] = df['year_of_release'].astype('int')"
   ]
  },
  {
   "cell_type": "code",
   "execution_count": 26,
   "metadata": {},
   "outputs": [
    {
     "data": {
      "text/html": [
       "<div>\n",
       "<style scoped>\n",
       "    .dataframe tbody tr th:only-of-type {\n",
       "        vertical-align: middle;\n",
       "    }\n",
       "\n",
       "    .dataframe tbody tr th {\n",
       "        vertical-align: top;\n",
       "    }\n",
       "\n",
       "    .dataframe thead th {\n",
       "        text-align: right;\n",
       "    }\n",
       "</style>\n",
       "<table border=\"1\" class=\"dataframe\">\n",
       "  <thead>\n",
       "    <tr style=\"text-align: right;\">\n",
       "      <th></th>\n",
       "      <th>name</th>\n",
       "      <th>platform</th>\n",
       "      <th>year_of_release</th>\n",
       "      <th>genre</th>\n",
       "      <th>na_sales</th>\n",
       "      <th>eu_sales</th>\n",
       "      <th>jp_sales</th>\n",
       "      <th>other_sales</th>\n",
       "      <th>critic_score</th>\n",
       "      <th>user_score</th>\n",
       "      <th>rating</th>\n",
       "    </tr>\n",
       "  </thead>\n",
       "  <tbody>\n",
       "    <tr>\n",
       "      <th>0</th>\n",
       "      <td>Wii Sports</td>\n",
       "      <td>Wii</td>\n",
       "      <td>2006</td>\n",
       "      <td>Sports</td>\n",
       "      <td>41.36</td>\n",
       "      <td>28.96</td>\n",
       "      <td>3.77</td>\n",
       "      <td>8.45</td>\n",
       "      <td>76.0</td>\n",
       "      <td>8.0</td>\n",
       "      <td>E</td>\n",
       "    </tr>\n",
       "    <tr>\n",
       "      <th>1</th>\n",
       "      <td>Super Mario Bros.</td>\n",
       "      <td>NES</td>\n",
       "      <td>1985</td>\n",
       "      <td>Platform</td>\n",
       "      <td>29.08</td>\n",
       "      <td>3.58</td>\n",
       "      <td>6.81</td>\n",
       "      <td>0.77</td>\n",
       "      <td>-1.0</td>\n",
       "      <td>-1.0</td>\n",
       "      <td>-1</td>\n",
       "    </tr>\n",
       "    <tr>\n",
       "      <th>2</th>\n",
       "      <td>Mario Kart Wii</td>\n",
       "      <td>Wii</td>\n",
       "      <td>2008</td>\n",
       "      <td>Racing</td>\n",
       "      <td>15.68</td>\n",
       "      <td>12.76</td>\n",
       "      <td>3.79</td>\n",
       "      <td>3.29</td>\n",
       "      <td>82.0</td>\n",
       "      <td>8.3</td>\n",
       "      <td>E</td>\n",
       "    </tr>\n",
       "    <tr>\n",
       "      <th>3</th>\n",
       "      <td>Wii Sports Resort</td>\n",
       "      <td>Wii</td>\n",
       "      <td>2009</td>\n",
       "      <td>Sports</td>\n",
       "      <td>15.61</td>\n",
       "      <td>10.93</td>\n",
       "      <td>3.28</td>\n",
       "      <td>2.95</td>\n",
       "      <td>80.0</td>\n",
       "      <td>8.0</td>\n",
       "      <td>E</td>\n",
       "    </tr>\n",
       "    <tr>\n",
       "      <th>4</th>\n",
       "      <td>Pokemon Red/Pokemon Blue</td>\n",
       "      <td>GB</td>\n",
       "      <td>1996</td>\n",
       "      <td>Role-Playing</td>\n",
       "      <td>11.27</td>\n",
       "      <td>8.89</td>\n",
       "      <td>10.22</td>\n",
       "      <td>1.00</td>\n",
       "      <td>-1.0</td>\n",
       "      <td>-1.0</td>\n",
       "      <td>-1</td>\n",
       "    </tr>\n",
       "  </tbody>\n",
       "</table>\n",
       "</div>"
      ],
      "text/plain": [
       "                       name platform  year_of_release         genre  na_sales  \\\n",
       "0                Wii Sports      Wii             2006        Sports     41.36   \n",
       "1         Super Mario Bros.      NES             1985      Platform     29.08   \n",
       "2            Mario Kart Wii      Wii             2008        Racing     15.68   \n",
       "3         Wii Sports Resort      Wii             2009        Sports     15.61   \n",
       "4  Pokemon Red/Pokemon Blue       GB             1996  Role-Playing     11.27   \n",
       "\n",
       "   eu_sales  jp_sales  other_sales  critic_score  user_score rating  \n",
       "0     28.96      3.77         8.45          76.0         8.0      E  \n",
       "1      3.58      6.81         0.77          -1.0        -1.0     -1  \n",
       "2     12.76      3.79         3.29          82.0         8.3      E  \n",
       "3     10.93      3.28         2.95          80.0         8.0      E  \n",
       "4      8.89     10.22         1.00          -1.0        -1.0     -1  "
      ]
     },
     "execution_count": 26,
     "metadata": {},
     "output_type": "execute_result"
    }
   ],
   "source": [
    "df.head()"
   ]
  },
  {
   "cell_type": "markdown",
   "metadata": {},
   "source": [
    "4. Добавим столбец с суммой продаж"
   ]
  },
  {
   "cell_type": "code",
   "execution_count": 27,
   "metadata": {},
   "outputs": [],
   "source": [
    "df['sum_sale'] = df['na_sales'] + df['eu_sales'] + df['jp_sales'] + df['other_sales']"
   ]
  },
  {
   "cell_type": "code",
   "execution_count": 28,
   "metadata": {},
   "outputs": [
    {
     "data": {
      "text/html": [
       "<div>\n",
       "<style scoped>\n",
       "    .dataframe tbody tr th:only-of-type {\n",
       "        vertical-align: middle;\n",
       "    }\n",
       "\n",
       "    .dataframe tbody tr th {\n",
       "        vertical-align: top;\n",
       "    }\n",
       "\n",
       "    .dataframe thead th {\n",
       "        text-align: right;\n",
       "    }\n",
       "</style>\n",
       "<table border=\"1\" class=\"dataframe\">\n",
       "  <thead>\n",
       "    <tr style=\"text-align: right;\">\n",
       "      <th></th>\n",
       "      <th>name</th>\n",
       "      <th>platform</th>\n",
       "      <th>year_of_release</th>\n",
       "      <th>genre</th>\n",
       "      <th>na_sales</th>\n",
       "      <th>eu_sales</th>\n",
       "      <th>jp_sales</th>\n",
       "      <th>other_sales</th>\n",
       "      <th>critic_score</th>\n",
       "      <th>user_score</th>\n",
       "      <th>rating</th>\n",
       "      <th>sum_sale</th>\n",
       "    </tr>\n",
       "  </thead>\n",
       "  <tbody>\n",
       "    <tr>\n",
       "      <th>0</th>\n",
       "      <td>Wii Sports</td>\n",
       "      <td>Wii</td>\n",
       "      <td>2006</td>\n",
       "      <td>Sports</td>\n",
       "      <td>41.36</td>\n",
       "      <td>28.96</td>\n",
       "      <td>3.77</td>\n",
       "      <td>8.45</td>\n",
       "      <td>76.0</td>\n",
       "      <td>8.0</td>\n",
       "      <td>E</td>\n",
       "      <td>82.54</td>\n",
       "    </tr>\n",
       "    <tr>\n",
       "      <th>1</th>\n",
       "      <td>Super Mario Bros.</td>\n",
       "      <td>NES</td>\n",
       "      <td>1985</td>\n",
       "      <td>Platform</td>\n",
       "      <td>29.08</td>\n",
       "      <td>3.58</td>\n",
       "      <td>6.81</td>\n",
       "      <td>0.77</td>\n",
       "      <td>-1.0</td>\n",
       "      <td>-1.0</td>\n",
       "      <td>-1</td>\n",
       "      <td>40.24</td>\n",
       "    </tr>\n",
       "    <tr>\n",
       "      <th>2</th>\n",
       "      <td>Mario Kart Wii</td>\n",
       "      <td>Wii</td>\n",
       "      <td>2008</td>\n",
       "      <td>Racing</td>\n",
       "      <td>15.68</td>\n",
       "      <td>12.76</td>\n",
       "      <td>3.79</td>\n",
       "      <td>3.29</td>\n",
       "      <td>82.0</td>\n",
       "      <td>8.3</td>\n",
       "      <td>E</td>\n",
       "      <td>35.52</td>\n",
       "    </tr>\n",
       "    <tr>\n",
       "      <th>3</th>\n",
       "      <td>Wii Sports Resort</td>\n",
       "      <td>Wii</td>\n",
       "      <td>2009</td>\n",
       "      <td>Sports</td>\n",
       "      <td>15.61</td>\n",
       "      <td>10.93</td>\n",
       "      <td>3.28</td>\n",
       "      <td>2.95</td>\n",
       "      <td>80.0</td>\n",
       "      <td>8.0</td>\n",
       "      <td>E</td>\n",
       "      <td>32.77</td>\n",
       "    </tr>\n",
       "    <tr>\n",
       "      <th>4</th>\n",
       "      <td>Pokemon Red/Pokemon Blue</td>\n",
       "      <td>GB</td>\n",
       "      <td>1996</td>\n",
       "      <td>Role-Playing</td>\n",
       "      <td>11.27</td>\n",
       "      <td>8.89</td>\n",
       "      <td>10.22</td>\n",
       "      <td>1.00</td>\n",
       "      <td>-1.0</td>\n",
       "      <td>-1.0</td>\n",
       "      <td>-1</td>\n",
       "      <td>31.38</td>\n",
       "    </tr>\n",
       "  </tbody>\n",
       "</table>\n",
       "</div>"
      ],
      "text/plain": [
       "                       name platform  year_of_release         genre  na_sales  \\\n",
       "0                Wii Sports      Wii             2006        Sports     41.36   \n",
       "1         Super Mario Bros.      NES             1985      Platform     29.08   \n",
       "2            Mario Kart Wii      Wii             2008        Racing     15.68   \n",
       "3         Wii Sports Resort      Wii             2009        Sports     15.61   \n",
       "4  Pokemon Red/Pokemon Blue       GB             1996  Role-Playing     11.27   \n",
       "\n",
       "   eu_sales  jp_sales  other_sales  critic_score  user_score rating  sum_sale  \n",
       "0     28.96      3.77         8.45          76.0         8.0      E     82.54  \n",
       "1      3.58      6.81         0.77          -1.0        -1.0     -1     40.24  \n",
       "2     12.76      3.79         3.29          82.0         8.3      E     35.52  \n",
       "3     10.93      3.28         2.95          80.0         8.0      E     32.77  \n",
       "4      8.89     10.22         1.00          -1.0        -1.0     -1     31.38  "
      ]
     },
     "execution_count": 28,
     "metadata": {},
     "output_type": "execute_result"
    }
   ],
   "source": [
    "df.head()"
   ]
  },
  {
   "cell_type": "code",
   "execution_count": 29,
   "metadata": {},
   "outputs": [
    {
     "name": "stdout",
     "output_type": "stream",
     "text": [
      "<class 'pandas.core.frame.DataFrame'>\n",
      "Int64Index: 16567 entries, 0 to 16714\n",
      "Data columns (total 12 columns):\n",
      " #   Column           Non-Null Count  Dtype  \n",
      "---  ------           --------------  -----  \n",
      " 0   name             16567 non-null  object \n",
      " 1   platform         16567 non-null  object \n",
      " 2   year_of_release  16567 non-null  int64  \n",
      " 3   genre            16567 non-null  object \n",
      " 4   na_sales         16567 non-null  float64\n",
      " 5   eu_sales         16567 non-null  float64\n",
      " 6   jp_sales         16567 non-null  float64\n",
      " 7   other_sales      16567 non-null  float64\n",
      " 8   critic_score     16567 non-null  float64\n",
      " 9   user_score       16567 non-null  float32\n",
      " 10  rating           16567 non-null  object \n",
      " 11  sum_sale         16567 non-null  float64\n",
      "dtypes: float32(1), float64(6), int64(1), object(4)\n",
      "memory usage: 1.6+ MB\n"
     ]
    }
   ],
   "source": [
    "df.info()"
   ]
  },
  {
   "cell_type": "code",
   "execution_count": 30,
   "metadata": {},
   "outputs": [
    {
     "data": {
      "text/plain": [
       "name               0\n",
       "platform           0\n",
       "year_of_release    0\n",
       "genre              0\n",
       "na_sales           0\n",
       "eu_sales           0\n",
       "jp_sales           0\n",
       "other_sales        0\n",
       "critic_score       0\n",
       "user_score         0\n",
       "rating             0\n",
       "sum_sale           0\n",
       "dtype: int64"
      ]
     },
     "execution_count": 30,
     "metadata": {},
     "output_type": "execute_result"
    }
   ],
   "source": [
    "df.isna().sum()"
   ]
  },
  {
   "cell_type": "markdown",
   "metadata": {},
   "source": [
    "**2. Вывод:**"
   ]
  },
  {
   "cell_type": "markdown",
   "metadata": {},
   "source": [
    "Преобразовали данные для дальнейшего исследования:\n",
    "1. Удалили две строки где были пропущены имя и жаннр игры в исходной таблицы.\n",
    "2. Заполнили пропуски в стоблце \"год релиза\" с помощью функции transform.\n",
    "3. Пропуски в оценке критиков, пользователей, в рейтинге я заполнила -1, так как считаю, что некорректно заполнить данные пропуски медианой, они могут повлиять на результаты исследования.\n"
   ]
  },
  {
   "cell_type": "markdown",
   "metadata": {},
   "source": [
    "**3. Исследовательский анализ данных**\n"
   ]
  },
  {
   "cell_type": "markdown",
   "metadata": {},
   "source": [
    "1. Построим график выпуска игр по годам."
   ]
  },
  {
   "cell_type": "code",
   "execution_count": 31,
   "metadata": {},
   "outputs": [],
   "source": [
    "game_count = df.groupby('year_of_release')['name'].count() # сгруппируем данные по годам и посчитаем количество игр, выпущенных за каждый год"
   ]
  },
  {
   "cell_type": "code",
   "execution_count": 32,
   "metadata": {},
   "outputs": [
    {
     "data": {
      "text/plain": [
       "<AxesSubplot:xlabel='year_of_release', ylabel='count_game'>"
      ]
     },
     "execution_count": 32,
     "metadata": {},
     "output_type": "execute_result"
    },
    {
     "data": {
      "image/png": "[encoded data removed]",
      "text/plain": [
       "<Figure size 432x288 with 1 Axes>"
      ]
     },
     "metadata": {
      "needs_background": "light"
     },
     "output_type": "display_data"
    }
   ],
   "source": [
    "game_count.plot(ylabel='count_game', kind='bar') #столбчатый график"
   ]
  },
  {
   "cell_type": "code",
   "execution_count": 33,
   "metadata": {},
   "outputs": [
    {
     "data": {
      "text/plain": [
       "count      37.000000\n",
       "mean      447.756757\n",
       "std       455.802918\n",
       "min         9.000000\n",
       "25%        36.000000\n",
       "50%       339.000000\n",
       "75%       764.000000\n",
       "max      1441.000000\n",
       "Name: name, dtype: float64"
      ]
     },
     "execution_count": 33,
     "metadata": {},
     "output_type": "execute_result"
    }
   ],
   "source": [
    "game_count.describe()"
   ]
  },
  {
   "cell_type": "markdown",
   "metadata": {},
   "source": [
    "Больше всего игр выпускалось с 2000 по 2016 годы."
   ]
  },
  {
   "cell_type": "markdown",
   "metadata": {},
   "source": [
    "Важны ли данные за все периоды?\n",
    "Определенно нет, так как с возрастанием количества выхода новых игр, и выходом новых жанров, настроений мира, меняются также предпочтения пользователей. Для того, чтобы выявить критерии игры, влияющие на успешность продаж в 2017, достаточно будет взять данные за последние 16 лет.\n"
   ]
  },
  {
   "cell_type": "markdown",
   "metadata": {},
   "source": [
    "2. Построим график распределения продаж по годам по разным платформам."
   ]
  },
  {
   "cell_type": "code",
   "execution_count": 34,
   "metadata": {},
   "outputs": [
    {
     "data": {
      "text/plain": [
       "<AxesSubplot:xlabel='year_of_release', ylabel='sum_sale'>"
      ]
     },
     "execution_count": 34,
     "metadata": {},
     "output_type": "execute_result"
    },
    {
     "data": {
      "image/png": "[encoded data removed]",
      "text/plain": [
       "<Figure size 432x288 with 1 Axes>"
      ]
     },
     "metadata": {
      "needs_background": "light"
     },
     "output_type": "display_data"
    }
   ],
   "source": [
    "df.plot(x='year_of_release', y = 'sum_sale', kind='scatter')"
   ]
  },
  {
   "cell_type": "markdown",
   "metadata": {},
   "source": [
    "По диаграмме рассеяния можно отметить что:\n",
    "1. к 2010 году продажи игр росли, затем к 2016 пошло снижение продаж.\n",
    "2. по выбросам на графике можно сказать, что к лидерам продаж можно отнести игры, суммарные продажи которых по всему миру преодолели планку 17 миллионов копий."
   ]
  },
  {
   "cell_type": "markdown",
   "metadata": {},
   "source": []
  },
  {
   "cell_type": "code",
   "execution_count": 35,
   "metadata": {},
   "outputs": [
    {
     "data": {
      "text/html": [
       "<div>\n",
       "<style scoped>\n",
       "    .dataframe tbody tr th:only-of-type {\n",
       "        vertical-align: middle;\n",
       "    }\n",
       "\n",
       "    .dataframe tbody tr th {\n",
       "        vertical-align: top;\n",
       "    }\n",
       "\n",
       "    .dataframe thead th {\n",
       "        text-align: right;\n",
       "    }\n",
       "</style>\n",
       "<table border=\"1\" class=\"dataframe\">\n",
       "  <thead>\n",
       "    <tr style=\"text-align: right;\">\n",
       "      <th></th>\n",
       "      <th>name</th>\n",
       "      <th>platform</th>\n",
       "      <th>year_of_release</th>\n",
       "      <th>genre</th>\n",
       "      <th>na_sales</th>\n",
       "      <th>eu_sales</th>\n",
       "      <th>jp_sales</th>\n",
       "      <th>other_sales</th>\n",
       "      <th>critic_score</th>\n",
       "      <th>user_score</th>\n",
       "      <th>rating</th>\n",
       "      <th>sum_sale</th>\n",
       "    </tr>\n",
       "  </thead>\n",
       "  <tbody>\n",
       "    <tr>\n",
       "      <th>0</th>\n",
       "      <td>Wii Sports</td>\n",
       "      <td>Wii</td>\n",
       "      <td>2006</td>\n",
       "      <td>Sports</td>\n",
       "      <td>41.36</td>\n",
       "      <td>28.96</td>\n",
       "      <td>3.77</td>\n",
       "      <td>8.45</td>\n",
       "      <td>76.0</td>\n",
       "      <td>8.0</td>\n",
       "      <td>E</td>\n",
       "      <td>82.54</td>\n",
       "    </tr>\n",
       "    <tr>\n",
       "      <th>1</th>\n",
       "      <td>Super Mario Bros.</td>\n",
       "      <td>NES</td>\n",
       "      <td>1985</td>\n",
       "      <td>Platform</td>\n",
       "      <td>29.08</td>\n",
       "      <td>3.58</td>\n",
       "      <td>6.81</td>\n",
       "      <td>0.77</td>\n",
       "      <td>-1.0</td>\n",
       "      <td>-1.0</td>\n",
       "      <td>-1</td>\n",
       "      <td>40.24</td>\n",
       "    </tr>\n",
       "    <tr>\n",
       "      <th>2</th>\n",
       "      <td>Mario Kart Wii</td>\n",
       "      <td>Wii</td>\n",
       "      <td>2008</td>\n",
       "      <td>Racing</td>\n",
       "      <td>15.68</td>\n",
       "      <td>12.76</td>\n",
       "      <td>3.79</td>\n",
       "      <td>3.29</td>\n",
       "      <td>82.0</td>\n",
       "      <td>8.3</td>\n",
       "      <td>E</td>\n",
       "      <td>35.52</td>\n",
       "    </tr>\n",
       "    <tr>\n",
       "      <th>3</th>\n",
       "      <td>Wii Sports Resort</td>\n",
       "      <td>Wii</td>\n",
       "      <td>2009</td>\n",
       "      <td>Sports</td>\n",
       "      <td>15.61</td>\n",
       "      <td>10.93</td>\n",
       "      <td>3.28</td>\n",
       "      <td>2.95</td>\n",
       "      <td>80.0</td>\n",
       "      <td>8.0</td>\n",
       "      <td>E</td>\n",
       "      <td>32.77</td>\n",
       "    </tr>\n",
       "    <tr>\n",
       "      <th>4</th>\n",
       "      <td>Pokemon Red/Pokemon Blue</td>\n",
       "      <td>GB</td>\n",
       "      <td>1996</td>\n",
       "      <td>Role-Playing</td>\n",
       "      <td>11.27</td>\n",
       "      <td>8.89</td>\n",
       "      <td>10.22</td>\n",
       "      <td>1.00</td>\n",
       "      <td>-1.0</td>\n",
       "      <td>-1.0</td>\n",
       "      <td>-1</td>\n",
       "      <td>31.38</td>\n",
       "    </tr>\n",
       "    <tr>\n",
       "      <th>5</th>\n",
       "      <td>Tetris</td>\n",
       "      <td>GB</td>\n",
       "      <td>1989</td>\n",
       "      <td>Puzzle</td>\n",
       "      <td>23.20</td>\n",
       "      <td>2.26</td>\n",
       "      <td>4.22</td>\n",
       "      <td>0.58</td>\n",
       "      <td>-1.0</td>\n",
       "      <td>-1.0</td>\n",
       "      <td>-1</td>\n",
       "      <td>30.26</td>\n",
       "    </tr>\n",
       "    <tr>\n",
       "      <th>6</th>\n",
       "      <td>New Super Mario Bros.</td>\n",
       "      <td>DS</td>\n",
       "      <td>2006</td>\n",
       "      <td>Platform</td>\n",
       "      <td>11.28</td>\n",
       "      <td>9.14</td>\n",
       "      <td>6.50</td>\n",
       "      <td>2.88</td>\n",
       "      <td>89.0</td>\n",
       "      <td>8.5</td>\n",
       "      <td>E</td>\n",
       "      <td>29.80</td>\n",
       "    </tr>\n",
       "    <tr>\n",
       "      <th>7</th>\n",
       "      <td>Wii Play</td>\n",
       "      <td>Wii</td>\n",
       "      <td>2006</td>\n",
       "      <td>Misc</td>\n",
       "      <td>13.96</td>\n",
       "      <td>9.18</td>\n",
       "      <td>2.93</td>\n",
       "      <td>2.84</td>\n",
       "      <td>58.0</td>\n",
       "      <td>6.6</td>\n",
       "      <td>E</td>\n",
       "      <td>28.91</td>\n",
       "    </tr>\n",
       "    <tr>\n",
       "      <th>8</th>\n",
       "      <td>New Super Mario Bros. Wii</td>\n",
       "      <td>Wii</td>\n",
       "      <td>2009</td>\n",
       "      <td>Platform</td>\n",
       "      <td>14.44</td>\n",
       "      <td>6.94</td>\n",
       "      <td>4.70</td>\n",
       "      <td>2.24</td>\n",
       "      <td>87.0</td>\n",
       "      <td>8.4</td>\n",
       "      <td>E</td>\n",
       "      <td>28.32</td>\n",
       "    </tr>\n",
       "    <tr>\n",
       "      <th>9</th>\n",
       "      <td>Duck Hunt</td>\n",
       "      <td>NES</td>\n",
       "      <td>1984</td>\n",
       "      <td>Shooter</td>\n",
       "      <td>26.93</td>\n",
       "      <td>0.63</td>\n",
       "      <td>0.28</td>\n",
       "      <td>0.47</td>\n",
       "      <td>-1.0</td>\n",
       "      <td>-1.0</td>\n",
       "      <td>-1</td>\n",
       "      <td>28.31</td>\n",
       "    </tr>\n",
       "    <tr>\n",
       "      <th>10</th>\n",
       "      <td>Nintendogs</td>\n",
       "      <td>DS</td>\n",
       "      <td>2005</td>\n",
       "      <td>Simulation</td>\n",
       "      <td>9.05</td>\n",
       "      <td>10.95</td>\n",
       "      <td>1.93</td>\n",
       "      <td>2.74</td>\n",
       "      <td>-1.0</td>\n",
       "      <td>-1.0</td>\n",
       "      <td>-1</td>\n",
       "      <td>24.67</td>\n",
       "    </tr>\n",
       "    <tr>\n",
       "      <th>11</th>\n",
       "      <td>Mario Kart DS</td>\n",
       "      <td>DS</td>\n",
       "      <td>2005</td>\n",
       "      <td>Racing</td>\n",
       "      <td>9.71</td>\n",
       "      <td>7.47</td>\n",
       "      <td>4.13</td>\n",
       "      <td>1.90</td>\n",
       "      <td>91.0</td>\n",
       "      <td>8.6</td>\n",
       "      <td>E</td>\n",
       "      <td>23.21</td>\n",
       "    </tr>\n",
       "    <tr>\n",
       "      <th>12</th>\n",
       "      <td>Pokemon Gold/Pokemon Silver</td>\n",
       "      <td>GB</td>\n",
       "      <td>1999</td>\n",
       "      <td>Role-Playing</td>\n",
       "      <td>9.00</td>\n",
       "      <td>6.18</td>\n",
       "      <td>7.20</td>\n",
       "      <td>0.71</td>\n",
       "      <td>-1.0</td>\n",
       "      <td>-1.0</td>\n",
       "      <td>-1</td>\n",
       "      <td>23.09</td>\n",
       "    </tr>\n",
       "    <tr>\n",
       "      <th>13</th>\n",
       "      <td>Wii Fit</td>\n",
       "      <td>Wii</td>\n",
       "      <td>2007</td>\n",
       "      <td>Sports</td>\n",
       "      <td>8.92</td>\n",
       "      <td>8.03</td>\n",
       "      <td>3.60</td>\n",
       "      <td>2.15</td>\n",
       "      <td>80.0</td>\n",
       "      <td>7.7</td>\n",
       "      <td>E</td>\n",
       "      <td>22.70</td>\n",
       "    </tr>\n",
       "    <tr>\n",
       "      <th>14</th>\n",
       "      <td>Kinect Adventures!</td>\n",
       "      <td>X360</td>\n",
       "      <td>2010</td>\n",
       "      <td>Misc</td>\n",
       "      <td>15.00</td>\n",
       "      <td>4.89</td>\n",
       "      <td>0.24</td>\n",
       "      <td>1.69</td>\n",
       "      <td>61.0</td>\n",
       "      <td>6.3</td>\n",
       "      <td>E</td>\n",
       "      <td>21.82</td>\n",
       "    </tr>\n",
       "    <tr>\n",
       "      <th>15</th>\n",
       "      <td>Wii Fit Plus</td>\n",
       "      <td>Wii</td>\n",
       "      <td>2009</td>\n",
       "      <td>Sports</td>\n",
       "      <td>9.01</td>\n",
       "      <td>8.49</td>\n",
       "      <td>2.53</td>\n",
       "      <td>1.77</td>\n",
       "      <td>80.0</td>\n",
       "      <td>7.4</td>\n",
       "      <td>E</td>\n",
       "      <td>21.80</td>\n",
       "    </tr>\n",
       "    <tr>\n",
       "      <th>16</th>\n",
       "      <td>Grand Theft Auto V</td>\n",
       "      <td>PS3</td>\n",
       "      <td>2013</td>\n",
       "      <td>Action</td>\n",
       "      <td>7.02</td>\n",
       "      <td>9.09</td>\n",
       "      <td>0.98</td>\n",
       "      <td>3.96</td>\n",
       "      <td>97.0</td>\n",
       "      <td>8.2</td>\n",
       "      <td>M</td>\n",
       "      <td>21.05</td>\n",
       "    </tr>\n",
       "    <tr>\n",
       "      <th>17</th>\n",
       "      <td>Grand Theft Auto: San Andreas</td>\n",
       "      <td>PS2</td>\n",
       "      <td>2004</td>\n",
       "      <td>Action</td>\n",
       "      <td>9.43</td>\n",
       "      <td>0.40</td>\n",
       "      <td>0.41</td>\n",
       "      <td>10.57</td>\n",
       "      <td>95.0</td>\n",
       "      <td>9.0</td>\n",
       "      <td>M</td>\n",
       "      <td>20.81</td>\n",
       "    </tr>\n",
       "    <tr>\n",
       "      <th>18</th>\n",
       "      <td>Super Mario World</td>\n",
       "      <td>SNES</td>\n",
       "      <td>1990</td>\n",
       "      <td>Platform</td>\n",
       "      <td>12.78</td>\n",
       "      <td>3.75</td>\n",
       "      <td>3.54</td>\n",
       "      <td>0.55</td>\n",
       "      <td>-1.0</td>\n",
       "      <td>-1.0</td>\n",
       "      <td>-1</td>\n",
       "      <td>20.62</td>\n",
       "    </tr>\n",
       "    <tr>\n",
       "      <th>19</th>\n",
       "      <td>Brain Age: Train Your Brain in Minutes a Day</td>\n",
       "      <td>DS</td>\n",
       "      <td>2005</td>\n",
       "      <td>Misc</td>\n",
       "      <td>4.74</td>\n",
       "      <td>9.20</td>\n",
       "      <td>4.16</td>\n",
       "      <td>2.04</td>\n",
       "      <td>77.0</td>\n",
       "      <td>7.9</td>\n",
       "      <td>E</td>\n",
       "      <td>20.14</td>\n",
       "    </tr>\n",
       "    <tr>\n",
       "      <th>20</th>\n",
       "      <td>Pokemon Diamond/Pokemon Pearl</td>\n",
       "      <td>DS</td>\n",
       "      <td>2006</td>\n",
       "      <td>Role-Playing</td>\n",
       "      <td>6.38</td>\n",
       "      <td>4.46</td>\n",
       "      <td>6.04</td>\n",
       "      <td>1.36</td>\n",
       "      <td>-1.0</td>\n",
       "      <td>-1.0</td>\n",
       "      <td>-1</td>\n",
       "      <td>18.24</td>\n",
       "    </tr>\n",
       "    <tr>\n",
       "      <th>21</th>\n",
       "      <td>Super Mario Land</td>\n",
       "      <td>GB</td>\n",
       "      <td>1989</td>\n",
       "      <td>Platform</td>\n",
       "      <td>10.83</td>\n",
       "      <td>2.71</td>\n",
       "      <td>4.18</td>\n",
       "      <td>0.42</td>\n",
       "      <td>-1.0</td>\n",
       "      <td>-1.0</td>\n",
       "      <td>-1</td>\n",
       "      <td>18.14</td>\n",
       "    </tr>\n",
       "    <tr>\n",
       "      <th>22</th>\n",
       "      <td>Super Mario Bros. 3</td>\n",
       "      <td>NES</td>\n",
       "      <td>1988</td>\n",
       "      <td>Platform</td>\n",
       "      <td>9.54</td>\n",
       "      <td>3.44</td>\n",
       "      <td>3.84</td>\n",
       "      <td>0.46</td>\n",
       "      <td>-1.0</td>\n",
       "      <td>-1.0</td>\n",
       "      <td>-1</td>\n",
       "      <td>17.28</td>\n",
       "    </tr>\n",
       "  </tbody>\n",
       "</table>\n",
       "</div>"
      ],
      "text/plain": [
       "                                            name platform  year_of_release  \\\n",
       "0                                     Wii Sports      Wii             2006   \n",
       "1                              Super Mario Bros.      NES             1985   \n",
       "2                                 Mario Kart Wii      Wii             2008   \n",
       "3                              Wii Sports Resort      Wii             2009   \n",
       "4                       Pokemon Red/Pokemon Blue       GB             1996   \n",
       "5                                         Tetris       GB             1989   \n",
       "6                          New Super Mario Bros.       DS             2006   \n",
       "7                                       Wii Play      Wii             2006   \n",
       "8                      New Super Mario Bros. Wii      Wii             2009   \n",
       "9                                      Duck Hunt      NES             1984   \n",
       "10                                    Nintendogs       DS             2005   \n",
       "11                                 Mario Kart DS       DS             2005   \n",
       "12                   Pokemon Gold/Pokemon Silver       GB             1999   \n",
       "13                                       Wii Fit      Wii             2007   \n",
       "14                            Kinect Adventures!     X360             2010   \n",
       "15                                  Wii Fit Plus      Wii             2009   \n",
       "16                            Grand Theft Auto V      PS3             2013   \n",
       "17                 Grand Theft Auto: San Andreas      PS2             2004   \n",
       "18                             Super Mario World     SNES             1990   \n",
       "19  Brain Age: Train Your Brain in Minutes a Day       DS             2005   \n",
       "20                 Pokemon Diamond/Pokemon Pearl       DS             2006   \n",
       "21                              Super Mario Land       GB             1989   \n",
       "22                           Super Mario Bros. 3      NES             1988   \n",
       "\n",
       "           genre  na_sales  eu_sales  jp_sales  other_sales  critic_score  \\\n",
       "0         Sports     41.36     28.96      3.77         8.45          76.0   \n",
       "1       Platform     29.08      3.58      6.81         0.77          -1.0   \n",
       "2         Racing     15.68     12.76      3.79         3.29          82.0   \n",
       "3         Sports     15.61     10.93      3.28         2.95          80.0   \n",
       "4   Role-Playing     11.27      8.89     10.22         1.00          -1.0   \n",
       "5         Puzzle     23.20      2.26      4.22         0.58          -1.0   \n",
       "6       Platform     11.28      9.14      6.50         2.88          89.0   \n",
       "7           Misc     13.96      9.18      2.93         2.84          58.0   \n",
       "8       Platform     14.44      6.94      4.70         2.24          87.0   \n",
       "9        Shooter     26.93      0.63      0.28         0.47          -1.0   \n",
       "10    Simulation      9.05     10.95      1.93         2.74          -1.0   \n",
       "11        Racing      9.71      7.47      4.13         1.90          91.0   \n",
       "12  Role-Playing      9.00      6.18      7.20         0.71          -1.0   \n",
       "13        Sports      8.92      8.03      3.60         2.15          80.0   \n",
       "14          Misc     15.00      4.89      0.24         1.69          61.0   \n",
       "15        Sports      9.01      8.49      2.53         1.77          80.0   \n",
       "16        Action      7.02      9.09      0.98         3.96          97.0   \n",
       "17        Action      9.43      0.40      0.41        10.57          95.0   \n",
       "18      Platform     12.78      3.75      3.54         0.55          -1.0   \n",
       "19          Misc      4.74      9.20      4.16         2.04          77.0   \n",
       "20  Role-Playing      6.38      4.46      6.04         1.36          -1.0   \n",
       "21      Platform     10.83      2.71      4.18         0.42          -1.0   \n",
       "22      Platform      9.54      3.44      3.84         0.46          -1.0   \n",
       "\n",
       "    user_score rating  sum_sale  \n",
       "0          8.0      E     82.54  \n",
       "1         -1.0     -1     40.24  \n",
       "2          8.3      E     35.52  \n",
       "3          8.0      E     32.77  \n",
       "4         -1.0     -1     31.38  \n",
       "5         -1.0     -1     30.26  \n",
       "6          8.5      E     29.80  \n",
       "7          6.6      E     28.91  \n",
       "8          8.4      E     28.32  \n",
       "9         -1.0     -1     28.31  \n",
       "10        -1.0     -1     24.67  \n",
       "11         8.6      E     23.21  \n",
       "12        -1.0     -1     23.09  \n",
       "13         7.7      E     22.70  \n",
       "14         6.3      E     21.82  \n",
       "15         7.4      E     21.80  \n",
       "16         8.2      M     21.05  \n",
       "17         9.0      M     20.81  \n",
       "18        -1.0     -1     20.62  \n",
       "19         7.9      E     20.14  \n",
       "20        -1.0     -1     18.24  \n",
       "21        -1.0     -1     18.14  \n",
       "22        -1.0     -1     17.28  "
      ]
     },
     "metadata": {},
     "output_type": "display_data"
    }
   ],
   "source": [
    "display(df.query('sum_sale >= 17'))# вывод списка игр с максимальными суммарными продажами в период с 1980 по 2016 года"
   ]
  },
  {
   "cell_type": "markdown",
   "metadata": {},
   "source": [
    "\"Марио\" действительно самая популярная игра!"
   ]
  },
  {
   "cell_type": "markdown",
   "metadata": {},
   "source": [
    "3. Выберите платформы с наибольшими суммарными продажами."
   ]
  },
  {
   "cell_type": "code",
   "execution_count": 36,
   "metadata": {},
   "outputs": [
    {
     "data": {
      "text/html": [
       "<div>\n",
       "<style scoped>\n",
       "    .dataframe tbody tr th:only-of-type {\n",
       "        vertical-align: middle;\n",
       "    }\n",
       "\n",
       "    .dataframe tbody tr th {\n",
       "        vertical-align: top;\n",
       "    }\n",
       "\n",
       "    .dataframe thead th {\n",
       "        text-align: right;\n",
       "    }\n",
       "</style>\n",
       "<table border=\"1\" class=\"dataframe\">\n",
       "  <thead>\n",
       "    <tr style=\"text-align: right;\">\n",
       "      <th></th>\n",
       "      <th>sum_sale</th>\n",
       "    </tr>\n",
       "    <tr>\n",
       "      <th>platform</th>\n",
       "      <th></th>\n",
       "    </tr>\n",
       "  </thead>\n",
       "  <tbody>\n",
       "    <tr>\n",
       "      <th>PS2</th>\n",
       "      <td>1247.16</td>\n",
       "    </tr>\n",
       "    <tr>\n",
       "      <th>X360</th>\n",
       "      <td>966.61</td>\n",
       "    </tr>\n",
       "    <tr>\n",
       "      <th>PS3</th>\n",
       "      <td>935.19</td>\n",
       "    </tr>\n",
       "    <tr>\n",
       "      <th>Wii</th>\n",
       "      <td>903.31</td>\n",
       "    </tr>\n",
       "    <tr>\n",
       "      <th>DS</th>\n",
       "      <td>804.28</td>\n",
       "    </tr>\n",
       "    <tr>\n",
       "      <th>PS</th>\n",
       "      <td>727.58</td>\n",
       "    </tr>\n",
       "    <tr>\n",
       "      <th>PS4</th>\n",
       "      <td>314.14</td>\n",
       "    </tr>\n",
       "    <tr>\n",
       "      <th>GBA</th>\n",
       "      <td>313.73</td>\n",
       "    </tr>\n",
       "    <tr>\n",
       "      <th>PSP</th>\n",
       "      <td>293.57</td>\n",
       "    </tr>\n",
       "    <tr>\n",
       "      <th>PC</th>\n",
       "      <td>258.86</td>\n",
       "    </tr>\n",
       "    <tr>\n",
       "      <th>3DS</th>\n",
       "      <td>258.53</td>\n",
       "    </tr>\n",
       "    <tr>\n",
       "      <th>XB</th>\n",
       "      <td>256.69</td>\n",
       "    </tr>\n",
       "    <tr>\n",
       "      <th>GB</th>\n",
       "      <td>254.43</td>\n",
       "    </tr>\n",
       "    <tr>\n",
       "      <th>NES</th>\n",
       "      <td>251.05</td>\n",
       "    </tr>\n",
       "    <tr>\n",
       "      <th>N64</th>\n",
       "      <td>218.48</td>\n",
       "    </tr>\n",
       "    <tr>\n",
       "      <th>SNES</th>\n",
       "      <td>200.04</td>\n",
       "    </tr>\n",
       "    <tr>\n",
       "      <th>GC</th>\n",
       "      <td>198.66</td>\n",
       "    </tr>\n",
       "    <tr>\n",
       "      <th>XOne</th>\n",
       "      <td>159.32</td>\n",
       "    </tr>\n",
       "    <tr>\n",
       "      <th>2600</th>\n",
       "      <td>89.01</td>\n",
       "    </tr>\n",
       "    <tr>\n",
       "      <th>WiiU</th>\n",
       "      <td>82.19</td>\n",
       "    </tr>\n",
       "    <tr>\n",
       "      <th>PSV</th>\n",
       "      <td>53.81</td>\n",
       "    </tr>\n",
       "    <tr>\n",
       "      <th>SAT</th>\n",
       "      <td>33.59</td>\n",
       "    </tr>\n",
       "    <tr>\n",
       "      <th>GEN</th>\n",
       "      <td>28.35</td>\n",
       "    </tr>\n",
       "    <tr>\n",
       "      <th>DC</th>\n",
       "      <td>15.95</td>\n",
       "    </tr>\n",
       "    <tr>\n",
       "      <th>SCD</th>\n",
       "      <td>1.86</td>\n",
       "    </tr>\n",
       "    <tr>\n",
       "      <th>NG</th>\n",
       "      <td>1.44</td>\n",
       "    </tr>\n",
       "    <tr>\n",
       "      <th>WS</th>\n",
       "      <td>1.42</td>\n",
       "    </tr>\n",
       "    <tr>\n",
       "      <th>TG16</th>\n",
       "      <td>0.16</td>\n",
       "    </tr>\n",
       "    <tr>\n",
       "      <th>3DO</th>\n",
       "      <td>0.10</td>\n",
       "    </tr>\n",
       "    <tr>\n",
       "      <th>GG</th>\n",
       "      <td>0.04</td>\n",
       "    </tr>\n",
       "    <tr>\n",
       "      <th>PCFX</th>\n",
       "      <td>0.03</td>\n",
       "    </tr>\n",
       "  </tbody>\n",
       "</table>\n",
       "</div>"
      ],
      "text/plain": [
       "          sum_sale\n",
       "platform          \n",
       "PS2        1247.16\n",
       "X360        966.61\n",
       "PS3         935.19\n",
       "Wii         903.31\n",
       "DS          804.28\n",
       "PS          727.58\n",
       "PS4         314.14\n",
       "GBA         313.73\n",
       "PSP         293.57\n",
       "PC          258.86\n",
       "3DS         258.53\n",
       "XB          256.69\n",
       "GB          254.43\n",
       "NES         251.05\n",
       "N64         218.48\n",
       "SNES        200.04\n",
       "GC          198.66\n",
       "XOne        159.32\n",
       "2600         89.01\n",
       "WiiU         82.19\n",
       "PSV          53.81\n",
       "SAT          33.59\n",
       "GEN          28.35\n",
       "DC           15.95\n",
       "SCD           1.86\n",
       "NG            1.44\n",
       "WS            1.42\n",
       "TG16          0.16\n",
       "3DO           0.10\n",
       "GG            0.04\n",
       "PCFX          0.03"
      ]
     },
     "metadata": {},
     "output_type": "display_data"
    }
   ],
   "source": [
    "platform_sum_sale = df.groupby('platform')['sum_sale'].sum().to_frame() # вывод суммарных продаж по платформам\n",
    "display(platform_sum_sale.sort_values(by = 'sum_sale', ascending=False))"
   ]
  },
  {
   "cell_type": "code",
   "execution_count": 37,
   "metadata": {},
   "outputs": [],
   "source": [
    "#list_top_platform = []\n",
    "#for index in range(0,10):\n",
    "    #list_top_platform.append(platform_sum_sale[index])\n",
    "    \n",
    " "
   ]
  },
  {
   "cell_type": "code",
   "execution_count": 38,
   "metadata": {},
   "outputs": [],
   "source": [
    "list_top_platform = ['PS2', 'X360', 'PS3', 'Wii', 'DS', 'PS', 'GBA', 'PS4', 'PSP', 'PC', '3DS'] # список 10 платформ- лидеров продаж игр"
   ]
  },
  {
   "cell_type": "code",
   "execution_count": 39,
   "metadata": {},
   "outputs": [],
   "source": [
    "lider_sum_sale = df.query('platform in @list_top_platform and 2000 <= year_of_release <=2016') # вывод среза по продажам на успешных платформах по годам"
   ]
  },
  {
   "cell_type": "code",
   "execution_count": 40,
   "metadata": {},
   "outputs": [
    {
     "data": {
      "text/html": [
       "<div>\n",
       "<style scoped>\n",
       "    .dataframe tbody tr th:only-of-type {\n",
       "        vertical-align: middle;\n",
       "    }\n",
       "\n",
       "    .dataframe tbody tr th {\n",
       "        vertical-align: top;\n",
       "    }\n",
       "\n",
       "    .dataframe thead th {\n",
       "        text-align: right;\n",
       "    }\n",
       "</style>\n",
       "<table border=\"1\" class=\"dataframe\">\n",
       "  <thead>\n",
       "    <tr style=\"text-align: right;\">\n",
       "      <th>year_of_release</th>\n",
       "      <th>2000</th>\n",
       "      <th>2001</th>\n",
       "      <th>2002</th>\n",
       "      <th>2003</th>\n",
       "      <th>2004</th>\n",
       "      <th>2005</th>\n",
       "      <th>2006</th>\n",
       "      <th>2007</th>\n",
       "      <th>2008</th>\n",
       "      <th>2009</th>\n",
       "      <th>2010</th>\n",
       "      <th>2011</th>\n",
       "      <th>2012</th>\n",
       "      <th>2013</th>\n",
       "      <th>2014</th>\n",
       "      <th>2015</th>\n",
       "      <th>2016</th>\n",
       "    </tr>\n",
       "    <tr>\n",
       "      <th>platform</th>\n",
       "      <th></th>\n",
       "      <th></th>\n",
       "      <th></th>\n",
       "      <th></th>\n",
       "      <th></th>\n",
       "      <th></th>\n",
       "      <th></th>\n",
       "      <th></th>\n",
       "      <th></th>\n",
       "      <th></th>\n",
       "      <th></th>\n",
       "      <th></th>\n",
       "      <th></th>\n",
       "      <th></th>\n",
       "      <th></th>\n",
       "      <th></th>\n",
       "      <th></th>\n",
       "    </tr>\n",
       "  </thead>\n",
       "  <tbody>\n",
       "    <tr>\n",
       "      <th>3DS</th>\n",
       "      <td>NaN</td>\n",
       "      <td>NaN</td>\n",
       "      <td>NaN</td>\n",
       "      <td>0.02</td>\n",
       "      <td>NaN</td>\n",
       "      <td>NaN</td>\n",
       "      <td>NaN</td>\n",
       "      <td>NaN</td>\n",
       "      <td>NaN</td>\n",
       "      <td>NaN</td>\n",
       "      <td>0.30</td>\n",
       "      <td>63.20</td>\n",
       "      <td>51.76</td>\n",
       "      <td>56.57</td>\n",
       "      <td>43.76</td>\n",
       "      <td>27.78</td>\n",
       "      <td>15.14</td>\n",
       "    </tr>\n",
       "    <tr>\n",
       "      <th>DS</th>\n",
       "      <td>NaN</td>\n",
       "      <td>NaN</td>\n",
       "      <td>NaN</td>\n",
       "      <td>NaN</td>\n",
       "      <td>17.27</td>\n",
       "      <td>130.14</td>\n",
       "      <td>119.81</td>\n",
       "      <td>147.23</td>\n",
       "      <td>145.36</td>\n",
       "      <td>119.56</td>\n",
       "      <td>85.35</td>\n",
       "      <td>26.33</td>\n",
       "      <td>11.67</td>\n",
       "      <td>1.54</td>\n",
       "      <td>NaN</td>\n",
       "      <td>NaN</td>\n",
       "      <td>NaN</td>\n",
       "    </tr>\n",
       "    <tr>\n",
       "      <th>GBA</th>\n",
       "      <td>0.07</td>\n",
       "      <td>61.53</td>\n",
       "      <td>74.16</td>\n",
       "      <td>56.67</td>\n",
       "      <td>77.91</td>\n",
       "      <td>34.53</td>\n",
       "      <td>5.46</td>\n",
       "      <td>3.40</td>\n",
       "      <td>NaN</td>\n",
       "      <td>NaN</td>\n",
       "      <td>NaN</td>\n",
       "      <td>NaN</td>\n",
       "      <td>NaN</td>\n",
       "      <td>NaN</td>\n",
       "      <td>NaN</td>\n",
       "      <td>NaN</td>\n",
       "      <td>NaN</td>\n",
       "    </tr>\n",
       "    <tr>\n",
       "      <th>PC</th>\n",
       "      <td>4.66</td>\n",
       "      <td>5.47</td>\n",
       "      <td>8.57</td>\n",
       "      <td>8.89</td>\n",
       "      <td>10.39</td>\n",
       "      <td>4.38</td>\n",
       "      <td>2.85</td>\n",
       "      <td>9.28</td>\n",
       "      <td>12.46</td>\n",
       "      <td>17.05</td>\n",
       "      <td>26.15</td>\n",
       "      <td>35.16</td>\n",
       "      <td>23.45</td>\n",
       "      <td>13.01</td>\n",
       "      <td>13.28</td>\n",
       "      <td>8.52</td>\n",
       "      <td>5.25</td>\n",
       "    </tr>\n",
       "    <tr>\n",
       "      <th>PS</th>\n",
       "      <td>96.37</td>\n",
       "      <td>35.59</td>\n",
       "      <td>6.67</td>\n",
       "      <td>2.07</td>\n",
       "      <td>NaN</td>\n",
       "      <td>NaN</td>\n",
       "      <td>NaN</td>\n",
       "      <td>NaN</td>\n",
       "      <td>NaN</td>\n",
       "      <td>NaN</td>\n",
       "      <td>NaN</td>\n",
       "      <td>NaN</td>\n",
       "      <td>NaN</td>\n",
       "      <td>NaN</td>\n",
       "      <td>NaN</td>\n",
       "      <td>NaN</td>\n",
       "      <td>NaN</td>\n",
       "    </tr>\n",
       "    <tr>\n",
       "      <th>PS2</th>\n",
       "      <td>39.17</td>\n",
       "      <td>166.43</td>\n",
       "      <td>208.36</td>\n",
       "      <td>194.00</td>\n",
       "      <td>211.81</td>\n",
       "      <td>160.91</td>\n",
       "      <td>103.99</td>\n",
       "      <td>76.10</td>\n",
       "      <td>53.90</td>\n",
       "      <td>26.40</td>\n",
       "      <td>5.64</td>\n",
       "      <td>0.45</td>\n",
       "      <td>NaN</td>\n",
       "      <td>NaN</td>\n",
       "      <td>NaN</td>\n",
       "      <td>NaN</td>\n",
       "      <td>NaN</td>\n",
       "    </tr>\n",
       "    <tr>\n",
       "      <th>PS3</th>\n",
       "      <td>NaN</td>\n",
       "      <td>0.48</td>\n",
       "      <td>NaN</td>\n",
       "      <td>NaN</td>\n",
       "      <td>NaN</td>\n",
       "      <td>0.19</td>\n",
       "      <td>20.96</td>\n",
       "      <td>73.19</td>\n",
       "      <td>118.79</td>\n",
       "      <td>130.93</td>\n",
       "      <td>142.96</td>\n",
       "      <td>157.98</td>\n",
       "      <td>108.28</td>\n",
       "      <td>113.25</td>\n",
       "      <td>47.76</td>\n",
       "      <td>16.82</td>\n",
       "      <td>3.60</td>\n",
       "    </tr>\n",
       "    <tr>\n",
       "      <th>PS4</th>\n",
       "      <td>NaN</td>\n",
       "      <td>NaN</td>\n",
       "      <td>NaN</td>\n",
       "      <td>NaN</td>\n",
       "      <td>NaN</td>\n",
       "      <td>NaN</td>\n",
       "      <td>NaN</td>\n",
       "      <td>NaN</td>\n",
       "      <td>NaN</td>\n",
       "      <td>NaN</td>\n",
       "      <td>NaN</td>\n",
       "      <td>NaN</td>\n",
       "      <td>NaN</td>\n",
       "      <td>25.99</td>\n",
       "      <td>100.00</td>\n",
       "      <td>118.90</td>\n",
       "      <td>69.25</td>\n",
       "    </tr>\n",
       "    <tr>\n",
       "      <th>PSP</th>\n",
       "      <td>NaN</td>\n",
       "      <td>NaN</td>\n",
       "      <td>NaN</td>\n",
       "      <td>NaN</td>\n",
       "      <td>7.06</td>\n",
       "      <td>43.84</td>\n",
       "      <td>56.28</td>\n",
       "      <td>47.30</td>\n",
       "      <td>36.76</td>\n",
       "      <td>37.78</td>\n",
       "      <td>35.04</td>\n",
       "      <td>17.82</td>\n",
       "      <td>7.95</td>\n",
       "      <td>3.38</td>\n",
       "      <td>0.24</td>\n",
       "      <td>0.12</td>\n",
       "      <td>NaN</td>\n",
       "    </tr>\n",
       "    <tr>\n",
       "      <th>Wii</th>\n",
       "      <td>NaN</td>\n",
       "      <td>NaN</td>\n",
       "      <td>NaN</td>\n",
       "      <td>NaN</td>\n",
       "      <td>NaN</td>\n",
       "      <td>NaN</td>\n",
       "      <td>140.19</td>\n",
       "      <td>153.41</td>\n",
       "      <td>177.68</td>\n",
       "      <td>206.97</td>\n",
       "      <td>128.67</td>\n",
       "      <td>59.79</td>\n",
       "      <td>22.94</td>\n",
       "      <td>8.59</td>\n",
       "      <td>3.75</td>\n",
       "      <td>1.14</td>\n",
       "      <td>0.18</td>\n",
       "    </tr>\n",
       "    <tr>\n",
       "      <th>X360</th>\n",
       "      <td>NaN</td>\n",
       "      <td>NaN</td>\n",
       "      <td>NaN</td>\n",
       "      <td>NaN</td>\n",
       "      <td>NaN</td>\n",
       "      <td>9.22</td>\n",
       "      <td>51.79</td>\n",
       "      <td>95.41</td>\n",
       "      <td>136.07</td>\n",
       "      <td>120.82</td>\n",
       "      <td>170.55</td>\n",
       "      <td>145.23</td>\n",
       "      <td>100.72</td>\n",
       "      <td>88.58</td>\n",
       "      <td>34.74</td>\n",
       "      <td>11.96</td>\n",
       "      <td>1.52</td>\n",
       "    </tr>\n",
       "  </tbody>\n",
       "</table>\n",
       "</div>"
      ],
      "text/plain": [
       "year_of_release   2000    2001    2002    2003    2004    2005    2006  \\\n",
       "platform                                                                 \n",
       "3DS                NaN     NaN     NaN    0.02     NaN     NaN     NaN   \n",
       "DS                 NaN     NaN     NaN     NaN   17.27  130.14  119.81   \n",
       "GBA               0.07   61.53   74.16   56.67   77.91   34.53    5.46   \n",
       "PC                4.66    5.47    8.57    8.89   10.39    4.38    2.85   \n",
       "PS               96.37   35.59    6.67    2.07     NaN     NaN     NaN   \n",
       "PS2              39.17  166.43  208.36  194.00  211.81  160.91  103.99   \n",
       "PS3                NaN    0.48     NaN     NaN     NaN    0.19   20.96   \n",
       "PS4                NaN     NaN     NaN     NaN     NaN     NaN     NaN   \n",
       "PSP                NaN     NaN     NaN     NaN    7.06   43.84   56.28   \n",
       "Wii                NaN     NaN     NaN     NaN     NaN     NaN  140.19   \n",
       "X360               NaN     NaN     NaN     NaN     NaN    9.22   51.79   \n",
       "\n",
       "year_of_release    2007    2008    2009    2010    2011    2012    2013  \\\n",
       "platform                                                                  \n",
       "3DS                 NaN     NaN     NaN    0.30   63.20   51.76   56.57   \n",
       "DS               147.23  145.36  119.56   85.35   26.33   11.67    1.54   \n",
       "GBA                3.40     NaN     NaN     NaN     NaN     NaN     NaN   \n",
       "PC                 9.28   12.46   17.05   26.15   35.16   23.45   13.01   \n",
       "PS                  NaN     NaN     NaN     NaN     NaN     NaN     NaN   \n",
       "PS2               76.10   53.90   26.40    5.64    0.45     NaN     NaN   \n",
       "PS3               73.19  118.79  130.93  142.96  157.98  108.28  113.25   \n",
       "PS4                 NaN     NaN     NaN     NaN     NaN     NaN   25.99   \n",
       "PSP               47.30   36.76   37.78   35.04   17.82    7.95    3.38   \n",
       "Wii              153.41  177.68  206.97  128.67   59.79   22.94    8.59   \n",
       "X360              95.41  136.07  120.82  170.55  145.23  100.72   88.58   \n",
       "\n",
       "year_of_release    2014    2015   2016  \n",
       "platform                                \n",
       "3DS               43.76   27.78  15.14  \n",
       "DS                  NaN     NaN    NaN  \n",
       "GBA                 NaN     NaN    NaN  \n",
       "PC                13.28    8.52   5.25  \n",
       "PS                  NaN     NaN    NaN  \n",
       "PS2                 NaN     NaN    NaN  \n",
       "PS3               47.76   16.82   3.60  \n",
       "PS4              100.00  118.90  69.25  \n",
       "PSP                0.24    0.12    NaN  \n",
       "Wii                3.75    1.14   0.18  \n",
       "X360              34.74   11.96   1.52  "
      ]
     },
     "execution_count": 40,
     "metadata": {},
     "output_type": "execute_result"
    }
   ],
   "source": [
    "lider_sum_sale.pivot_table(index='platform', columns='year_of_release', values='sum_sale', aggfunc=sum)"
   ]
  },
  {
   "cell_type": "markdown",
   "metadata": {},
   "source": [
    "По таблице можно сказать, что период с 2003 по 2014 происходит смена старых платформ на новые."
   ]
  },
  {
   "cell_type": "markdown",
   "metadata": {},
   "source": [
    "Вывод: на основе исследования предыдущих вопросов можно сделать вывод, что для исследования необходимо взять данные по продажам игр за 2012-2016годы."
   ]
  },
  {
   "cell_type": "code",
   "execution_count": 41,
   "metadata": {},
   "outputs": [],
   "source": [
    "df_2003 = df.query('year_of_release >= 2012') # срез данных по годам 2012-2016"
   ]
  },
  {
   "cell_type": "code",
   "execution_count": 42,
   "metadata": {},
   "outputs": [
    {
     "data": {
      "text/html": [
       "<div>\n",
       "<style scoped>\n",
       "    .dataframe tbody tr th:only-of-type {\n",
       "        vertical-align: middle;\n",
       "    }\n",
       "\n",
       "    .dataframe tbody tr th {\n",
       "        vertical-align: top;\n",
       "    }\n",
       "\n",
       "    .dataframe thead th {\n",
       "        text-align: right;\n",
       "    }\n",
       "</style>\n",
       "<table border=\"1\" class=\"dataframe\">\n",
       "  <thead>\n",
       "    <tr style=\"text-align: right;\">\n",
       "      <th></th>\n",
       "      <th>name</th>\n",
       "      <th>platform</th>\n",
       "      <th>year_of_release</th>\n",
       "      <th>genre</th>\n",
       "      <th>na_sales</th>\n",
       "      <th>eu_sales</th>\n",
       "      <th>jp_sales</th>\n",
       "      <th>other_sales</th>\n",
       "      <th>critic_score</th>\n",
       "      <th>user_score</th>\n",
       "      <th>rating</th>\n",
       "      <th>sum_sale</th>\n",
       "    </tr>\n",
       "  </thead>\n",
       "  <tbody>\n",
       "    <tr>\n",
       "      <th>16</th>\n",
       "      <td>Grand Theft Auto V</td>\n",
       "      <td>PS3</td>\n",
       "      <td>2013</td>\n",
       "      <td>Action</td>\n",
       "      <td>7.02</td>\n",
       "      <td>9.09</td>\n",
       "      <td>0.98</td>\n",
       "      <td>3.96</td>\n",
       "      <td>97.0</td>\n",
       "      <td>8.2</td>\n",
       "      <td>M</td>\n",
       "      <td>21.05</td>\n",
       "    </tr>\n",
       "    <tr>\n",
       "      <th>23</th>\n",
       "      <td>Grand Theft Auto V</td>\n",
       "      <td>X360</td>\n",
       "      <td>2013</td>\n",
       "      <td>Action</td>\n",
       "      <td>9.66</td>\n",
       "      <td>5.14</td>\n",
       "      <td>0.06</td>\n",
       "      <td>1.41</td>\n",
       "      <td>97.0</td>\n",
       "      <td>8.1</td>\n",
       "      <td>M</td>\n",
       "      <td>16.27</td>\n",
       "    </tr>\n",
       "    <tr>\n",
       "      <th>31</th>\n",
       "      <td>Call of Duty: Black Ops 3</td>\n",
       "      <td>PS4</td>\n",
       "      <td>2015</td>\n",
       "      <td>Shooter</td>\n",
       "      <td>6.03</td>\n",
       "      <td>5.86</td>\n",
       "      <td>0.36</td>\n",
       "      <td>2.38</td>\n",
       "      <td>-1.0</td>\n",
       "      <td>-1.0</td>\n",
       "      <td>-1</td>\n",
       "      <td>14.63</td>\n",
       "    </tr>\n",
       "    <tr>\n",
       "      <th>33</th>\n",
       "      <td>Pokemon X/Pokemon Y</td>\n",
       "      <td>3DS</td>\n",
       "      <td>2013</td>\n",
       "      <td>Role-Playing</td>\n",
       "      <td>5.28</td>\n",
       "      <td>4.19</td>\n",
       "      <td>4.35</td>\n",
       "      <td>0.78</td>\n",
       "      <td>-1.0</td>\n",
       "      <td>-1.0</td>\n",
       "      <td>-1</td>\n",
       "      <td>14.60</td>\n",
       "    </tr>\n",
       "    <tr>\n",
       "      <th>34</th>\n",
       "      <td>Call of Duty: Black Ops II</td>\n",
       "      <td>PS3</td>\n",
       "      <td>2012</td>\n",
       "      <td>Shooter</td>\n",
       "      <td>4.99</td>\n",
       "      <td>5.73</td>\n",
       "      <td>0.65</td>\n",
       "      <td>2.42</td>\n",
       "      <td>83.0</td>\n",
       "      <td>5.3</td>\n",
       "      <td>M</td>\n",
       "      <td>13.79</td>\n",
       "    </tr>\n",
       "    <tr>\n",
       "      <th>...</th>\n",
       "      <td>...</td>\n",
       "      <td>...</td>\n",
       "      <td>...</td>\n",
       "      <td>...</td>\n",
       "      <td>...</td>\n",
       "      <td>...</td>\n",
       "      <td>...</td>\n",
       "      <td>...</td>\n",
       "      <td>...</td>\n",
       "      <td>...</td>\n",
       "      <td>...</td>\n",
       "      <td>...</td>\n",
       "    </tr>\n",
       "    <tr>\n",
       "      <th>16703</th>\n",
       "      <td>Strawberry Nauts</td>\n",
       "      <td>PSV</td>\n",
       "      <td>2016</td>\n",
       "      <td>Adventure</td>\n",
       "      <td>0.00</td>\n",
       "      <td>0.00</td>\n",
       "      <td>0.01</td>\n",
       "      <td>0.00</td>\n",
       "      <td>-1.0</td>\n",
       "      <td>-1.0</td>\n",
       "      <td>-1</td>\n",
       "      <td>0.01</td>\n",
       "    </tr>\n",
       "    <tr>\n",
       "      <th>16707</th>\n",
       "      <td>Aiyoku no Eustia</td>\n",
       "      <td>PSV</td>\n",
       "      <td>2014</td>\n",
       "      <td>Misc</td>\n",
       "      <td>0.00</td>\n",
       "      <td>0.00</td>\n",
       "      <td>0.01</td>\n",
       "      <td>0.00</td>\n",
       "      <td>-1.0</td>\n",
       "      <td>-1.0</td>\n",
       "      <td>-1</td>\n",
       "      <td>0.01</td>\n",
       "    </tr>\n",
       "    <tr>\n",
       "      <th>16710</th>\n",
       "      <td>Samurai Warriors: Sanada Maru</td>\n",
       "      <td>PS3</td>\n",
       "      <td>2016</td>\n",
       "      <td>Action</td>\n",
       "      <td>0.00</td>\n",
       "      <td>0.00</td>\n",
       "      <td>0.01</td>\n",
       "      <td>0.00</td>\n",
       "      <td>-1.0</td>\n",
       "      <td>-1.0</td>\n",
       "      <td>-1</td>\n",
       "      <td>0.01</td>\n",
       "    </tr>\n",
       "    <tr>\n",
       "      <th>16712</th>\n",
       "      <td>Haitaka no Psychedelica</td>\n",
       "      <td>PSV</td>\n",
       "      <td>2016</td>\n",
       "      <td>Adventure</td>\n",
       "      <td>0.00</td>\n",
       "      <td>0.00</td>\n",
       "      <td>0.01</td>\n",
       "      <td>0.00</td>\n",
       "      <td>-1.0</td>\n",
       "      <td>-1.0</td>\n",
       "      <td>-1</td>\n",
       "      <td>0.01</td>\n",
       "    </tr>\n",
       "    <tr>\n",
       "      <th>16714</th>\n",
       "      <td>Winning Post 8 2016</td>\n",
       "      <td>PSV</td>\n",
       "      <td>2016</td>\n",
       "      <td>Simulation</td>\n",
       "      <td>0.00</td>\n",
       "      <td>0.00</td>\n",
       "      <td>0.01</td>\n",
       "      <td>0.00</td>\n",
       "      <td>-1.0</td>\n",
       "      <td>-1.0</td>\n",
       "      <td>-1</td>\n",
       "      <td>0.01</td>\n",
       "    </tr>\n",
       "  </tbody>\n",
       "</table>\n",
       "<p>2899 rows × 12 columns</p>\n",
       "</div>"
      ],
      "text/plain": [
       "                                name platform  year_of_release         genre  \\\n",
       "16                Grand Theft Auto V      PS3             2013        Action   \n",
       "23                Grand Theft Auto V     X360             2013        Action   \n",
       "31         Call of Duty: Black Ops 3      PS4             2015       Shooter   \n",
       "33               Pokemon X/Pokemon Y      3DS             2013  Role-Playing   \n",
       "34        Call of Duty: Black Ops II      PS3             2012       Shooter   \n",
       "...                              ...      ...              ...           ...   \n",
       "16703               Strawberry Nauts      PSV             2016     Adventure   \n",
       "16707               Aiyoku no Eustia      PSV             2014          Misc   \n",
       "16710  Samurai Warriors: Sanada Maru      PS3             2016        Action   \n",
       "16712        Haitaka no Psychedelica      PSV             2016     Adventure   \n",
       "16714            Winning Post 8 2016      PSV             2016    Simulation   \n",
       "\n",
       "       na_sales  eu_sales  jp_sales  other_sales  critic_score  user_score  \\\n",
       "16         7.02      9.09      0.98         3.96          97.0         8.2   \n",
       "23         9.66      5.14      0.06         1.41          97.0         8.1   \n",
       "31         6.03      5.86      0.36         2.38          -1.0        -1.0   \n",
       "33         5.28      4.19      4.35         0.78          -1.0        -1.0   \n",
       "34         4.99      5.73      0.65         2.42          83.0         5.3   \n",
       "...         ...       ...       ...          ...           ...         ...   \n",
       "16703      0.00      0.00      0.01         0.00          -1.0        -1.0   \n",
       "16707      0.00      0.00      0.01         0.00          -1.0        -1.0   \n",
       "16710      0.00      0.00      0.01         0.00          -1.0        -1.0   \n",
       "16712      0.00      0.00      0.01         0.00          -1.0        -1.0   \n",
       "16714      0.00      0.00      0.01         0.00          -1.0        -1.0   \n",
       "\n",
       "      rating  sum_sale  \n",
       "16         M     21.05  \n",
       "23         M     16.27  \n",
       "31        -1     14.63  \n",
       "33        -1     14.60  \n",
       "34         M     13.79  \n",
       "...      ...       ...  \n",
       "16703     -1      0.01  \n",
       "16707     -1      0.01  \n",
       "16710     -1      0.01  \n",
       "16712     -1      0.01  \n",
       "16714     -1      0.01  \n",
       "\n",
       "[2899 rows x 12 columns]"
      ]
     },
     "execution_count": 42,
     "metadata": {},
     "output_type": "execute_result"
    }
   ],
   "source": [
    "df_2003"
   ]
  },
  {
   "cell_type": "code",
   "execution_count": 43,
   "metadata": {},
   "outputs": [
    {
     "data": {
      "text/html": [
       "<div>\n",
       "<style scoped>\n",
       "    .dataframe tbody tr th:only-of-type {\n",
       "        vertical-align: middle;\n",
       "    }\n",
       "\n",
       "    .dataframe tbody tr th {\n",
       "        vertical-align: top;\n",
       "    }\n",
       "\n",
       "    .dataframe thead th {\n",
       "        text-align: right;\n",
       "    }\n",
       "</style>\n",
       "<table border=\"1\" class=\"dataframe\">\n",
       "  <thead>\n",
       "    <tr style=\"text-align: right;\">\n",
       "      <th></th>\n",
       "      <th>sum_sale</th>\n",
       "    </tr>\n",
       "    <tr>\n",
       "      <th>platform</th>\n",
       "      <th></th>\n",
       "    </tr>\n",
       "  </thead>\n",
       "  <tbody>\n",
       "    <tr>\n",
       "      <th>PS4</th>\n",
       "      <td>314.14</td>\n",
       "    </tr>\n",
       "    <tr>\n",
       "      <th>PS3</th>\n",
       "      <td>289.71</td>\n",
       "    </tr>\n",
       "    <tr>\n",
       "      <th>X360</th>\n",
       "      <td>237.52</td>\n",
       "    </tr>\n",
       "    <tr>\n",
       "      <th>3DS</th>\n",
       "      <td>195.01</td>\n",
       "    </tr>\n",
       "    <tr>\n",
       "      <th>XOne</th>\n",
       "      <td>159.32</td>\n",
       "    </tr>\n",
       "    <tr>\n",
       "      <th>WiiU</th>\n",
       "      <td>82.19</td>\n",
       "    </tr>\n",
       "    <tr>\n",
       "      <th>PC</th>\n",
       "      <td>63.51</td>\n",
       "    </tr>\n",
       "    <tr>\n",
       "      <th>PSV</th>\n",
       "      <td>49.18</td>\n",
       "    </tr>\n",
       "    <tr>\n",
       "      <th>Wii</th>\n",
       "      <td>36.60</td>\n",
       "    </tr>\n",
       "    <tr>\n",
       "      <th>DS</th>\n",
       "      <td>13.21</td>\n",
       "    </tr>\n",
       "  </tbody>\n",
       "</table>\n",
       "</div>"
      ],
      "text/plain": [
       "          sum_sale\n",
       "platform          \n",
       "PS4         314.14\n",
       "PS3         289.71\n",
       "X360        237.52\n",
       "3DS         195.01\n",
       "XOne        159.32\n",
       "WiiU         82.19\n",
       "PC           63.51\n",
       "PSV          49.18\n",
       "Wii          36.60\n",
       "DS           13.21"
      ]
     },
     "execution_count": 43,
     "metadata": {},
     "output_type": "execute_result"
    }
   ],
   "source": [
    "platform_sale_2003 = df_2003.groupby('platform')['sum_sale'].sum().sort_values(ascending=False).to_frame() #список наиболее прибыльных платформ с 2012-2016 годы\n",
    "platform_sale_2003.head(10)"
   ]
  },
  {
   "cell_type": "code",
   "execution_count": 44,
   "metadata": {},
   "outputs": [],
   "source": [
    "list_platform_2003 = ['PS4', 'PS3', 'X360', '3DS', 'XOne', 'WiiU', 'PC', 'PSV', 'Wii', 'DS'] #список наиболее прибыльных платформ с 2012-2016 годы"
   ]
  },
  {
   "cell_type": "code",
   "execution_count": 45,
   "metadata": {},
   "outputs": [],
   "source": [
    "platform_top_2003 = df_2003.query('platform in @list_platform_2003') # срез таблицы по данным самых продающих платформ"
   ]
  },
  {
   "cell_type": "code",
   "execution_count": 46,
   "metadata": {},
   "outputs": [
    {
     "data": {
      "text/html": [
       "<div>\n",
       "<style scoped>\n",
       "    .dataframe tbody tr th:only-of-type {\n",
       "        vertical-align: middle;\n",
       "    }\n",
       "\n",
       "    .dataframe tbody tr th {\n",
       "        vertical-align: top;\n",
       "    }\n",
       "\n",
       "    .dataframe thead th {\n",
       "        text-align: right;\n",
       "    }\n",
       "</style>\n",
       "<table border=\"1\" class=\"dataframe\">\n",
       "  <thead>\n",
       "    <tr style=\"text-align: right;\">\n",
       "      <th></th>\n",
       "      <th>name</th>\n",
       "      <th>platform</th>\n",
       "      <th>year_of_release</th>\n",
       "      <th>genre</th>\n",
       "      <th>na_sales</th>\n",
       "      <th>eu_sales</th>\n",
       "      <th>jp_sales</th>\n",
       "      <th>other_sales</th>\n",
       "      <th>critic_score</th>\n",
       "      <th>user_score</th>\n",
       "      <th>rating</th>\n",
       "      <th>sum_sale</th>\n",
       "    </tr>\n",
       "  </thead>\n",
       "  <tbody>\n",
       "    <tr>\n",
       "      <th>16</th>\n",
       "      <td>Grand Theft Auto V</td>\n",
       "      <td>PS3</td>\n",
       "      <td>2013</td>\n",
       "      <td>Action</td>\n",
       "      <td>7.02</td>\n",
       "      <td>9.09</td>\n",
       "      <td>0.98</td>\n",
       "      <td>3.96</td>\n",
       "      <td>97.0</td>\n",
       "      <td>8.2</td>\n",
       "      <td>M</td>\n",
       "      <td>21.05</td>\n",
       "    </tr>\n",
       "    <tr>\n",
       "      <th>23</th>\n",
       "      <td>Grand Theft Auto V</td>\n",
       "      <td>X360</td>\n",
       "      <td>2013</td>\n",
       "      <td>Action</td>\n",
       "      <td>9.66</td>\n",
       "      <td>5.14</td>\n",
       "      <td>0.06</td>\n",
       "      <td>1.41</td>\n",
       "      <td>97.0</td>\n",
       "      <td>8.1</td>\n",
       "      <td>M</td>\n",
       "      <td>16.27</td>\n",
       "    </tr>\n",
       "    <tr>\n",
       "      <th>31</th>\n",
       "      <td>Call of Duty: Black Ops 3</td>\n",
       "      <td>PS4</td>\n",
       "      <td>2015</td>\n",
       "      <td>Shooter</td>\n",
       "      <td>6.03</td>\n",
       "      <td>5.86</td>\n",
       "      <td>0.36</td>\n",
       "      <td>2.38</td>\n",
       "      <td>-1.0</td>\n",
       "      <td>-1.0</td>\n",
       "      <td>-1</td>\n",
       "      <td>14.63</td>\n",
       "    </tr>\n",
       "    <tr>\n",
       "      <th>33</th>\n",
       "      <td>Pokemon X/Pokemon Y</td>\n",
       "      <td>3DS</td>\n",
       "      <td>2013</td>\n",
       "      <td>Role-Playing</td>\n",
       "      <td>5.28</td>\n",
       "      <td>4.19</td>\n",
       "      <td>4.35</td>\n",
       "      <td>0.78</td>\n",
       "      <td>-1.0</td>\n",
       "      <td>-1.0</td>\n",
       "      <td>-1</td>\n",
       "      <td>14.60</td>\n",
       "    </tr>\n",
       "    <tr>\n",
       "      <th>34</th>\n",
       "      <td>Call of Duty: Black Ops II</td>\n",
       "      <td>PS3</td>\n",
       "      <td>2012</td>\n",
       "      <td>Shooter</td>\n",
       "      <td>4.99</td>\n",
       "      <td>5.73</td>\n",
       "      <td>0.65</td>\n",
       "      <td>2.42</td>\n",
       "      <td>83.0</td>\n",
       "      <td>5.3</td>\n",
       "      <td>M</td>\n",
       "      <td>13.79</td>\n",
       "    </tr>\n",
       "    <tr>\n",
       "      <th>...</th>\n",
       "      <td>...</td>\n",
       "      <td>...</td>\n",
       "      <td>...</td>\n",
       "      <td>...</td>\n",
       "      <td>...</td>\n",
       "      <td>...</td>\n",
       "      <td>...</td>\n",
       "      <td>...</td>\n",
       "      <td>...</td>\n",
       "      <td>...</td>\n",
       "      <td>...</td>\n",
       "      <td>...</td>\n",
       "    </tr>\n",
       "    <tr>\n",
       "      <th>16703</th>\n",
       "      <td>Strawberry Nauts</td>\n",
       "      <td>PSV</td>\n",
       "      <td>2016</td>\n",
       "      <td>Adventure</td>\n",
       "      <td>0.00</td>\n",
       "      <td>0.00</td>\n",
       "      <td>0.01</td>\n",
       "      <td>0.00</td>\n",
       "      <td>-1.0</td>\n",
       "      <td>-1.0</td>\n",
       "      <td>-1</td>\n",
       "      <td>0.01</td>\n",
       "    </tr>\n",
       "    <tr>\n",
       "      <th>16707</th>\n",
       "      <td>Aiyoku no Eustia</td>\n",
       "      <td>PSV</td>\n",
       "      <td>2014</td>\n",
       "      <td>Misc</td>\n",
       "      <td>0.00</td>\n",
       "      <td>0.00</td>\n",
       "      <td>0.01</td>\n",
       "      <td>0.00</td>\n",
       "      <td>-1.0</td>\n",
       "      <td>-1.0</td>\n",
       "      <td>-1</td>\n",
       "      <td>0.01</td>\n",
       "    </tr>\n",
       "    <tr>\n",
       "      <th>16710</th>\n",
       "      <td>Samurai Warriors: Sanada Maru</td>\n",
       "      <td>PS3</td>\n",
       "      <td>2016</td>\n",
       "      <td>Action</td>\n",
       "      <td>0.00</td>\n",
       "      <td>0.00</td>\n",
       "      <td>0.01</td>\n",
       "      <td>0.00</td>\n",
       "      <td>-1.0</td>\n",
       "      <td>-1.0</td>\n",
       "      <td>-1</td>\n",
       "      <td>0.01</td>\n",
       "    </tr>\n",
       "    <tr>\n",
       "      <th>16712</th>\n",
       "      <td>Haitaka no Psychedelica</td>\n",
       "      <td>PSV</td>\n",
       "      <td>2016</td>\n",
       "      <td>Adventure</td>\n",
       "      <td>0.00</td>\n",
       "      <td>0.00</td>\n",
       "      <td>0.01</td>\n",
       "      <td>0.00</td>\n",
       "      <td>-1.0</td>\n",
       "      <td>-1.0</td>\n",
       "      <td>-1</td>\n",
       "      <td>0.01</td>\n",
       "    </tr>\n",
       "    <tr>\n",
       "      <th>16714</th>\n",
       "      <td>Winning Post 8 2016</td>\n",
       "      <td>PSV</td>\n",
       "      <td>2016</td>\n",
       "      <td>Simulation</td>\n",
       "      <td>0.00</td>\n",
       "      <td>0.00</td>\n",
       "      <td>0.01</td>\n",
       "      <td>0.00</td>\n",
       "      <td>-1.0</td>\n",
       "      <td>-1.0</td>\n",
       "      <td>-1</td>\n",
       "      <td>0.01</td>\n",
       "    </tr>\n",
       "  </tbody>\n",
       "</table>\n",
       "<p>2724 rows × 12 columns</p>\n",
       "</div>"
      ],
      "text/plain": [
       "                                name platform  year_of_release         genre  \\\n",
       "16                Grand Theft Auto V      PS3             2013        Action   \n",
       "23                Grand Theft Auto V     X360             2013        Action   \n",
       "31         Call of Duty: Black Ops 3      PS4             2015       Shooter   \n",
       "33               Pokemon X/Pokemon Y      3DS             2013  Role-Playing   \n",
       "34        Call of Duty: Black Ops II      PS3             2012       Shooter   \n",
       "...                              ...      ...              ...           ...   \n",
       "16703               Strawberry Nauts      PSV             2016     Adventure   \n",
       "16707               Aiyoku no Eustia      PSV             2014          Misc   \n",
       "16710  Samurai Warriors: Sanada Maru      PS3             2016        Action   \n",
       "16712        Haitaka no Psychedelica      PSV             2016     Adventure   \n",
       "16714            Winning Post 8 2016      PSV             2016    Simulation   \n",
       "\n",
       "       na_sales  eu_sales  jp_sales  other_sales  critic_score  user_score  \\\n",
       "16         7.02      9.09      0.98         3.96          97.0         8.2   \n",
       "23         9.66      5.14      0.06         1.41          97.0         8.1   \n",
       "31         6.03      5.86      0.36         2.38          -1.0        -1.0   \n",
       "33         5.28      4.19      4.35         0.78          -1.0        -1.0   \n",
       "34         4.99      5.73      0.65         2.42          83.0         5.3   \n",
       "...         ...       ...       ...          ...           ...         ...   \n",
       "16703      0.00      0.00      0.01         0.00          -1.0        -1.0   \n",
       "16707      0.00      0.00      0.01         0.00          -1.0        -1.0   \n",
       "16710      0.00      0.00      0.01         0.00          -1.0        -1.0   \n",
       "16712      0.00      0.00      0.01         0.00          -1.0        -1.0   \n",
       "16714      0.00      0.00      0.01         0.00          -1.0        -1.0   \n",
       "\n",
       "      rating  sum_sale  \n",
       "16         M     21.05  \n",
       "23         M     16.27  \n",
       "31        -1     14.63  \n",
       "33        -1     14.60  \n",
       "34         M     13.79  \n",
       "...      ...       ...  \n",
       "16703     -1      0.01  \n",
       "16707     -1      0.01  \n",
       "16710     -1      0.01  \n",
       "16712     -1      0.01  \n",
       "16714     -1      0.01  \n",
       "\n",
       "[2724 rows x 12 columns]"
      ]
     },
     "execution_count": 46,
     "metadata": {},
     "output_type": "execute_result"
    }
   ],
   "source": [
    "platform_top_2003"
   ]
  },
  {
   "cell_type": "code",
   "execution_count": 47,
   "metadata": {},
   "outputs": [
    {
     "name": "stdout",
     "output_type": "stream",
     "text": [
      "<class 'pandas.core.frame.DataFrame'>\n",
      "Int64Index: 2724 entries, 16 to 16714\n",
      "Data columns (total 12 columns):\n",
      " #   Column           Non-Null Count  Dtype  \n",
      "---  ------           --------------  -----  \n",
      " 0   name             2724 non-null   object \n",
      " 1   platform         2724 non-null   object \n",
      " 2   year_of_release  2724 non-null   int64  \n",
      " 3   genre            2724 non-null   object \n",
      " 4   na_sales         2724 non-null   float64\n",
      " 5   eu_sales         2724 non-null   float64\n",
      " 6   jp_sales         2724 non-null   float64\n",
      " 7   other_sales      2724 non-null   float64\n",
      " 8   critic_score     2724 non-null   float64\n",
      " 9   user_score       2724 non-null   float32\n",
      " 10  rating           2724 non-null   object \n",
      " 11  sum_sale         2724 non-null   float64\n",
      "dtypes: float32(1), float64(6), int64(1), object(4)\n",
      "memory usage: 266.0+ KB\n"
     ]
    }
   ],
   "source": [
    "platform_top_2003.info()"
   ]
  },
  {
   "cell_type": "code",
   "execution_count": 48,
   "metadata": {},
   "outputs": [
    {
     "data": {
      "text/plain": [
       "name               0\n",
       "platform           0\n",
       "year_of_release    0\n",
       "genre              0\n",
       "na_sales           0\n",
       "eu_sales           0\n",
       "jp_sales           0\n",
       "other_sales        0\n",
       "critic_score       0\n",
       "user_score         0\n",
       "rating             0\n",
       "sum_sale           0\n",
       "dtype: int64"
      ]
     },
     "execution_count": 48,
     "metadata": {},
     "output_type": "execute_result"
    }
   ],
   "source": [
    "platform_top_2003.isna().sum()"
   ]
  },
  {
   "cell_type": "code",
   "execution_count": 49,
   "metadata": {},
   "outputs": [
    {
     "data": {
      "text/html": [
       "<div>\n",
       "<style scoped>\n",
       "    .dataframe tbody tr th:only-of-type {\n",
       "        vertical-align: middle;\n",
       "    }\n",
       "\n",
       "    .dataframe tbody tr th {\n",
       "        vertical-align: top;\n",
       "    }\n",
       "\n",
       "    .dataframe thead th {\n",
       "        text-align: right;\n",
       "    }\n",
       "</style>\n",
       "<table border=\"1\" class=\"dataframe\">\n",
       "  <thead>\n",
       "    <tr style=\"text-align: right;\">\n",
       "      <th>year_of_release</th>\n",
       "      <th>2012</th>\n",
       "      <th>2013</th>\n",
       "      <th>2014</th>\n",
       "      <th>2015</th>\n",
       "      <th>2016</th>\n",
       "    </tr>\n",
       "    <tr>\n",
       "      <th>platform</th>\n",
       "      <th></th>\n",
       "      <th></th>\n",
       "      <th></th>\n",
       "      <th></th>\n",
       "      <th></th>\n",
       "    </tr>\n",
       "  </thead>\n",
       "  <tbody>\n",
       "    <tr>\n",
       "      <th>3DS</th>\n",
       "      <td>51.76</td>\n",
       "      <td>56.57</td>\n",
       "      <td>43.76</td>\n",
       "      <td>27.78</td>\n",
       "      <td>15.14</td>\n",
       "    </tr>\n",
       "    <tr>\n",
       "      <th>DS</th>\n",
       "      <td>11.67</td>\n",
       "      <td>1.54</td>\n",
       "      <td>NaN</td>\n",
       "      <td>NaN</td>\n",
       "      <td>NaN</td>\n",
       "    </tr>\n",
       "    <tr>\n",
       "      <th>PC</th>\n",
       "      <td>23.45</td>\n",
       "      <td>13.01</td>\n",
       "      <td>13.28</td>\n",
       "      <td>8.52</td>\n",
       "      <td>5.25</td>\n",
       "    </tr>\n",
       "    <tr>\n",
       "      <th>PS3</th>\n",
       "      <td>108.28</td>\n",
       "      <td>113.25</td>\n",
       "      <td>47.76</td>\n",
       "      <td>16.82</td>\n",
       "      <td>3.60</td>\n",
       "    </tr>\n",
       "    <tr>\n",
       "      <th>PS4</th>\n",
       "      <td>NaN</td>\n",
       "      <td>25.99</td>\n",
       "      <td>100.00</td>\n",
       "      <td>118.90</td>\n",
       "      <td>69.25</td>\n",
       "    </tr>\n",
       "    <tr>\n",
       "      <th>PSV</th>\n",
       "      <td>16.19</td>\n",
       "      <td>10.59</td>\n",
       "      <td>11.90</td>\n",
       "      <td>6.25</td>\n",
       "      <td>4.25</td>\n",
       "    </tr>\n",
       "    <tr>\n",
       "      <th>Wii</th>\n",
       "      <td>22.94</td>\n",
       "      <td>8.59</td>\n",
       "      <td>3.75</td>\n",
       "      <td>1.14</td>\n",
       "      <td>0.18</td>\n",
       "    </tr>\n",
       "    <tr>\n",
       "      <th>WiiU</th>\n",
       "      <td>17.56</td>\n",
       "      <td>21.65</td>\n",
       "      <td>22.03</td>\n",
       "      <td>16.35</td>\n",
       "      <td>4.60</td>\n",
       "    </tr>\n",
       "    <tr>\n",
       "      <th>X360</th>\n",
       "      <td>100.72</td>\n",
       "      <td>88.58</td>\n",
       "      <td>34.74</td>\n",
       "      <td>11.96</td>\n",
       "      <td>1.52</td>\n",
       "    </tr>\n",
       "    <tr>\n",
       "      <th>XOne</th>\n",
       "      <td>NaN</td>\n",
       "      <td>18.96</td>\n",
       "      <td>54.07</td>\n",
       "      <td>60.14</td>\n",
       "      <td>26.15</td>\n",
       "    </tr>\n",
       "  </tbody>\n",
       "</table>\n",
       "</div>"
      ],
      "text/plain": [
       "year_of_release    2012    2013    2014    2015   2016\n",
       "platform                                              \n",
       "3DS               51.76   56.57   43.76   27.78  15.14\n",
       "DS                11.67    1.54     NaN     NaN    NaN\n",
       "PC                23.45   13.01   13.28    8.52   5.25\n",
       "PS3              108.28  113.25   47.76   16.82   3.60\n",
       "PS4                 NaN   25.99  100.00  118.90  69.25\n",
       "PSV               16.19   10.59   11.90    6.25   4.25\n",
       "Wii               22.94    8.59    3.75    1.14   0.18\n",
       "WiiU              17.56   21.65   22.03   16.35   4.60\n",
       "X360             100.72   88.58   34.74   11.96   1.52\n",
       "XOne                NaN   18.96   54.07   60.14  26.15"
      ]
     },
     "execution_count": 49,
     "metadata": {},
     "output_type": "execute_result"
    }
   ],
   "source": [
    "platform_top_2003.pivot_table(index='platform', columns='year_of_release', values= 'sum_sale', aggfunc=sum)#таблица продаж с 2012 года по 2016 для 10 самых продающих платформ"
   ]
  },
  {
   "cell_type": "markdown",
   "metadata": {},
   "source": [
    "По данной таблице можно сделать вывод, что продажи на всех платформах имеют тенденцию к падению. Потенциально прибыльными можно назвать платформы 3DS, XOne и PS4."
   ]
  },
  {
   "cell_type": "markdown",
   "metadata": {},
   "source": [
    "4. Построим график «ящик с усами» по глобальным продажам игр в разбивке по платформам по данным 2012-2016 годов."
   ]
  },
  {
   "cell_type": "code",
   "execution_count": 50,
   "metadata": {},
   "outputs": [
    {
     "data": {
      "text/plain": [
       "<AxesSubplot:title={'center':'sum_sale'}, xlabel='platform'>"
      ]
     },
     "execution_count": 50,
     "metadata": {},
     "output_type": "execute_result"
    },
    {
     "data": {
      "image/png": "[encoded data removed]",
      "text/plain": [
       "<Figure size 432x288 with 1 Axes>"
      ]
     },
     "metadata": {
      "needs_background": "light"
     },
     "output_type": "display_data"
    }
   ],
   "source": [
    "platform_top_2003.boxplot(column='sum_sale',by='platform')"
   ]
  },
  {
   "cell_type": "markdown",
   "metadata": {},
   "source": [
    "Видим выбросы значений."
   ]
  },
  {
   "cell_type": "code",
   "execution_count": 51,
   "metadata": {},
   "outputs": [
    {
     "data": {
      "text/plain": [
       "(0.0, 2.0)"
      ]
     },
     "execution_count": 51,
     "metadata": {},
     "output_type": "execute_result"
    },
    {
     "data": {
      "image/png": "[encoded data removed]",
      "text/plain": [
       "<Figure size 432x288 with 1 Axes>"
      ]
     },
     "metadata": {
      "needs_background": "light"
     },
     "output_type": "display_data"
    }
   ],
   "source": [
    "platform_top_2003.boxplot(column='sum_sale', by='platform')\n",
    "plt.ylim(0, 2,5)"
   ]
  },
  {
   "cell_type": "markdown",
   "metadata": {},
   "source": [
    "Вывод: продажи большинства игр по разным платформам не превышает 2 миллионов. "
   ]
  },
  {
   "cell_type": "markdown",
   "metadata": {},
   "source": [
    "5. Посмотрим как влияют на продажи внутри одной популярной платформы отзывы пользователей и критиков. Построим диаграмму рассеяния и посчитаем корреляцию между отзывами и продажами."
   ]
  },
  {
   "cell_type": "code",
   "execution_count": 52,
   "metadata": {},
   "outputs": [],
   "source": [
    " ps4_user_score = platform_top_2003.query('platform == \"PS4\" and user_score != -1') #срез данных для платформы \"PS4\""
   ]
  },
  {
   "cell_type": "code",
   "execution_count": 53,
   "metadata": {},
   "outputs": [
    {
     "data": {
      "text/plain": [
       "<AxesSubplot:xlabel='user_score', ylabel='sum_sale'>"
      ]
     },
     "execution_count": 53,
     "metadata": {},
     "output_type": "execute_result"
    },
    {
     "data": {
      "image/png": "[encoded data removed]",
      "text/plain": [
       "<Figure size 432x288 with 1 Axes>"
      ]
     },
     "metadata": {
      "needs_background": "light"
     },
     "output_type": "display_data"
    }
   ],
   "source": [
    "ps4_user_score.plot(x = 'user_score', y = 'sum_sale', kind = 'scatter') # построение диаграммы рассеяния"
   ]
  },
  {
   "cell_type": "code",
   "execution_count": 54,
   "metadata": {},
   "outputs": [
    {
     "data": {
      "text/plain": [
       "-0.031957109005188285"
      ]
     },
     "metadata": {},
     "output_type": "display_data"
    }
   ],
   "source": [
    "display(ps4_user_score['user_score'].corr(ps4_user_score['sum_sale'])) # расчет корреляции"
   ]
  },
  {
   "cell_type": "markdown",
   "metadata": {},
   "source": [
    "Значение коэффицианта корреляции говорит об отсутствии линейной зависимости между оценкой пользователей и продажами на платформе PS4 по данным таблицы за 2012-2016 года."
   ]
  },
  {
   "cell_type": "code",
   "execution_count": 55,
   "metadata": {},
   "outputs": [],
   "source": [
    " ps4_critic_score = platform_top_2003.query('platform == \"PS4\" and critic_score != -1') #срез данных для платформы \"PS4\""
   ]
  },
  {
   "cell_type": "code",
   "execution_count": 56,
   "metadata": {},
   "outputs": [
    {
     "data": {
      "text/plain": [
       "<AxesSubplot:xlabel='critic_score', ylabel='sum_sale'>"
      ]
     },
     "execution_count": 56,
     "metadata": {},
     "output_type": "execute_result"
    },
    {
     "data": {
      "image/png": "[encoded data removed]",
      "text/plain": [
       "<Figure size 432x288 with 1 Axes>"
      ]
     },
     "metadata": {
      "needs_background": "light"
     },
     "output_type": "display_data"
    }
   ],
   "source": [
    "ps4_critic_score.plot(x = 'critic_score', y = 'sum_sale', kind = 'scatter') # построение диаграммы рассеяния"
   ]
  },
  {
   "cell_type": "code",
   "execution_count": 57,
   "metadata": {},
   "outputs": [
    {
     "data": {
      "text/plain": [
       "0.40656790206178095"
      ]
     },
     "metadata": {},
     "output_type": "display_data"
    }
   ],
   "source": [
    "display(ps4_critic_score['critic_score'].corr(ps4_critic_score['sum_sale']))"
   ]
  },
  {
   "cell_type": "markdown",
   "metadata": {},
   "source": [
    "Значение коэффицианта корреляции говорит о присутствии умеренной линейной зависимости между оценкой критиков и продажами на платформе PS4 по данным таблицы за 2012-2016 года."
   ]
  },
  {
   "cell_type": "markdown",
   "metadata": {},
   "source": [
    "Теперь посмотрим повторяться ли данные выводы для данных по всем платформам за период 2012-2016 годов."
   ]
  },
  {
   "cell_type": "code",
   "execution_count": 58,
   "metadata": {},
   "outputs": [],
   "source": [
    "df_2003_user_score = df_2003.query('user_score != -1') # не учитываем искусственную замену пропущенных оценок"
   ]
  },
  {
   "cell_type": "code",
   "execution_count": 59,
   "metadata": {},
   "outputs": [
    {
     "data": {
      "text/plain": [
       "<AxesSubplot:xlabel='user_score', ylabel='sum_sale'>"
      ]
     },
     "execution_count": 59,
     "metadata": {},
     "output_type": "execute_result"
    },
    {
     "data": {
      "image/png": "[encoded data removed]",
      "text/plain": [
       "<Figure size 432x288 with 1 Axes>"
      ]
     },
     "metadata": {
      "needs_background": "light"
     },
     "output_type": "display_data"
    }
   ],
   "source": [
    "df_2003_user_score.plot(x = 'user_score', y = 'sum_sale', kind = 'scatter')"
   ]
  },
  {
   "cell_type": "code",
   "execution_count": 60,
   "metadata": {},
   "outputs": [
    {
     "data": {
      "text/plain": [
       "0.004518644519169577"
      ]
     },
     "metadata": {},
     "output_type": "display_data"
    }
   ],
   "source": [
    "display(df_2003_user_score['user_score'].corr(df_2003_user_score['sum_sale']))"
   ]
  },
  {
   "cell_type": "markdown",
   "metadata": {},
   "source": [
    "Значение коэффицианта корреляции говорит об отсутствии линейной зависимости между оценкой пользователей и продажами на всех платформах по данным таблицы за 2012-2016 года."
   ]
  },
  {
   "cell_type": "code",
   "execution_count": 61,
   "metadata": {},
   "outputs": [],
   "source": [
    "df_2003_critic_score = df_2003.query('critic_score != -1')"
   ]
  },
  {
   "cell_type": "code",
   "execution_count": 62,
   "metadata": {},
   "outputs": [
    {
     "data": {
      "text/plain": [
       "<AxesSubplot:xlabel='critic_score', ylabel='sum_sale'>"
      ]
     },
     "execution_count": 62,
     "metadata": {},
     "output_type": "execute_result"
    },
    {
     "data": {
      "image/png": "[encoded data removed]",
      "text/plain": [
       "<Figure size 432x288 with 1 Axes>"
      ]
     },
     "metadata": {
      "needs_background": "light"
     },
     "output_type": "display_data"
    }
   ],
   "source": [
    "df_2003_critic_score.plot(x = 'critic_score', y = 'sum_sale', kind = 'scatter')"
   ]
  },
  {
   "cell_type": "code",
   "execution_count": 63,
   "metadata": {},
   "outputs": [
    {
     "data": {
      "text/plain": [
       "0.3079511444868076"
      ]
     },
     "metadata": {},
     "output_type": "display_data"
    }
   ],
   "source": [
    "display(df_2003_critic_score['critic_score'].corr(df_2003_critic_score['sum_sale'])) #расчет коэффициента корреляции между оценкой критиков и продажами"
   ]
  },
  {
   "cell_type": "markdown",
   "metadata": {},
   "source": [
    "Значение коэффицианта корреляции говорит об отсутствии линейной зависимости между оценкой критиков и продажами на всех платформах по данным таблицы за 2012-2016 года."
   ]
  },
  {
   "cell_type": "markdown",
   "metadata": {},
   "source": [
    "На основании расчетов коэффициента корреляции нельзя сделать однозначный вывод о зависимости объемов продаж и оценок критиков и пользователей, скорее можно сделать вывод, что прямой зависимости нет, либо она очень слабая."
   ]
  },
  {
   "cell_type": "code",
   "execution_count": 64,
   "metadata": {},
   "outputs": [
    {
     "data": {
      "text/plain": [
       "'Коэффициент корреляции для платформы'"
      ]
     },
     "metadata": {},
     "output_type": "display_data"
    },
    {
     "data": {
      "text/plain": [
       "'PS4'"
      ]
     },
     "metadata": {},
     "output_type": "display_data"
    },
    {
     "data": {
      "text/plain": [
       "'равен'"
      ]
     },
     "metadata": {},
     "output_type": "display_data"
    },
    {
     "data": {
      "text/plain": [
       "-0.031957109005188285"
      ]
     },
     "metadata": {},
     "output_type": "display_data"
    },
    {
     "data": {
      "text/plain": [
       "'Коэффициент корреляции для платформы'"
      ]
     },
     "metadata": {},
     "output_type": "display_data"
    },
    {
     "data": {
      "text/plain": [
       "'PS3'"
      ]
     },
     "metadata": {},
     "output_type": "display_data"
    },
    {
     "data": {
      "text/plain": [
       "'равен'"
      ]
     },
     "metadata": {},
     "output_type": "display_data"
    },
    {
     "data": {
      "text/plain": [
       "-0.005043046458187048"
      ]
     },
     "metadata": {},
     "output_type": "display_data"
    },
    {
     "data": {
      "text/plain": [
       "'Коэффициент корреляции для платформы'"
      ]
     },
     "metadata": {},
     "output_type": "display_data"
    },
    {
     "data": {
      "text/plain": [
       "'X360'"
      ]
     },
     "metadata": {},
     "output_type": "display_data"
    },
    {
     "data": {
      "text/plain": [
       "'равен'"
      ]
     },
     "metadata": {},
     "output_type": "display_data"
    },
    {
     "data": {
      "text/plain": [
       "0.006314948344774403"
      ]
     },
     "metadata": {},
     "output_type": "display_data"
    },
    {
     "data": {
      "text/plain": [
       "'Коэффициент корреляции для платформы'"
      ]
     },
     "metadata": {},
     "output_type": "display_data"
    },
    {
     "data": {
      "text/plain": [
       "'3DS'"
      ]
     },
     "metadata": {},
     "output_type": "display_data"
    },
    {
     "data": {
      "text/plain": [
       "'равен'"
      ]
     },
     "metadata": {},
     "output_type": "display_data"
    },
    {
     "data": {
      "text/plain": [
       "0.19814961706058062"
      ]
     },
     "metadata": {},
     "output_type": "display_data"
    },
    {
     "data": {
      "text/plain": [
       "'Коэффициент корреляции для платформы'"
      ]
     },
     "metadata": {},
     "output_type": "display_data"
    },
    {
     "data": {
      "text/plain": [
       "'XOne'"
      ]
     },
     "metadata": {},
     "output_type": "display_data"
    },
    {
     "data": {
      "text/plain": [
       "'равен'"
      ]
     },
     "metadata": {},
     "output_type": "display_data"
    },
    {
     "data": {
      "text/plain": [
       "-0.06892505319711206"
      ]
     },
     "metadata": {},
     "output_type": "display_data"
    },
    {
     "data": {
      "text/plain": [
       "'Коэффициент корреляции для платформы'"
      ]
     },
     "metadata": {},
     "output_type": "display_data"
    },
    {
     "data": {
      "text/plain": [
       "'WiiU'"
      ]
     },
     "metadata": {},
     "output_type": "display_data"
    },
    {
     "data": {
      "text/plain": [
       "'равен'"
      ]
     },
     "metadata": {},
     "output_type": "display_data"
    },
    {
     "data": {
      "text/plain": [
       "0.4002190377710612"
      ]
     },
     "metadata": {},
     "output_type": "display_data"
    },
    {
     "data": {
      "text/plain": [
       "'Коэффициент корреляции для платформы'"
      ]
     },
     "metadata": {},
     "output_type": "display_data"
    },
    {
     "data": {
      "text/plain": [
       "'PC'"
      ]
     },
     "metadata": {},
     "output_type": "display_data"
    },
    {
     "data": {
      "text/plain": [
       "'равен'"
      ]
     },
     "metadata": {},
     "output_type": "display_data"
    },
    {
     "data": {
      "text/plain": [
       "-0.12033868713356886"
      ]
     },
     "metadata": {},
     "output_type": "display_data"
    },
    {
     "data": {
      "text/plain": [
       "'Коэффициент корреляции для платформы'"
      ]
     },
     "metadata": {},
     "output_type": "display_data"
    },
    {
     "data": {
      "text/plain": [
       "'PSV'"
      ]
     },
     "metadata": {},
     "output_type": "display_data"
    },
    {
     "data": {
      "text/plain": [
       "'равен'"
      ]
     },
     "metadata": {},
     "output_type": "display_data"
    },
    {
     "data": {
      "text/plain": [
       "-0.004339454898299734"
      ]
     },
     "metadata": {},
     "output_type": "display_data"
    },
    {
     "data": {
      "text/plain": [
       "'Коэффициент корреляции для платформы'"
      ]
     },
     "metadata": {},
     "output_type": "display_data"
    },
    {
     "data": {
      "text/plain": [
       "'Wii'"
      ]
     },
     "metadata": {},
     "output_type": "display_data"
    },
    {
     "data": {
      "text/plain": [
       "'равен'"
      ]
     },
     "metadata": {},
     "output_type": "display_data"
    },
    {
     "data": {
      "text/plain": [
       "0.2775423930547496"
      ]
     },
     "metadata": {},
     "output_type": "display_data"
    },
    {
     "data": {
      "text/plain": [
       "'Коэффициент корреляции для платформы'"
      ]
     },
     "metadata": {},
     "output_type": "display_data"
    },
    {
     "data": {
      "text/plain": [
       "'DS'"
      ]
     },
     "metadata": {},
     "output_type": "display_data"
    },
    {
     "data": {
      "text/plain": [
       "'равен'"
      ]
     },
     "metadata": {},
     "output_type": "display_data"
    },
    {
     "data": {
      "text/plain": [
       "0.8827087062516973"
      ]
     },
     "metadata": {},
     "output_type": "display_data"
    },
    {
     "data": {
      "image/png": "[encoded data removed]",
      "text/plain": [
       "<Figure size 432x288 with 1 Axes>"
      ]
     },
     "metadata": {
      "needs_background": "light"
     },
     "output_type": "display_data"
    },
    {
     "data": {
      "image/png": "[encoded data removed]",
      "text/plain": [
       "<Figure size 432x288 with 1 Axes>"
      ]
     },
     "metadata": {
      "needs_background": "light"
     },
     "output_type": "display_data"
    },
    {
     "data": {
      "image/png": "[encoded data removed]",
      "text/plain": [
       "<Figure size 432x288 with 1 Axes>"
      ]
     },
     "metadata": {
      "needs_background": "light"
     },
     "output_type": "display_data"
    },
    {
     "data": {
      "image/png": "[encoded data removed]",
      "text/plain": [
       "<Figure size 432x288 with 1 Axes>"
      ]
     },
     "metadata": {
      "needs_background": "light"
     },
     "output_type": "display_data"
    },
    {
     "data": {
      "image/png": "[encoded data removed]",
      "text/plain": [
       "<Figure size 432x288 with 1 Axes>"
      ]
     },
     "metadata": {
      "needs_background": "light"
     },
     "output_type": "display_data"
    },
    {
     "data": {
      "image/png": "[encoded data removed]",
      "text/plain": [
       "<Figure size 432x288 with 1 Axes>"
      ]
     },
     "metadata": {
      "needs_background": "light"
     },
     "output_type": "display_data"
    },
    {
     "data": {
      "image/png": "[encoded data removed]",
      "text/plain": [
       "<Figure size 432x288 with 1 Axes>"
      ]
     },
     "metadata": {
      "needs_background": "light"
     },
     "output_type": "display_data"
    },
    {
     "data": {
      "image/png": "[encoded data removed]",
      "text/plain": [
       "<Figure size 432x288 with 1 Axes>"
      ]
     },
     "metadata": {
      "needs_background": "light"
     },
     "output_type": "display_data"
    },
    {
     "data": {
      "image/png": "[encoded data removed]",
      "text/plain": [
       "<Figure size 432x288 with 1 Axes>"
      ]
     },
     "metadata": {
      "needs_background": "light"
     },
     "output_type": "display_data"
    },
    {
     "data": {
      "image/png": "[encoded data removed]",
      "text/plain": [
       "<Figure size 432x288 with 1 Axes>"
      ]
     },
     "metadata": {
      "needs_background": "light"
     },
     "output_type": "display_data"
    }
   ],
   "source": [
    "list_platform_2003 = ['PS4', 'PS3', 'X360', '3DS', 'XOne', 'WiiU', 'PC', 'PSV', 'Wii', 'DS']\n",
    "\n",
    "for element in list_platform_2003:\n",
    "    element_user_score = platform_top_2003.query('platform == @element and user_score != -1')\n",
    "    element_user_score.plot(x = 'user_score', y = 'sum_sale', kind = 'scatter', ylabel = element)\n",
    "    display('Коэффициент корреляции для платформы', element, 'равен', element_user_score['user_score'].corr(element_user_score['sum_sale']))"
   ]
  },
  {
   "cell_type": "markdown",
   "metadata": {},
   "source": [
    "Значения коэффициента корреляции, говорит о том, что отсутствует линейная зависимость между оценкой пользователей и объемами продаж. Значение коэффициента корреляции для платформы DS не может быть показательным, по диаграмме рассеяния в\n",
    "идно что выборка мала."
   ]
  },
  {
   "cell_type": "code",
   "execution_count": 65,
   "metadata": {},
   "outputs": [
    {
     "data": {
      "text/plain": [
       "'Коэффициент корреляции для платформы'"
      ]
     },
     "metadata": {},
     "output_type": "display_data"
    },
    {
     "data": {
      "text/plain": [
       "'PS4'"
      ]
     },
     "metadata": {},
     "output_type": "display_data"
    },
    {
     "data": {
      "text/plain": [
       "'равен'"
      ]
     },
     "metadata": {},
     "output_type": "display_data"
    },
    {
     "data": {
      "text/plain": [
       "0.40656790206178095"
      ]
     },
     "metadata": {},
     "output_type": "display_data"
    },
    {
     "data": {
      "text/plain": [
       "'Коэффициент корреляции для платформы'"
      ]
     },
     "metadata": {},
     "output_type": "display_data"
    },
    {
     "data": {
      "text/plain": [
       "'PS3'"
      ]
     },
     "metadata": {},
     "output_type": "display_data"
    },
    {
     "data": {
      "text/plain": [
       "'равен'"
      ]
     },
     "metadata": {},
     "output_type": "display_data"
    },
    {
     "data": {
      "text/plain": [
       "0.3313706318754621"
      ]
     },
     "metadata": {},
     "output_type": "display_data"
    },
    {
     "data": {
      "text/plain": [
       "'Коэффициент корреляции для платформы'"
      ]
     },
     "metadata": {},
     "output_type": "display_data"
    },
    {
     "data": {
      "text/plain": [
       "'X360'"
      ]
     },
     "metadata": {},
     "output_type": "display_data"
    },
    {
     "data": {
      "text/plain": [
       "'равен'"
      ]
     },
     "metadata": {},
     "output_type": "display_data"
    },
    {
     "data": {
      "text/plain": [
       "0.3602659026138049"
      ]
     },
     "metadata": {},
     "output_type": "display_data"
    },
    {
     "data": {
      "text/plain": [
       "'Коэффициент корреляции для платформы'"
      ]
     },
     "metadata": {},
     "output_type": "display_data"
    },
    {
     "data": {
      "text/plain": [
       "'3DS'"
      ]
     },
     "metadata": {},
     "output_type": "display_data"
    },
    {
     "data": {
      "text/plain": [
       "'равен'"
      ]
     },
     "metadata": {},
     "output_type": "display_data"
    },
    {
     "data": {
      "text/plain": [
       "0.32045778764077804"
      ]
     },
     "metadata": {},
     "output_type": "display_data"
    },
    {
     "data": {
      "text/plain": [
       "'Коэффициент корреляции для платформы'"
      ]
     },
     "metadata": {},
     "output_type": "display_data"
    },
    {
     "data": {
      "text/plain": [
       "'XOne'"
      ]
     },
     "metadata": {},
     "output_type": "display_data"
    },
    {
     "data": {
      "text/plain": [
       "'равен'"
      ]
     },
     "metadata": {},
     "output_type": "display_data"
    },
    {
     "data": {
      "text/plain": [
       "0.4169983280084017"
      ]
     },
     "metadata": {},
     "output_type": "display_data"
    },
    {
     "data": {
      "text/plain": [
       "'Коэффициент корреляции для платформы'"
      ]
     },
     "metadata": {},
     "output_type": "display_data"
    },
    {
     "data": {
      "text/plain": [
       "'WiiU'"
      ]
     },
     "metadata": {},
     "output_type": "display_data"
    },
    {
     "data": {
      "text/plain": [
       "'равен'"
      ]
     },
     "metadata": {},
     "output_type": "display_data"
    },
    {
     "data": {
      "text/plain": [
       "0.34837976012017485"
      ]
     },
     "metadata": {},
     "output_type": "display_data"
    },
    {
     "data": {
      "text/plain": [
       "'Коэффициент корреляции для платформы'"
      ]
     },
     "metadata": {},
     "output_type": "display_data"
    },
    {
     "data": {
      "text/plain": [
       "'PC'"
      ]
     },
     "metadata": {},
     "output_type": "display_data"
    },
    {
     "data": {
      "text/plain": [
       "'равен'"
      ]
     },
     "metadata": {},
     "output_type": "display_data"
    },
    {
     "data": {
      "text/plain": [
       "0.24057023259681187"
      ]
     },
     "metadata": {},
     "output_type": "display_data"
    },
    {
     "data": {
      "text/plain": [
       "'Коэффициент корреляции для платформы'"
      ]
     },
     "metadata": {},
     "output_type": "display_data"
    },
    {
     "data": {
      "text/plain": [
       "'PSV'"
      ]
     },
     "metadata": {},
     "output_type": "display_data"
    },
    {
     "data": {
      "text/plain": [
       "'равен'"
      ]
     },
     "metadata": {},
     "output_type": "display_data"
    },
    {
     "data": {
      "text/plain": [
       "0.0944878992931617"
      ]
     },
     "metadata": {},
     "output_type": "display_data"
    },
    {
     "data": {
      "text/plain": [
       "'Коэффициент корреляции для платформы'"
      ]
     },
     "metadata": {},
     "output_type": "display_data"
    },
    {
     "data": {
      "text/plain": [
       "'Wii'"
      ]
     },
     "metadata": {},
     "output_type": "display_data"
    },
    {
     "data": {
      "text/plain": [
       "'равен'"
      ]
     },
     "metadata": {},
     "output_type": "display_data"
    },
    {
     "data": {
      "text/plain": [
       "-0.4059967406465306"
      ]
     },
     "metadata": {},
     "output_type": "display_data"
    },
    {
     "data": {
      "text/plain": [
       "'Коэффициент корреляции для платформы'"
      ]
     },
     "metadata": {},
     "output_type": "display_data"
    },
    {
     "data": {
      "text/plain": [
       "'DS'"
      ]
     },
     "metadata": {},
     "output_type": "display_data"
    },
    {
     "data": {
      "text/plain": [
       "'равен'"
      ]
     },
     "metadata": {},
     "output_type": "display_data"
    },
    {
     "data": {
      "text/plain": [
       "1.0"
      ]
     },
     "metadata": {},
     "output_type": "display_data"
    },
    {
     "data": {
      "image/png": "[encoded data removed]",
      "text/plain": [
       "<Figure size 432x288 with 1 Axes>"
      ]
     },
     "metadata": {
      "needs_background": "light"
     },
     "output_type": "display_data"
    },
    {
     "data": {
      "image/png": "[encoded data removed]",
      "text/plain": [
       "<Figure size 432x288 with 1 Axes>"
      ]
     },
     "metadata": {
      "needs_background": "light"
     },
     "output_type": "display_data"
    },
    {
     "data": {
      "image/png": "[encoded data removed]",
      "text/plain": [
       "<Figure size 432x288 with 1 Axes>"
      ]
     },
     "metadata": {
      "needs_background": "light"
     },
     "output_type": "display_data"
    },
    {
     "data": {
      "image/png": "[encoded data removed]",
      "text/plain": [
       "<Figure size 432x288 with 1 Axes>"
      ]
     },
     "metadata": {
      "needs_background": "light"
     },
     "output_type": "display_data"
    },
    {
     "data": {
      "image/png": "[encoded data removed]",
      "text/plain": [
       "<Figure size 432x288 with 1 Axes>"
      ]
     },
     "metadata": {
      "needs_background": "light"
     },
     "output_type": "display_data"
    },
    {
     "data": {
      "image/png": "[encoded data removed]",
      "text/plain": [
       "<Figure size 432x288 with 1 Axes>"
      ]
     },
     "metadata": {
      "needs_background": "light"
     },
     "output_type": "display_data"
    },
    {
     "data": {
      "image/png": "[encoded data removed]",
      "text/plain": [
       "<Figure size 432x288 with 1 Axes>"
      ]
     },
     "metadata": {
      "needs_background": "light"
     },
     "output_type": "display_data"
    },
    {
     "data": {
      "image/png": "[encoded data removed]",
      "text/plain": [
       "<Figure size 432x288 with 1 Axes>"
      ]
     },
     "metadata": {
      "needs_background": "light"
     },
     "output_type": "display_data"
    },
    {
     "data": {
      "image/png": "[encoded data removed]",
      "text/plain": [
       "<Figure size 432x288 with 1 Axes>"
      ]
     },
     "metadata": {
      "needs_background": "light"
     },
     "output_type": "display_data"
    },
    {
     "data": {
      "image/png": "[encoded data removed]",
      "text/plain": [
       "<Figure size 432x288 with 1 Axes>"
      ]
     },
     "metadata": {
      "needs_background": "light"
     },
     "output_type": "display_data"
    }
   ],
   "source": [
    "list_platform_2003 = ['PS4', 'PS3', 'X360', '3DS', 'XOne', 'WiiU', 'PC', 'PSV', 'Wii', 'DS']\n",
    "\n",
    "for element in list_platform_2003:\n",
    "    element_critic_score = platform_top_2003.query('platform == @element and critic_score != -1')\n",
    "    element_critic_score.plot(x = 'critic_score', y = 'sum_sale', kind = 'scatter', ylabel = element)\n",
    "    display('Коэффициент корреляции для платформы', element, 'равен', element_critic_score['critic_score'].corr(element_critic_score['sum_sale']))"
   ]
  },
  {
   "cell_type": "markdown",
   "metadata": {},
   "source": [
    "Значения коэффициента корреляции, говорит о том, что отсутствует линейная зависимость между оценкой критиков и объемами продаж. Значение коэффициента корреляции для платформы DS не может быть показательным, по диаграмме рассеяния видно, что выборка мала."
   ]
  },
  {
   "cell_type": "markdown",
   "metadata": {},
   "source": [
    "6. Посмотрим на общее распределение игр по жанрам. Что можно сказать о самых прибыльных жанрах? Выделяются ли жанры с высокими и низкими продажами?"
   ]
  },
  {
   "cell_type": "code",
   "execution_count": 66,
   "metadata": {},
   "outputs": [],
   "source": [
    "genre_count = (df_2003.groupby('genre')['name'].count().sort_values(ascending=False).to_frame()) # количество выпущенных игр по жанрам в период с 2012- 2016 года"
   ]
  },
  {
   "cell_type": "code",
   "execution_count": 67,
   "metadata": {},
   "outputs": [
    {
     "data": {
      "text/html": [
       "<div>\n",
       "<style scoped>\n",
       "    .dataframe tbody tr th:only-of-type {\n",
       "        vertical-align: middle;\n",
       "    }\n",
       "\n",
       "    .dataframe tbody tr th {\n",
       "        vertical-align: top;\n",
       "    }\n",
       "\n",
       "    .dataframe thead th {\n",
       "        text-align: right;\n",
       "    }\n",
       "</style>\n",
       "<table border=\"1\" class=\"dataframe\">\n",
       "  <thead>\n",
       "    <tr style=\"text-align: right;\">\n",
       "      <th></th>\n",
       "      <th>name</th>\n",
       "    </tr>\n",
       "    <tr>\n",
       "      <th>genre</th>\n",
       "      <th></th>\n",
       "    </tr>\n",
       "  </thead>\n",
       "  <tbody>\n",
       "    <tr>\n",
       "      <th>Action</th>\n",
       "      <td>1041</td>\n",
       "    </tr>\n",
       "    <tr>\n",
       "      <th>Role-Playing</th>\n",
       "      <td>370</td>\n",
       "    </tr>\n",
       "    <tr>\n",
       "      <th>Adventure</th>\n",
       "      <td>302</td>\n",
       "    </tr>\n",
       "    <tr>\n",
       "      <th>Sports</th>\n",
       "      <td>268</td>\n",
       "    </tr>\n",
       "    <tr>\n",
       "      <th>Shooter</th>\n",
       "      <td>237</td>\n",
       "    </tr>\n",
       "    <tr>\n",
       "      <th>Misc</th>\n",
       "      <td>193</td>\n",
       "    </tr>\n",
       "    <tr>\n",
       "      <th>Racing</th>\n",
       "      <td>115</td>\n",
       "    </tr>\n",
       "    <tr>\n",
       "      <th>Fighting</th>\n",
       "      <td>109</td>\n",
       "    </tr>\n",
       "    <tr>\n",
       "      <th>Platform</th>\n",
       "      <td>85</td>\n",
       "    </tr>\n",
       "    <tr>\n",
       "      <th>Simulation</th>\n",
       "      <td>80</td>\n",
       "    </tr>\n",
       "    <tr>\n",
       "      <th>Strategy</th>\n",
       "      <td>71</td>\n",
       "    </tr>\n",
       "    <tr>\n",
       "      <th>Puzzle</th>\n",
       "      <td>28</td>\n",
       "    </tr>\n",
       "  </tbody>\n",
       "</table>\n",
       "</div>"
      ],
      "text/plain": [
       "              name\n",
       "genre             \n",
       "Action        1041\n",
       "Role-Playing   370\n",
       "Adventure      302\n",
       "Sports         268\n",
       "Shooter        237\n",
       "Misc           193\n",
       "Racing         115\n",
       "Fighting       109\n",
       "Platform        85\n",
       "Simulation      80\n",
       "Strategy        71\n",
       "Puzzle          28"
      ]
     },
     "execution_count": 67,
     "metadata": {},
     "output_type": "execute_result"
    }
   ],
   "source": [
    "genre_count "
   ]
  },
  {
   "cell_type": "code",
   "execution_count": 68,
   "metadata": {},
   "outputs": [],
   "source": [
    "genre_sale =(df_2003.groupby('genre')['sum_sale'].sum().sort_values(ascending=False).to_frame()) # объемы продаж игр разных жанров в период с 2012-2016 годов  "
   ]
  },
  {
   "cell_type": "code",
   "execution_count": 69,
   "metadata": {},
   "outputs": [
    {
     "data": {
      "text/html": [
       "<div>\n",
       "<style scoped>\n",
       "    .dataframe tbody tr th:only-of-type {\n",
       "        vertical-align: middle;\n",
       "    }\n",
       "\n",
       "    .dataframe tbody tr th {\n",
       "        vertical-align: top;\n",
       "    }\n",
       "\n",
       "    .dataframe thead th {\n",
       "        text-align: right;\n",
       "    }\n",
       "</style>\n",
       "<table border=\"1\" class=\"dataframe\">\n",
       "  <thead>\n",
       "    <tr style=\"text-align: right;\">\n",
       "      <th></th>\n",
       "      <th>sum_sale</th>\n",
       "    </tr>\n",
       "    <tr>\n",
       "      <th>genre</th>\n",
       "      <th></th>\n",
       "    </tr>\n",
       "  </thead>\n",
       "  <tbody>\n",
       "    <tr>\n",
       "      <th>Action</th>\n",
       "      <td>446.41</td>\n",
       "    </tr>\n",
       "    <tr>\n",
       "      <th>Shooter</th>\n",
       "      <td>304.75</td>\n",
       "    </tr>\n",
       "    <tr>\n",
       "      <th>Role-Playing</th>\n",
       "      <td>192.80</td>\n",
       "    </tr>\n",
       "    <tr>\n",
       "      <th>Sports</th>\n",
       "      <td>181.07</td>\n",
       "    </tr>\n",
       "    <tr>\n",
       "      <th>Misc</th>\n",
       "      <td>85.28</td>\n",
       "    </tr>\n",
       "    <tr>\n",
       "      <th>Platform</th>\n",
       "      <td>61.00</td>\n",
       "    </tr>\n",
       "    <tr>\n",
       "      <th>Racing</th>\n",
       "      <td>53.50</td>\n",
       "    </tr>\n",
       "    <tr>\n",
       "      <th>Fighting</th>\n",
       "      <td>44.49</td>\n",
       "    </tr>\n",
       "    <tr>\n",
       "      <th>Simulation</th>\n",
       "      <td>35.12</td>\n",
       "    </tr>\n",
       "    <tr>\n",
       "      <th>Adventure</th>\n",
       "      <td>29.43</td>\n",
       "    </tr>\n",
       "    <tr>\n",
       "      <th>Strategy</th>\n",
       "      <td>13.34</td>\n",
       "    </tr>\n",
       "    <tr>\n",
       "      <th>Puzzle</th>\n",
       "      <td>4.89</td>\n",
       "    </tr>\n",
       "  </tbody>\n",
       "</table>\n",
       "</div>"
      ],
      "text/plain": [
       "              sum_sale\n",
       "genre                 \n",
       "Action          446.41\n",
       "Shooter         304.75\n",
       "Role-Playing    192.80\n",
       "Sports          181.07\n",
       "Misc             85.28\n",
       "Platform         61.00\n",
       "Racing           53.50\n",
       "Fighting         44.49\n",
       "Simulation       35.12\n",
       "Adventure        29.43\n",
       "Strategy         13.34\n",
       "Puzzle            4.89"
      ]
     },
     "execution_count": 69,
     "metadata": {},
     "output_type": "execute_result"
    }
   ],
   "source": [
    "genre_sale"
   ]
  },
  {
   "cell_type": "markdown",
   "metadata": {},
   "source": [
    "Самым прибыльным жанром является жанр \"Действие\", самым низкодоходным жанр \"Головоломка\"."
   ]
  },
  {
   "cell_type": "code",
   "execution_count": 70,
   "metadata": {},
   "outputs": [
    {
     "data": {
      "text/plain": [
       "0.8574706421357056"
      ]
     },
     "metadata": {},
     "output_type": "display_data"
    }
   ],
   "source": [
    "display(genre_count['name'].corr(genre_sale['sum_sale']))# коэффициент корреляции зависимости жанра игры и объема продаж"
   ]
  },
  {
   "cell_type": "markdown",
   "metadata": {},
   "source": [
    "Значение коэффициента корреляции говорит о линейной зависимости между жанром игры и продажами на всех платформах по данным таблицы за 2012-2016 года."
   ]
  },
  {
   "cell_type": "code",
   "execution_count": 71,
   "metadata": {},
   "outputs": [],
   "source": [
    "genre_sale_median =(df_2003.groupby('genre')['sum_sale'].median().sort_values(ascending=False).to_frame())# вывод медианных продаж по жанрам"
   ]
  },
  {
   "cell_type": "code",
   "execution_count": 72,
   "metadata": {},
   "outputs": [
    {
     "data": {
      "text/html": [
       "<div>\n",
       "<style scoped>\n",
       "    .dataframe tbody tr th:only-of-type {\n",
       "        vertical-align: middle;\n",
       "    }\n",
       "\n",
       "    .dataframe tbody tr th {\n",
       "        vertical-align: top;\n",
       "    }\n",
       "\n",
       "    .dataframe thead th {\n",
       "        text-align: right;\n",
       "    }\n",
       "</style>\n",
       "<table border=\"1\" class=\"dataframe\">\n",
       "  <thead>\n",
       "    <tr style=\"text-align: right;\">\n",
       "      <th></th>\n",
       "      <th>sum_sale</th>\n",
       "    </tr>\n",
       "    <tr>\n",
       "      <th>genre</th>\n",
       "      <th></th>\n",
       "    </tr>\n",
       "  </thead>\n",
       "  <tbody>\n",
       "    <tr>\n",
       "      <th>Shooter</th>\n",
       "      <td>0.430</td>\n",
       "    </tr>\n",
       "    <tr>\n",
       "      <th>Sports</th>\n",
       "      <td>0.240</td>\n",
       "    </tr>\n",
       "    <tr>\n",
       "      <th>Platform</th>\n",
       "      <td>0.210</td>\n",
       "    </tr>\n",
       "    <tr>\n",
       "      <th>Role-Playing</th>\n",
       "      <td>0.140</td>\n",
       "    </tr>\n",
       "    <tr>\n",
       "      <th>Racing</th>\n",
       "      <td>0.140</td>\n",
       "    </tr>\n",
       "    <tr>\n",
       "      <th>Fighting</th>\n",
       "      <td>0.130</td>\n",
       "    </tr>\n",
       "    <tr>\n",
       "      <th>Action</th>\n",
       "      <td>0.120</td>\n",
       "    </tr>\n",
       "    <tr>\n",
       "      <th>Misc</th>\n",
       "      <td>0.120</td>\n",
       "    </tr>\n",
       "    <tr>\n",
       "      <th>Simulation</th>\n",
       "      <td>0.120</td>\n",
       "    </tr>\n",
       "    <tr>\n",
       "      <th>Strategy</th>\n",
       "      <td>0.080</td>\n",
       "    </tr>\n",
       "    <tr>\n",
       "      <th>Puzzle</th>\n",
       "      <td>0.045</td>\n",
       "    </tr>\n",
       "    <tr>\n",
       "      <th>Adventure</th>\n",
       "      <td>0.030</td>\n",
       "    </tr>\n",
       "  </tbody>\n",
       "</table>\n",
       "</div>"
      ],
      "text/plain": [
       "              sum_sale\n",
       "genre                 \n",
       "Shooter          0.430\n",
       "Sports           0.240\n",
       "Platform         0.210\n",
       "Role-Playing     0.140\n",
       "Racing           0.140\n",
       "Fighting         0.130\n",
       "Action           0.120\n",
       "Misc             0.120\n",
       "Simulation       0.120\n",
       "Strategy         0.080\n",
       "Puzzle           0.045\n",
       "Adventure        0.030"
      ]
     },
     "execution_count": 72,
     "metadata": {},
     "output_type": "execute_result"
    }
   ],
   "source": [
    "genre_sale_median"
   ]
  },
  {
   "cell_type": "code",
   "execution_count": 73,
   "metadata": {},
   "outputs": [
    {
     "data": {
      "text/plain": [
       "(0.0, 2.0)"
      ]
     },
     "execution_count": 73,
     "metadata": {},
     "output_type": "execute_result"
    },
    {
     "data": {
      "image/png": "[encoded data removed]",
      "text/plain": [
       "<Figure size 1080x576 with 1 Axes>"
      ]
     },
     "metadata": {
      "needs_background": "light"
     },
     "output_type": "display_data"
    }
   ],
   "source": [
    "platform_top_2003.boxplot(column='sum_sale', by='genre', figsize=(15,8))\n",
    "\n",
    "plt.ylim(0, 2)"
   ]
  },
  {
   "cell_type": "markdown",
   "metadata": {},
   "source": [
    "Самые большие медианные продажи у жанра Shooter, Sports, Platform."
   ]
  },
  {
   "cell_type": "markdown",
   "metadata": {},
   "source": [
    "**3. Вывод**"
   ]
  },
  {
   "cell_type": "markdown",
   "metadata": {},
   "source": [
    "1.В данном разделе выяснили, что для опеределения параметров, влияющих на успех компьютерной игры в 2017 года, необходимо взять данные за 2012-2016 годы, так как на данный временной промежуток приходились самые большие продажи на платформах и в эти временные границы произошла смена старых платформ на новые. \n",
    "\n",
    "2.Так же с расчетом коэффициента корреляции выяснили, что нет прямой зависимости между оценкой пользователей и критиков к продажам, есть сильная линейная зависимость между жанром игры и продажами игр.\n",
    "\n",
    "3.Самые популярным жанром является жанр \"Действие\", самым малопопулярным жанром - \"Головоломка\".\n",
    "4. Самые большие медианные продажи у жанра Shooter."
   ]
  },
  {
   "cell_type": "markdown",
   "metadata": {},
   "source": [
    "**4. Составление портрета пользователя игр каждого региона**"
   ]
  },
  {
   "cell_type": "markdown",
   "metadata": {},
   "source": [
    "Определим для пользователя каждого региона (NA, EU, JP):\n",
    "\n",
    "•\tСамые популярные платформы (топ-5). \n",
    "\n",
    "•\tСамые популярные жанры (топ-5). \n",
    "\n",
    "•\tВлияет ли рейтинг ESRB на продажи в отдельном регионе\n"
   ]
  },
  {
   "cell_type": "code",
   "execution_count": 74,
   "metadata": {},
   "outputs": [
    {
     "data": {
      "text/html": [
       "<div>\n",
       "<style scoped>\n",
       "    .dataframe tbody tr th:only-of-type {\n",
       "        vertical-align: middle;\n",
       "    }\n",
       "\n",
       "    .dataframe tbody tr th {\n",
       "        vertical-align: top;\n",
       "    }\n",
       "\n",
       "    .dataframe thead th {\n",
       "        text-align: right;\n",
       "    }\n",
       "</style>\n",
       "<table border=\"1\" class=\"dataframe\">\n",
       "  <thead>\n",
       "    <tr style=\"text-align: right;\">\n",
       "      <th></th>\n",
       "      <th>name</th>\n",
       "      <th>platform</th>\n",
       "      <th>year_of_release</th>\n",
       "      <th>genre</th>\n",
       "      <th>na_sales</th>\n",
       "      <th>eu_sales</th>\n",
       "      <th>jp_sales</th>\n",
       "      <th>other_sales</th>\n",
       "      <th>critic_score</th>\n",
       "      <th>user_score</th>\n",
       "      <th>rating</th>\n",
       "      <th>sum_sale</th>\n",
       "    </tr>\n",
       "  </thead>\n",
       "  <tbody>\n",
       "    <tr>\n",
       "      <th>16</th>\n",
       "      <td>Grand Theft Auto V</td>\n",
       "      <td>PS3</td>\n",
       "      <td>2013</td>\n",
       "      <td>Action</td>\n",
       "      <td>7.02</td>\n",
       "      <td>9.09</td>\n",
       "      <td>0.98</td>\n",
       "      <td>3.96</td>\n",
       "      <td>97.0</td>\n",
       "      <td>8.2</td>\n",
       "      <td>M</td>\n",
       "      <td>21.05</td>\n",
       "    </tr>\n",
       "    <tr>\n",
       "      <th>23</th>\n",
       "      <td>Grand Theft Auto V</td>\n",
       "      <td>X360</td>\n",
       "      <td>2013</td>\n",
       "      <td>Action</td>\n",
       "      <td>9.66</td>\n",
       "      <td>5.14</td>\n",
       "      <td>0.06</td>\n",
       "      <td>1.41</td>\n",
       "      <td>97.0</td>\n",
       "      <td>8.1</td>\n",
       "      <td>M</td>\n",
       "      <td>16.27</td>\n",
       "    </tr>\n",
       "    <tr>\n",
       "      <th>31</th>\n",
       "      <td>Call of Duty: Black Ops 3</td>\n",
       "      <td>PS4</td>\n",
       "      <td>2015</td>\n",
       "      <td>Shooter</td>\n",
       "      <td>6.03</td>\n",
       "      <td>5.86</td>\n",
       "      <td>0.36</td>\n",
       "      <td>2.38</td>\n",
       "      <td>-1.0</td>\n",
       "      <td>-1.0</td>\n",
       "      <td>-1</td>\n",
       "      <td>14.63</td>\n",
       "    </tr>\n",
       "    <tr>\n",
       "      <th>33</th>\n",
       "      <td>Pokemon X/Pokemon Y</td>\n",
       "      <td>3DS</td>\n",
       "      <td>2013</td>\n",
       "      <td>Role-Playing</td>\n",
       "      <td>5.28</td>\n",
       "      <td>4.19</td>\n",
       "      <td>4.35</td>\n",
       "      <td>0.78</td>\n",
       "      <td>-1.0</td>\n",
       "      <td>-1.0</td>\n",
       "      <td>-1</td>\n",
       "      <td>14.60</td>\n",
       "    </tr>\n",
       "    <tr>\n",
       "      <th>34</th>\n",
       "      <td>Call of Duty: Black Ops II</td>\n",
       "      <td>PS3</td>\n",
       "      <td>2012</td>\n",
       "      <td>Shooter</td>\n",
       "      <td>4.99</td>\n",
       "      <td>5.73</td>\n",
       "      <td>0.65</td>\n",
       "      <td>2.42</td>\n",
       "      <td>83.0</td>\n",
       "      <td>5.3</td>\n",
       "      <td>M</td>\n",
       "      <td>13.79</td>\n",
       "    </tr>\n",
       "  </tbody>\n",
       "</table>\n",
       "</div>"
      ],
      "text/plain": [
       "                          name platform  year_of_release         genre  \\\n",
       "16          Grand Theft Auto V      PS3             2013        Action   \n",
       "23          Grand Theft Auto V     X360             2013        Action   \n",
       "31   Call of Duty: Black Ops 3      PS4             2015       Shooter   \n",
       "33         Pokemon X/Pokemon Y      3DS             2013  Role-Playing   \n",
       "34  Call of Duty: Black Ops II      PS3             2012       Shooter   \n",
       "\n",
       "    na_sales  eu_sales  jp_sales  other_sales  critic_score  user_score  \\\n",
       "16      7.02      9.09      0.98         3.96          97.0         8.2   \n",
       "23      9.66      5.14      0.06         1.41          97.0         8.1   \n",
       "31      6.03      5.86      0.36         2.38          -1.0        -1.0   \n",
       "33      5.28      4.19      4.35         0.78          -1.0        -1.0   \n",
       "34      4.99      5.73      0.65         2.42          83.0         5.3   \n",
       "\n",
       "   rating  sum_sale  \n",
       "16      M     21.05  \n",
       "23      M     16.27  \n",
       "31     -1     14.63  \n",
       "33     -1     14.60  \n",
       "34      M     13.79  "
      ]
     },
     "execution_count": 74,
     "metadata": {},
     "output_type": "execute_result"
    }
   ],
   "source": [
    "platform_top_2003.head()"
   ]
  },
  {
   "cell_type": "markdown",
   "metadata": {},
   "source": [
    "4.1 Продажи игр в Северной Америке."
   ]
  },
  {
   "cell_type": "code",
   "execution_count": 75,
   "metadata": {},
   "outputs": [
    {
     "data": {
      "text/html": [
       "<div>\n",
       "<style scoped>\n",
       "    .dataframe tbody tr th:only-of-type {\n",
       "        vertical-align: middle;\n",
       "    }\n",
       "\n",
       "    .dataframe tbody tr th {\n",
       "        vertical-align: top;\n",
       "    }\n",
       "\n",
       "    .dataframe thead th {\n",
       "        text-align: right;\n",
       "    }\n",
       "</style>\n",
       "<table border=\"1\" class=\"dataframe\">\n",
       "  <thead>\n",
       "    <tr style=\"text-align: right;\">\n",
       "      <th></th>\n",
       "      <th>na_sales</th>\n",
       "    </tr>\n",
       "    <tr>\n",
       "      <th>platform</th>\n",
       "      <th></th>\n",
       "    </tr>\n",
       "  </thead>\n",
       "  <tbody>\n",
       "    <tr>\n",
       "      <th>X360</th>\n",
       "      <td>140.57</td>\n",
       "    </tr>\n",
       "    <tr>\n",
       "      <th>PS4</th>\n",
       "      <td>108.74</td>\n",
       "    </tr>\n",
       "    <tr>\n",
       "      <th>PS3</th>\n",
       "      <td>103.74</td>\n",
       "    </tr>\n",
       "    <tr>\n",
       "      <th>XOne</th>\n",
       "      <td>93.12</td>\n",
       "    </tr>\n",
       "    <tr>\n",
       "      <th>3DS</th>\n",
       "      <td>55.49</td>\n",
       "    </tr>\n",
       "  </tbody>\n",
       "</table>\n",
       "</div>"
      ],
      "text/plain": [
       "          na_sales\n",
       "platform          \n",
       "X360        140.57\n",
       "PS4         108.74\n",
       "PS3         103.74\n",
       "XOne         93.12\n",
       "3DS          55.49"
      ]
     },
     "execution_count": 75,
     "metadata": {},
     "output_type": "execute_result"
    }
   ],
   "source": [
    "platform_top_2003.groupby('platform')['na_sales'].sum().sort_values(ascending=False).to_frame().head() #вывод 5 самых популярных платформ"
   ]
  },
  {
   "cell_type": "code",
   "execution_count": 76,
   "metadata": {},
   "outputs": [
    {
     "data": {
      "text/html": [
       "<div>\n",
       "<style scoped>\n",
       "    .dataframe tbody tr th:only-of-type {\n",
       "        vertical-align: middle;\n",
       "    }\n",
       "\n",
       "    .dataframe tbody tr th {\n",
       "        vertical-align: top;\n",
       "    }\n",
       "\n",
       "    .dataframe thead th {\n",
       "        text-align: right;\n",
       "    }\n",
       "</style>\n",
       "<table border=\"1\" class=\"dataframe\">\n",
       "  <thead>\n",
       "    <tr style=\"text-align: right;\">\n",
       "      <th></th>\n",
       "      <th>na_sales</th>\n",
       "    </tr>\n",
       "    <tr>\n",
       "      <th>genre</th>\n",
       "      <th></th>\n",
       "    </tr>\n",
       "  </thead>\n",
       "  <tbody>\n",
       "    <tr>\n",
       "      <th>Action</th>\n",
       "      <td>180.00</td>\n",
       "    </tr>\n",
       "    <tr>\n",
       "      <th>Shooter</th>\n",
       "      <td>144.79</td>\n",
       "    </tr>\n",
       "    <tr>\n",
       "      <th>Sports</th>\n",
       "      <td>81.45</td>\n",
       "    </tr>\n",
       "    <tr>\n",
       "      <th>Role-Playing</th>\n",
       "      <td>64.00</td>\n",
       "    </tr>\n",
       "    <tr>\n",
       "      <th>Misc</th>\n",
       "      <td>38.19</td>\n",
       "    </tr>\n",
       "  </tbody>\n",
       "</table>\n",
       "</div>"
      ],
      "text/plain": [
       "              na_sales\n",
       "genre                 \n",
       "Action          180.00\n",
       "Shooter         144.79\n",
       "Sports           81.45\n",
       "Role-Playing     64.00\n",
       "Misc             38.19"
      ]
     },
     "execution_count": 76,
     "metadata": {},
     "output_type": "execute_result"
    }
   ],
   "source": [
    "platform_top_2003.groupby('genre')['na_sales'].sum().sort_values(ascending=False).to_frame().head() #вывод 5 самых популярных жанров игр"
   ]
  },
  {
   "cell_type": "code",
   "execution_count": 77,
   "metadata": {},
   "outputs": [
    {
     "data": {
      "text/html": [
       "<div>\n",
       "<style scoped>\n",
       "    .dataframe tbody tr th:only-of-type {\n",
       "        vertical-align: middle;\n",
       "    }\n",
       "\n",
       "    .dataframe tbody tr th {\n",
       "        vertical-align: top;\n",
       "    }\n",
       "\n",
       "    .dataframe thead th {\n",
       "        text-align: right;\n",
       "    }\n",
       "</style>\n",
       "<table border=\"1\" class=\"dataframe\">\n",
       "  <thead>\n",
       "    <tr style=\"text-align: right;\">\n",
       "      <th></th>\n",
       "      <th>na_sales</th>\n",
       "    </tr>\n",
       "    <tr>\n",
       "      <th>rating</th>\n",
       "      <th></th>\n",
       "    </tr>\n",
       "  </thead>\n",
       "  <tbody>\n",
       "    <tr>\n",
       "      <th>M</th>\n",
       "      <td>231.67</td>\n",
       "    </tr>\n",
       "    <tr>\n",
       "      <th>E</th>\n",
       "      <td>114.24</td>\n",
       "    </tr>\n",
       "    <tr>\n",
       "      <th>-1</th>\n",
       "      <td>103.31</td>\n",
       "    </tr>\n",
       "    <tr>\n",
       "      <th>E10+</th>\n",
       "      <td>77.83</td>\n",
       "    </tr>\n",
       "    <tr>\n",
       "      <th>T</th>\n",
       "      <td>66.02</td>\n",
       "    </tr>\n",
       "  </tbody>\n",
       "</table>\n",
       "</div>"
      ],
      "text/plain": [
       "        na_sales\n",
       "rating          \n",
       "M         231.67\n",
       "E         114.24\n",
       "-1        103.31\n",
       "E10+       77.83\n",
       "T          66.02"
      ]
     },
     "execution_count": 77,
     "metadata": {},
     "output_type": "execute_result"
    }
   ],
   "source": [
    "platform_top_2003.groupby('rating')['na_sales'].sum().sort_values(ascending=False).to_frame().head() #вывод 5 самых популярных рейтингов игр"
   ]
  },
  {
   "cell_type": "markdown",
   "metadata": {},
   "source": [
    "В Северной Америке популярны игры с рейтингом M -«Для взрослых»: Материалы игры не подходят для подростков младше 17 лет, жанром \"действие\", платформа X360. Пользователи от 17 лет.\n",
    "\n",
    "4.2 Продажи игр в Европе."
   ]
  },
  {
   "cell_type": "code",
   "execution_count": 78,
   "metadata": {},
   "outputs": [
    {
     "data": {
      "text/html": [
       "<div>\n",
       "<style scoped>\n",
       "    .dataframe tbody tr th:only-of-type {\n",
       "        vertical-align: middle;\n",
       "    }\n",
       "\n",
       "    .dataframe tbody tr th {\n",
       "        vertical-align: top;\n",
       "    }\n",
       "\n",
       "    .dataframe thead th {\n",
       "        text-align: right;\n",
       "    }\n",
       "</style>\n",
       "<table border=\"1\" class=\"dataframe\">\n",
       "  <thead>\n",
       "    <tr style=\"text-align: right;\">\n",
       "      <th></th>\n",
       "      <th>eu_sales</th>\n",
       "    </tr>\n",
       "    <tr>\n",
       "      <th>platform</th>\n",
       "      <th></th>\n",
       "    </tr>\n",
       "  </thead>\n",
       "  <tbody>\n",
       "    <tr>\n",
       "      <th>PS4</th>\n",
       "      <td>141.09</td>\n",
       "    </tr>\n",
       "    <tr>\n",
       "      <th>PS3</th>\n",
       "      <td>107.27</td>\n",
       "    </tr>\n",
       "    <tr>\n",
       "      <th>X360</th>\n",
       "      <td>74.89</td>\n",
       "    </tr>\n",
       "    <tr>\n",
       "      <th>XOne</th>\n",
       "      <td>51.59</td>\n",
       "    </tr>\n",
       "    <tr>\n",
       "      <th>3DS</th>\n",
       "      <td>42.83</td>\n",
       "    </tr>\n",
       "  </tbody>\n",
       "</table>\n",
       "</div>"
      ],
      "text/plain": [
       "          eu_sales\n",
       "platform          \n",
       "PS4         141.09\n",
       "PS3         107.27\n",
       "X360         74.89\n",
       "XOne         51.59\n",
       "3DS          42.83"
      ]
     },
     "execution_count": 78,
     "metadata": {},
     "output_type": "execute_result"
    }
   ],
   "source": [
    "platform_top_2003.groupby('platform')['eu_sales'].sum().sort_values(ascending=False).to_frame().head() #вывод 5 самых популярных платформ"
   ]
  },
  {
   "cell_type": "code",
   "execution_count": 79,
   "metadata": {},
   "outputs": [
    {
     "data": {
      "text/html": [
       "<div>\n",
       "<style scoped>\n",
       "    .dataframe tbody tr th:only-of-type {\n",
       "        vertical-align: middle;\n",
       "    }\n",
       "\n",
       "    .dataframe tbody tr th {\n",
       "        vertical-align: top;\n",
       "    }\n",
       "\n",
       "    .dataframe thead th {\n",
       "        text-align: right;\n",
       "    }\n",
       "</style>\n",
       "<table border=\"1\" class=\"dataframe\">\n",
       "  <thead>\n",
       "    <tr style=\"text-align: right;\">\n",
       "      <th></th>\n",
       "      <th>eu_sales</th>\n",
       "    </tr>\n",
       "    <tr>\n",
       "      <th>genre</th>\n",
       "      <th></th>\n",
       "    </tr>\n",
       "  </thead>\n",
       "  <tbody>\n",
       "    <tr>\n",
       "      <th>Action</th>\n",
       "      <td>161.40</td>\n",
       "    </tr>\n",
       "    <tr>\n",
       "      <th>Shooter</th>\n",
       "      <td>113.47</td>\n",
       "    </tr>\n",
       "    <tr>\n",
       "      <th>Sports</th>\n",
       "      <td>68.87</td>\n",
       "    </tr>\n",
       "    <tr>\n",
       "      <th>Role-Playing</th>\n",
       "      <td>48.53</td>\n",
       "    </tr>\n",
       "    <tr>\n",
       "      <th>Racing</th>\n",
       "      <td>27.29</td>\n",
       "    </tr>\n",
       "  </tbody>\n",
       "</table>\n",
       "</div>"
      ],
      "text/plain": [
       "              eu_sales\n",
       "genre                 \n",
       "Action          161.40\n",
       "Shooter         113.47\n",
       "Sports           68.87\n",
       "Role-Playing     48.53\n",
       "Racing           27.29"
      ]
     },
     "execution_count": 79,
     "metadata": {},
     "output_type": "execute_result"
    }
   ],
   "source": [
    "platform_top_2003.groupby('genre')['eu_sales'].sum().sort_values(ascending=False).to_frame().head() #вывод 5 самых популярных жанров игр"
   ]
  },
  {
   "cell_type": "code",
   "execution_count": 80,
   "metadata": {},
   "outputs": [
    {
     "data": {
      "text/html": [
       "<div>\n",
       "<style scoped>\n",
       "    .dataframe tbody tr th:only-of-type {\n",
       "        vertical-align: middle;\n",
       "    }\n",
       "\n",
       "    .dataframe tbody tr th {\n",
       "        vertical-align: top;\n",
       "    }\n",
       "\n",
       "    .dataframe thead th {\n",
       "        text-align: right;\n",
       "    }\n",
       "</style>\n",
       "<table border=\"1\" class=\"dataframe\">\n",
       "  <thead>\n",
       "    <tr style=\"text-align: right;\">\n",
       "      <th></th>\n",
       "      <th>eu_sales</th>\n",
       "    </tr>\n",
       "    <tr>\n",
       "      <th>rating</th>\n",
       "      <th></th>\n",
       "    </tr>\n",
       "  </thead>\n",
       "  <tbody>\n",
       "    <tr>\n",
       "      <th>M</th>\n",
       "      <td>194.44</td>\n",
       "    </tr>\n",
       "    <tr>\n",
       "      <th>E</th>\n",
       "      <td>112.61</td>\n",
       "    </tr>\n",
       "    <tr>\n",
       "      <th>-1</th>\n",
       "      <td>91.50</td>\n",
       "    </tr>\n",
       "    <tr>\n",
       "      <th>E10+</th>\n",
       "      <td>57.15</td>\n",
       "    </tr>\n",
       "    <tr>\n",
       "      <th>T</th>\n",
       "      <td>52.96</td>\n",
       "    </tr>\n",
       "  </tbody>\n",
       "</table>\n",
       "</div>"
      ],
      "text/plain": [
       "        eu_sales\n",
       "rating          \n",
       "M         194.44\n",
       "E         112.61\n",
       "-1         91.50\n",
       "E10+       57.15\n",
       "T          52.96"
      ]
     },
     "execution_count": 80,
     "metadata": {},
     "output_type": "execute_result"
    }
   ],
   "source": [
    "platform_top_2003.groupby('rating')['eu_sales'].sum().sort_values(ascending=False).to_frame().head() #вывод 5 самых популярных рейтингов игр"
   ]
  },
  {
   "cell_type": "markdown",
   "metadata": {},
   "source": [
    "В Европе популярны игры с рейтингом M -«Для взрослых»: Материалы игры не подходят для подростков младше 17 лет., игры жанра \"действие\", платформа PS4. Пользователи от 17 лет."
   ]
  },
  {
   "cell_type": "markdown",
   "metadata": {},
   "source": [
    "4.3 Продажи игр в Японии."
   ]
  },
  {
   "cell_type": "code",
   "execution_count": 81,
   "metadata": {},
   "outputs": [
    {
     "data": {
      "text/html": [
       "<div>\n",
       "<style scoped>\n",
       "    .dataframe tbody tr th:only-of-type {\n",
       "        vertical-align: middle;\n",
       "    }\n",
       "\n",
       "    .dataframe tbody tr th {\n",
       "        vertical-align: top;\n",
       "    }\n",
       "\n",
       "    .dataframe thead th {\n",
       "        text-align: right;\n",
       "    }\n",
       "</style>\n",
       "<table border=\"1\" class=\"dataframe\">\n",
       "  <thead>\n",
       "    <tr style=\"text-align: right;\">\n",
       "      <th></th>\n",
       "      <th>jp_sales</th>\n",
       "    </tr>\n",
       "    <tr>\n",
       "      <th>platform</th>\n",
       "      <th></th>\n",
       "    </tr>\n",
       "  </thead>\n",
       "  <tbody>\n",
       "    <tr>\n",
       "      <th>3DS</th>\n",
       "      <td>87.79</td>\n",
       "    </tr>\n",
       "    <tr>\n",
       "      <th>PS3</th>\n",
       "      <td>35.29</td>\n",
       "    </tr>\n",
       "    <tr>\n",
       "      <th>PSV</th>\n",
       "      <td>21.04</td>\n",
       "    </tr>\n",
       "    <tr>\n",
       "      <th>PS4</th>\n",
       "      <td>15.96</td>\n",
       "    </tr>\n",
       "    <tr>\n",
       "      <th>WiiU</th>\n",
       "      <td>13.01</td>\n",
       "    </tr>\n",
       "  </tbody>\n",
       "</table>\n",
       "</div>"
      ],
      "text/plain": [
       "          jp_sales\n",
       "platform          \n",
       "3DS          87.79\n",
       "PS3          35.29\n",
       "PSV          21.04\n",
       "PS4          15.96\n",
       "WiiU         13.01"
      ]
     },
     "execution_count": 81,
     "metadata": {},
     "output_type": "execute_result"
    }
   ],
   "source": [
    "platform_top_2003.groupby('platform')['jp_sales'].sum().sort_values(ascending=False).to_frame().head() #вывод 5 самых популярных платформ"
   ]
  },
  {
   "cell_type": "code",
   "execution_count": 82,
   "metadata": {},
   "outputs": [
    {
     "data": {
      "text/html": [
       "<div>\n",
       "<style scoped>\n",
       "    .dataframe tbody tr th:only-of-type {\n",
       "        vertical-align: middle;\n",
       "    }\n",
       "\n",
       "    .dataframe tbody tr th {\n",
       "        vertical-align: top;\n",
       "    }\n",
       "\n",
       "    .dataframe thead th {\n",
       "        text-align: right;\n",
       "    }\n",
       "</style>\n",
       "<table border=\"1\" class=\"dataframe\">\n",
       "  <thead>\n",
       "    <tr style=\"text-align: right;\">\n",
       "      <th></th>\n",
       "      <th>jp_sales</th>\n",
       "    </tr>\n",
       "    <tr>\n",
       "      <th>genre</th>\n",
       "      <th></th>\n",
       "    </tr>\n",
       "  </thead>\n",
       "  <tbody>\n",
       "    <tr>\n",
       "      <th>Role-Playing</th>\n",
       "      <td>62.63</td>\n",
       "    </tr>\n",
       "    <tr>\n",
       "      <th>Action</th>\n",
       "      <td>49.38</td>\n",
       "    </tr>\n",
       "    <tr>\n",
       "      <th>Misc</th>\n",
       "      <td>12.45</td>\n",
       "    </tr>\n",
       "    <tr>\n",
       "      <th>Simulation</th>\n",
       "      <td>10.35</td>\n",
       "    </tr>\n",
       "    <tr>\n",
       "      <th>Shooter</th>\n",
       "      <td>9.23</td>\n",
       "    </tr>\n",
       "  </tbody>\n",
       "</table>\n",
       "</div>"
      ],
      "text/plain": [
       "              jp_sales\n",
       "genre                 \n",
       "Role-Playing     62.63\n",
       "Action           49.38\n",
       "Misc             12.45\n",
       "Simulation       10.35\n",
       "Shooter           9.23"
      ]
     },
     "execution_count": 82,
     "metadata": {},
     "output_type": "execute_result"
    }
   ],
   "source": [
    "platform_top_2003.groupby('genre')['jp_sales'].sum().sort_values(ascending=False).to_frame().head() #вывод 5 самых популярных жанров игр"
   ]
  },
  {
   "cell_type": "code",
   "execution_count": 83,
   "metadata": {},
   "outputs": [
    {
     "data": {
      "text/html": [
       "<div>\n",
       "<style scoped>\n",
       "    .dataframe tbody tr th:only-of-type {\n",
       "        vertical-align: middle;\n",
       "    }\n",
       "\n",
       "    .dataframe tbody tr th {\n",
       "        vertical-align: top;\n",
       "    }\n",
       "\n",
       "    .dataframe thead th {\n",
       "        text-align: right;\n",
       "    }\n",
       "</style>\n",
       "<table border=\"1\" class=\"dataframe\">\n",
       "  <thead>\n",
       "    <tr style=\"text-align: right;\">\n",
       "      <th></th>\n",
       "      <th>jp_sales</th>\n",
       "    </tr>\n",
       "    <tr>\n",
       "      <th>rating</th>\n",
       "      <th></th>\n",
       "    </tr>\n",
       "  </thead>\n",
       "  <tbody>\n",
       "    <tr>\n",
       "      <th>-1</th>\n",
       "      <td>98.97</td>\n",
       "    </tr>\n",
       "    <tr>\n",
       "      <th>E</th>\n",
       "      <td>27.99</td>\n",
       "    </tr>\n",
       "    <tr>\n",
       "      <th>T</th>\n",
       "      <td>25.76</td>\n",
       "    </tr>\n",
       "    <tr>\n",
       "      <th>M</th>\n",
       "      <td>21.20</td>\n",
       "    </tr>\n",
       "    <tr>\n",
       "      <th>E10+</th>\n",
       "      <td>8.19</td>\n",
       "    </tr>\n",
       "  </tbody>\n",
       "</table>\n",
       "</div>"
      ],
      "text/plain": [
       "        jp_sales\n",
       "rating          \n",
       "-1         98.97\n",
       "E          27.99\n",
       "T          25.76\n",
       "M          21.20\n",
       "E10+        8.19"
      ]
     },
     "execution_count": 83,
     "metadata": {},
     "output_type": "execute_result"
    }
   ],
   "source": [
    "platform_top_2003.groupby('rating')['jp_sales'].sum().sort_values(ascending=False).to_frame().head() #вывод 5 самых популярных рейтингов игр"
   ]
  },
  {
   "cell_type": "markdown",
   "metadata": {},
   "source": [
    "В Японии популярны игры с рейтингом E -«Для всех»( содержание вполне подходит для возрастной категории от 6 лет), игры жанра \"Ролевые\", платформа 3DS. Пользователи от 6 лет.\n",
    "Большинство проданных игр с неопределенным рейтингом по ESRB."
   ]
  },
  {
   "cell_type": "markdown",
   "metadata": {},
   "source": [
    "**4. Вывод**"
   ]
  },
  {
   "cell_type": "markdown",
   "metadata": {},
   "source": [
    "1.Пользователи компьютерных игр в Северной Америке и Европе очень схожи, они выбирают чаще игры жанра \"действие\", одни платформы X360 и PS4, возраст пользователей от 17 лет.\n",
    "\n",
    "2.Японскиe пользователи отдают предпочтение играм жанра \"ролевые\", платформе 3DS, возраст пользователя от 6 лет."
   ]
  },
  {
   "cell_type": "markdown",
   "metadata": {},
   "source": [
    "**5. Проверка гипотез**"
   ]
  },
  {
   "cell_type": "markdown",
   "metadata": {},
   "source": [
    "Необходимо проверить две гипотезы:\n",
    "\n",
    "1.Средние пользовательские рейтинги платформ Xbox One и PC одинаковые;\n",
    "\n",
    "2.Средние пользовательские рейтинги жанров Action (англ. «действие», экшен-игры) и Sports (англ. «спортивные соревнования») разные."
   ]
  },
  {
   "cell_type": "markdown",
   "metadata": {},
   "source": [
    "*5.1 Средние пользовательские рейтинги платформ Xbox One и PC одинаковые*"
   ]
  },
  {
   "cell_type": "markdown",
   "metadata": {},
   "source": [
    "Сформулируем нулевую гипотезу: Средние пользовательские рейтинги платформ Xbox One и PC равны.\n",
    "\n",
    "Альтернативная гипотеза: Средние пользовательские рейтинги платформ Xbox One и PC не равны."
   ]
  },
  {
   "cell_type": "code",
   "execution_count": 84,
   "metadata": {},
   "outputs": [],
   "source": [
    "#df['platform'].unique()"
   ]
  },
  {
   "cell_type": "code",
   "execution_count": 85,
   "metadata": {},
   "outputs": [],
   "source": [
    "platform_xone = df.query('platform == \"XOne\"')#срез данных для платформы 'XOne'"
   ]
  },
  {
   "cell_type": "code",
   "execution_count": 86,
   "metadata": {},
   "outputs": [],
   "source": [
    "score_xone = platform_xone[platform_xone['user_score'] != -1] # срез по оценкам пользователей для игр платформы 'XOne'"
   ]
  },
  {
   "cell_type": "code",
   "execution_count": 87,
   "metadata": {},
   "outputs": [],
   "source": [
    "user_score_xone = score_xone['user_score'] # Series с оценками пользователей"
   ]
  },
  {
   "cell_type": "code",
   "execution_count": 88,
   "metadata": {},
   "outputs": [],
   "source": [
    "platform_pc = df.query('platform == \"PC\"') #срез данных для платформы 'PC'"
   ]
  },
  {
   "cell_type": "code",
   "execution_count": 89,
   "metadata": {},
   "outputs": [],
   "source": [
    "score_pc = platform_pc[platform_pc['user_score'] != -1] # срез по оценкам пользователей для игр платформы 'PC'"
   ]
  },
  {
   "cell_type": "code",
   "execution_count": 90,
   "metadata": {},
   "outputs": [],
   "source": [
    "user_score_pc = score_pc['user_score'] # Series с оценками пользователей"
   ]
  },
  {
   "cell_type": "code",
   "execution_count": 91,
   "metadata": {},
   "outputs": [
    {
     "name": "stdout",
     "output_type": "stream",
     "text": [
      "Отвергаем нулевую гипотезу\n",
      "1.1488062707895399e-05\n"
     ]
    }
   ],
   "source": [
    "from scipy import stats as st\n",
    "\n",
    "alpha = 0.05 \n",
    "\n",
    "results = st.ttest_ind(user_score_xone, user_score_pc, equal_var=True)\n",
    "\n",
    "if results.pvalue < alpha:\n",
    "    print('Отвергаем нулевую гипотезу')\n",
    "else:\n",
    "    print('Не получилось отвергнуть нулевую гипотезу')\n",
    "print(results.pvalue)   "
   ]
  },
  {
   "cell_type": "markdown",
   "metadata": {},
   "source": [
    "*5.2 Средние пользовательские рейтинги жанров Action (англ. «действие», экшен-игры) и Sports (англ. «спортивные соревнования») разные.*"
   ]
  },
  {
   "cell_type": "markdown",
   "metadata": {},
   "source": [
    "Сформулируем нулевую гипотезу: Средние пользовательские рейтинги жанров Action и Sports равны.\n",
    "\n",
    "Альтернативная гипотеза: Средние пользовательские рейтинги жанров Action и Sports не равны."
   ]
  },
  {
   "cell_type": "code",
   "execution_count": 92,
   "metadata": {},
   "outputs": [],
   "source": [
    "game_action = df.query('genre == \"Action\"') # срез данных для игр жанра 'Action'"
   ]
  },
  {
   "cell_type": "code",
   "execution_count": 93,
   "metadata": {},
   "outputs": [],
   "source": [
    "score_action = game_action[game_action['user_score'] != -1] # срез по оценкам пользователей для игр жанра 'Action'"
   ]
  },
  {
   "cell_type": "code",
   "execution_count": 94,
   "metadata": {},
   "outputs": [],
   "source": [
    "user_score_action = score_action['user_score'] # Series с оценками пользователей"
   ]
  },
  {
   "cell_type": "code",
   "execution_count": 95,
   "metadata": {},
   "outputs": [],
   "source": [
    "game_sports = df.query('genre == \"Sports\"') # срез данных для игр жанра 'Sports'"
   ]
  },
  {
   "cell_type": "code",
   "execution_count": 96,
   "metadata": {},
   "outputs": [],
   "source": [
    "score_sports = game_sports[game_sports['user_score'] != -1] # срез по оценкам пользователей для игр жанра 'Sports'"
   ]
  },
  {
   "cell_type": "code",
   "execution_count": 97,
   "metadata": {},
   "outputs": [],
   "source": [
    "user_score_sports = score_sports['user_score'] # Series с оценками пользователей игр жанра 'Sports'"
   ]
  },
  {
   "cell_type": "code",
   "execution_count": 98,
   "metadata": {},
   "outputs": [
    {
     "name": "stdout",
     "output_type": "stream",
     "text": [
      "Не получилось отвергнуть нулевую гипотезу\n",
      "0.08026081264564007\n"
     ]
    }
   ],
   "source": [
    "from scipy import stats as st\n",
    "\n",
    "alpha = 0.05 \n",
    "\n",
    "results = st.ttest_ind(user_score_action, user_score_sports, equal_var=True)\n",
    "\n",
    "if results.pvalue < alpha:\n",
    "    print('Отвергаем нулевую гипотезу')\n",
    "else:\n",
    "    print('Не получилось отвергнуть нулевую гипотезу')\n",
    "print(results.pvalue)   "
   ]
  },
  {
   "cell_type": "markdown",
   "metadata": {},
   "source": [
    "**5. Вывод:**"
   ]
  },
  {
   "cell_type": "markdown",
   "metadata": {},
   "source": [
    "1. Статистическая вероятность того, что средние рейтинги игр на платформах Xone и PC равны очень мала. Гипотеза не подтвердилась.\n",
    "2. Статистическая вероятность того, что средние рейтинги игр жанров  Action и Sports равны- равна 10%. Гипотеза не подтвердилась."
   ]
  },
  {
   "cell_type": "markdown",
   "metadata": {},
   "source": [
    "**6. Общий вывод**"
   ]
  },
  {
   "cell_type": "markdown",
   "metadata": {},
   "source": [
    "Исходя из результатов исследования однозначно можно сделать вывод, что на успешность продаж игры влияет жанр игры, имеет слабую зависимость оценка критиков на игру, и совсем не имеет влияние оценка пользователей.\n",
    "Поэтому при подготовке рекламных кампаний следует учитывать, что в разных регионах пользователи предпочитают разные жанры игр. Для Северной Америки и Европы это жанр 'Действие', платформы X360 и PS4, возрастной рейтинг от 17 лет.\n",
    "Для Японии это жанр \"Ролевые\", платформа 3DS, возрастной рейтинг от 6 лет.\n"
   ]
  }
 ],
 "metadata": {
  "ExecuteTimeLog": [
   {
    "duration": 604,
    "start_time": "2022-03-08T12:46:05.735Z"
   },
   {
    "duration": 263,
    "start_time": "2022-03-08T12:46:55.315Z"
   },
   {
    "duration": 3,
    "start_time": "2022-03-08T12:47:02.635Z"
   },
   {
    "duration": 216,
    "start_time": "2022-03-08T12:47:03.786Z"
   },
   {
    "duration": 3,
    "start_time": "2022-03-08T12:48:18.758Z"
   },
   {
    "duration": 275,
    "start_time": "2022-03-08T12:48:18.780Z"
   },
   {
    "duration": 219,
    "start_time": "2022-03-08T12:48:43.282Z"
   },
   {
    "duration": 3,
    "start_time": "2022-03-08T12:49:39.346Z"
   },
   {
    "duration": 208,
    "start_time": "2022-03-08T12:49:40.445Z"
   },
   {
    "duration": 211,
    "start_time": "2022-03-08T12:49:41.900Z"
   },
   {
    "duration": 34,
    "start_time": "2022-03-08T12:54:24.529Z"
   },
   {
    "duration": 20,
    "start_time": "2022-03-08T12:54:25.904Z"
   },
   {
    "duration": 42,
    "start_time": "2022-03-08T12:54:52.226Z"
   },
   {
    "duration": 4,
    "start_time": "2022-03-08T14:21:47.992Z"
   },
   {
    "duration": 12,
    "start_time": "2022-03-08T14:21:58.966Z"
   },
   {
    "duration": 2,
    "start_time": "2022-03-08T14:22:51.642Z"
   },
   {
    "duration": 283,
    "start_time": "2022-03-08T14:49:29.189Z"
   },
   {
    "duration": 369,
    "start_time": "2022-03-08T14:51:18.562Z"
   },
   {
    "duration": 222,
    "start_time": "2022-03-08T14:51:29.674Z"
   },
   {
    "duration": 13,
    "start_time": "2022-03-08T14:58:01.197Z"
   },
   {
    "duration": 3,
    "start_time": "2022-03-08T15:23:02.843Z"
   },
   {
    "duration": 9,
    "start_time": "2022-03-08T15:26:42.670Z"
   },
   {
    "duration": 286,
    "start_time": "2022-03-09T16:12:32.825Z"
   },
   {
    "duration": 645,
    "start_time": "2022-03-09T16:12:37.368Z"
   },
   {
    "duration": 56,
    "start_time": "2022-03-09T16:12:38.016Z"
   },
   {
    "duration": 34,
    "start_time": "2022-03-09T16:12:38.075Z"
   },
   {
    "duration": 3,
    "start_time": "2022-03-09T16:12:38.111Z"
   },
   {
    "duration": 22,
    "start_time": "2022-03-09T16:12:38.116Z"
   },
   {
    "duration": 80,
    "start_time": "2022-03-09T16:12:38.140Z"
   },
   {
    "duration": -1727,
    "start_time": "2022-03-09T16:12:39.950Z"
   },
   {
    "duration": -1734,
    "start_time": "2022-03-09T16:12:39.958Z"
   },
   {
    "duration": -1736,
    "start_time": "2022-03-09T16:12:39.961Z"
   },
   {
    "duration": 6,
    "start_time": "2022-03-09T16:12:53.648Z"
   },
   {
    "duration": 261,
    "start_time": "2022-03-09T16:14:26.726Z"
   },
   {
    "duration": 87,
    "start_time": "2022-03-09T16:14:37.908Z"
   },
   {
    "duration": 274,
    "start_time": "2022-03-09T16:14:51.568Z"
   },
   {
    "duration": 274,
    "start_time": "2022-03-09T16:15:28.174Z"
   },
   {
    "duration": 12,
    "start_time": "2022-03-09T16:15:40.580Z"
   },
   {
    "duration": 17,
    "start_time": "2022-03-09T16:16:11.320Z"
   },
   {
    "duration": 289,
    "start_time": "2022-03-09T16:16:50.533Z"
   },
   {
    "duration": 7,
    "start_time": "2022-03-09T16:17:04.450Z"
   },
   {
    "duration": 247,
    "start_time": "2022-03-09T16:17:28.373Z"
   },
   {
    "duration": 252,
    "start_time": "2022-03-09T16:18:08.597Z"
   },
   {
    "duration": 245,
    "start_time": "2022-03-09T16:18:25.155Z"
   },
   {
    "duration": 589,
    "start_time": "2022-03-09T16:18:45.328Z"
   },
   {
    "duration": 603,
    "start_time": "2022-03-09T16:19:00.262Z"
   },
   {
    "duration": 239,
    "start_time": "2022-03-09T16:19:16.427Z"
   },
   {
    "duration": 246,
    "start_time": "2022-03-09T16:19:34.325Z"
   },
   {
    "duration": 263,
    "start_time": "2022-03-09T16:20:32.041Z"
   },
   {
    "duration": 402,
    "start_time": "2022-03-09T16:20:54.054Z"
   },
   {
    "duration": 9,
    "start_time": "2022-03-09T16:21:11.243Z"
   },
   {
    "duration": 6,
    "start_time": "2022-03-09T16:21:14.412Z"
   },
   {
    "duration": 11,
    "start_time": "2022-03-09T16:21:27.803Z"
   },
   {
    "duration": 3,
    "start_time": "2022-03-09T16:21:36.377Z"
   },
   {
    "duration": 56,
    "start_time": "2022-03-09T16:21:36.382Z"
   },
   {
    "duration": 17,
    "start_time": "2022-03-09T16:21:36.441Z"
   },
   {
    "duration": 3,
    "start_time": "2022-03-09T16:21:36.460Z"
   },
   {
    "duration": 39,
    "start_time": "2022-03-09T16:21:36.465Z"
   },
   {
    "duration": 82,
    "start_time": "2022-03-09T16:21:36.506Z"
   },
   {
    "duration": -1658,
    "start_time": "2022-03-09T16:21:38.249Z"
   },
   {
    "duration": -1660,
    "start_time": "2022-03-09T16:21:38.252Z"
   },
   {
    "duration": -1665,
    "start_time": "2022-03-09T16:21:38.258Z"
   },
   {
    "duration": -1670,
    "start_time": "2022-03-09T16:21:38.264Z"
   },
   {
    "duration": 10,
    "start_time": "2022-03-09T16:22:09.352Z"
   },
   {
    "duration": 6,
    "start_time": "2022-03-09T16:22:11.555Z"
   },
   {
    "duration": 12,
    "start_time": "2022-03-09T16:22:13.080Z"
   },
   {
    "duration": 12,
    "start_time": "2022-03-09T16:22:19.889Z"
   },
   {
    "duration": 30,
    "start_time": "2022-03-09T16:27:57.542Z"
   },
   {
    "duration": 8,
    "start_time": "2022-03-09T16:28:32.205Z"
   },
   {
    "duration": 11,
    "start_time": "2022-03-09T16:28:55.780Z"
   },
   {
    "duration": 12,
    "start_time": "2022-03-09T16:29:06.298Z"
   },
   {
    "duration": 23,
    "start_time": "2022-03-09T16:29:54.654Z"
   },
   {
    "duration": 11,
    "start_time": "2022-03-09T16:39:52.965Z"
   },
   {
    "duration": 12,
    "start_time": "2022-03-09T16:40:01.091Z"
   },
   {
    "duration": 11,
    "start_time": "2022-03-09T16:40:06.782Z"
   },
   {
    "duration": 11,
    "start_time": "2022-03-09T16:40:11.686Z"
   },
   {
    "duration": 6,
    "start_time": "2022-03-09T16:45:01.154Z"
   },
   {
    "duration": 12,
    "start_time": "2022-03-09T16:45:12.065Z"
   },
   {
    "duration": 12,
    "start_time": "2022-03-09T16:47:22.332Z"
   },
   {
    "duration": 24,
    "start_time": "2022-03-09T16:58:20.313Z"
   },
   {
    "duration": 27,
    "start_time": "2022-03-09T17:08:33.000Z"
   },
   {
    "duration": 6,
    "start_time": "2022-03-09T17:08:39.254Z"
   },
   {
    "duration": 23,
    "start_time": "2022-03-09T17:08:45.491Z"
   },
   {
    "duration": 11,
    "start_time": "2022-03-09T17:09:16.025Z"
   },
   {
    "duration": 10,
    "start_time": "2022-03-09T17:09:19.956Z"
   },
   {
    "duration": 5,
    "start_time": "2022-03-09T17:09:20.776Z"
   },
   {
    "duration": 21,
    "start_time": "2022-03-09T17:09:22.818Z"
   },
   {
    "duration": 2,
    "start_time": "2022-03-09T17:09:36.395Z"
   },
   {
    "duration": 9,
    "start_time": "2022-03-09T17:18:16.995Z"
   },
   {
    "duration": 7,
    "start_time": "2022-03-09T17:29:59.596Z"
   },
   {
    "duration": 5,
    "start_time": "2022-03-09T17:32:52.527Z"
   },
   {
    "duration": 9,
    "start_time": "2022-03-09T17:33:54.285Z"
   },
   {
    "duration": 6,
    "start_time": "2022-03-09T17:34:13.486Z"
   },
   {
    "duration": 9,
    "start_time": "2022-03-09T17:34:31.324Z"
   },
   {
    "duration": -1811,
    "start_time": "2022-03-09T18:24:20.246Z"
   },
   {
    "duration": 5430,
    "start_time": "2022-03-09T18:24:27.008Z"
   },
   {
    "duration": 6,
    "start_time": "2022-03-09T18:24:55.542Z"
   },
   {
    "duration": 6,
    "start_time": "2022-03-09T18:25:15.331Z"
   },
   {
    "duration": 3,
    "start_time": "2022-03-09T18:25:16.829Z"
   },
   {
    "duration": 51,
    "start_time": "2022-03-09T18:25:16.837Z"
   },
   {
    "duration": 18,
    "start_time": "2022-03-09T18:25:16.915Z"
   },
   {
    "duration": 5813,
    "start_time": "2022-03-09T18:25:16.934Z"
   },
   {
    "duration": -1772,
    "start_time": "2022-03-09T18:25:24.522Z"
   },
   {
    "duration": -1779,
    "start_time": "2022-03-09T18:25:24.529Z"
   },
   {
    "duration": -1786,
    "start_time": "2022-03-09T18:25:24.537Z"
   },
   {
    "duration": -1790,
    "start_time": "2022-03-09T18:25:24.542Z"
   },
   {
    "duration": -1847,
    "start_time": "2022-03-09T18:25:24.600Z"
   },
   {
    "duration": -1855,
    "start_time": "2022-03-09T18:25:24.609Z"
   },
   {
    "duration": -1859,
    "start_time": "2022-03-09T18:25:24.614Z"
   },
   {
    "duration": -1861,
    "start_time": "2022-03-09T18:25:24.617Z"
   },
   {
    "duration": -1872,
    "start_time": "2022-03-09T18:25:24.629Z"
   },
   {
    "duration": -1876,
    "start_time": "2022-03-09T18:25:24.634Z"
   },
   {
    "duration": -1878,
    "start_time": "2022-03-09T18:25:24.636Z"
   },
   {
    "duration": -1879,
    "start_time": "2022-03-09T18:25:24.638Z"
   },
   {
    "duration": -1890,
    "start_time": "2022-03-09T18:25:24.650Z"
   },
   {
    "duration": -1896,
    "start_time": "2022-03-09T18:25:24.657Z"
   },
   {
    "duration": 6,
    "start_time": "2022-03-09T18:25:44.577Z"
   },
   {
    "duration": 8,
    "start_time": "2022-03-09T18:25:54.545Z"
   },
   {
    "duration": 7,
    "start_time": "2022-03-09T18:26:16.027Z"
   },
   {
    "duration": 8,
    "start_time": "2022-03-09T18:26:25.586Z"
   },
   {
    "duration": 6,
    "start_time": "2022-03-09T18:26:40.382Z"
   },
   {
    "duration": 8,
    "start_time": "2022-03-09T18:30:52.258Z"
   },
   {
    "duration": 230,
    "start_time": "2022-03-09T18:35:09.068Z"
   },
   {
    "duration": 10,
    "start_time": "2022-03-09T18:35:10.907Z"
   },
   {
    "duration": 271,
    "start_time": "2022-03-09T18:35:15.721Z"
   },
   {
    "duration": 3,
    "start_time": "2022-03-09T18:35:30.516Z"
   },
   {
    "duration": 14,
    "start_time": "2022-03-09T18:35:30.979Z"
   },
   {
    "duration": 10,
    "start_time": "2022-03-09T18:35:34.637Z"
   },
   {
    "duration": 10,
    "start_time": "2022-03-09T18:35:45.930Z"
   },
   {
    "duration": 9,
    "start_time": "2022-03-09T18:36:06.709Z"
   },
   {
    "duration": 324,
    "start_time": "2022-03-10T16:36:47.091Z"
   },
   {
    "duration": 763,
    "start_time": "2022-03-10T16:36:50.960Z"
   },
   {
    "duration": 74,
    "start_time": "2022-03-10T16:36:51.725Z"
   },
   {
    "duration": 23,
    "start_time": "2022-03-10T16:36:51.802Z"
   },
   {
    "duration": 6,
    "start_time": "2022-03-10T16:36:51.828Z"
   },
   {
    "duration": 10,
    "start_time": "2022-03-10T16:36:51.837Z"
   },
   {
    "duration": 76,
    "start_time": "2022-03-10T16:36:51.849Z"
   },
   {
    "duration": -2552,
    "start_time": "2022-03-10T16:36:54.480Z"
   },
   {
    "duration": -2557,
    "start_time": "2022-03-10T16:36:54.487Z"
   },
   {
    "duration": -2563,
    "start_time": "2022-03-10T16:36:54.495Z"
   },
   {
    "duration": -2582,
    "start_time": "2022-03-10T16:36:54.515Z"
   },
   {
    "duration": -2584,
    "start_time": "2022-03-10T16:36:54.519Z"
   },
   {
    "duration": -2587,
    "start_time": "2022-03-10T16:36:54.523Z"
   },
   {
    "duration": -2589,
    "start_time": "2022-03-10T16:36:54.527Z"
   },
   {
    "duration": -2590,
    "start_time": "2022-03-10T16:36:54.530Z"
   },
   {
    "duration": -2593,
    "start_time": "2022-03-10T16:36:54.534Z"
   },
   {
    "duration": -2596,
    "start_time": "2022-03-10T16:36:54.538Z"
   },
   {
    "duration": -2597,
    "start_time": "2022-03-10T16:36:54.541Z"
   },
   {
    "duration": -2599,
    "start_time": "2022-03-10T16:36:54.544Z"
   },
   {
    "duration": -2613,
    "start_time": "2022-03-10T16:36:54.560Z"
   },
   {
    "duration": -2614,
    "start_time": "2022-03-10T16:36:54.563Z"
   },
   {
    "duration": -2616,
    "start_time": "2022-03-10T16:36:54.566Z"
   },
   {
    "duration": 19,
    "start_time": "2022-03-10T16:37:06.312Z"
   },
   {
    "duration": 3,
    "start_time": "2022-03-10T16:37:23.063Z"
   },
   {
    "duration": 71,
    "start_time": "2022-03-10T16:37:23.069Z"
   },
   {
    "duration": 21,
    "start_time": "2022-03-10T16:37:23.143Z"
   },
   {
    "duration": 6,
    "start_time": "2022-03-10T16:37:23.187Z"
   },
   {
    "duration": 15,
    "start_time": "2022-03-10T16:37:23.195Z"
   },
   {
    "duration": 97,
    "start_time": "2022-03-10T16:37:23.212Z"
   },
   {
    "duration": -2693,
    "start_time": "2022-03-10T16:37:26.006Z"
   },
   {
    "duration": -2698,
    "start_time": "2022-03-10T16:37:26.012Z"
   },
   {
    "duration": -2743,
    "start_time": "2022-03-10T16:37:26.058Z"
   },
   {
    "duration": -2744,
    "start_time": "2022-03-10T16:37:26.061Z"
   },
   {
    "duration": -2747,
    "start_time": "2022-03-10T16:37:26.065Z"
   },
   {
    "duration": -2749,
    "start_time": "2022-03-10T16:37:26.068Z"
   },
   {
    "duration": -2752,
    "start_time": "2022-03-10T16:37:26.072Z"
   },
   {
    "duration": -2753,
    "start_time": "2022-03-10T16:37:26.075Z"
   },
   {
    "duration": -2755,
    "start_time": "2022-03-10T16:37:26.078Z"
   },
   {
    "duration": -2756,
    "start_time": "2022-03-10T16:37:26.080Z"
   },
   {
    "duration": -2766,
    "start_time": "2022-03-10T16:37:26.091Z"
   },
   {
    "duration": -2825,
    "start_time": "2022-03-10T16:37:26.152Z"
   },
   {
    "duration": -2833,
    "start_time": "2022-03-10T16:37:26.161Z"
   },
   {
    "duration": -2835,
    "start_time": "2022-03-10T16:37:26.164Z"
   },
   {
    "duration": -2836,
    "start_time": "2022-03-10T16:37:26.167Z"
   },
   {
    "duration": -2837,
    "start_time": "2022-03-10T16:37:26.169Z"
   },
   {
    "duration": 775,
    "start_time": "2022-03-10T16:37:42.467Z"
   },
   {
    "duration": 78,
    "start_time": "2022-03-10T16:37:43.246Z"
   },
   {
    "duration": 25,
    "start_time": "2022-03-10T16:37:43.329Z"
   },
   {
    "duration": 30,
    "start_time": "2022-03-10T16:37:43.358Z"
   },
   {
    "duration": 13,
    "start_time": "2022-03-10T16:37:43.391Z"
   },
   {
    "duration": 80,
    "start_time": "2022-03-10T16:37:43.407Z"
   },
   {
    "duration": -2551,
    "start_time": "2022-03-10T16:37:46.041Z"
   },
   {
    "duration": -2556,
    "start_time": "2022-03-10T16:37:46.047Z"
   },
   {
    "duration": -2564,
    "start_time": "2022-03-10T16:37:46.057Z"
   },
   {
    "duration": -2576,
    "start_time": "2022-03-10T16:37:46.070Z"
   },
   {
    "duration": -2579,
    "start_time": "2022-03-10T16:37:46.074Z"
   },
   {
    "duration": -2582,
    "start_time": "2022-03-10T16:37:46.079Z"
   },
   {
    "duration": -2584,
    "start_time": "2022-03-10T16:37:46.082Z"
   },
   {
    "duration": -2593,
    "start_time": "2022-03-10T16:37:46.092Z"
   },
   {
    "duration": -2597,
    "start_time": "2022-03-10T16:37:46.098Z"
   },
   {
    "duration": -2598,
    "start_time": "2022-03-10T16:37:46.100Z"
   },
   {
    "duration": -2600,
    "start_time": "2022-03-10T16:37:46.103Z"
   },
   {
    "duration": -2600,
    "start_time": "2022-03-10T16:37:46.105Z"
   },
   {
    "duration": -2602,
    "start_time": "2022-03-10T16:37:46.108Z"
   },
   {
    "duration": -2604,
    "start_time": "2022-03-10T16:37:46.111Z"
   },
   {
    "duration": -2605,
    "start_time": "2022-03-10T16:37:46.113Z"
   },
   {
    "duration": -2606,
    "start_time": "2022-03-10T16:37:46.116Z"
   },
   {
    "duration": 21,
    "start_time": "2022-03-10T16:38:11.676Z"
   },
   {
    "duration": 6037,
    "start_time": "2022-03-10T16:38:15.745Z"
   },
   {
    "duration": -2718,
    "start_time": "2022-03-10T16:38:24.503Z"
   },
   {
    "duration": 5,
    "start_time": "2022-03-10T16:38:40.280Z"
   },
   {
    "duration": 19,
    "start_time": "2022-03-10T16:38:41.477Z"
   },
   {
    "duration": 12,
    "start_time": "2022-03-10T16:38:43.632Z"
   },
   {
    "duration": 12,
    "start_time": "2022-03-10T16:38:46.125Z"
   },
   {
    "duration": 3,
    "start_time": "2022-03-10T16:38:46.780Z"
   },
   {
    "duration": 3,
    "start_time": "2022-03-10T16:38:47.466Z"
   },
   {
    "duration": 3,
    "start_time": "2022-03-10T16:38:47.674Z"
   },
   {
    "duration": 3,
    "start_time": "2022-03-10T16:38:47.938Z"
   },
   {
    "duration": 3,
    "start_time": "2022-03-10T16:38:50.326Z"
   },
   {
    "duration": 11,
    "start_time": "2022-03-10T16:38:53.681Z"
   },
   {
    "duration": 7,
    "start_time": "2022-03-10T16:39:00.790Z"
   },
   {
    "duration": 21,
    "start_time": "2022-03-10T16:39:01.713Z"
   },
   {
    "duration": 242,
    "start_time": "2022-03-10T16:42:29.637Z"
   },
   {
    "duration": 233,
    "start_time": "2022-03-10T16:45:03.365Z"
   },
   {
    "duration": 1533,
    "start_time": "2022-03-10T16:48:06.651Z"
   },
   {
    "duration": 2285,
    "start_time": "2022-03-10T16:49:03.965Z"
   },
   {
    "duration": 10,
    "start_time": "2022-03-10T16:50:51.754Z"
   },
   {
    "duration": 7,
    "start_time": "2022-03-10T16:50:57.975Z"
   },
   {
    "duration": 13,
    "start_time": "2022-03-10T16:51:17.885Z"
   },
   {
    "duration": 10,
    "start_time": "2022-03-10T16:51:44.666Z"
   },
   {
    "duration": 11,
    "start_time": "2022-03-10T16:51:54.457Z"
   },
   {
    "duration": 8,
    "start_time": "2022-03-10T16:54:05.689Z"
   },
   {
    "duration": 7,
    "start_time": "2022-03-10T16:54:10.542Z"
   },
   {
    "duration": 9,
    "start_time": "2022-03-10T16:54:15.140Z"
   },
   {
    "duration": 9,
    "start_time": "2022-03-10T16:54:18.610Z"
   },
   {
    "duration": 5,
    "start_time": "2022-03-10T16:54:52.911Z"
   },
   {
    "duration": 6,
    "start_time": "2022-03-10T16:54:57.817Z"
   },
   {
    "duration": 7,
    "start_time": "2022-03-10T16:55:02.016Z"
   },
   {
    "duration": 4,
    "start_time": "2022-03-10T16:55:14.825Z"
   },
   {
    "duration": 78,
    "start_time": "2022-03-10T16:55:14.832Z"
   },
   {
    "duration": 22,
    "start_time": "2022-03-10T16:55:14.912Z"
   },
   {
    "duration": 11,
    "start_time": "2022-03-10T16:55:14.937Z"
   },
   {
    "duration": 47,
    "start_time": "2022-03-10T16:55:14.951Z"
   },
   {
    "duration": 39,
    "start_time": "2022-03-10T16:55:15.001Z"
   },
   {
    "duration": 33,
    "start_time": "2022-03-10T16:55:15.044Z"
   },
   {
    "duration": 90,
    "start_time": "2022-03-10T16:55:15.080Z"
   },
   {
    "duration": -2560,
    "start_time": "2022-03-10T16:55:17.733Z"
   },
   {
    "duration": -2563,
    "start_time": "2022-03-10T16:55:17.737Z"
   },
   {
    "duration": -2569,
    "start_time": "2022-03-10T16:55:17.745Z"
   },
   {
    "duration": -2572,
    "start_time": "2022-03-10T16:55:17.750Z"
   },
   {
    "duration": -2573,
    "start_time": "2022-03-10T16:55:17.753Z"
   },
   {
    "duration": -2587,
    "start_time": "2022-03-10T16:55:17.768Z"
   },
   {
    "duration": -2588,
    "start_time": "2022-03-10T16:55:17.771Z"
   },
   {
    "duration": -2590,
    "start_time": "2022-03-10T16:55:17.774Z"
   },
   {
    "duration": -2590,
    "start_time": "2022-03-10T16:55:17.776Z"
   },
   {
    "duration": -2590,
    "start_time": "2022-03-10T16:55:17.778Z"
   },
   {
    "duration": -2591,
    "start_time": "2022-03-10T16:55:17.781Z"
   },
   {
    "duration": -2594,
    "start_time": "2022-03-10T16:55:17.785Z"
   },
   {
    "duration": -2594,
    "start_time": "2022-03-10T16:55:17.787Z"
   },
   {
    "duration": -2595,
    "start_time": "2022-03-10T16:55:17.789Z"
   },
   {
    "duration": -2596,
    "start_time": "2022-03-10T16:55:17.792Z"
   },
   {
    "duration": 5,
    "start_time": "2022-03-10T16:55:59.523Z"
   },
   {
    "duration": 20,
    "start_time": "2022-03-10T16:56:00.178Z"
   },
   {
    "duration": 13,
    "start_time": "2022-03-10T16:56:01.007Z"
   },
   {
    "duration": 16,
    "start_time": "2022-03-10T16:56:03.836Z"
   },
   {
    "duration": 3,
    "start_time": "2022-03-10T16:56:04.534Z"
   },
   {
    "duration": 3,
    "start_time": "2022-03-10T16:56:05.103Z"
   },
   {
    "duration": 3,
    "start_time": "2022-03-10T16:56:05.372Z"
   },
   {
    "duration": 3,
    "start_time": "2022-03-10T16:56:05.557Z"
   },
   {
    "duration": 7,
    "start_time": "2022-03-10T16:56:06.675Z"
   },
   {
    "duration": 228,
    "start_time": "2022-03-10T16:56:06.908Z"
   },
   {
    "duration": 247,
    "start_time": "2022-03-10T16:56:09.135Z"
   },
   {
    "duration": 7,
    "start_time": "2022-03-10T17:58:49.913Z"
   },
   {
    "duration": 258,
    "start_time": "2022-03-10T18:00:01.041Z"
   },
   {
    "duration": 6,
    "start_time": "2022-03-10T18:10:02.618Z"
   },
   {
    "duration": 116,
    "start_time": "2022-03-10T18:10:05.219Z"
   },
   {
    "duration": 4,
    "start_time": "2022-03-10T18:10:42.113Z"
   },
   {
    "duration": 60,
    "start_time": "2022-03-10T18:10:42.594Z"
   },
   {
    "duration": 39,
    "start_time": "2022-03-10T18:10:42.657Z"
   },
   {
    "duration": 7,
    "start_time": "2022-03-10T18:10:42.699Z"
   },
   {
    "duration": 24,
    "start_time": "2022-03-10T18:10:42.709Z"
   },
   {
    "duration": 9,
    "start_time": "2022-03-10T18:10:42.736Z"
   },
   {
    "duration": 44,
    "start_time": "2022-03-10T18:10:42.747Z"
   },
   {
    "duration": 9,
    "start_time": "2022-03-10T18:10:42.799Z"
   },
   {
    "duration": 10,
    "start_time": "2022-03-10T18:10:42.810Z"
   },
   {
    "duration": 7,
    "start_time": "2022-03-10T18:10:42.824Z"
   },
   {
    "duration": 22,
    "start_time": "2022-03-10T18:10:42.833Z"
   },
   {
    "duration": 38,
    "start_time": "2022-03-10T18:10:42.858Z"
   },
   {
    "duration": 12,
    "start_time": "2022-03-10T18:10:42.899Z"
   },
   {
    "duration": 5,
    "start_time": "2022-03-10T18:10:42.914Z"
   },
   {
    "duration": 19,
    "start_time": "2022-03-10T18:10:42.922Z"
   },
   {
    "duration": 5,
    "start_time": "2022-03-10T18:10:42.944Z"
   },
   {
    "duration": 35,
    "start_time": "2022-03-10T18:10:42.952Z"
   },
   {
    "duration": 14,
    "start_time": "2022-03-10T18:10:42.992Z"
   },
   {
    "duration": 130,
    "start_time": "2022-03-10T18:10:43.009Z"
   },
   {
    "duration": 19,
    "start_time": "2022-03-10T18:10:43.142Z"
   },
   {
    "duration": 248,
    "start_time": "2022-03-10T18:10:43.164Z"
   },
   {
    "duration": -18501,
    "start_time": "2022-03-10T18:11:01.916Z"
   },
   {
    "duration": -18511,
    "start_time": "2022-03-10T18:11:01.928Z"
   },
   {
    "duration": -18516,
    "start_time": "2022-03-10T18:11:01.934Z"
   },
   {
    "duration": 229,
    "start_time": "2022-03-10T18:11:42.955Z"
   },
   {
    "duration": 7,
    "start_time": "2022-03-10T18:12:38.572Z"
   },
   {
    "duration": 6,
    "start_time": "2022-03-10T18:13:07.910Z"
   },
   {
    "duration": 7,
    "start_time": "2022-03-10T18:31:30.755Z"
   },
   {
    "duration": 5,
    "start_time": "2022-03-10T18:31:54.566Z"
   },
   {
    "duration": 6,
    "start_time": "2022-03-10T18:32:03.142Z"
   },
   {
    "duration": 47,
    "start_time": "2022-03-10T18:32:11.695Z"
   },
   {
    "duration": 67,
    "start_time": "2022-03-10T18:32:36.425Z"
   },
   {
    "duration": 110,
    "start_time": "2022-03-10T18:34:31.273Z"
   },
   {
    "duration": 266,
    "start_time": "2022-03-10T18:34:37.811Z"
   },
   {
    "duration": 3,
    "start_time": "2022-03-10T18:34:44.885Z"
   },
   {
    "duration": 4,
    "start_time": "2022-03-10T18:34:46.388Z"
   },
   {
    "duration": 117,
    "start_time": "2022-03-10T18:34:46.398Z"
   },
   {
    "duration": 24,
    "start_time": "2022-03-10T18:34:46.518Z"
   },
   {
    "duration": 9,
    "start_time": "2022-03-10T18:34:46.546Z"
   },
   {
    "duration": 12,
    "start_time": "2022-03-10T18:34:46.588Z"
   },
   {
    "duration": 12,
    "start_time": "2022-03-10T18:34:46.603Z"
   },
   {
    "duration": 15,
    "start_time": "2022-03-10T18:34:46.618Z"
   },
   {
    "duration": 12,
    "start_time": "2022-03-10T18:34:46.636Z"
   },
   {
    "duration": 13,
    "start_time": "2022-03-10T18:34:46.686Z"
   },
   {
    "duration": 4,
    "start_time": "2022-03-10T18:34:46.703Z"
   },
   {
    "duration": 34,
    "start_time": "2022-03-10T18:34:46.710Z"
   },
   {
    "duration": 45,
    "start_time": "2022-03-10T18:34:46.747Z"
   },
   {
    "duration": 12,
    "start_time": "2022-03-10T18:34:46.794Z"
   },
   {
    "duration": 4,
    "start_time": "2022-03-10T18:34:46.808Z"
   },
   {
    "duration": 8,
    "start_time": "2022-03-10T18:34:46.814Z"
   },
   {
    "duration": 5,
    "start_time": "2022-03-10T18:34:46.825Z"
   },
   {
    "duration": 7,
    "start_time": "2022-03-10T18:34:46.832Z"
   },
   {
    "duration": 64,
    "start_time": "2022-03-10T18:34:46.842Z"
   },
   {
    "duration": 3,
    "start_time": "2022-03-10T18:34:46.908Z"
   },
   {
    "duration": 38,
    "start_time": "2022-03-10T18:34:46.914Z"
   },
   {
    "duration": 13,
    "start_time": "2022-03-10T18:34:46.955Z"
   },
   {
    "duration": 249,
    "start_time": "2022-03-10T18:34:46.989Z"
   },
   {
    "duration": -2484,
    "start_time": "2022-03-10T18:34:49.725Z"
   },
   {
    "duration": -2486,
    "start_time": "2022-03-10T18:34:49.729Z"
   },
   {
    "duration": -2488,
    "start_time": "2022-03-10T18:34:49.733Z"
   },
   {
    "duration": 29,
    "start_time": "2022-03-10T18:37:23.975Z"
   },
   {
    "duration": 9,
    "start_time": "2022-03-10T18:39:19.233Z"
   },
   {
    "duration": 8,
    "start_time": "2022-03-10T18:42:34.313Z"
   },
   {
    "duration": 9,
    "start_time": "2022-03-10T18:42:45.810Z"
   },
   {
    "duration": 14,
    "start_time": "2022-03-10T18:43:05.124Z"
   },
   {
    "duration": 6,
    "start_time": "2022-03-10T18:45:55.921Z"
   },
   {
    "duration": 14,
    "start_time": "2022-03-10T18:46:01.692Z"
   },
   {
    "duration": 13,
    "start_time": "2022-03-10T18:46:10.871Z"
   },
   {
    "duration": 3,
    "start_time": "2022-03-10T18:46:12.558Z"
   },
   {
    "duration": 20,
    "start_time": "2022-03-10T18:46:18.323Z"
   },
   {
    "duration": 234,
    "start_time": "2022-03-10T18:47:27.264Z"
   },
   {
    "duration": 11,
    "start_time": "2022-03-10T18:47:34.606Z"
   },
   {
    "duration": 10,
    "start_time": "2022-03-10T18:48:45.394Z"
   },
   {
    "duration": 368,
    "start_time": "2022-03-11T18:01:54.996Z"
   },
   {
    "duration": 609,
    "start_time": "2022-03-11T18:01:58.277Z"
   },
   {
    "duration": 57,
    "start_time": "2022-03-11T18:01:58.887Z"
   },
   {
    "duration": 14,
    "start_time": "2022-03-11T18:01:58.946Z"
   },
   {
    "duration": 4,
    "start_time": "2022-03-11T18:01:58.961Z"
   },
   {
    "duration": 7,
    "start_time": "2022-03-11T18:01:58.967Z"
   },
   {
    "duration": 26,
    "start_time": "2022-03-11T18:01:58.976Z"
   },
   {
    "duration": 6,
    "start_time": "2022-03-11T18:01:59.004Z"
   },
   {
    "duration": 6,
    "start_time": "2022-03-11T18:01:59.012Z"
   },
   {
    "duration": 7,
    "start_time": "2022-03-11T18:01:59.019Z"
   },
   {
    "duration": 3,
    "start_time": "2022-03-11T18:01:59.027Z"
   },
   {
    "duration": 13,
    "start_time": "2022-03-11T18:01:59.031Z"
   },
   {
    "duration": 9,
    "start_time": "2022-03-11T18:01:59.045Z"
   },
   {
    "duration": 8,
    "start_time": "2022-03-11T18:01:59.055Z"
   },
   {
    "duration": 4,
    "start_time": "2022-03-11T18:01:59.064Z"
   },
   {
    "duration": 31,
    "start_time": "2022-03-11T18:01:59.070Z"
   },
   {
    "duration": 1,
    "start_time": "2022-03-11T18:01:59.103Z"
   },
   {
    "duration": 5,
    "start_time": "2022-03-11T18:01:59.106Z"
   },
   {
    "duration": 12,
    "start_time": "2022-03-11T18:01:59.112Z"
   },
   {
    "duration": 8,
    "start_time": "2022-03-11T18:01:59.126Z"
   },
   {
    "duration": 2,
    "start_time": "2022-03-11T18:01:59.136Z"
   },
   {
    "duration": 20,
    "start_time": "2022-03-11T18:01:59.139Z"
   },
   {
    "duration": 8,
    "start_time": "2022-03-11T18:01:59.160Z"
   },
   {
    "duration": 325,
    "start_time": "2022-03-11T18:01:59.170Z"
   },
   {
    "duration": -3193,
    "start_time": "2022-03-11T18:02:02.691Z"
   },
   {
    "duration": -3195,
    "start_time": "2022-03-11T18:02:02.694Z"
   },
   {
    "duration": -3197,
    "start_time": "2022-03-11T18:02:02.697Z"
   },
   {
    "duration": -3198,
    "start_time": "2022-03-11T18:02:02.700Z"
   },
   {
    "duration": 316,
    "start_time": "2022-03-11T18:04:58.662Z"
   },
   {
    "duration": 6,
    "start_time": "2022-03-11T18:05:03.725Z"
   },
   {
    "duration": 258,
    "start_time": "2022-03-11T18:05:04.865Z"
   },
   {
    "duration": 3,
    "start_time": "2022-03-11T18:05:51.453Z"
   },
   {
    "duration": 51,
    "start_time": "2022-03-11T18:05:51.457Z"
   },
   {
    "duration": 14,
    "start_time": "2022-03-11T18:05:51.510Z"
   },
   {
    "duration": 4,
    "start_time": "2022-03-11T18:05:51.526Z"
   },
   {
    "duration": 8,
    "start_time": "2022-03-11T18:05:51.531Z"
   },
   {
    "duration": 5,
    "start_time": "2022-03-11T18:05:51.540Z"
   },
   {
    "duration": 7,
    "start_time": "2022-03-11T18:05:51.546Z"
   },
   {
    "duration": 5,
    "start_time": "2022-03-11T18:05:51.554Z"
   },
   {
    "duration": 7,
    "start_time": "2022-03-11T18:05:51.561Z"
   },
   {
    "duration": 32,
    "start_time": "2022-03-11T18:05:51.569Z"
   },
   {
    "duration": 13,
    "start_time": "2022-03-11T18:05:51.602Z"
   },
   {
    "duration": 11,
    "start_time": "2022-03-11T18:05:51.616Z"
   },
   {
    "duration": 10,
    "start_time": "2022-03-11T18:05:51.628Z"
   },
   {
    "duration": 6,
    "start_time": "2022-03-11T18:05:51.640Z"
   },
   {
    "duration": 8,
    "start_time": "2022-03-11T18:05:51.648Z"
   },
   {
    "duration": 7,
    "start_time": "2022-03-11T18:05:51.658Z"
   },
   {
    "duration": 7,
    "start_time": "2022-03-11T18:05:51.667Z"
   },
   {
    "duration": 13,
    "start_time": "2022-03-11T18:05:51.675Z"
   },
   {
    "duration": 12,
    "start_time": "2022-03-11T18:05:51.689Z"
   },
   {
    "duration": 7,
    "start_time": "2022-03-11T18:05:51.702Z"
   },
   {
    "duration": 16,
    "start_time": "2022-03-11T18:05:51.710Z"
   },
   {
    "duration": 7,
    "start_time": "2022-03-11T18:05:51.728Z"
   },
   {
    "duration": 305,
    "start_time": "2022-03-11T18:05:51.737Z"
   },
   {
    "duration": -2930,
    "start_time": "2022-03-11T18:05:54.974Z"
   },
   {
    "duration": -2932,
    "start_time": "2022-03-11T18:05:54.977Z"
   },
   {
    "duration": -2934,
    "start_time": "2022-03-11T18:05:54.979Z"
   },
   {
    "duration": -2936,
    "start_time": "2022-03-11T18:05:54.982Z"
   },
   {
    "duration": -2938,
    "start_time": "2022-03-11T18:05:54.985Z"
   },
   {
    "duration": 198,
    "start_time": "2022-03-11T18:06:03.461Z"
   },
   {
    "duration": 332,
    "start_time": "2022-03-11T18:06:59.175Z"
   },
   {
    "duration": 7,
    "start_time": "2022-03-11T18:23:34.294Z"
   },
   {
    "duration": 209,
    "start_time": "2022-03-12T04:26:52.796Z"
   },
   {
    "duration": 552,
    "start_time": "2022-03-12T04:26:55.956Z"
   },
   {
    "duration": 61,
    "start_time": "2022-03-12T04:26:56.510Z"
   },
   {
    "duration": 17,
    "start_time": "2022-03-12T04:26:56.574Z"
   },
   {
    "duration": 5,
    "start_time": "2022-03-12T04:26:56.594Z"
   },
   {
    "duration": 8,
    "start_time": "2022-03-12T04:26:56.601Z"
   },
   {
    "duration": 31,
    "start_time": "2022-03-12T04:26:56.611Z"
   },
   {
    "duration": 8,
    "start_time": "2022-03-12T04:26:56.644Z"
   },
   {
    "duration": 5,
    "start_time": "2022-03-12T04:26:56.655Z"
   },
   {
    "duration": 7,
    "start_time": "2022-03-12T04:26:56.663Z"
   },
   {
    "duration": 3,
    "start_time": "2022-03-12T04:26:56.672Z"
   },
   {
    "duration": 17,
    "start_time": "2022-03-12T04:26:56.677Z"
   },
   {
    "duration": 44,
    "start_time": "2022-03-12T04:26:56.696Z"
   },
   {
    "duration": 9,
    "start_time": "2022-03-12T04:26:56.741Z"
   },
   {
    "duration": 4,
    "start_time": "2022-03-12T04:26:56.751Z"
   },
   {
    "duration": 4,
    "start_time": "2022-03-12T04:26:56.756Z"
   },
   {
    "duration": 5,
    "start_time": "2022-03-12T04:26:56.762Z"
   },
   {
    "duration": 6,
    "start_time": "2022-03-12T04:26:56.769Z"
   },
   {
    "duration": 10,
    "start_time": "2022-03-12T04:26:56.776Z"
   },
   {
    "duration": 9,
    "start_time": "2022-03-12T04:26:56.788Z"
   },
   {
    "duration": 2,
    "start_time": "2022-03-12T04:26:56.799Z"
   },
   {
    "duration": 12,
    "start_time": "2022-03-12T04:26:56.838Z"
   },
   {
    "duration": 6,
    "start_time": "2022-03-12T04:26:56.851Z"
   },
   {
    "duration": 199,
    "start_time": "2022-03-12T04:26:56.860Z"
   },
   {
    "duration": -3416,
    "start_time": "2022-03-12T04:27:00.477Z"
   },
   {
    "duration": -3420,
    "start_time": "2022-03-12T04:27:00.482Z"
   },
   {
    "duration": -3423,
    "start_time": "2022-03-12T04:27:00.486Z"
   },
   {
    "duration": -3425,
    "start_time": "2022-03-12T04:27:00.489Z"
   },
   {
    "duration": -3427,
    "start_time": "2022-03-12T04:27:00.492Z"
   },
   {
    "duration": -3430,
    "start_time": "2022-03-12T04:27:00.496Z"
   },
   {
    "duration": -3432,
    "start_time": "2022-03-12T04:27:00.499Z"
   },
   {
    "duration": 4215,
    "start_time": "2022-03-12T04:27:22.742Z"
   },
   {
    "duration": 7,
    "start_time": "2022-03-12T04:27:34.679Z"
   },
   {
    "duration": 13,
    "start_time": "2022-03-12T04:27:35.793Z"
   },
   {
    "duration": 7,
    "start_time": "2022-03-12T04:27:38.799Z"
   },
   {
    "duration": 321,
    "start_time": "2022-03-12T04:27:39.354Z"
   },
   {
    "duration": 8,
    "start_time": "2022-03-12T04:27:40.152Z"
   },
   {
    "duration": 433,
    "start_time": "2022-03-12T04:27:43.225Z"
   },
   {
    "duration": 539,
    "start_time": "2022-03-12T04:30:25.000Z"
   },
   {
    "duration": 375,
    "start_time": "2022-03-12T04:31:05.644Z"
   },
   {
    "duration": 3,
    "start_time": "2022-03-12T04:37:38.157Z"
   },
   {
    "duration": 46,
    "start_time": "2022-03-12T04:37:38.162Z"
   },
   {
    "duration": 15,
    "start_time": "2022-03-12T04:37:38.210Z"
   },
   {
    "duration": 5,
    "start_time": "2022-03-12T04:37:38.238Z"
   },
   {
    "duration": 17,
    "start_time": "2022-03-12T04:37:38.244Z"
   },
   {
    "duration": 7,
    "start_time": "2022-03-12T04:37:38.263Z"
   },
   {
    "duration": 10,
    "start_time": "2022-03-12T04:37:38.272Z"
   },
   {
    "duration": 7,
    "start_time": "2022-03-12T04:37:38.284Z"
   },
   {
    "duration": 10,
    "start_time": "2022-03-12T04:37:38.292Z"
   },
   {
    "duration": 2,
    "start_time": "2022-03-12T04:37:38.304Z"
   },
   {
    "duration": 36,
    "start_time": "2022-03-12T04:37:38.308Z"
   },
   {
    "duration": 11,
    "start_time": "2022-03-12T04:37:38.346Z"
   },
   {
    "duration": 9,
    "start_time": "2022-03-12T04:37:38.358Z"
   },
   {
    "duration": 3,
    "start_time": "2022-03-12T04:37:38.368Z"
   },
   {
    "duration": 5,
    "start_time": "2022-03-12T04:37:38.372Z"
   },
   {
    "duration": 14,
    "start_time": "2022-03-12T04:37:38.379Z"
   },
   {
    "duration": 4,
    "start_time": "2022-03-12T04:37:38.396Z"
   },
   {
    "duration": 9,
    "start_time": "2022-03-12T04:37:38.401Z"
   },
   {
    "duration": 26,
    "start_time": "2022-03-12T04:37:38.412Z"
   },
   {
    "duration": 2,
    "start_time": "2022-03-12T04:37:38.439Z"
   },
   {
    "duration": 13,
    "start_time": "2022-03-12T04:37:38.443Z"
   },
   {
    "duration": 6,
    "start_time": "2022-03-12T04:37:38.458Z"
   },
   {
    "duration": 183,
    "start_time": "2022-03-12T04:37:38.465Z"
   },
   {
    "duration": -3386,
    "start_time": "2022-03-12T04:37:42.036Z"
   },
   {
    "duration": -3388,
    "start_time": "2022-03-12T04:37:42.039Z"
   },
   {
    "duration": -3390,
    "start_time": "2022-03-12T04:37:42.042Z"
   },
   {
    "duration": -3393,
    "start_time": "2022-03-12T04:37:42.046Z"
   },
   {
    "duration": -3395,
    "start_time": "2022-03-12T04:37:42.049Z"
   },
   {
    "duration": -3397,
    "start_time": "2022-03-12T04:37:42.052Z"
   },
   {
    "duration": -3399,
    "start_time": "2022-03-12T04:37:42.055Z"
   },
   {
    "duration": 4171,
    "start_time": "2022-03-12T04:43:02.762Z"
   },
   {
    "duration": 4233,
    "start_time": "2022-03-12T04:46:02.503Z"
   },
   {
    "duration": 3,
    "start_time": "2022-03-12T04:46:25.577Z"
   },
   {
    "duration": 56,
    "start_time": "2022-03-12T04:46:25.584Z"
   },
   {
    "duration": 18,
    "start_time": "2022-03-12T04:46:25.642Z"
   },
   {
    "duration": 5,
    "start_time": "2022-03-12T04:46:25.663Z"
   },
   {
    "duration": 9,
    "start_time": "2022-03-12T04:46:25.670Z"
   },
   {
    "duration": 8,
    "start_time": "2022-03-12T04:46:25.680Z"
   },
   {
    "duration": 9,
    "start_time": "2022-03-12T04:46:25.690Z"
   },
   {
    "duration": 6,
    "start_time": "2022-03-12T04:46:25.700Z"
   },
   {
    "duration": 36,
    "start_time": "2022-03-12T04:46:25.708Z"
   },
   {
    "duration": 3,
    "start_time": "2022-03-12T04:46:25.746Z"
   },
   {
    "duration": 16,
    "start_time": "2022-03-12T04:46:25.750Z"
   },
   {
    "duration": 14,
    "start_time": "2022-03-12T04:46:25.768Z"
   },
   {
    "duration": 13,
    "start_time": "2022-03-12T04:46:25.784Z"
   },
   {
    "duration": 7,
    "start_time": "2022-03-12T04:46:25.799Z"
   },
   {
    "duration": 10,
    "start_time": "2022-03-12T04:46:25.807Z"
   },
   {
    "duration": 18,
    "start_time": "2022-03-12T04:46:25.819Z"
   },
   {
    "duration": 2,
    "start_time": "2022-03-12T04:46:25.839Z"
   },
   {
    "duration": 11,
    "start_time": "2022-03-12T04:46:25.843Z"
   },
   {
    "duration": 8,
    "start_time": "2022-03-12T04:46:25.855Z"
   },
   {
    "duration": 3,
    "start_time": "2022-03-12T04:46:25.865Z"
   },
   {
    "duration": 21,
    "start_time": "2022-03-12T04:46:25.870Z"
   },
   {
    "duration": 12,
    "start_time": "2022-03-12T04:46:25.893Z"
   },
   {
    "duration": 187,
    "start_time": "2022-03-12T04:46:25.907Z"
   },
   {
    "duration": -3602,
    "start_time": "2022-03-12T04:46:29.699Z"
   },
   {
    "duration": -3604,
    "start_time": "2022-03-12T04:46:29.702Z"
   },
   {
    "duration": -3605,
    "start_time": "2022-03-12T04:46:29.705Z"
   },
   {
    "duration": -3607,
    "start_time": "2022-03-12T04:46:29.708Z"
   },
   {
    "duration": -3608,
    "start_time": "2022-03-12T04:46:29.710Z"
   },
   {
    "duration": -3612,
    "start_time": "2022-03-12T04:46:29.716Z"
   },
   {
    "duration": -3615,
    "start_time": "2022-03-12T04:46:29.720Z"
   },
   {
    "duration": 6,
    "start_time": "2022-03-12T04:46:43.141Z"
   },
   {
    "duration": 15,
    "start_time": "2022-03-12T04:46:43.843Z"
   },
   {
    "duration": 7,
    "start_time": "2022-03-12T04:46:46.684Z"
   },
   {
    "duration": 332,
    "start_time": "2022-03-12T04:46:47.441Z"
   },
   {
    "duration": 8,
    "start_time": "2022-03-12T04:46:49.248Z"
   },
   {
    "duration": 443,
    "start_time": "2022-03-12T04:46:52.692Z"
   },
   {
    "duration": 7,
    "start_time": "2022-03-12T05:00:12.506Z"
   },
   {
    "duration": 19,
    "start_time": "2022-03-12T05:00:21.132Z"
   },
   {
    "duration": 19,
    "start_time": "2022-03-12T05:09:37.856Z"
   },
   {
    "duration": 2,
    "start_time": "2022-03-12T05:11:52.125Z"
   },
   {
    "duration": 164,
    "start_time": "2022-03-12T06:36:08.786Z"
   },
   {
    "duration": 234,
    "start_time": "2022-03-12T06:36:16.862Z"
   },
   {
    "duration": 176,
    "start_time": "2022-03-12T06:37:18.491Z"
   },
   {
    "duration": 215,
    "start_time": "2022-03-12T06:37:53.719Z"
   },
   {
    "duration": 5,
    "start_time": "2022-03-12T06:39:52.518Z"
   },
   {
    "duration": 3,
    "start_time": "2022-03-12T06:40:02.614Z"
   },
   {
    "duration": 49,
    "start_time": "2022-03-12T06:40:02.667Z"
   },
   {
    "duration": 17,
    "start_time": "2022-03-12T06:40:02.718Z"
   },
   {
    "duration": 5,
    "start_time": "2022-03-12T06:40:02.737Z"
   },
   {
    "duration": 17,
    "start_time": "2022-03-12T06:40:02.744Z"
   },
   {
    "duration": 10,
    "start_time": "2022-03-12T06:40:02.762Z"
   },
   {
    "duration": 20,
    "start_time": "2022-03-12T06:40:02.774Z"
   },
   {
    "duration": 10,
    "start_time": "2022-03-12T06:40:02.796Z"
   },
   {
    "duration": 14,
    "start_time": "2022-03-12T06:40:02.808Z"
   },
   {
    "duration": 7,
    "start_time": "2022-03-12T06:40:02.825Z"
   },
   {
    "duration": 18,
    "start_time": "2022-03-12T06:40:02.834Z"
   },
   {
    "duration": 12,
    "start_time": "2022-03-12T06:40:02.853Z"
   },
   {
    "duration": 34,
    "start_time": "2022-03-12T06:40:02.867Z"
   },
   {
    "duration": 6,
    "start_time": "2022-03-12T06:40:02.902Z"
   },
   {
    "duration": 15,
    "start_time": "2022-03-12T06:40:02.909Z"
   },
   {
    "duration": 8,
    "start_time": "2022-03-12T06:40:02.925Z"
   },
   {
    "duration": 10,
    "start_time": "2022-03-12T06:40:02.935Z"
   },
   {
    "duration": 18,
    "start_time": "2022-03-12T06:40:02.947Z"
   },
   {
    "duration": 13,
    "start_time": "2022-03-12T06:40:02.967Z"
   },
   {
    "duration": 3,
    "start_time": "2022-03-12T06:40:02.982Z"
   },
   {
    "duration": 16,
    "start_time": "2022-03-12T06:40:02.987Z"
   },
   {
    "duration": 7,
    "start_time": "2022-03-12T06:40:03.005Z"
   },
   {
    "duration": 209,
    "start_time": "2022-03-12T06:40:03.014Z"
   },
   {
    "duration": -3312,
    "start_time": "2022-03-12T06:40:06.538Z"
   },
   {
    "duration": -3315,
    "start_time": "2022-03-12T06:40:06.543Z"
   },
   {
    "duration": -3340,
    "start_time": "2022-03-12T06:40:06.569Z"
   },
   {
    "duration": -3344,
    "start_time": "2022-03-12T06:40:06.575Z"
   },
   {
    "duration": -3347,
    "start_time": "2022-03-12T06:40:06.579Z"
   },
   {
    "duration": -3349,
    "start_time": "2022-03-12T06:40:06.583Z"
   },
   {
    "duration": -3352,
    "start_time": "2022-03-12T06:40:06.587Z"
   },
   {
    "duration": -3353,
    "start_time": "2022-03-12T06:40:06.590Z"
   },
   {
    "duration": -3356,
    "start_time": "2022-03-12T06:40:06.594Z"
   },
   {
    "duration": -3358,
    "start_time": "2022-03-12T06:40:06.598Z"
   },
   {
    "duration": -3360,
    "start_time": "2022-03-12T06:40:06.601Z"
   },
   {
    "duration": 5,
    "start_time": "2022-03-12T06:40:13.749Z"
   },
   {
    "duration": 176,
    "start_time": "2022-03-12T06:40:49.800Z"
   },
   {
    "duration": 3,
    "start_time": "2022-03-12T06:40:56.539Z"
   },
   {
    "duration": 48,
    "start_time": "2022-03-12T06:40:56.547Z"
   },
   {
    "duration": 17,
    "start_time": "2022-03-12T06:40:56.597Z"
   },
   {
    "duration": 22,
    "start_time": "2022-03-12T06:40:56.616Z"
   },
   {
    "duration": 9,
    "start_time": "2022-03-12T06:40:56.681Z"
   },
   {
    "duration": 7,
    "start_time": "2022-03-12T06:40:56.692Z"
   },
   {
    "duration": 8,
    "start_time": "2022-03-12T06:40:56.701Z"
   },
   {
    "duration": 7,
    "start_time": "2022-03-12T06:40:56.711Z"
   },
   {
    "duration": 10,
    "start_time": "2022-03-12T06:40:56.719Z"
   },
   {
    "duration": 6,
    "start_time": "2022-03-12T06:40:56.731Z"
   },
   {
    "duration": 15,
    "start_time": "2022-03-12T06:40:56.739Z"
   },
   {
    "duration": 11,
    "start_time": "2022-03-12T06:40:56.756Z"
   },
   {
    "duration": 9,
    "start_time": "2022-03-12T06:40:56.770Z"
   },
   {
    "duration": 5,
    "start_time": "2022-03-12T06:40:56.781Z"
   },
   {
    "duration": 10,
    "start_time": "2022-03-12T06:40:56.787Z"
   },
   {
    "duration": 8,
    "start_time": "2022-03-12T06:40:56.798Z"
   },
   {
    "duration": 13,
    "start_time": "2022-03-12T06:40:56.808Z"
   },
   {
    "duration": 22,
    "start_time": "2022-03-12T06:40:56.822Z"
   },
   {
    "duration": 8,
    "start_time": "2022-03-12T06:40:56.846Z"
   },
   {
    "duration": 2,
    "start_time": "2022-03-12T06:40:56.856Z"
   },
   {
    "duration": 16,
    "start_time": "2022-03-12T06:40:56.859Z"
   },
   {
    "duration": 7,
    "start_time": "2022-03-12T06:40:56.876Z"
   },
   {
    "duration": 173,
    "start_time": "2022-03-12T06:40:56.884Z"
   },
   {
    "duration": -3307,
    "start_time": "2022-03-12T06:41:00.366Z"
   },
   {
    "duration": -3313,
    "start_time": "2022-03-12T06:41:00.373Z"
   },
   {
    "duration": -3316,
    "start_time": "2022-03-12T06:41:00.377Z"
   },
   {
    "duration": -3320,
    "start_time": "2022-03-12T06:41:00.382Z"
   },
   {
    "duration": -3323,
    "start_time": "2022-03-12T06:41:00.386Z"
   },
   {
    "duration": -3327,
    "start_time": "2022-03-12T06:41:00.390Z"
   },
   {
    "duration": -3329,
    "start_time": "2022-03-12T06:41:00.393Z"
   },
   {
    "duration": -3332,
    "start_time": "2022-03-12T06:41:00.397Z"
   },
   {
    "duration": -3334,
    "start_time": "2022-03-12T06:41:00.400Z"
   },
   {
    "duration": -3337,
    "start_time": "2022-03-12T06:41:00.404Z"
   },
   {
    "duration": -3340,
    "start_time": "2022-03-12T06:41:00.407Z"
   },
   {
    "duration": 171,
    "start_time": "2022-03-12T06:42:29.067Z"
   },
   {
    "duration": 5,
    "start_time": "2022-03-12T06:42:35.687Z"
   },
   {
    "duration": 15,
    "start_time": "2022-03-12T06:42:36.515Z"
   },
   {
    "duration": 8,
    "start_time": "2022-03-12T06:42:42.160Z"
   },
   {
    "duration": 341,
    "start_time": "2022-03-12T06:42:43.350Z"
   },
   {
    "duration": 8,
    "start_time": "2022-03-12T06:42:44.358Z"
   },
   {
    "duration": 436,
    "start_time": "2022-03-12T06:42:47.219Z"
   },
   {
    "duration": 6,
    "start_time": "2022-03-12T06:42:49.438Z"
   },
   {
    "duration": 18,
    "start_time": "2022-03-12T06:42:50.671Z"
   },
   {
    "duration": 3,
    "start_time": "2022-03-12T06:42:51.362Z"
   },
   {
    "duration": 8,
    "start_time": "2022-03-12T06:42:53.879Z"
   },
   {
    "duration": 181,
    "start_time": "2022-03-12T06:43:13.876Z"
   },
   {
    "duration": 15,
    "start_time": "2022-03-12T06:45:14.994Z"
   },
   {
    "duration": 180,
    "start_time": "2022-03-12T06:47:28.019Z"
   },
   {
    "duration": 209,
    "start_time": "2022-03-12T06:47:50.889Z"
   },
   {
    "duration": 11,
    "start_time": "2022-03-12T06:50:08.118Z"
   },
   {
    "duration": 11,
    "start_time": "2022-03-12T06:50:29.774Z"
   },
   {
    "duration": 16,
    "start_time": "2022-03-12T06:50:53.881Z"
   },
   {
    "duration": 17,
    "start_time": "2022-03-12T06:51:44.604Z"
   },
   {
    "duration": 16,
    "start_time": "2022-03-12T06:58:57.325Z"
   },
   {
    "duration": 31,
    "start_time": "2022-03-12T06:59:06.292Z"
   },
   {
    "duration": 11,
    "start_time": "2022-03-12T07:11:52.484Z"
   },
   {
    "duration": 179,
    "start_time": "2022-03-12T07:13:31.540Z"
   },
   {
    "duration": 11,
    "start_time": "2022-03-12T07:15:22.233Z"
   },
   {
    "duration": 11,
    "start_time": "2022-03-12T07:16:02.560Z"
   },
   {
    "duration": 4237,
    "start_time": "2022-03-12T07:25:47.620Z"
   },
   {
    "duration": 3,
    "start_time": "2022-03-12T07:27:56.011Z"
   },
   {
    "duration": 191,
    "start_time": "2022-03-12T07:29:21.091Z"
   },
   {
    "duration": 173,
    "start_time": "2022-03-12T07:29:31.592Z"
   },
   {
    "duration": 167,
    "start_time": "2022-03-12T07:29:53.333Z"
   },
   {
    "duration": 10,
    "start_time": "2022-03-12T07:30:14.565Z"
   },
   {
    "duration": 168,
    "start_time": "2022-03-12T07:32:01.853Z"
   },
   {
    "duration": 54,
    "start_time": "2022-03-12T07:32:03.841Z"
   },
   {
    "duration": 11,
    "start_time": "2022-03-12T07:32:16.097Z"
   },
   {
    "duration": 58,
    "start_time": "2022-03-12T07:32:18.096Z"
   },
   {
    "duration": 4185,
    "start_time": "2022-03-12T07:36:43.067Z"
   },
   {
    "duration": 4143,
    "start_time": "2022-03-12T07:37:26.218Z"
   },
   {
    "duration": 4135,
    "start_time": "2022-03-12T07:38:02.657Z"
   },
   {
    "duration": 3,
    "start_time": "2022-03-12T07:38:12.173Z"
   },
   {
    "duration": 173,
    "start_time": "2022-03-12T07:38:55.084Z"
   },
   {
    "duration": 4166,
    "start_time": "2022-03-12T07:39:13.500Z"
   },
   {
    "duration": 4054,
    "start_time": "2022-03-12T07:39:40.905Z"
   },
   {
    "duration": 6,
    "start_time": "2022-03-12T07:39:45.042Z"
   },
   {
    "duration": 4201,
    "start_time": "2022-03-12T07:49:04.513Z"
   },
   {
    "duration": -3450,
    "start_time": "2022-03-12T07:49:12.166Z"
   },
   {
    "duration": 4085,
    "start_time": "2022-03-12T07:49:29.119Z"
   },
   {
    "duration": -5321,
    "start_time": "2022-03-12T07:49:38.527Z"
   },
   {
    "duration": 4574,
    "start_time": "2022-03-12T07:50:03.022Z"
   },
   {
    "duration": -3328,
    "start_time": "2022-03-12T07:50:10.926Z"
   },
   {
    "duration": 3,
    "start_time": "2022-03-12T07:50:15.981Z"
   },
   {
    "duration": 51,
    "start_time": "2022-03-12T07:50:15.988Z"
   },
   {
    "duration": 16,
    "start_time": "2022-03-12T07:50:16.041Z"
   },
   {
    "duration": 5,
    "start_time": "2022-03-12T07:50:16.059Z"
   },
   {
    "duration": 10,
    "start_time": "2022-03-12T07:50:16.065Z"
   },
   {
    "duration": 7,
    "start_time": "2022-03-12T07:50:16.076Z"
   },
   {
    "duration": 11,
    "start_time": "2022-03-12T07:50:16.085Z"
   },
   {
    "duration": 6,
    "start_time": "2022-03-12T07:50:16.098Z"
   },
   {
    "duration": 6,
    "start_time": "2022-03-12T07:50:16.139Z"
   },
   {
    "duration": 4,
    "start_time": "2022-03-12T07:50:16.148Z"
   },
   {
    "duration": 15,
    "start_time": "2022-03-12T07:50:16.154Z"
   },
   {
    "duration": 12,
    "start_time": "2022-03-12T07:50:16.171Z"
   },
   {
    "duration": 10,
    "start_time": "2022-03-12T07:50:16.184Z"
   },
   {
    "duration": 3,
    "start_time": "2022-03-12T07:50:16.195Z"
   },
   {
    "duration": 38,
    "start_time": "2022-03-12T07:50:16.200Z"
   },
   {
    "duration": 7,
    "start_time": "2022-03-12T07:50:16.240Z"
   },
   {
    "duration": 5,
    "start_time": "2022-03-12T07:50:16.248Z"
   },
   {
    "duration": 9,
    "start_time": "2022-03-12T07:50:16.255Z"
   },
   {
    "duration": 7,
    "start_time": "2022-03-12T07:50:16.266Z"
   },
   {
    "duration": 2,
    "start_time": "2022-03-12T07:50:16.275Z"
   },
   {
    "duration": 19,
    "start_time": "2022-03-12T07:50:16.279Z"
   },
   {
    "duration": 7,
    "start_time": "2022-03-12T07:50:16.300Z"
   },
   {
    "duration": 190,
    "start_time": "2022-03-12T07:50:16.308Z"
   },
   {
    "duration": -3296,
    "start_time": "2022-03-12T07:50:19.796Z"
   },
   {
    "duration": -3300,
    "start_time": "2022-03-12T07:50:19.801Z"
   },
   {
    "duration": -3304,
    "start_time": "2022-03-12T07:50:19.806Z"
   },
   {
    "duration": -3306,
    "start_time": "2022-03-12T07:50:19.809Z"
   },
   {
    "duration": -3308,
    "start_time": "2022-03-12T07:50:19.812Z"
   },
   {
    "duration": -3310,
    "start_time": "2022-03-12T07:50:19.815Z"
   },
   {
    "duration": -3312,
    "start_time": "2022-03-12T07:50:19.818Z"
   },
   {
    "duration": -3315,
    "start_time": "2022-03-12T07:50:19.822Z"
   },
   {
    "duration": -3317,
    "start_time": "2022-03-12T07:50:19.825Z"
   },
   {
    "duration": -3337,
    "start_time": "2022-03-12T07:50:19.847Z"
   },
   {
    "duration": -3342,
    "start_time": "2022-03-12T07:50:19.853Z"
   },
   {
    "duration": -3344,
    "start_time": "2022-03-12T07:50:19.856Z"
   },
   {
    "duration": -3349,
    "start_time": "2022-03-12T07:50:19.861Z"
   },
   {
    "duration": -3350,
    "start_time": "2022-03-12T07:50:19.864Z"
   },
   {
    "duration": -3352,
    "start_time": "2022-03-12T07:50:19.867Z"
   },
   {
    "duration": 4199,
    "start_time": "2022-03-12T07:50:44.811Z"
   },
   {
    "duration": -3316,
    "start_time": "2022-03-12T07:50:52.328Z"
   },
   {
    "duration": 12,
    "start_time": "2022-03-12T07:57:05.794Z"
   },
   {
    "duration": 5,
    "start_time": "2022-03-12T07:57:21.360Z"
   },
   {
    "duration": 4926,
    "start_time": "2022-03-12T08:03:37.627Z"
   },
   {
    "duration": 4,
    "start_time": "2022-03-12T08:03:42.940Z"
   },
   {
    "duration": 2,
    "start_time": "2022-03-12T08:03:47.522Z"
   },
   {
    "duration": 52,
    "start_time": "2022-03-12T08:03:47.572Z"
   },
   {
    "duration": 15,
    "start_time": "2022-03-12T08:03:47.626Z"
   },
   {
    "duration": 5,
    "start_time": "2022-03-12T08:03:47.643Z"
   },
   {
    "duration": 10,
    "start_time": "2022-03-12T08:03:47.649Z"
   },
   {
    "duration": 6,
    "start_time": "2022-03-12T08:03:47.661Z"
   },
   {
    "duration": 8,
    "start_time": "2022-03-12T08:03:47.669Z"
   },
   {
    "duration": 5,
    "start_time": "2022-03-12T08:03:47.826Z"
   },
   {
    "duration": 7,
    "start_time": "2022-03-12T08:03:47.885Z"
   },
   {
    "duration": 3,
    "start_time": "2022-03-12T08:03:47.894Z"
   },
   {
    "duration": 21,
    "start_time": "2022-03-12T08:03:47.899Z"
   },
   {
    "duration": 9,
    "start_time": "2022-03-12T08:03:48.102Z"
   },
   {
    "duration": 12,
    "start_time": "2022-03-12T08:03:48.113Z"
   },
   {
    "duration": 5,
    "start_time": "2022-03-12T08:03:48.127Z"
   },
   {
    "duration": 9,
    "start_time": "2022-03-12T08:03:48.133Z"
   },
   {
    "duration": 3,
    "start_time": "2022-03-12T08:03:48.625Z"
   },
   {
    "duration": 6,
    "start_time": "2022-03-12T08:03:48.630Z"
   },
   {
    "duration": 10,
    "start_time": "2022-03-12T08:03:48.638Z"
   },
   {
    "duration": 7,
    "start_time": "2022-03-12T08:03:48.656Z"
   },
   {
    "duration": 3,
    "start_time": "2022-03-12T08:03:48.665Z"
   },
   {
    "duration": 13,
    "start_time": "2022-03-12T08:03:49.688Z"
   },
   {
    "duration": 7,
    "start_time": "2022-03-12T08:03:49.702Z"
   },
   {
    "duration": 180,
    "start_time": "2022-03-12T08:03:49.711Z"
   },
   {
    "duration": -3314,
    "start_time": "2022-03-12T08:03:53.207Z"
   },
   {
    "duration": -3318,
    "start_time": "2022-03-12T08:03:53.212Z"
   },
   {
    "duration": -3321,
    "start_time": "2022-03-12T08:03:53.216Z"
   },
   {
    "duration": -3325,
    "start_time": "2022-03-12T08:03:53.221Z"
   },
   {
    "duration": -3328,
    "start_time": "2022-03-12T08:03:53.225Z"
   },
   {
    "duration": -3331,
    "start_time": "2022-03-12T08:03:53.229Z"
   },
   {
    "duration": -3340,
    "start_time": "2022-03-12T08:03:53.239Z"
   },
   {
    "duration": -3343,
    "start_time": "2022-03-12T08:03:53.243Z"
   },
   {
    "duration": -3347,
    "start_time": "2022-03-12T08:03:53.247Z"
   },
   {
    "duration": -3348,
    "start_time": "2022-03-12T08:03:53.250Z"
   },
   {
    "duration": -3350,
    "start_time": "2022-03-12T08:03:53.253Z"
   },
   {
    "duration": 5,
    "start_time": "2022-03-12T08:03:50.489Z"
   },
   {
    "duration": 4481,
    "start_time": "2022-03-12T08:03:50.496Z"
   },
   {
    "duration": -9309,
    "start_time": "2022-03-12T08:04:04.288Z"
   },
   {
    "duration": -9311,
    "start_time": "2022-03-12T08:04:04.291Z"
   },
   {
    "duration": -9316,
    "start_time": "2022-03-12T08:04:04.297Z"
   },
   {
    "duration": 177,
    "start_time": "2022-03-12T08:06:06.072Z"
   },
   {
    "duration": 204,
    "start_time": "2022-03-12T08:06:14.331Z"
   },
   {
    "duration": 18,
    "start_time": "2022-03-12T08:06:14.820Z"
   },
   {
    "duration": 5,
    "start_time": "2022-03-12T08:06:22.146Z"
   },
   {
    "duration": 15,
    "start_time": "2022-03-12T08:06:22.636Z"
   },
   {
    "duration": 7,
    "start_time": "2022-03-12T08:06:25.138Z"
   },
   {
    "duration": 325,
    "start_time": "2022-03-12T08:06:31.557Z"
   },
   {
    "duration": 8,
    "start_time": "2022-03-12T08:06:32.172Z"
   },
   {
    "duration": 449,
    "start_time": "2022-03-12T08:06:34.590Z"
   },
   {
    "duration": 7,
    "start_time": "2022-03-12T08:06:36.460Z"
   },
   {
    "duration": 18,
    "start_time": "2022-03-12T08:06:40.266Z"
   },
   {
    "duration": 2,
    "start_time": "2022-03-12T08:06:41.771Z"
   },
   {
    "duration": 11,
    "start_time": "2022-03-12T08:06:44.654Z"
   },
   {
    "duration": 2,
    "start_time": "2022-03-12T08:06:57.610Z"
   },
   {
    "duration": 3,
    "start_time": "2022-03-12T08:07:17.326Z"
   },
   {
    "duration": 4,
    "start_time": "2022-03-12T08:07:18.119Z"
   },
   {
    "duration": 3,
    "start_time": "2022-03-12T08:10:37.524Z"
   },
   {
    "duration": 8,
    "start_time": "2022-03-12T08:17:34.224Z"
   },
   {
    "duration": 178,
    "start_time": "2022-03-12T08:18:45.086Z"
   },
   {
    "duration": 11,
    "start_time": "2022-03-12T08:19:08.087Z"
   },
   {
    "duration": 16,
    "start_time": "2022-03-12T08:19:48.306Z"
   },
   {
    "duration": 30,
    "start_time": "2022-03-12T08:19:53.952Z"
   },
   {
    "duration": 195,
    "start_time": "2022-03-12T08:20:45.063Z"
   },
   {
    "duration": 16,
    "start_time": "2022-03-12T08:21:25.243Z"
   },
   {
    "duration": 26,
    "start_time": "2022-03-12T08:26:37.065Z"
   },
   {
    "duration": 263,
    "start_time": "2022-03-12T08:28:26.563Z"
   },
   {
    "duration": 5,
    "start_time": "2022-03-12T08:28:48.663Z"
   },
   {
    "duration": 14,
    "start_time": "2022-03-12T08:28:49.412Z"
   },
   {
    "duration": 6,
    "start_time": "2022-03-12T08:28:52.077Z"
   },
   {
    "duration": 355,
    "start_time": "2022-03-12T08:28:52.840Z"
   },
   {
    "duration": 8,
    "start_time": "2022-03-12T08:28:54.353Z"
   },
   {
    "duration": 441,
    "start_time": "2022-03-12T08:29:07.242Z"
   },
   {
    "duration": 6,
    "start_time": "2022-03-12T08:29:09.547Z"
   },
   {
    "duration": 19,
    "start_time": "2022-03-12T08:29:21.723Z"
   },
   {
    "duration": 3,
    "start_time": "2022-03-12T08:29:23.400Z"
   },
   {
    "duration": 11,
    "start_time": "2022-03-12T08:29:26.865Z"
   },
   {
    "duration": 2,
    "start_time": "2022-03-12T08:29:33.768Z"
   },
   {
    "duration": 3,
    "start_time": "2022-03-12T08:29:34.832Z"
   },
   {
    "duration": 8,
    "start_time": "2022-03-12T08:29:35.939Z"
   },
   {
    "duration": 35,
    "start_time": "2022-03-12T08:29:36.947Z"
   },
   {
    "duration": 29,
    "start_time": "2022-03-12T08:31:22.306Z"
   },
   {
    "duration": 37,
    "start_time": "2022-03-12T08:31:24.634Z"
   },
   {
    "duration": 36,
    "start_time": "2022-03-12T08:31:30.240Z"
   },
   {
    "duration": 674,
    "start_time": "2022-03-12T08:33:01.676Z"
   },
   {
    "duration": 276,
    "start_time": "2022-03-12T08:33:24.405Z"
   },
   {
    "duration": 3,
    "start_time": "2022-03-12T08:52:28.114Z"
   },
   {
    "duration": 21,
    "start_time": "2022-03-12T08:52:30.676Z"
   },
   {
    "duration": 7,
    "start_time": "2022-03-12T08:54:08.643Z"
   },
   {
    "duration": 33,
    "start_time": "2022-03-12T08:54:09.205Z"
   },
   {
    "duration": 420,
    "start_time": "2022-03-12T08:54:12.287Z"
   },
   {
    "duration": 187,
    "start_time": "2022-03-12T08:55:00.269Z"
   },
   {
    "duration": 189,
    "start_time": "2022-03-12T08:55:39.211Z"
   },
   {
    "duration": 878,
    "start_time": "2022-03-12T08:55:51.262Z"
   },
   {
    "duration": 177,
    "start_time": "2022-03-12T08:58:29.436Z"
   },
   {
    "duration": 469,
    "start_time": "2022-03-12T08:58:35.976Z"
   },
   {
    "duration": 52,
    "start_time": "2022-03-12T08:58:36.447Z"
   },
   {
    "duration": 16,
    "start_time": "2022-03-12T08:58:36.501Z"
   },
   {
    "duration": 4,
    "start_time": "2022-03-12T08:58:36.519Z"
   },
   {
    "duration": 16,
    "start_time": "2022-03-12T08:58:36.524Z"
   },
   {
    "duration": 4,
    "start_time": "2022-03-12T08:58:36.542Z"
   },
   {
    "duration": 9,
    "start_time": "2022-03-12T08:58:36.548Z"
   },
   {
    "duration": 22,
    "start_time": "2022-03-12T08:58:36.560Z"
   },
   {
    "duration": 12,
    "start_time": "2022-03-12T08:58:36.584Z"
   },
   {
    "duration": 10,
    "start_time": "2022-03-12T08:58:36.598Z"
   },
   {
    "duration": 20,
    "start_time": "2022-03-12T08:58:36.609Z"
   },
   {
    "duration": 14,
    "start_time": "2022-03-12T08:58:36.630Z"
   },
   {
    "duration": 10,
    "start_time": "2022-03-12T08:58:36.646Z"
   },
   {
    "duration": 8,
    "start_time": "2022-03-12T08:58:36.658Z"
   },
   {
    "duration": 11,
    "start_time": "2022-03-12T08:58:36.668Z"
   },
   {
    "duration": 14,
    "start_time": "2022-03-12T08:58:36.681Z"
   },
   {
    "duration": 7,
    "start_time": "2022-03-12T08:58:36.696Z"
   },
   {
    "duration": 13,
    "start_time": "2022-03-12T08:58:36.704Z"
   },
   {
    "duration": 8,
    "start_time": "2022-03-12T08:58:36.718Z"
   },
   {
    "duration": 3,
    "start_time": "2022-03-12T08:58:36.727Z"
   },
   {
    "duration": 18,
    "start_time": "2022-03-12T08:58:36.731Z"
   },
   {
    "duration": 7,
    "start_time": "2022-03-12T08:58:36.750Z"
   },
   {
    "duration": 229,
    "start_time": "2022-03-12T08:58:36.761Z"
   },
   {
    "duration": -3224,
    "start_time": "2022-03-12T08:58:40.216Z"
   },
   {
    "duration": -3255,
    "start_time": "2022-03-12T08:58:40.248Z"
   },
   {
    "duration": -3264,
    "start_time": "2022-03-12T08:58:40.258Z"
   },
   {
    "duration": -3267,
    "start_time": "2022-03-12T08:58:40.262Z"
   },
   {
    "duration": -3270,
    "start_time": "2022-03-12T08:58:40.266Z"
   },
   {
    "duration": -3272,
    "start_time": "2022-03-12T08:58:40.269Z"
   },
   {
    "duration": -3274,
    "start_time": "2022-03-12T08:58:40.272Z"
   },
   {
    "duration": -3276,
    "start_time": "2022-03-12T08:58:40.275Z"
   },
   {
    "duration": -3278,
    "start_time": "2022-03-12T08:58:40.278Z"
   },
   {
    "duration": -3280,
    "start_time": "2022-03-12T08:58:40.281Z"
   },
   {
    "duration": -3283,
    "start_time": "2022-03-12T08:58:40.285Z"
   },
   {
    "duration": -3284,
    "start_time": "2022-03-12T08:58:40.287Z"
   },
   {
    "duration": -3287,
    "start_time": "2022-03-12T08:58:40.291Z"
   },
   {
    "duration": -3288,
    "start_time": "2022-03-12T08:58:40.293Z"
   },
   {
    "duration": 174,
    "start_time": "2022-03-12T08:58:54.584Z"
   },
   {
    "duration": 224,
    "start_time": "2022-03-12T08:59:08.289Z"
   },
   {
    "duration": 3,
    "start_time": "2022-03-12T08:59:17.936Z"
   },
   {
    "duration": 48,
    "start_time": "2022-03-12T08:59:18.594Z"
   },
   {
    "duration": 17,
    "start_time": "2022-03-12T08:59:19.157Z"
   },
   {
    "duration": 5,
    "start_time": "2022-03-12T08:59:19.918Z"
   },
   {
    "duration": 8,
    "start_time": "2022-03-12T08:59:20.281Z"
   },
   {
    "duration": 6,
    "start_time": "2022-03-12T08:59:20.601Z"
   },
   {
    "duration": 7,
    "start_time": "2022-03-12T08:59:21.063Z"
   },
   {
    "duration": 5,
    "start_time": "2022-03-12T08:59:21.412Z"
   },
   {
    "duration": 7,
    "start_time": "2022-03-12T08:59:21.643Z"
   },
   {
    "duration": 3,
    "start_time": "2022-03-12T08:59:24.720Z"
   },
   {
    "duration": 14,
    "start_time": "2022-03-12T08:59:24.915Z"
   },
   {
    "duration": 13,
    "start_time": "2022-03-12T08:59:25.291Z"
   },
   {
    "duration": 12,
    "start_time": "2022-03-12T08:59:25.716Z"
   },
   {
    "duration": 2,
    "start_time": "2022-03-12T08:59:25.936Z"
   },
   {
    "duration": 3,
    "start_time": "2022-03-12T08:59:26.369Z"
   },
   {
    "duration": 3,
    "start_time": "2022-03-12T08:59:26.677Z"
   },
   {
    "duration": 3,
    "start_time": "2022-03-12T08:59:26.916Z"
   },
   {
    "duration": 8,
    "start_time": "2022-03-12T08:59:27.329Z"
   },
   {
    "duration": 7,
    "start_time": "2022-03-12T08:59:28.898Z"
   },
   {
    "duration": 3,
    "start_time": "2022-03-12T08:59:29.488Z"
   },
   {
    "duration": 16,
    "start_time": "2022-03-12T08:59:30.033Z"
   },
   {
    "duration": 5,
    "start_time": "2022-03-12T08:59:30.691Z"
   },
   {
    "duration": 182,
    "start_time": "2022-03-12T08:59:31.654Z"
   },
   {
    "duration": 3,
    "start_time": "2022-03-12T08:59:33.330Z"
   },
   {
    "duration": 5,
    "start_time": "2022-03-12T08:59:36.638Z"
   },
   {
    "duration": 15,
    "start_time": "2022-03-12T08:59:37.116Z"
   },
   {
    "duration": 7,
    "start_time": "2022-03-12T08:59:39.140Z"
   },
   {
    "duration": 338,
    "start_time": "2022-03-12T08:59:39.673Z"
   },
   {
    "duration": 8,
    "start_time": "2022-03-12T08:59:40.216Z"
   },
   {
    "duration": 443,
    "start_time": "2022-03-12T08:59:43.231Z"
   },
   {
    "duration": 23,
    "start_time": "2022-03-12T08:59:44.708Z"
   },
   {
    "duration": 13,
    "start_time": "2022-03-12T08:59:47.059Z"
   },
   {
    "duration": 3,
    "start_time": "2022-03-12T08:59:48.008Z"
   },
   {
    "duration": 3,
    "start_time": "2022-03-12T08:59:48.616Z"
   },
   {
    "duration": 10,
    "start_time": "2022-03-12T08:59:49.193Z"
   },
   {
    "duration": 44,
    "start_time": "2022-03-12T08:59:49.891Z"
   },
   {
    "duration": 178,
    "start_time": "2022-03-12T08:59:51.663Z"
   },
   {
    "duration": 178,
    "start_time": "2022-03-12T08:59:59.116Z"
   },
   {
    "duration": 3,
    "start_time": "2022-03-12T09:03:21.992Z"
   },
   {
    "duration": 3,
    "start_time": "2022-03-12T09:11:19.328Z"
   },
   {
    "duration": 50,
    "start_time": "2022-03-12T09:11:20.053Z"
   },
   {
    "duration": 3,
    "start_time": "2022-03-12T09:11:24.168Z"
   },
   {
    "duration": 50,
    "start_time": "2022-03-12T09:11:24.173Z"
   },
   {
    "duration": 16,
    "start_time": "2022-03-12T09:11:24.225Z"
   },
   {
    "duration": 4,
    "start_time": "2022-03-12T09:11:24.243Z"
   },
   {
    "duration": 8,
    "start_time": "2022-03-12T09:11:24.249Z"
   },
   {
    "duration": 7,
    "start_time": "2022-03-12T09:11:24.259Z"
   },
   {
    "duration": 11,
    "start_time": "2022-03-12T09:11:24.268Z"
   },
   {
    "duration": 10,
    "start_time": "2022-03-12T09:11:24.280Z"
   },
   {
    "duration": 12,
    "start_time": "2022-03-12T09:11:24.292Z"
   },
   {
    "duration": 8,
    "start_time": "2022-03-12T09:11:24.306Z"
   },
   {
    "duration": 33,
    "start_time": "2022-03-12T09:11:24.317Z"
   },
   {
    "duration": 14,
    "start_time": "2022-03-12T09:11:24.351Z"
   },
   {
    "duration": 10,
    "start_time": "2022-03-12T09:11:24.367Z"
   },
   {
    "duration": 2,
    "start_time": "2022-03-12T09:11:24.379Z"
   },
   {
    "duration": 8,
    "start_time": "2022-03-12T09:11:24.382Z"
   },
   {
    "duration": 5,
    "start_time": "2022-03-12T09:11:24.392Z"
   },
   {
    "duration": 10,
    "start_time": "2022-03-12T09:11:24.399Z"
   },
   {
    "duration": 27,
    "start_time": "2022-03-12T09:11:24.411Z"
   },
   {
    "duration": 8,
    "start_time": "2022-03-12T09:11:24.441Z"
   },
   {
    "duration": 7,
    "start_time": "2022-03-12T09:11:24.451Z"
   },
   {
    "duration": 18,
    "start_time": "2022-03-12T09:11:24.459Z"
   },
   {
    "duration": 8,
    "start_time": "2022-03-12T09:11:24.479Z"
   },
   {
    "duration": 179,
    "start_time": "2022-03-12T09:11:24.489Z"
   },
   {
    "duration": -3229,
    "start_time": "2022-03-12T09:11:27.899Z"
   },
   {
    "duration": -3231,
    "start_time": "2022-03-12T09:11:27.902Z"
   },
   {
    "duration": -3240,
    "start_time": "2022-03-12T09:11:27.912Z"
   },
   {
    "duration": -3242,
    "start_time": "2022-03-12T09:11:27.915Z"
   },
   {
    "duration": -3244,
    "start_time": "2022-03-12T09:11:27.918Z"
   },
   {
    "duration": -3246,
    "start_time": "2022-03-12T09:11:27.921Z"
   },
   {
    "duration": -3250,
    "start_time": "2022-03-12T09:11:27.925Z"
   },
   {
    "duration": -3253,
    "start_time": "2022-03-12T09:11:27.929Z"
   },
   {
    "duration": -3256,
    "start_time": "2022-03-12T09:11:27.933Z"
   },
   {
    "duration": -3259,
    "start_time": "2022-03-12T09:11:27.937Z"
   },
   {
    "duration": -3262,
    "start_time": "2022-03-12T09:11:27.941Z"
   },
   {
    "duration": -3265,
    "start_time": "2022-03-12T09:11:27.945Z"
   },
   {
    "duration": -3268,
    "start_time": "2022-03-12T09:11:27.948Z"
   },
   {
    "duration": -3270,
    "start_time": "2022-03-12T09:11:27.951Z"
   },
   {
    "duration": 187,
    "start_time": "2022-03-12T09:12:03.739Z"
   },
   {
    "duration": 176,
    "start_time": "2022-03-12T09:12:18.711Z"
   },
   {
    "duration": 34,
    "start_time": "2022-03-12T09:14:34.676Z"
   },
   {
    "duration": 11,
    "start_time": "2022-03-12T09:17:33.970Z"
   },
   {
    "duration": 182,
    "start_time": "2022-03-12T09:17:34.850Z"
   },
   {
    "duration": 5,
    "start_time": "2022-03-12T09:17:59.161Z"
   },
   {
    "duration": 15,
    "start_time": "2022-03-12T09:17:59.737Z"
   },
   {
    "duration": 8,
    "start_time": "2022-03-12T09:18:01.688Z"
   },
   {
    "duration": 352,
    "start_time": "2022-03-12T09:18:02.009Z"
   },
   {
    "duration": 8,
    "start_time": "2022-03-12T09:18:02.363Z"
   },
   {
    "duration": 428,
    "start_time": "2022-03-12T09:18:04.368Z"
   },
   {
    "duration": 22,
    "start_time": "2022-03-12T09:18:05.883Z"
   },
   {
    "duration": 11,
    "start_time": "2022-03-12T09:18:07.924Z"
   },
   {
    "duration": 2,
    "start_time": "2022-03-12T09:18:08.464Z"
   },
   {
    "duration": 3,
    "start_time": "2022-03-12T09:18:09.188Z"
   },
   {
    "duration": 9,
    "start_time": "2022-03-12T09:18:09.762Z"
   },
   {
    "duration": 32,
    "start_time": "2022-03-12T09:18:10.685Z"
   },
   {
    "duration": 290,
    "start_time": "2022-03-12T09:20:15.773Z"
   },
   {
    "duration": 342,
    "start_time": "2022-03-12T09:21:28.150Z"
   },
   {
    "duration": 51,
    "start_time": "2022-03-12T09:22:29.544Z"
   },
   {
    "duration": -3113,
    "start_time": "2022-03-12T10:08:22.490Z"
   },
   {
    "duration": -3118,
    "start_time": "2022-03-12T10:08:22.496Z"
   },
   {
    "duration": -3120,
    "start_time": "2022-03-12T10:08:22.500Z"
   },
   {
    "duration": -3126,
    "start_time": "2022-03-12T10:08:22.507Z"
   },
   {
    "duration": -3257,
    "start_time": "2022-03-12T10:08:22.640Z"
   },
   {
    "duration": -3278,
    "start_time": "2022-03-12T10:08:22.662Z"
   },
   {
    "duration": -3279,
    "start_time": "2022-03-12T10:08:22.665Z"
   },
   {
    "duration": -3281,
    "start_time": "2022-03-12T10:08:22.668Z"
   },
   {
    "duration": -3282,
    "start_time": "2022-03-12T10:08:22.671Z"
   },
   {
    "duration": -3285,
    "start_time": "2022-03-12T10:08:22.675Z"
   },
   {
    "duration": -3286,
    "start_time": "2022-03-12T10:08:22.677Z"
   },
   {
    "duration": -3288,
    "start_time": "2022-03-12T10:08:22.681Z"
   },
   {
    "duration": -3289,
    "start_time": "2022-03-12T10:08:22.685Z"
   },
   {
    "duration": -3291,
    "start_time": "2022-03-12T10:08:22.688Z"
   },
   {
    "duration": -3293,
    "start_time": "2022-03-12T10:08:22.692Z"
   },
   {
    "duration": -3294,
    "start_time": "2022-03-12T10:08:22.694Z"
   },
   {
    "duration": -3296,
    "start_time": "2022-03-12T10:08:22.698Z"
   },
   {
    "duration": -3298,
    "start_time": "2022-03-12T10:08:22.701Z"
   },
   {
    "duration": -3299,
    "start_time": "2022-03-12T10:08:22.704Z"
   },
   {
    "duration": -3301,
    "start_time": "2022-03-12T10:08:22.708Z"
   },
   {
    "duration": -3303,
    "start_time": "2022-03-12T10:08:22.711Z"
   },
   {
    "duration": -3304,
    "start_time": "2022-03-12T10:08:22.714Z"
   },
   {
    "duration": -3305,
    "start_time": "2022-03-12T10:08:22.717Z"
   },
   {
    "duration": -3307,
    "start_time": "2022-03-12T10:08:22.720Z"
   },
   {
    "duration": -3309,
    "start_time": "2022-03-12T10:08:22.723Z"
   },
   {
    "duration": -3311,
    "start_time": "2022-03-12T10:08:22.726Z"
   },
   {
    "duration": -3314,
    "start_time": "2022-03-12T10:08:22.730Z"
   },
   {
    "duration": -3294,
    "start_time": "2022-03-12T10:08:22.733Z"
   },
   {
    "duration": -3296,
    "start_time": "2022-03-12T10:08:22.736Z"
   },
   {
    "duration": -3297,
    "start_time": "2022-03-12T10:08:22.739Z"
   },
   {
    "duration": -3308,
    "start_time": "2022-03-12T10:08:22.751Z"
   },
   {
    "duration": -3311,
    "start_time": "2022-03-12T10:08:22.756Z"
   },
   {
    "duration": -3314,
    "start_time": "2022-03-12T10:08:22.760Z"
   },
   {
    "duration": -3314,
    "start_time": "2022-03-12T10:08:22.762Z"
   },
   {
    "duration": -3317,
    "start_time": "2022-03-12T10:08:22.766Z"
   },
   {
    "duration": -3318,
    "start_time": "2022-03-12T10:08:22.769Z"
   },
   {
    "duration": -3320,
    "start_time": "2022-03-12T10:08:22.772Z"
   },
   {
    "duration": -3322,
    "start_time": "2022-03-12T10:08:22.775Z"
   },
   {
    "duration": 176,
    "start_time": "2022-03-12T10:09:38.335Z"
   },
   {
    "duration": 3,
    "start_time": "2022-03-12T10:09:43.122Z"
   },
   {
    "duration": 52,
    "start_time": "2022-03-12T10:09:43.127Z"
   },
   {
    "duration": 23,
    "start_time": "2022-03-12T10:09:43.181Z"
   },
   {
    "duration": 6,
    "start_time": "2022-03-12T10:09:43.206Z"
   },
   {
    "duration": 10,
    "start_time": "2022-03-12T10:09:43.238Z"
   },
   {
    "duration": 6,
    "start_time": "2022-03-12T10:09:43.250Z"
   },
   {
    "duration": 10,
    "start_time": "2022-03-12T10:09:43.260Z"
   },
   {
    "duration": 10,
    "start_time": "2022-03-12T10:09:43.273Z"
   },
   {
    "duration": 6,
    "start_time": "2022-03-12T10:09:43.285Z"
   },
   {
    "duration": 4,
    "start_time": "2022-03-12T10:09:43.293Z"
   },
   {
    "duration": 13,
    "start_time": "2022-03-12T10:09:43.339Z"
   },
   {
    "duration": 11,
    "start_time": "2022-03-12T10:09:43.355Z"
   },
   {
    "duration": 8,
    "start_time": "2022-03-12T10:09:43.368Z"
   },
   {
    "duration": 3,
    "start_time": "2022-03-12T10:09:43.378Z"
   },
   {
    "duration": 5,
    "start_time": "2022-03-12T10:09:43.383Z"
   },
   {
    "duration": 5,
    "start_time": "2022-03-12T10:09:43.389Z"
   },
   {
    "duration": 4,
    "start_time": "2022-03-12T10:09:43.396Z"
   },
   {
    "duration": 38,
    "start_time": "2022-03-12T10:09:43.402Z"
   },
   {
    "duration": 10,
    "start_time": "2022-03-12T10:09:43.444Z"
   },
   {
    "duration": 3,
    "start_time": "2022-03-12T10:09:43.456Z"
   },
   {
    "duration": 19,
    "start_time": "2022-03-12T10:09:43.460Z"
   },
   {
    "duration": 7,
    "start_time": "2022-03-12T10:09:43.481Z"
   },
   {
    "duration": 185,
    "start_time": "2022-03-12T10:09:43.490Z"
   },
   {
    "duration": -3124,
    "start_time": "2022-03-12T10:09:46.802Z"
   },
   {
    "duration": -3126,
    "start_time": "2022-03-12T10:09:46.806Z"
   },
   {
    "duration": -3130,
    "start_time": "2022-03-12T10:09:46.811Z"
   },
   {
    "duration": -3135,
    "start_time": "2022-03-12T10:09:46.818Z"
   },
   {
    "duration": -3140,
    "start_time": "2022-03-12T10:09:46.824Z"
   },
   {
    "duration": -3143,
    "start_time": "2022-03-12T10:09:46.828Z"
   },
   {
    "duration": -3145,
    "start_time": "2022-03-12T10:09:46.832Z"
   },
   {
    "duration": -3147,
    "start_time": "2022-03-12T10:09:46.836Z"
   },
   {
    "duration": -3149,
    "start_time": "2022-03-12T10:09:46.839Z"
   },
   {
    "duration": -3151,
    "start_time": "2022-03-12T10:09:46.842Z"
   },
   {
    "duration": -3160,
    "start_time": "2022-03-12T10:09:46.852Z"
   },
   {
    "duration": -3163,
    "start_time": "2022-03-12T10:09:46.857Z"
   },
   {
    "duration": -3165,
    "start_time": "2022-03-12T10:09:46.860Z"
   },
   {
    "duration": -3166,
    "start_time": "2022-03-12T10:09:46.863Z"
   },
   {
    "duration": -3168,
    "start_time": "2022-03-12T10:09:46.866Z"
   },
   {
    "duration": 5,
    "start_time": "2022-03-12T10:09:50.810Z"
   },
   {
    "duration": 15,
    "start_time": "2022-03-12T10:09:51.080Z"
   },
   {
    "duration": 7,
    "start_time": "2022-03-12T10:09:52.652Z"
   },
   {
    "duration": 333,
    "start_time": "2022-03-12T10:09:53.147Z"
   },
   {
    "duration": 8,
    "start_time": "2022-03-12T10:09:53.867Z"
   },
   {
    "duration": 439,
    "start_time": "2022-03-12T10:09:56.951Z"
   },
   {
    "duration": 21,
    "start_time": "2022-03-12T10:09:58.804Z"
   },
   {
    "duration": 12,
    "start_time": "2022-03-12T10:10:01.511Z"
   },
   {
    "duration": 2,
    "start_time": "2022-03-12T10:10:02.444Z"
   },
   {
    "duration": 4,
    "start_time": "2022-03-12T10:10:03.298Z"
   },
   {
    "duration": 10,
    "start_time": "2022-03-12T10:10:04.040Z"
   },
   {
    "duration": 31,
    "start_time": "2022-03-12T10:10:04.966Z"
   },
   {
    "duration": 7,
    "start_time": "2022-03-12T10:10:07.870Z"
   },
   {
    "duration": 9,
    "start_time": "2022-03-12T10:10:09.023Z"
   },
   {
    "duration": 9,
    "start_time": "2022-03-12T10:10:27.326Z"
   },
   {
    "duration": 7,
    "start_time": "2022-03-12T10:26:27.895Z"
   },
   {
    "duration": 10,
    "start_time": "2022-03-12T10:26:32.627Z"
   },
   {
    "duration": 11,
    "start_time": "2022-03-12T10:40:03.669Z"
   },
   {
    "duration": 12,
    "start_time": "2022-03-12T10:40:15.662Z"
   },
   {
    "duration": 191,
    "start_time": "2022-03-12T10:56:59.658Z"
   },
   {
    "duration": 10,
    "start_time": "2022-03-12T10:57:27.212Z"
   },
   {
    "duration": 2,
    "start_time": "2022-03-12T10:57:28.182Z"
   },
   {
    "duration": 7,
    "start_time": "2022-03-12T10:57:28.985Z"
   },
   {
    "duration": 29,
    "start_time": "2022-03-12T11:04:56.748Z"
   },
   {
    "duration": 277,
    "start_time": "2022-03-12T11:05:52.810Z"
   },
   {
    "duration": 192,
    "start_time": "2022-03-12T11:25:51.731Z"
   },
   {
    "duration": 3,
    "start_time": "2022-03-12T11:26:06.078Z"
   },
   {
    "duration": 3,
    "start_time": "2022-03-12T11:26:10.989Z"
   },
   {
    "duration": 6,
    "start_time": "2022-03-12T11:26:10.994Z"
   },
   {
    "duration": 46,
    "start_time": "2022-03-12T11:26:11.191Z"
   },
   {
    "duration": 15,
    "start_time": "2022-03-12T11:26:11.239Z"
   },
   {
    "duration": 5,
    "start_time": "2022-03-12T11:26:11.256Z"
   },
   {
    "duration": 13,
    "start_time": "2022-03-12T11:26:11.263Z"
   },
   {
    "duration": 6,
    "start_time": "2022-03-12T11:26:11.278Z"
   },
   {
    "duration": 8,
    "start_time": "2022-03-12T11:26:11.286Z"
   },
   {
    "duration": 42,
    "start_time": "2022-03-12T11:26:11.296Z"
   },
   {
    "duration": 7,
    "start_time": "2022-03-12T11:26:11.341Z"
   },
   {
    "duration": 5,
    "start_time": "2022-03-12T11:26:11.350Z"
   },
   {
    "duration": 15,
    "start_time": "2022-03-12T11:26:11.357Z"
   },
   {
    "duration": 12,
    "start_time": "2022-03-12T11:26:11.374Z"
   },
   {
    "duration": 8,
    "start_time": "2022-03-12T11:26:11.388Z"
   },
   {
    "duration": 2,
    "start_time": "2022-03-12T11:26:11.398Z"
   },
   {
    "duration": 36,
    "start_time": "2022-03-12T11:26:11.402Z"
   },
   {
    "duration": 6,
    "start_time": "2022-03-12T11:26:11.440Z"
   },
   {
    "duration": 6,
    "start_time": "2022-03-12T11:26:11.448Z"
   },
   {
    "duration": 19,
    "start_time": "2022-03-12T11:26:11.455Z"
   },
   {
    "duration": 8,
    "start_time": "2022-03-12T11:26:11.476Z"
   },
   {
    "duration": 7,
    "start_time": "2022-03-12T11:26:11.486Z"
   },
   {
    "duration": 17,
    "start_time": "2022-03-12T11:26:11.495Z"
   },
   {
    "duration": 6,
    "start_time": "2022-03-12T11:26:11.514Z"
   },
   {
    "duration": 188,
    "start_time": "2022-03-12T11:26:11.522Z"
   },
   {
    "duration": -3392,
    "start_time": "2022-03-12T11:26:15.104Z"
   },
   {
    "duration": 6,
    "start_time": "2022-03-12T11:26:12.331Z"
   },
   {
    "duration": 18,
    "start_time": "2022-03-12T11:26:12.339Z"
   },
   {
    "duration": 15,
    "start_time": "2022-03-12T11:26:12.359Z"
   },
   {
    "duration": 369,
    "start_time": "2022-03-12T11:26:12.376Z"
   },
   {
    "duration": 7,
    "start_time": "2022-03-12T11:26:12.747Z"
   },
   {
    "duration": 442,
    "start_time": "2022-03-12T11:26:12.756Z"
   },
   {
    "duration": 22,
    "start_time": "2022-03-12T11:26:13.200Z"
   },
   {
    "duration": 21,
    "start_time": "2022-03-12T11:26:13.224Z"
   },
   {
    "duration": 2,
    "start_time": "2022-03-12T11:26:13.247Z"
   },
   {
    "duration": 7,
    "start_time": "2022-03-12T11:26:13.251Z"
   },
   {
    "duration": 11,
    "start_time": "2022-03-12T11:26:13.260Z"
   },
   {
    "duration": 31,
    "start_time": "2022-03-12T11:26:13.273Z"
   },
   {
    "duration": 32,
    "start_time": "2022-03-12T11:26:13.306Z"
   },
   {
    "duration": 10,
    "start_time": "2022-03-12T11:26:13.339Z"
   },
   {
    "duration": 4,
    "start_time": "2022-03-12T11:26:13.351Z"
   },
   {
    "duration": 23,
    "start_time": "2022-03-12T11:26:13.356Z"
   },
   {
    "duration": 34,
    "start_time": "2022-03-12T11:26:13.381Z"
   },
   {
    "duration": 165,
    "start_time": "2022-03-12T11:26:13.417Z"
   },
   {
    "duration": 159,
    "start_time": "2022-03-12T11:26:20.036Z"
   },
   {
    "duration": 283,
    "start_time": "2022-03-12T11:27:07.702Z"
   },
   {
    "duration": 450,
    "start_time": "2022-03-12T11:27:42.381Z"
   },
   {
    "duration": 131,
    "start_time": "2022-03-12T11:27:58.169Z"
   },
   {
    "duration": 133,
    "start_time": "2022-03-12T11:29:02.354Z"
   },
   {
    "duration": 20,
    "start_time": "2022-03-12T11:30:56.223Z"
   },
   {
    "duration": 130,
    "start_time": "2022-03-12T11:33:05.201Z"
   },
   {
    "duration": 136,
    "start_time": "2022-03-12T11:33:26.550Z"
   },
   {
    "duration": 135,
    "start_time": "2022-03-12T12:57:35.425Z"
   },
   {
    "duration": 21,
    "start_time": "2022-03-12T13:09:20.749Z"
   },
   {
    "duration": 3,
    "start_time": "2022-03-12T13:14:08.341Z"
   },
   {
    "duration": 52,
    "start_time": "2022-03-12T13:14:13.894Z"
   },
   {
    "duration": 18,
    "start_time": "2022-03-12T13:14:16.661Z"
   },
   {
    "duration": 5,
    "start_time": "2022-03-12T13:14:17.367Z"
   },
   {
    "duration": 7,
    "start_time": "2022-03-12T13:14:17.896Z"
   },
   {
    "duration": 5,
    "start_time": "2022-03-12T13:14:18.411Z"
   },
   {
    "duration": 7,
    "start_time": "2022-03-12T13:14:18.780Z"
   },
   {
    "duration": 5,
    "start_time": "2022-03-12T13:14:19.158Z"
   },
   {
    "duration": 7,
    "start_time": "2022-03-12T13:14:19.337Z"
   },
   {
    "duration": 3,
    "start_time": "2022-03-12T13:14:20.678Z"
   },
   {
    "duration": 13,
    "start_time": "2022-03-12T13:14:21.040Z"
   },
   {
    "duration": 10,
    "start_time": "2022-03-12T13:14:21.414Z"
   },
   {
    "duration": 8,
    "start_time": "2022-03-12T13:14:21.776Z"
   },
   {
    "duration": 2,
    "start_time": "2022-03-12T13:14:21.994Z"
   },
   {
    "duration": 2,
    "start_time": "2022-03-12T13:14:22.239Z"
   },
   {
    "duration": 2,
    "start_time": "2022-03-12T13:14:22.449Z"
   },
   {
    "duration": 3,
    "start_time": "2022-03-12T13:14:22.641Z"
   },
   {
    "duration": 8,
    "start_time": "2022-03-12T13:14:23.103Z"
   },
   {
    "duration": 10,
    "start_time": "2022-03-12T13:14:23.920Z"
   },
   {
    "duration": 2,
    "start_time": "2022-03-12T13:14:24.139Z"
   },
   {
    "duration": 13,
    "start_time": "2022-03-12T13:14:24.391Z"
   },
   {
    "duration": 5,
    "start_time": "2022-03-12T13:14:24.683Z"
   },
   {
    "duration": 183,
    "start_time": "2022-03-12T13:14:24.891Z"
   },
   {
    "duration": 2,
    "start_time": "2022-03-12T13:14:25.332Z"
   },
   {
    "duration": 6,
    "start_time": "2022-03-12T13:14:26.023Z"
   },
   {
    "duration": 14,
    "start_time": "2022-03-12T13:14:26.214Z"
   },
   {
    "duration": 6,
    "start_time": "2022-03-12T13:14:27.353Z"
   },
   {
    "duration": 335,
    "start_time": "2022-03-12T13:14:27.362Z"
   },
   {
    "duration": 7,
    "start_time": "2022-03-12T13:14:27.776Z"
   },
   {
    "duration": 450,
    "start_time": "2022-03-12T13:14:29.738Z"
   },
   {
    "duration": 20,
    "start_time": "2022-03-12T13:14:30.452Z"
   },
   {
    "duration": 11,
    "start_time": "2022-03-12T13:14:33.377Z"
   },
   {
    "duration": 3,
    "start_time": "2022-03-12T13:14:34.167Z"
   },
   {
    "duration": 3,
    "start_time": "2022-03-12T13:14:35.244Z"
   },
   {
    "duration": 10,
    "start_time": "2022-03-12T13:14:35.787Z"
   },
   {
    "duration": 30,
    "start_time": "2022-03-12T13:14:36.628Z"
   },
   {
    "duration": 8,
    "start_time": "2022-03-12T13:14:40.028Z"
   },
   {
    "duration": 22,
    "start_time": "2022-03-12T13:14:40.981Z"
   },
   {
    "duration": 10,
    "start_time": "2022-03-12T13:14:43.313Z"
   },
   {
    "duration": 3,
    "start_time": "2022-03-12T13:14:44.325Z"
   },
   {
    "duration": 7,
    "start_time": "2022-03-12T13:14:45.210Z"
   },
   {
    "duration": 21,
    "start_time": "2022-03-12T13:14:45.986Z"
   },
   {
    "duration": 28,
    "start_time": "2022-03-12T13:14:46.960Z"
   },
   {
    "duration": 127,
    "start_time": "2022-03-12T13:14:48.855Z"
   },
   {
    "duration": 136,
    "start_time": "2022-03-12T13:15:38.466Z"
   },
   {
    "duration": 7,
    "start_time": "2022-03-12T13:44:47.134Z"
   },
   {
    "duration": 21,
    "start_time": "2022-03-12T13:44:56.278Z"
   },
   {
    "duration": 174,
    "start_time": "2022-03-12T13:48:19.177Z"
   },
   {
    "duration": 210,
    "start_time": "2022-03-12T13:50:40.668Z"
   },
   {
    "duration": 171,
    "start_time": "2022-03-12T13:50:42.463Z"
   },
   {
    "duration": 9,
    "start_time": "2022-03-12T13:51:23.098Z"
   },
   {
    "duration": 174,
    "start_time": "2022-03-12T13:51:24.305Z"
   },
   {
    "duration": 178,
    "start_time": "2022-03-12T13:51:31.193Z"
   },
   {
    "duration": 7,
    "start_time": "2022-03-12T13:51:37.578Z"
   },
   {
    "duration": 222,
    "start_time": "2022-03-12T13:51:39.304Z"
   },
   {
    "duration": 7,
    "start_time": "2022-03-12T13:51:44.683Z"
   },
   {
    "duration": 238,
    "start_time": "2022-03-12T13:51:46.051Z"
   },
   {
    "duration": 4577,
    "start_time": "2022-03-12T13:53:03.012Z"
   },
   {
    "duration": 3,
    "start_time": "2022-03-12T13:53:15.043Z"
   },
   {
    "duration": 14,
    "start_time": "2022-03-12T13:53:15.052Z"
   },
   {
    "duration": 4,
    "start_time": "2022-03-12T13:53:15.130Z"
   },
   {
    "duration": 70,
    "start_time": "2022-03-12T13:53:15.137Z"
   },
   {
    "duration": 16,
    "start_time": "2022-03-12T13:53:15.209Z"
   },
   {
    "duration": 12,
    "start_time": "2022-03-12T13:53:15.227Z"
   },
   {
    "duration": 8,
    "start_time": "2022-03-12T13:53:15.241Z"
   },
   {
    "duration": 7,
    "start_time": "2022-03-12T13:53:15.251Z"
   },
   {
    "duration": 10,
    "start_time": "2022-03-12T13:53:15.260Z"
   },
   {
    "duration": 7,
    "start_time": "2022-03-12T13:53:15.271Z"
   },
   {
    "duration": 12,
    "start_time": "2022-03-12T13:53:15.280Z"
   },
   {
    "duration": 5,
    "start_time": "2022-03-12T13:53:15.294Z"
   },
   {
    "duration": 37,
    "start_time": "2022-03-12T13:53:15.301Z"
   },
   {
    "duration": 20,
    "start_time": "2022-03-12T13:53:15.340Z"
   },
   {
    "duration": 13,
    "start_time": "2022-03-12T13:53:15.363Z"
   },
   {
    "duration": 9,
    "start_time": "2022-03-12T13:53:15.379Z"
   },
   {
    "duration": 6,
    "start_time": "2022-03-12T13:53:15.390Z"
   },
   {
    "duration": 6,
    "start_time": "2022-03-12T13:53:15.398Z"
   },
   {
    "duration": 9,
    "start_time": "2022-03-12T13:53:15.406Z"
   },
   {
    "duration": 3,
    "start_time": "2022-03-12T13:53:15.438Z"
   },
   {
    "duration": 11,
    "start_time": "2022-03-12T13:53:15.443Z"
   },
   {
    "duration": 10,
    "start_time": "2022-03-12T13:53:15.456Z"
   },
   {
    "duration": 11,
    "start_time": "2022-03-12T13:53:15.468Z"
   },
   {
    "duration": 21,
    "start_time": "2022-03-12T13:53:15.482Z"
   },
   {
    "duration": 37,
    "start_time": "2022-03-12T13:53:15.506Z"
   },
   {
    "duration": 207,
    "start_time": "2022-03-12T13:53:15.546Z"
   },
   {
    "duration": -3005,
    "start_time": "2022-03-12T13:53:18.760Z"
   },
   {
    "duration": -3008,
    "start_time": "2022-03-12T13:53:18.764Z"
   },
   {
    "duration": -3012,
    "start_time": "2022-03-12T13:53:18.769Z"
   },
   {
    "duration": -3016,
    "start_time": "2022-03-12T13:53:18.774Z"
   },
   {
    "duration": -3018,
    "start_time": "2022-03-12T13:53:18.778Z"
   },
   {
    "duration": -3023,
    "start_time": "2022-03-12T13:53:18.784Z"
   },
   {
    "duration": -3026,
    "start_time": "2022-03-12T13:53:18.788Z"
   },
   {
    "duration": -3029,
    "start_time": "2022-03-12T13:53:18.792Z"
   },
   {
    "duration": -3031,
    "start_time": "2022-03-12T13:53:18.795Z"
   },
   {
    "duration": -3034,
    "start_time": "2022-03-12T13:53:18.799Z"
   },
   {
    "duration": -3036,
    "start_time": "2022-03-12T13:53:18.802Z"
   },
   {
    "duration": -3039,
    "start_time": "2022-03-12T13:53:18.806Z"
   },
   {
    "duration": -3041,
    "start_time": "2022-03-12T13:53:18.810Z"
   },
   {
    "duration": -3045,
    "start_time": "2022-03-12T13:53:18.815Z"
   },
   {
    "duration": -3048,
    "start_time": "2022-03-12T13:53:18.819Z"
   },
   {
    "duration": -3051,
    "start_time": "2022-03-12T13:53:18.823Z"
   },
   {
    "duration": -3062,
    "start_time": "2022-03-12T13:53:18.835Z"
   },
   {
    "duration": -3064,
    "start_time": "2022-03-12T13:53:18.839Z"
   },
   {
    "duration": -3067,
    "start_time": "2022-03-12T13:53:18.843Z"
   },
   {
    "duration": -3070,
    "start_time": "2022-03-12T13:53:18.847Z"
   },
   {
    "duration": -3072,
    "start_time": "2022-03-12T13:53:18.851Z"
   },
   {
    "duration": -3074,
    "start_time": "2022-03-12T13:53:18.854Z"
   },
   {
    "duration": -3077,
    "start_time": "2022-03-12T13:53:18.858Z"
   },
   {
    "duration": 8,
    "start_time": "2022-03-12T14:07:00.790Z"
   },
   {
    "duration": 9,
    "start_time": "2022-03-12T14:07:12.510Z"
   },
   {
    "duration": 199,
    "start_time": "2022-03-12T14:09:09.995Z"
   },
   {
    "duration": 9,
    "start_time": "2022-03-12T14:09:16.073Z"
   },
   {
    "duration": 5,
    "start_time": "2022-03-12T14:22:41.339Z"
   },
   {
    "duration": 5,
    "start_time": "2022-03-12T14:22:42.574Z"
   },
   {
    "duration": 5,
    "start_time": "2022-03-12T14:22:54.145Z"
   },
   {
    "duration": 3,
    "start_time": "2022-03-12T14:22:55.239Z"
   },
   {
    "duration": 5,
    "start_time": "2022-03-12T14:23:05.151Z"
   },
   {
    "duration": 5,
    "start_time": "2022-03-12T14:23:06.258Z"
   },
   {
    "duration": 5,
    "start_time": "2022-03-12T14:23:21.837Z"
   },
   {
    "duration": 5,
    "start_time": "2022-03-12T14:24:28.561Z"
   },
   {
    "duration": 2,
    "start_time": "2022-03-12T14:24:44.911Z"
   },
   {
    "duration": 8,
    "start_time": "2022-03-12T14:24:44.915Z"
   },
   {
    "duration": 6,
    "start_time": "2022-03-12T14:24:44.925Z"
   },
   {
    "duration": 50,
    "start_time": "2022-03-12T14:24:44.932Z"
   },
   {
    "duration": 15,
    "start_time": "2022-03-12T14:24:44.984Z"
   },
   {
    "duration": 5,
    "start_time": "2022-03-12T14:24:45.001Z"
   },
   {
    "duration": 13,
    "start_time": "2022-03-12T14:24:45.008Z"
   },
   {
    "duration": 27,
    "start_time": "2022-03-12T14:24:45.024Z"
   },
   {
    "duration": 28,
    "start_time": "2022-03-12T14:24:45.054Z"
   },
   {
    "duration": 8,
    "start_time": "2022-03-12T14:24:45.085Z"
   },
   {
    "duration": 15,
    "start_time": "2022-03-12T14:24:45.095Z"
   },
   {
    "duration": 12,
    "start_time": "2022-03-12T14:24:45.112Z"
   },
   {
    "duration": 14,
    "start_time": "2022-03-12T14:24:45.126Z"
   },
   {
    "duration": 26,
    "start_time": "2022-03-12T14:24:45.142Z"
   },
   {
    "duration": 15,
    "start_time": "2022-03-12T14:24:45.170Z"
   },
   {
    "duration": 9,
    "start_time": "2022-03-12T14:24:45.186Z"
   },
   {
    "duration": 16,
    "start_time": "2022-03-12T14:24:45.197Z"
   },
   {
    "duration": 22,
    "start_time": "2022-03-12T14:24:45.216Z"
   },
   {
    "duration": 5,
    "start_time": "2022-03-12T14:24:45.240Z"
   },
   {
    "duration": 14,
    "start_time": "2022-03-12T14:24:45.247Z"
   },
   {
    "duration": 4,
    "start_time": "2022-03-12T14:24:45.263Z"
   },
   {
    "duration": 14,
    "start_time": "2022-03-12T14:24:45.269Z"
   },
   {
    "duration": 9,
    "start_time": "2022-03-12T14:24:45.284Z"
   },
   {
    "duration": 5,
    "start_time": "2022-03-12T14:24:45.294Z"
   },
   {
    "duration": 10,
    "start_time": "2022-03-12T14:24:45.300Z"
   },
   {
    "duration": 6,
    "start_time": "2022-03-12T14:24:45.311Z"
   },
   {
    "duration": 2,
    "start_time": "2022-03-12T14:24:45.321Z"
   },
   {
    "duration": 15,
    "start_time": "2022-03-12T14:24:45.338Z"
   },
   {
    "duration": 6,
    "start_time": "2022-03-12T14:24:45.355Z"
   },
   {
    "duration": 204,
    "start_time": "2022-03-12T14:24:45.362Z"
   },
   {
    "duration": -2879,
    "start_time": "2022-03-12T14:24:48.447Z"
   },
   {
    "duration": -2949,
    "start_time": "2022-03-12T14:24:48.518Z"
   },
   {
    "duration": -2955,
    "start_time": "2022-03-12T14:24:48.525Z"
   },
   {
    "duration": -2958,
    "start_time": "2022-03-12T14:24:48.529Z"
   },
   {
    "duration": -2961,
    "start_time": "2022-03-12T14:24:48.533Z"
   },
   {
    "duration": -2965,
    "start_time": "2022-03-12T14:24:48.538Z"
   },
   {
    "duration": -2967,
    "start_time": "2022-03-12T14:24:48.542Z"
   },
   {
    "duration": -2972,
    "start_time": "2022-03-12T14:24:48.547Z"
   },
   {
    "duration": -2975,
    "start_time": "2022-03-12T14:24:48.551Z"
   },
   {
    "duration": -2978,
    "start_time": "2022-03-12T14:24:48.556Z"
   },
   {
    "duration": -2980,
    "start_time": "2022-03-12T14:24:48.559Z"
   },
   {
    "duration": -2983,
    "start_time": "2022-03-12T14:24:48.563Z"
   },
   {
    "duration": -2986,
    "start_time": "2022-03-12T14:24:48.567Z"
   },
   {
    "duration": -2989,
    "start_time": "2022-03-12T14:24:48.571Z"
   },
   {
    "duration": -3000,
    "start_time": "2022-03-12T14:24:48.583Z"
   },
   {
    "duration": -3003,
    "start_time": "2022-03-12T14:24:48.588Z"
   },
   {
    "duration": -3005,
    "start_time": "2022-03-12T14:24:48.591Z"
   },
   {
    "duration": -3010,
    "start_time": "2022-03-12T14:24:48.597Z"
   },
   {
    "duration": -3013,
    "start_time": "2022-03-12T14:24:48.601Z"
   },
   {
    "duration": -3016,
    "start_time": "2022-03-12T14:24:48.605Z"
   },
   {
    "duration": -3019,
    "start_time": "2022-03-12T14:24:48.609Z"
   },
   {
    "duration": -3022,
    "start_time": "2022-03-12T14:24:48.613Z"
   },
   {
    "duration": -3024,
    "start_time": "2022-03-12T14:24:48.616Z"
   },
   {
    "duration": -3028,
    "start_time": "2022-03-12T14:24:48.621Z"
   },
   {
    "duration": 10,
    "start_time": "2022-03-12T14:25:00.029Z"
   },
   {
    "duration": 191,
    "start_time": "2022-03-12T14:25:00.835Z"
   },
   {
    "duration": 3,
    "start_time": "2022-03-12T14:25:57.034Z"
   },
   {
    "duration": 3,
    "start_time": "2022-03-12T14:25:58.083Z"
   },
   {
    "duration": 3,
    "start_time": "2022-03-12T14:26:02.337Z"
   },
   {
    "duration": 3,
    "start_time": "2022-03-12T14:26:05.952Z"
   },
   {
    "duration": 3,
    "start_time": "2022-03-12T14:26:19.405Z"
   },
   {
    "duration": 16,
    "start_time": "2022-03-12T14:26:19.410Z"
   },
   {
    "duration": 11,
    "start_time": "2022-03-12T14:26:19.429Z"
   },
   {
    "duration": 7,
    "start_time": "2022-03-12T14:26:19.442Z"
   },
   {
    "duration": 57,
    "start_time": "2022-03-12T14:26:19.451Z"
   },
   {
    "duration": 17,
    "start_time": "2022-03-12T14:26:19.510Z"
   },
   {
    "duration": 11,
    "start_time": "2022-03-12T14:26:19.528Z"
   },
   {
    "duration": 8,
    "start_time": "2022-03-12T14:26:19.541Z"
   },
   {
    "duration": 5,
    "start_time": "2022-03-12T14:26:19.552Z"
   },
   {
    "duration": 9,
    "start_time": "2022-03-12T14:26:19.559Z"
   },
   {
    "duration": 8,
    "start_time": "2022-03-12T14:26:19.569Z"
   },
   {
    "duration": 8,
    "start_time": "2022-03-12T14:26:19.579Z"
   },
   {
    "duration": 7,
    "start_time": "2022-03-12T14:26:19.588Z"
   },
   {
    "duration": 7,
    "start_time": "2022-03-12T14:26:19.638Z"
   },
   {
    "duration": 22,
    "start_time": "2022-03-12T14:26:19.647Z"
   },
   {
    "duration": 9,
    "start_time": "2022-03-12T14:26:19.671Z"
   },
   {
    "duration": 10,
    "start_time": "2022-03-12T14:26:19.681Z"
   },
   {
    "duration": 5,
    "start_time": "2022-03-12T14:26:19.692Z"
   },
   {
    "duration": 9,
    "start_time": "2022-03-12T14:26:19.699Z"
   },
   {
    "duration": 28,
    "start_time": "2022-03-12T14:26:19.710Z"
   },
   {
    "duration": 7,
    "start_time": "2022-03-12T14:26:19.740Z"
   },
   {
    "duration": 4,
    "start_time": "2022-03-12T14:26:19.749Z"
   },
   {
    "duration": 10,
    "start_time": "2022-03-12T14:26:19.754Z"
   },
   {
    "duration": 6,
    "start_time": "2022-03-12T14:26:19.765Z"
   },
   {
    "duration": 3,
    "start_time": "2022-03-12T14:26:19.774Z"
   },
   {
    "duration": 12,
    "start_time": "2022-03-12T14:26:19.779Z"
   },
   {
    "duration": 8,
    "start_time": "2022-03-12T14:26:19.792Z"
   },
   {
    "duration": 2,
    "start_time": "2022-03-12T14:26:19.801Z"
   },
   {
    "duration": 40,
    "start_time": "2022-03-12T14:26:19.805Z"
   },
   {
    "duration": 4,
    "start_time": "2022-03-12T14:26:19.847Z"
   },
   {
    "duration": 180,
    "start_time": "2022-03-12T14:26:19.853Z"
   },
   {
    "duration": -2955,
    "start_time": "2022-03-12T14:26:22.990Z"
   },
   {
    "duration": -2960,
    "start_time": "2022-03-12T14:26:22.995Z"
   },
   {
    "duration": -2963,
    "start_time": "2022-03-12T14:26:22.999Z"
   },
   {
    "duration": -2965,
    "start_time": "2022-03-12T14:26:23.003Z"
   },
   {
    "duration": -2968,
    "start_time": "2022-03-12T14:26:23.007Z"
   },
   {
    "duration": -2992,
    "start_time": "2022-03-12T14:26:23.032Z"
   },
   {
    "duration": -2999,
    "start_time": "2022-03-12T14:26:23.041Z"
   },
   {
    "duration": -3006,
    "start_time": "2022-03-12T14:26:23.049Z"
   },
   {
    "duration": -3009,
    "start_time": "2022-03-12T14:26:23.053Z"
   },
   {
    "duration": -3012,
    "start_time": "2022-03-12T14:26:23.057Z"
   },
   {
    "duration": -3016,
    "start_time": "2022-03-12T14:26:23.062Z"
   },
   {
    "duration": -3018,
    "start_time": "2022-03-12T14:26:23.065Z"
   },
   {
    "duration": -3022,
    "start_time": "2022-03-12T14:26:23.070Z"
   },
   {
    "duration": -3025,
    "start_time": "2022-03-12T14:26:23.074Z"
   },
   {
    "duration": -3028,
    "start_time": "2022-03-12T14:26:23.078Z"
   },
   {
    "duration": -3030,
    "start_time": "2022-03-12T14:26:23.081Z"
   },
   {
    "duration": -3033,
    "start_time": "2022-03-12T14:26:23.085Z"
   },
   {
    "duration": -3036,
    "start_time": "2022-03-12T14:26:23.089Z"
   },
   {
    "duration": -3039,
    "start_time": "2022-03-12T14:26:23.093Z"
   },
   {
    "duration": -3042,
    "start_time": "2022-03-12T14:26:23.097Z"
   },
   {
    "duration": -3046,
    "start_time": "2022-03-12T14:26:23.102Z"
   },
   {
    "duration": -3049,
    "start_time": "2022-03-12T14:26:23.106Z"
   },
   {
    "duration": -3053,
    "start_time": "2022-03-12T14:26:23.111Z"
   },
   {
    "duration": -3055,
    "start_time": "2022-03-12T14:26:23.114Z"
   },
   {
    "duration": 10,
    "start_time": "2022-03-12T14:27:03.669Z"
   },
   {
    "duration": 6,
    "start_time": "2022-03-12T14:27:05.029Z"
   },
   {
    "duration": 6,
    "start_time": "2022-03-12T14:27:05.934Z"
   },
   {
    "duration": 5,
    "start_time": "2022-03-12T14:27:06.724Z"
   },
   {
    "duration": 4,
    "start_time": "2022-03-12T14:27:07.338Z"
   },
   {
    "duration": 5,
    "start_time": "2022-03-12T14:28:04.863Z"
   },
   {
    "duration": 5,
    "start_time": "2022-03-12T14:28:05.390Z"
   },
   {
    "duration": 3,
    "start_time": "2022-03-12T14:40:31.604Z"
   },
   {
    "duration": 5,
    "start_time": "2022-03-12T14:40:34.273Z"
   },
   {
    "duration": 3,
    "start_time": "2022-03-12T14:40:35.140Z"
   },
   {
    "duration": 14,
    "start_time": "2022-03-12T14:42:39.801Z"
   },
   {
    "duration": 5,
    "start_time": "2022-03-12T14:42:47.245Z"
   },
   {
    "duration": 360,
    "start_time": "2022-03-12T14:42:47.780Z"
   },
   {
    "duration": 8,
    "start_time": "2022-03-12T14:42:48.807Z"
   },
   {
    "duration": 4343,
    "start_time": "2022-03-12T14:43:00.359Z"
   },
   {
    "duration": -2971,
    "start_time": "2022-03-12T14:43:07.675Z"
   },
   {
    "duration": 164,
    "start_time": "2022-03-12T14:43:05.051Z"
   },
   {
    "duration": 4194,
    "start_time": "2022-03-12T14:43:18.788Z"
   },
   {
    "duration": 5,
    "start_time": "2022-03-12T14:43:29.432Z"
   },
   {
    "duration": 19,
    "start_time": "2022-03-12T14:43:30.133Z"
   },
   {
    "duration": 7,
    "start_time": "2022-03-12T14:43:33.325Z"
   },
   {
    "duration": 372,
    "start_time": "2022-03-12T14:43:34.128Z"
   },
   {
    "duration": 9,
    "start_time": "2022-03-12T14:43:35.139Z"
   },
   {
    "duration": 465,
    "start_time": "2022-03-12T14:43:38.630Z"
   },
   {
    "duration": 23,
    "start_time": "2022-03-12T14:43:50.913Z"
   },
   {
    "duration": 11,
    "start_time": "2022-03-12T14:43:53.632Z"
   },
   {
    "duration": 3,
    "start_time": "2022-03-12T14:43:54.874Z"
   },
   {
    "duration": 3,
    "start_time": "2022-03-12T14:43:55.491Z"
   },
   {
    "duration": 9,
    "start_time": "2022-03-12T14:43:56.346Z"
   },
   {
    "duration": 40,
    "start_time": "2022-03-12T14:43:57.039Z"
   },
   {
    "duration": 6,
    "start_time": "2022-03-12T14:43:59.741Z"
   },
   {
    "duration": 22,
    "start_time": "2022-03-12T14:44:00.366Z"
   },
   {
    "duration": 11,
    "start_time": "2022-03-12T14:44:01.352Z"
   },
   {
    "duration": 3,
    "start_time": "2022-03-12T14:44:02.630Z"
   },
   {
    "duration": 8,
    "start_time": "2022-03-12T14:44:03.486Z"
   },
   {
    "duration": 10,
    "start_time": "2022-03-12T14:44:04.212Z"
   },
   {
    "duration": 9,
    "start_time": "2022-03-12T14:44:05.163Z"
   },
   {
    "duration": 29,
    "start_time": "2022-03-12T14:44:06.168Z"
   },
   {
    "duration": 135,
    "start_time": "2022-03-12T14:44:08.829Z"
   },
   {
    "duration": 9,
    "start_time": "2022-03-12T14:44:13.188Z"
   },
   {
    "duration": 196,
    "start_time": "2022-03-12T14:44:14.256Z"
   },
   {
    "duration": 185,
    "start_time": "2022-03-12T14:45:53.947Z"
   },
   {
    "duration": 203,
    "start_time": "2022-03-12T14:50:13.786Z"
   },
   {
    "duration": 460,
    "start_time": "2022-03-12T14:50:20.767Z"
   },
   {
    "duration": 177,
    "start_time": "2022-03-12T14:50:29.455Z"
   },
   {
    "duration": 11,
    "start_time": "2022-03-12T14:51:26.008Z"
   },
   {
    "duration": 663,
    "start_time": "2022-03-12T14:53:23.089Z"
   },
   {
    "duration": 5,
    "start_time": "2022-03-12T14:53:44.423Z"
   },
   {
    "duration": 4,
    "start_time": "2022-03-12T14:53:46.830Z"
   },
   {
    "duration": 5,
    "start_time": "2022-03-12T14:53:49.812Z"
   },
   {
    "duration": 4,
    "start_time": "2022-03-12T14:53:49.995Z"
   },
   {
    "duration": 3,
    "start_time": "2022-03-12T14:53:50.667Z"
   },
   {
    "duration": 2,
    "start_time": "2022-03-12T14:53:50.852Z"
   },
   {
    "duration": 3,
    "start_time": "2022-03-12T14:53:51.049Z"
   },
   {
    "duration": 2,
    "start_time": "2022-03-12T14:53:51.219Z"
   },
   {
    "duration": 8,
    "start_time": "2022-03-12T14:53:51.508Z"
   },
   {
    "duration": 8,
    "start_time": "2022-03-12T14:53:52.482Z"
   },
   {
    "duration": 2,
    "start_time": "2022-03-12T14:53:53.105Z"
   },
   {
    "duration": 13,
    "start_time": "2022-03-12T14:53:53.218Z"
   },
   {
    "duration": 6,
    "start_time": "2022-03-12T14:53:56.368Z"
   },
   {
    "duration": 215,
    "start_time": "2022-03-12T14:53:57.588Z"
   },
   {
    "duration": 3,
    "start_time": "2022-03-12T14:53:58.704Z"
   },
   {
    "duration": 6,
    "start_time": "2022-03-12T14:54:00.022Z"
   },
   {
    "duration": 15,
    "start_time": "2022-03-12T14:54:00.595Z"
   },
   {
    "duration": 11,
    "start_time": "2022-03-12T14:54:02.227Z"
   },
   {
    "duration": 3,
    "start_time": "2022-03-12T14:54:07.790Z"
   },
   {
    "duration": 5,
    "start_time": "2022-03-12T14:54:07.795Z"
   },
   {
    "duration": 7,
    "start_time": "2022-03-12T14:54:07.802Z"
   },
   {
    "duration": 6,
    "start_time": "2022-03-12T14:54:07.810Z"
   },
   {
    "duration": 56,
    "start_time": "2022-03-12T14:54:07.818Z"
   },
   {
    "duration": 16,
    "start_time": "2022-03-12T14:54:07.876Z"
   },
   {
    "duration": 4,
    "start_time": "2022-03-12T14:54:07.894Z"
   },
   {
    "duration": 8,
    "start_time": "2022-03-12T14:54:07.900Z"
   },
   {
    "duration": 29,
    "start_time": "2022-03-12T14:54:07.910Z"
   },
   {
    "duration": 9,
    "start_time": "2022-03-12T14:54:07.940Z"
   },
   {
    "duration": 6,
    "start_time": "2022-03-12T14:54:07.951Z"
   },
   {
    "duration": 8,
    "start_time": "2022-03-12T14:54:07.958Z"
   },
   {
    "duration": 7,
    "start_time": "2022-03-12T14:54:07.967Z"
   },
   {
    "duration": 5,
    "start_time": "2022-03-12T14:54:07.976Z"
   },
   {
    "duration": 19,
    "start_time": "2022-03-12T14:54:07.983Z"
   },
   {
    "duration": 40,
    "start_time": "2022-03-12T14:54:08.004Z"
   },
   {
    "duration": 10,
    "start_time": "2022-03-12T14:54:08.046Z"
   },
   {
    "duration": 10,
    "start_time": "2022-03-12T14:54:08.059Z"
   },
   {
    "duration": 14,
    "start_time": "2022-03-12T14:54:08.071Z"
   },
   {
    "duration": 11,
    "start_time": "2022-03-12T14:54:08.087Z"
   },
   {
    "duration": 11,
    "start_time": "2022-03-12T14:54:08.100Z"
   },
   {
    "duration": 5,
    "start_time": "2022-03-12T14:54:08.113Z"
   },
   {
    "duration": 3,
    "start_time": "2022-03-12T14:54:08.138Z"
   },
   {
    "duration": 5,
    "start_time": "2022-03-12T14:54:08.143Z"
   },
   {
    "duration": 9,
    "start_time": "2022-03-12T14:54:08.149Z"
   },
   {
    "duration": 5,
    "start_time": "2022-03-12T14:54:08.160Z"
   },
   {
    "duration": 10,
    "start_time": "2022-03-12T14:54:08.166Z"
   },
   {
    "duration": 9,
    "start_time": "2022-03-12T14:54:08.177Z"
   },
   {
    "duration": 2,
    "start_time": "2022-03-12T14:54:08.188Z"
   },
   {
    "duration": 18,
    "start_time": "2022-03-12T14:54:08.191Z"
   },
   {
    "duration": 30,
    "start_time": "2022-03-12T14:54:08.210Z"
   },
   {
    "duration": 222,
    "start_time": "2022-03-12T14:54:08.242Z"
   },
   {
    "duration": -2972,
    "start_time": "2022-03-12T14:54:11.438Z"
   },
   {
    "duration": -2975,
    "start_time": "2022-03-12T14:54:11.442Z"
   },
   {
    "duration": -2978,
    "start_time": "2022-03-12T14:54:11.446Z"
   },
   {
    "duration": -2981,
    "start_time": "2022-03-12T14:54:11.450Z"
   },
   {
    "duration": -2984,
    "start_time": "2022-03-12T14:54:11.454Z"
   },
   {
    "duration": -2987,
    "start_time": "2022-03-12T14:54:11.458Z"
   },
   {
    "duration": -2991,
    "start_time": "2022-03-12T14:54:11.463Z"
   },
   {
    "duration": -2996,
    "start_time": "2022-03-12T14:54:11.468Z"
   },
   {
    "duration": -3001,
    "start_time": "2022-03-12T14:54:11.474Z"
   },
   {
    "duration": -3004,
    "start_time": "2022-03-12T14:54:11.478Z"
   },
   {
    "duration": -3007,
    "start_time": "2022-03-12T14:54:11.482Z"
   },
   {
    "duration": -3010,
    "start_time": "2022-03-12T14:54:11.486Z"
   },
   {
    "duration": -3014,
    "start_time": "2022-03-12T14:54:11.491Z"
   },
   {
    "duration": -3017,
    "start_time": "2022-03-12T14:54:11.495Z"
   },
   {
    "duration": -3020,
    "start_time": "2022-03-12T14:54:11.499Z"
   },
   {
    "duration": -3023,
    "start_time": "2022-03-12T14:54:11.503Z"
   },
   {
    "duration": -3027,
    "start_time": "2022-03-12T14:54:11.508Z"
   },
   {
    "duration": -3049,
    "start_time": "2022-03-12T14:54:11.531Z"
   },
   {
    "duration": -3057,
    "start_time": "2022-03-12T14:54:11.540Z"
   },
   {
    "duration": -3060,
    "start_time": "2022-03-12T14:54:11.544Z"
   },
   {
    "duration": -3065,
    "start_time": "2022-03-12T14:54:11.550Z"
   },
   {
    "duration": -3068,
    "start_time": "2022-03-12T14:54:11.554Z"
   },
   {
    "duration": -3072,
    "start_time": "2022-03-12T14:54:11.559Z"
   },
   {
    "duration": -3075,
    "start_time": "2022-03-12T14:54:11.563Z"
   },
   {
    "duration": -3078,
    "start_time": "2022-03-12T14:54:11.567Z"
   },
   {
    "duration": 240,
    "start_time": "2022-03-12T14:54:15.861Z"
   },
   {
    "duration": 4,
    "start_time": "2022-03-12T14:54:49.069Z"
   },
   {
    "duration": 8,
    "start_time": "2022-03-12T14:54:50.264Z"
   },
   {
    "duration": 5,
    "start_time": "2022-03-12T14:54:50.678Z"
   },
   {
    "duration": 6,
    "start_time": "2022-03-12T14:54:51.507Z"
   },
   {
    "duration": 5,
    "start_time": "2022-03-12T14:54:52.199Z"
   },
   {
    "duration": 3,
    "start_time": "2022-03-12T14:54:52.451Z"
   },
   {
    "duration": 2,
    "start_time": "2022-03-12T14:54:52.990Z"
   },
   {
    "duration": 3,
    "start_time": "2022-03-12T14:54:53.488Z"
   },
   {
    "duration": 2,
    "start_time": "2022-03-12T14:54:53.703Z"
   },
   {
    "duration": 8,
    "start_time": "2022-03-12T14:54:54.259Z"
   },
   {
    "duration": 9,
    "start_time": "2022-03-12T14:54:54.969Z"
   },
   {
    "duration": 2,
    "start_time": "2022-03-12T14:54:55.378Z"
   },
   {
    "duration": 14,
    "start_time": "2022-03-12T14:54:55.599Z"
   },
   {
    "duration": 5,
    "start_time": "2022-03-12T14:54:55.867Z"
   },
   {
    "duration": 188,
    "start_time": "2022-03-12T14:54:56.279Z"
   },
   {
    "duration": 3,
    "start_time": "2022-03-12T14:54:56.773Z"
   },
   {
    "duration": 6,
    "start_time": "2022-03-12T14:54:58.070Z"
   },
   {
    "duration": 14,
    "start_time": "2022-03-12T14:54:58.779Z"
   },
   {
    "duration": 11,
    "start_time": "2022-03-12T14:54:59.495Z"
   },
   {
    "duration": 6,
    "start_time": "2022-03-12T14:55:02.108Z"
   },
   {
    "duration": 340,
    "start_time": "2022-03-12T14:55:02.908Z"
   },
   {
    "duration": 8,
    "start_time": "2022-03-12T14:55:03.681Z"
   },
   {
    "duration": 437,
    "start_time": "2022-03-12T14:55:08.622Z"
   },
   {
    "duration": 22,
    "start_time": "2022-03-12T14:55:10.192Z"
   },
   {
    "duration": 11,
    "start_time": "2022-03-12T14:55:12.612Z"
   },
   {
    "duration": 3,
    "start_time": "2022-03-12T14:55:13.160Z"
   },
   {
    "duration": 4,
    "start_time": "2022-03-12T14:55:15.567Z"
   },
   {
    "duration": 10,
    "start_time": "2022-03-12T14:55:16.417Z"
   },
   {
    "duration": 30,
    "start_time": "2022-03-12T14:55:17.450Z"
   },
   {
    "duration": 7,
    "start_time": "2022-03-12T14:55:19.749Z"
   },
   {
    "duration": 22,
    "start_time": "2022-03-12T14:55:20.493Z"
   },
   {
    "duration": 11,
    "start_time": "2022-03-12T14:55:21.098Z"
   },
   {
    "duration": 2,
    "start_time": "2022-03-12T14:55:22.198Z"
   },
   {
    "duration": 8,
    "start_time": "2022-03-12T14:55:22.922Z"
   },
   {
    "duration": 10,
    "start_time": "2022-03-12T14:55:23.496Z"
   },
   {
    "duration": 9,
    "start_time": "2022-03-12T14:55:24.321Z"
   },
   {
    "duration": 30,
    "start_time": "2022-03-12T14:55:25.038Z"
   },
   {
    "duration": 134,
    "start_time": "2022-03-12T14:55:32.615Z"
   },
   {
    "duration": 7,
    "start_time": "2022-03-12T14:55:34.612Z"
   },
   {
    "duration": 323,
    "start_time": "2022-03-12T14:55:35.404Z"
   },
   {
    "duration": 267,
    "start_time": "2022-03-12T14:55:44.690Z"
   },
   {
    "duration": 7,
    "start_time": "2022-03-12T14:56:57.060Z"
   },
   {
    "duration": 323,
    "start_time": "2022-03-12T14:56:57.826Z"
   },
   {
    "duration": 6,
    "start_time": "2022-03-12T14:58:11.864Z"
   },
   {
    "duration": 318,
    "start_time": "2022-03-12T15:06:56.110Z"
   },
   {
    "duration": 189,
    "start_time": "2022-03-12T15:08:14.892Z"
   },
   {
    "duration": 320,
    "start_time": "2022-03-12T15:08:19.154Z"
   },
   {
    "duration": 178,
    "start_time": "2022-03-12T15:08:19.943Z"
   },
   {
    "duration": 7,
    "start_time": "2022-03-12T15:08:27.435Z"
   },
   {
    "duration": 343,
    "start_time": "2022-03-12T15:08:28.323Z"
   },
   {
    "duration": 6,
    "start_time": "2022-03-12T15:08:29.243Z"
   },
   {
    "duration": 6,
    "start_time": "2022-03-12T15:43:49.097Z"
   },
   {
    "duration": 170,
    "start_time": "2022-03-12T15:44:27.654Z"
   },
   {
    "duration": 7,
    "start_time": "2022-03-12T15:44:30.706Z"
   },
   {
    "duration": 311,
    "start_time": "2022-03-12T15:44:31.272Z"
   },
   {
    "duration": 5,
    "start_time": "2022-03-12T15:45:07.825Z"
   },
   {
    "duration": 170,
    "start_time": "2022-03-12T15:57:48.972Z"
   },
   {
    "duration": 7,
    "start_time": "2022-03-12T15:57:51.375Z"
   },
   {
    "duration": 358,
    "start_time": "2022-03-12T15:57:52.319Z"
   },
   {
    "duration": 6,
    "start_time": "2022-03-12T15:58:48.327Z"
   },
   {
    "duration": 338,
    "start_time": "2022-03-12T16:01:36.437Z"
   },
   {
    "duration": 22,
    "start_time": "2022-03-12T16:06:42.605Z"
   },
   {
    "duration": 6,
    "start_time": "2022-03-12T16:08:16.129Z"
   },
   {
    "duration": 5,
    "start_time": "2022-03-12T16:08:24.073Z"
   },
   {
    "duration": 6,
    "start_time": "2022-03-12T16:08:48.861Z"
   },
   {
    "duration": 5,
    "start_time": "2022-03-12T16:08:49.412Z"
   },
   {
    "duration": 7,
    "start_time": "2022-03-12T16:15:05.661Z"
   },
   {
    "duration": 5,
    "start_time": "2022-03-12T16:15:06.997Z"
   },
   {
    "duration": 8,
    "start_time": "2022-03-12T16:15:27.815Z"
   },
   {
    "duration": 7,
    "start_time": "2022-03-12T16:16:53.687Z"
   },
   {
    "duration": 6,
    "start_time": "2022-03-12T16:23:35.820Z"
   },
   {
    "duration": 319,
    "start_time": "2022-03-12T16:23:36.126Z"
   },
   {
    "duration": 5,
    "start_time": "2022-03-12T16:23:36.921Z"
   },
   {
    "duration": 7,
    "start_time": "2022-03-12T16:23:39.837Z"
   },
   {
    "duration": 295,
    "start_time": "2022-03-12T16:23:40.799Z"
   },
   {
    "duration": 5,
    "start_time": "2022-03-12T16:23:43.720Z"
   },
   {
    "duration": 6,
    "start_time": "2022-03-12T16:23:46.000Z"
   },
   {
    "duration": 325,
    "start_time": "2022-03-12T16:23:47.058Z"
   },
   {
    "duration": 11,
    "start_time": "2022-03-12T16:29:27.046Z"
   },
   {
    "duration": 10,
    "start_time": "2022-03-12T16:29:49.215Z"
   },
   {
    "duration": 8,
    "start_time": "2022-03-12T16:32:36.602Z"
   },
   {
    "duration": 6,
    "start_time": "2022-03-12T16:33:09.948Z"
   },
   {
    "duration": 7,
    "start_time": "2022-03-12T16:33:17.992Z"
   },
   {
    "duration": 7,
    "start_time": "2022-03-12T16:33:38.280Z"
   },
   {
    "duration": 7,
    "start_time": "2022-03-12T16:33:45.179Z"
   },
   {
    "duration": 7,
    "start_time": "2022-03-12T16:35:20.584Z"
   },
   {
    "duration": 6,
    "start_time": "2022-03-12T16:57:10.303Z"
   },
   {
    "duration": 60,
    "start_time": "2022-03-12T16:57:10.378Z"
   },
   {
    "duration": 53,
    "start_time": "2022-03-12T17:09:34.678Z"
   },
   {
    "duration": 7,
    "start_time": "2022-03-12T19:55:34.607Z"
   },
   {
    "duration": 9,
    "start_time": "2022-03-12T19:55:37.531Z"
   },
   {
    "duration": 6,
    "start_time": "2022-03-12T19:57:01.315Z"
   },
   {
    "duration": 14,
    "start_time": "2022-03-12T19:58:44.695Z"
   },
   {
    "duration": 7,
    "start_time": "2022-03-12T20:00:33.114Z"
   },
   {
    "duration": 11,
    "start_time": "2022-03-12T20:00:46.579Z"
   },
   {
    "duration": 10,
    "start_time": "2022-03-12T20:01:03.348Z"
   },
   {
    "duration": 10,
    "start_time": "2022-03-12T20:02:02.729Z"
   },
   {
    "duration": 11,
    "start_time": "2022-03-12T20:03:31.838Z"
   },
   {
    "duration": 238,
    "start_time": "2022-03-12T20:04:49.420Z"
   },
   {
    "duration": 175,
    "start_time": "2022-03-12T20:04:58.006Z"
   },
   {
    "duration": 181,
    "start_time": "2022-03-12T20:05:20.435Z"
   },
   {
    "duration": 14,
    "start_time": "2022-03-12T20:06:11.949Z"
   },
   {
    "duration": 11,
    "start_time": "2022-03-12T20:12:17.188Z"
   },
   {
    "duration": 9,
    "start_time": "2022-03-12T20:12:44.028Z"
   },
   {
    "duration": 13,
    "start_time": "2022-03-12T20:14:19.944Z"
   },
   {
    "duration": 10,
    "start_time": "2022-03-12T20:16:46.858Z"
   },
   {
    "duration": 10,
    "start_time": "2022-03-12T20:17:18.341Z"
   },
   {
    "duration": 13,
    "start_time": "2022-03-12T20:17:49.693Z"
   },
   {
    "duration": 3,
    "start_time": "2022-03-12T20:26:41.377Z"
   },
   {
    "duration": 15,
    "start_time": "2022-03-12T20:26:41.382Z"
   },
   {
    "duration": 7,
    "start_time": "2022-03-12T20:26:41.399Z"
   },
   {
    "duration": 7,
    "start_time": "2022-03-12T20:26:41.409Z"
   },
   {
    "duration": 61,
    "start_time": "2022-03-12T20:26:41.417Z"
   },
   {
    "duration": 18,
    "start_time": "2022-03-12T20:26:41.481Z"
   },
   {
    "duration": 23,
    "start_time": "2022-03-12T20:26:41.501Z"
   },
   {
    "duration": 10,
    "start_time": "2022-03-12T20:26:41.537Z"
   },
   {
    "duration": 19,
    "start_time": "2022-03-12T20:26:41.550Z"
   },
   {
    "duration": 22,
    "start_time": "2022-03-12T20:26:41.571Z"
   },
   {
    "duration": 16,
    "start_time": "2022-03-12T20:26:41.595Z"
   },
   {
    "duration": 24,
    "start_time": "2022-03-12T20:26:41.613Z"
   },
   {
    "duration": 19,
    "start_time": "2022-03-12T20:26:41.639Z"
   },
   {
    "duration": 20,
    "start_time": "2022-03-12T20:26:41.659Z"
   },
   {
    "duration": 34,
    "start_time": "2022-03-12T20:26:41.680Z"
   },
   {
    "duration": 22,
    "start_time": "2022-03-12T20:26:41.715Z"
   },
   {
    "duration": 17,
    "start_time": "2022-03-12T20:26:41.738Z"
   },
   {
    "duration": 19,
    "start_time": "2022-03-12T20:26:41.757Z"
   },
   {
    "duration": 9,
    "start_time": "2022-03-12T20:26:41.777Z"
   },
   {
    "duration": 20,
    "start_time": "2022-03-12T20:26:41.788Z"
   },
   {
    "duration": 5,
    "start_time": "2022-03-12T20:26:41.810Z"
   },
   {
    "duration": 13,
    "start_time": "2022-03-12T20:26:41.817Z"
   },
   {
    "duration": 12,
    "start_time": "2022-03-12T20:26:41.832Z"
   },
   {
    "duration": 20,
    "start_time": "2022-03-12T20:26:41.846Z"
   },
   {
    "duration": 6,
    "start_time": "2022-03-12T20:26:41.868Z"
   },
   {
    "duration": 8,
    "start_time": "2022-03-12T20:26:41.875Z"
   },
   {
    "duration": 12,
    "start_time": "2022-03-12T20:26:41.886Z"
   },
   {
    "duration": 7,
    "start_time": "2022-03-12T20:26:41.901Z"
   },
   {
    "duration": 2,
    "start_time": "2022-03-12T20:26:41.910Z"
   },
   {
    "duration": 20,
    "start_time": "2022-03-12T20:26:41.913Z"
   },
   {
    "duration": 7,
    "start_time": "2022-03-12T20:26:41.935Z"
   },
   {
    "duration": 182,
    "start_time": "2022-03-12T20:26:41.943Z"
   },
   {
    "duration": -3019,
    "start_time": "2022-03-12T20:26:45.146Z"
   },
   {
    "duration": -3027,
    "start_time": "2022-03-12T20:26:45.155Z"
   },
   {
    "duration": -3032,
    "start_time": "2022-03-12T20:26:45.161Z"
   },
   {
    "duration": -3037,
    "start_time": "2022-03-12T20:26:45.167Z"
   },
   {
    "duration": -3044,
    "start_time": "2022-03-12T20:26:45.175Z"
   },
   {
    "duration": -3049,
    "start_time": "2022-03-12T20:26:45.181Z"
   },
   {
    "duration": -3055,
    "start_time": "2022-03-12T20:26:45.188Z"
   },
   {
    "duration": -3062,
    "start_time": "2022-03-12T20:26:45.196Z"
   },
   {
    "duration": -3068,
    "start_time": "2022-03-12T20:26:45.202Z"
   },
   {
    "duration": -3080,
    "start_time": "2022-03-12T20:26:45.215Z"
   },
   {
    "duration": -3118,
    "start_time": "2022-03-12T20:26:45.254Z"
   },
   {
    "duration": -3125,
    "start_time": "2022-03-12T20:26:45.262Z"
   },
   {
    "duration": -3131,
    "start_time": "2022-03-12T20:26:45.269Z"
   },
   {
    "duration": -3138,
    "start_time": "2022-03-12T20:26:45.277Z"
   },
   {
    "duration": -3142,
    "start_time": "2022-03-12T20:26:45.282Z"
   },
   {
    "duration": -3148,
    "start_time": "2022-03-12T20:26:45.289Z"
   },
   {
    "duration": -3153,
    "start_time": "2022-03-12T20:26:45.295Z"
   },
   {
    "duration": -3161,
    "start_time": "2022-03-12T20:26:45.304Z"
   },
   {
    "duration": -3168,
    "start_time": "2022-03-12T20:26:45.312Z"
   },
   {
    "duration": -3187,
    "start_time": "2022-03-12T20:26:45.331Z"
   },
   {
    "duration": -3195,
    "start_time": "2022-03-12T20:26:45.341Z"
   },
   {
    "duration": -3235,
    "start_time": "2022-03-12T20:26:45.382Z"
   },
   {
    "duration": -3239,
    "start_time": "2022-03-12T20:26:45.387Z"
   },
   {
    "duration": -3245,
    "start_time": "2022-03-12T20:26:45.394Z"
   },
   {
    "duration": -3249,
    "start_time": "2022-03-12T20:26:45.399Z"
   },
   {
    "duration": -3255,
    "start_time": "2022-03-12T20:26:45.405Z"
   },
   {
    "duration": -3260,
    "start_time": "2022-03-12T20:26:45.411Z"
   },
   {
    "duration": -3265,
    "start_time": "2022-03-12T20:26:45.417Z"
   },
   {
    "duration": -3270,
    "start_time": "2022-03-12T20:26:45.423Z"
   },
   {
    "duration": -3276,
    "start_time": "2022-03-12T20:26:45.430Z"
   },
   {
    "duration": -3280,
    "start_time": "2022-03-12T20:26:45.435Z"
   },
   {
    "duration": -3286,
    "start_time": "2022-03-12T20:26:45.442Z"
   },
   {
    "duration": -3291,
    "start_time": "2022-03-12T20:26:45.447Z"
   },
   {
    "duration": -3299,
    "start_time": "2022-03-12T20:26:45.456Z"
   },
   {
    "duration": -3306,
    "start_time": "2022-03-12T20:26:45.464Z"
   },
   {
    "duration": -3332,
    "start_time": "2022-03-12T20:26:45.491Z"
   },
   {
    "duration": -3359,
    "start_time": "2022-03-12T20:26:45.519Z"
   },
   {
    "duration": -3373,
    "start_time": "2022-03-12T20:26:45.533Z"
   },
   {
    "duration": -3377,
    "start_time": "2022-03-12T20:26:45.539Z"
   },
   {
    "duration": -3385,
    "start_time": "2022-03-12T20:26:45.547Z"
   },
   {
    "duration": -3392,
    "start_time": "2022-03-12T20:26:45.555Z"
   },
   {
    "duration": -3400,
    "start_time": "2022-03-12T20:26:45.564Z"
   },
   {
    "duration": -3406,
    "start_time": "2022-03-12T20:26:45.571Z"
   },
   {
    "duration": -3411,
    "start_time": "2022-03-12T20:26:45.577Z"
   },
   {
    "duration": -3418,
    "start_time": "2022-03-12T20:26:45.584Z"
   },
   {
    "duration": -3434,
    "start_time": "2022-03-12T20:26:45.601Z"
   },
   {
    "duration": -3440,
    "start_time": "2022-03-12T20:26:45.608Z"
   },
   {
    "duration": -3447,
    "start_time": "2022-03-12T20:26:45.616Z"
   },
   {
    "duration": -3452,
    "start_time": "2022-03-12T20:26:45.622Z"
   },
   {
    "duration": -3458,
    "start_time": "2022-03-12T20:26:45.629Z"
   },
   {
    "duration": 227,
    "start_time": "2022-03-13T06:34:27.963Z"
   },
   {
    "duration": 611,
    "start_time": "2022-03-13T06:34:31.063Z"
   },
   {
    "duration": 535,
    "start_time": "2022-03-13T06:34:31.676Z"
   },
   {
    "duration": 3,
    "start_time": "2022-03-13T06:34:32.213Z"
   },
   {
    "duration": 9,
    "start_time": "2022-03-13T06:34:32.217Z"
   },
   {
    "duration": 55,
    "start_time": "2022-03-13T06:34:32.228Z"
   },
   {
    "duration": 15,
    "start_time": "2022-03-13T06:34:32.284Z"
   },
   {
    "duration": 5,
    "start_time": "2022-03-13T06:34:32.300Z"
   },
   {
    "duration": 9,
    "start_time": "2022-03-13T06:34:32.306Z"
   },
   {
    "duration": 5,
    "start_time": "2022-03-13T06:34:32.318Z"
   },
   {
    "duration": 36,
    "start_time": "2022-03-13T06:34:32.324Z"
   },
   {
    "duration": 4,
    "start_time": "2022-03-13T06:34:32.362Z"
   },
   {
    "duration": 8,
    "start_time": "2022-03-13T06:34:32.368Z"
   },
   {
    "duration": 4,
    "start_time": "2022-03-13T06:34:32.378Z"
   },
   {
    "duration": 7,
    "start_time": "2022-03-13T06:34:32.384Z"
   },
   {
    "duration": 13,
    "start_time": "2022-03-13T06:34:32.393Z"
   },
   {
    "duration": 10,
    "start_time": "2022-03-13T06:34:32.408Z"
   },
   {
    "duration": 7,
    "start_time": "2022-03-13T06:34:32.419Z"
   },
   {
    "duration": 6,
    "start_time": "2022-03-13T06:34:32.459Z"
   },
   {
    "duration": 6,
    "start_time": "2022-03-13T06:34:32.466Z"
   },
   {
    "duration": 6,
    "start_time": "2022-03-13T06:34:32.474Z"
   },
   {
    "duration": 6,
    "start_time": "2022-03-13T06:34:32.482Z"
   },
   {
    "duration": 4,
    "start_time": "2022-03-13T06:34:32.490Z"
   },
   {
    "duration": 7,
    "start_time": "2022-03-13T06:34:32.495Z"
   },
   {
    "duration": 5,
    "start_time": "2022-03-13T06:34:32.503Z"
   },
   {
    "duration": 5,
    "start_time": "2022-03-13T06:34:32.510Z"
   },
   {
    "duration": 4,
    "start_time": "2022-03-13T06:34:32.517Z"
   },
   {
    "duration": 39,
    "start_time": "2022-03-13T06:34:32.525Z"
   },
   {
    "duration": 8,
    "start_time": "2022-03-13T06:34:32.567Z"
   },
   {
    "duration": 2,
    "start_time": "2022-03-13T06:34:32.577Z"
   },
   {
    "duration": 15,
    "start_time": "2022-03-13T06:34:32.580Z"
   },
   {
    "duration": 5,
    "start_time": "2022-03-13T06:34:32.597Z"
   },
   {
    "duration": 255,
    "start_time": "2022-03-13T06:34:32.604Z"
   },
   {
    "duration": -3670,
    "start_time": "2022-03-13T06:34:36.531Z"
   },
   {
    "duration": -3679,
    "start_time": "2022-03-13T06:34:36.541Z"
   },
   {
    "duration": -3685,
    "start_time": "2022-03-13T06:34:36.548Z"
   },
   {
    "duration": -3691,
    "start_time": "2022-03-13T06:34:36.555Z"
   },
   {
    "duration": -3697,
    "start_time": "2022-03-13T06:34:36.562Z"
   },
   {
    "duration": -3704,
    "start_time": "2022-03-13T06:34:36.570Z"
   },
   {
    "duration": -3710,
    "start_time": "2022-03-13T06:34:36.577Z"
   },
   {
    "duration": -3716,
    "start_time": "2022-03-13T06:34:36.584Z"
   },
   {
    "duration": -3723,
    "start_time": "2022-03-13T06:34:36.591Z"
   },
   {
    "duration": -3730,
    "start_time": "2022-03-13T06:34:36.599Z"
   },
   {
    "duration": -3735,
    "start_time": "2022-03-13T06:34:36.605Z"
   },
   {
    "duration": -3742,
    "start_time": "2022-03-13T06:34:36.613Z"
   },
   {
    "duration": -3747,
    "start_time": "2022-03-13T06:34:36.619Z"
   },
   {
    "duration": -3754,
    "start_time": "2022-03-13T06:34:36.627Z"
   },
   {
    "duration": -3778,
    "start_time": "2022-03-13T06:34:36.652Z"
   },
   {
    "duration": -3785,
    "start_time": "2022-03-13T06:34:36.660Z"
   },
   {
    "duration": -3791,
    "start_time": "2022-03-13T06:34:36.667Z"
   },
   {
    "duration": -3797,
    "start_time": "2022-03-13T06:34:36.674Z"
   },
   {
    "duration": -3803,
    "start_time": "2022-03-13T06:34:36.681Z"
   },
   {
    "duration": -3809,
    "start_time": "2022-03-13T06:34:36.688Z"
   },
   {
    "duration": -3816,
    "start_time": "2022-03-13T06:34:36.696Z"
   },
   {
    "duration": -3822,
    "start_time": "2022-03-13T06:34:36.703Z"
   },
   {
    "duration": -3828,
    "start_time": "2022-03-13T06:34:36.710Z"
   },
   {
    "duration": -3834,
    "start_time": "2022-03-13T06:34:36.717Z"
   },
   {
    "duration": -3840,
    "start_time": "2022-03-13T06:34:36.724Z"
   },
   {
    "duration": -3846,
    "start_time": "2022-03-13T06:34:36.731Z"
   },
   {
    "duration": -3852,
    "start_time": "2022-03-13T06:34:36.738Z"
   },
   {
    "duration": -3858,
    "start_time": "2022-03-13T06:34:36.745Z"
   },
   {
    "duration": -3879,
    "start_time": "2022-03-13T06:34:36.767Z"
   },
   {
    "duration": -3887,
    "start_time": "2022-03-13T06:34:36.775Z"
   },
   {
    "duration": -3892,
    "start_time": "2022-03-13T06:34:36.782Z"
   },
   {
    "duration": -3898,
    "start_time": "2022-03-13T06:34:36.789Z"
   },
   {
    "duration": -3904,
    "start_time": "2022-03-13T06:34:36.796Z"
   },
   {
    "duration": -3910,
    "start_time": "2022-03-13T06:34:36.803Z"
   },
   {
    "duration": -3916,
    "start_time": "2022-03-13T06:34:36.810Z"
   },
   {
    "duration": -3923,
    "start_time": "2022-03-13T06:34:36.818Z"
   },
   {
    "duration": -3929,
    "start_time": "2022-03-13T06:34:36.825Z"
   },
   {
    "duration": -3935,
    "start_time": "2022-03-13T06:34:36.832Z"
   },
   {
    "duration": -3941,
    "start_time": "2022-03-13T06:34:36.839Z"
   },
   {
    "duration": -3888,
    "start_time": "2022-03-13T06:34:36.847Z"
   },
   {
    "duration": -3893,
    "start_time": "2022-03-13T06:34:36.853Z"
   },
   {
    "duration": -3899,
    "start_time": "2022-03-13T06:34:36.860Z"
   },
   {
    "duration": -3928,
    "start_time": "2022-03-13T06:34:36.890Z"
   },
   {
    "duration": -3935,
    "start_time": "2022-03-13T06:34:36.898Z"
   },
   {
    "duration": -3941,
    "start_time": "2022-03-13T06:34:36.905Z"
   },
   {
    "duration": -3948,
    "start_time": "2022-03-13T06:34:36.913Z"
   },
   {
    "duration": -3953,
    "start_time": "2022-03-13T06:34:36.919Z"
   },
   {
    "duration": -3971,
    "start_time": "2022-03-13T06:34:36.938Z"
   },
   {
    "duration": -3977,
    "start_time": "2022-03-13T06:34:36.945Z"
   },
   {
    "duration": -3982,
    "start_time": "2022-03-13T06:34:36.951Z"
   },
   {
    "duration": -3987,
    "start_time": "2022-03-13T06:34:36.957Z"
   },
   {
    "duration": -3995,
    "start_time": "2022-03-13T06:34:36.965Z"
   },
   {
    "duration": 4590,
    "start_time": "2022-03-13T06:34:38.825Z"
   },
   {
    "duration": 4,
    "start_time": "2022-03-13T06:34:52.876Z"
   },
   {
    "duration": 210,
    "start_time": "2022-03-13T06:48:00.596Z"
   },
   {
    "duration": 7,
    "start_time": "2022-03-13T06:48:03.883Z"
   },
   {
    "duration": 4788,
    "start_time": "2022-03-13T06:48:04.607Z"
   },
   {
    "duration": 204,
    "start_time": "2022-03-13T06:48:29.624Z"
   },
   {
    "duration": 4627,
    "start_time": "2022-03-13T06:48:33.192Z"
   },
   {
    "duration": -2860,
    "start_time": "2022-03-13T06:48:40.681Z"
   },
   {
    "duration": -2867,
    "start_time": "2022-03-13T06:48:40.689Z"
   },
   {
    "duration": 4891,
    "start_time": "2022-03-13T06:50:36.889Z"
   },
   {
    "duration": 3,
    "start_time": "2022-03-13T06:51:02.530Z"
   },
   {
    "duration": 20,
    "start_time": "2022-03-13T06:51:05.944Z"
   },
   {
    "duration": 210,
    "start_time": "2022-03-13T06:52:19.449Z"
   },
   {
    "duration": 4,
    "start_time": "2022-03-13T06:52:21.798Z"
   },
   {
    "duration": 20,
    "start_time": "2022-03-13T06:52:22.602Z"
   },
   {
    "duration": 6,
    "start_time": "2022-03-13T06:52:48.798Z"
   },
   {
    "duration": 4,
    "start_time": "2022-03-13T06:52:49.646Z"
   },
   {
    "duration": 20,
    "start_time": "2022-03-13T06:53:00.995Z"
   },
   {
    "duration": 84,
    "start_time": "2022-03-13T06:54:45.134Z"
   },
   {
    "duration": 5,
    "start_time": "2022-03-13T06:54:47.407Z"
   },
   {
    "duration": 62,
    "start_time": "2022-03-13T06:54:48.016Z"
   },
   {
    "duration": 3,
    "start_time": "2022-03-13T06:54:55.276Z"
   },
   {
    "duration": 2,
    "start_time": "2022-03-13T06:54:58.198Z"
   },
   {
    "duration": 3,
    "start_time": "2022-03-13T06:55:04.678Z"
   },
   {
    "duration": 202,
    "start_time": "2022-03-13T06:55:46.343Z"
   },
   {
    "duration": 4,
    "start_time": "2022-03-13T06:55:55.352Z"
   },
   {
    "duration": 3,
    "start_time": "2022-03-13T06:55:56.148Z"
   },
   {
    "duration": 5,
    "start_time": "2022-03-13T06:55:56.861Z"
   },
   {
    "duration": 3,
    "start_time": "2022-03-13T07:17:39.108Z"
   },
   {
    "duration": 7,
    "start_time": "2022-03-13T07:19:24.633Z"
   },
   {
    "duration": 242,
    "start_time": "2022-03-13T07:23:49.413Z"
   },
   {
    "duration": 220,
    "start_time": "2022-03-13T07:24:23.923Z"
   },
   {
    "duration": 189,
    "start_time": "2022-03-13T07:25:46.086Z"
   },
   {
    "duration": 3,
    "start_time": "2022-03-13T07:25:57.519Z"
   },
   {
    "duration": 10,
    "start_time": "2022-03-13T07:25:57.524Z"
   },
   {
    "duration": 10,
    "start_time": "2022-03-13T07:25:57.535Z"
   },
   {
    "duration": 12,
    "start_time": "2022-03-13T07:25:57.547Z"
   },
   {
    "duration": 60,
    "start_time": "2022-03-13T07:25:57.560Z"
   },
   {
    "duration": 14,
    "start_time": "2022-03-13T07:25:57.622Z"
   },
   {
    "duration": 5,
    "start_time": "2022-03-13T07:25:58.976Z"
   },
   {
    "duration": 13,
    "start_time": "2022-03-13T07:25:58.983Z"
   },
   {
    "duration": 8,
    "start_time": "2022-03-13T07:25:58.999Z"
   },
   {
    "duration": 8,
    "start_time": "2022-03-13T07:25:59.008Z"
   },
   {
    "duration": 15,
    "start_time": "2022-03-13T07:25:59.018Z"
   },
   {
    "duration": 20,
    "start_time": "2022-03-13T07:25:59.034Z"
   },
   {
    "duration": 15,
    "start_time": "2022-03-13T07:25:59.055Z"
   },
   {
    "duration": 3,
    "start_time": "2022-03-13T07:25:59.197Z"
   },
   {
    "duration": 19,
    "start_time": "2022-03-13T07:25:59.202Z"
   },
   {
    "duration": 11,
    "start_time": "2022-03-13T07:25:59.223Z"
   },
   {
    "duration": 7,
    "start_time": "2022-03-13T07:25:59.236Z"
   },
   {
    "duration": 6,
    "start_time": "2022-03-13T07:25:59.245Z"
   },
   {
    "duration": 5,
    "start_time": "2022-03-13T07:25:59.253Z"
   },
   {
    "duration": 7,
    "start_time": "2022-03-13T07:25:59.260Z"
   },
   {
    "duration": 6,
    "start_time": "2022-03-13T07:25:59.268Z"
   },
   {
    "duration": 7,
    "start_time": "2022-03-13T07:25:59.276Z"
   },
   {
    "duration": 6,
    "start_time": "2022-03-13T07:25:59.284Z"
   },
   {
    "duration": 5,
    "start_time": "2022-03-13T07:25:59.292Z"
   },
   {
    "duration": 5,
    "start_time": "2022-03-13T07:25:59.298Z"
   },
   {
    "duration": 4,
    "start_time": "2022-03-13T07:25:59.305Z"
   },
   {
    "duration": 16,
    "start_time": "2022-03-13T07:25:59.311Z"
   },
   {
    "duration": 30,
    "start_time": "2022-03-13T07:25:59.329Z"
   },
   {
    "duration": 2,
    "start_time": "2022-03-13T07:25:59.362Z"
   },
   {
    "duration": 19,
    "start_time": "2022-03-13T07:25:59.366Z"
   },
   {
    "duration": 11,
    "start_time": "2022-03-13T07:25:59.386Z"
   },
   {
    "duration": 209,
    "start_time": "2022-03-13T07:25:59.399Z"
   },
   {
    "duration": -3366,
    "start_time": "2022-03-13T07:26:02.978Z"
   },
   {
    "duration": -3370,
    "start_time": "2022-03-13T07:26:02.983Z"
   },
   {
    "duration": -3376,
    "start_time": "2022-03-13T07:26:02.990Z"
   },
   {
    "duration": -3380,
    "start_time": "2022-03-13T07:26:02.995Z"
   },
   {
    "duration": -3385,
    "start_time": "2022-03-13T07:26:03.001Z"
   },
   {
    "duration": -3391,
    "start_time": "2022-03-13T07:26:03.007Z"
   },
   {
    "duration": -3396,
    "start_time": "2022-03-13T07:26:03.013Z"
   },
   {
    "duration": -3432,
    "start_time": "2022-03-13T07:26:03.050Z"
   },
   {
    "duration": -3438,
    "start_time": "2022-03-13T07:26:03.056Z"
   },
   {
    "duration": -3464,
    "start_time": "2022-03-13T07:26:03.083Z"
   },
   {
    "duration": -3471,
    "start_time": "2022-03-13T07:26:03.091Z"
   },
   {
    "duration": -3477,
    "start_time": "2022-03-13T07:26:03.097Z"
   },
   {
    "duration": -3483,
    "start_time": "2022-03-13T07:26:03.104Z"
   },
   {
    "duration": -3487,
    "start_time": "2022-03-13T07:26:03.109Z"
   },
   {
    "duration": -3493,
    "start_time": "2022-03-13T07:26:03.116Z"
   },
   {
    "duration": -3498,
    "start_time": "2022-03-13T07:26:03.121Z"
   },
   {
    "duration": -3503,
    "start_time": "2022-03-13T07:26:03.127Z"
   },
   {
    "duration": -3526,
    "start_time": "2022-03-13T07:26:03.151Z"
   },
   {
    "duration": -3794,
    "start_time": "2022-03-13T07:26:03.420Z"
   },
   {
    "duration": -3898,
    "start_time": "2022-03-13T07:26:03.524Z"
   },
   {
    "duration": -4015,
    "start_time": "2022-03-13T07:26:03.642Z"
   },
   {
    "duration": -4043,
    "start_time": "2022-03-13T07:26:03.671Z"
   },
   {
    "duration": -4048,
    "start_time": "2022-03-13T07:26:03.677Z"
   },
   {
    "duration": -4053,
    "start_time": "2022-03-13T07:26:03.682Z"
   },
   {
    "duration": -4059,
    "start_time": "2022-03-13T07:26:03.689Z"
   },
   {
    "duration": -4063,
    "start_time": "2022-03-13T07:26:03.694Z"
   },
   {
    "duration": -4068,
    "start_time": "2022-03-13T07:26:03.700Z"
   },
   {
    "duration": -4073,
    "start_time": "2022-03-13T07:26:03.705Z"
   },
   {
    "duration": -4078,
    "start_time": "2022-03-13T07:26:03.711Z"
   },
   {
    "duration": -4083,
    "start_time": "2022-03-13T07:26:03.717Z"
   },
   {
    "duration": -4089,
    "start_time": "2022-03-13T07:26:03.724Z"
   },
   {
    "duration": -4093,
    "start_time": "2022-03-13T07:26:03.729Z"
   },
   {
    "duration": -4098,
    "start_time": "2022-03-13T07:26:03.735Z"
   },
   {
    "duration": -4102,
    "start_time": "2022-03-13T07:26:03.740Z"
   },
   {
    "duration": -4107,
    "start_time": "2022-03-13T07:26:03.746Z"
   },
   {
    "duration": -4111,
    "start_time": "2022-03-13T07:26:03.751Z"
   },
   {
    "duration": -4117,
    "start_time": "2022-03-13T07:26:03.757Z"
   },
   {
    "duration": -4122,
    "start_time": "2022-03-13T07:26:03.763Z"
   },
   {
    "duration": -4127,
    "start_time": "2022-03-13T07:26:03.769Z"
   },
   {
    "duration": -4143,
    "start_time": "2022-03-13T07:26:03.786Z"
   },
   {
    "duration": -4148,
    "start_time": "2022-03-13T07:26:03.792Z"
   },
   {
    "duration": -4152,
    "start_time": "2022-03-13T07:26:03.797Z"
   },
   {
    "duration": -4157,
    "start_time": "2022-03-13T07:26:03.803Z"
   },
   {
    "duration": -4162,
    "start_time": "2022-03-13T07:26:03.808Z"
   },
   {
    "duration": -4168,
    "start_time": "2022-03-13T07:26:03.815Z"
   },
   {
    "duration": -4172,
    "start_time": "2022-03-13T07:26:03.820Z"
   },
   {
    "duration": -4177,
    "start_time": "2022-03-13T07:26:03.826Z"
   },
   {
    "duration": -4181,
    "start_time": "2022-03-13T07:26:03.831Z"
   },
   {
    "duration": -4179,
    "start_time": "2022-03-13T07:26:03.837Z"
   },
   {
    "duration": -4183,
    "start_time": "2022-03-13T07:26:03.842Z"
   },
   {
    "duration": -4189,
    "start_time": "2022-03-13T07:26:03.849Z"
   },
   {
    "duration": -4193,
    "start_time": "2022-03-13T07:26:03.854Z"
   },
   {
    "duration": -4198,
    "start_time": "2022-03-13T07:26:03.860Z"
   },
   {
    "duration": -4202,
    "start_time": "2022-03-13T07:26:03.865Z"
   },
   {
    "duration": -4207,
    "start_time": "2022-03-13T07:26:03.871Z"
   },
   {
    "duration": -4212,
    "start_time": "2022-03-13T07:26:03.876Z"
   },
   {
    "duration": -4217,
    "start_time": "2022-03-13T07:26:03.882Z"
   },
   {
    "duration": -4233,
    "start_time": "2022-03-13T07:26:03.899Z"
   },
   {
    "duration": -4239,
    "start_time": "2022-03-13T07:26:03.905Z"
   },
   {
    "duration": -4244,
    "start_time": "2022-03-13T07:26:03.911Z"
   },
   {
    "duration": -4249,
    "start_time": "2022-03-13T07:26:03.917Z"
   },
   {
    "duration": -4253,
    "start_time": "2022-03-13T07:26:03.922Z"
   },
   {
    "duration": -4258,
    "start_time": "2022-03-13T07:26:03.928Z"
   },
   {
    "duration": -4263,
    "start_time": "2022-03-13T07:26:03.933Z"
   },
   {
    "duration": -4268,
    "start_time": "2022-03-13T07:26:03.939Z"
   },
   {
    "duration": 220,
    "start_time": "2022-03-13T07:26:06.459Z"
   },
   {
    "duration": 271,
    "start_time": "2022-03-13T07:26:07.391Z"
   },
   {
    "duration": 3,
    "start_time": "2022-03-13T07:26:12.151Z"
   },
   {
    "duration": 6,
    "start_time": "2022-03-13T07:26:12.376Z"
   },
   {
    "duration": 4,
    "start_time": "2022-03-13T07:26:12.973Z"
   },
   {
    "duration": 3,
    "start_time": "2022-03-13T07:26:13.514Z"
   },
   {
    "duration": 6,
    "start_time": "2022-03-13T07:26:13.671Z"
   },
   {
    "duration": 4,
    "start_time": "2022-03-13T07:26:13.853Z"
   },
   {
    "duration": 3,
    "start_time": "2022-03-13T07:26:13.995Z"
   },
   {
    "duration": 5,
    "start_time": "2022-03-13T07:26:14.200Z"
   },
   {
    "duration": 6,
    "start_time": "2022-03-13T07:26:14.650Z"
   },
   {
    "duration": 4,
    "start_time": "2022-03-13T07:26:15.018Z"
   },
   {
    "duration": 3,
    "start_time": "2022-03-13T07:26:15.397Z"
   },
   {
    "duration": 6,
    "start_time": "2022-03-13T07:26:15.495Z"
   },
   {
    "duration": 5,
    "start_time": "2022-03-13T07:26:15.680Z"
   },
   {
    "duration": 3,
    "start_time": "2022-03-13T07:26:15.812Z"
   },
   {
    "duration": 5,
    "start_time": "2022-03-13T07:26:15.993Z"
   },
   {
    "duration": 4,
    "start_time": "2022-03-13T10:05:25.086Z"
   },
   {
    "duration": 7,
    "start_time": "2022-03-13T10:05:26.882Z"
   },
   {
    "duration": 4,
    "start_time": "2022-03-13T10:05:27.683Z"
   },
   {
    "duration": 5,
    "start_time": "2022-03-13T10:05:37.200Z"
   },
   {
    "duration": 5,
    "start_time": "2022-03-13T10:05:37.937Z"
   },
   {
    "duration": 5,
    "start_time": "2022-03-13T10:06:12.296Z"
   },
   {
    "duration": 223,
    "start_time": "2022-03-13T10:06:13.294Z"
   },
   {
    "duration": 9,
    "start_time": "2022-03-13T10:20:06.843Z"
   },
   {
    "duration": 13,
    "start_time": "2022-03-13T10:20:26.557Z"
   },
   {
    "duration": 3,
    "start_time": "2022-03-13T10:20:26.804Z"
   },
   {
    "duration": 22,
    "start_time": "2022-03-13T10:20:27.156Z"
   },
   {
    "duration": 6,
    "start_time": "2022-03-13T10:20:30.003Z"
   },
   {
    "duration": 9,
    "start_time": "2022-03-13T10:21:19.480Z"
   },
   {
    "duration": 318,
    "start_time": "2022-03-13T10:25:17.122Z"
   },
   {
    "duration": 326,
    "start_time": "2022-03-13T10:25:20.061Z"
   },
   {
    "duration": 293,
    "start_time": "2022-03-13T10:25:21.309Z"
   },
   {
    "duration": 17,
    "start_time": "2022-03-13T10:25:47.311Z"
   },
   {
    "duration": 219,
    "start_time": "2022-03-13T10:25:48.934Z"
   },
   {
    "duration": 218,
    "start_time": "2022-03-13T10:25:53.812Z"
   },
   {
    "duration": 5,
    "start_time": "2022-03-13T10:26:00.248Z"
   },
   {
    "duration": 8,
    "start_time": "2022-03-13T11:58:01.067Z"
   },
   {
    "duration": 6,
    "start_time": "2022-03-13T11:58:18.183Z"
   },
   {
    "duration": 6,
    "start_time": "2022-03-13T11:58:50.038Z"
   },
   {
    "duration": 18,
    "start_time": "2022-03-13T11:59:45.598Z"
   },
   {
    "duration": 8,
    "start_time": "2022-03-13T12:00:10.116Z"
   },
   {
    "duration": 4,
    "start_time": "2022-03-13T12:00:19.741Z"
   },
   {
    "duration": 13,
    "start_time": "2022-03-13T12:00:20.585Z"
   },
   {
    "duration": 2,
    "start_time": "2022-03-13T12:00:49.400Z"
   },
   {
    "duration": 2,
    "start_time": "2022-03-13T12:00:49.410Z"
   },
   {
    "duration": 5,
    "start_time": "2022-03-13T12:00:49.415Z"
   },
   {
    "duration": 3,
    "start_time": "2022-03-13T12:00:49.422Z"
   },
   {
    "duration": 51,
    "start_time": "2022-03-13T12:00:49.427Z"
   },
   {
    "duration": 18,
    "start_time": "2022-03-13T12:00:49.480Z"
   },
   {
    "duration": 5,
    "start_time": "2022-03-13T12:00:49.500Z"
   },
   {
    "duration": 10,
    "start_time": "2022-03-13T12:00:49.507Z"
   },
   {
    "duration": 40,
    "start_time": "2022-03-13T12:00:49.519Z"
   },
   {
    "duration": 9,
    "start_time": "2022-03-13T12:00:49.561Z"
   },
   {
    "duration": 6,
    "start_time": "2022-03-13T12:00:49.571Z"
   },
   {
    "duration": 7,
    "start_time": "2022-03-13T12:00:49.579Z"
   },
   {
    "duration": 4,
    "start_time": "2022-03-13T12:00:49.588Z"
   },
   {
    "duration": 5,
    "start_time": "2022-03-13T12:00:49.594Z"
   },
   {
    "duration": 14,
    "start_time": "2022-03-13T12:00:49.601Z"
   },
   {
    "duration": 43,
    "start_time": "2022-03-13T12:00:49.617Z"
   },
   {
    "duration": 8,
    "start_time": "2022-03-13T12:00:49.662Z"
   },
   {
    "duration": 5,
    "start_time": "2022-03-13T12:00:49.673Z"
   },
   {
    "duration": 7,
    "start_time": "2022-03-13T12:00:49.680Z"
   },
   {
    "duration": 6,
    "start_time": "2022-03-13T12:00:49.689Z"
   },
   {
    "duration": 6,
    "start_time": "2022-03-13T12:00:49.697Z"
   },
   {
    "duration": 59,
    "start_time": "2022-03-13T12:00:49.704Z"
   },
   {
    "duration": 4,
    "start_time": "2022-03-13T12:00:49.765Z"
   },
   {
    "duration": 60,
    "start_time": "2022-03-13T12:00:49.770Z"
   },
   {
    "duration": -3023,
    "start_time": "2022-03-13T12:00:52.857Z"
   },
   {
    "duration": -3061,
    "start_time": "2022-03-13T12:00:52.896Z"
   },
   {
    "duration": -3068,
    "start_time": "2022-03-13T12:00:52.905Z"
   },
   {
    "duration": -3077,
    "start_time": "2022-03-13T12:00:52.915Z"
   },
   {
    "duration": -3081,
    "start_time": "2022-03-13T12:00:52.921Z"
   },
   {
    "duration": -3089,
    "start_time": "2022-03-13T12:00:52.930Z"
   },
   {
    "duration": -3092,
    "start_time": "2022-03-13T12:00:52.935Z"
   },
   {
    "duration": -3096,
    "start_time": "2022-03-13T12:00:52.941Z"
   },
   {
    "duration": -3101,
    "start_time": "2022-03-13T12:00:52.947Z"
   },
   {
    "duration": -3106,
    "start_time": "2022-03-13T12:00:52.954Z"
   },
   {
    "duration": -3110,
    "start_time": "2022-03-13T12:00:52.959Z"
   },
   {
    "duration": -3119,
    "start_time": "2022-03-13T12:00:52.970Z"
   },
   {
    "duration": -3123,
    "start_time": "2022-03-13T12:00:52.975Z"
   },
   {
    "duration": -3128,
    "start_time": "2022-03-13T12:00:52.982Z"
   },
   {
    "duration": -3128,
    "start_time": "2022-03-13T12:00:52.987Z"
   },
   {
    "duration": -3133,
    "start_time": "2022-03-13T12:00:52.993Z"
   },
   {
    "duration": -3147,
    "start_time": "2022-03-13T12:00:53.009Z"
   },
   {
    "duration": -3225,
    "start_time": "2022-03-13T12:00:53.088Z"
   },
   {
    "duration": -3345,
    "start_time": "2022-03-13T12:00:53.210Z"
   },
   {
    "duration": -3391,
    "start_time": "2022-03-13T12:00:53.257Z"
   },
   {
    "duration": -3395,
    "start_time": "2022-03-13T12:00:53.263Z"
   },
   {
    "duration": -3399,
    "start_time": "2022-03-13T12:00:53.268Z"
   },
   {
    "duration": -3402,
    "start_time": "2022-03-13T12:00:53.273Z"
   },
   {
    "duration": -3406,
    "start_time": "2022-03-13T12:00:53.278Z"
   },
   {
    "duration": -3411,
    "start_time": "2022-03-13T12:00:53.284Z"
   },
   {
    "duration": -3415,
    "start_time": "2022-03-13T12:00:53.289Z"
   },
   {
    "duration": -3419,
    "start_time": "2022-03-13T12:00:53.295Z"
   },
   {
    "duration": -3422,
    "start_time": "2022-03-13T12:00:53.299Z"
   },
   {
    "duration": -3426,
    "start_time": "2022-03-13T12:00:53.304Z"
   },
   {
    "duration": -3430,
    "start_time": "2022-03-13T12:00:53.309Z"
   },
   {
    "duration": -3435,
    "start_time": "2022-03-13T12:00:53.315Z"
   },
   {
    "duration": -3438,
    "start_time": "2022-03-13T12:00:53.319Z"
   },
   {
    "duration": -3442,
    "start_time": "2022-03-13T12:00:53.324Z"
   },
   {
    "duration": -3448,
    "start_time": "2022-03-13T12:00:53.331Z"
   },
   {
    "duration": -3451,
    "start_time": "2022-03-13T12:00:53.335Z"
   },
   {
    "duration": -3466,
    "start_time": "2022-03-13T12:00:53.351Z"
   },
   {
    "duration": -3471,
    "start_time": "2022-03-13T12:00:53.357Z"
   },
   {
    "duration": -3476,
    "start_time": "2022-03-13T12:00:53.363Z"
   },
   {
    "duration": -3508,
    "start_time": "2022-03-13T12:00:53.396Z"
   },
   {
    "duration": -3513,
    "start_time": "2022-03-13T12:00:53.402Z"
   },
   {
    "duration": -3517,
    "start_time": "2022-03-13T12:00:53.407Z"
   },
   {
    "duration": -3547,
    "start_time": "2022-03-13T12:00:53.437Z"
   },
   {
    "duration": -3571,
    "start_time": "2022-03-13T12:00:53.462Z"
   },
   {
    "duration": -3579,
    "start_time": "2022-03-13T12:00:53.471Z"
   },
   {
    "duration": -3583,
    "start_time": "2022-03-13T12:00:53.476Z"
   },
   {
    "duration": -3588,
    "start_time": "2022-03-13T12:00:53.482Z"
   },
   {
    "duration": -3593,
    "start_time": "2022-03-13T12:00:53.488Z"
   },
   {
    "duration": -3636,
    "start_time": "2022-03-13T12:00:53.532Z"
   },
   {
    "duration": -3641,
    "start_time": "2022-03-13T12:00:53.538Z"
   },
   {
    "duration": -3646,
    "start_time": "2022-03-13T12:00:53.544Z"
   },
   {
    "duration": -3650,
    "start_time": "2022-03-13T12:00:53.549Z"
   },
   {
    "duration": -3656,
    "start_time": "2022-03-13T12:00:53.555Z"
   },
   {
    "duration": -3627,
    "start_time": "2022-03-13T12:00:53.585Z"
   },
   {
    "duration": -3631,
    "start_time": "2022-03-13T12:00:53.591Z"
   },
   {
    "duration": -3636,
    "start_time": "2022-03-13T12:00:53.597Z"
   },
   {
    "duration": -3641,
    "start_time": "2022-03-13T12:00:53.602Z"
   },
   {
    "duration": -3678,
    "start_time": "2022-03-13T12:00:53.640Z"
   },
   {
    "duration": -3794,
    "start_time": "2022-03-13T12:00:53.757Z"
   },
   {
    "duration": -3805,
    "start_time": "2022-03-13T12:00:53.769Z"
   },
   {
    "duration": -3810,
    "start_time": "2022-03-13T12:00:53.776Z"
   },
   {
    "duration": -3817,
    "start_time": "2022-03-13T12:00:53.783Z"
   },
   {
    "duration": -3829,
    "start_time": "2022-03-13T12:00:53.799Z"
   },
   {
    "duration": 6,
    "start_time": "2022-03-13T12:00:49.971Z"
   },
   {
    "duration": 4,
    "start_time": "2022-03-13T12:00:49.979Z"
   },
   {
    "duration": 4,
    "start_time": "2022-03-13T12:00:49.985Z"
   },
   {
    "duration": 8,
    "start_time": "2022-03-13T12:00:49.991Z"
   },
   {
    "duration": 60,
    "start_time": "2022-03-13T12:00:50.000Z"
   },
   {
    "duration": 3,
    "start_time": "2022-03-13T12:00:50.062Z"
   },
   {
    "duration": 10,
    "start_time": "2022-03-13T12:00:50.066Z"
   },
   {
    "duration": 13,
    "start_time": "2022-03-13T12:11:33.131Z"
   },
   {
    "duration": 8,
    "start_time": "2022-03-13T12:11:33.646Z"
   },
   {
    "duration": 6,
    "start_time": "2022-03-13T12:11:50.983Z"
   },
   {
    "duration": 16,
    "start_time": "2022-03-13T12:11:51.511Z"
   },
   {
    "duration": 19,
    "start_time": "2022-03-13T12:11:52.558Z"
   },
   {
    "duration": 223,
    "start_time": "2022-03-13T12:11:57.232Z"
   },
   {
    "duration": 15,
    "start_time": "2022-03-13T12:11:58.469Z"
   },
   {
    "duration": 5,
    "start_time": "2022-03-13T12:12:00.908Z"
   },
   {
    "duration": 14,
    "start_time": "2022-03-13T12:12:02.032Z"
   },
   {
    "duration": 10,
    "start_time": "2022-03-13T12:12:03.214Z"
   },
   {
    "duration": 181,
    "start_time": "2022-03-13T12:12:22.933Z"
   },
   {
    "duration": 3,
    "start_time": "2022-03-13T12:12:35.204Z"
   },
   {
    "duration": 4,
    "start_time": "2022-03-13T12:12:35.209Z"
   },
   {
    "duration": 5,
    "start_time": "2022-03-13T12:12:35.214Z"
   },
   {
    "duration": 4,
    "start_time": "2022-03-13T12:12:35.220Z"
   },
   {
    "duration": 60,
    "start_time": "2022-03-13T12:12:35.226Z"
   },
   {
    "duration": 17,
    "start_time": "2022-03-13T12:12:35.288Z"
   },
   {
    "duration": 4,
    "start_time": "2022-03-13T12:12:35.307Z"
   },
   {
    "duration": 7,
    "start_time": "2022-03-13T12:12:35.313Z"
   },
   {
    "duration": 41,
    "start_time": "2022-03-13T12:12:35.322Z"
   },
   {
    "duration": 12,
    "start_time": "2022-03-13T12:12:35.366Z"
   },
   {
    "duration": 8,
    "start_time": "2022-03-13T12:12:35.380Z"
   },
   {
    "duration": 8,
    "start_time": "2022-03-13T12:12:35.390Z"
   },
   {
    "duration": 8,
    "start_time": "2022-03-13T12:12:35.399Z"
   },
   {
    "duration": 3,
    "start_time": "2022-03-13T12:12:35.410Z"
   },
   {
    "duration": 57,
    "start_time": "2022-03-13T12:12:35.415Z"
   },
   {
    "duration": 9,
    "start_time": "2022-03-13T12:12:35.476Z"
   },
   {
    "duration": 9,
    "start_time": "2022-03-13T12:12:35.486Z"
   },
   {
    "duration": 5,
    "start_time": "2022-03-13T12:12:35.496Z"
   },
   {
    "duration": 8,
    "start_time": "2022-03-13T12:12:35.503Z"
   },
   {
    "duration": 12,
    "start_time": "2022-03-13T12:12:35.512Z"
   },
   {
    "duration": 7,
    "start_time": "2022-03-13T12:12:35.561Z"
   },
   {
    "duration": 9,
    "start_time": "2022-03-13T12:12:35.571Z"
   },
   {
    "duration": 20,
    "start_time": "2022-03-13T12:12:35.582Z"
   },
   {
    "duration": 5,
    "start_time": "2022-03-13T12:12:35.603Z"
   },
   {
    "duration": 15,
    "start_time": "2022-03-13T12:12:35.609Z"
   },
   {
    "duration": 12,
    "start_time": "2022-03-13T12:12:35.663Z"
   },
   {
    "duration": 9,
    "start_time": "2022-03-13T12:12:35.677Z"
   },
   {
    "duration": 14,
    "start_time": "2022-03-13T12:12:35.688Z"
   },
   {
    "duration": 7,
    "start_time": "2022-03-13T12:12:35.703Z"
   },
   {
    "duration": 16,
    "start_time": "2022-03-13T12:12:35.712Z"
   },
   {
    "duration": 42,
    "start_time": "2022-03-13T12:12:35.729Z"
   },
   {
    "duration": 7,
    "start_time": "2022-03-13T12:12:35.774Z"
   },
   {
    "duration": 9,
    "start_time": "2022-03-13T12:12:35.782Z"
   },
   {
    "duration": 395,
    "start_time": "2022-03-13T12:12:35.793Z"
   },
   {
    "duration": 7,
    "start_time": "2022-03-13T12:12:36.194Z"
   },
   {
    "duration": 510,
    "start_time": "2022-03-13T12:12:36.203Z"
   },
   {
    "duration": 20,
    "start_time": "2022-03-13T12:12:36.715Z"
   },
   {
    "duration": 28,
    "start_time": "2022-03-13T12:12:36.737Z"
   },
   {
    "duration": 4,
    "start_time": "2022-03-13T12:12:36.767Z"
   },
   {
    "duration": 5,
    "start_time": "2022-03-13T12:12:36.772Z"
   },
   {
    "duration": 17,
    "start_time": "2022-03-13T12:12:36.778Z"
   },
   {
    "duration": 32,
    "start_time": "2022-03-13T12:12:36.796Z"
   },
   {
    "duration": 6,
    "start_time": "2022-03-13T12:12:36.830Z"
   },
   {
    "duration": 40,
    "start_time": "2022-03-13T12:12:36.837Z"
   },
   {
    "duration": 9,
    "start_time": "2022-03-13T12:12:36.878Z"
   },
   {
    "duration": 2,
    "start_time": "2022-03-13T12:12:36.889Z"
   },
   {
    "duration": 9,
    "start_time": "2022-03-13T12:12:36.893Z"
   },
   {
    "duration": 7,
    "start_time": "2022-03-13T12:12:36.904Z"
   },
   {
    "duration": 6,
    "start_time": "2022-03-13T12:12:36.913Z"
   },
   {
    "duration": 67,
    "start_time": "2022-03-13T12:12:36.922Z"
   },
   {
    "duration": 169,
    "start_time": "2022-03-13T12:12:36.992Z"
   },
   {
    "duration": 9,
    "start_time": "2022-03-13T12:12:37.167Z"
   },
   {
    "duration": 329,
    "start_time": "2022-03-13T12:12:37.178Z"
   },
   {
    "duration": 4,
    "start_time": "2022-03-13T12:12:37.509Z"
   },
   {
    "duration": 14,
    "start_time": "2022-03-13T12:12:37.515Z"
   },
   {
    "duration": 362,
    "start_time": "2022-03-13T12:12:37.531Z"
   },
   {
    "duration": 5,
    "start_time": "2022-03-13T12:12:37.895Z"
   },
   {
    "duration": 6,
    "start_time": "2022-03-13T12:12:37.902Z"
   },
   {
    "duration": 421,
    "start_time": "2022-03-13T12:12:37.909Z"
   },
   {
    "duration": 5,
    "start_time": "2022-03-13T12:12:38.332Z"
   },
   {
    "duration": 21,
    "start_time": "2022-03-13T12:12:38.339Z"
   },
   {
    "duration": 388,
    "start_time": "2022-03-13T12:12:38.362Z"
   },
   {
    "duration": 5,
    "start_time": "2022-03-13T12:12:38.751Z"
   },
   {
    "duration": 12,
    "start_time": "2022-03-13T12:12:38.758Z"
   },
   {
    "duration": 6,
    "start_time": "2022-03-13T12:12:38.772Z"
   },
   {
    "duration": 10,
    "start_time": "2022-03-13T12:12:38.779Z"
   },
   {
    "duration": 7,
    "start_time": "2022-03-13T12:12:38.790Z"
   },
   {
    "duration": 8,
    "start_time": "2022-03-13T12:12:38.799Z"
   },
   {
    "duration": 13,
    "start_time": "2022-03-13T12:12:38.809Z"
   },
   {
    "duration": 36,
    "start_time": "2022-03-13T12:12:38.824Z"
   },
   {
    "duration": 9,
    "start_time": "2022-03-13T12:12:38.862Z"
   },
   {
    "duration": 16,
    "start_time": "2022-03-13T12:12:38.873Z"
   },
   {
    "duration": 12,
    "start_time": "2022-03-13T12:12:38.890Z"
   },
   {
    "duration": 9,
    "start_time": "2022-03-13T12:12:38.903Z"
   },
   {
    "duration": 46,
    "start_time": "2022-03-13T12:12:38.914Z"
   },
   {
    "duration": 9,
    "start_time": "2022-03-13T12:12:38.962Z"
   },
   {
    "duration": 12,
    "start_time": "2022-03-13T12:12:38.972Z"
   },
   {
    "duration": 18,
    "start_time": "2022-03-13T12:12:38.986Z"
   },
   {
    "duration": 10,
    "start_time": "2022-03-13T12:12:39.006Z"
   },
   {
    "duration": 16,
    "start_time": "2022-03-13T12:12:39.018Z"
   },
   {
    "duration": 6,
    "start_time": "2022-03-13T12:12:39.036Z"
   },
   {
    "duration": 6,
    "start_time": "2022-03-13T12:12:39.044Z"
   },
   {
    "duration": 11,
    "start_time": "2022-03-13T12:12:39.052Z"
   },
   {
    "duration": 5,
    "start_time": "2022-03-13T12:12:39.065Z"
   },
   {
    "duration": 9,
    "start_time": "2022-03-13T12:12:39.072Z"
   },
   {
    "duration": 10,
    "start_time": "2022-03-13T12:12:39.082Z"
   },
   {
    "duration": 7,
    "start_time": "2022-03-13T12:12:39.093Z"
   },
   {
    "duration": 5,
    "start_time": "2022-03-13T12:12:39.102Z"
   },
   {
    "duration": 3,
    "start_time": "2022-03-13T12:12:39.109Z"
   },
   {
    "duration": 7,
    "start_time": "2022-03-13T12:12:39.114Z"
   },
   {
    "duration": 39,
    "start_time": "2022-03-13T12:12:39.122Z"
   },
   {
    "duration": 3,
    "start_time": "2022-03-13T12:12:39.162Z"
   },
   {
    "duration": 7,
    "start_time": "2022-03-13T12:12:39.168Z"
   },
   {
    "duration": 6,
    "start_time": "2022-03-13T12:27:54.479Z"
   },
   {
    "duration": 2,
    "start_time": "2022-03-13T12:39:50.451Z"
   },
   {
    "duration": 2,
    "start_time": "2022-03-13T12:39:50.459Z"
   },
   {
    "duration": 4,
    "start_time": "2022-03-13T12:39:50.466Z"
   },
   {
    "duration": 13,
    "start_time": "2022-03-13T12:39:50.472Z"
   },
   {
    "duration": 57,
    "start_time": "2022-03-13T12:39:50.487Z"
   },
   {
    "duration": 18,
    "start_time": "2022-03-13T12:39:50.546Z"
   },
   {
    "duration": 6,
    "start_time": "2022-03-13T12:39:50.566Z"
   },
   {
    "duration": 9,
    "start_time": "2022-03-13T12:39:50.575Z"
   },
   {
    "duration": 5,
    "start_time": "2022-03-13T12:39:50.586Z"
   },
   {
    "duration": 10,
    "start_time": "2022-03-13T12:39:50.593Z"
   },
   {
    "duration": 6,
    "start_time": "2022-03-13T12:39:50.605Z"
   },
   {
    "duration": 6,
    "start_time": "2022-03-13T12:39:50.613Z"
   },
   {
    "duration": 5,
    "start_time": "2022-03-13T12:39:50.660Z"
   },
   {
    "duration": 7,
    "start_time": "2022-03-13T12:39:50.667Z"
   },
   {
    "duration": 16,
    "start_time": "2022-03-13T12:39:50.675Z"
   },
   {
    "duration": 12,
    "start_time": "2022-03-13T12:39:50.694Z"
   },
   {
    "duration": 8,
    "start_time": "2022-03-13T12:39:50.708Z"
   },
   {
    "duration": 41,
    "start_time": "2022-03-13T12:39:50.718Z"
   },
   {
    "duration": 5,
    "start_time": "2022-03-13T12:39:50.761Z"
   },
   {
    "duration": 11,
    "start_time": "2022-03-13T12:39:50.767Z"
   },
   {
    "duration": 7,
    "start_time": "2022-03-13T12:39:50.779Z"
   },
   {
    "duration": 11,
    "start_time": "2022-03-13T12:39:50.787Z"
   },
   {
    "duration": 20,
    "start_time": "2022-03-13T12:39:50.800Z"
   },
   {
    "duration": 38,
    "start_time": "2022-03-13T12:39:50.823Z"
   },
   {
    "duration": 8,
    "start_time": "2022-03-13T12:39:50.863Z"
   },
   {
    "duration": 5,
    "start_time": "2022-03-13T12:39:50.873Z"
   },
   {
    "duration": 7,
    "start_time": "2022-03-13T12:39:50.880Z"
   },
   {
    "duration": 15,
    "start_time": "2022-03-13T12:39:50.889Z"
   },
   {
    "duration": 7,
    "start_time": "2022-03-13T12:39:50.906Z"
   },
   {
    "duration": 16,
    "start_time": "2022-03-13T12:39:50.959Z"
   },
   {
    "duration": 20,
    "start_time": "2022-03-13T12:39:50.976Z"
   },
   {
    "duration": 9,
    "start_time": "2022-03-13T12:39:50.997Z"
   },
   {
    "duration": 5,
    "start_time": "2022-03-13T12:39:51.008Z"
   },
   {
    "duration": 389,
    "start_time": "2022-03-13T12:39:51.014Z"
   },
   {
    "duration": 7,
    "start_time": "2022-03-13T12:39:51.405Z"
   },
   {
    "duration": 479,
    "start_time": "2022-03-13T12:39:51.414Z"
   },
   {
    "duration": 20,
    "start_time": "2022-03-13T12:39:51.895Z"
   },
   {
    "duration": 22,
    "start_time": "2022-03-13T12:39:51.917Z"
   },
   {
    "duration": 35,
    "start_time": "2022-03-13T12:39:51.942Z"
   },
   {
    "duration": 18,
    "start_time": "2022-03-13T12:39:51.982Z"
   },
   {
    "duration": 20,
    "start_time": "2022-03-13T12:39:52.002Z"
   },
   {
    "duration": 31,
    "start_time": "2022-03-13T12:39:52.024Z"
   },
   {
    "duration": 6,
    "start_time": "2022-03-13T12:39:52.057Z"
   },
   {
    "duration": 21,
    "start_time": "2022-03-13T12:39:52.064Z"
   },
   {
    "duration": 9,
    "start_time": "2022-03-13T12:39:52.086Z"
   },
   {
    "duration": 8,
    "start_time": "2022-03-13T12:39:52.096Z"
   },
   {
    "duration": 11,
    "start_time": "2022-03-13T12:39:52.105Z"
   },
   {
    "duration": 8,
    "start_time": "2022-03-13T12:39:52.118Z"
   },
   {
    "duration": 7,
    "start_time": "2022-03-13T12:39:52.128Z"
   },
   {
    "duration": 48,
    "start_time": "2022-03-13T12:39:52.137Z"
   },
   {
    "duration": 154,
    "start_time": "2022-03-13T12:39:52.186Z"
   },
   {
    "duration": 7,
    "start_time": "2022-03-13T12:39:52.342Z"
   },
   {
    "duration": 322,
    "start_time": "2022-03-13T12:39:52.359Z"
   },
   {
    "duration": 6,
    "start_time": "2022-03-13T12:39:52.684Z"
   },
   {
    "duration": 10,
    "start_time": "2022-03-13T12:39:52.692Z"
   },
   {
    "duration": 293,
    "start_time": "2022-03-13T12:39:52.703Z"
   },
   {
    "duration": 5,
    "start_time": "2022-03-13T12:39:52.998Z"
   },
   {
    "duration": 27,
    "start_time": "2022-03-13T12:39:53.005Z"
   },
   {
    "duration": 360,
    "start_time": "2022-03-13T12:39:53.034Z"
   },
   {
    "duration": 4,
    "start_time": "2022-03-13T12:39:53.396Z"
   },
   {
    "duration": 13,
    "start_time": "2022-03-13T12:39:53.402Z"
   },
   {
    "duration": 365,
    "start_time": "2022-03-13T12:39:53.417Z"
   },
   {
    "duration": 5,
    "start_time": "2022-03-13T12:39:53.784Z"
   },
   {
    "duration": 23,
    "start_time": "2022-03-13T12:39:53.790Z"
   },
   {
    "duration": 25,
    "start_time": "2022-03-13T12:39:53.814Z"
   },
   {
    "duration": 21,
    "start_time": "2022-03-13T12:39:53.841Z"
   },
   {
    "duration": 35,
    "start_time": "2022-03-13T12:39:53.864Z"
   },
   {
    "duration": 14,
    "start_time": "2022-03-13T12:39:53.901Z"
   },
   {
    "duration": 21,
    "start_time": "2022-03-13T12:39:53.917Z"
   },
   {
    "duration": 32,
    "start_time": "2022-03-13T12:39:53.940Z"
   },
   {
    "duration": 11,
    "start_time": "2022-03-13T12:39:53.974Z"
   },
   {
    "duration": 29,
    "start_time": "2022-03-13T12:39:53.987Z"
   },
   {
    "duration": 15,
    "start_time": "2022-03-13T12:39:54.018Z"
   },
   {
    "duration": 17,
    "start_time": "2022-03-13T12:39:54.035Z"
   },
   {
    "duration": 18,
    "start_time": "2022-03-13T12:39:54.054Z"
   },
   {
    "duration": 13,
    "start_time": "2022-03-13T12:39:54.074Z"
   },
   {
    "duration": 18,
    "start_time": "2022-03-13T12:39:54.089Z"
   },
   {
    "duration": 32,
    "start_time": "2022-03-13T12:39:54.109Z"
   },
   {
    "duration": 11,
    "start_time": "2022-03-13T12:39:54.143Z"
   },
   {
    "duration": 16,
    "start_time": "2022-03-13T12:39:54.156Z"
   },
   {
    "duration": 27,
    "start_time": "2022-03-13T12:39:54.174Z"
   },
   {
    "duration": 12,
    "start_time": "2022-03-13T12:39:54.202Z"
   },
   {
    "duration": 21,
    "start_time": "2022-03-13T12:39:54.216Z"
   },
   {
    "duration": 7,
    "start_time": "2022-03-13T12:39:54.239Z"
   },
   {
    "duration": 21,
    "start_time": "2022-03-13T12:39:54.247Z"
   },
   {
    "duration": 17,
    "start_time": "2022-03-13T12:39:54.269Z"
   },
   {
    "duration": 16,
    "start_time": "2022-03-13T12:39:54.288Z"
   },
   {
    "duration": 18,
    "start_time": "2022-03-13T12:39:54.306Z"
   },
   {
    "duration": 6,
    "start_time": "2022-03-13T12:39:54.326Z"
   },
   {
    "duration": 20,
    "start_time": "2022-03-13T12:39:54.334Z"
   },
   {
    "duration": 11,
    "start_time": "2022-03-13T12:39:54.355Z"
   },
   {
    "duration": 13,
    "start_time": "2022-03-13T12:39:54.368Z"
   },
   {
    "duration": 22,
    "start_time": "2022-03-13T12:39:54.382Z"
   },
   {
    "duration": 563,
    "start_time": "2022-03-22T18:34:04.391Z"
   },
   {
    "duration": 989,
    "start_time": "2022-03-22T18:34:04.957Z"
   },
   {
    "duration": 4,
    "start_time": "2022-03-22T18:34:05.948Z"
   },
   {
    "duration": 6,
    "start_time": "2022-03-22T18:34:05.956Z"
   },
   {
    "duration": 106,
    "start_time": "2022-03-22T18:34:05.964Z"
   },
   {
    "duration": 31,
    "start_time": "2022-03-22T18:34:06.072Z"
   },
   {
    "duration": 7,
    "start_time": "2022-03-22T18:34:06.106Z"
   },
   {
    "duration": 36,
    "start_time": "2022-03-22T18:34:06.115Z"
   },
   {
    "duration": 9,
    "start_time": "2022-03-22T18:34:06.153Z"
   },
   {
    "duration": 10,
    "start_time": "2022-03-22T18:34:06.167Z"
   },
   {
    "duration": 8,
    "start_time": "2022-03-22T18:34:06.179Z"
   },
   {
    "duration": 55,
    "start_time": "2022-03-22T18:34:06.189Z"
   },
   {
    "duration": 7,
    "start_time": "2022-03-22T18:34:06.247Z"
   },
   {
    "duration": 5,
    "start_time": "2022-03-22T18:34:06.257Z"
   },
   {
    "duration": 24,
    "start_time": "2022-03-22T18:34:06.264Z"
   },
   {
    "duration": 14,
    "start_time": "2022-03-22T18:34:06.290Z"
   },
   {
    "duration": 18,
    "start_time": "2022-03-22T18:34:06.342Z"
   },
   {
    "duration": 9,
    "start_time": "2022-03-22T18:34:06.362Z"
   },
   {
    "duration": 14,
    "start_time": "2022-03-22T18:34:06.374Z"
   },
   {
    "duration": 11,
    "start_time": "2022-03-22T18:34:06.391Z"
   },
   {
    "duration": 42,
    "start_time": "2022-03-22T18:34:06.405Z"
   },
   {
    "duration": 8,
    "start_time": "2022-03-22T18:34:06.450Z"
   },
   {
    "duration": 24,
    "start_time": "2022-03-22T18:34:06.460Z"
   },
   {
    "duration": 7,
    "start_time": "2022-03-22T18:34:06.487Z"
   },
   {
    "duration": 9,
    "start_time": "2022-03-22T18:34:06.544Z"
   },
   {
    "duration": 10,
    "start_time": "2022-03-22T18:34:06.555Z"
   },
   {
    "duration": 5,
    "start_time": "2022-03-22T18:34:06.567Z"
   },
   {
    "duration": 19,
    "start_time": "2022-03-22T18:34:06.580Z"
   },
   {
    "duration": 44,
    "start_time": "2022-03-22T18:34:06.601Z"
   },
   {
    "duration": 24,
    "start_time": "2022-03-22T18:34:06.648Z"
   },
   {
    "duration": 21,
    "start_time": "2022-03-22T18:34:06.674Z"
   },
   {
    "duration": 12,
    "start_time": "2022-03-22T18:34:06.697Z"
   },
   {
    "duration": 6,
    "start_time": "2022-03-22T18:34:06.742Z"
   },
   {
    "duration": 496,
    "start_time": "2022-03-22T18:34:06.750Z"
   },
   {
    "duration": 10,
    "start_time": "2022-03-22T18:34:07.248Z"
   },
   {
    "duration": 276,
    "start_time": "2022-03-22T18:34:07.261Z"
   },
   {
    "duration": 38,
    "start_time": "2022-03-22T18:34:07.540Z"
   },
   {
    "duration": 16,
    "start_time": "2022-03-22T18:34:07.581Z"
   },
   {
    "duration": 3,
    "start_time": "2022-03-22T18:34:07.599Z"
   },
   {
    "duration": 39,
    "start_time": "2022-03-22T18:34:07.604Z"
   },
   {
    "duration": 14,
    "start_time": "2022-03-22T18:34:07.645Z"
   },
   {
    "duration": 53,
    "start_time": "2022-03-22T18:34:07.661Z"
   },
   {
    "duration": 31,
    "start_time": "2022-03-22T18:34:07.716Z"
   },
   {
    "duration": 33,
    "start_time": "2022-03-22T18:34:07.749Z"
   },
   {
    "duration": 14,
    "start_time": "2022-03-22T18:34:07.784Z"
   },
   {
    "duration": 4,
    "start_time": "2022-03-22T18:34:07.800Z"
   },
   {
    "duration": 12,
    "start_time": "2022-03-22T18:34:07.843Z"
   },
   {
    "duration": 20,
    "start_time": "2022-03-22T18:34:07.857Z"
   },
   {
    "duration": 12,
    "start_time": "2022-03-22T18:34:07.880Z"
   },
   {
    "duration": 83,
    "start_time": "2022-03-22T18:34:07.895Z"
   },
   {
    "duration": 189,
    "start_time": "2022-03-22T18:34:07.981Z"
   },
   {
    "duration": 8,
    "start_time": "2022-03-22T18:34:08.173Z"
   },
   {
    "duration": 235,
    "start_time": "2022-03-22T18:34:08.184Z"
   },
   {
    "duration": 7,
    "start_time": "2022-03-22T18:34:08.421Z"
   },
   {
    "duration": 20,
    "start_time": "2022-03-22T18:34:08.430Z"
   },
   {
    "duration": 234,
    "start_time": "2022-03-22T18:34:08.452Z"
   },
   {
    "duration": 7,
    "start_time": "2022-03-22T18:34:08.688Z"
   },
   {
    "duration": 8,
    "start_time": "2022-03-22T18:34:08.698Z"
   },
   {
    "duration": 237,
    "start_time": "2022-03-22T18:34:08.708Z"
   },
   {
    "duration": 7,
    "start_time": "2022-03-22T18:34:08.947Z"
   },
   {
    "duration": 10,
    "start_time": "2022-03-22T18:34:08.956Z"
   },
   {
    "duration": 251,
    "start_time": "2022-03-22T18:34:08.968Z"
   },
   {
    "duration": 23,
    "start_time": "2022-03-22T18:34:09.221Z"
   },
   {
    "duration": 8,
    "start_time": "2022-03-22T18:34:09.246Z"
   },
   {
    "duration": 11,
    "start_time": "2022-03-22T18:34:09.256Z"
   },
   {
    "duration": 9,
    "start_time": "2022-03-22T18:34:09.269Z"
   },
   {
    "duration": 9,
    "start_time": "2022-03-22T18:34:09.280Z"
   },
   {
    "duration": 8,
    "start_time": "2022-03-22T18:34:09.291Z"
   },
   {
    "duration": 62,
    "start_time": "2022-03-22T18:34:09.301Z"
   },
   {
    "duration": 13,
    "start_time": "2022-03-22T18:34:09.366Z"
   },
   {
    "duration": 12,
    "start_time": "2022-03-22T18:34:09.381Z"
   },
   {
    "duration": 55,
    "start_time": "2022-03-22T18:34:09.395Z"
   },
   {
    "duration": 13,
    "start_time": "2022-03-22T18:34:09.452Z"
   },
   {
    "duration": 13,
    "start_time": "2022-03-22T18:34:09.467Z"
   },
   {
    "duration": 17,
    "start_time": "2022-03-22T18:34:09.482Z"
   },
   {
    "duration": 50,
    "start_time": "2022-03-22T18:34:09.501Z"
   },
   {
    "duration": 12,
    "start_time": "2022-03-22T18:34:09.554Z"
   },
   {
    "duration": 17,
    "start_time": "2022-03-22T18:34:09.568Z"
   },
   {
    "duration": 3,
    "start_time": "2022-03-22T18:34:09.587Z"
   },
   {
    "duration": 8,
    "start_time": "2022-03-22T18:34:09.592Z"
   },
   {
    "duration": 6,
    "start_time": "2022-03-22T18:34:09.642Z"
   },
   {
    "duration": 4,
    "start_time": "2022-03-22T18:34:09.656Z"
   },
   {
    "duration": 8,
    "start_time": "2022-03-22T18:34:09.662Z"
   },
   {
    "duration": 5,
    "start_time": "2022-03-22T18:34:09.672Z"
   },
   {
    "duration": 9,
    "start_time": "2022-03-22T18:34:09.679Z"
   },
   {
    "duration": 13,
    "start_time": "2022-03-22T18:34:09.690Z"
   },
   {
    "duration": 47,
    "start_time": "2022-03-22T18:34:09.705Z"
   },
   {
    "duration": 10,
    "start_time": "2022-03-22T18:34:09.755Z"
   },
   {
    "duration": 16,
    "start_time": "2022-03-22T18:34:09.767Z"
   },
   {
    "duration": 32,
    "start_time": "2022-03-22T18:34:09.790Z"
   },
   {
    "duration": 7,
    "start_time": "2022-03-22T18:34:09.824Z"
   },
   {
    "duration": 8,
    "start_time": "2022-03-22T18:34:09.833Z"
   },
   {
    "duration": 8,
    "start_time": "2022-03-22T18:34:09.843Z"
   },
   {
    "duration": 49,
    "start_time": "2022-03-22T19:48:59.163Z"
   },
   {
    "duration": 5,
    "start_time": "2022-03-23T16:12:11.734Z"
   },
   {
    "duration": 71,
    "start_time": "2022-03-23T16:12:13.405Z"
   },
   {
    "duration": 9,
    "start_time": "2022-03-23T16:12:37.251Z"
   },
   {
    "duration": 568,
    "start_time": "2022-03-23T16:12:40.815Z"
   },
   {
    "duration": 1443,
    "start_time": "2022-03-23T16:12:41.385Z"
   },
   {
    "duration": 4,
    "start_time": "2022-03-23T16:12:42.830Z"
   },
   {
    "duration": 3,
    "start_time": "2022-03-23T16:12:42.844Z"
   },
   {
    "duration": 94,
    "start_time": "2022-03-23T16:12:42.849Z"
   },
   {
    "duration": 30,
    "start_time": "2022-03-23T16:12:42.945Z"
   },
   {
    "duration": 6,
    "start_time": "2022-03-23T16:12:42.977Z"
   },
   {
    "duration": 10,
    "start_time": "2022-03-23T16:12:42.985Z"
   },
   {
    "duration": 46,
    "start_time": "2022-03-23T16:12:42.998Z"
   },
   {
    "duration": 9,
    "start_time": "2022-03-23T16:12:43.048Z"
   },
   {
    "duration": 8,
    "start_time": "2022-03-23T16:12:43.060Z"
   },
   {
    "duration": 14,
    "start_time": "2022-03-23T16:12:43.070Z"
   },
   {
    "duration": 9,
    "start_time": "2022-03-23T16:12:43.086Z"
   },
   {
    "duration": 6,
    "start_time": "2022-03-23T16:12:43.097Z"
   },
   {
    "duration": 21,
    "start_time": "2022-03-23T16:12:43.144Z"
   },
   {
    "duration": 16,
    "start_time": "2022-03-23T16:12:43.168Z"
   },
   {
    "duration": 21,
    "start_time": "2022-03-23T16:12:43.186Z"
   },
   {
    "duration": 36,
    "start_time": "2022-03-23T16:12:43.210Z"
   },
   {
    "duration": 11,
    "start_time": "2022-03-23T16:12:43.249Z"
   },
   {
    "duration": 8,
    "start_time": "2022-03-23T16:12:43.263Z"
   },
   {
    "duration": 8,
    "start_time": "2022-03-23T16:12:43.274Z"
   },
   {
    "duration": 7,
    "start_time": "2022-03-23T16:12:43.284Z"
   },
   {
    "duration": 68,
    "start_time": "2022-03-23T16:12:43.294Z"
   },
   {
    "duration": 7,
    "start_time": "2022-03-23T16:12:43.365Z"
   },
   {
    "duration": 5,
    "start_time": "2022-03-23T16:12:43.374Z"
   },
   {
    "duration": 10,
    "start_time": "2022-03-23T16:12:43.382Z"
   },
   {
    "duration": 48,
    "start_time": "2022-03-23T16:12:43.394Z"
   },
   {
    "duration": 5,
    "start_time": "2022-03-23T16:12:43.448Z"
   },
   {
    "duration": 23,
    "start_time": "2022-03-23T16:12:43.456Z"
   },
   {
    "duration": 9,
    "start_time": "2022-03-23T16:12:43.481Z"
   },
   {
    "duration": 52,
    "start_time": "2022-03-23T16:12:43.492Z"
   },
   {
    "duration": 20,
    "start_time": "2022-03-23T16:12:43.546Z"
   },
   {
    "duration": 13,
    "start_time": "2022-03-23T16:12:43.568Z"
   },
   {
    "duration": 6,
    "start_time": "2022-03-23T16:12:43.583Z"
   },
   {
    "duration": 507,
    "start_time": "2022-03-23T16:12:43.592Z"
   },
   {
    "duration": 10,
    "start_time": "2022-03-23T16:12:44.101Z"
   },
   {
    "duration": 265,
    "start_time": "2022-03-23T16:12:44.114Z"
   },
   {
    "duration": 39,
    "start_time": "2022-03-23T16:12:44.381Z"
   },
   {
    "duration": 35,
    "start_time": "2022-03-23T16:12:44.422Z"
   },
   {
    "duration": 3,
    "start_time": "2022-03-23T16:12:44.459Z"
   },
   {
    "duration": 5,
    "start_time": "2022-03-23T16:12:44.465Z"
   },
   {
    "duration": 12,
    "start_time": "2022-03-23T16:12:44.472Z"
   },
   {
    "duration": 90,
    "start_time": "2022-03-23T16:12:44.487Z"
   },
   {
    "duration": 8,
    "start_time": "2022-03-23T16:12:44.580Z"
   },
   {
    "duration": 33,
    "start_time": "2022-03-23T16:12:44.590Z"
   },
   {
    "duration": 14,
    "start_time": "2022-03-23T16:12:44.644Z"
   },
   {
    "duration": 3,
    "start_time": "2022-03-23T16:12:44.660Z"
   },
   {
    "duration": 11,
    "start_time": "2022-03-23T16:12:44.665Z"
   },
   {
    "duration": 18,
    "start_time": "2022-03-23T16:12:44.678Z"
   },
   {
    "duration": 49,
    "start_time": "2022-03-23T16:12:44.698Z"
   },
   {
    "duration": 43,
    "start_time": "2022-03-23T16:12:44.750Z"
   },
   {
    "duration": 180,
    "start_time": "2022-03-23T16:12:44.796Z"
   },
   {
    "duration": 8,
    "start_time": "2022-03-23T16:12:44.979Z"
   },
   {
    "duration": 233,
    "start_time": "2022-03-23T16:12:44.989Z"
   },
   {
    "duration": 19,
    "start_time": "2022-03-23T16:12:45.224Z"
   },
   {
    "duration": 9,
    "start_time": "2022-03-23T16:12:45.245Z"
   },
   {
    "duration": 245,
    "start_time": "2022-03-23T16:12:45.256Z"
   },
   {
    "duration": 8,
    "start_time": "2022-03-23T16:12:45.503Z"
   },
   {
    "duration": 29,
    "start_time": "2022-03-23T16:12:45.514Z"
   },
   {
    "duration": 227,
    "start_time": "2022-03-23T16:12:45.545Z"
   },
   {
    "duration": 9,
    "start_time": "2022-03-23T16:12:45.775Z"
   },
   {
    "duration": 24,
    "start_time": "2022-03-23T16:12:45.787Z"
   },
   {
    "duration": 225,
    "start_time": "2022-03-23T16:12:45.813Z"
   },
   {
    "duration": 7,
    "start_time": "2022-03-23T16:12:46.043Z"
   },
   {
    "duration": 30,
    "start_time": "2022-03-23T16:12:46.052Z"
   },
   {
    "duration": 29,
    "start_time": "2022-03-23T16:12:46.084Z"
   },
   {
    "duration": 23,
    "start_time": "2022-03-23T16:12:46.115Z"
   },
   {
    "duration": 36,
    "start_time": "2022-03-23T16:12:46.140Z"
   },
   {
    "duration": 13,
    "start_time": "2022-03-23T16:12:46.178Z"
   },
   {
    "duration": 36,
    "start_time": "2022-03-23T16:12:46.193Z"
   },
   {
    "duration": 30,
    "start_time": "2022-03-23T16:12:46.231Z"
   },
   {
    "duration": 16,
    "start_time": "2022-03-23T16:12:46.263Z"
   },
   {
    "duration": 18,
    "start_time": "2022-03-23T16:12:46.281Z"
   },
   {
    "duration": 20,
    "start_time": "2022-03-23T16:12:46.302Z"
   },
   {
    "duration": 25,
    "start_time": "2022-03-23T16:12:46.324Z"
   },
   {
    "duration": 17,
    "start_time": "2022-03-23T16:12:46.351Z"
   },
   {
    "duration": 16,
    "start_time": "2022-03-23T16:12:46.370Z"
   },
   {
    "duration": 17,
    "start_time": "2022-03-23T16:12:46.388Z"
   },
   {
    "duration": 46,
    "start_time": "2022-03-23T16:12:46.407Z"
   },
   {
    "duration": 3,
    "start_time": "2022-03-23T16:12:46.456Z"
   },
   {
    "duration": 27,
    "start_time": "2022-03-23T16:12:46.461Z"
   },
   {
    "duration": 6,
    "start_time": "2022-03-23T16:12:46.496Z"
   },
   {
    "duration": 13,
    "start_time": "2022-03-23T16:12:46.504Z"
   },
   {
    "duration": 11,
    "start_time": "2022-03-23T16:12:46.519Z"
   },
   {
    "duration": 15,
    "start_time": "2022-03-23T16:12:46.533Z"
   },
   {
    "duration": 18,
    "start_time": "2022-03-23T16:12:46.551Z"
   },
   {
    "duration": 15,
    "start_time": "2022-03-23T16:12:46.572Z"
   },
   {
    "duration": 16,
    "start_time": "2022-03-23T16:12:46.590Z"
   },
   {
    "duration": 6,
    "start_time": "2022-03-23T16:12:46.608Z"
   },
   {
    "duration": 12,
    "start_time": "2022-03-23T16:12:46.617Z"
   },
   {
    "duration": 19,
    "start_time": "2022-03-23T16:12:46.631Z"
   },
   {
    "duration": 11,
    "start_time": "2022-03-23T16:12:46.652Z"
   },
   {
    "duration": 11,
    "start_time": "2022-03-23T16:12:46.665Z"
   },
   {
    "duration": 17,
    "start_time": "2022-03-23T16:12:46.679Z"
   },
   {
    "duration": 6,
    "start_time": "2022-03-23T16:14:45.592Z"
   },
   {
    "duration": 5,
    "start_time": "2022-03-23T16:14:46.372Z"
   },
   {
    "duration": 6,
    "start_time": "2022-03-23T16:14:47.464Z"
   },
   {
    "duration": 6,
    "start_time": "2022-03-23T16:14:49.951Z"
   },
   {
    "duration": 4,
    "start_time": "2022-03-23T16:14:50.718Z"
   },
   {
    "duration": 22,
    "start_time": "2022-03-23T16:14:55.385Z"
   },
   {
    "duration": 7,
    "start_time": "2022-03-23T16:14:56.437Z"
   },
   {
    "duration": 3,
    "start_time": "2022-03-23T16:15:06.023Z"
   },
   {
    "duration": 10,
    "start_time": "2022-03-23T16:15:06.273Z"
   },
   {
    "duration": 7,
    "start_time": "2022-03-23T16:15:06.897Z"
   },
   {
    "duration": 31,
    "start_time": "2022-03-23T16:15:16.837Z"
   },
   {
    "duration": 7,
    "start_time": "2022-03-23T16:15:17.619Z"
   },
   {
    "duration": 3,
    "start_time": "2022-03-23T16:15:19.826Z"
   },
   {
    "duration": 10,
    "start_time": "2022-03-23T16:15:20.590Z"
   },
   {
    "duration": 9,
    "start_time": "2022-03-23T16:15:21.361Z"
   },
   {
    "duration": 5,
    "start_time": "2022-03-23T16:17:11.760Z"
   },
   {
    "duration": 32,
    "start_time": "2022-03-23T16:17:14.644Z"
   },
   {
    "duration": 7,
    "start_time": "2022-03-23T16:17:22.068Z"
   },
   {
    "duration": 22,
    "start_time": "2022-03-23T16:17:28.028Z"
   },
   {
    "duration": 24,
    "start_time": "2022-03-23T16:17:48.469Z"
   },
   {
    "duration": 23,
    "start_time": "2022-03-23T16:17:48.921Z"
   },
   {
    "duration": 12,
    "start_time": "2022-03-23T16:18:00.007Z"
   },
   {
    "duration": 766,
    "start_time": "2022-03-23T16:29:28.892Z"
   },
   {
    "duration": 473,
    "start_time": "2022-03-23T16:31:10.664Z"
   },
   {
    "duration": 540,
    "start_time": "2022-03-23T16:35:40.033Z"
   },
   {
    "duration": 71,
    "start_time": "2022-03-23T16:43:07.129Z"
   },
   {
    "duration": 10,
    "start_time": "2022-03-23T16:44:28.588Z"
   },
   {
    "duration": 41,
    "start_time": "2022-03-23T16:44:29.319Z"
   },
   {
    "duration": 16,
    "start_time": "2022-03-23T16:44:48.117Z"
   },
   {
    "duration": 14,
    "start_time": "2022-03-23T16:45:38.120Z"
   },
   {
    "duration": 4,
    "start_time": "2022-03-23T16:45:39.197Z"
   },
   {
    "duration": 10,
    "start_time": "2022-03-23T16:45:40.005Z"
   },
   {
    "duration": 17,
    "start_time": "2022-03-23T16:45:41.166Z"
   },
   {
    "duration": 6,
    "start_time": "2022-03-23T16:48:09.287Z"
   },
   {
    "duration": 8,
    "start_time": "2022-03-23T16:48:09.999Z"
   },
   {
    "duration": 17,
    "start_time": "2022-03-23T16:48:10.982Z"
   },
   {
    "duration": 17,
    "start_time": "2022-03-23T16:48:37.094Z"
   },
   {
    "duration": 10,
    "start_time": "2022-03-23T16:48:43.145Z"
   },
   {
    "duration": 44,
    "start_time": "2022-03-23T16:48:46.287Z"
   },
   {
    "duration": 212,
    "start_time": "2022-03-23T16:50:25.565Z"
   },
   {
    "duration": 10,
    "start_time": "2022-03-23T16:52:36.126Z"
   },
   {
    "duration": 9,
    "start_time": "2022-03-23T16:52:40.352Z"
   },
   {
    "duration": 18,
    "start_time": "2022-03-23T16:52:40.969Z"
   },
   {
    "duration": 10,
    "start_time": "2022-03-23T16:52:41.882Z"
   },
   {
    "duration": 34,
    "start_time": "2022-03-23T16:58:52.312Z"
   },
   {
    "duration": 338,
    "start_time": "2022-03-23T17:01:22.256Z"
   },
   {
    "duration": 285,
    "start_time": "2022-03-23T17:02:33.488Z"
   },
   {
    "duration": 353,
    "start_time": "2022-03-23T17:02:43.151Z"
   },
   {
    "duration": 489,
    "start_time": "2022-03-23T17:13:11.783Z"
   },
   {
    "duration": 576,
    "start_time": "2022-03-23T17:21:28.017Z"
   },
   {
    "duration": 565,
    "start_time": "2022-03-23T17:22:49.028Z"
   },
   {
    "duration": 559,
    "start_time": "2022-03-23T17:28:45.839Z"
   },
   {
    "duration": 371,
    "start_time": "2022-03-23T17:29:00.080Z"
   },
   {
    "duration": 9,
    "start_time": "2022-03-23T17:52:24.162Z"
   },
   {
    "duration": 222,
    "start_time": "2022-03-23T17:52:25.805Z"
   },
   {
    "duration": 8,
    "start_time": "2022-03-23T17:52:36.423Z"
   },
   {
    "duration": 245,
    "start_time": "2022-03-23T17:53:10.184Z"
   },
   {
    "duration": 9,
    "start_time": "2022-03-23T17:53:12.686Z"
   },
   {
    "duration": 227,
    "start_time": "2022-03-23T17:53:14.222Z"
   },
   {
    "duration": 7,
    "start_time": "2022-03-23T17:53:19.303Z"
   },
   {
    "duration": 8,
    "start_time": "2022-03-23T17:53:42.809Z"
   },
   {
    "duration": 187,
    "start_time": "2022-03-23T17:53:44.884Z"
   },
   {
    "duration": 7,
    "start_time": "2022-03-23T17:53:50.116Z"
   },
   {
    "duration": 8,
    "start_time": "2022-03-23T17:54:08.818Z"
   },
   {
    "duration": 203,
    "start_time": "2022-03-23T17:54:09.492Z"
   },
   {
    "duration": 7,
    "start_time": "2022-03-23T17:54:12.693Z"
   },
   {
    "duration": 2067,
    "start_time": "2022-03-23T18:03:51.256Z"
   },
   {
    "duration": 3,
    "start_time": "2022-03-23T18:05:23.094Z"
   },
   {
    "duration": 13,
    "start_time": "2022-03-23T18:05:23.100Z"
   },
   {
    "duration": 18,
    "start_time": "2022-03-23T18:05:23.115Z"
   },
   {
    "duration": 24,
    "start_time": "2022-03-23T18:05:23.135Z"
   },
   {
    "duration": 236,
    "start_time": "2022-03-23T18:05:23.162Z"
   },
   {
    "duration": 43,
    "start_time": "2022-03-23T18:05:23.401Z"
   },
   {
    "duration": 7,
    "start_time": "2022-03-23T18:05:23.446Z"
   },
   {
    "duration": 22,
    "start_time": "2022-03-23T18:05:23.455Z"
   },
   {
    "duration": 27,
    "start_time": "2022-03-23T18:05:23.479Z"
   },
   {
    "duration": 31,
    "start_time": "2022-03-23T18:05:23.508Z"
   },
   {
    "duration": 10,
    "start_time": "2022-03-23T18:05:23.541Z"
   },
   {
    "duration": 18,
    "start_time": "2022-03-23T18:05:23.553Z"
   },
   {
    "duration": 13,
    "start_time": "2022-03-23T18:05:23.573Z"
   },
   {
    "duration": 8,
    "start_time": "2022-03-23T18:05:23.591Z"
   },
   {
    "duration": 31,
    "start_time": "2022-03-23T18:05:23.601Z"
   },
   {
    "duration": 22,
    "start_time": "2022-03-23T18:05:23.642Z"
   },
   {
    "duration": 34,
    "start_time": "2022-03-23T18:05:23.666Z"
   },
   {
    "duration": 16,
    "start_time": "2022-03-23T18:05:23.702Z"
   },
   {
    "duration": 17,
    "start_time": "2022-03-23T18:05:23.720Z"
   },
   {
    "duration": 15,
    "start_time": "2022-03-23T18:05:23.739Z"
   },
   {
    "duration": 31,
    "start_time": "2022-03-23T18:05:23.757Z"
   },
   {
    "duration": 14,
    "start_time": "2022-03-23T18:05:23.791Z"
   },
   {
    "duration": 35,
    "start_time": "2022-03-23T18:05:23.808Z"
   },
   {
    "duration": 8,
    "start_time": "2022-03-23T18:05:23.846Z"
   },
   {
    "duration": 5,
    "start_time": "2022-03-23T18:05:23.857Z"
   },
   {
    "duration": 27,
    "start_time": "2022-03-23T18:05:23.864Z"
   },
   {
    "duration": 22,
    "start_time": "2022-03-23T18:05:23.893Z"
   },
   {
    "duration": 8,
    "start_time": "2022-03-23T18:05:23.917Z"
   },
   {
    "duration": 33,
    "start_time": "2022-03-23T18:05:23.928Z"
   },
   {
    "duration": 19,
    "start_time": "2022-03-23T18:05:23.963Z"
   },
   {
    "duration": 35,
    "start_time": "2022-03-23T18:05:23.989Z"
   },
   {
    "duration": 37,
    "start_time": "2022-03-23T18:05:24.027Z"
   },
   {
    "duration": 15,
    "start_time": "2022-03-23T18:05:24.066Z"
   },
   {
    "duration": 9,
    "start_time": "2022-03-23T18:05:24.084Z"
   },
   {
    "duration": 508,
    "start_time": "2022-03-23T18:05:24.096Z"
   },
   {
    "duration": 10,
    "start_time": "2022-03-23T18:05:24.606Z"
   },
   {
    "duration": 259,
    "start_time": "2022-03-23T18:05:24.618Z"
   },
   {
    "duration": 68,
    "start_time": "2022-03-23T18:05:24.880Z"
   },
   {
    "duration": 17,
    "start_time": "2022-03-23T18:05:24.950Z"
   },
   {
    "duration": 4,
    "start_time": "2022-03-23T18:05:24.970Z"
   },
   {
    "duration": 4,
    "start_time": "2022-03-23T18:05:24.982Z"
   },
   {
    "duration": 15,
    "start_time": "2022-03-23T18:05:24.988Z"
   },
   {
    "duration": 82,
    "start_time": "2022-03-23T18:05:25.005Z"
   },
   {
    "duration": 8,
    "start_time": "2022-03-23T18:05:25.089Z"
   },
   {
    "duration": 60,
    "start_time": "2022-03-23T18:05:25.099Z"
   },
   {
    "duration": 14,
    "start_time": "2022-03-23T18:05:25.162Z"
   },
   {
    "duration": 4,
    "start_time": "2022-03-23T18:05:25.179Z"
   },
   {
    "duration": 10,
    "start_time": "2022-03-23T18:05:25.185Z"
   },
   {
    "duration": 67,
    "start_time": "2022-03-23T18:05:25.197Z"
   },
   {
    "duration": 19,
    "start_time": "2022-03-23T18:05:25.267Z"
   },
   {
    "duration": 10,
    "start_time": "2022-03-23T18:05:25.288Z"
   },
   {
    "duration": 61,
    "start_time": "2022-03-23T18:05:25.300Z"
   },
   {
    "duration": 350,
    "start_time": "2022-03-23T18:05:25.363Z"
   },
   {
    "duration": 369,
    "start_time": "2022-03-23T18:05:25.715Z"
   },
   {
    "duration": 8,
    "start_time": "2022-03-23T18:05:26.087Z"
   },
   {
    "duration": 236,
    "start_time": "2022-03-23T18:05:26.097Z"
   },
   {
    "duration": 11,
    "start_time": "2022-03-23T18:05:26.335Z"
   },
   {
    "duration": 17,
    "start_time": "2022-03-23T18:05:26.348Z"
   },
   {
    "duration": 239,
    "start_time": "2022-03-23T18:05:26.367Z"
   },
   {
    "duration": 7,
    "start_time": "2022-03-23T18:05:26.608Z"
   },
   {
    "duration": 27,
    "start_time": "2022-03-23T18:05:26.617Z"
   },
   {
    "duration": 322,
    "start_time": "2022-03-23T18:05:26.646Z"
   },
   {
    "duration": 7,
    "start_time": "2022-03-23T18:05:26.970Z"
   },
   {
    "duration": 17,
    "start_time": "2022-03-23T18:05:26.979Z"
   },
   {
    "duration": 205,
    "start_time": "2022-03-23T18:05:26.998Z"
   },
   {
    "duration": 7,
    "start_time": "2022-03-23T18:05:27.207Z"
   },
   {
    "duration": 1954,
    "start_time": "2022-03-23T18:05:27.216Z"
   },
   {
    "duration": 9,
    "start_time": "2022-03-23T18:05:29.173Z"
   },
   {
    "duration": 15,
    "start_time": "2022-03-23T18:05:29.184Z"
   },
   {
    "duration": 9,
    "start_time": "2022-03-23T18:05:29.201Z"
   },
   {
    "duration": 40,
    "start_time": "2022-03-23T18:05:29.212Z"
   },
   {
    "duration": 9,
    "start_time": "2022-03-23T18:05:29.255Z"
   },
   {
    "duration": 21,
    "start_time": "2022-03-23T18:05:29.266Z"
   },
   {
    "duration": 12,
    "start_time": "2022-03-23T18:05:29.289Z"
   },
   {
    "duration": 12,
    "start_time": "2022-03-23T18:05:29.342Z"
   },
   {
    "duration": 16,
    "start_time": "2022-03-23T18:05:29.356Z"
   },
   {
    "duration": 11,
    "start_time": "2022-03-23T18:05:29.374Z"
   },
   {
    "duration": 11,
    "start_time": "2022-03-23T18:05:29.387Z"
   },
   {
    "duration": 54,
    "start_time": "2022-03-23T18:05:29.400Z"
   },
   {
    "duration": 14,
    "start_time": "2022-03-23T18:05:29.456Z"
   },
   {
    "duration": 11,
    "start_time": "2022-03-23T18:05:29.472Z"
   },
   {
    "duration": 18,
    "start_time": "2022-03-23T18:05:29.485Z"
   },
   {
    "duration": 40,
    "start_time": "2022-03-23T18:05:29.504Z"
   },
   {
    "duration": 9,
    "start_time": "2022-03-23T18:05:29.546Z"
   },
   {
    "duration": 6,
    "start_time": "2022-03-23T18:05:29.557Z"
   },
   {
    "duration": 6,
    "start_time": "2022-03-23T18:05:29.565Z"
   },
   {
    "duration": 9,
    "start_time": "2022-03-23T18:05:29.573Z"
   },
   {
    "duration": 5,
    "start_time": "2022-03-23T18:05:29.584Z"
   },
   {
    "duration": 6,
    "start_time": "2022-03-23T18:05:29.591Z"
   },
   {
    "duration": 7,
    "start_time": "2022-03-23T18:05:29.642Z"
   },
   {
    "duration": 10,
    "start_time": "2022-03-23T18:05:29.651Z"
   },
   {
    "duration": 7,
    "start_time": "2022-03-23T18:05:29.663Z"
   },
   {
    "duration": 5,
    "start_time": "2022-03-23T18:05:29.672Z"
   },
   {
    "duration": 9,
    "start_time": "2022-03-23T18:05:29.679Z"
   },
   {
    "duration": 7,
    "start_time": "2022-03-23T18:05:29.690Z"
   },
   {
    "duration": 45,
    "start_time": "2022-03-23T18:05:29.699Z"
   },
   {
    "duration": 13,
    "start_time": "2022-03-23T18:05:29.747Z"
   },
   {
    "duration": 1944,
    "start_time": "2022-03-23T18:06:36.299Z"
   },
   {
    "duration": 2078,
    "start_time": "2022-03-23T18:07:11.641Z"
   },
   {
    "duration": 1932,
    "start_time": "2022-03-23T18:08:46.635Z"
   },
   {
    "duration": 7,
    "start_time": "2022-03-23T18:12:52.597Z"
   },
   {
    "duration": 1893,
    "start_time": "2022-03-23T18:12:59.584Z"
   },
   {
    "duration": 2120,
    "start_time": "2022-03-23T18:13:24.913Z"
   },
   {
    "duration": 9,
    "start_time": "2022-03-23T18:15:16.997Z"
   },
   {
    "duration": 7,
    "start_time": "2022-03-23T18:20:39.416Z"
   },
   {
    "duration": 8,
    "start_time": "2022-03-23T18:20:40.808Z"
   },
   {
    "duration": 6,
    "start_time": "2022-03-23T18:20:50.252Z"
   },
   {
    "duration": 10,
    "start_time": "2022-03-23T18:20:53.440Z"
   },
   {
    "duration": 9,
    "start_time": "2022-03-23T18:22:36.797Z"
   },
   {
    "duration": 7,
    "start_time": "2022-03-23T18:25:05.300Z"
   },
   {
    "duration": 7,
    "start_time": "2022-03-23T18:25:07.916Z"
   },
   {
    "duration": 10,
    "start_time": "2022-03-23T18:25:21.001Z"
   },
   {
    "duration": 385,
    "start_time": "2022-03-23T18:26:26.894Z"
   },
   {
    "duration": 402,
    "start_time": "2022-03-23T18:27:53.646Z"
   },
   {
    "duration": 17,
    "start_time": "2022-03-23T18:29:10.209Z"
   },
   {
    "duration": 14,
    "start_time": "2022-03-23T18:29:25.502Z"
   },
   {
    "duration": 424,
    "start_time": "2022-03-23T18:33:09.622Z"
   },
   {
    "duration": 607,
    "start_time": "2022-03-23T18:33:24.161Z"
   },
   {
    "duration": 394,
    "start_time": "2022-03-23T18:34:14.584Z"
   },
   {
    "duration": 422,
    "start_time": "2022-03-23T18:34:38.203Z"
   },
   {
    "duration": 485,
    "start_time": "2022-03-23T18:34:46.616Z"
   },
   {
    "duration": 454,
    "start_time": "2022-03-23T18:35:17.491Z"
   },
   {
    "duration": 437,
    "start_time": "2022-03-23T18:35:33.792Z"
   },
   {
    "duration": 489,
    "start_time": "2022-03-23T18:35:42.795Z"
   },
   {
    "duration": 805,
    "start_time": "2022-03-23T18:36:42.187Z"
   },
   {
    "duration": 7,
    "start_time": "2022-03-23T18:39:03.273Z"
   },
   {
    "duration": 12,
    "start_time": "2022-03-23T18:39:13.565Z"
   },
   {
    "duration": 2053,
    "start_time": "2022-03-23T18:43:53.954Z"
   },
   {
    "duration": 203,
    "start_time": "2022-03-23T18:46:42.262Z"
   },
   {
    "duration": 1940,
    "start_time": "2022-03-23T18:46:46.988Z"
   },
   {
    "duration": 245,
    "start_time": "2022-03-23T18:58:25.742Z"
   },
   {
    "duration": 3,
    "start_time": "2022-03-23T19:01:22.539Z"
   },
   {
    "duration": 73,
    "start_time": "2022-03-24T09:26:53.575Z"
   },
   {
    "duration": 10,
    "start_time": "2022-03-24T09:27:03.155Z"
   },
   {
    "duration": 2246,
    "start_time": "2022-03-24T09:27:09.868Z"
   },
   {
    "duration": 102,
    "start_time": "2022-03-24T09:27:12.117Z"
   },
   {
    "duration": 44,
    "start_time": "2022-03-24T09:27:12.222Z"
   },
   {
    "duration": 9,
    "start_time": "2022-03-24T09:27:12.287Z"
   },
   {
    "duration": 14,
    "start_time": "2022-03-24T09:27:12.301Z"
   },
   {
    "duration": 12,
    "start_time": "2022-03-24T09:27:12.317Z"
   },
   {
    "duration": 17,
    "start_time": "2022-03-24T09:27:12.331Z"
   },
   {
    "duration": 41,
    "start_time": "2022-03-24T09:27:12.350Z"
   },
   {
    "duration": 15,
    "start_time": "2022-03-24T09:27:12.394Z"
   },
   {
    "duration": 9,
    "start_time": "2022-03-24T09:27:12.413Z"
   },
   {
    "duration": 11,
    "start_time": "2022-03-24T09:27:12.425Z"
   },
   {
    "duration": 54,
    "start_time": "2022-03-24T09:27:12.439Z"
   },
   {
    "duration": 16,
    "start_time": "2022-03-24T09:27:12.496Z"
   },
   {
    "duration": 17,
    "start_time": "2022-03-24T09:27:12.514Z"
   },
   {
    "duration": 9,
    "start_time": "2022-03-24T09:27:12.534Z"
   },
   {
    "duration": 41,
    "start_time": "2022-03-24T09:27:12.545Z"
   },
   {
    "duration": 11,
    "start_time": "2022-03-24T09:27:12.589Z"
   },
   {
    "duration": 11,
    "start_time": "2022-03-24T09:27:12.602Z"
   },
   {
    "duration": 14,
    "start_time": "2022-03-24T09:27:12.615Z"
   },
   {
    "duration": 71,
    "start_time": "2022-03-24T09:27:12.632Z"
   },
   {
    "duration": 8,
    "start_time": "2022-03-24T09:27:12.706Z"
   },
   {
    "duration": 15,
    "start_time": "2022-03-24T09:27:12.717Z"
   },
   {
    "duration": 13,
    "start_time": "2022-03-24T09:27:12.735Z"
   },
   {
    "duration": 36,
    "start_time": "2022-03-24T09:27:12.751Z"
   },
   {
    "duration": 6,
    "start_time": "2022-03-24T09:27:12.790Z"
   },
   {
    "duration": 28,
    "start_time": "2022-03-24T09:27:12.799Z"
   },
   {
    "duration": 10,
    "start_time": "2022-03-24T09:27:12.830Z"
   },
   {
    "duration": 62,
    "start_time": "2022-03-24T09:27:12.850Z"
   },
   {
    "duration": 31,
    "start_time": "2022-03-24T09:27:12.915Z"
   },
   {
    "duration": 46,
    "start_time": "2022-03-24T09:27:12.948Z"
   },
   {
    "duration": 8,
    "start_time": "2022-03-24T09:27:12.997Z"
   },
   {
    "duration": 717,
    "start_time": "2022-03-24T09:27:13.008Z"
   },
   {
    "duration": 12,
    "start_time": "2022-03-24T09:27:13.728Z"
   },
   {
    "duration": 285,
    "start_time": "2022-03-24T09:27:13.743Z"
   },
   {
    "duration": 86,
    "start_time": "2022-03-24T09:27:14.031Z"
   },
   {
    "duration": 19,
    "start_time": "2022-03-24T09:27:14.126Z"
   },
   {
    "duration": 4,
    "start_time": "2022-03-24T09:27:14.147Z"
   },
   {
    "duration": 8,
    "start_time": "2022-03-24T09:27:14.153Z"
   },
   {
    "duration": 23,
    "start_time": "2022-03-24T09:27:14.163Z"
   },
   {
    "duration": 52,
    "start_time": "2022-03-24T09:27:14.189Z"
   },
   {
    "duration": 8,
    "start_time": "2022-03-24T09:27:14.243Z"
   },
   {
    "duration": 61,
    "start_time": "2022-03-24T09:27:14.253Z"
   },
   {
    "duration": 17,
    "start_time": "2022-03-24T09:27:14.316Z"
   },
   {
    "duration": 4,
    "start_time": "2022-03-24T09:27:14.337Z"
   },
   {
    "duration": 44,
    "start_time": "2022-03-24T09:27:14.344Z"
   },
   {
    "duration": 47,
    "start_time": "2022-03-24T09:27:14.391Z"
   },
   {
    "duration": 42,
    "start_time": "2022-03-24T09:27:14.441Z"
   },
   {
    "duration": 10,
    "start_time": "2022-03-24T09:27:14.486Z"
   },
   {
    "duration": 32,
    "start_time": "2022-03-24T09:27:14.498Z"
   },
   {
    "duration": 389,
    "start_time": "2022-03-24T09:27:14.532Z"
   },
   {
    "duration": 399,
    "start_time": "2022-03-24T09:27:14.924Z"
   },
   {
    "duration": 10,
    "start_time": "2022-03-24T09:27:15.326Z"
   },
   {
    "duration": 245,
    "start_time": "2022-03-24T09:27:15.338Z"
   },
   {
    "duration": 9,
    "start_time": "2022-03-24T09:27:15.587Z"
   },
   {
    "duration": 15,
    "start_time": "2022-03-24T09:27:15.598Z"
   },
   {
    "duration": 328,
    "start_time": "2022-03-24T09:27:15.615Z"
   },
   {
    "duration": 9,
    "start_time": "2022-03-24T09:27:15.946Z"
   },
   {
    "duration": 26,
    "start_time": "2022-03-24T09:27:15.958Z"
   },
   {
    "duration": 323,
    "start_time": "2022-03-24T09:27:15.986Z"
   },
   {
    "duration": 7,
    "start_time": "2022-03-24T09:27:16.313Z"
   },
   {
    "duration": 14,
    "start_time": "2022-03-24T09:27:16.323Z"
   },
   {
    "duration": 223,
    "start_time": "2022-03-24T09:27:16.339Z"
   },
   {
    "duration": 20,
    "start_time": "2022-03-24T09:27:16.565Z"
   },
   {
    "duration": 2390,
    "start_time": "2022-03-24T09:27:16.588Z"
   },
   {
    "duration": 7,
    "start_time": "2022-03-24T09:27:18.984Z"
   },
   {
    "duration": 16,
    "start_time": "2022-03-24T09:27:18.993Z"
   },
   {
    "duration": 9,
    "start_time": "2022-03-24T09:27:19.011Z"
   },
   {
    "duration": 15,
    "start_time": "2022-03-24T09:27:19.023Z"
   },
   {
    "duration": 45,
    "start_time": "2022-03-24T09:27:19.041Z"
   },
   {
    "duration": 10,
    "start_time": "2022-03-24T09:27:19.089Z"
   },
   {
    "duration": 22,
    "start_time": "2022-03-24T09:27:19.102Z"
   },
   {
    "duration": 545,
    "start_time": "2022-03-24T09:27:19.127Z"
   },
   {
    "duration": 30,
    "start_time": "2022-03-24T09:27:19.674Z"
   },
   {
    "duration": 17,
    "start_time": "2022-03-24T09:27:19.706Z"
   },
   {
    "duration": 27,
    "start_time": "2022-03-24T09:27:19.725Z"
   },
   {
    "duration": 41,
    "start_time": "2022-03-24T09:27:19.755Z"
   },
   {
    "duration": 22,
    "start_time": "2022-03-24T09:27:19.799Z"
   },
   {
    "duration": 35,
    "start_time": "2022-03-24T09:27:19.824Z"
   },
   {
    "duration": 32,
    "start_time": "2022-03-24T09:27:19.862Z"
   },
   {
    "duration": 14,
    "start_time": "2022-03-24T09:27:19.896Z"
   },
   {
    "duration": 19,
    "start_time": "2022-03-24T09:27:19.912Z"
   },
   {
    "duration": 46,
    "start_time": "2022-03-24T09:27:19.939Z"
   },
   {
    "duration": 5,
    "start_time": "2022-03-24T09:27:19.988Z"
   },
   {
    "duration": 26,
    "start_time": "2022-03-24T09:27:19.995Z"
   },
   {
    "duration": 11,
    "start_time": "2022-03-24T09:27:20.024Z"
   },
   {
    "duration": 18,
    "start_time": "2022-03-24T09:27:20.039Z"
   },
   {
    "duration": 27,
    "start_time": "2022-03-24T09:27:20.060Z"
   },
   {
    "duration": 12,
    "start_time": "2022-03-24T09:27:20.090Z"
   },
   {
    "duration": 7,
    "start_time": "2022-03-24T09:27:20.105Z"
   },
   {
    "duration": 13,
    "start_time": "2022-03-24T09:27:20.114Z"
   },
   {
    "duration": 25,
    "start_time": "2022-03-24T09:27:20.131Z"
   },
   {
    "duration": 28,
    "start_time": "2022-03-24T09:27:20.161Z"
   },
   {
    "duration": 12,
    "start_time": "2022-03-24T09:27:20.192Z"
   },
   {
    "duration": 15,
    "start_time": "2022-03-24T09:27:20.207Z"
   },
   {
    "duration": 9,
    "start_time": "2022-03-24T09:27:20.225Z"
   },
   {
    "duration": 7,
    "start_time": "2022-03-24T09:27:20.237Z"
   },
   {
    "duration": 39,
    "start_time": "2022-03-24T09:27:20.246Z"
   },
   {
    "duration": 2485,
    "start_time": "2022-03-24T09:28:01.614Z"
   },
   {
    "duration": 2353,
    "start_time": "2022-03-24T09:28:37.237Z"
   },
   {
    "duration": 2421,
    "start_time": "2022-03-24T09:55:28.284Z"
   },
   {
    "duration": 3110,
    "start_time": "2022-03-24T09:55:55.949Z"
   },
   {
    "duration": 139,
    "start_time": "2022-03-24T09:56:32.685Z"
   },
   {
    "duration": 2665,
    "start_time": "2022-03-24T09:57:03.605Z"
   },
   {
    "duration": 149,
    "start_time": "2022-03-24T16:32:31.555Z"
   },
   {
    "duration": 1327,
    "start_time": "2022-03-24T16:32:50.426Z"
   },
   {
    "duration": 52,
    "start_time": "2022-03-24T16:32:51.754Z"
   },
   {
    "duration": 20,
    "start_time": "2022-03-24T16:32:51.807Z"
   },
   {
    "duration": 4,
    "start_time": "2022-03-24T16:32:51.829Z"
   },
   {
    "duration": 8,
    "start_time": "2022-03-24T16:32:51.834Z"
   },
   {
    "duration": 22,
    "start_time": "2022-03-24T16:32:51.843Z"
   },
   {
    "duration": 7,
    "start_time": "2022-03-24T16:32:51.867Z"
   },
   {
    "duration": 6,
    "start_time": "2022-03-24T16:32:51.876Z"
   },
   {
    "duration": 8,
    "start_time": "2022-03-24T16:32:51.883Z"
   },
   {
    "duration": 5,
    "start_time": "2022-03-24T16:32:51.893Z"
   },
   {
    "duration": 6,
    "start_time": "2022-03-24T16:32:51.899Z"
   },
   {
    "duration": 15,
    "start_time": "2022-03-24T16:32:51.906Z"
   },
   {
    "duration": 9,
    "start_time": "2022-03-24T16:32:51.922Z"
   },
   {
    "duration": 9,
    "start_time": "2022-03-24T16:32:51.964Z"
   },
   {
    "duration": 6,
    "start_time": "2022-03-24T16:32:51.975Z"
   },
   {
    "duration": 7,
    "start_time": "2022-03-24T16:32:51.982Z"
   },
   {
    "duration": 7,
    "start_time": "2022-03-24T16:32:51.990Z"
   },
   {
    "duration": 6,
    "start_time": "2022-03-24T16:32:51.998Z"
   },
   {
    "duration": 5,
    "start_time": "2022-03-24T16:32:52.006Z"
   },
   {
    "duration": 17,
    "start_time": "2022-03-24T16:32:52.012Z"
   },
   {
    "duration": 6,
    "start_time": "2022-03-24T16:32:52.063Z"
   },
   {
    "duration": 3,
    "start_time": "2022-03-24T16:32:52.071Z"
   },
   {
    "duration": 8,
    "start_time": "2022-03-24T16:32:52.076Z"
   },
   {
    "duration": 5,
    "start_time": "2022-03-24T16:32:52.086Z"
   },
   {
    "duration": 4,
    "start_time": "2022-03-24T16:32:52.093Z"
   },
   {
    "duration": 14,
    "start_time": "2022-03-24T16:32:52.099Z"
   },
   {
    "duration": 8,
    "start_time": "2022-03-24T16:32:52.115Z"
   },
   {
    "duration": 14,
    "start_time": "2022-03-24T16:32:52.165Z"
   },
   {
    "duration": 21,
    "start_time": "2022-03-24T16:32:52.181Z"
   },
   {
    "duration": 9,
    "start_time": "2022-03-24T16:32:52.203Z"
   },
   {
    "duration": 5,
    "start_time": "2022-03-24T16:32:52.213Z"
   },
   {
    "duration": 278,
    "start_time": "2022-03-24T16:32:52.219Z"
   },
   {
    "duration": 7,
    "start_time": "2022-03-24T16:32:52.499Z"
   },
   {
    "duration": 155,
    "start_time": "2022-03-24T16:32:52.507Z"
   },
   {
    "duration": 24,
    "start_time": "2022-03-24T16:32:52.664Z"
   },
   {
    "duration": 18,
    "start_time": "2022-03-24T16:32:52.690Z"
   },
   {
    "duration": 2,
    "start_time": "2022-03-24T16:32:52.709Z"
   },
   {
    "duration": 4,
    "start_time": "2022-03-24T16:32:52.713Z"
   },
   {
    "duration": 11,
    "start_time": "2022-03-24T16:32:52.719Z"
   },
   {
    "duration": 54,
    "start_time": "2022-03-24T16:32:52.731Z"
   },
   {
    "duration": 5,
    "start_time": "2022-03-24T16:32:52.787Z"
   },
   {
    "duration": 22,
    "start_time": "2022-03-24T16:32:52.793Z"
   },
   {
    "duration": 10,
    "start_time": "2022-03-24T16:32:52.816Z"
   },
   {
    "duration": 3,
    "start_time": "2022-03-24T16:32:52.828Z"
   },
   {
    "duration": 32,
    "start_time": "2022-03-24T16:32:52.833Z"
   },
   {
    "duration": 21,
    "start_time": "2022-03-24T16:32:52.867Z"
   },
   {
    "duration": 11,
    "start_time": "2022-03-24T16:32:52.890Z"
   },
   {
    "duration": 6,
    "start_time": "2022-03-24T16:32:52.903Z"
   },
   {
    "duration": 19,
    "start_time": "2022-03-24T16:32:52.911Z"
   },
   {
    "duration": 197,
    "start_time": "2022-03-24T16:32:52.963Z"
   },
   {
    "duration": 209,
    "start_time": "2022-03-24T16:32:53.162Z"
   },
   {
    "duration": 5,
    "start_time": "2022-03-24T16:32:53.373Z"
   },
   {
    "duration": 134,
    "start_time": "2022-03-24T16:32:53.380Z"
   },
   {
    "duration": 5,
    "start_time": "2022-03-24T16:32:53.517Z"
   },
   {
    "duration": 9,
    "start_time": "2022-03-24T16:32:53.524Z"
   },
   {
    "duration": 145,
    "start_time": "2022-03-24T16:32:53.535Z"
   },
   {
    "duration": 5,
    "start_time": "2022-03-24T16:32:53.682Z"
   },
   {
    "duration": 7,
    "start_time": "2022-03-24T16:32:53.688Z"
   },
   {
    "duration": 209,
    "start_time": "2022-03-24T16:32:53.697Z"
   },
   {
    "duration": 6,
    "start_time": "2022-03-24T16:32:53.908Z"
   },
   {
    "duration": 7,
    "start_time": "2022-03-24T16:32:53.915Z"
   },
   {
    "duration": 134,
    "start_time": "2022-03-24T16:32:53.924Z"
   },
   {
    "duration": 6,
    "start_time": "2022-03-24T16:32:54.063Z"
   },
   {
    "duration": 1292,
    "start_time": "2022-03-24T16:32:54.071Z"
   },
   {
    "duration": 151,
    "start_time": "2022-03-24T16:32:55.364Z"
   },
   {
    "duration": 0,
    "start_time": "2022-03-24T16:32:55.517Z"
   },
   {
    "duration": 0,
    "start_time": "2022-03-24T16:32:55.518Z"
   },
   {
    "duration": 0,
    "start_time": "2022-03-24T16:32:55.519Z"
   },
   {
    "duration": 0,
    "start_time": "2022-03-24T16:32:55.520Z"
   },
   {
    "duration": 0,
    "start_time": "2022-03-24T16:32:55.521Z"
   },
   {
    "duration": 0,
    "start_time": "2022-03-24T16:32:55.522Z"
   },
   {
    "duration": 0,
    "start_time": "2022-03-24T16:32:55.523Z"
   },
   {
    "duration": 0,
    "start_time": "2022-03-24T16:32:55.524Z"
   },
   {
    "duration": 0,
    "start_time": "2022-03-24T16:32:55.525Z"
   },
   {
    "duration": 0,
    "start_time": "2022-03-24T16:32:55.526Z"
   },
   {
    "duration": 0,
    "start_time": "2022-03-24T16:32:55.527Z"
   },
   {
    "duration": 0,
    "start_time": "2022-03-24T16:32:55.528Z"
   },
   {
    "duration": 0,
    "start_time": "2022-03-24T16:32:55.528Z"
   },
   {
    "duration": 0,
    "start_time": "2022-03-24T16:32:55.529Z"
   },
   {
    "duration": 0,
    "start_time": "2022-03-24T16:32:55.530Z"
   },
   {
    "duration": 0,
    "start_time": "2022-03-24T16:32:55.531Z"
   },
   {
    "duration": 0,
    "start_time": "2022-03-24T16:32:55.532Z"
   },
   {
    "duration": 0,
    "start_time": "2022-03-24T16:32:55.533Z"
   },
   {
    "duration": 0,
    "start_time": "2022-03-24T16:32:55.534Z"
   },
   {
    "duration": 0,
    "start_time": "2022-03-24T16:32:55.535Z"
   },
   {
    "duration": 0,
    "start_time": "2022-03-24T16:32:55.536Z"
   },
   {
    "duration": 0,
    "start_time": "2022-03-24T16:32:55.537Z"
   },
   {
    "duration": 0,
    "start_time": "2022-03-24T16:32:55.538Z"
   },
   {
    "duration": 0,
    "start_time": "2022-03-24T16:32:55.539Z"
   },
   {
    "duration": 0,
    "start_time": "2022-03-24T16:32:55.540Z"
   },
   {
    "duration": 0,
    "start_time": "2022-03-24T16:32:55.540Z"
   },
   {
    "duration": 0,
    "start_time": "2022-03-24T16:32:55.542Z"
   },
   {
    "duration": 0,
    "start_time": "2022-03-24T16:32:55.542Z"
   },
   {
    "duration": 0,
    "start_time": "2022-03-24T16:32:55.543Z"
   },
   {
    "duration": 0,
    "start_time": "2022-03-24T16:32:55.544Z"
   },
   {
    "duration": 0,
    "start_time": "2022-03-24T16:32:55.546Z"
   },
   {
    "duration": 0,
    "start_time": "2022-03-24T16:32:55.547Z"
   },
   {
    "duration": 0,
    "start_time": "2022-03-24T16:32:55.547Z"
   },
   {
    "duration": 1418,
    "start_time": "2022-03-24T16:51:40.208Z"
   },
   {
    "duration": 6,
    "start_time": "2022-03-24T16:56:24.074Z"
   },
   {
    "duration": 9,
    "start_time": "2022-03-24T16:56:25.044Z"
   },
   {
    "duration": 277,
    "start_time": "2022-03-24T16:56:26.115Z"
   },
   {
    "duration": 6,
    "start_time": "2022-03-24T16:57:46.191Z"
   },
   {
    "duration": 7,
    "start_time": "2022-03-24T16:57:46.993Z"
   },
   {
    "duration": 6,
    "start_time": "2022-03-24T16:57:53.613Z"
   },
   {
    "duration": 7,
    "start_time": "2022-03-24T16:57:55.944Z"
   },
   {
    "duration": 8,
    "start_time": "2022-03-24T16:58:17.695Z"
   },
   {
    "duration": 6,
    "start_time": "2022-03-24T16:58:27.530Z"
   },
   {
    "duration": 6,
    "start_time": "2022-03-24T16:58:33.255Z"
   },
   {
    "duration": 8,
    "start_time": "2022-03-24T16:58:34.507Z"
   },
   {
    "duration": 10,
    "start_time": "2022-03-24T17:18:30.180Z"
   },
   {
    "duration": 9,
    "start_time": "2022-03-24T17:18:30.977Z"
   },
   {
    "duration": 12,
    "start_time": "2022-03-24T17:18:32.707Z"
   },
   {
    "duration": 9,
    "start_time": "2022-03-24T17:18:36.768Z"
   },
   {
    "duration": 11,
    "start_time": "2022-03-24T17:18:37.820Z"
   },
   {
    "duration": 11,
    "start_time": "2022-03-24T17:18:39.276Z"
   },
   {
    "duration": 9,
    "start_time": "2022-03-24T17:19:07.141Z"
   },
   {
    "duration": 9,
    "start_time": "2022-03-24T17:19:08.323Z"
   },
   {
    "duration": 14,
    "start_time": "2022-03-24T17:19:12.663Z"
   },
   {
    "duration": 9,
    "start_time": "2022-03-24T17:20:22.135Z"
   },
   {
    "duration": 151,
    "start_time": "2022-03-24T17:24:36.497Z"
   },
   {
    "duration": 15,
    "start_time": "2022-03-24T17:29:25.060Z"
   },
   {
    "duration": 3,
    "start_time": "2022-03-24T17:29:56.548Z"
   },
   {
    "duration": 81,
    "start_time": "2022-03-24T17:29:56.553Z"
   },
   {
    "duration": 20,
    "start_time": "2022-03-24T17:29:56.636Z"
   },
   {
    "duration": 24,
    "start_time": "2022-03-24T17:29:56.658Z"
   },
   {
    "duration": 49,
    "start_time": "2022-03-24T17:29:56.684Z"
   },
   {
    "duration": 51,
    "start_time": "2022-03-24T17:29:56.736Z"
   },
   {
    "duration": 33,
    "start_time": "2022-03-24T17:29:56.789Z"
   },
   {
    "duration": 42,
    "start_time": "2022-03-24T17:29:56.823Z"
   },
   {
    "duration": 54,
    "start_time": "2022-03-24T17:29:56.866Z"
   },
   {
    "duration": 52,
    "start_time": "2022-03-24T17:29:56.922Z"
   },
   {
    "duration": 28,
    "start_time": "2022-03-24T17:29:56.976Z"
   },
   {
    "duration": 42,
    "start_time": "2022-03-24T17:29:57.006Z"
   },
   {
    "duration": 27,
    "start_time": "2022-03-24T17:29:57.049Z"
   },
   {
    "duration": 17,
    "start_time": "2022-03-24T17:29:57.079Z"
   },
   {
    "duration": 29,
    "start_time": "2022-03-24T17:29:57.097Z"
   },
   {
    "duration": 37,
    "start_time": "2022-03-24T17:29:57.128Z"
   },
   {
    "duration": 29,
    "start_time": "2022-03-24T17:29:57.167Z"
   },
   {
    "duration": 28,
    "start_time": "2022-03-24T17:29:57.198Z"
   },
   {
    "duration": 36,
    "start_time": "2022-03-24T17:29:57.227Z"
   },
   {
    "duration": 23,
    "start_time": "2022-03-24T17:29:57.265Z"
   },
   {
    "duration": 25,
    "start_time": "2022-03-24T17:29:57.289Z"
   },
   {
    "duration": 14,
    "start_time": "2022-03-24T17:29:57.316Z"
   },
   {
    "duration": 38,
    "start_time": "2022-03-24T17:29:57.332Z"
   },
   {
    "duration": 39,
    "start_time": "2022-03-24T17:29:57.371Z"
   },
   {
    "duration": 40,
    "start_time": "2022-03-24T17:29:57.412Z"
   },
   {
    "duration": 30,
    "start_time": "2022-03-24T17:29:57.453Z"
   },
   {
    "duration": 39,
    "start_time": "2022-03-24T17:29:57.485Z"
   },
   {
    "duration": 61,
    "start_time": "2022-03-24T17:29:57.525Z"
   },
   {
    "duration": 47,
    "start_time": "2022-03-24T17:29:57.588Z"
   },
   {
    "duration": 10,
    "start_time": "2022-03-24T17:29:57.637Z"
   },
   {
    "duration": 29,
    "start_time": "2022-03-24T17:29:57.648Z"
   },
   {
    "duration": 323,
    "start_time": "2022-03-24T17:29:57.678Z"
   },
   {
    "duration": 8,
    "start_time": "2022-03-24T17:29:58.002Z"
   },
   {
    "duration": 179,
    "start_time": "2022-03-24T17:29:58.012Z"
   },
   {
    "duration": 24,
    "start_time": "2022-03-24T17:29:58.194Z"
   },
   {
    "duration": 12,
    "start_time": "2022-03-24T17:29:58.220Z"
   },
   {
    "duration": 2,
    "start_time": "2022-03-24T17:29:58.234Z"
   },
   {
    "duration": 27,
    "start_time": "2022-03-24T17:29:58.238Z"
   },
   {
    "duration": 10,
    "start_time": "2022-03-24T17:29:58.267Z"
   },
   {
    "duration": 35,
    "start_time": "2022-03-24T17:29:58.278Z"
   },
   {
    "duration": 6,
    "start_time": "2022-03-24T17:29:58.321Z"
   },
   {
    "duration": 59,
    "start_time": "2022-03-24T17:29:58.328Z"
   },
   {
    "duration": 17,
    "start_time": "2022-03-24T17:29:58.389Z"
   },
   {
    "duration": 22,
    "start_time": "2022-03-24T17:29:58.409Z"
   },
   {
    "duration": 11,
    "start_time": "2022-03-24T17:29:58.433Z"
   },
   {
    "duration": 32,
    "start_time": "2022-03-24T17:29:58.445Z"
   },
   {
    "duration": 12,
    "start_time": "2022-03-24T17:29:58.479Z"
   },
   {
    "duration": 6,
    "start_time": "2022-03-24T17:29:58.493Z"
   },
   {
    "duration": 23,
    "start_time": "2022-03-24T17:29:58.500Z"
   },
   {
    "duration": 215,
    "start_time": "2022-03-24T17:29:58.524Z"
   },
   {
    "duration": 213,
    "start_time": "2022-03-24T17:29:58.742Z"
   },
   {
    "duration": 8,
    "start_time": "2022-03-24T17:29:58.956Z"
   },
   {
    "duration": 205,
    "start_time": "2022-03-24T17:29:58.966Z"
   },
   {
    "duration": 6,
    "start_time": "2022-03-24T17:29:59.173Z"
   },
   {
    "duration": 7,
    "start_time": "2022-03-24T17:29:59.181Z"
   },
   {
    "duration": 268,
    "start_time": "2022-03-24T17:29:59.190Z"
   },
   {
    "duration": 6,
    "start_time": "2022-03-24T17:29:59.463Z"
   },
   {
    "duration": 9,
    "start_time": "2022-03-24T17:29:59.471Z"
   },
   {
    "duration": 126,
    "start_time": "2022-03-24T17:29:59.481Z"
   },
   {
    "duration": 5,
    "start_time": "2022-03-24T17:29:59.609Z"
   },
   {
    "duration": 11,
    "start_time": "2022-03-24T17:29:59.616Z"
   },
   {
    "duration": 118,
    "start_time": "2022-03-24T17:29:59.629Z"
   },
   {
    "duration": 17,
    "start_time": "2022-03-24T17:29:59.750Z"
   },
   {
    "duration": 1341,
    "start_time": "2022-03-24T17:29:59.769Z"
   },
   {
    "duration": 1483,
    "start_time": "2022-03-24T17:30:01.112Z"
   },
   {
    "duration": 6,
    "start_time": "2022-03-24T17:30:02.596Z"
   },
   {
    "duration": 24,
    "start_time": "2022-03-24T17:30:02.603Z"
   },
   {
    "duration": 10,
    "start_time": "2022-03-24T17:30:02.628Z"
   },
   {
    "duration": 10,
    "start_time": "2022-03-24T17:30:02.640Z"
   },
   {
    "duration": 12,
    "start_time": "2022-03-24T17:30:02.652Z"
   },
   {
    "duration": 13,
    "start_time": "2022-03-24T17:30:02.666Z"
   },
   {
    "duration": 16,
    "start_time": "2022-03-24T17:30:02.681Z"
   },
   {
    "duration": 272,
    "start_time": "2022-03-24T17:30:02.699Z"
   },
   {
    "duration": 14,
    "start_time": "2022-03-24T17:30:02.973Z"
   },
   {
    "duration": 12,
    "start_time": "2022-03-24T17:30:02.988Z"
   },
   {
    "duration": 8,
    "start_time": "2022-03-24T17:30:03.002Z"
   },
   {
    "duration": 12,
    "start_time": "2022-03-24T17:30:03.011Z"
   },
   {
    "duration": 9,
    "start_time": "2022-03-24T17:30:03.025Z"
   },
   {
    "duration": 35,
    "start_time": "2022-03-24T17:30:03.036Z"
   },
   {
    "duration": 15,
    "start_time": "2022-03-24T17:30:03.072Z"
   },
   {
    "duration": 9,
    "start_time": "2022-03-24T17:30:03.088Z"
   },
   {
    "duration": 9,
    "start_time": "2022-03-24T17:30:03.099Z"
   },
   {
    "duration": 11,
    "start_time": "2022-03-24T17:30:03.110Z"
   },
   {
    "duration": 3,
    "start_time": "2022-03-24T17:30:03.123Z"
   },
   {
    "duration": 48,
    "start_time": "2022-03-24T17:30:03.128Z"
   },
   {
    "duration": 9,
    "start_time": "2022-03-24T17:30:03.178Z"
   },
   {
    "duration": 7,
    "start_time": "2022-03-24T17:30:03.189Z"
   },
   {
    "duration": 10,
    "start_time": "2022-03-24T17:30:03.198Z"
   },
   {
    "duration": 7,
    "start_time": "2022-03-24T17:30:03.210Z"
   },
   {
    "duration": 7,
    "start_time": "2022-03-24T17:30:03.218Z"
   },
   {
    "duration": 9,
    "start_time": "2022-03-24T17:30:03.227Z"
   },
   {
    "duration": 7,
    "start_time": "2022-03-24T17:30:03.238Z"
   },
   {
    "duration": 17,
    "start_time": "2022-03-24T17:30:03.246Z"
   },
   {
    "duration": 4,
    "start_time": "2022-03-24T17:30:03.264Z"
   },
   {
    "duration": 10,
    "start_time": "2022-03-24T17:30:03.270Z"
   },
   {
    "duration": 4,
    "start_time": "2022-03-24T17:30:03.282Z"
   },
   {
    "duration": 6,
    "start_time": "2022-03-24T17:30:03.288Z"
   },
   {
    "duration": 10,
    "start_time": "2022-03-24T17:30:03.296Z"
   },
   {
    "duration": 23,
    "start_time": "2022-03-24T17:31:06.125Z"
   },
   {
    "duration": 11,
    "start_time": "2022-03-24T17:31:14.594Z"
   },
   {
    "duration": 9,
    "start_time": "2022-03-24T17:31:17.844Z"
   },
   {
    "duration": 9,
    "start_time": "2022-03-24T17:31:20.631Z"
   },
   {
    "duration": 10,
    "start_time": "2022-03-24T17:33:15.429Z"
   },
   {
    "duration": 10,
    "start_time": "2022-03-24T17:33:19.224Z"
   },
   {
    "duration": 12,
    "start_time": "2022-03-24T17:33:23.663Z"
   },
   {
    "duration": 10,
    "start_time": "2022-03-24T17:33:46.980Z"
   },
   {
    "duration": 9,
    "start_time": "2022-03-24T17:34:13.547Z"
   },
   {
    "duration": 11,
    "start_time": "2022-03-24T17:34:39.370Z"
   },
   {
    "duration": 10,
    "start_time": "2022-03-24T17:34:40.194Z"
   },
   {
    "duration": 12,
    "start_time": "2022-03-24T17:34:43.294Z"
   },
   {
    "duration": 10,
    "start_time": "2022-03-24T17:34:52.669Z"
   },
   {
    "duration": 1837,
    "start_time": "2022-03-24T18:02:36.924Z"
   },
   {
    "duration": 79,
    "start_time": "2022-03-24T18:02:38.766Z"
   },
   {
    "duration": 39,
    "start_time": "2022-03-24T18:02:38.847Z"
   },
   {
    "duration": 7,
    "start_time": "2022-03-24T18:02:38.890Z"
   },
   {
    "duration": 11,
    "start_time": "2022-03-24T18:02:38.899Z"
   },
   {
    "duration": 8,
    "start_time": "2022-03-24T18:02:38.912Z"
   },
   {
    "duration": 50,
    "start_time": "2022-03-24T18:02:38.923Z"
   },
   {
    "duration": 9,
    "start_time": "2022-03-24T18:02:38.975Z"
   },
   {
    "duration": 11,
    "start_time": "2022-03-24T18:02:38.986Z"
   },
   {
    "duration": 7,
    "start_time": "2022-03-24T18:02:39.001Z"
   },
   {
    "duration": 6,
    "start_time": "2022-03-24T18:02:39.010Z"
   },
   {
    "duration": 59,
    "start_time": "2022-03-24T18:02:39.018Z"
   },
   {
    "duration": 15,
    "start_time": "2022-03-24T18:02:39.079Z"
   },
   {
    "duration": 15,
    "start_time": "2022-03-24T18:02:39.097Z"
   },
   {
    "duration": 7,
    "start_time": "2022-03-24T18:02:39.115Z"
   },
   {
    "duration": 46,
    "start_time": "2022-03-24T18:02:39.124Z"
   },
   {
    "duration": 7,
    "start_time": "2022-03-24T18:02:39.173Z"
   },
   {
    "duration": 8,
    "start_time": "2022-03-24T18:02:39.183Z"
   },
   {
    "duration": 7,
    "start_time": "2022-03-24T18:02:39.193Z"
   },
   {
    "duration": 25,
    "start_time": "2022-03-24T18:02:39.202Z"
   },
   {
    "duration": 6,
    "start_time": "2022-03-24T18:02:39.269Z"
   },
   {
    "duration": 5,
    "start_time": "2022-03-24T18:02:39.278Z"
   },
   {
    "duration": 12,
    "start_time": "2022-03-24T18:02:39.285Z"
   },
   {
    "duration": 9,
    "start_time": "2022-03-24T18:02:39.299Z"
   },
   {
    "duration": 6,
    "start_time": "2022-03-24T18:02:39.311Z"
   },
   {
    "duration": 58,
    "start_time": "2022-03-24T18:02:39.319Z"
   },
   {
    "duration": 12,
    "start_time": "2022-03-24T18:02:39.379Z"
   },
   {
    "duration": 23,
    "start_time": "2022-03-24T18:02:39.398Z"
   },
   {
    "duration": 48,
    "start_time": "2022-03-24T18:02:39.424Z"
   },
   {
    "duration": 12,
    "start_time": "2022-03-24T18:02:39.475Z"
   },
   {
    "duration": 7,
    "start_time": "2022-03-24T18:02:39.490Z"
   },
   {
    "duration": 494,
    "start_time": "2022-03-24T18:02:39.499Z"
   },
   {
    "duration": 12,
    "start_time": "2022-03-24T18:02:39.996Z"
   },
   {
    "duration": 265,
    "start_time": "2022-03-24T18:02:40.011Z"
   },
   {
    "duration": 41,
    "start_time": "2022-03-24T18:02:40.278Z"
   },
   {
    "duration": 48,
    "start_time": "2022-03-24T18:02:40.322Z"
   },
   {
    "duration": 4,
    "start_time": "2022-03-24T18:02:40.372Z"
   },
   {
    "duration": 9,
    "start_time": "2022-03-24T18:02:40.379Z"
   },
   {
    "duration": 18,
    "start_time": "2022-03-24T18:02:40.391Z"
   },
   {
    "duration": 80,
    "start_time": "2022-03-24T18:02:40.412Z"
   },
   {
    "duration": 9,
    "start_time": "2022-03-24T18:02:40.495Z"
   },
   {
    "duration": 63,
    "start_time": "2022-03-24T18:02:40.507Z"
   },
   {
    "duration": 16,
    "start_time": "2022-03-24T18:02:40.573Z"
   },
   {
    "duration": 4,
    "start_time": "2022-03-24T18:02:40.591Z"
   },
   {
    "duration": 10,
    "start_time": "2022-03-24T18:02:40.597Z"
   },
   {
    "duration": 73,
    "start_time": "2022-03-24T18:02:40.609Z"
   },
   {
    "duration": 26,
    "start_time": "2022-03-24T18:02:40.685Z"
   },
   {
    "duration": 9,
    "start_time": "2022-03-24T18:02:40.713Z"
   },
   {
    "duration": 57,
    "start_time": "2022-03-24T18:02:40.724Z"
   },
   {
    "duration": 342,
    "start_time": "2022-03-24T18:02:40.784Z"
   },
   {
    "duration": 379,
    "start_time": "2022-03-24T18:02:41.129Z"
   },
   {
    "duration": 9,
    "start_time": "2022-03-24T18:02:41.510Z"
   },
   {
    "duration": 237,
    "start_time": "2022-03-24T18:02:41.521Z"
   },
   {
    "duration": 10,
    "start_time": "2022-03-24T18:02:41.768Z"
   },
   {
    "duration": 8,
    "start_time": "2022-03-24T18:02:41.781Z"
   },
   {
    "duration": 251,
    "start_time": "2022-03-24T18:02:41.792Z"
   },
   {
    "duration": 7,
    "start_time": "2022-03-24T18:02:42.045Z"
   },
   {
    "duration": 20,
    "start_time": "2022-03-24T18:02:42.054Z"
   },
   {
    "duration": 285,
    "start_time": "2022-03-24T18:02:42.076Z"
   },
   {
    "duration": 8,
    "start_time": "2022-03-24T18:02:42.367Z"
   },
   {
    "duration": 7,
    "start_time": "2022-03-24T18:02:42.378Z"
   },
   {
    "duration": 212,
    "start_time": "2022-03-24T18:02:42.387Z"
   },
   {
    "duration": 8,
    "start_time": "2022-03-24T18:02:42.602Z"
   },
   {
    "duration": 2328,
    "start_time": "2022-03-24T18:02:42.612Z"
   },
   {
    "duration": 2372,
    "start_time": "2022-03-24T18:02:44.942Z"
   },
   {
    "duration": 9,
    "start_time": "2022-03-24T18:02:47.317Z"
   },
   {
    "duration": 12,
    "start_time": "2022-03-24T18:02:47.328Z"
   },
   {
    "duration": 30,
    "start_time": "2022-03-24T18:02:47.343Z"
   },
   {
    "duration": 13,
    "start_time": "2022-03-24T18:02:47.375Z"
   },
   {
    "duration": 9,
    "start_time": "2022-03-24T18:02:47.390Z"
   },
   {
    "duration": 7,
    "start_time": "2022-03-24T18:02:47.402Z"
   },
   {
    "duration": 11,
    "start_time": "2022-03-24T18:02:47.412Z"
   },
   {
    "duration": 538,
    "start_time": "2022-03-24T18:02:47.425Z"
   },
   {
    "duration": 22,
    "start_time": "2022-03-24T18:02:47.967Z"
   },
   {
    "duration": 14,
    "start_time": "2022-03-24T18:02:47.991Z"
   },
   {
    "duration": 13,
    "start_time": "2022-03-24T18:02:48.008Z"
   },
   {
    "duration": 51,
    "start_time": "2022-03-24T18:02:48.023Z"
   },
   {
    "duration": 13,
    "start_time": "2022-03-24T18:02:48.076Z"
   },
   {
    "duration": 15,
    "start_time": "2022-03-24T18:02:48.091Z"
   },
   {
    "duration": 13,
    "start_time": "2022-03-24T18:02:48.108Z"
   },
   {
    "duration": 49,
    "start_time": "2022-03-24T18:02:48.123Z"
   },
   {
    "duration": 14,
    "start_time": "2022-03-24T18:02:48.180Z"
   },
   {
    "duration": 15,
    "start_time": "2022-03-24T18:02:48.196Z"
   },
   {
    "duration": 4,
    "start_time": "2022-03-24T18:02:48.214Z"
   },
   {
    "duration": 51,
    "start_time": "2022-03-24T18:02:48.220Z"
   },
   {
    "duration": 7,
    "start_time": "2022-03-24T18:02:48.273Z"
   },
   {
    "duration": 6,
    "start_time": "2022-03-24T18:02:48.283Z"
   },
   {
    "duration": 10,
    "start_time": "2022-03-24T18:02:48.291Z"
   },
   {
    "duration": 7,
    "start_time": "2022-03-24T18:02:48.303Z"
   },
   {
    "duration": 4,
    "start_time": "2022-03-24T18:02:48.313Z"
   },
   {
    "duration": 8,
    "start_time": "2022-03-24T18:02:48.369Z"
   },
   {
    "duration": 10,
    "start_time": "2022-03-24T18:02:48.380Z"
   },
   {
    "duration": 6,
    "start_time": "2022-03-24T18:02:48.393Z"
   },
   {
    "duration": 8,
    "start_time": "2022-03-24T18:02:48.401Z"
   },
   {
    "duration": 14,
    "start_time": "2022-03-24T18:02:48.412Z"
   },
   {
    "duration": 44,
    "start_time": "2022-03-24T18:02:48.429Z"
   },
   {
    "duration": 9,
    "start_time": "2022-03-24T18:02:48.476Z"
   },
   {
    "duration": 9,
    "start_time": "2022-03-24T18:02:48.488Z"
   }
  ],
  "kernelspec": {
   "display_name": "Python 3 (ipykernel)",
   "language": "python",
   "name": "python3"
  },
  "language_info": {
   "codemirror_mode": {
    "name": "ipython",
    "version": 3
   },
   "file_extension": ".py",
   "mimetype": "text/x-python",
   "name": "python",
   "nbconvert_exporter": "python",
   "pygments_lexer": "ipython3",
   "version": "3.9.5"
  },
  "toc": {
   "base_numbering": 1,
   "nav_menu": {},
   "number_sections": true,
   "sideBar": true,
   "skip_h1_title": true,
   "title_cell": "Table of Contents",
   "title_sidebar": "Contents",
   "toc_cell": false,
   "toc_position": {
    "height": "calc(100% - 180px)",
    "left": "10px",
    "top": "150px",
    "width": "165px"
   },
   "toc_section_display": true,
   "toc_window_display": true
  }
 },
 "nbformat": 4,
 "nbformat_minor": 2
}
