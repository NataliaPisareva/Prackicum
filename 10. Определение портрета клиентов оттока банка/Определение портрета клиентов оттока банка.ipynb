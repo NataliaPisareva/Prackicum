{
 "cells": [
  {
   "cell_type": "markdown",
   "metadata": {},
   "source": [
    "# Описание проекта"
   ]
  },
  {
   "cell_type": "markdown",
   "metadata": {},
   "source": [
    "Данные о клиентах банка предоставлены менеджерами банка «Метанпром». Банк располагается в Ярославле и областных городах: Ростов Великий и Рыбинск."
   ]
  },
  {
   "cell_type": "markdown",
   "metadata": {},
   "source": [
    "**Задача: Проанализируйте клиентов регионального банка и выделите портрет клиентов, которые склонны уходить из банка.**"
   ]
  },
  {
   "cell_type": "markdown",
   "metadata": {},
   "source": [
    "## Изучение данных из файла  "
   ]
  },
  {
   "cell_type": "code",
   "execution_count": 31,
   "metadata": {},
   "outputs": [
    {
     "name": "stdout",
     "output_type": "stream",
     "text": [
      "Requirement already satisfied: plotly in /opt/conda/lib/python3.9/site-packages (5.4.0)\r\n",
      "Requirement already satisfied: six in /opt/conda/lib/python3.9/site-packages (from plotly) (1.16.0)\r\n",
      "Requirement already satisfied: tenacity>=6.2.0 in /opt/conda/lib/python3.9/site-packages (from plotly) (8.0.1)\r\n"
     ]
    }
   ],
   "source": [
    "import pandas as pd # импорт библиотек\n",
    "import math\n",
    "import numpy as np\n",
    "import matplotlib.pyplot as plt\n",
    "import scipy.stats as stats\n",
    "import seaborn as sns\n",
    "import plotly.express as px\n",
    "!pip install plotly"
   ]
  },
  {
   "cell_type": "code",
   "execution_count": 32,
   "metadata": {},
   "outputs": [
    {
     "data": {
      "text/html": [
       "<div>\n",
       "<style scoped>\n",
       "    .dataframe tbody tr th:only-of-type {\n",
       "        vertical-align: middle;\n",
       "    }\n",
       "\n",
       "    .dataframe tbody tr th {\n",
       "        vertical-align: top;\n",
       "    }\n",
       "\n",
       "    .dataframe thead th {\n",
       "        text-align: right;\n",
       "    }\n",
       "</style>\n",
       "<table border=\"1\" class=\"dataframe\">\n",
       "  <thead>\n",
       "    <tr style=\"text-align: right;\">\n",
       "      <th></th>\n",
       "      <th>userid</th>\n",
       "      <th>score</th>\n",
       "      <th>City</th>\n",
       "      <th>Gender</th>\n",
       "      <th>Age</th>\n",
       "      <th>Objects</th>\n",
       "      <th>Balance</th>\n",
       "      <th>Products</th>\n",
       "      <th>CreditCard</th>\n",
       "      <th>Loyalty</th>\n",
       "      <th>estimated_salary</th>\n",
       "      <th>Churn</th>\n",
       "    </tr>\n",
       "  </thead>\n",
       "  <tbody>\n",
       "    <tr>\n",
       "      <th>0</th>\n",
       "      <td>15677338</td>\n",
       "      <td>619</td>\n",
       "      <td>Ярославль</td>\n",
       "      <td>Ж</td>\n",
       "      <td>42</td>\n",
       "      <td>2</td>\n",
       "      <td>NaN</td>\n",
       "      <td>1</td>\n",
       "      <td>1</td>\n",
       "      <td>1</td>\n",
       "      <td>101348.88</td>\n",
       "      <td>1</td>\n",
       "    </tr>\n",
       "    <tr>\n",
       "      <th>1</th>\n",
       "      <td>15690047</td>\n",
       "      <td>608</td>\n",
       "      <td>Рыбинск</td>\n",
       "      <td>Ж</td>\n",
       "      <td>41</td>\n",
       "      <td>1</td>\n",
       "      <td>83807.86</td>\n",
       "      <td>1</td>\n",
       "      <td>0</td>\n",
       "      <td>1</td>\n",
       "      <td>112542.58</td>\n",
       "      <td>0</td>\n",
       "    </tr>\n",
       "    <tr>\n",
       "      <th>2</th>\n",
       "      <td>15662040</td>\n",
       "      <td>502</td>\n",
       "      <td>Ярославль</td>\n",
       "      <td>Ж</td>\n",
       "      <td>42</td>\n",
       "      <td>8</td>\n",
       "      <td>159660.80</td>\n",
       "      <td>3</td>\n",
       "      <td>1</td>\n",
       "      <td>0</td>\n",
       "      <td>113931.57</td>\n",
       "      <td>1</td>\n",
       "    </tr>\n",
       "    <tr>\n",
       "      <th>3</th>\n",
       "      <td>15744090</td>\n",
       "      <td>699</td>\n",
       "      <td>Ярославль</td>\n",
       "      <td>Ж</td>\n",
       "      <td>39</td>\n",
       "      <td>1</td>\n",
       "      <td>NaN</td>\n",
       "      <td>2</td>\n",
       "      <td>0</td>\n",
       "      <td>0</td>\n",
       "      <td>93826.63</td>\n",
       "      <td>0</td>\n",
       "    </tr>\n",
       "    <tr>\n",
       "      <th>4</th>\n",
       "      <td>15780624</td>\n",
       "      <td>850</td>\n",
       "      <td>Рыбинск</td>\n",
       "      <td>Ж</td>\n",
       "      <td>43</td>\n",
       "      <td>2</td>\n",
       "      <td>125510.82</td>\n",
       "      <td>1</td>\n",
       "      <td>1</td>\n",
       "      <td>1</td>\n",
       "      <td>79084.10</td>\n",
       "      <td>0</td>\n",
       "    </tr>\n",
       "    <tr>\n",
       "      <th>5</th>\n",
       "      <td>15616748</td>\n",
       "      <td>645</td>\n",
       "      <td>Рыбинск</td>\n",
       "      <td>М</td>\n",
       "      <td>44</td>\n",
       "      <td>8</td>\n",
       "      <td>113755.78</td>\n",
       "      <td>2</td>\n",
       "      <td>1</td>\n",
       "      <td>0</td>\n",
       "      <td>149756.71</td>\n",
       "      <td>1</td>\n",
       "    </tr>\n",
       "    <tr>\n",
       "      <th>6</th>\n",
       "      <td>15635267</td>\n",
       "      <td>822</td>\n",
       "      <td>Ярославль</td>\n",
       "      <td>М</td>\n",
       "      <td>50</td>\n",
       "      <td>7</td>\n",
       "      <td>NaN</td>\n",
       "      <td>2</td>\n",
       "      <td>1</td>\n",
       "      <td>1</td>\n",
       "      <td>10062.80</td>\n",
       "      <td>0</td>\n",
       "    </tr>\n",
       "    <tr>\n",
       "      <th>7</th>\n",
       "      <td>15698884</td>\n",
       "      <td>376</td>\n",
       "      <td>Ростов Великий</td>\n",
       "      <td>Ж</td>\n",
       "      <td>29</td>\n",
       "      <td>4</td>\n",
       "      <td>115046.74</td>\n",
       "      <td>4</td>\n",
       "      <td>1</td>\n",
       "      <td>0</td>\n",
       "      <td>119346.88</td>\n",
       "      <td>1</td>\n",
       "    </tr>\n",
       "    <tr>\n",
       "      <th>8</th>\n",
       "      <td>15835101</td>\n",
       "      <td>501</td>\n",
       "      <td>Ярославль</td>\n",
       "      <td>М</td>\n",
       "      <td>44</td>\n",
       "      <td>4</td>\n",
       "      <td>142051.07</td>\n",
       "      <td>2</td>\n",
       "      <td>0</td>\n",
       "      <td>1</td>\n",
       "      <td>74940.50</td>\n",
       "      <td>0</td>\n",
       "    </tr>\n",
       "    <tr>\n",
       "      <th>9</th>\n",
       "      <td>15635125</td>\n",
       "      <td>684</td>\n",
       "      <td>Ярославль</td>\n",
       "      <td>М</td>\n",
       "      <td>27</td>\n",
       "      <td>2</td>\n",
       "      <td>134603.88</td>\n",
       "      <td>1</td>\n",
       "      <td>1</td>\n",
       "      <td>1</td>\n",
       "      <td>71725.73</td>\n",
       "      <td>0</td>\n",
       "    </tr>\n",
       "  </tbody>\n",
       "</table>\n",
       "</div>"
      ],
      "text/plain": [
       "     userid  score            City Gender  Age  Objects    Balance  Products  \\\n",
       "0  15677338    619       Ярославль      Ж   42        2        NaN         1   \n",
       "1  15690047    608         Рыбинск      Ж   41        1   83807.86         1   \n",
       "2  15662040    502       Ярославль      Ж   42        8  159660.80         3   \n",
       "3  15744090    699       Ярославль      Ж   39        1        NaN         2   \n",
       "4  15780624    850         Рыбинск      Ж   43        2  125510.82         1   \n",
       "5  15616748    645         Рыбинск      М   44        8  113755.78         2   \n",
       "6  15635267    822       Ярославль      М   50        7        NaN         2   \n",
       "7  15698884    376  Ростов Великий      Ж   29        4  115046.74         4   \n",
       "8  15835101    501       Ярославль      М   44        4  142051.07         2   \n",
       "9  15635125    684       Ярославль      М   27        2  134603.88         1   \n",
       "\n",
       "   CreditCard  Loyalty  estimated_salary  Churn  \n",
       "0           1        1         101348.88      1  \n",
       "1           0        1         112542.58      0  \n",
       "2           1        0         113931.57      1  \n",
       "3           0        0          93826.63      0  \n",
       "4           1        1          79084.10      0  \n",
       "5           1        0         149756.71      1  \n",
       "6           1        1          10062.80      0  \n",
       "7           1        0         119346.88      1  \n",
       "8           0        1          74940.50      0  \n",
       "9           1        1          71725.73      0  "
      ]
     },
     "execution_count": 32,
     "metadata": {},
     "output_type": "execute_result"
    }
   ],
   "source": [
    "from io import BytesIO\n",
    "\n",
    "import requests\n",
    "spreadsheet_id = '2PACX-1vT9iOI2fUEnp2ujnZkGIMPAbyVmb0FqGZ4gm87yW43U0M6VemaFpwI3lmhoBSY_2QgMqF8o9VFpLS7K'\n",
    "file_name = 'https://docs.google.com/spreadsheets/d/e/{}/pub?output=csv'.format(spreadsheet_id)\n",
    "r = requests.get(file_name)\n",
    "df = pd.read_csv(BytesIO(r.content)) # чтение файла\n",
    "df.head(10) # вывод первых 10 строк таблицы"
   ]
  },
  {
   "cell_type": "markdown",
   "metadata": {},
   "source": [
    "- `userid` — идентификатор пользователя,\n",
    "- `score` — баллы кредитного скоринга,\n",
    "- `City` — город,\n",
    "- `Gender` — пол,\n",
    "- `Age` — возраст,\n",
    "- `Objects` — количество объектов в собственности,\n",
    "- `Balance` — баланс на счёте,\n",
    "- `Products` — количество продуктов, которыми пользуется клиент,\n",
    "- `CreditCard` — есть ли кредитная карта,\n",
    "- `Loyalty` — активный клиент,\n",
    "- `estimated_salary` — заработная плата клиента,\n",
    "- `Churn` — ушёл или нет."
   ]
  },
  {
   "cell_type": "code",
   "execution_count": 33,
   "metadata": {},
   "outputs": [
    {
     "name": "stdout",
     "output_type": "stream",
     "text": [
      "<class 'pandas.core.frame.DataFrame'>\n",
      "RangeIndex: 10000 entries, 0 to 9999\n",
      "Data columns (total 12 columns):\n",
      " #   Column            Non-Null Count  Dtype  \n",
      "---  ------            --------------  -----  \n",
      " 0   userid            10000 non-null  int64  \n",
      " 1   score             10000 non-null  int64  \n",
      " 2   City              10000 non-null  object \n",
      " 3   Gender            10000 non-null  object \n",
      " 4   Age               10000 non-null  int64  \n",
      " 5   Objects           10000 non-null  int64  \n",
      " 6   Balance           6383 non-null   float64\n",
      " 7   Products          10000 non-null  int64  \n",
      " 8   CreditCard        10000 non-null  int64  \n",
      " 9   Loyalty           10000 non-null  int64  \n",
      " 10  estimated_salary  10000 non-null  float64\n",
      " 11  Churn             10000 non-null  int64  \n",
      "dtypes: float64(2), int64(8), object(2)\n",
      "memory usage: 937.6+ KB\n"
     ]
    }
   ],
   "source": [
    "df.info() # вывод данных о таблице"
   ]
  },
  {
   "cell_type": "markdown",
   "metadata": {},
   "source": [
    "### Вывод"
   ]
  },
  {
   "cell_type": "markdown",
   "metadata": {},
   "source": [
    "Преведены данные клиентов банка. Можно выделить из них одну целевую переменную (`Churn`) и  10 признаков. Предварительно можно утверждать, что данных достаточно. Но встречаются пропуски в данных, а в названиях колонок — расхождения с хорошим стилем."
   ]
  },
  {
   "cell_type": "markdown",
   "metadata": {},
   "source": [
    "## Предобработка данных"
   ]
  },
  {
   "cell_type": "markdown",
   "metadata": {},
   "source": [
    "### Исследование пропущенных значений"
   ]
  },
  {
   "cell_type": "code",
   "execution_count": 34,
   "metadata": {},
   "outputs": [
    {
     "data": {
      "text/plain": [
       "userid                 0\n",
       "score                  0\n",
       "City                   0\n",
       "Gender                 0\n",
       "Age                    0\n",
       "Objects                0\n",
       "Balance             3617\n",
       "Products               0\n",
       "CreditCard             0\n",
       "Loyalty                0\n",
       "estimated_salary       0\n",
       "Churn                  0\n",
       "dtype: int64"
      ]
     },
     "execution_count": 34,
     "metadata": {},
     "output_type": "execute_result"
    }
   ],
   "source": [
    "df.isna().sum() # вывод количества пропусков по столбцам"
   ]
  },
  {
   "cell_type": "markdown",
   "metadata": {},
   "source": [
    "Пропуски в столбце `Balance` составляют 36,17 % от общего количества данных в признаке `Balance`."
   ]
  },
  {
   "cell_type": "code",
   "execution_count": 35,
   "metadata": {},
   "outputs": [
    {
     "name": "stderr",
     "output_type": "stream",
     "text": [
      "/tmp/ipykernel_31/1425649958.py:2: SettingWithCopyWarning: \n",
      "A value is trying to be set on a copy of a slice from a DataFrame.\n",
      "Try using .loc[row_indexer,col_indexer] = value instead\n",
      "\n",
      "See the caveats in the documentation: https://pandas.pydata.org/pandas-docs/stable/user_guide/indexing.html#returning-a-view-versus-a-copy\n",
      "  df1['Balance'] = df1['Balance'].fillna('unknown') # замена пропущенных значений на 'unknown'\n"
     ]
    },
    {
     "data": {
      "text/plain": [
       "City       Balance\n",
       "Рыбинск    unknown    1199\n",
       "Ярославль  unknown    2418\n",
       "Name: Balance, dtype: int64"
      ]
     },
     "execution_count": 35,
     "metadata": {},
     "output_type": "execute_result"
    }
   ],
   "source": [
    "df1 = df[['City','Balance']]\n",
    "df1['Balance'] = df1['Balance'].fillna('unknown') # замена пропущенных значений на 'unknown'\n",
    "df1 = df1[df1['Balance'] == 'unknown'] \n",
    "df1.groupby('City')['Balance'].value_counts() # подсчет количества пропущенных значений \n",
    "                                              # в столбце `Balance` с разбивкой по городам"
   ]
  },
  {
   "cell_type": "code",
   "execution_count": 36,
   "metadata": {},
   "outputs": [
    {
     "data": {
      "text/plain": [
       "City\n",
       "Ростов Великий    2509\n",
       "Рыбинск           2477\n",
       "Ярославль         5014\n",
       "Name: userid, dtype: int64"
      ]
     },
     "execution_count": 36,
     "metadata": {},
     "output_type": "execute_result"
    }
   ],
   "source": [
    "df.groupby('City')['userid'].count() # подсчет количества клиентов с разбивкой по городам"
   ]
  },
  {
   "cell_type": "markdown",
   "metadata": {},
   "source": [
    "Думаю, что NaN в значении баланса значит, что на балансе нет средств, и поэтому думаю, что данные пропуски не стоит заполнять медианными или средними значениями, так как это сильно повлияет на распределение данного признака для городов Рыбинск и Ярославль (для Рыбинска 48% пропущенных значений, для Ярославля также 48% пропущенных значений в столбце `Balance`)."
   ]
  },
  {
   "cell_type": "markdown",
   "metadata": {},
   "source": [
    "### Исследовать соответствие типов"
   ]
  },
  {
   "cell_type": "markdown",
   "metadata": {},
   "source": [
    "Типы соответствуют приведенным в столбцах данным. Изменение типов не требуется."
   ]
  },
  {
   "cell_type": "markdown",
   "metadata": {},
   "source": [
    "### Исследовать дубликаты"
   ]
  },
  {
   "cell_type": "code",
   "execution_count": 37,
   "metadata": {},
   "outputs": [
    {
     "data": {
      "text/plain": [
       "0"
      ]
     },
     "execution_count": 37,
     "metadata": {},
     "output_type": "execute_result"
    }
   ],
   "source": [
    "df.duplicated().sum() # подсчёт явных дубликатов"
   ]
  },
  {
   "cell_type": "markdown",
   "metadata": {},
   "source": [
    "Явные дубликаты отсутствуют. Теперь проверим наличие неявных дубликаты."
   ]
  },
  {
   "cell_type": "code",
   "execution_count": 38,
   "metadata": {},
   "outputs": [
    {
     "data": {
      "text/plain": [
       "array(['Ярославль', 'Рыбинск', 'Ростов Великий'], dtype=object)"
      ]
     },
     "execution_count": 38,
     "metadata": {},
     "output_type": "execute_result"
    }
   ],
   "source": [
    "df['City'].unique() # дубликаты среди названий городов отсутствуют"
   ]
  },
  {
   "cell_type": "code",
   "execution_count": 39,
   "metadata": {},
   "outputs": [
    {
     "data": {
      "text/plain": [
       "array(['Ж', 'М'], dtype=object)"
      ]
     },
     "execution_count": 39,
     "metadata": {},
     "output_type": "execute_result"
    }
   ],
   "source": [
    "df['Gender'].unique() # дубликаты среди названий пола отсутствуют"
   ]
  },
  {
   "cell_type": "markdown",
   "metadata": {},
   "source": [
    "### Проверить корректность наименований колонок"
   ]
  },
  {
   "cell_type": "markdown",
   "metadata": {},
   "source": [
    "Приведем названия колонок к нижнему регистру."
   ]
  },
  {
   "cell_type": "code",
   "execution_count": 40,
   "metadata": {},
   "outputs": [],
   "source": [
    "df.columns = df.columns.str.lower() # приведем к нижнему регистру названия столбцов"
   ]
  },
  {
   "cell_type": "code",
   "execution_count": 41,
   "metadata": {},
   "outputs": [],
   "source": [
    "df = df.rename(columns = {'userid': 'user_id', 'creditcard':'credit_card'}) # перезапись названия столбцов змеиным регистром\n"
   ]
  },
  {
   "cell_type": "markdown",
   "metadata": {},
   "source": [
    "### Вывод"
   ]
  },
  {
   "cell_type": "markdown",
   "metadata": {},
   "source": [
    "1. Привела названия столбцов к нижнему регистру, и перезаписала змеиным регистром.\n",
    "\n",
    "2. Пропуски решено не заполнять, так как они существенно могут повлиять на выводы для городов Рыбинск и Ярославль.\n",
    "\n",
    "3. Дубликатов не обнаружено."
   ]
  },
  {
   "cell_type": "markdown",
   "metadata": {},
   "source": [
    "## Исследовательский анализ данных"
   ]
  },
  {
   "cell_type": "code",
   "execution_count": 42,
   "metadata": {},
   "outputs": [
    {
     "data": {
      "text/plain": [
       "2037"
      ]
     },
     "execution_count": 42,
     "metadata": {},
     "output_type": "execute_result"
    }
   ],
   "source": [
    "df.query('churn ==1')['churn'].count() # количество клиентов в оттоке \n"
   ]
  },
  {
   "cell_type": "code",
   "execution_count": 43,
   "metadata": {},
   "outputs": [
    {
     "data": {
      "text/plain": [
       "('Процент оттока на 10000 человек составляет', 20.369999999999997, '%')"
      ]
     },
     "execution_count": 43,
     "metadata": {},
     "output_type": "execute_result"
    }
   ],
   "source": [
    "'Процент оттока на 10000 человек составляет', 2037/10000*100, '%'"
   ]
  },
  {
   "cell_type": "markdown",
   "metadata": {},
   "source": [
    "### Изучение признаков клиентов, изучение средних значений и стандартных отклонений признаков"
   ]
  },
  {
   "cell_type": "code",
   "execution_count": 44,
   "metadata": {},
   "outputs": [
    {
     "data": {
      "text/html": [
       "<div>\n",
       "<style scoped>\n",
       "    .dataframe tbody tr th:only-of-type {\n",
       "        vertical-align: middle;\n",
       "    }\n",
       "\n",
       "    .dataframe tbody tr th {\n",
       "        vertical-align: top;\n",
       "    }\n",
       "\n",
       "    .dataframe thead th {\n",
       "        text-align: right;\n",
       "    }\n",
       "</style>\n",
       "<table border=\"1\" class=\"dataframe\">\n",
       "  <thead>\n",
       "    <tr style=\"text-align: right;\">\n",
       "      <th></th>\n",
       "      <th>user_id</th>\n",
       "      <th>score</th>\n",
       "      <th>age</th>\n",
       "      <th>objects</th>\n",
       "      <th>balance</th>\n",
       "      <th>products</th>\n",
       "      <th>credit_card</th>\n",
       "      <th>loyalty</th>\n",
       "      <th>estimated_salary</th>\n",
       "      <th>churn</th>\n",
       "    </tr>\n",
       "  </thead>\n",
       "  <tbody>\n",
       "    <tr>\n",
       "      <th>count</th>\n",
       "      <td>1.000000e+04</td>\n",
       "      <td>10000.000000</td>\n",
       "      <td>10000.000000</td>\n",
       "      <td>10000.000000</td>\n",
       "      <td>6383.000000</td>\n",
       "      <td>10000.000000</td>\n",
       "      <td>10000.00000</td>\n",
       "      <td>10000.000000</td>\n",
       "      <td>10000.000000</td>\n",
       "      <td>10000.000000</td>\n",
       "    </tr>\n",
       "    <tr>\n",
       "      <th>mean</th>\n",
       "      <td>1.573368e+07</td>\n",
       "      <td>650.528800</td>\n",
       "      <td>38.921800</td>\n",
       "      <td>5.012800</td>\n",
       "      <td>119827.493793</td>\n",
       "      <td>1.530200</td>\n",
       "      <td>0.70550</td>\n",
       "      <td>0.515100</td>\n",
       "      <td>100090.239881</td>\n",
       "      <td>0.203700</td>\n",
       "    </tr>\n",
       "    <tr>\n",
       "      <th>std</th>\n",
       "      <td>7.193619e+04</td>\n",
       "      <td>96.653299</td>\n",
       "      <td>10.487806</td>\n",
       "      <td>2.892174</td>\n",
       "      <td>30095.056462</td>\n",
       "      <td>0.581654</td>\n",
       "      <td>0.45584</td>\n",
       "      <td>0.499797</td>\n",
       "      <td>57510.492818</td>\n",
       "      <td>0.402769</td>\n",
       "    </tr>\n",
       "    <tr>\n",
       "      <th>min</th>\n",
       "      <td>1.560844e+07</td>\n",
       "      <td>350.000000</td>\n",
       "      <td>18.000000</td>\n",
       "      <td>0.000000</td>\n",
       "      <td>3768.690000</td>\n",
       "      <td>1.000000</td>\n",
       "      <td>0.00000</td>\n",
       "      <td>0.000000</td>\n",
       "      <td>11.580000</td>\n",
       "      <td>0.000000</td>\n",
       "    </tr>\n",
       "    <tr>\n",
       "      <th>25%</th>\n",
       "      <td>1.567126e+07</td>\n",
       "      <td>584.000000</td>\n",
       "      <td>32.000000</td>\n",
       "      <td>3.000000</td>\n",
       "      <td>100181.975000</td>\n",
       "      <td>1.000000</td>\n",
       "      <td>0.00000</td>\n",
       "      <td>0.000000</td>\n",
       "      <td>51002.110000</td>\n",
       "      <td>0.000000</td>\n",
       "    </tr>\n",
       "    <tr>\n",
       "      <th>50%</th>\n",
       "      <td>1.573347e+07</td>\n",
       "      <td>652.000000</td>\n",
       "      <td>37.000000</td>\n",
       "      <td>5.000000</td>\n",
       "      <td>119839.690000</td>\n",
       "      <td>1.000000</td>\n",
       "      <td>1.00000</td>\n",
       "      <td>1.000000</td>\n",
       "      <td>100193.915000</td>\n",
       "      <td>0.000000</td>\n",
       "    </tr>\n",
       "    <tr>\n",
       "      <th>75%</th>\n",
       "      <td>1.579597e+07</td>\n",
       "      <td>718.000000</td>\n",
       "      <td>44.000000</td>\n",
       "      <td>7.000000</td>\n",
       "      <td>139512.290000</td>\n",
       "      <td>2.000000</td>\n",
       "      <td>1.00000</td>\n",
       "      <td>1.000000</td>\n",
       "      <td>149388.247500</td>\n",
       "      <td>0.000000</td>\n",
       "    </tr>\n",
       "    <tr>\n",
       "      <th>max</th>\n",
       "      <td>1.585843e+07</td>\n",
       "      <td>850.000000</td>\n",
       "      <td>92.000000</td>\n",
       "      <td>10.000000</td>\n",
       "      <td>250898.090000</td>\n",
       "      <td>4.000000</td>\n",
       "      <td>1.00000</td>\n",
       "      <td>1.000000</td>\n",
       "      <td>199992.480000</td>\n",
       "      <td>1.000000</td>\n",
       "    </tr>\n",
       "  </tbody>\n",
       "</table>\n",
       "</div>"
      ],
      "text/plain": [
       "            user_id         score           age       objects        balance  \\\n",
       "count  1.000000e+04  10000.000000  10000.000000  10000.000000    6383.000000   \n",
       "mean   1.573368e+07    650.528800     38.921800      5.012800  119827.493793   \n",
       "std    7.193619e+04     96.653299     10.487806      2.892174   30095.056462   \n",
       "min    1.560844e+07    350.000000     18.000000      0.000000    3768.690000   \n",
       "25%    1.567126e+07    584.000000     32.000000      3.000000  100181.975000   \n",
       "50%    1.573347e+07    652.000000     37.000000      5.000000  119839.690000   \n",
       "75%    1.579597e+07    718.000000     44.000000      7.000000  139512.290000   \n",
       "max    1.585843e+07    850.000000     92.000000     10.000000  250898.090000   \n",
       "\n",
       "           products  credit_card       loyalty  estimated_salary         churn  \n",
       "count  10000.000000  10000.00000  10000.000000      10000.000000  10000.000000  \n",
       "mean       1.530200      0.70550      0.515100     100090.239881      0.203700  \n",
       "std        0.581654      0.45584      0.499797      57510.492818      0.402769  \n",
       "min        1.000000      0.00000      0.000000         11.580000      0.000000  \n",
       "25%        1.000000      0.00000      0.000000      51002.110000      0.000000  \n",
       "50%        1.000000      1.00000      1.000000     100193.915000      0.000000  \n",
       "75%        2.000000      1.00000      1.000000     149388.247500      0.000000  \n",
       "max        4.000000      1.00000      1.000000     199992.480000      1.000000  "
      ]
     },
     "execution_count": 44,
     "metadata": {},
     "output_type": "execute_result"
    }
   ],
   "source": [
    "df.describe() # вывод средних значений и стандартных отклонений"
   ]
  },
  {
   "cell_type": "markdown",
   "metadata": {},
   "source": [
    "На первый взгляд видимых выбросов нет, нет нелогичных значений, кроме заработной платы \t`estimated_salary`,  где в минимальных значениях стоит 11,58, что не может соответствовать действительности."
   ]
  },
  {
   "cell_type": "code",
   "execution_count": 45,
   "metadata": {},
   "outputs": [
    {
     "data": {
      "text/html": [
       "<div>\n",
       "<style scoped>\n",
       "    .dataframe tbody tr th:only-of-type {\n",
       "        vertical-align: middle;\n",
       "    }\n",
       "\n",
       "    .dataframe tbody tr th {\n",
       "        vertical-align: top;\n",
       "    }\n",
       "\n",
       "    .dataframe thead th {\n",
       "        text-align: right;\n",
       "    }\n",
       "</style>\n",
       "<table border=\"1\" class=\"dataframe\">\n",
       "  <thead>\n",
       "    <tr style=\"text-align: right;\">\n",
       "      <th></th>\n",
       "      <th>user_id</th>\n",
       "      <th>score</th>\n",
       "      <th>age</th>\n",
       "      <th>objects</th>\n",
       "      <th>balance</th>\n",
       "      <th>products</th>\n",
       "      <th>credit_card</th>\n",
       "      <th>loyalty</th>\n",
       "      <th>estimated_salary</th>\n",
       "    </tr>\n",
       "    <tr>\n",
       "      <th>churn</th>\n",
       "      <th></th>\n",
       "      <th></th>\n",
       "      <th></th>\n",
       "      <th></th>\n",
       "      <th></th>\n",
       "      <th></th>\n",
       "      <th></th>\n",
       "      <th></th>\n",
       "      <th></th>\n",
       "    </tr>\n",
       "  </thead>\n",
       "  <tbody>\n",
       "    <tr>\n",
       "      <th>0</th>\n",
       "      <td>1.573390e+07</td>\n",
       "      <td>651.853196</td>\n",
       "      <td>37.408389</td>\n",
       "      <td>5.033279</td>\n",
       "      <td>119535.864270</td>\n",
       "      <td>1.544267</td>\n",
       "      <td>0.707146</td>\n",
       "      <td>0.554565</td>\n",
       "      <td>99738.391772</td>\n",
       "    </tr>\n",
       "    <tr>\n",
       "      <th>1</th>\n",
       "      <td>1.573279e+07</td>\n",
       "      <td>645.351497</td>\n",
       "      <td>44.837997</td>\n",
       "      <td>4.932744</td>\n",
       "      <td>120746.971132</td>\n",
       "      <td>1.475209</td>\n",
       "      <td>0.699067</td>\n",
       "      <td>0.360825</td>\n",
       "      <td>101465.677531</td>\n",
       "    </tr>\n",
       "  </tbody>\n",
       "</table>\n",
       "</div>"
      ],
      "text/plain": [
       "            user_id       score        age   objects        balance  products  \\\n",
       "churn                                                                           \n",
       "0      1.573390e+07  651.853196  37.408389  5.033279  119535.864270  1.544267   \n",
       "1      1.573279e+07  645.351497  44.837997  4.932744  120746.971132  1.475209   \n",
       "\n",
       "       credit_card   loyalty  estimated_salary  \n",
       "churn                                           \n",
       "0         0.707146  0.554565      99738.391772  \n",
       "1         0.699067  0.360825     101465.677531  "
      ]
     },
     "execution_count": 45,
     "metadata": {},
     "output_type": "execute_result"
    }
   ],
   "source": [
    "df.groupby('churn').mean() # средние значения признаков в двух группах — тех, кто ушел в отток и тех, кто остался"
   ]
  },
  {
   "cell_type": "markdown",
   "metadata": {},
   "source": [
    "Средние значения признаков групп практически все схожи, кроме двух признаков - это `age` и `loyalty`. В группе клиентов, ушедших в отток, возраст больше, и меньше активность."
   ]
  },
  {
   "cell_type": "code",
   "execution_count": 46,
   "metadata": {},
   "outputs": [
    {
     "data": {
      "text/html": [
       "<div>\n",
       "<style scoped>\n",
       "    .dataframe tbody tr th:only-of-type {\n",
       "        vertical-align: middle;\n",
       "    }\n",
       "\n",
       "    .dataframe tbody tr th {\n",
       "        vertical-align: top;\n",
       "    }\n",
       "\n",
       "    .dataframe thead th {\n",
       "        text-align: right;\n",
       "    }\n",
       "</style>\n",
       "<table border=\"1\" class=\"dataframe\">\n",
       "  <thead>\n",
       "    <tr style=\"text-align: right;\">\n",
       "      <th></th>\n",
       "      <th>user_id</th>\n",
       "      <th>credit_card1</th>\n",
       "      <th>credit_card1_part</th>\n",
       "    </tr>\n",
       "    <tr>\n",
       "      <th>churn</th>\n",
       "      <th></th>\n",
       "      <th></th>\n",
       "      <th></th>\n",
       "    </tr>\n",
       "  </thead>\n",
       "  <tbody>\n",
       "    <tr>\n",
       "      <th>0</th>\n",
       "      <td>7963</td>\n",
       "      <td>5631</td>\n",
       "      <td>70.714555</td>\n",
       "    </tr>\n",
       "    <tr>\n",
       "      <th>1</th>\n",
       "      <td>2037</td>\n",
       "      <td>1424</td>\n",
       "      <td>69.906726</td>\n",
       "    </tr>\n",
       "  </tbody>\n",
       "</table>\n",
       "</div>"
      ],
      "text/plain": [
       "       user_id  credit_card1  credit_card1_part\n",
       "churn                                          \n",
       "0         7963          5631          70.714555\n",
       "1         2037          1424          69.906726"
      ]
     },
     "execution_count": 46,
     "metadata": {},
     "output_type": "execute_result"
    }
   ],
   "source": [
    "df_credit_card = df.groupby(['churn']).agg({'user_id':'nunique'})\n",
    "df_credit_card['credit_card1'] = df.query('credit_card == 1').groupby(['churn']).agg({'credit_card':'count'}).sort_values(by='credit_card', ascending=False)\n",
    "df_credit_card['credit_card1_part'] = df_credit_card['credit_card1'] / df_credit_card['user_id'] * 100\n",
    "df_credit_card.sort_values(by='credit_card1_part', ascending=False) # вывод количества клиентов, количества клиентов, пользующихся кредитной картой в двух группах\n",
    "\n",
    "# пользование кредитной картой у двух групп практически одинаковое."
   ]
  },
  {
   "cell_type": "markdown",
   "metadata": {},
   "source": [
    "Пользование кредитной картой у двух групп практически одинаковое."
   ]
  },
  {
   "cell_type": "code",
   "execution_count": 47,
   "metadata": {
    "scrolled": true
   },
   "outputs": [
    {
     "data": {
      "image/png": "[encoded data removed]",
      "text/plain": [
       "<Figure size 432x288 with 1 Axes>"
      ]
     },
     "metadata": {
      "needs_background": "light"
     },
     "output_type": "display_data"
    },
    {
     "data": {
      "image/png": "[encoded data removed]",
      "text/plain": [
       "<Figure size 432x288 with 1 Axes>"
      ]
     },
     "metadata": {
      "needs_background": "light"
     },
     "output_type": "display_data"
    },
    {
     "data": {
      "image/png": "[encoded data removed]",
      "text/plain": [
       "<Figure size 432x288 with 1 Axes>"
      ]
     },
     "metadata": {
      "needs_background": "light"
     },
     "output_type": "display_data"
    },
    {
     "data": {
      "image/png": "[encoded data removed]",
      "text/plain": [
       "<Figure size 432x288 with 1 Axes>"
      ]
     },
     "metadata": {
      "needs_background": "light"
     },
     "output_type": "display_data"
    },
    {
     "data": {
      "image/png": "[encoded data removed]",
      "text/plain": [
       "<Figure size 432x288 with 1 Axes>"
      ]
     },
     "metadata": {
      "needs_background": "light"
     },
     "output_type": "display_data"
    },
    {
     "data": {
      "image/png": "[encoded data removed]",
      "text/plain": [
       "<Figure size 432x288 with 1 Axes>"
      ]
     },
     "metadata": {
      "needs_background": "light"
     },
     "output_type": "display_data"
    }
   ],
   "source": [
    "columns = ['score','age', 'objects', 'balance', 'products', 'estimated_salary'] # построение \"ящика с усами\" для признаков оттока \n",
    "\n",
    "for column in columns:\n",
    "    sns.boxplot(x='churn', y=column, hue='churn', data=df)\n",
    "    plt.title(f'Распределение признака {column} действующих клиентов и клиентов оттока')\n",
    "    plt.xlabel(\"Критерий оттока\")\n",
    "    plt.ylabel(f'Значение признака {column}')\n",
    "    plt.show()"
   ]
  },
  {
   "cell_type": "markdown",
   "metadata": {},
   "source": [
    "\n",
    "Выбросы присутствуют в признаках `score`,  `age`, `balance`."
   ]
  },
  {
   "cell_type": "markdown",
   "metadata": {},
   "source": [
    "### Построение столбчатых гистограмм признаков целевых групп (кто ушёл в отток и тех, кто остался)"
   ]
  },
  {
   "cell_type": "code",
   "execution_count": 48,
   "metadata": {
    "scrolled": true
   },
   "outputs": [
    {
     "data": {
      "image/png": "[encoded data removed]",
      "text/plain": [
       "<Figure size 1440x1080 with 12 Axes>"
      ]
     },
     "metadata": {
      "needs_background": "light"
     },
     "output_type": "display_data"
    }
   ],
   "source": [
    "plt.figure(figsize=(20, 15)) # построение столбчатых гистограмм признаков для групп оттока и активных клиентов\n",
    "\n",
    "for i, col in enumerate(df.columns):\n",
    "   \n",
    "    plt.subplot(3, 4, i+1)\n",
    "    ax = df.query('churn==0')[col].hist(label=0, bins=20, color='pink')\n",
    "    ax = df.query('churn==1')[col].hist(label=1, bins=20)\n",
    "    plt.title(f'Гистограмма признака {col}')\n",
    "    plt.ylabel('Количество')\n",
    "    plt.legend()\n",
    "    "
   ]
  },
  {
   "cell_type": "markdown",
   "metadata": {},
   "source": [
    "Признаки `score`, `age`, `balance` распределены нормально.\n",
    "\n",
    "По гендерному признаку `gender`, количеству объектов `objects`, заработной плате `estimated_salary` распределение равномерно.\n",
    "\n",
    "По количеству используемых продуктов `products` - в группе оттока, у клиентов было открыто 1, 2, 3, и 4 продукта (в основном  один продукт), в группе действующих клиентов- 1, 2, 3 открытых продукта (в основном один или два продукта).\n",
    "\n",
    "По количеству использования кредитных карт `credit_card`- у группы оттока и группы действующих клиентов наличие в  пользовании кредитной карты одинаковое.\n",
    "\n",
    "По статусу активного клиента `loyalty`- в группе оттока менее активные клиенты.\n",
    "\n"
   ]
  },
  {
   "cell_type": "markdown",
   "metadata": {},
   "source": [
    "### Построение матрицы корреляций (выделить признаки, которые наиболее коррелируются с целевой переменой)"
   ]
  },
  {
   "cell_type": "code",
   "execution_count": 49,
   "metadata": {},
   "outputs": [
    {
     "data": {
      "image/png": "[encoded data removed]",
      "text/plain": [
       "<Figure size 720x720 with 2 Axes>"
      ]
     },
     "metadata": {
      "needs_background": "light"
     },
     "output_type": "display_data"
    }
   ],
   "source": [
    "cm = df.corr() # вычисляем матрицу корреляций\n",
    "\n",
    "fig, ax = plt.subplots(figsize =(10, 10))\n",
    "sns.heatmap(cm.round(3), annot=True, square=True) # нарисуем тепловую карту с подписями для матрицы корреляций\n",
    "plt.title('Матрица корреляций признаков')\n",
    "plt.show()"
   ]
  },
  {
   "cell_type": "markdown",
   "metadata": {},
   "source": [
    "Наиболее коррелируют с целевой переменной два признака - это `age` (возраст) и `loyalty` (активность)."
   ]
  },
  {
   "cell_type": "markdown",
   "metadata": {},
   "source": [
    "Построим матрицу корреляций с учетом категориальной переменной `city`."
   ]
  },
  {
   "cell_type": "code",
   "execution_count": 50,
   "metadata": {},
   "outputs": [],
   "source": [
    "s = pd.Series(df['city'])\n",
    "s_1 = pd.get_dummies(s) # one-hot кодировка категориальной переменной `city`"
   ]
  },
  {
   "cell_type": "code",
   "execution_count": 51,
   "metadata": {},
   "outputs": [
    {
     "data": {
      "text/html": [
       "<div>\n",
       "<style scoped>\n",
       "    .dataframe tbody tr th:only-of-type {\n",
       "        vertical-align: middle;\n",
       "    }\n",
       "\n",
       "    .dataframe tbody tr th {\n",
       "        vertical-align: top;\n",
       "    }\n",
       "\n",
       "    .dataframe thead th {\n",
       "        text-align: right;\n",
       "    }\n",
       "</style>\n",
       "<table border=\"1\" class=\"dataframe\">\n",
       "  <thead>\n",
       "    <tr style=\"text-align: right;\">\n",
       "      <th></th>\n",
       "      <th>user_id</th>\n",
       "      <th>score</th>\n",
       "      <th>city</th>\n",
       "      <th>gender</th>\n",
       "      <th>age</th>\n",
       "      <th>objects</th>\n",
       "      <th>balance</th>\n",
       "      <th>products</th>\n",
       "      <th>credit_card</th>\n",
       "      <th>loyalty</th>\n",
       "      <th>estimated_salary</th>\n",
       "      <th>churn</th>\n",
       "      <th>Ростов Великий</th>\n",
       "      <th>Рыбинск</th>\n",
       "      <th>Ярославль</th>\n",
       "    </tr>\n",
       "  </thead>\n",
       "  <tbody>\n",
       "    <tr>\n",
       "      <th>0</th>\n",
       "      <td>15677338</td>\n",
       "      <td>619</td>\n",
       "      <td>Ярославль</td>\n",
       "      <td>Ж</td>\n",
       "      <td>42</td>\n",
       "      <td>2</td>\n",
       "      <td>NaN</td>\n",
       "      <td>1</td>\n",
       "      <td>1</td>\n",
       "      <td>1</td>\n",
       "      <td>101348.88</td>\n",
       "      <td>1</td>\n",
       "      <td>0</td>\n",
       "      <td>0</td>\n",
       "      <td>1</td>\n",
       "    </tr>\n",
       "    <tr>\n",
       "      <th>1</th>\n",
       "      <td>15690047</td>\n",
       "      <td>608</td>\n",
       "      <td>Рыбинск</td>\n",
       "      <td>Ж</td>\n",
       "      <td>41</td>\n",
       "      <td>1</td>\n",
       "      <td>83807.86</td>\n",
       "      <td>1</td>\n",
       "      <td>0</td>\n",
       "      <td>1</td>\n",
       "      <td>112542.58</td>\n",
       "      <td>0</td>\n",
       "      <td>0</td>\n",
       "      <td>1</td>\n",
       "      <td>0</td>\n",
       "    </tr>\n",
       "    <tr>\n",
       "      <th>2</th>\n",
       "      <td>15662040</td>\n",
       "      <td>502</td>\n",
       "      <td>Ярославль</td>\n",
       "      <td>Ж</td>\n",
       "      <td>42</td>\n",
       "      <td>8</td>\n",
       "      <td>159660.80</td>\n",
       "      <td>3</td>\n",
       "      <td>1</td>\n",
       "      <td>0</td>\n",
       "      <td>113931.57</td>\n",
       "      <td>1</td>\n",
       "      <td>0</td>\n",
       "      <td>0</td>\n",
       "      <td>1</td>\n",
       "    </tr>\n",
       "    <tr>\n",
       "      <th>3</th>\n",
       "      <td>15744090</td>\n",
       "      <td>699</td>\n",
       "      <td>Ярославль</td>\n",
       "      <td>Ж</td>\n",
       "      <td>39</td>\n",
       "      <td>1</td>\n",
       "      <td>NaN</td>\n",
       "      <td>2</td>\n",
       "      <td>0</td>\n",
       "      <td>0</td>\n",
       "      <td>93826.63</td>\n",
       "      <td>0</td>\n",
       "      <td>0</td>\n",
       "      <td>0</td>\n",
       "      <td>1</td>\n",
       "    </tr>\n",
       "    <tr>\n",
       "      <th>4</th>\n",
       "      <td>15780624</td>\n",
       "      <td>850</td>\n",
       "      <td>Рыбинск</td>\n",
       "      <td>Ж</td>\n",
       "      <td>43</td>\n",
       "      <td>2</td>\n",
       "      <td>125510.82</td>\n",
       "      <td>1</td>\n",
       "      <td>1</td>\n",
       "      <td>1</td>\n",
       "      <td>79084.10</td>\n",
       "      <td>0</td>\n",
       "      <td>0</td>\n",
       "      <td>1</td>\n",
       "      <td>0</td>\n",
       "    </tr>\n",
       "    <tr>\n",
       "      <th>...</th>\n",
       "      <td>...</td>\n",
       "      <td>...</td>\n",
       "      <td>...</td>\n",
       "      <td>...</td>\n",
       "      <td>...</td>\n",
       "      <td>...</td>\n",
       "      <td>...</td>\n",
       "      <td>...</td>\n",
       "      <td>...</td>\n",
       "      <td>...</td>\n",
       "      <td>...</td>\n",
       "      <td>...</td>\n",
       "      <td>...</td>\n",
       "      <td>...</td>\n",
       "      <td>...</td>\n",
       "    </tr>\n",
       "    <tr>\n",
       "      <th>9995</th>\n",
       "      <td>15648965</td>\n",
       "      <td>771</td>\n",
       "      <td>Ярославль</td>\n",
       "      <td>М</td>\n",
       "      <td>39</td>\n",
       "      <td>5</td>\n",
       "      <td>NaN</td>\n",
       "      <td>2</td>\n",
       "      <td>1</td>\n",
       "      <td>0</td>\n",
       "      <td>96270.64</td>\n",
       "      <td>0</td>\n",
       "      <td>0</td>\n",
       "      <td>0</td>\n",
       "      <td>1</td>\n",
       "    </tr>\n",
       "    <tr>\n",
       "      <th>9996</th>\n",
       "      <td>15612628</td>\n",
       "      <td>516</td>\n",
       "      <td>Ярославль</td>\n",
       "      <td>М</td>\n",
       "      <td>35</td>\n",
       "      <td>10</td>\n",
       "      <td>57369.61</td>\n",
       "      <td>1</td>\n",
       "      <td>1</td>\n",
       "      <td>1</td>\n",
       "      <td>101699.77</td>\n",
       "      <td>0</td>\n",
       "      <td>0</td>\n",
       "      <td>0</td>\n",
       "      <td>1</td>\n",
       "    </tr>\n",
       "    <tr>\n",
       "      <th>9997</th>\n",
       "      <td>15627268</td>\n",
       "      <td>709</td>\n",
       "      <td>Ярославль</td>\n",
       "      <td>Ж</td>\n",
       "      <td>36</td>\n",
       "      <td>7</td>\n",
       "      <td>NaN</td>\n",
       "      <td>1</td>\n",
       "      <td>0</td>\n",
       "      <td>1</td>\n",
       "      <td>42085.58</td>\n",
       "      <td>1</td>\n",
       "      <td>0</td>\n",
       "      <td>0</td>\n",
       "      <td>1</td>\n",
       "    </tr>\n",
       "    <tr>\n",
       "      <th>9998</th>\n",
       "      <td>15725091</td>\n",
       "      <td>772</td>\n",
       "      <td>Ростов Великий</td>\n",
       "      <td>М</td>\n",
       "      <td>42</td>\n",
       "      <td>3</td>\n",
       "      <td>75075.31</td>\n",
       "      <td>2</td>\n",
       "      <td>1</td>\n",
       "      <td>0</td>\n",
       "      <td>92888.52</td>\n",
       "      <td>1</td>\n",
       "      <td>1</td>\n",
       "      <td>0</td>\n",
       "      <td>0</td>\n",
       "    </tr>\n",
       "    <tr>\n",
       "      <th>9999</th>\n",
       "      <td>15671055</td>\n",
       "      <td>792</td>\n",
       "      <td>Ярославль</td>\n",
       "      <td>Ж</td>\n",
       "      <td>28</td>\n",
       "      <td>4</td>\n",
       "      <td>130142.79</td>\n",
       "      <td>1</td>\n",
       "      <td>1</td>\n",
       "      <td>0</td>\n",
       "      <td>38190.78</td>\n",
       "      <td>0</td>\n",
       "      <td>0</td>\n",
       "      <td>0</td>\n",
       "      <td>1</td>\n",
       "    </tr>\n",
       "  </tbody>\n",
       "</table>\n",
       "<p>10000 rows × 15 columns</p>\n",
       "</div>"
      ],
      "text/plain": [
       "       user_id  score            city gender  age  objects    balance  \\\n",
       "0     15677338    619       Ярославль      Ж   42        2        NaN   \n",
       "1     15690047    608         Рыбинск      Ж   41        1   83807.86   \n",
       "2     15662040    502       Ярославль      Ж   42        8  159660.80   \n",
       "3     15744090    699       Ярославль      Ж   39        1        NaN   \n",
       "4     15780624    850         Рыбинск      Ж   43        2  125510.82   \n",
       "...        ...    ...             ...    ...  ...      ...        ...   \n",
       "9995  15648965    771       Ярославль      М   39        5        NaN   \n",
       "9996  15612628    516       Ярославль      М   35       10   57369.61   \n",
       "9997  15627268    709       Ярославль      Ж   36        7        NaN   \n",
       "9998  15725091    772  Ростов Великий      М   42        3   75075.31   \n",
       "9999  15671055    792       Ярославль      Ж   28        4  130142.79   \n",
       "\n",
       "      products  credit_card  loyalty  estimated_salary  churn  Ростов Великий  \\\n",
       "0            1            1        1         101348.88      1               0   \n",
       "1            1            0        1         112542.58      0               0   \n",
       "2            3            1        0         113931.57      1               0   \n",
       "3            2            0        0          93826.63      0               0   \n",
       "4            1            1        1          79084.10      0               0   \n",
       "...        ...          ...      ...               ...    ...             ...   \n",
       "9995         2            1        0          96270.64      0               0   \n",
       "9996         1            1        1         101699.77      0               0   \n",
       "9997         1            0        1          42085.58      1               0   \n",
       "9998         2            1        0          92888.52      1               1   \n",
       "9999         1            1        0          38190.78      0               0   \n",
       "\n",
       "      Рыбинск  Ярославль  \n",
       "0           0          1  \n",
       "1           1          0  \n",
       "2           0          1  \n",
       "3           0          1  \n",
       "4           1          0  \n",
       "...       ...        ...  \n",
       "9995        0          1  \n",
       "9996        0          1  \n",
       "9997        0          1  \n",
       "9998        0          0  \n",
       "9999        0          1  \n",
       "\n",
       "[10000 rows x 15 columns]"
      ]
     },
     "execution_count": 51,
     "metadata": {},
     "output_type": "execute_result"
    }
   ],
   "source": [
    "df_3 = pd.concat([df, s_1], sort=False,axis=1)\n",
    "df_3"
   ]
  },
  {
   "cell_type": "code",
   "execution_count": 52,
   "metadata": {},
   "outputs": [
    {
     "data": {
      "image/png": "[encoded data removed]",
      "text/plain": [
       "<Figure size 720x720 with 2 Axes>"
      ]
     },
     "metadata": {
      "needs_background": "light"
     },
     "output_type": "display_data"
    }
   ],
   "source": [
    "cm_1 = df_3.corr() # вычисляем матрицу корреляций с учетом категориальными переменными `city`\n",
    "\n",
    "fig, ax = plt.subplots(figsize =(10, 10))\n",
    "sns.heatmap(cm_1.round(3), annot=True, square=True) # нарисуем тепловую карту с подписями для матрицы корреляций\n",
    "plt.title('Матрица корреляций признаков')\n",
    "plt.show()"
   ]
  },
  {
   "cell_type": "markdown",
   "metadata": {},
   "source": [
    "Наиболее коррелирует с целевой переменной категориальная переменная со значением- Ростов Великий."
   ]
  },
  {
   "cell_type": "markdown",
   "metadata": {},
   "source": [
    "### Определение процента оттока из банка для разных городов (из какого города отток больше? характерен ли отток для какого-то определенного города?)"
   ]
  },
  {
   "cell_type": "code",
   "execution_count": 53,
   "metadata": {},
   "outputs": [
    {
     "data": {
      "text/html": [
       "<div>\n",
       "<style scoped>\n",
       "    .dataframe tbody tr th:only-of-type {\n",
       "        vertical-align: middle;\n",
       "    }\n",
       "\n",
       "    .dataframe tbody tr th {\n",
       "        vertical-align: top;\n",
       "    }\n",
       "\n",
       "    .dataframe thead th {\n",
       "        text-align: right;\n",
       "    }\n",
       "</style>\n",
       "<table border=\"1\" class=\"dataframe\">\n",
       "  <thead>\n",
       "    <tr style=\"text-align: right;\">\n",
       "      <th></th>\n",
       "      <th>user_id</th>\n",
       "      <th>churn1</th>\n",
       "      <th>churn1_part</th>\n",
       "    </tr>\n",
       "    <tr>\n",
       "      <th>city</th>\n",
       "      <th></th>\n",
       "      <th></th>\n",
       "      <th></th>\n",
       "    </tr>\n",
       "  </thead>\n",
       "  <tbody>\n",
       "    <tr>\n",
       "      <th>Ростов Великий</th>\n",
       "      <td>2509</td>\n",
       "      <td>814</td>\n",
       "      <td>32.443204</td>\n",
       "    </tr>\n",
       "    <tr>\n",
       "      <th>Рыбинск</th>\n",
       "      <td>2477</td>\n",
       "      <td>413</td>\n",
       "      <td>16.673395</td>\n",
       "    </tr>\n",
       "    <tr>\n",
       "      <th>Ярославль</th>\n",
       "      <td>5014</td>\n",
       "      <td>810</td>\n",
       "      <td>16.154767</td>\n",
       "    </tr>\n",
       "  </tbody>\n",
       "</table>\n",
       "</div>"
      ],
      "text/plain": [
       "                user_id  churn1  churn1_part\n",
       "city                                        \n",
       "Ростов Великий     2509     814    32.443204\n",
       "Рыбинск            2477     413    16.673395\n",
       "Ярославль          5014     810    16.154767"
      ]
     },
     "execution_count": 53,
     "metadata": {},
     "output_type": "execute_result"
    }
   ],
   "source": [
    "df_city = df.groupby(['city']).agg({'user_id':'nunique'})\n",
    "df_city['churn1'] = df.query('churn == 1').groupby(['city']).agg({'churn':'count'}).sort_values(by='churn', ascending=False)\n",
    "df_city['churn1_part'] = df_city['churn1'] / df_city['user_id'] * 100\n",
    "df_city.sort_values(by='churn1_part', ascending=False) # вывод количества клиентов, количества клиентов, ушедших в оттток с разбивкой по городам"
   ]
  },
  {
   "cell_type": "code",
   "execution_count": 54,
   "metadata": {},
   "outputs": [
    {
     "data": {
      "image/png": "[encoded data removed]",
      "text/plain": [
       "<Figure size 432x288 with 1 Axes>"
      ]
     },
     "metadata": {
      "needs_background": "light"
     },
     "output_type": "display_data"
    }
   ],
   "source": [
    "df_city.plot(y = 'churn1_part',  kind='bar')\n",
    "plt.title(f'Процент оттока клиентов в разных городах')\n",
    "plt.ylabel('Процент оттока, %')\n",
    "plt.legend()\n",
    "plt.show()"
   ]
  },
  {
   "cell_type": "markdown",
   "metadata": {},
   "source": [
    "Отток клиентов характерен для клиентов из города Ростов Великий, отток клиентов составляет 32%. Для городов Рыбинск и Ярославль отток в процентном отношении одинаков и составляет около 16%. "
   ]
  },
  {
   "cell_type": "markdown",
   "metadata": {},
   "source": [
    "### Определение средних значений признаков с разбивкой по городам (одинаковы ли средние значения признаков для разных городов?)"
   ]
  },
  {
   "cell_type": "code",
   "execution_count": 55,
   "metadata": {},
   "outputs": [
    {
     "data": {
      "text/html": [
       "<div>\n",
       "<style scoped>\n",
       "    .dataframe tbody tr th:only-of-type {\n",
       "        vertical-align: middle;\n",
       "    }\n",
       "\n",
       "    .dataframe tbody tr th {\n",
       "        vertical-align: top;\n",
       "    }\n",
       "\n",
       "    .dataframe thead th {\n",
       "        text-align: right;\n",
       "    }\n",
       "</style>\n",
       "<table border=\"1\" class=\"dataframe\">\n",
       "  <thead>\n",
       "    <tr style=\"text-align: right;\">\n",
       "      <th></th>\n",
       "      <th></th>\n",
       "      <th>user_id</th>\n",
       "      <th>score</th>\n",
       "      <th>age</th>\n",
       "      <th>objects</th>\n",
       "      <th>balance</th>\n",
       "      <th>products</th>\n",
       "      <th>credit_card</th>\n",
       "      <th>loyalty</th>\n",
       "      <th>estimated_salary</th>\n",
       "    </tr>\n",
       "    <tr>\n",
       "      <th>city</th>\n",
       "      <th>churn</th>\n",
       "      <th></th>\n",
       "      <th></th>\n",
       "      <th></th>\n",
       "      <th></th>\n",
       "      <th></th>\n",
       "      <th></th>\n",
       "      <th></th>\n",
       "      <th></th>\n",
       "      <th></th>\n",
       "    </tr>\n",
       "  </thead>\n",
       "  <tbody>\n",
       "    <tr>\n",
       "      <th rowspan=\"2\" valign=\"top\">Ростов Великий</th>\n",
       "      <th>0</th>\n",
       "      <td>1.573418e+07</td>\n",
       "      <td>653.261357</td>\n",
       "      <td>37.311504</td>\n",
       "      <td>5.011799</td>\n",
       "      <td>119427.106696</td>\n",
       "      <td>1.551032</td>\n",
       "      <td>0.716224</td>\n",
       "      <td>0.561652</td>\n",
       "      <td>102414.657876</td>\n",
       "    </tr>\n",
       "    <tr>\n",
       "      <th>1</th>\n",
       "      <td>1.573144e+07</td>\n",
       "      <td>647.689189</td>\n",
       "      <td>44.894349</td>\n",
       "      <td>5.006143</td>\n",
       "      <td>120361.075590</td>\n",
       "      <td>1.454545</td>\n",
       "      <td>0.708845</td>\n",
       "      <td>0.363636</td>\n",
       "      <td>98403.886450</td>\n",
       "    </tr>\n",
       "    <tr>\n",
       "      <th rowspan=\"2\" valign=\"top\">Рыбинск</th>\n",
       "      <th>0</th>\n",
       "      <td>1.573550e+07</td>\n",
       "      <td>652.104167</td>\n",
       "      <td>37.839147</td>\n",
       "      <td>5.107558</td>\n",
       "      <td>119820.561722</td>\n",
       "      <td>1.544574</td>\n",
       "      <td>0.699128</td>\n",
       "      <td>0.567345</td>\n",
       "      <td>98602.369864</td>\n",
       "    </tr>\n",
       "    <tr>\n",
       "      <th>1</th>\n",
       "      <td>1.573042e+07</td>\n",
       "      <td>647.484262</td>\n",
       "      <td>44.147700</td>\n",
       "      <td>4.656174</td>\n",
       "      <td>119792.058240</td>\n",
       "      <td>1.513317</td>\n",
       "      <td>0.673123</td>\n",
       "      <td>0.341404</td>\n",
       "      <td>103629.554818</td>\n",
       "    </tr>\n",
       "    <tr>\n",
       "      <th rowspan=\"2\" valign=\"top\">Ярославль</th>\n",
       "      <th>0</th>\n",
       "      <td>1.573301e+07</td>\n",
       "      <td>651.162226</td>\n",
       "      <td>37.235966</td>\n",
       "      <td>5.005471</td>\n",
       "      <td>119484.839826</td>\n",
       "      <td>1.541389</td>\n",
       "      <td>0.707422</td>\n",
       "      <td>0.545433</td>\n",
       "      <td>99217.097331</td>\n",
       "    </tr>\n",
       "    <tr>\n",
       "      <th>1</th>\n",
       "      <td>1.573535e+07</td>\n",
       "      <td>641.914815</td>\n",
       "      <td>45.133333</td>\n",
       "      <td>5.000000</td>\n",
       "      <td>121915.781268</td>\n",
       "      <td>1.476543</td>\n",
       "      <td>0.702469</td>\n",
       "      <td>0.367901</td>\n",
       "      <td>103439.278296</td>\n",
       "    </tr>\n",
       "  </tbody>\n",
       "</table>\n",
       "</div>"
      ],
      "text/plain": [
       "                           user_id       score        age   objects  \\\n",
       "city           churn                                                  \n",
       "Ростов Великий 0      1.573418e+07  653.261357  37.311504  5.011799   \n",
       "               1      1.573144e+07  647.689189  44.894349  5.006143   \n",
       "Рыбинск        0      1.573550e+07  652.104167  37.839147  5.107558   \n",
       "               1      1.573042e+07  647.484262  44.147700  4.656174   \n",
       "Ярославль      0      1.573301e+07  651.162226  37.235966  5.005471   \n",
       "               1      1.573535e+07  641.914815  45.133333  5.000000   \n",
       "\n",
       "                            balance  products  credit_card   loyalty  \\\n",
       "city           churn                                                   \n",
       "Ростов Великий 0      119427.106696  1.551032     0.716224  0.561652   \n",
       "               1      120361.075590  1.454545     0.708845  0.363636   \n",
       "Рыбинск        0      119820.561722  1.544574     0.699128  0.567345   \n",
       "               1      119792.058240  1.513317     0.673123  0.341404   \n",
       "Ярославль      0      119484.839826  1.541389     0.707422  0.545433   \n",
       "               1      121915.781268  1.476543     0.702469  0.367901   \n",
       "\n",
       "                      estimated_salary  \n",
       "city           churn                    \n",
       "Ростов Великий 0         102414.657876  \n",
       "               1          98403.886450  \n",
       "Рыбинск        0          98602.369864  \n",
       "               1         103629.554818  \n",
       "Ярославль      0          99217.097331  \n",
       "               1         103439.278296  "
      ]
     },
     "execution_count": 55,
     "metadata": {},
     "output_type": "execute_result"
    }
   ],
   "source": [
    "df.groupby(['city', 'churn']).mean() # вывод средних значений признаков оттока клиентов с разбивкой по городам"
   ]
  },
  {
   "cell_type": "markdown",
   "metadata": {},
   "source": [
    "Для клиентов, ушедших в отток, можно выделить два отличающих признака - это более старший возраст и меньшая активность, по сравнению с группами действующих клиентов. Значения всех остальных признаков примерно одинаковы для разных групп."
   ]
  },
  {
   "cell_type": "markdown",
   "metadata": {},
   "source": [
    "### Определение процента оттока клиентов  и их активности с разбивкой по возрастным категориям"
   ]
  },
  {
   "cell_type": "code",
   "execution_count": 56,
   "metadata": {},
   "outputs": [],
   "source": [
    "def age_id(row): #функция для категоризации данных по возрасту\n",
    "    if 18 <= row <=25:\n",
    "        return \"18-25\"\n",
    "    if 26 <= row <=30:\n",
    "        return \"26-30\"\n",
    "    if 31 <= row <=35:\n",
    "        return \"31-35\"\n",
    "    if 36 <= row <=40:\n",
    "        return \"36-40\"\n",
    "    if 41 <= row <=45:\n",
    "        return \"41-45\"\n",
    "    if 46 <= row <=50:\n",
    "        return \"46-50\"\n",
    "    if 41 <= row <=45:\n",
    "        return \"41-45\"\n",
    "    if 46 <= row <=50:\n",
    "        return \"46-50\"\n",
    "    if 51 <= row <=60:\n",
    "        return \"51-60\"\n",
    "    if row > 60:\n",
    "        return \"более 60\"\n",
    "    \n",
    "    \n",
    "df['category_age']= df['age'].apply(age_id)"
   ]
  },
  {
   "cell_type": "code",
   "execution_count": 57,
   "metadata": {},
   "outputs": [
    {
     "data": {
      "text/html": [
       "<div>\n",
       "<style scoped>\n",
       "    .dataframe tbody tr th:only-of-type {\n",
       "        vertical-align: middle;\n",
       "    }\n",
       "\n",
       "    .dataframe tbody tr th {\n",
       "        vertical-align: top;\n",
       "    }\n",
       "\n",
       "    .dataframe thead th {\n",
       "        text-align: right;\n",
       "    }\n",
       "</style>\n",
       "<table border=\"1\" class=\"dataframe\">\n",
       "  <thead>\n",
       "    <tr style=\"text-align: right;\">\n",
       "      <th></th>\n",
       "      <th>user_id</th>\n",
       "      <th>score</th>\n",
       "      <th>city</th>\n",
       "      <th>gender</th>\n",
       "      <th>age</th>\n",
       "      <th>objects</th>\n",
       "      <th>balance</th>\n",
       "      <th>products</th>\n",
       "      <th>credit_card</th>\n",
       "      <th>loyalty</th>\n",
       "      <th>estimated_salary</th>\n",
       "      <th>churn</th>\n",
       "      <th>category_age</th>\n",
       "    </tr>\n",
       "  </thead>\n",
       "  <tbody>\n",
       "    <tr>\n",
       "      <th>0</th>\n",
       "      <td>15677338</td>\n",
       "      <td>619</td>\n",
       "      <td>Ярославль</td>\n",
       "      <td>Ж</td>\n",
       "      <td>42</td>\n",
       "      <td>2</td>\n",
       "      <td>NaN</td>\n",
       "      <td>1</td>\n",
       "      <td>1</td>\n",
       "      <td>1</td>\n",
       "      <td>101348.88</td>\n",
       "      <td>1</td>\n",
       "      <td>41-45</td>\n",
       "    </tr>\n",
       "    <tr>\n",
       "      <th>1</th>\n",
       "      <td>15690047</td>\n",
       "      <td>608</td>\n",
       "      <td>Рыбинск</td>\n",
       "      <td>Ж</td>\n",
       "      <td>41</td>\n",
       "      <td>1</td>\n",
       "      <td>83807.86</td>\n",
       "      <td>1</td>\n",
       "      <td>0</td>\n",
       "      <td>1</td>\n",
       "      <td>112542.58</td>\n",
       "      <td>0</td>\n",
       "      <td>41-45</td>\n",
       "    </tr>\n",
       "    <tr>\n",
       "      <th>2</th>\n",
       "      <td>15662040</td>\n",
       "      <td>502</td>\n",
       "      <td>Ярославль</td>\n",
       "      <td>Ж</td>\n",
       "      <td>42</td>\n",
       "      <td>8</td>\n",
       "      <td>159660.80</td>\n",
       "      <td>3</td>\n",
       "      <td>1</td>\n",
       "      <td>0</td>\n",
       "      <td>113931.57</td>\n",
       "      <td>1</td>\n",
       "      <td>41-45</td>\n",
       "    </tr>\n",
       "    <tr>\n",
       "      <th>3</th>\n",
       "      <td>15744090</td>\n",
       "      <td>699</td>\n",
       "      <td>Ярославль</td>\n",
       "      <td>Ж</td>\n",
       "      <td>39</td>\n",
       "      <td>1</td>\n",
       "      <td>NaN</td>\n",
       "      <td>2</td>\n",
       "      <td>0</td>\n",
       "      <td>0</td>\n",
       "      <td>93826.63</td>\n",
       "      <td>0</td>\n",
       "      <td>36-40</td>\n",
       "    </tr>\n",
       "    <tr>\n",
       "      <th>4</th>\n",
       "      <td>15780624</td>\n",
       "      <td>850</td>\n",
       "      <td>Рыбинск</td>\n",
       "      <td>Ж</td>\n",
       "      <td>43</td>\n",
       "      <td>2</td>\n",
       "      <td>125510.82</td>\n",
       "      <td>1</td>\n",
       "      <td>1</td>\n",
       "      <td>1</td>\n",
       "      <td>79084.10</td>\n",
       "      <td>0</td>\n",
       "      <td>41-45</td>\n",
       "    </tr>\n",
       "    <tr>\n",
       "      <th>5</th>\n",
       "      <td>15616748</td>\n",
       "      <td>645</td>\n",
       "      <td>Рыбинск</td>\n",
       "      <td>М</td>\n",
       "      <td>44</td>\n",
       "      <td>8</td>\n",
       "      <td>113755.78</td>\n",
       "      <td>2</td>\n",
       "      <td>1</td>\n",
       "      <td>0</td>\n",
       "      <td>149756.71</td>\n",
       "      <td>1</td>\n",
       "      <td>41-45</td>\n",
       "    </tr>\n",
       "    <tr>\n",
       "      <th>6</th>\n",
       "      <td>15635267</td>\n",
       "      <td>822</td>\n",
       "      <td>Ярославль</td>\n",
       "      <td>М</td>\n",
       "      <td>50</td>\n",
       "      <td>7</td>\n",
       "      <td>NaN</td>\n",
       "      <td>2</td>\n",
       "      <td>1</td>\n",
       "      <td>1</td>\n",
       "      <td>10062.80</td>\n",
       "      <td>0</td>\n",
       "      <td>46-50</td>\n",
       "    </tr>\n",
       "    <tr>\n",
       "      <th>7</th>\n",
       "      <td>15698884</td>\n",
       "      <td>376</td>\n",
       "      <td>Ростов Великий</td>\n",
       "      <td>Ж</td>\n",
       "      <td>29</td>\n",
       "      <td>4</td>\n",
       "      <td>115046.74</td>\n",
       "      <td>4</td>\n",
       "      <td>1</td>\n",
       "      <td>0</td>\n",
       "      <td>119346.88</td>\n",
       "      <td>1</td>\n",
       "      <td>26-30</td>\n",
       "    </tr>\n",
       "    <tr>\n",
       "      <th>8</th>\n",
       "      <td>15835101</td>\n",
       "      <td>501</td>\n",
       "      <td>Ярославль</td>\n",
       "      <td>М</td>\n",
       "      <td>44</td>\n",
       "      <td>4</td>\n",
       "      <td>142051.07</td>\n",
       "      <td>2</td>\n",
       "      <td>0</td>\n",
       "      <td>1</td>\n",
       "      <td>74940.50</td>\n",
       "      <td>0</td>\n",
       "      <td>41-45</td>\n",
       "    </tr>\n",
       "    <tr>\n",
       "      <th>9</th>\n",
       "      <td>15635125</td>\n",
       "      <td>684</td>\n",
       "      <td>Ярославль</td>\n",
       "      <td>М</td>\n",
       "      <td>27</td>\n",
       "      <td>2</td>\n",
       "      <td>134603.88</td>\n",
       "      <td>1</td>\n",
       "      <td>1</td>\n",
       "      <td>1</td>\n",
       "      <td>71725.73</td>\n",
       "      <td>0</td>\n",
       "      <td>26-30</td>\n",
       "    </tr>\n",
       "  </tbody>\n",
       "</table>\n",
       "</div>"
      ],
      "text/plain": [
       "    user_id  score            city gender  age  objects    balance  products  \\\n",
       "0  15677338    619       Ярославль      Ж   42        2        NaN         1   \n",
       "1  15690047    608         Рыбинск      Ж   41        1   83807.86         1   \n",
       "2  15662040    502       Ярославль      Ж   42        8  159660.80         3   \n",
       "3  15744090    699       Ярославль      Ж   39        1        NaN         2   \n",
       "4  15780624    850         Рыбинск      Ж   43        2  125510.82         1   \n",
       "5  15616748    645         Рыбинск      М   44        8  113755.78         2   \n",
       "6  15635267    822       Ярославль      М   50        7        NaN         2   \n",
       "7  15698884    376  Ростов Великий      Ж   29        4  115046.74         4   \n",
       "8  15835101    501       Ярославль      М   44        4  142051.07         2   \n",
       "9  15635125    684       Ярославль      М   27        2  134603.88         1   \n",
       "\n",
       "   credit_card  loyalty  estimated_salary  churn category_age  \n",
       "0            1        1         101348.88      1        41-45  \n",
       "1            0        1         112542.58      0        41-45  \n",
       "2            1        0         113931.57      1        41-45  \n",
       "3            0        0          93826.63      0        36-40  \n",
       "4            1        1          79084.10      0        41-45  \n",
       "5            1        0         149756.71      1        41-45  \n",
       "6            1        1          10062.80      0        46-50  \n",
       "7            1        0         119346.88      1        26-30  \n",
       "8            0        1          74940.50      0        41-45  \n",
       "9            1        1          71725.73      0        26-30  "
      ]
     },
     "execution_count": 57,
     "metadata": {},
     "output_type": "execute_result"
    }
   ],
   "source": [
    "df.head(10) # данные с разбивкой клиентов по возрастным категориям"
   ]
  },
  {
   "cell_type": "code",
   "execution_count": 58,
   "metadata": {},
   "outputs": [
    {
     "data": {
      "text/html": [
       "<div>\n",
       "<style scoped>\n",
       "    .dataframe tbody tr th:only-of-type {\n",
       "        vertical-align: middle;\n",
       "    }\n",
       "\n",
       "    .dataframe tbody tr th {\n",
       "        vertical-align: top;\n",
       "    }\n",
       "\n",
       "    .dataframe thead th {\n",
       "        text-align: right;\n",
       "    }\n",
       "</style>\n",
       "<table border=\"1\" class=\"dataframe\">\n",
       "  <thead>\n",
       "    <tr style=\"text-align: right;\">\n",
       "      <th></th>\n",
       "      <th>user_id</th>\n",
       "      <th>churn1</th>\n",
       "      <th>churn1_part</th>\n",
       "    </tr>\n",
       "    <tr>\n",
       "      <th>category_age</th>\n",
       "      <th></th>\n",
       "      <th></th>\n",
       "      <th></th>\n",
       "    </tr>\n",
       "  </thead>\n",
       "  <tbody>\n",
       "    <tr>\n",
       "      <th>18-25</th>\n",
       "      <td>611</td>\n",
       "      <td>46</td>\n",
       "      <td>7.528642</td>\n",
       "    </tr>\n",
       "    <tr>\n",
       "      <th>26-30</th>\n",
       "      <td>1357</td>\n",
       "      <td>102</td>\n",
       "      <td>7.516581</td>\n",
       "    </tr>\n",
       "    <tr>\n",
       "      <th>31-35</th>\n",
       "      <td>2185</td>\n",
       "      <td>199</td>\n",
       "      <td>9.107551</td>\n",
       "    </tr>\n",
       "    <tr>\n",
       "      <th>36-40</th>\n",
       "      <td>2266</td>\n",
       "      <td>339</td>\n",
       "      <td>14.960282</td>\n",
       "    </tr>\n",
       "    <tr>\n",
       "      <th>41-45</th>\n",
       "      <td>1470</td>\n",
       "      <td>394</td>\n",
       "      <td>26.802721</td>\n",
       "    </tr>\n",
       "    <tr>\n",
       "      <th>46-50</th>\n",
       "      <td>850</td>\n",
       "      <td>394</td>\n",
       "      <td>46.352941</td>\n",
       "    </tr>\n",
       "    <tr>\n",
       "      <th>51-60</th>\n",
       "      <td>797</td>\n",
       "      <td>448</td>\n",
       "      <td>56.210790</td>\n",
       "    </tr>\n",
       "    <tr>\n",
       "      <th>более 60</th>\n",
       "      <td>464</td>\n",
       "      <td>115</td>\n",
       "      <td>24.784483</td>\n",
       "    </tr>\n",
       "  </tbody>\n",
       "</table>\n",
       "</div>"
      ],
      "text/plain": [
       "              user_id  churn1  churn1_part\n",
       "category_age                              \n",
       "18-25             611      46     7.528642\n",
       "26-30            1357     102     7.516581\n",
       "31-35            2185     199     9.107551\n",
       "36-40            2266     339    14.960282\n",
       "41-45            1470     394    26.802721\n",
       "46-50             850     394    46.352941\n",
       "51-60             797     448    56.210790\n",
       "более 60          464     115    24.784483"
      ]
     },
     "execution_count": 58,
     "metadata": {},
     "output_type": "execute_result"
    }
   ],
   "source": [
    "df_age = df.groupby(['category_age']).agg({'user_id':'nunique'}) # группировка по возрастным категориям\n",
    "df_age['churn1'] = df.query('churn==1').groupby(['category_age'])['user_id'].count() # количество клиентов в оттоке в возрастной категории\n",
    "df_age['churn1_part'] = df_age['churn1'] / df_age['user_id'] * 100 # процент оттока в возрастной категории\n",
    "df_age # вывод процента оттока по разным возрастным категориям"
   ]
  },
  {
   "cell_type": "code",
   "execution_count": 66,
   "metadata": {},
   "outputs": [
    {
     "data": {
      "image/png": "[encoded data removed]",
      "text/plain": [
       "<Figure size 432x288 with 1 Axes>"
      ]
     },
     "metadata": {
      "needs_background": "light"
     },
     "output_type": "display_data"
    }
   ],
   "source": [
    "df_age.plot(y = 'churn1_part',  kind='bar')\n",
    "plt.title(f'Процент оттока клиентов в разных возрастных категориях')\n",
    "plt.ylabel('Процент оттока, %')\n",
    "plt.xlabel('Возрастная категория')\n",
    "plt.legend()\n",
    "plt.show()"
   ]
  },
  {
   "cell_type": "markdown",
   "metadata": {},
   "source": [
    "По данной таблице видим, что 27 % оттока клиентов начинается с возрастной группы 41-45, постепенно увеличиваясь до возрастной группы 51-60."
   ]
  },
  {
   "cell_type": "code",
   "execution_count": 59,
   "metadata": {},
   "outputs": [
    {
     "data": {
      "text/html": [
       "<div>\n",
       "<style scoped>\n",
       "    .dataframe tbody tr th:only-of-type {\n",
       "        vertical-align: middle;\n",
       "    }\n",
       "\n",
       "    .dataframe tbody tr th {\n",
       "        vertical-align: top;\n",
       "    }\n",
       "\n",
       "    .dataframe thead th {\n",
       "        text-align: right;\n",
       "    }\n",
       "</style>\n",
       "<table border=\"1\" class=\"dataframe\">\n",
       "  <thead>\n",
       "    <tr style=\"text-align: right;\">\n",
       "      <th></th>\n",
       "      <th>user_id</th>\n",
       "      <th>loyalty1</th>\n",
       "      <th>loyalty1_part</th>\n",
       "    </tr>\n",
       "    <tr>\n",
       "      <th>category_age</th>\n",
       "      <th></th>\n",
       "      <th></th>\n",
       "      <th></th>\n",
       "    </tr>\n",
       "  </thead>\n",
       "  <tbody>\n",
       "    <tr>\n",
       "      <th>18-25</th>\n",
       "      <td>611</td>\n",
       "      <td>323</td>\n",
       "      <td>52.864157</td>\n",
       "    </tr>\n",
       "    <tr>\n",
       "      <th>26-30</th>\n",
       "      <td>1357</td>\n",
       "      <td>683</td>\n",
       "      <td>50.331614</td>\n",
       "    </tr>\n",
       "    <tr>\n",
       "      <th>31-35</th>\n",
       "      <td>2185</td>\n",
       "      <td>1119</td>\n",
       "      <td>51.212815</td>\n",
       "    </tr>\n",
       "    <tr>\n",
       "      <th>36-40</th>\n",
       "      <td>2266</td>\n",
       "      <td>1096</td>\n",
       "      <td>48.367167</td>\n",
       "    </tr>\n",
       "    <tr>\n",
       "      <th>41-45</th>\n",
       "      <td>1470</td>\n",
       "      <td>695</td>\n",
       "      <td>47.278912</td>\n",
       "    </tr>\n",
       "    <tr>\n",
       "      <th>46-50</th>\n",
       "      <td>850</td>\n",
       "      <td>399</td>\n",
       "      <td>46.941176</td>\n",
       "    </tr>\n",
       "    <tr>\n",
       "      <th>51-60</th>\n",
       "      <td>797</td>\n",
       "      <td>461</td>\n",
       "      <td>57.841907</td>\n",
       "    </tr>\n",
       "    <tr>\n",
       "      <th>более 60</th>\n",
       "      <td>464</td>\n",
       "      <td>375</td>\n",
       "      <td>80.818966</td>\n",
       "    </tr>\n",
       "  </tbody>\n",
       "</table>\n",
       "</div>"
      ],
      "text/plain": [
       "              user_id  loyalty1  loyalty1_part\n",
       "category_age                                  \n",
       "18-25             611       323      52.864157\n",
       "26-30            1357       683      50.331614\n",
       "31-35            2185      1119      51.212815\n",
       "36-40            2266      1096      48.367167\n",
       "41-45            1470       695      47.278912\n",
       "46-50             850       399      46.941176\n",
       "51-60             797       461      57.841907\n",
       "более 60          464       375      80.818966"
      ]
     },
     "execution_count": 59,
     "metadata": {},
     "output_type": "execute_result"
    }
   ],
   "source": [
    "df_loyalty = df.groupby(['category_age']).agg({'user_id':'nunique'})  # группировка по возрастным категориям\n",
    "df_loyalty['loyalty1'] = df.query('loyalty==1').groupby(['category_age'])['user_id'].count() # количество активных клиентов в возрастной категории\n",
    "df_loyalty['loyalty1_part'] = df_loyalty['loyalty1'] / df_loyalty['user_id'] * 100 # процент активных клиентов в возрастной категории\n",
    "df_loyalty # вывод процента активности по разным возрастным категориям"
   ]
  },
  {
   "cell_type": "code",
   "execution_count": 84,
   "metadata": {},
   "outputs": [
    {
     "data": {
      "image/png": "[encoded data removed]",
      "text/plain": [
       "<Figure size 432x288 with 1 Axes>"
      ]
     },
     "metadata": {
      "needs_background": "light"
     },
     "output_type": "display_data"
    }
   ],
   "source": [
    "df_loyalty.plot(y = 'loyalty1_part',  kind='bar')\n",
    "plt.title(f'Процент активных клиентов в разных возрастных категориях')\n",
    "plt.ylabel('Процент активных клиентов, %')\n",
    "plt.xlabel('Возрастная категория')\n",
    "plt.legend()\n",
    "plt.show()"
   ]
  },
  {
   "cell_type": "markdown",
   "metadata": {},
   "source": [
    "Подтверждается меньшая активность клиентов в возрастных группах 36-40, 41-45, 46-50."
   ]
  },
  {
   "cell_type": "code",
   "execution_count": 60,
   "metadata": {
    "scrolled": true
   },
   "outputs": [
    {
     "data": {
      "text/html": [
       "<div>\n",
       "<style scoped>\n",
       "    .dataframe tbody tr th:only-of-type {\n",
       "        vertical-align: middle;\n",
       "    }\n",
       "\n",
       "    .dataframe tbody tr th {\n",
       "        vertical-align: top;\n",
       "    }\n",
       "\n",
       "    .dataframe thead th {\n",
       "        text-align: right;\n",
       "    }\n",
       "</style>\n",
       "<table border=\"1\" class=\"dataframe\">\n",
       "  <thead>\n",
       "    <tr style=\"text-align: right;\">\n",
       "      <th></th>\n",
       "      <th></th>\n",
       "      <th>user_id</th>\n",
       "      <th>score</th>\n",
       "      <th>age</th>\n",
       "      <th>objects</th>\n",
       "      <th>balance</th>\n",
       "      <th>products</th>\n",
       "      <th>credit_card</th>\n",
       "      <th>loyalty</th>\n",
       "      <th>estimated_salary</th>\n",
       "      <th>churn</th>\n",
       "    </tr>\n",
       "    <tr>\n",
       "      <th>category_age</th>\n",
       "      <th>city</th>\n",
       "      <th></th>\n",
       "      <th></th>\n",
       "      <th></th>\n",
       "      <th></th>\n",
       "      <th></th>\n",
       "      <th></th>\n",
       "      <th></th>\n",
       "      <th></th>\n",
       "      <th></th>\n",
       "      <th></th>\n",
       "    </tr>\n",
       "  </thead>\n",
       "  <tbody>\n",
       "    <tr>\n",
       "      <th rowspan=\"3\" valign=\"top\">18-25</th>\n",
       "      <th>Ростов Великий</th>\n",
       "      <td>1.572936e+07</td>\n",
       "      <td>639.454545</td>\n",
       "      <td>23.055944</td>\n",
       "      <td>5.076923</td>\n",
       "      <td>119192.591189</td>\n",
       "      <td>1.489510</td>\n",
       "      <td>0.720280</td>\n",
       "      <td>0.496503</td>\n",
       "      <td>103999.764545</td>\n",
       "      <td>0.111888</td>\n",
       "    </tr>\n",
       "    <tr>\n",
       "      <th>Рыбинск</th>\n",
       "      <td>1.573919e+07</td>\n",
       "      <td>650.580247</td>\n",
       "      <td>22.765432</td>\n",
       "      <td>5.833333</td>\n",
       "      <td>124242.111375</td>\n",
       "      <td>1.555556</td>\n",
       "      <td>0.703704</td>\n",
       "      <td>0.543210</td>\n",
       "      <td>98318.877778</td>\n",
       "      <td>0.086420</td>\n",
       "    </tr>\n",
       "    <tr>\n",
       "      <th>Ярославль</th>\n",
       "      <td>1.573075e+07</td>\n",
       "      <td>656.941176</td>\n",
       "      <td>22.810458</td>\n",
       "      <td>4.898693</td>\n",
       "      <td>123526.973660</td>\n",
       "      <td>1.575163</td>\n",
       "      <td>0.683007</td>\n",
       "      <td>0.535948</td>\n",
       "      <td>103201.786830</td>\n",
       "      <td>0.052288</td>\n",
       "    </tr>\n",
       "    <tr>\n",
       "      <th rowspan=\"3\" valign=\"top\">26-30</th>\n",
       "      <th>Ростов Великий</th>\n",
       "      <td>1.573300e+07</td>\n",
       "      <td>657.200000</td>\n",
       "      <td>28.338710</td>\n",
       "      <td>4.835484</td>\n",
       "      <td>119184.353710</td>\n",
       "      <td>1.509677</td>\n",
       "      <td>0.741935</td>\n",
       "      <td>0.516129</td>\n",
       "      <td>95892.922710</td>\n",
       "      <td>0.129032</td>\n",
       "    </tr>\n",
       "    <tr>\n",
       "      <th>Рыбинск</th>\n",
       "      <td>1.573192e+07</td>\n",
       "      <td>645.812698</td>\n",
       "      <td>28.285714</td>\n",
       "      <td>5.028571</td>\n",
       "      <td>119909.196974</td>\n",
       "      <td>1.625397</td>\n",
       "      <td>0.701587</td>\n",
       "      <td>0.504762</td>\n",
       "      <td>99381.080603</td>\n",
       "      <td>0.085714</td>\n",
       "    </tr>\n",
       "    <tr>\n",
       "      <th>Ярославль</th>\n",
       "      <td>1.572994e+07</td>\n",
       "      <td>651.010929</td>\n",
       "      <td>28.270492</td>\n",
       "      <td>5.107923</td>\n",
       "      <td>119439.676778</td>\n",
       "      <td>1.549180</td>\n",
       "      <td>0.714481</td>\n",
       "      <td>0.497268</td>\n",
       "      <td>103188.390970</td>\n",
       "      <td>0.047814</td>\n",
       "    </tr>\n",
       "    <tr>\n",
       "      <th rowspan=\"3\" valign=\"top\">31-35</th>\n",
       "      <th>Ростов Великий</th>\n",
       "      <td>1.573288e+07</td>\n",
       "      <td>656.927126</td>\n",
       "      <td>33.087045</td>\n",
       "      <td>4.914980</td>\n",
       "      <td>120248.778583</td>\n",
       "      <td>1.528340</td>\n",
       "      <td>0.724696</td>\n",
       "      <td>0.530364</td>\n",
       "      <td>104693.313482</td>\n",
       "      <td>0.159919</td>\n",
       "    </tr>\n",
       "    <tr>\n",
       "      <th>Рыбинск</th>\n",
       "      <td>1.573422e+07</td>\n",
       "      <td>648.281481</td>\n",
       "      <td>33.140741</td>\n",
       "      <td>5.214815</td>\n",
       "      <td>117505.500295</td>\n",
       "      <td>1.531481</td>\n",
       "      <td>0.700000</td>\n",
       "      <td>0.522222</td>\n",
       "      <td>98520.492241</td>\n",
       "      <td>0.085185</td>\n",
       "    </tr>\n",
       "    <tr>\n",
       "      <th>Ярославль</th>\n",
       "      <td>1.573410e+07</td>\n",
       "      <td>647.923545</td>\n",
       "      <td>33.043440</td>\n",
       "      <td>4.982624</td>\n",
       "      <td>120299.640411</td>\n",
       "      <td>1.526499</td>\n",
       "      <td>0.723719</td>\n",
       "      <td>0.499566</td>\n",
       "      <td>97106.443258</td>\n",
       "      <td>0.064292</td>\n",
       "    </tr>\n",
       "    <tr>\n",
       "      <th rowspan=\"3\" valign=\"top\">36-40</th>\n",
       "      <th>Ростов Великий</th>\n",
       "      <td>1.573788e+07</td>\n",
       "      <td>656.183712</td>\n",
       "      <td>37.984848</td>\n",
       "      <td>5.179924</td>\n",
       "      <td>118794.099470</td>\n",
       "      <td>1.573864</td>\n",
       "      <td>0.710227</td>\n",
       "      <td>0.479167</td>\n",
       "      <td>101490.410625</td>\n",
       "      <td>0.255682</td>\n",
       "    </tr>\n",
       "    <tr>\n",
       "      <th>Рыбинск</th>\n",
       "      <td>1.573420e+07</td>\n",
       "      <td>656.527682</td>\n",
       "      <td>37.904844</td>\n",
       "      <td>4.865052</td>\n",
       "      <td>121957.889430</td>\n",
       "      <td>1.543253</td>\n",
       "      <td>0.714533</td>\n",
       "      <td>0.496540</td>\n",
       "      <td>96091.589758</td>\n",
       "      <td>0.100346</td>\n",
       "    </tr>\n",
       "    <tr>\n",
       "      <th>Ярославль</th>\n",
       "      <td>1.573341e+07</td>\n",
       "      <td>649.181034</td>\n",
       "      <td>37.965517</td>\n",
       "      <td>4.987931</td>\n",
       "      <td>120604.532215</td>\n",
       "      <td>1.523276</td>\n",
       "      <td>0.700000</td>\n",
       "      <td>0.479310</td>\n",
       "      <td>100371.846802</td>\n",
       "      <td>0.125862</td>\n",
       "    </tr>\n",
       "    <tr>\n",
       "      <th rowspan=\"3\" valign=\"top\">41-45</th>\n",
       "      <th>Ростов Великий</th>\n",
       "      <td>1.573247e+07</td>\n",
       "      <td>648.398568</td>\n",
       "      <td>42.821002</td>\n",
       "      <td>4.997613</td>\n",
       "      <td>119377.787757</td>\n",
       "      <td>1.568019</td>\n",
       "      <td>0.687351</td>\n",
       "      <td>0.463007</td>\n",
       "      <td>100103.658759</td>\n",
       "      <td>0.386635</td>\n",
       "    </tr>\n",
       "    <tr>\n",
       "      <th>Рыбинск</th>\n",
       "      <td>1.573067e+07</td>\n",
       "      <td>652.540984</td>\n",
       "      <td>42.754098</td>\n",
       "      <td>4.942623</td>\n",
       "      <td>117552.730677</td>\n",
       "      <td>1.538251</td>\n",
       "      <td>0.653005</td>\n",
       "      <td>0.453552</td>\n",
       "      <td>105983.331721</td>\n",
       "      <td>0.224044</td>\n",
       "    </tr>\n",
       "    <tr>\n",
       "      <th>Ярославль</th>\n",
       "      <td>1.573415e+07</td>\n",
       "      <td>650.118248</td>\n",
       "      <td>42.747445</td>\n",
       "      <td>4.973723</td>\n",
       "      <td>120502.579006</td>\n",
       "      <td>1.543066</td>\n",
       "      <td>0.700730</td>\n",
       "      <td>0.489051</td>\n",
       "      <td>100205.854234</td>\n",
       "      <td>0.218978</td>\n",
       "    </tr>\n",
       "    <tr>\n",
       "      <th rowspan=\"3\" valign=\"top\">46-50</th>\n",
       "      <th>Ростов Великий</th>\n",
       "      <td>1.573335e+07</td>\n",
       "      <td>645.528958</td>\n",
       "      <td>47.888031</td>\n",
       "      <td>5.092664</td>\n",
       "      <td>120496.115830</td>\n",
       "      <td>1.428571</td>\n",
       "      <td>0.745174</td>\n",
       "      <td>0.440154</td>\n",
       "      <td>103960.565792</td>\n",
       "      <td>0.652510</td>\n",
       "    </tr>\n",
       "    <tr>\n",
       "      <th>Рыбинск</th>\n",
       "      <td>1.573314e+07</td>\n",
       "      <td>646.287081</td>\n",
       "      <td>47.622010</td>\n",
       "      <td>5.076555</td>\n",
       "      <td>118254.685000</td>\n",
       "      <td>1.483254</td>\n",
       "      <td>0.688995</td>\n",
       "      <td>0.507177</td>\n",
       "      <td>99458.841914</td>\n",
       "      <td>0.358852</td>\n",
       "    </tr>\n",
       "    <tr>\n",
       "      <th>Ярославль</th>\n",
       "      <td>1.573825e+07</td>\n",
       "      <td>646.850785</td>\n",
       "      <td>47.727749</td>\n",
       "      <td>4.908377</td>\n",
       "      <td>120566.970408</td>\n",
       "      <td>1.539267</td>\n",
       "      <td>0.701571</td>\n",
       "      <td>0.468586</td>\n",
       "      <td>103827.522251</td>\n",
       "      <td>0.392670</td>\n",
       "    </tr>\n",
       "    <tr>\n",
       "      <th rowspan=\"3\" valign=\"top\">51-60</th>\n",
       "      <th>Ростов Великий</th>\n",
       "      <td>1.573121e+07</td>\n",
       "      <td>644.563786</td>\n",
       "      <td>54.839506</td>\n",
       "      <td>4.925926</td>\n",
       "      <td>121549.125967</td>\n",
       "      <td>1.452675</td>\n",
       "      <td>0.674897</td>\n",
       "      <td>0.460905</td>\n",
       "      <td>98131.791152</td>\n",
       "      <td>0.695473</td>\n",
       "    </tr>\n",
       "    <tr>\n",
       "      <th>Рыбинск</th>\n",
       "      <td>1.574345e+07</td>\n",
       "      <td>655.010695</td>\n",
       "      <td>54.978610</td>\n",
       "      <td>4.561497</td>\n",
       "      <td>120794.616476</td>\n",
       "      <td>1.508021</td>\n",
       "      <td>0.647059</td>\n",
       "      <td>0.663102</td>\n",
       "      <td>97602.469412</td>\n",
       "      <td>0.459893</td>\n",
       "    </tr>\n",
       "    <tr>\n",
       "      <th>Ярославль</th>\n",
       "      <td>1.573377e+07</td>\n",
       "      <td>644.013624</td>\n",
       "      <td>55.021798</td>\n",
       "      <td>5.267030</td>\n",
       "      <td>116110.164356</td>\n",
       "      <td>1.449591</td>\n",
       "      <td>0.711172</td>\n",
       "      <td>0.613079</td>\n",
       "      <td>96271.409755</td>\n",
       "      <td>0.525886</td>\n",
       "    </tr>\n",
       "    <tr>\n",
       "      <th rowspan=\"3\" valign=\"top\">более 60</th>\n",
       "      <th>Ростов Великий</th>\n",
       "      <td>1.572684e+07</td>\n",
       "      <td>644.566372</td>\n",
       "      <td>67.548673</td>\n",
       "      <td>5.061947</td>\n",
       "      <td>119652.790885</td>\n",
       "      <td>1.469027</td>\n",
       "      <td>0.707965</td>\n",
       "      <td>0.725664</td>\n",
       "      <td>98001.396637</td>\n",
       "      <td>0.389381</td>\n",
       "    </tr>\n",
       "    <tr>\n",
       "      <th>Рыбинск</th>\n",
       "      <td>1.574093e+07</td>\n",
       "      <td>654.941667</td>\n",
       "      <td>67.066667</td>\n",
       "      <td>4.875000</td>\n",
       "      <td>121866.266406</td>\n",
       "      <td>1.458333</td>\n",
       "      <td>0.758333</td>\n",
       "      <td>0.833333</td>\n",
       "      <td>104259.459250</td>\n",
       "      <td>0.208333</td>\n",
       "    </tr>\n",
       "    <tr>\n",
       "      <th>Ярославль</th>\n",
       "      <td>1.573324e+07</td>\n",
       "      <td>659.229437</td>\n",
       "      <td>67.722944</td>\n",
       "      <td>4.844156</td>\n",
       "      <td>115202.985917</td>\n",
       "      <td>1.554113</td>\n",
       "      <td>0.679654</td>\n",
       "      <td>0.835498</td>\n",
       "      <td>95001.100130</td>\n",
       "      <td>0.199134</td>\n",
       "    </tr>\n",
       "  </tbody>\n",
       "</table>\n",
       "</div>"
      ],
      "text/plain": [
       "                                  user_id       score        age   objects  \\\n",
       "category_age city                                                            \n",
       "18-25        Ростов Великий  1.572936e+07  639.454545  23.055944  5.076923   \n",
       "             Рыбинск         1.573919e+07  650.580247  22.765432  5.833333   \n",
       "             Ярославль       1.573075e+07  656.941176  22.810458  4.898693   \n",
       "26-30        Ростов Великий  1.573300e+07  657.200000  28.338710  4.835484   \n",
       "             Рыбинск         1.573192e+07  645.812698  28.285714  5.028571   \n",
       "             Ярославль       1.572994e+07  651.010929  28.270492  5.107923   \n",
       "31-35        Ростов Великий  1.573288e+07  656.927126  33.087045  4.914980   \n",
       "             Рыбинск         1.573422e+07  648.281481  33.140741  5.214815   \n",
       "             Ярославль       1.573410e+07  647.923545  33.043440  4.982624   \n",
       "36-40        Ростов Великий  1.573788e+07  656.183712  37.984848  5.179924   \n",
       "             Рыбинск         1.573420e+07  656.527682  37.904844  4.865052   \n",
       "             Ярославль       1.573341e+07  649.181034  37.965517  4.987931   \n",
       "41-45        Ростов Великий  1.573247e+07  648.398568  42.821002  4.997613   \n",
       "             Рыбинск         1.573067e+07  652.540984  42.754098  4.942623   \n",
       "             Ярославль       1.573415e+07  650.118248  42.747445  4.973723   \n",
       "46-50        Ростов Великий  1.573335e+07  645.528958  47.888031  5.092664   \n",
       "             Рыбинск         1.573314e+07  646.287081  47.622010  5.076555   \n",
       "             Ярославль       1.573825e+07  646.850785  47.727749  4.908377   \n",
       "51-60        Ростов Великий  1.573121e+07  644.563786  54.839506  4.925926   \n",
       "             Рыбинск         1.574345e+07  655.010695  54.978610  4.561497   \n",
       "             Ярославль       1.573377e+07  644.013624  55.021798  5.267030   \n",
       "более 60     Ростов Великий  1.572684e+07  644.566372  67.548673  5.061947   \n",
       "             Рыбинск         1.574093e+07  654.941667  67.066667  4.875000   \n",
       "             Ярославль       1.573324e+07  659.229437  67.722944  4.844156   \n",
       "\n",
       "                                   balance  products  credit_card   loyalty  \\\n",
       "category_age city                                                             \n",
       "18-25        Ростов Великий  119192.591189  1.489510     0.720280  0.496503   \n",
       "             Рыбинск         124242.111375  1.555556     0.703704  0.543210   \n",
       "             Ярославль       123526.973660  1.575163     0.683007  0.535948   \n",
       "26-30        Ростов Великий  119184.353710  1.509677     0.741935  0.516129   \n",
       "             Рыбинск         119909.196974  1.625397     0.701587  0.504762   \n",
       "             Ярославль       119439.676778  1.549180     0.714481  0.497268   \n",
       "31-35        Ростов Великий  120248.778583  1.528340     0.724696  0.530364   \n",
       "             Рыбинск         117505.500295  1.531481     0.700000  0.522222   \n",
       "             Ярославль       120299.640411  1.526499     0.723719  0.499566   \n",
       "36-40        Ростов Великий  118794.099470  1.573864     0.710227  0.479167   \n",
       "             Рыбинск         121957.889430  1.543253     0.714533  0.496540   \n",
       "             Ярославль       120604.532215  1.523276     0.700000  0.479310   \n",
       "41-45        Ростов Великий  119377.787757  1.568019     0.687351  0.463007   \n",
       "             Рыбинск         117552.730677  1.538251     0.653005  0.453552   \n",
       "             Ярославль       120502.579006  1.543066     0.700730  0.489051   \n",
       "46-50        Ростов Великий  120496.115830  1.428571     0.745174  0.440154   \n",
       "             Рыбинск         118254.685000  1.483254     0.688995  0.507177   \n",
       "             Ярославль       120566.970408  1.539267     0.701571  0.468586   \n",
       "51-60        Ростов Великий  121549.125967  1.452675     0.674897  0.460905   \n",
       "             Рыбинск         120794.616476  1.508021     0.647059  0.663102   \n",
       "             Ярославль       116110.164356  1.449591     0.711172  0.613079   \n",
       "более 60     Ростов Великий  119652.790885  1.469027     0.707965  0.725664   \n",
       "             Рыбинск         121866.266406  1.458333     0.758333  0.833333   \n",
       "             Ярославль       115202.985917  1.554113     0.679654  0.835498   \n",
       "\n",
       "                             estimated_salary     churn  \n",
       "category_age city                                        \n",
       "18-25        Ростов Великий     103999.764545  0.111888  \n",
       "             Рыбинск             98318.877778  0.086420  \n",
       "             Ярославль          103201.786830  0.052288  \n",
       "26-30        Ростов Великий      95892.922710  0.129032  \n",
       "             Рыбинск             99381.080603  0.085714  \n",
       "             Ярославль          103188.390970  0.047814  \n",
       "31-35        Ростов Великий     104693.313482  0.159919  \n",
       "             Рыбинск             98520.492241  0.085185  \n",
       "             Ярославль           97106.443258  0.064292  \n",
       "36-40        Ростов Великий     101490.410625  0.255682  \n",
       "             Рыбинск             96091.589758  0.100346  \n",
       "             Ярославль          100371.846802  0.125862  \n",
       "41-45        Ростов Великий     100103.658759  0.386635  \n",
       "             Рыбинск            105983.331721  0.224044  \n",
       "             Ярославль          100205.854234  0.218978  \n",
       "46-50        Ростов Великий     103960.565792  0.652510  \n",
       "             Рыбинск             99458.841914  0.358852  \n",
       "             Ярославль          103827.522251  0.392670  \n",
       "51-60        Ростов Великий      98131.791152  0.695473  \n",
       "             Рыбинск             97602.469412  0.459893  \n",
       "             Ярославль           96271.409755  0.525886  \n",
       "более 60     Ростов Великий      98001.396637  0.389381  \n",
       "             Рыбинск            104259.459250  0.208333  \n",
       "             Ярославль           95001.100130  0.199134  "
      ]
     },
     "execution_count": 60,
     "metadata": {},
     "output_type": "execute_result"
    }
   ],
   "source": [
    "df_4 = df.groupby(['category_age', 'city']).mean() # средние значения признаков с разбивкой на возрастные категории и города"
   ]
  },
  {
   "cell_type": "code",
   "execution_count": 83,
   "metadata": {},
   "outputs": [
    {
     "data": {
      "image/png": "[encoded data removed]",
      "text/plain": [
       "<Figure size 432x288 with 1 Axes>"
      ]
     },
     "metadata": {
      "needs_background": "light"
     },
     "output_type": "display_data"
    }
   ],
   "source": [
    "df_4.query('city == \"Ростов Великий\"').plot(y='churn', kind='bar')\n",
    "plt.title(f'Процент оттока клиентов в разных возрастных категориях для г. Ростов Великий')\n",
    "plt.ylabel('Доля оттока')\n",
    "plt.xlabel('Возрастная категория')\n",
    "plt.legend()\n",
    "plt.show()"
   ]
  },
  {
   "cell_type": "markdown",
   "metadata": {},
   "source": [
    "Для города Ростова Великий отток клиентов в 26% начинается для возрастной категории 36-40 лет."
   ]
  },
  {
   "cell_type": "markdown",
   "metadata": {},
   "source": [
    "### Вывод"
   ]
  },
  {
   "cell_type": "markdown",
   "metadata": {},
   "source": [
    "1. Наиболее весомыми признаками оттока можно назвать `age` (возраст) и `loyalty` (активность).  \n",
    "2. Для группы оттока характерны более низкая активность и более старший возраст (более 45 лет).\n",
    "3. Для группы действующих клиентов характерны более высокая активность пользования продуктами и  более молодой возраст (около 37 лет в среднем).\n",
    "4. В городе Ростов Великий существенно больший отток клиентов - 32%, по сравнению с другими городами (около 16%). Отток клиентов для этого города начинается с возрастной категории 36-40 лет и так же клиенты входят в категорию неактивных."
   ]
  },
  {
   "cell_type": "markdown",
   "metadata": {},
   "source": [
    "## Формулирование и проверка статистических гипотез"
   ]
  },
  {
   "cell_type": "markdown",
   "metadata": {},
   "source": [
    "Для проверки гипотез будем использовать статистический тест: Проверка гипотезы о равенстве среднего двух генеральных совокупностей по взятым из них выборкам."
   ]
  },
  {
   "cell_type": "markdown",
   "metadata": {},
   "source": [
    "### Проверка гипотезы различия дохода между теми клиентами, которые ушли и теми, которые остались."
   ]
  },
  {
   "cell_type": "markdown",
   "metadata": {},
   "source": [
    "Сформулируем нулевую гипотезу: доходы действующих клиентов и клиентов ушедших в отток равны."
   ]
  },
  {
   "cell_type": "code",
   "execution_count": 61,
   "metadata": {},
   "outputs": [
    {
     "data": {
      "text/plain": [
       "1       112542.58\n",
       "3        93826.63\n",
       "4        79084.10\n",
       "6        10062.80\n",
       "8        74940.50\n",
       "          ...    \n",
       "9993     29179.52\n",
       "9994    167773.55\n",
       "9995     96270.64\n",
       "9996    101699.77\n",
       "9999     38190.78\n",
       "Name: estimated_salary, Length: 7963, dtype: float64"
      ]
     },
     "execution_count": 61,
     "metadata": {},
     "output_type": "execute_result"
    }
   ],
   "source": [
    "df_churn1 = df.query('churn == 1') # срез данных действующих клиентов\n",
    "df_churn0 = df.query('churn == 0') # срез данных клиентов в оттоке\n",
    "df_churn1['estimated_salary'] # выборка с доходами действующих клиентов\n",
    "df_churn0['estimated_salary'] # выборка с доходами клиентов в оттоке"
   ]
  },
  {
   "cell_type": "code",
   "execution_count": 62,
   "metadata": {},
   "outputs": [
    {
     "name": "stdout",
     "output_type": "stream",
     "text": [
      "Не получилось отвергнуть нулевую гипотезу\n",
      "0.228924613051458\n"
     ]
    }
   ],
   "source": [
    "from scipy import stats as st\n",
    "\n",
    "alpha = 0.05 # критический уровень статистической значимости\n",
    "\n",
    "results = st.ttest_ind(df_churn1['estimated_salary'], df_churn0['estimated_salary'], equal_var = False) \n",
    "# параметр equal_var = False так как выборки разного размера\n",
    "\n",
    "if results.pvalue < alpha:\n",
    "    print('Отвергаем нулевую гипотезу')\n",
    "else:\n",
    "    print('Не получилось отвергнуть нулевую гипотезу')\n",
    "print(results.pvalue)   "
   ]
  },
  {
   "cell_type": "markdown",
   "metadata": {},
   "source": [
    "### Проверка гипотезы различия количества продуктов в пользовании между теми клиентами, которые ушли и теми, которые остались."
   ]
  },
  {
   "cell_type": "markdown",
   "metadata": {},
   "source": [
    "Сформулируем нулевую гипотезу: количество продуктов в пользовании действующих клиентов и клиентов ушедших в отток равны."
   ]
  },
  {
   "cell_type": "code",
   "execution_count": 63,
   "metadata": {},
   "outputs": [
    {
     "data": {
      "text/plain": [
       "1       1\n",
       "3       2\n",
       "4       1\n",
       "6       2\n",
       "8       2\n",
       "       ..\n",
       "9993    1\n",
       "9994    2\n",
       "9995    2\n",
       "9996    1\n",
       "9999    1\n",
       "Name: products, Length: 7963, dtype: int64"
      ]
     },
     "execution_count": 63,
     "metadata": {},
     "output_type": "execute_result"
    }
   ],
   "source": [
    "df_churn1['products'] # выборка с количеством используемых продуктов действующих клиентов\n",
    "df_churn0['products'] # выборка с количеством используемых продуктов клиентов в оттоке"
   ]
  },
  {
   "cell_type": "code",
   "execution_count": 64,
   "metadata": {},
   "outputs": [
    {
     "name": "stdout",
     "output_type": "stream",
     "text": [
      "Отвергаем нулевую гипотезу\n",
      "0.00021858494460549394\n"
     ]
    }
   ],
   "source": [
    "from scipy import stats as st\n",
    "\n",
    "alpha = 0.05 # критический уровень статистической значимости\n",
    "\n",
    "results = st.ttest_ind(df_churn1['products'], df_churn0['products'], equal_var = False)\n",
    "# параметр equal_var = False так как выборки разного размера\n",
    "\n",
    "if results.pvalue < alpha:\n",
    "    print('Отвергаем нулевую гипотезу')\n",
    "else:\n",
    "    print('Не получилось отвергнуть нулевую гипотезу')\n",
    "print(results.pvalue) "
   ]
  },
  {
   "cell_type": "markdown",
   "metadata": {},
   "source": [
    "### Вывод"
   ]
  },
  {
   "cell_type": "markdown",
   "metadata": {},
   "source": [
    "1. Не получилось отвергнуть нулевую гипотезу - статистическая вероятность равенства дохода клиентов группы, которые ушли в отток и группы действующих клиентов равна 22%.\n",
    "2. Отвергаем нулевую гипотезу - статистическая вероятность того, что количество используемых продуктов группы, которые ушли в отток и группы действующих клиентов равны, очень мала и составляет 0.00022%."
   ]
  },
  {
   "cell_type": "markdown",
   "metadata": {},
   "source": [
    "## Вывод"
   ]
  },
  {
   "cell_type": "markdown",
   "metadata": {},
   "source": [
    "\n",
    "1.Общий процент оттока на 10000 клиентов составляет 20 %.\n",
    "\n",
    "2.На отток в большей степени влияют два показателя это более старший возраст и меньшая активность клиента. Остальные показатели значительной роли не играют и их параметры схожи в двух группах.\n",
    "\n",
    "3.Чаще всего в отток уходят клиенты в возрастных групп 41-45 лет  (27% оттока), 46-50 лет (46 % оттока), 51-60 лет (56 % оттока).\n",
    "\n",
    "4.Менее активны клиенты в возрастных группах 36-40, 41-45, 46-50 лет.\n",
    "\n",
    "5.Больше всего отток клиентов характерен для города Ростов Великий (32% оттока). Для данного города отток клиентов уже начинается с возрастной группы 36-40 лет. Клиенты группы оттока также относятся к категории менее активных пользователей.\n",
    "\n",
    "\n",
    "*Рекомендации по удержанию оттока:*\n",
    "1. Первый сегмент оттока-клиенты возрастных групп 41-45 лет, 46-50 лет, 51-60 лет. Для данных категорий предлагается сформировать новые предложения по депозитарным услугам банка (накопительные и инвестиционные счета) более привлекательные чем у банков-конкурентов.\n",
    "2. Второй сегмент оттока -менее активные клиенты банка. Для удержания данных клиентов предлагается сформировать новые предложения по кеш-бек системе по категориям трат для возрастных категорий клиентов 36-40, 41-45, 46-50 лет.\n",
    "3. Третий сегмент оттока- клиенты из.г. Ростов Великий, возрастной категории 36-50 лет. Для данной категории предлагается сформировать новые предложения по депозитарным услугам банка и ипотеке.\n",
    "\n",
    "*Рекомендации:*\n",
    "1. Провести опрос среди клиентов возрастной категории 36-50 лет по использованию банковских продуктов с целью их улучшения, в частности в г. Ростов Великий.\n",
    "2. В рекламных кампаниях выделить отдельно блок о преимуществах использования банковских продуктов, кеш-бек системе.\n",
    "\n"
   ]
  }
 ],
 "metadata": {
  "ExecuteTimeLog": [
   {
    "duration": 384,
    "start_time": "2022-06-28T17:53:41.861Z"
   },
   {
    "duration": 1662,
    "start_time": "2022-06-28T17:53:42.381Z"
   },
   {
    "duration": 13,
    "start_time": "2022-06-28T18:09:23.782Z"
   },
   {
    "duration": 2101,
    "start_time": "2022-06-28T18:12:00.519Z"
   },
   {
    "duration": 11,
    "start_time": "2022-06-28T18:12:36.004Z"
   },
   {
    "duration": 3,
    "start_time": "2022-06-28T18:15:27.047Z"
   },
   {
    "duration": 3,
    "start_time": "2022-06-28T18:18:01.914Z"
   },
   {
    "duration": 2,
    "start_time": "2022-06-28T18:22:17.575Z"
   },
   {
    "duration": 45,
    "start_time": "2022-06-29T04:28:02.895Z"
   },
   {
    "duration": 375,
    "start_time": "2022-06-29T04:28:08.852Z"
   },
   {
    "duration": 1859,
    "start_time": "2022-06-29T04:28:09.229Z"
   },
   {
    "duration": 11,
    "start_time": "2022-06-29T04:28:11.090Z"
   },
   {
    "duration": 8,
    "start_time": "2022-06-29T04:28:11.103Z"
   },
   {
    "duration": 34,
    "start_time": "2022-06-29T04:46:32.264Z"
   },
   {
    "duration": 4,
    "start_time": "2022-06-29T04:47:24.756Z"
   },
   {
    "duration": 3,
    "start_time": "2022-06-29T04:47:27.169Z"
   },
   {
    "duration": 5,
    "start_time": "2022-06-29T04:47:31.939Z"
   },
   {
    "duration": 4,
    "start_time": "2022-06-29T04:47:35.489Z"
   },
   {
    "duration": 9,
    "start_time": "2022-06-29T04:49:31.419Z"
   },
   {
    "duration": 788,
    "start_time": "2022-06-29T04:49:37.874Z"
   },
   {
    "duration": 773,
    "start_time": "2022-06-29T04:49:56.176Z"
   },
   {
    "duration": 793,
    "start_time": "2022-06-29T04:50:12.780Z"
   },
   {
    "duration": 8,
    "start_time": "2022-06-29T04:50:28.210Z"
   },
   {
    "duration": 750,
    "start_time": "2022-06-29T04:50:50.075Z"
   },
   {
    "duration": 965,
    "start_time": "2022-06-29T04:51:05.013Z"
   },
   {
    "duration": 12,
    "start_time": "2022-06-29T04:51:16.662Z"
   },
   {
    "duration": 9,
    "start_time": "2022-06-29T04:51:35.971Z"
   },
   {
    "duration": 11,
    "start_time": "2022-06-29T04:51:40.914Z"
   },
   {
    "duration": 10,
    "start_time": "2022-06-29T04:51:53.529Z"
   },
   {
    "duration": 15,
    "start_time": "2022-06-29T04:52:07.532Z"
   },
   {
    "duration": 12,
    "start_time": "2022-06-29T04:53:32.382Z"
   },
   {
    "duration": 11,
    "start_time": "2022-06-29T04:54:13.172Z"
   },
   {
    "duration": 12,
    "start_time": "2022-06-29T04:55:40.944Z"
   },
   {
    "duration": 13,
    "start_time": "2022-06-29T04:55:51.115Z"
   },
   {
    "duration": 16,
    "start_time": "2022-06-29T04:59:07.989Z"
   },
   {
    "duration": 825,
    "start_time": "2022-06-29T05:02:18.126Z"
   },
   {
    "duration": 9,
    "start_time": "2022-06-29T05:02:30.130Z"
   },
   {
    "duration": 8,
    "start_time": "2022-06-29T05:02:39.493Z"
   },
   {
    "duration": 13,
    "start_time": "2022-06-29T05:05:21.359Z"
   },
   {
    "duration": 8,
    "start_time": "2022-06-29T05:06:21.076Z"
   },
   {
    "duration": 15,
    "start_time": "2022-06-29T05:06:26.540Z"
   },
   {
    "duration": 17,
    "start_time": "2022-06-29T05:06:54.324Z"
   },
   {
    "duration": 7,
    "start_time": "2022-06-29T05:07:33.474Z"
   },
   {
    "duration": 5,
    "start_time": "2022-06-29T05:07:53.134Z"
   },
   {
    "duration": 13,
    "start_time": "2022-06-29T05:07:57.320Z"
   },
   {
    "duration": 9,
    "start_time": "2022-06-29T05:08:36.987Z"
   },
   {
    "duration": 9,
    "start_time": "2022-06-29T05:09:03.608Z"
   },
   {
    "duration": 6,
    "start_time": "2022-06-29T05:09:19.729Z"
   },
   {
    "duration": 6,
    "start_time": "2022-06-29T05:15:45.131Z"
   },
   {
    "duration": 15,
    "start_time": "2022-06-29T05:18:17.740Z"
   },
   {
    "duration": 17,
    "start_time": "2022-06-29T05:18:40.383Z"
   },
   {
    "duration": 18,
    "start_time": "2022-06-29T05:21:37.420Z"
   },
   {
    "duration": 6,
    "start_time": "2022-06-29T05:22:19.458Z"
   },
   {
    "duration": 7,
    "start_time": "2022-06-29T05:29:55.444Z"
   },
   {
    "duration": 52,
    "start_time": "2022-06-29T05:30:03.428Z"
   },
   {
    "duration": 50,
    "start_time": "2022-06-29T05:30:41.782Z"
   },
   {
    "duration": 11,
    "start_time": "2022-06-29T05:30:47.034Z"
   },
   {
    "duration": 13,
    "start_time": "2022-06-29T05:31:03.433Z"
   },
   {
    "duration": 14,
    "start_time": "2022-06-29T05:31:11.722Z"
   },
   {
    "duration": 5,
    "start_time": "2022-06-29T05:33:36.519Z"
   },
   {
    "duration": 10,
    "start_time": "2022-06-29T05:33:39.539Z"
   },
   {
    "duration": 13,
    "start_time": "2022-06-29T05:33:40.725Z"
   },
   {
    "duration": 13,
    "start_time": "2022-06-29T05:33:57.170Z"
   },
   {
    "duration": 12,
    "start_time": "2022-06-29T05:34:32.304Z"
   },
   {
    "duration": 11,
    "start_time": "2022-06-29T05:34:52.781Z"
   },
   {
    "duration": 15,
    "start_time": "2022-06-29T05:35:11.774Z"
   },
   {
    "duration": 12,
    "start_time": "2022-06-29T05:35:48.769Z"
   },
   {
    "duration": 12,
    "start_time": "2022-06-29T05:36:42.805Z"
   },
   {
    "duration": 15,
    "start_time": "2022-06-29T05:38:05.546Z"
   },
   {
    "duration": 10,
    "start_time": "2022-06-29T06:20:46.378Z"
   },
   {
    "duration": 7,
    "start_time": "2022-06-29T08:26:42.138Z"
   },
   {
    "duration": 7,
    "start_time": "2022-06-29T08:27:17.129Z"
   },
   {
    "duration": 10,
    "start_time": "2022-06-29T08:31:18.187Z"
   },
   {
    "duration": 6,
    "start_time": "2022-06-29T08:31:21.171Z"
   },
   {
    "duration": 11,
    "start_time": "2022-06-29T09:11:50.523Z"
   },
   {
    "duration": 19,
    "start_time": "2022-06-29T09:21:48.016Z"
   },
   {
    "duration": 8,
    "start_time": "2022-06-29T09:36:40.737Z"
   },
   {
    "duration": 5,
    "start_time": "2022-06-29T09:37:00.713Z"
   },
   {
    "duration": 5,
    "start_time": "2022-06-29T09:37:04.399Z"
   },
   {
    "duration": 6,
    "start_time": "2022-06-29T09:37:24.975Z"
   },
   {
    "duration": 7,
    "start_time": "2022-06-29T09:37:31.977Z"
   },
   {
    "duration": 6,
    "start_time": "2022-06-29T09:38:04.577Z"
   },
   {
    "duration": 4,
    "start_time": "2022-06-29T09:38:05.198Z"
   },
   {
    "duration": 10,
    "start_time": "2022-06-29T10:41:30.375Z"
   },
   {
    "duration": 5,
    "start_time": "2022-06-29T10:41:47.754Z"
   },
   {
    "duration": 12,
    "start_time": "2022-06-29T10:42:04.754Z"
   },
   {
    "duration": 3,
    "start_time": "2022-06-29T10:42:45.115Z"
   },
   {
    "duration": 12,
    "start_time": "2022-06-29T10:42:45.738Z"
   },
   {
    "duration": 4,
    "start_time": "2022-06-29T10:43:52.785Z"
   },
   {
    "duration": 7,
    "start_time": "2022-06-29T10:47:20.834Z"
   },
   {
    "duration": 40,
    "start_time": "2022-06-29T11:19:03.901Z"
   },
   {
    "duration": 12,
    "start_time": "2022-06-29T11:19:54.804Z"
   },
   {
    "duration": 12,
    "start_time": "2022-06-29T11:21:54.806Z"
   },
   {
    "duration": 9,
    "start_time": "2022-06-29T11:22:11.745Z"
   },
   {
    "duration": 1154,
    "start_time": "2022-06-29T11:23:44.249Z"
   },
   {
    "duration": 11,
    "start_time": "2022-06-29T11:23:45.499Z"
   },
   {
    "duration": 12,
    "start_time": "2022-06-29T11:23:54.095Z"
   },
   {
    "duration": 3,
    "start_time": "2022-06-29T11:24:06.624Z"
   },
   {
    "duration": 2468,
    "start_time": "2022-06-29T11:24:07.403Z"
   },
   {
    "duration": 11,
    "start_time": "2022-06-29T11:24:09.872Z"
   },
   {
    "duration": 7,
    "start_time": "2022-06-29T11:24:12.375Z"
   },
   {
    "duration": 6,
    "start_time": "2022-06-29T11:24:14.364Z"
   },
   {
    "duration": 14,
    "start_time": "2022-06-29T11:24:15.397Z"
   },
   {
    "duration": 6,
    "start_time": "2022-06-29T11:24:16.277Z"
   },
   {
    "duration": 17,
    "start_time": "2022-06-29T11:24:33.432Z"
   },
   {
    "duration": 11,
    "start_time": "2022-06-29T11:26:07.684Z"
   },
   {
    "duration": 6,
    "start_time": "2022-06-29T11:26:09.753Z"
   },
   {
    "duration": 11,
    "start_time": "2022-06-29T11:26:15.715Z"
   },
   {
    "duration": 5,
    "start_time": "2022-06-29T11:26:16.920Z"
   },
   {
    "duration": 5,
    "start_time": "2022-06-29T11:26:17.680Z"
   },
   {
    "duration": 3,
    "start_time": "2022-06-29T11:26:19.135Z"
   },
   {
    "duration": 4,
    "start_time": "2022-06-29T11:26:19.540Z"
   },
   {
    "duration": 12,
    "start_time": "2022-06-29T11:26:20.565Z"
   },
   {
    "duration": 38,
    "start_time": "2022-06-29T11:26:32.540Z"
   },
   {
    "duration": 803,
    "start_time": "2022-06-29T11:26:58.037Z"
   },
   {
    "duration": 0,
    "start_time": "2022-06-29T11:26:58.841Z"
   },
   {
    "duration": 3,
    "start_time": "2022-06-29T11:27:04.310Z"
   },
   {
    "duration": 2178,
    "start_time": "2022-06-29T11:27:04.320Z"
   },
   {
    "duration": 11,
    "start_time": "2022-06-29T11:27:06.500Z"
   },
   {
    "duration": 7,
    "start_time": "2022-06-29T11:27:06.513Z"
   },
   {
    "duration": 12,
    "start_time": "2022-06-29T11:27:06.523Z"
   },
   {
    "duration": 6,
    "start_time": "2022-06-29T11:27:06.537Z"
   },
   {
    "duration": 21,
    "start_time": "2022-06-29T11:27:06.545Z"
   },
   {
    "duration": 5,
    "start_time": "2022-06-29T11:27:06.568Z"
   },
   {
    "duration": 9,
    "start_time": "2022-06-29T11:27:06.575Z"
   },
   {
    "duration": 7,
    "start_time": "2022-06-29T11:27:06.585Z"
   },
   {
    "duration": 30,
    "start_time": "2022-06-29T11:27:06.595Z"
   },
   {
    "duration": 12,
    "start_time": "2022-06-29T11:27:06.627Z"
   },
   {
    "duration": 37,
    "start_time": "2022-06-29T11:27:06.641Z"
   },
   {
    "duration": 12,
    "start_time": "2022-06-29T11:28:34.059Z"
   },
   {
    "duration": 910,
    "start_time": "2022-06-29T11:28:43.289Z"
   },
   {
    "duration": 12,
    "start_time": "2022-06-29T11:29:22.027Z"
   },
   {
    "duration": 3,
    "start_time": "2022-06-29T11:29:32.504Z"
   },
   {
    "duration": 2490,
    "start_time": "2022-06-29T11:29:32.512Z"
   },
   {
    "duration": 12,
    "start_time": "2022-06-29T11:29:35.004Z"
   },
   {
    "duration": 7,
    "start_time": "2022-06-29T11:29:35.017Z"
   },
   {
    "duration": 14,
    "start_time": "2022-06-29T11:29:35.026Z"
   },
   {
    "duration": 5,
    "start_time": "2022-06-29T11:29:35.042Z"
   },
   {
    "duration": 17,
    "start_time": "2022-06-29T11:29:35.049Z"
   },
   {
    "duration": 4,
    "start_time": "2022-06-29T11:29:35.067Z"
   },
   {
    "duration": 7,
    "start_time": "2022-06-29T11:29:35.073Z"
   },
   {
    "duration": 10,
    "start_time": "2022-06-29T11:29:35.082Z"
   },
   {
    "duration": 8,
    "start_time": "2022-06-29T11:29:35.095Z"
   },
   {
    "duration": 26,
    "start_time": "2022-06-29T11:29:35.104Z"
   },
   {
    "duration": 41,
    "start_time": "2022-06-29T11:29:35.131Z"
   },
   {
    "duration": 12,
    "start_time": "2022-06-29T11:31:59.647Z"
   },
   {
    "duration": 3,
    "start_time": "2022-06-29T11:32:09.223Z"
   },
   {
    "duration": 2724,
    "start_time": "2022-06-29T11:32:09.228Z"
   },
   {
    "duration": 12,
    "start_time": "2022-06-29T11:32:11.954Z"
   },
   {
    "duration": 11,
    "start_time": "2022-06-29T11:32:11.968Z"
   },
   {
    "duration": 25,
    "start_time": "2022-06-29T11:32:11.981Z"
   },
   {
    "duration": 33,
    "start_time": "2022-06-29T11:32:12.008Z"
   },
   {
    "duration": 19,
    "start_time": "2022-06-29T11:32:12.043Z"
   },
   {
    "duration": 4,
    "start_time": "2022-06-29T11:32:12.064Z"
   },
   {
    "duration": 10,
    "start_time": "2022-06-29T11:32:12.070Z"
   },
   {
    "duration": 14,
    "start_time": "2022-06-29T11:32:12.081Z"
   },
   {
    "duration": 10,
    "start_time": "2022-06-29T11:32:12.098Z"
   },
   {
    "duration": 22,
    "start_time": "2022-06-29T11:32:12.110Z"
   },
   {
    "duration": 41,
    "start_time": "2022-06-29T11:32:12.134Z"
   },
   {
    "duration": 37,
    "start_time": "2022-06-29T11:34:43.833Z"
   },
   {
    "duration": 12,
    "start_time": "2022-06-29T11:38:42.107Z"
   },
   {
    "duration": 3,
    "start_time": "2022-06-29T11:38:50.660Z"
   },
   {
    "duration": 1976,
    "start_time": "2022-06-29T11:38:50.665Z"
   },
   {
    "duration": 15,
    "start_time": "2022-06-29T11:38:52.643Z"
   },
   {
    "duration": 19,
    "start_time": "2022-06-29T11:38:52.660Z"
   },
   {
    "duration": 23,
    "start_time": "2022-06-29T11:38:52.681Z"
   },
   {
    "duration": 18,
    "start_time": "2022-06-29T11:38:52.706Z"
   },
   {
    "duration": 26,
    "start_time": "2022-06-29T11:38:52.727Z"
   },
   {
    "duration": 5,
    "start_time": "2022-06-29T11:38:52.755Z"
   },
   {
    "duration": 18,
    "start_time": "2022-06-29T11:38:52.763Z"
   },
   {
    "duration": 7,
    "start_time": "2022-06-29T11:38:52.783Z"
   },
   {
    "duration": 9,
    "start_time": "2022-06-29T11:38:52.792Z"
   },
   {
    "duration": 58,
    "start_time": "2022-06-29T11:38:52.803Z"
   },
   {
    "duration": 11,
    "start_time": "2022-06-29T11:40:23.795Z"
   },
   {
    "duration": 15,
    "start_time": "2022-06-29T11:40:35.001Z"
   },
   {
    "duration": 5,
    "start_time": "2022-06-29T11:45:12.624Z"
   },
   {
    "duration": 38,
    "start_time": "2022-06-29T11:45:16.988Z"
   },
   {
    "duration": 15,
    "start_time": "2022-06-29T11:45:23.679Z"
   },
   {
    "duration": 16,
    "start_time": "2022-06-29T13:01:36.702Z"
   },
   {
    "duration": 9,
    "start_time": "2022-06-29T13:11:33.730Z"
   },
   {
    "duration": 13,
    "start_time": "2022-06-29T13:24:22.204Z"
   },
   {
    "duration": 916,
    "start_time": "2022-06-29T13:25:53.728Z"
   },
   {
    "duration": 2151,
    "start_time": "2022-06-29T13:25:54.646Z"
   },
   {
    "duration": 11,
    "start_time": "2022-06-29T13:25:56.798Z"
   },
   {
    "duration": 7,
    "start_time": "2022-06-29T13:25:56.811Z"
   },
   {
    "duration": 13,
    "start_time": "2022-06-29T13:25:56.820Z"
   },
   {
    "duration": 7,
    "start_time": "2022-06-29T13:25:56.834Z"
   },
   {
    "duration": 9,
    "start_time": "2022-06-29T13:25:56.842Z"
   },
   {
    "duration": 4,
    "start_time": "2022-06-29T13:25:56.853Z"
   },
   {
    "duration": 12,
    "start_time": "2022-06-29T13:25:56.859Z"
   },
   {
    "duration": 10,
    "start_time": "2022-06-29T13:25:56.873Z"
   },
   {
    "duration": 9,
    "start_time": "2022-06-29T13:25:56.884Z"
   },
   {
    "duration": 63,
    "start_time": "2022-06-29T13:25:56.895Z"
   },
   {
    "duration": 15,
    "start_time": "2022-06-29T13:25:56.960Z"
   },
   {
    "duration": 1018,
    "start_time": "2022-06-29T13:25:56.977Z"
   },
   {
    "duration": 19,
    "start_time": "2022-06-29T13:27:52.555Z"
   },
   {
    "duration": 14,
    "start_time": "2022-06-29T13:28:01.170Z"
   },
   {
    "duration": 965,
    "start_time": "2022-06-29T13:28:10.927Z"
   },
   {
    "duration": 67,
    "start_time": "2022-06-29T14:37:54.102Z"
   },
   {
    "duration": 3,
    "start_time": "2022-06-29T14:38:00.185Z"
   },
   {
    "duration": 2513,
    "start_time": "2022-06-29T14:38:00.191Z"
   },
   {
    "duration": 15,
    "start_time": "2022-06-29T14:38:02.706Z"
   },
   {
    "duration": 11,
    "start_time": "2022-06-29T14:38:02.723Z"
   },
   {
    "duration": 16,
    "start_time": "2022-06-29T14:38:02.736Z"
   },
   {
    "duration": 7,
    "start_time": "2022-06-29T14:38:02.754Z"
   },
   {
    "duration": 27,
    "start_time": "2022-06-29T14:38:02.763Z"
   },
   {
    "duration": 6,
    "start_time": "2022-06-29T14:38:02.791Z"
   },
   {
    "duration": 26,
    "start_time": "2022-06-29T14:38:02.798Z"
   },
   {
    "duration": 6,
    "start_time": "2022-06-29T14:38:02.826Z"
   },
   {
    "duration": 7,
    "start_time": "2022-06-29T14:38:02.834Z"
   },
   {
    "duration": 42,
    "start_time": "2022-06-29T14:38:02.842Z"
   },
   {
    "duration": 16,
    "start_time": "2022-06-29T14:38:02.886Z"
   },
   {
    "duration": 30,
    "start_time": "2022-06-29T14:38:02.922Z"
   },
   {
    "duration": 0,
    "start_time": "2022-06-29T14:38:02.955Z"
   },
   {
    "duration": 2202,
    "start_time": "2022-06-29T14:38:18.813Z"
   },
   {
    "duration": 3009,
    "start_time": "2022-06-29T14:39:48.463Z"
   },
   {
    "duration": 4069,
    "start_time": "2022-06-29T14:49:58.278Z"
   },
   {
    "duration": 3,
    "start_time": "2022-06-29T14:50:47.357Z"
   },
   {
    "duration": 2473,
    "start_time": "2022-06-29T14:50:47.912Z"
   },
   {
    "duration": 13,
    "start_time": "2022-06-29T14:50:50.388Z"
   },
   {
    "duration": 6,
    "start_time": "2022-06-29T14:50:50.402Z"
   },
   {
    "duration": 34,
    "start_time": "2022-06-29T14:50:50.410Z"
   },
   {
    "duration": 9,
    "start_time": "2022-06-29T14:50:50.445Z"
   },
   {
    "duration": 11,
    "start_time": "2022-06-29T14:50:51.002Z"
   },
   {
    "duration": 10,
    "start_time": "2022-06-29T14:50:51.423Z"
   },
   {
    "duration": 5,
    "start_time": "2022-06-29T14:50:51.601Z"
   },
   {
    "duration": 3,
    "start_time": "2022-06-29T14:50:52.182Z"
   },
   {
    "duration": 6,
    "start_time": "2022-06-29T14:50:52.350Z"
   },
   {
    "duration": 37,
    "start_time": "2022-06-29T14:50:53.361Z"
   },
   {
    "duration": 15,
    "start_time": "2022-06-29T14:50:53.791Z"
   },
   {
    "duration": 2716,
    "start_time": "2022-06-29T14:50:54.372Z"
   },
   {
    "duration": 4147,
    "start_time": "2022-06-29T14:50:57.091Z"
   },
   {
    "duration": 4179,
    "start_time": "2022-06-29T14:51:03.373Z"
   },
   {
    "duration": 31299,
    "start_time": "2022-06-29T14:53:59.670Z"
   },
   {
    "duration": 257,
    "start_time": "2022-06-29T15:15:02.099Z"
   },
   {
    "duration": 2742,
    "start_time": "2022-06-29T15:15:56.971Z"
   },
   {
    "duration": 2291,
    "start_time": "2022-06-29T15:15:59.716Z"
   },
   {
    "duration": 16,
    "start_time": "2022-06-29T15:16:02.009Z"
   },
   {
    "duration": 65,
    "start_time": "2022-06-29T15:16:02.028Z"
   },
   {
    "duration": 44,
    "start_time": "2022-06-29T15:16:02.095Z"
   },
   {
    "duration": 35,
    "start_time": "2022-06-29T15:16:02.141Z"
   },
   {
    "duration": 18,
    "start_time": "2022-06-29T15:16:02.178Z"
   },
   {
    "duration": 5,
    "start_time": "2022-06-29T15:16:02.197Z"
   },
   {
    "duration": 11,
    "start_time": "2022-06-29T15:16:02.204Z"
   },
   {
    "duration": 43,
    "start_time": "2022-06-29T15:16:02.217Z"
   },
   {
    "duration": 7,
    "start_time": "2022-06-29T15:16:02.262Z"
   },
   {
    "duration": 46,
    "start_time": "2022-06-29T15:16:02.271Z"
   },
   {
    "duration": 36,
    "start_time": "2022-06-29T15:16:02.319Z"
   },
   {
    "duration": 3098,
    "start_time": "2022-06-29T15:16:02.357Z"
   },
   {
    "duration": 1092,
    "start_time": "2022-06-29T15:16:05.457Z"
   },
   {
    "duration": 241,
    "start_time": "2022-06-29T15:17:34.405Z"
   },
   {
    "duration": 246,
    "start_time": "2022-06-29T15:17:47.936Z"
   },
   {
    "duration": 265,
    "start_time": "2022-06-29T15:18:03.101Z"
   },
   {
    "duration": 280,
    "start_time": "2022-06-29T15:18:17.803Z"
   },
   {
    "duration": 2958,
    "start_time": "2022-06-29T15:18:25.443Z"
   },
   {
    "duration": 3951,
    "start_time": "2022-06-29T15:35:06.560Z"
   },
   {
    "duration": 9852,
    "start_time": "2022-06-29T15:35:59.081Z"
   },
   {
    "duration": 3309,
    "start_time": "2022-06-29T15:45:56.439Z"
   },
   {
    "duration": 9686,
    "start_time": "2022-06-29T15:46:24.436Z"
   },
   {
    "duration": 3716,
    "start_time": "2022-06-29T16:01:07.537Z"
   },
   {
    "duration": 11,
    "start_time": "2022-06-29T16:01:11.255Z"
   },
   {
    "duration": 265,
    "start_time": "2022-06-29T16:02:03.091Z"
   },
   {
    "duration": 577,
    "start_time": "2022-06-29T16:02:19.987Z"
   },
   {
    "duration": 559,
    "start_time": "2022-06-29T16:02:32.938Z"
   },
   {
    "duration": 2386,
    "start_time": "2022-06-29T16:02:42.409Z"
   },
   {
    "duration": 152,
    "start_time": "2022-06-29T16:05:02.366Z"
   },
   {
    "duration": 2270,
    "start_time": "2022-06-29T16:34:56.810Z"
   },
   {
    "duration": 1741,
    "start_time": "2022-06-29T16:36:36.677Z"
   },
   {
    "duration": 3002,
    "start_time": "2022-06-29T16:36:52.644Z"
   },
   {
    "duration": 2313,
    "start_time": "2022-06-29T16:36:59.240Z"
   },
   {
    "duration": 2296,
    "start_time": "2022-06-29T17:14:48.359Z"
   },
   {
    "duration": 2316,
    "start_time": "2022-06-29T17:15:14.970Z"
   },
   {
    "duration": 2409,
    "start_time": "2022-06-29T17:15:45.844Z"
   },
   {
    "duration": 2294,
    "start_time": "2022-06-29T17:19:02.941Z"
   },
   {
    "duration": 2446,
    "start_time": "2022-06-29T17:19:28.434Z"
   },
   {
    "duration": 2219,
    "start_time": "2022-06-29T17:21:38.304Z"
   },
   {
    "duration": 438,
    "start_time": "2022-06-29T17:21:54.790Z"
   },
   {
    "duration": 2729,
    "start_time": "2022-06-29T17:22:37.143Z"
   },
   {
    "duration": 2585,
    "start_time": "2022-06-29T17:22:53.217Z"
   },
   {
    "duration": 1966,
    "start_time": "2022-06-29T17:36:09.448Z"
   },
   {
    "duration": 2081,
    "start_time": "2022-06-29T17:36:41.913Z"
   },
   {
    "duration": 2238,
    "start_time": "2022-06-29T17:37:16.305Z"
   },
   {
    "duration": 2325,
    "start_time": "2022-06-29T17:51:57.410Z"
   },
   {
    "duration": 2245,
    "start_time": "2022-06-29T17:52:13.464Z"
   },
   {
    "duration": 2287,
    "start_time": "2022-06-29T17:52:33.583Z"
   },
   {
    "duration": 240,
    "start_time": "2022-06-29T17:54:28.223Z"
   },
   {
    "duration": 2512,
    "start_time": "2022-06-29T17:54:40.393Z"
   },
   {
    "duration": 46,
    "start_time": "2022-06-30T13:48:44.859Z"
   },
   {
    "duration": 3588,
    "start_time": "2022-06-30T13:48:48.334Z"
   },
   {
    "duration": 2494,
    "start_time": "2022-06-30T13:48:51.925Z"
   },
   {
    "duration": 14,
    "start_time": "2022-06-30T13:48:54.420Z"
   },
   {
    "duration": 7,
    "start_time": "2022-06-30T13:48:54.436Z"
   },
   {
    "duration": 14,
    "start_time": "2022-06-30T13:48:54.444Z"
   },
   {
    "duration": 8,
    "start_time": "2022-06-30T13:48:54.460Z"
   },
   {
    "duration": 12,
    "start_time": "2022-06-30T13:48:54.470Z"
   },
   {
    "duration": 5,
    "start_time": "2022-06-30T13:48:54.484Z"
   },
   {
    "duration": 6,
    "start_time": "2022-06-30T13:48:54.491Z"
   },
   {
    "duration": 4,
    "start_time": "2022-06-30T13:48:54.500Z"
   },
   {
    "duration": 7,
    "start_time": "2022-06-30T13:48:54.505Z"
   },
   {
    "duration": 70,
    "start_time": "2022-06-30T13:48:54.514Z"
   },
   {
    "duration": 16,
    "start_time": "2022-06-30T13:48:54.586Z"
   },
   {
    "duration": 2306,
    "start_time": "2022-06-30T13:48:54.604Z"
   },
   {
    "duration": 988,
    "start_time": "2022-06-30T13:48:56.912Z"
   },
   {
    "duration": 8,
    "start_time": "2022-06-30T13:48:57.902Z"
   },
   {
    "duration": 96,
    "start_time": "2022-06-30T14:22:03.762Z"
   },
   {
    "duration": 14,
    "start_time": "2022-06-30T14:22:33.396Z"
   },
   {
    "duration": 18,
    "start_time": "2022-06-30T14:23:25.152Z"
   },
   {
    "duration": 6,
    "start_time": "2022-06-30T15:20:32.651Z"
   },
   {
    "duration": 17,
    "start_time": "2022-06-30T15:20:58.494Z"
   },
   {
    "duration": 176,
    "start_time": "2022-06-30T16:08:32.578Z"
   },
   {
    "duration": 161,
    "start_time": "2022-06-30T16:08:52.278Z"
   },
   {
    "duration": 165,
    "start_time": "2022-06-30T16:08:59.187Z"
   },
   {
    "duration": 121,
    "start_time": "2022-06-30T16:09:20.734Z"
   },
   {
    "duration": 2316,
    "start_time": "2022-06-30T16:09:31.083Z"
   },
   {
    "duration": 2480,
    "start_time": "2022-06-30T16:09:57.039Z"
   },
   {
    "duration": 2413,
    "start_time": "2022-06-30T16:11:06.807Z"
   },
   {
    "duration": 2794,
    "start_time": "2022-06-30T16:11:28.227Z"
   },
   {
    "duration": 22,
    "start_time": "2022-06-30T18:01:08.496Z"
   },
   {
    "duration": 21,
    "start_time": "2022-06-30T18:02:02.812Z"
   },
   {
    "duration": 44,
    "start_time": "2022-06-30T18:56:53.973Z"
   },
   {
    "duration": 3663,
    "start_time": "2022-07-01T05:52:16.485Z"
   },
   {
    "duration": 2448,
    "start_time": "2022-07-01T05:52:20.151Z"
   },
   {
    "duration": 17,
    "start_time": "2022-07-01T05:52:22.601Z"
   },
   {
    "duration": 14,
    "start_time": "2022-07-01T05:52:22.619Z"
   },
   {
    "duration": 28,
    "start_time": "2022-07-01T05:52:22.636Z"
   },
   {
    "duration": 8,
    "start_time": "2022-07-01T05:52:22.667Z"
   },
   {
    "duration": 17,
    "start_time": "2022-07-01T05:52:22.677Z"
   },
   {
    "duration": 6,
    "start_time": "2022-07-01T05:52:22.696Z"
   },
   {
    "duration": 10,
    "start_time": "2022-07-01T05:52:22.704Z"
   },
   {
    "duration": 5,
    "start_time": "2022-07-01T05:52:22.716Z"
   },
   {
    "duration": 8,
    "start_time": "2022-07-01T05:52:22.723Z"
   },
   {
    "duration": 55,
    "start_time": "2022-07-01T05:52:22.752Z"
   },
   {
    "duration": 17,
    "start_time": "2022-07-01T05:52:22.809Z"
   },
   {
    "duration": 152,
    "start_time": "2022-07-01T05:52:22.829Z"
   },
   {
    "duration": 0,
    "start_time": "2022-07-01T05:52:22.983Z"
   },
   {
    "duration": 0,
    "start_time": "2022-07-01T05:52:22.984Z"
   },
   {
    "duration": 0,
    "start_time": "2022-07-01T05:52:22.985Z"
   },
   {
    "duration": 0,
    "start_time": "2022-07-01T05:52:22.987Z"
   },
   {
    "duration": 19,
    "start_time": "2022-07-01T05:52:52.431Z"
   },
   {
    "duration": 19,
    "start_time": "2022-07-01T05:57:50.924Z"
   },
   {
    "duration": 2639,
    "start_time": "2022-07-01T05:58:17.465Z"
   },
   {
    "duration": 17,
    "start_time": "2022-07-01T06:07:39.327Z"
   },
   {
    "duration": 26,
    "start_time": "2022-07-01T06:07:40.310Z"
   },
   {
    "duration": 12,
    "start_time": "2022-07-01T06:09:14.610Z"
   },
   {
    "duration": 151,
    "start_time": "2022-07-01T06:20:43.547Z"
   },
   {
    "duration": 127,
    "start_time": "2022-07-01T06:22:46.955Z"
   },
   {
    "duration": 138,
    "start_time": "2022-07-01T06:23:01.563Z"
   },
   {
    "duration": 148,
    "start_time": "2022-07-01T06:23:31.069Z"
   },
   {
    "duration": 139,
    "start_time": "2022-07-01T06:40:10.910Z"
   },
   {
    "duration": 153,
    "start_time": "2022-07-01T06:43:05.295Z"
   },
   {
    "duration": 217,
    "start_time": "2022-07-01T06:45:26.695Z"
   },
   {
    "duration": 121,
    "start_time": "2022-07-01T06:45:50.013Z"
   },
   {
    "duration": 127,
    "start_time": "2022-07-01T06:46:06.754Z"
   },
   {
    "duration": 126,
    "start_time": "2022-07-01T06:46:14.927Z"
   },
   {
    "duration": 14,
    "start_time": "2022-07-01T06:52:55.906Z"
   },
   {
    "duration": 180,
    "start_time": "2022-07-01T06:54:18.272Z"
   },
   {
    "duration": 196,
    "start_time": "2022-07-01T06:56:33.641Z"
   },
   {
    "duration": 242,
    "start_time": "2022-07-01T06:56:42.471Z"
   },
   {
    "duration": 208,
    "start_time": "2022-07-01T06:56:56.128Z"
   },
   {
    "duration": 211,
    "start_time": "2022-07-01T06:57:20.013Z"
   },
   {
    "duration": 192,
    "start_time": "2022-07-01T06:57:37.217Z"
   },
   {
    "duration": 189,
    "start_time": "2022-07-01T06:57:45.518Z"
   },
   {
    "duration": 198,
    "start_time": "2022-07-01T06:58:24.016Z"
   },
   {
    "duration": 17,
    "start_time": "2022-07-01T07:37:24.240Z"
   },
   {
    "duration": 10,
    "start_time": "2022-07-01T07:37:38.188Z"
   },
   {
    "duration": 10,
    "start_time": "2022-07-01T07:37:42.829Z"
   },
   {
    "duration": 20,
    "start_time": "2022-07-01T07:37:50.398Z"
   },
   {
    "duration": 18,
    "start_time": "2022-07-01T07:39:31.445Z"
   },
   {
    "duration": 11,
    "start_time": "2022-07-01T07:41:21.146Z"
   },
   {
    "duration": 10,
    "start_time": "2022-07-01T07:41:28.138Z"
   },
   {
    "duration": 112,
    "start_time": "2022-07-01T07:41:33.476Z"
   },
   {
    "duration": 104,
    "start_time": "2022-07-01T08:08:23.744Z"
   },
   {
    "duration": 2029,
    "start_time": "2022-07-01T08:08:49.726Z"
   },
   {
    "duration": 1073,
    "start_time": "2022-07-01T08:13:08.763Z"
   },
   {
    "duration": 955,
    "start_time": "2022-07-01T08:15:44.153Z"
   },
   {
    "duration": 985,
    "start_time": "2022-07-01T08:16:01.805Z"
   },
   {
    "duration": 1138,
    "start_time": "2022-07-01T08:17:46.816Z"
   },
   {
    "duration": 48,
    "start_time": "2022-07-01T09:24:02.399Z"
   },
   {
    "duration": 16,
    "start_time": "2022-07-01T09:28:04.820Z"
   },
   {
    "duration": 21,
    "start_time": "2022-07-01T10:14:50.685Z"
   },
   {
    "duration": 8,
    "start_time": "2022-07-01T11:02:49.535Z"
   },
   {
    "duration": 14,
    "start_time": "2022-07-01T11:03:05.435Z"
   },
   {
    "duration": 22,
    "start_time": "2022-07-01T11:04:49.127Z"
   },
   {
    "duration": 14,
    "start_time": "2022-07-01T11:05:47.194Z"
   },
   {
    "duration": 11,
    "start_time": "2022-07-01T11:06:39.075Z"
   },
   {
    "duration": 12,
    "start_time": "2022-07-01T11:07:00.089Z"
   },
   {
    "duration": 11,
    "start_time": "2022-07-01T11:11:22.385Z"
   },
   {
    "duration": 12,
    "start_time": "2022-07-01T11:11:25.182Z"
   },
   {
    "duration": 15,
    "start_time": "2022-07-01T11:11:35.991Z"
   },
   {
    "duration": 17,
    "start_time": "2022-07-01T11:13:29.986Z"
   },
   {
    "duration": 8,
    "start_time": "2022-07-01T11:33:25.900Z"
   },
   {
    "duration": 11,
    "start_time": "2022-07-01T11:33:42.384Z"
   },
   {
    "duration": 1047,
    "start_time": "2022-07-01T11:37:19.894Z"
   },
   {
    "duration": 20,
    "start_time": "2022-07-01T11:37:39.974Z"
   },
   {
    "duration": 23,
    "start_time": "2022-07-01T11:42:48.172Z"
   },
   {
    "duration": 17,
    "start_time": "2022-07-01T11:45:05.758Z"
   },
   {
    "duration": 55,
    "start_time": "2022-07-01T15:55:26.481Z"
   },
   {
    "duration": 3989,
    "start_time": "2022-07-01T15:55:30.995Z"
   },
   {
    "duration": 2646,
    "start_time": "2022-07-01T15:55:34.987Z"
   },
   {
    "duration": 13,
    "start_time": "2022-07-01T15:55:37.635Z"
   },
   {
    "duration": 20,
    "start_time": "2022-07-01T15:55:37.650Z"
   },
   {
    "duration": 32,
    "start_time": "2022-07-01T15:55:37.680Z"
   },
   {
    "duration": 11,
    "start_time": "2022-07-01T15:55:37.713Z"
   },
   {
    "duration": 13,
    "start_time": "2022-07-01T15:55:37.726Z"
   },
   {
    "duration": 4,
    "start_time": "2022-07-01T15:55:37.740Z"
   },
   {
    "duration": 7,
    "start_time": "2022-07-01T15:55:37.745Z"
   },
   {
    "duration": 7,
    "start_time": "2022-07-01T15:55:37.754Z"
   },
   {
    "duration": 52,
    "start_time": "2022-07-01T15:55:37.762Z"
   },
   {
    "duration": 41,
    "start_time": "2022-07-01T15:55:37.815Z"
   },
   {
    "duration": 22,
    "start_time": "2022-07-01T15:55:37.857Z"
   },
   {
    "duration": 30,
    "start_time": "2022-07-01T15:55:37.888Z"
   },
   {
    "duration": 1126,
    "start_time": "2022-07-01T15:55:37.920Z"
   },
   {
    "duration": 2693,
    "start_time": "2022-07-01T15:55:39.047Z"
   },
   {
    "duration": 950,
    "start_time": "2022-07-01T15:55:41.742Z"
   },
   {
    "duration": 23,
    "start_time": "2022-07-01T15:55:42.698Z"
   },
   {
    "duration": 16,
    "start_time": "2022-07-01T15:55:42.722Z"
   },
   {
    "duration": 8,
    "start_time": "2022-07-01T15:55:42.739Z"
   },
   {
    "duration": 39,
    "start_time": "2022-07-01T15:55:42.748Z"
   },
   {
    "duration": 26,
    "start_time": "2022-07-01T15:55:42.789Z"
   },
   {
    "duration": 17,
    "start_time": "2022-07-01T15:55:42.817Z"
   },
   {
    "duration": 23,
    "start_time": "2022-07-01T15:55:42.835Z"
   },
   {
    "duration": 51,
    "start_time": "2022-07-02T06:15:57.765Z"
   },
   {
    "duration": 3598,
    "start_time": "2022-07-02T06:16:01.548Z"
   },
   {
    "duration": 2245,
    "start_time": "2022-07-02T06:16:05.149Z"
   },
   {
    "duration": 15,
    "start_time": "2022-07-02T06:16:07.397Z"
   },
   {
    "duration": 7,
    "start_time": "2022-07-02T06:16:07.414Z"
   },
   {
    "duration": 29,
    "start_time": "2022-07-02T06:16:07.423Z"
   },
   {
    "duration": 7,
    "start_time": "2022-07-02T06:16:07.454Z"
   },
   {
    "duration": 11,
    "start_time": "2022-07-02T06:16:07.463Z"
   },
   {
    "duration": 5,
    "start_time": "2022-07-02T06:16:07.476Z"
   },
   {
    "duration": 7,
    "start_time": "2022-07-02T06:16:07.483Z"
   },
   {
    "duration": 7,
    "start_time": "2022-07-02T06:16:07.491Z"
   },
   {
    "duration": 10,
    "start_time": "2022-07-02T06:16:07.500Z"
   },
   {
    "duration": 67,
    "start_time": "2022-07-02T06:16:07.512Z"
   },
   {
    "duration": 16,
    "start_time": "2022-07-02T06:16:07.581Z"
   },
   {
    "duration": 20,
    "start_time": "2022-07-02T06:16:07.600Z"
   },
   {
    "duration": 1069,
    "start_time": "2022-07-02T06:16:07.621Z"
   },
   {
    "duration": 2577,
    "start_time": "2022-07-02T06:16:08.691Z"
   },
   {
    "duration": 1001,
    "start_time": "2022-07-02T06:16:11.269Z"
   },
   {
    "duration": 19,
    "start_time": "2022-07-02T06:16:12.271Z"
   },
   {
    "duration": 18,
    "start_time": "2022-07-02T06:16:12.292Z"
   },
   {
    "duration": 7,
    "start_time": "2022-07-02T06:16:12.312Z"
   },
   {
    "duration": 36,
    "start_time": "2022-07-02T06:16:12.321Z"
   },
   {
    "duration": 20,
    "start_time": "2022-07-02T06:16:12.358Z"
   },
   {
    "duration": 19,
    "start_time": "2022-07-02T06:16:12.379Z"
   },
   {
    "duration": 28,
    "start_time": "2022-07-02T06:16:12.400Z"
   },
   {
    "duration": 11,
    "start_time": "2022-07-02T06:16:12.452Z"
   },
   {
    "duration": 98,
    "start_time": "2022-07-02T06:16:12.464Z"
   },
   {
    "duration": 15,
    "start_time": "2022-07-02T06:28:35.355Z"
   },
   {
    "duration": 5,
    "start_time": "2022-07-02T06:29:14.018Z"
   },
   {
    "duration": 7,
    "start_time": "2022-07-02T06:32:23.005Z"
   },
   {
    "duration": 24,
    "start_time": "2022-07-02T06:32:23.014Z"
   },
   {
    "duration": 49,
    "start_time": "2022-07-02T16:53:41.846Z"
   },
   {
    "duration": 3873,
    "start_time": "2022-07-02T16:53:45.362Z"
   },
   {
    "duration": 2180,
    "start_time": "2022-07-02T16:53:49.241Z"
   },
   {
    "duration": 25,
    "start_time": "2022-07-02T16:53:51.423Z"
   },
   {
    "duration": 7,
    "start_time": "2022-07-02T16:53:51.450Z"
   },
   {
    "duration": 19,
    "start_time": "2022-07-02T16:53:51.459Z"
   },
   {
    "duration": 8,
    "start_time": "2022-07-02T16:53:51.479Z"
   },
   {
    "duration": 18,
    "start_time": "2022-07-02T16:53:51.489Z"
   },
   {
    "duration": 17,
    "start_time": "2022-07-02T16:53:51.509Z"
   },
   {
    "duration": 11,
    "start_time": "2022-07-02T16:53:51.528Z"
   },
   {
    "duration": 4,
    "start_time": "2022-07-02T16:53:51.549Z"
   },
   {
    "duration": 16,
    "start_time": "2022-07-02T16:53:51.555Z"
   },
   {
    "duration": 42,
    "start_time": "2022-07-02T16:53:51.573Z"
   },
   {
    "duration": 23,
    "start_time": "2022-07-02T16:53:51.617Z"
   },
   {
    "duration": 22,
    "start_time": "2022-07-02T16:53:51.644Z"
   },
   {
    "duration": 1206,
    "start_time": "2022-07-02T16:53:51.668Z"
   },
   {
    "duration": 2885,
    "start_time": "2022-07-02T16:53:52.876Z"
   },
   {
    "duration": 1044,
    "start_time": "2022-07-02T16:53:55.763Z"
   },
   {
    "duration": 34,
    "start_time": "2022-07-02T16:53:56.809Z"
   },
   {
    "duration": 23,
    "start_time": "2022-07-02T16:53:56.845Z"
   },
   {
    "duration": 10,
    "start_time": "2022-07-02T16:53:56.870Z"
   },
   {
    "duration": 29,
    "start_time": "2022-07-02T16:53:56.883Z"
   },
   {
    "duration": 32,
    "start_time": "2022-07-02T16:53:56.913Z"
   },
   {
    "duration": 22,
    "start_time": "2022-07-02T16:53:56.947Z"
   },
   {
    "duration": 28,
    "start_time": "2022-07-02T16:53:56.970Z"
   },
   {
    "duration": 42,
    "start_time": "2022-07-02T16:53:56.999Z"
   },
   {
    "duration": 7,
    "start_time": "2022-07-02T16:53:57.043Z"
   },
   {
    "duration": 46,
    "start_time": "2022-07-02T16:53:57.051Z"
   },
   {
    "duration": 0,
    "start_time": "2022-07-02T16:53:57.099Z"
   },
   {
    "duration": 0,
    "start_time": "2022-07-02T16:53:57.101Z"
   },
   {
    "duration": 0,
    "start_time": "2022-07-02T16:53:57.103Z"
   },
   {
    "duration": 8,
    "start_time": "2022-07-02T16:54:02.799Z"
   },
   {
    "duration": 6,
    "start_time": "2022-07-02T17:01:00.312Z"
   },
   {
    "duration": 10,
    "start_time": "2022-07-02T17:01:06.919Z"
   },
   {
    "duration": 47,
    "start_time": "2022-07-03T07:26:57.377Z"
   },
   {
    "duration": 3600,
    "start_time": "2022-07-03T07:27:00.104Z"
   },
   {
    "duration": 2194,
    "start_time": "2022-07-03T07:27:03.708Z"
   },
   {
    "duration": 14,
    "start_time": "2022-07-03T07:27:05.903Z"
   },
   {
    "duration": 7,
    "start_time": "2022-07-03T07:27:05.920Z"
   },
   {
    "duration": 20,
    "start_time": "2022-07-03T07:27:05.929Z"
   },
   {
    "duration": 9,
    "start_time": "2022-07-03T07:27:05.951Z"
   },
   {
    "duration": 14,
    "start_time": "2022-07-03T07:27:05.962Z"
   },
   {
    "duration": 6,
    "start_time": "2022-07-03T07:27:05.978Z"
   },
   {
    "duration": 7,
    "start_time": "2022-07-03T07:27:05.985Z"
   },
   {
    "duration": 7,
    "start_time": "2022-07-03T07:27:06.031Z"
   },
   {
    "duration": 14,
    "start_time": "2022-07-03T07:27:06.043Z"
   },
   {
    "duration": 133,
    "start_time": "2022-07-03T07:27:06.060Z"
   },
   {
    "duration": 0,
    "start_time": "2022-07-03T07:27:06.195Z"
   },
   {
    "duration": 0,
    "start_time": "2022-07-03T07:27:06.197Z"
   },
   {
    "duration": 0,
    "start_time": "2022-07-03T07:27:06.199Z"
   },
   {
    "duration": 0,
    "start_time": "2022-07-03T07:27:06.200Z"
   },
   {
    "duration": 0,
    "start_time": "2022-07-03T07:27:06.202Z"
   },
   {
    "duration": 0,
    "start_time": "2022-07-03T07:27:06.203Z"
   },
   {
    "duration": 0,
    "start_time": "2022-07-03T07:27:06.204Z"
   },
   {
    "duration": 0,
    "start_time": "2022-07-03T07:27:06.206Z"
   },
   {
    "duration": 0,
    "start_time": "2022-07-03T07:27:06.207Z"
   },
   {
    "duration": 0,
    "start_time": "2022-07-03T07:27:06.209Z"
   },
   {
    "duration": 0,
    "start_time": "2022-07-03T07:27:06.210Z"
   },
   {
    "duration": 0,
    "start_time": "2022-07-03T07:27:06.230Z"
   },
   {
    "duration": 0,
    "start_time": "2022-07-03T07:27:06.232Z"
   },
   {
    "duration": 0,
    "start_time": "2022-07-03T07:27:06.234Z"
   },
   {
    "duration": 0,
    "start_time": "2022-07-03T07:27:06.235Z"
   },
   {
    "duration": 0,
    "start_time": "2022-07-03T07:27:06.237Z"
   },
   {
    "duration": 0,
    "start_time": "2022-07-03T07:27:06.239Z"
   },
   {
    "duration": 20,
    "start_time": "2022-07-03T07:27:53.404Z"
   },
   {
    "duration": 20,
    "start_time": "2022-07-03T07:28:11.696Z"
   },
   {
    "duration": 17,
    "start_time": "2022-07-03T07:28:25.786Z"
   },
   {
    "duration": 22,
    "start_time": "2022-07-03T07:29:11.155Z"
   },
   {
    "duration": 1494,
    "start_time": "2022-07-03T07:30:35.296Z"
   },
   {
    "duration": 6,
    "start_time": "2022-07-03T07:31:30.480Z"
   },
   {
    "duration": 9,
    "start_time": "2022-07-03T07:32:09.196Z"
   },
   {
    "duration": 7,
    "start_time": "2022-07-03T07:32:24.996Z"
   },
   {
    "duration": 4,
    "start_time": "2022-07-03T07:34:13.112Z"
   },
   {
    "duration": 135,
    "start_time": "2022-07-03T07:34:27.088Z"
   },
   {
    "duration": 4,
    "start_time": "2022-07-03T07:34:33.484Z"
   },
   {
    "duration": 5,
    "start_time": "2022-07-03T07:34:46.136Z"
   },
   {
    "duration": 5,
    "start_time": "2022-07-03T07:36:26.880Z"
   },
   {
    "duration": 4,
    "start_time": "2022-07-03T07:36:49.543Z"
   },
   {
    "duration": 51,
    "start_time": "2022-07-03T14:39:03.388Z"
   },
   {
    "duration": 2329,
    "start_time": "2022-07-03T14:39:19.147Z"
   },
   {
    "duration": 2116,
    "start_time": "2022-07-03T14:39:21.478Z"
   },
   {
    "duration": 12,
    "start_time": "2022-07-03T14:39:23.595Z"
   },
   {
    "duration": 7,
    "start_time": "2022-07-03T14:39:23.608Z"
   },
   {
    "duration": 21,
    "start_time": "2022-07-03T14:39:23.617Z"
   },
   {
    "duration": 40,
    "start_time": "2022-07-03T14:39:23.640Z"
   },
   {
    "duration": 129,
    "start_time": "2022-07-03T14:39:23.683Z"
   },
   {
    "duration": 5,
    "start_time": "2022-07-03T14:39:23.814Z"
   },
   {
    "duration": 38,
    "start_time": "2022-07-03T14:39:23.823Z"
   },
   {
    "duration": 4,
    "start_time": "2022-07-03T14:39:23.869Z"
   },
   {
    "duration": 5,
    "start_time": "2022-07-03T14:39:23.875Z"
   },
   {
    "duration": 8,
    "start_time": "2022-07-03T14:39:23.881Z"
   },
   {
    "duration": 4,
    "start_time": "2022-07-03T14:39:23.891Z"
   },
   {
    "duration": 39,
    "start_time": "2022-07-03T14:39:23.897Z"
   },
   {
    "duration": 25,
    "start_time": "2022-07-03T14:39:23.938Z"
   },
   {
    "duration": 23,
    "start_time": "2022-07-03T14:39:23.965Z"
   },
   {
    "duration": 1151,
    "start_time": "2022-07-03T14:39:23.990Z"
   },
   {
    "duration": 3050,
    "start_time": "2022-07-03T14:39:25.143Z"
   },
   {
    "duration": 1026,
    "start_time": "2022-07-03T14:39:28.195Z"
   },
   {
    "duration": 36,
    "start_time": "2022-07-03T14:39:29.223Z"
   },
   {
    "duration": 20,
    "start_time": "2022-07-03T14:39:29.263Z"
   },
   {
    "duration": 8,
    "start_time": "2022-07-03T14:39:29.285Z"
   },
   {
    "duration": 15,
    "start_time": "2022-07-03T14:39:29.295Z"
   },
   {
    "duration": 55,
    "start_time": "2022-07-03T14:39:29.323Z"
   },
   {
    "duration": 16,
    "start_time": "2022-07-03T14:39:29.380Z"
   },
   {
    "duration": 21,
    "start_time": "2022-07-03T14:39:29.397Z"
   },
   {
    "duration": 25,
    "start_time": "2022-07-03T14:39:29.419Z"
   },
   {
    "duration": 22,
    "start_time": "2022-07-03T14:39:29.448Z"
   },
   {
    "duration": 9,
    "start_time": "2022-07-03T14:39:29.472Z"
   },
   {
    "duration": 6,
    "start_time": "2022-07-03T14:39:29.483Z"
   },
   {
    "duration": 93,
    "start_time": "2022-07-03T16:55:23.357Z"
   },
   {
    "duration": 21,
    "start_time": "2022-07-03T16:55:54.436Z"
   },
   {
    "duration": 2537,
    "start_time": "2022-07-03T16:56:00.139Z"
   },
   {
    "duration": 2027,
    "start_time": "2022-07-03T16:56:02.679Z"
   },
   {
    "duration": 13,
    "start_time": "2022-07-03T16:56:04.708Z"
   },
   {
    "duration": 46,
    "start_time": "2022-07-03T16:56:04.725Z"
   },
   {
    "duration": 15,
    "start_time": "2022-07-03T16:56:04.774Z"
   },
   {
    "duration": 7,
    "start_time": "2022-07-03T16:56:04.790Z"
   },
   {
    "duration": 14,
    "start_time": "2022-07-03T16:56:04.799Z"
   },
   {
    "duration": 5,
    "start_time": "2022-07-03T16:56:04.816Z"
   },
   {
    "duration": 39,
    "start_time": "2022-07-03T16:56:04.823Z"
   },
   {
    "duration": 12,
    "start_time": "2022-07-03T16:56:04.863Z"
   },
   {
    "duration": 5,
    "start_time": "2022-07-03T16:56:04.877Z"
   },
   {
    "duration": 9,
    "start_time": "2022-07-03T16:56:04.883Z"
   },
   {
    "duration": 5,
    "start_time": "2022-07-03T16:56:04.893Z"
   },
   {
    "duration": 56,
    "start_time": "2022-07-03T16:56:04.900Z"
   },
   {
    "duration": 15,
    "start_time": "2022-07-03T16:56:04.958Z"
   },
   {
    "duration": 18,
    "start_time": "2022-07-03T16:56:04.975Z"
   },
   {
    "duration": 1421,
    "start_time": "2022-07-03T16:56:04.995Z"
   },
   {
    "duration": 3205,
    "start_time": "2022-07-03T16:56:06.418Z"
   },
   {
    "duration": 1036,
    "start_time": "2022-07-03T16:56:09.625Z"
   },
   {
    "duration": 24,
    "start_time": "2022-07-03T16:56:10.663Z"
   },
   {
    "duration": 18,
    "start_time": "2022-07-03T16:56:10.690Z"
   },
   {
    "duration": 16,
    "start_time": "2022-07-03T16:56:10.724Z"
   },
   {
    "duration": 36,
    "start_time": "2022-07-03T16:56:10.742Z"
   },
   {
    "duration": 19,
    "start_time": "2022-07-03T16:56:10.780Z"
   },
   {
    "duration": 18,
    "start_time": "2022-07-03T16:56:10.800Z"
   },
   {
    "duration": 47,
    "start_time": "2022-07-03T16:56:10.824Z"
   },
   {
    "duration": 13,
    "start_time": "2022-07-03T16:56:10.874Z"
   },
   {
    "duration": 5,
    "start_time": "2022-07-03T16:56:10.888Z"
   },
   {
    "duration": 33,
    "start_time": "2022-07-03T16:56:10.895Z"
   },
   {
    "duration": 33,
    "start_time": "2022-07-03T16:56:10.931Z"
   },
   {
    "duration": 24,
    "start_time": "2022-07-03T18:13:19.717Z"
   },
   {
    "duration": 3565,
    "start_time": "2022-07-03T20:46:54.396Z"
   },
   {
    "duration": 2416,
    "start_time": "2022-07-03T20:46:57.963Z"
   },
   {
    "duration": 13,
    "start_time": "2022-07-03T20:47:00.380Z"
   },
   {
    "duration": 7,
    "start_time": "2022-07-03T20:47:00.394Z"
   },
   {
    "duration": 20,
    "start_time": "2022-07-03T20:47:00.402Z"
   },
   {
    "duration": 27,
    "start_time": "2022-07-03T20:47:00.424Z"
   },
   {
    "duration": 44,
    "start_time": "2022-07-03T20:47:00.453Z"
   },
   {
    "duration": 5,
    "start_time": "2022-07-03T20:47:00.498Z"
   },
   {
    "duration": 5,
    "start_time": "2022-07-03T20:47:00.505Z"
   },
   {
    "duration": 5,
    "start_time": "2022-07-03T20:47:00.512Z"
   },
   {
    "duration": 8,
    "start_time": "2022-07-03T20:47:00.518Z"
   },
   {
    "duration": 11,
    "start_time": "2022-07-03T20:47:00.528Z"
   },
   {
    "duration": 4,
    "start_time": "2022-07-03T20:47:00.541Z"
   },
   {
    "duration": 50,
    "start_time": "2022-07-03T20:47:00.547Z"
   },
   {
    "duration": 13,
    "start_time": "2022-07-03T20:47:00.599Z"
   },
   {
    "duration": 27,
    "start_time": "2022-07-03T20:47:00.613Z"
   },
   {
    "duration": 915,
    "start_time": "2022-07-03T20:47:00.641Z"
   },
   {
    "duration": 2403,
    "start_time": "2022-07-03T20:47:01.557Z"
   },
   {
    "duration": 986,
    "start_time": "2022-07-03T20:47:03.961Z"
   },
   {
    "duration": 19,
    "start_time": "2022-07-03T20:47:04.948Z"
   },
   {
    "duration": 18,
    "start_time": "2022-07-03T20:47:04.968Z"
   },
   {
    "duration": 9,
    "start_time": "2022-07-03T20:47:04.987Z"
   },
   {
    "duration": 36,
    "start_time": "2022-07-03T20:47:04.998Z"
   },
   {
    "duration": 19,
    "start_time": "2022-07-03T20:47:05.036Z"
   },
   {
    "duration": 17,
    "start_time": "2022-07-03T20:47:05.057Z"
   },
   {
    "duration": 53,
    "start_time": "2022-07-03T20:47:05.076Z"
   },
   {
    "duration": 13,
    "start_time": "2022-07-03T20:47:05.131Z"
   },
   {
    "duration": 5,
    "start_time": "2022-07-03T20:47:05.147Z"
   },
   {
    "duration": 15,
    "start_time": "2022-07-03T20:47:05.158Z"
   },
   {
    "duration": 21,
    "start_time": "2022-07-03T20:47:05.175Z"
   },
   {
    "duration": 95,
    "start_time": "2022-07-04T11:44:23.190Z"
   },
   {
    "duration": 3476,
    "start_time": "2022-07-04T11:51:30.016Z"
   },
   {
    "duration": 2121,
    "start_time": "2022-07-04T11:51:33.494Z"
   },
   {
    "duration": 12,
    "start_time": "2022-07-04T11:51:35.617Z"
   },
   {
    "duration": 7,
    "start_time": "2022-07-04T11:52:02.591Z"
   },
   {
    "duration": 12,
    "start_time": "2022-07-04T11:52:03.369Z"
   },
   {
    "duration": 6,
    "start_time": "2022-07-04T11:52:04.631Z"
   },
   {
    "duration": 8,
    "start_time": "2022-07-04T11:52:09.801Z"
   },
   {
    "duration": 5,
    "start_time": "2022-07-04T11:52:10.470Z"
   },
   {
    "duration": 4,
    "start_time": "2022-07-04T11:52:10.711Z"
   },
   {
    "duration": 3,
    "start_time": "2022-07-04T11:52:17.384Z"
   },
   {
    "duration": 4,
    "start_time": "2022-07-04T11:52:17.815Z"
   },
   {
    "duration": 96,
    "start_time": "2022-07-04T11:52:30.526Z"
   },
   {
    "duration": 8,
    "start_time": "2022-07-04T11:52:36.967Z"
   },
   {
    "duration": 5,
    "start_time": "2022-07-04T11:52:37.166Z"
   },
   {
    "duration": 39,
    "start_time": "2022-07-04T11:52:37.816Z"
   },
   {
    "duration": 14,
    "start_time": "2022-07-04T11:52:38.627Z"
   },
   {
    "duration": 17,
    "start_time": "2022-07-04T11:52:39.487Z"
   },
   {
    "duration": 1059,
    "start_time": "2022-07-04T11:52:39.906Z"
   },
   {
    "duration": 2470,
    "start_time": "2022-07-04T11:52:42.109Z"
   },
   {
    "duration": 950,
    "start_time": "2022-07-04T11:52:45.489Z"
   },
   {
    "duration": 17,
    "start_time": "2022-07-04T11:52:46.609Z"
   },
   {
    "duration": 18,
    "start_time": "2022-07-04T11:52:47.329Z"
   },
   {
    "duration": 8,
    "start_time": "2022-07-04T11:52:47.902Z"
   },
   {
    "duration": 13,
    "start_time": "2022-07-04T11:52:49.162Z"
   },
   {
    "duration": 16,
    "start_time": "2022-07-04T11:52:49.692Z"
   },
   {
    "duration": 17,
    "start_time": "2022-07-04T11:52:50.364Z"
   },
   {
    "duration": 23,
    "start_time": "2022-07-04T11:52:50.891Z"
   },
   {
    "duration": 86,
    "start_time": "2022-07-04T12:32:52.680Z"
   },
   {
    "duration": 105,
    "start_time": "2022-07-04T12:34:11.869Z"
   },
   {
    "duration": 39,
    "start_time": "2022-07-04T17:39:45.744Z"
   },
   {
    "duration": 3331,
    "start_time": "2022-07-04T17:39:51.269Z"
   },
   {
    "duration": 2121,
    "start_time": "2022-07-04T17:39:54.602Z"
   },
   {
    "duration": 11,
    "start_time": "2022-07-04T17:39:56.725Z"
   },
   {
    "duration": 8,
    "start_time": "2022-07-04T17:39:56.738Z"
   },
   {
    "duration": 14,
    "start_time": "2022-07-04T17:39:56.747Z"
   },
   {
    "duration": 6,
    "start_time": "2022-07-04T17:39:56.762Z"
   },
   {
    "duration": 27,
    "start_time": "2022-07-04T17:39:56.770Z"
   },
   {
    "duration": 4,
    "start_time": "2022-07-04T17:39:56.799Z"
   },
   {
    "duration": 6,
    "start_time": "2022-07-04T17:39:56.804Z"
   },
   {
    "duration": 3,
    "start_time": "2022-07-04T17:39:56.812Z"
   },
   {
    "duration": 7,
    "start_time": "2022-07-04T17:39:56.817Z"
   },
   {
    "duration": 9,
    "start_time": "2022-07-04T17:39:56.826Z"
   },
   {
    "duration": 4,
    "start_time": "2022-07-04T17:39:56.837Z"
   },
   {
    "duration": 60,
    "start_time": "2022-07-04T17:39:56.842Z"
   },
   {
    "duration": 13,
    "start_time": "2022-07-04T17:39:56.904Z"
   },
   {
    "duration": 15,
    "start_time": "2022-07-04T17:39:56.918Z"
   },
   {
    "duration": 952,
    "start_time": "2022-07-04T17:39:56.934Z"
   },
   {
    "duration": 2115,
    "start_time": "2022-07-04T17:39:57.890Z"
   },
   {
    "duration": 925,
    "start_time": "2022-07-04T17:40:00.006Z"
   },
   {
    "duration": 8,
    "start_time": "2022-07-04T17:40:00.933Z"
   },
   {
    "duration": 17,
    "start_time": "2022-07-04T17:40:00.943Z"
   },
   {
    "duration": 31,
    "start_time": "2022-07-04T17:40:00.961Z"
   },
   {
    "duration": 8,
    "start_time": "2022-07-04T17:40:00.993Z"
   },
   {
    "duration": 20,
    "start_time": "2022-07-04T17:40:01.002Z"
   },
   {
    "duration": 17,
    "start_time": "2022-07-04T17:40:01.024Z"
   },
   {
    "duration": 14,
    "start_time": "2022-07-04T17:40:01.043Z"
   },
   {
    "duration": 35,
    "start_time": "2022-07-04T17:40:01.059Z"
   },
   {
    "duration": 9,
    "start_time": "2022-07-04T17:40:01.098Z"
   },
   {
    "duration": 5,
    "start_time": "2022-07-04T17:40:01.108Z"
   },
   {
    "duration": 7,
    "start_time": "2022-07-04T17:40:01.114Z"
   },
   {
    "duration": 5,
    "start_time": "2022-07-04T17:40:01.122Z"
   },
   {
    "duration": 86,
    "start_time": "2022-07-04T17:44:52.163Z"
   },
   {
    "duration": 41,
    "start_time": "2022-07-04T17:48:20.714Z"
   },
   {
    "duration": 3025,
    "start_time": "2022-07-04T17:48:29.156Z"
   },
   {
    "duration": 1880,
    "start_time": "2022-07-04T17:48:32.183Z"
   },
   {
    "duration": 12,
    "start_time": "2022-07-04T17:48:34.065Z"
   },
   {
    "duration": 8,
    "start_time": "2022-07-04T17:48:34.080Z"
   },
   {
    "duration": 11,
    "start_time": "2022-07-04T17:48:34.090Z"
   },
   {
    "duration": 6,
    "start_time": "2022-07-04T17:48:34.103Z"
   },
   {
    "duration": 9,
    "start_time": "2022-07-04T17:48:34.111Z"
   },
   {
    "duration": 4,
    "start_time": "2022-07-04T17:48:34.122Z"
   },
   {
    "duration": 5,
    "start_time": "2022-07-04T17:48:34.128Z"
   },
   {
    "duration": 4,
    "start_time": "2022-07-04T17:48:34.136Z"
   },
   {
    "duration": 5,
    "start_time": "2022-07-04T17:48:34.141Z"
   },
   {
    "duration": 50,
    "start_time": "2022-07-04T17:48:34.147Z"
   },
   {
    "duration": 4,
    "start_time": "2022-07-04T17:48:34.198Z"
   },
   {
    "duration": 40,
    "start_time": "2022-07-04T17:48:34.204Z"
   },
   {
    "duration": 12,
    "start_time": "2022-07-04T17:48:34.245Z"
   },
   {
    "duration": 33,
    "start_time": "2022-07-04T17:48:34.259Z"
   },
   {
    "duration": 860,
    "start_time": "2022-07-04T17:48:34.294Z"
   },
   {
    "duration": 2241,
    "start_time": "2022-07-04T17:48:35.156Z"
   },
   {
    "duration": 908,
    "start_time": "2022-07-04T17:48:37.398Z"
   },
   {
    "duration": 9,
    "start_time": "2022-07-04T17:48:38.308Z"
   },
   {
    "duration": 81,
    "start_time": "2022-07-04T17:48:38.318Z"
   },
   {
    "duration": 0,
    "start_time": "2022-07-04T17:48:38.401Z"
   },
   {
    "duration": 0,
    "start_time": "2022-07-04T17:48:38.402Z"
   },
   {
    "duration": 0,
    "start_time": "2022-07-04T17:48:38.402Z"
   },
   {
    "duration": 0,
    "start_time": "2022-07-04T17:48:38.403Z"
   },
   {
    "duration": 0,
    "start_time": "2022-07-04T17:48:38.404Z"
   },
   {
    "duration": 0,
    "start_time": "2022-07-04T17:48:38.405Z"
   },
   {
    "duration": 0,
    "start_time": "2022-07-04T17:48:38.406Z"
   },
   {
    "duration": 0,
    "start_time": "2022-07-04T17:48:38.407Z"
   },
   {
    "duration": 0,
    "start_time": "2022-07-04T17:48:38.408Z"
   },
   {
    "duration": 0,
    "start_time": "2022-07-04T17:48:38.409Z"
   },
   {
    "duration": 0,
    "start_time": "2022-07-04T17:48:38.411Z"
   },
   {
    "duration": 6,
    "start_time": "2022-07-04T17:53:32.384Z"
   },
   {
    "duration": 11,
    "start_time": "2022-07-04T17:53:38.520Z"
   },
   {
    "duration": 20,
    "start_time": "2022-07-04T17:53:47.464Z"
   },
   {
    "duration": 4,
    "start_time": "2022-07-04T17:54:20.230Z"
   },
   {
    "duration": 20,
    "start_time": "2022-07-04T17:54:28.714Z"
   },
   {
    "duration": 1084,
    "start_time": "2022-07-04T17:55:07.792Z"
   },
   {
    "duration": 5,
    "start_time": "2022-07-04T18:10:37.248Z"
   },
   {
    "duration": 15,
    "start_time": "2022-07-04T18:31:48.951Z"
   },
   {
    "duration": 13,
    "start_time": "2022-07-04T18:31:55.072Z"
   },
   {
    "duration": 1750,
    "start_time": "2022-07-04T18:31:59.206Z"
   },
   {
    "duration": 2179,
    "start_time": "2022-07-04T18:32:00.958Z"
   },
   {
    "duration": 10,
    "start_time": "2022-07-04T18:32:03.138Z"
   },
   {
    "duration": 7,
    "start_time": "2022-07-04T18:32:03.149Z"
   },
   {
    "duration": 11,
    "start_time": "2022-07-04T18:32:03.157Z"
   },
   {
    "duration": 5,
    "start_time": "2022-07-04T18:32:03.169Z"
   },
   {
    "duration": 8,
    "start_time": "2022-07-04T18:32:03.175Z"
   },
   {
    "duration": 9,
    "start_time": "2022-07-04T18:32:03.184Z"
   },
   {
    "duration": 8,
    "start_time": "2022-07-04T18:32:03.194Z"
   },
   {
    "duration": 4,
    "start_time": "2022-07-04T18:32:03.204Z"
   },
   {
    "duration": 4,
    "start_time": "2022-07-04T18:32:03.209Z"
   },
   {
    "duration": 8,
    "start_time": "2022-07-04T18:32:03.215Z"
   },
   {
    "duration": 3,
    "start_time": "2022-07-04T18:32:03.225Z"
   },
   {
    "duration": 42,
    "start_time": "2022-07-04T18:32:03.230Z"
   },
   {
    "duration": 27,
    "start_time": "2022-07-04T18:32:03.273Z"
   },
   {
    "duration": 14,
    "start_time": "2022-07-04T18:32:03.302Z"
   },
   {
    "duration": 844,
    "start_time": "2022-07-04T18:32:03.318Z"
   },
   {
    "duration": 2199,
    "start_time": "2022-07-04T18:32:04.164Z"
   },
   {
    "duration": 963,
    "start_time": "2022-07-04T18:32:06.365Z"
   },
   {
    "duration": 5,
    "start_time": "2022-07-04T18:32:07.329Z"
   },
   {
    "duration": 22,
    "start_time": "2022-07-04T18:32:07.335Z"
   },
   {
    "duration": 1095,
    "start_time": "2022-07-04T18:32:07.358Z"
   },
   {
    "duration": 15,
    "start_time": "2022-07-04T18:32:08.455Z"
   },
   {
    "duration": 29,
    "start_time": "2022-07-04T18:32:08.472Z"
   },
   {
    "duration": 6,
    "start_time": "2022-07-04T18:32:08.503Z"
   },
   {
    "duration": 14,
    "start_time": "2022-07-04T18:32:08.511Z"
   },
   {
    "duration": 14,
    "start_time": "2022-07-04T18:32:08.526Z"
   },
   {
    "duration": 13,
    "start_time": "2022-07-04T18:32:08.543Z"
   },
   {
    "duration": 38,
    "start_time": "2022-07-04T18:32:08.558Z"
   },
   {
    "duration": 8,
    "start_time": "2022-07-04T18:32:08.598Z"
   },
   {
    "duration": 5,
    "start_time": "2022-07-04T18:32:08.607Z"
   },
   {
    "duration": 6,
    "start_time": "2022-07-04T18:32:08.613Z"
   },
   {
    "duration": 5,
    "start_time": "2022-07-04T18:32:08.620Z"
   },
   {
    "duration": 11,
    "start_time": "2022-07-04T18:33:11.649Z"
   },
   {
    "duration": 225,
    "start_time": "2022-07-04T18:37:07.409Z"
   },
   {
    "duration": 123,
    "start_time": "2022-07-04T18:42:32.163Z"
   },
   {
    "duration": 1752,
    "start_time": "2022-07-04T18:42:45.697Z"
   },
   {
    "duration": 2691,
    "start_time": "2022-07-04T18:42:47.452Z"
   },
   {
    "duration": 11,
    "start_time": "2022-07-04T18:42:50.145Z"
   },
   {
    "duration": 6,
    "start_time": "2022-07-04T18:42:50.157Z"
   },
   {
    "duration": 11,
    "start_time": "2022-07-04T18:42:50.166Z"
   },
   {
    "duration": 5,
    "start_time": "2022-07-04T18:42:50.179Z"
   },
   {
    "duration": 12,
    "start_time": "2022-07-04T18:42:50.186Z"
   },
   {
    "duration": 16,
    "start_time": "2022-07-04T18:42:50.199Z"
   },
   {
    "duration": 6,
    "start_time": "2022-07-04T18:42:50.216Z"
   },
   {
    "duration": 8,
    "start_time": "2022-07-04T18:42:50.224Z"
   },
   {
    "duration": 5,
    "start_time": "2022-07-04T18:42:50.234Z"
   },
   {
    "duration": 8,
    "start_time": "2022-07-04T18:42:50.241Z"
   },
   {
    "duration": 7,
    "start_time": "2022-07-04T18:42:50.250Z"
   },
   {
    "duration": 39,
    "start_time": "2022-07-04T18:42:50.259Z"
   },
   {
    "duration": 12,
    "start_time": "2022-07-04T18:42:50.299Z"
   },
   {
    "duration": 13,
    "start_time": "2022-07-04T18:42:50.312Z"
   },
   {
    "duration": 923,
    "start_time": "2022-07-04T18:42:50.326Z"
   },
   {
    "duration": 2146,
    "start_time": "2022-07-04T18:42:51.251Z"
   },
   {
    "duration": 810,
    "start_time": "2022-07-04T18:42:53.399Z"
   },
   {
    "duration": 5,
    "start_time": "2022-07-04T18:42:54.210Z"
   },
   {
    "duration": 44,
    "start_time": "2022-07-04T18:42:54.216Z"
   },
   {
    "duration": 1091,
    "start_time": "2022-07-04T18:42:54.261Z"
   },
   {
    "duration": 17,
    "start_time": "2022-07-04T18:42:55.353Z"
   },
   {
    "duration": 138,
    "start_time": "2022-07-04T18:42:55.371Z"
   },
   {
    "duration": 16,
    "start_time": "2022-07-04T18:42:55.510Z"
   },
   {
    "duration": 7,
    "start_time": "2022-07-04T18:42:55.527Z"
   },
   {
    "duration": 13,
    "start_time": "2022-07-04T18:42:55.535Z"
   },
   {
    "duration": 18,
    "start_time": "2022-07-04T18:42:55.549Z"
   },
   {
    "duration": 35,
    "start_time": "2022-07-04T18:42:55.568Z"
   },
   {
    "duration": 20,
    "start_time": "2022-07-04T18:42:55.604Z"
   },
   {
    "duration": 11,
    "start_time": "2022-07-04T18:42:55.626Z"
   },
   {
    "duration": 16,
    "start_time": "2022-07-04T18:42:55.638Z"
   },
   {
    "duration": 14,
    "start_time": "2022-07-04T18:42:55.655Z"
   },
   {
    "duration": 9,
    "start_time": "2022-07-04T18:42:55.670Z"
   },
   {
    "duration": 106,
    "start_time": "2022-07-04T18:43:09.692Z"
   },
   {
    "duration": 49,
    "start_time": "2022-07-04T20:09:40.325Z"
   },
   {
    "duration": 3626,
    "start_time": "2022-07-04T20:09:44.587Z"
   },
   {
    "duration": 1885,
    "start_time": "2022-07-04T20:09:48.216Z"
   },
   {
    "duration": 13,
    "start_time": "2022-07-04T20:09:50.102Z"
   },
   {
    "duration": 6,
    "start_time": "2022-07-04T20:09:50.117Z"
   },
   {
    "duration": 13,
    "start_time": "2022-07-04T20:09:50.125Z"
   },
   {
    "duration": 24,
    "start_time": "2022-07-04T20:09:50.140Z"
   },
   {
    "duration": 9,
    "start_time": "2022-07-04T20:09:50.166Z"
   },
   {
    "duration": 4,
    "start_time": "2022-07-04T20:09:50.177Z"
   },
   {
    "duration": 7,
    "start_time": "2022-07-04T20:09:50.182Z"
   },
   {
    "duration": 10,
    "start_time": "2022-07-04T20:09:50.192Z"
   },
   {
    "duration": 6,
    "start_time": "2022-07-04T20:09:50.203Z"
   },
   {
    "duration": 10,
    "start_time": "2022-07-04T20:09:50.210Z"
   },
   {
    "duration": 5,
    "start_time": "2022-07-04T20:09:50.221Z"
   },
   {
    "duration": 63,
    "start_time": "2022-07-04T20:09:50.227Z"
   },
   {
    "duration": 14,
    "start_time": "2022-07-04T20:09:50.292Z"
   },
   {
    "duration": 17,
    "start_time": "2022-07-04T20:09:50.308Z"
   },
   {
    "duration": 1014,
    "start_time": "2022-07-04T20:09:50.327Z"
   },
   {
    "duration": 2650,
    "start_time": "2022-07-04T20:09:51.342Z"
   },
   {
    "duration": 1002,
    "start_time": "2022-07-04T20:09:53.994Z"
   },
   {
    "duration": 4,
    "start_time": "2022-07-04T20:09:54.998Z"
   },
   {
    "duration": 30,
    "start_time": "2022-07-04T20:09:55.004Z"
   },
   {
    "duration": 1286,
    "start_time": "2022-07-04T20:09:55.035Z"
   },
   {
    "duration": 20,
    "start_time": "2022-07-04T20:09:56.322Z"
   },
   {
    "duration": 1200,
    "start_time": "2022-07-04T20:09:56.343Z"
   },
   {
    "duration": 0,
    "start_time": "2022-07-04T20:09:57.545Z"
   },
   {
    "duration": 0,
    "start_time": "2022-07-04T20:09:57.545Z"
   },
   {
    "duration": 0,
    "start_time": "2022-07-04T20:09:57.546Z"
   },
   {
    "duration": 0,
    "start_time": "2022-07-04T20:09:57.548Z"
   },
   {
    "duration": 0,
    "start_time": "2022-07-04T20:09:57.549Z"
   },
   {
    "duration": 0,
    "start_time": "2022-07-04T20:09:57.550Z"
   },
   {
    "duration": 0,
    "start_time": "2022-07-04T20:09:57.551Z"
   },
   {
    "duration": 0,
    "start_time": "2022-07-04T20:09:57.552Z"
   },
   {
    "duration": 0,
    "start_time": "2022-07-04T20:09:57.553Z"
   },
   {
    "duration": 0,
    "start_time": "2022-07-04T20:09:57.555Z"
   },
   {
    "duration": 1041,
    "start_time": "2022-07-04T20:11:03.205Z"
   },
   {
    "duration": 127,
    "start_time": "2022-07-04T20:11:21.997Z"
   },
   {
    "duration": 120,
    "start_time": "2022-07-04T20:11:39.479Z"
   },
   {
    "duration": 135,
    "start_time": "2022-07-04T20:13:15.525Z"
   },
   {
    "duration": 15,
    "start_time": "2022-07-04T20:20:18.558Z"
   },
   {
    "duration": 2208,
    "start_time": "2022-07-04T20:20:28.769Z"
   },
   {
    "duration": 2396,
    "start_time": "2022-07-04T20:20:30.980Z"
   },
   {
    "duration": 13,
    "start_time": "2022-07-04T20:20:33.378Z"
   },
   {
    "duration": 8,
    "start_time": "2022-07-04T20:20:33.393Z"
   },
   {
    "duration": 13,
    "start_time": "2022-07-04T20:20:33.402Z"
   },
   {
    "duration": 6,
    "start_time": "2022-07-04T20:20:33.417Z"
   },
   {
    "duration": 38,
    "start_time": "2022-07-04T20:20:33.425Z"
   },
   {
    "duration": 6,
    "start_time": "2022-07-04T20:20:33.464Z"
   },
   {
    "duration": 7,
    "start_time": "2022-07-04T20:20:33.471Z"
   },
   {
    "duration": 6,
    "start_time": "2022-07-04T20:20:33.481Z"
   },
   {
    "duration": 10,
    "start_time": "2022-07-04T20:20:33.488Z"
   },
   {
    "duration": 14,
    "start_time": "2022-07-04T20:20:33.499Z"
   },
   {
    "duration": 4,
    "start_time": "2022-07-04T20:20:33.515Z"
   },
   {
    "duration": 59,
    "start_time": "2022-07-04T20:20:33.520Z"
   },
   {
    "duration": 13,
    "start_time": "2022-07-04T20:20:33.581Z"
   },
   {
    "duration": 16,
    "start_time": "2022-07-04T20:20:33.596Z"
   },
   {
    "duration": 1161,
    "start_time": "2022-07-04T20:20:33.613Z"
   },
   {
    "duration": 2451,
    "start_time": "2022-07-04T20:20:34.776Z"
   },
   {
    "duration": 974,
    "start_time": "2022-07-04T20:20:37.229Z"
   },
   {
    "duration": 6,
    "start_time": "2022-07-04T20:20:38.205Z"
   },
   {
    "duration": 27,
    "start_time": "2022-07-04T20:20:38.212Z"
   },
   {
    "duration": 1260,
    "start_time": "2022-07-04T20:20:38.241Z"
   },
   {
    "duration": 20,
    "start_time": "2022-07-04T20:20:39.502Z"
   },
   {
    "duration": 150,
    "start_time": "2022-07-04T20:20:39.523Z"
   },
   {
    "duration": 17,
    "start_time": "2022-07-04T20:20:39.675Z"
   },
   {
    "duration": 8,
    "start_time": "2022-07-04T20:20:39.694Z"
   },
   {
    "duration": 17,
    "start_time": "2022-07-04T20:20:39.704Z"
   },
   {
    "duration": 17,
    "start_time": "2022-07-04T20:20:39.724Z"
   },
   {
    "duration": 34,
    "start_time": "2022-07-04T20:20:39.743Z"
   },
   {
    "duration": 23,
    "start_time": "2022-07-04T20:20:39.778Z"
   },
   {
    "duration": 10,
    "start_time": "2022-07-04T20:20:39.803Z"
   },
   {
    "duration": 5,
    "start_time": "2022-07-04T20:20:39.814Z"
   },
   {
    "duration": 9,
    "start_time": "2022-07-04T20:20:39.820Z"
   },
   {
    "duration": 6,
    "start_time": "2022-07-04T20:20:39.863Z"
   },
   {
    "duration": 168,
    "start_time": "2022-07-04T20:22:10.314Z"
   },
   {
    "duration": 210,
    "start_time": "2022-07-04T20:23:02.583Z"
   },
   {
    "duration": 35,
    "start_time": "2022-07-04T20:28:44.594Z"
   },
   {
    "duration": 30,
    "start_time": "2022-07-04T20:29:09.906Z"
   },
   {
    "duration": 25,
    "start_time": "2022-07-04T20:31:02.333Z"
   },
   {
    "duration": 30400,
    "start_time": "2022-07-04T20:32:34.014Z"
   },
   {
    "duration": 31779,
    "start_time": "2022-07-04T20:34:27.937Z"
   },
   {
    "duration": 10,
    "start_time": "2022-07-04T20:35:49.647Z"
   },
   {
    "duration": 11,
    "start_time": "2022-07-04T20:35:51.140Z"
   },
   {
    "duration": 8,
    "start_time": "2022-07-04T20:35:55.172Z"
   },
   {
    "duration": 10,
    "start_time": "2022-07-04T20:35:56.151Z"
   },
   {
    "duration": 173,
    "start_time": "2022-07-04T20:36:05.692Z"
   },
   {
    "duration": 1315,
    "start_time": "2022-07-04T20:37:06.552Z"
   },
   {
    "duration": 17,
    "start_time": "2022-07-04T20:37:39.362Z"
   },
   {
    "duration": 19,
    "start_time": "2022-07-04T20:38:05.257Z"
   },
   {
    "duration": 16,
    "start_time": "2022-07-04T20:38:14.096Z"
   },
   {
    "duration": 967,
    "start_time": "2022-07-04T20:38:44.961Z"
   },
   {
    "duration": 178,
    "start_time": "2022-07-04T20:38:56.519Z"
   },
   {
    "duration": 200,
    "start_time": "2022-07-04T20:40:13.286Z"
   },
   {
    "duration": 173,
    "start_time": "2022-07-04T20:45:06.276Z"
   }
  ],
  "kernelspec": {
   "display_name": "Python 3 (ipykernel)",
   "language": "python",
   "name": "python3"
  },
  "language_info": {
   "codemirror_mode": {
    "name": "ipython",
    "version": 3
   },
   "file_extension": ".py",
   "mimetype": "text/x-python",
   "name": "python",
   "nbconvert_exporter": "python",
   "pygments_lexer": "ipython3",
   "version": "3.9.5"
  },
  "toc": {
   "base_numbering": 1,
   "nav_menu": {},
   "number_sections": true,
   "sideBar": true,
   "skip_h1_title": true,
   "title_cell": "Table of Contents",
   "title_sidebar": "Contents",
   "toc_cell": false,
   "toc_position": {
    "height": "calc(100% - 180px)",
    "left": "10px",
    "top": "150px",
    "width": "299.766px"
   },
   "toc_section_display": true,
   "toc_window_display": true
  }
 },
 "nbformat": 4,
 "nbformat_minor": 2
}
